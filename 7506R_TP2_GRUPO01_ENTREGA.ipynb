{
 "cells": [
  {
   "cell_type": "markdown",
   "metadata": {
    "pycharm": {
     "name": "#%% md\n"
    }
   },
   "source": [
    "# 7506 - Trabajo Práctico 2"
   ]
  },
  {
   "cell_type": "markdown",
   "metadata": {
    "pycharm": {
     "name": "#%% md\n"
    }
   },
   "source": [
    "---"
   ]
  },
  {
   "cell_type": "markdown",
   "metadata": {
    "pycharm": {
     "name": "#%% md\n"
    }
   },
   "source": [
    "## Introducción"
   ]
  },
  {
   "cell_type": "markdown",
   "metadata": {
    "pycharm": {
     "name": "#%% md\n"
    }
   },
   "source": [
    "### Librerías"
   ]
  },
  {
   "cell_type": "code",
   "execution_count": 1,
   "metadata": {
    "collapsed": false,
    "jupyter": {
     "outputs_hidden": false
    },
    "pycharm": {
     "name": "#%%\n"
    }
   },
   "outputs": [],
   "source": [
    "import pandas as pd\n",
    "import numpy as np\n",
    "import re\n",
    "from sklearn.model_selection import train_test_split\n",
    "from sklearn.preprocessing import StandardScaler\n",
    "import tensorflow as tf\n",
    "from tensorflow import keras\n",
    "import keras_tuner as kt\n",
    "import matplotlib.pyplot as plt\n",
    "from matplotlib import style"
   ]
  },
  {
   "cell_type": "code",
   "execution_count": 2,
   "metadata": {
    "collapsed": false,
    "jupyter": {
     "outputs_hidden": false
    },
    "pycharm": {
     "name": "#%%\n"
    }
   },
   "outputs": [
    {
     "data": {
      "text/html": [
       "<div>\n",
       "<style scoped>\n",
       "    .dataframe tbody tr th:only-of-type {\n",
       "        vertical-align: middle;\n",
       "    }\n",
       "\n",
       "    .dataframe tbody tr th {\n",
       "        vertical-align: top;\n",
       "    }\n",
       "\n",
       "    .dataframe thead th {\n",
       "        text-align: right;\n",
       "    }\n",
       "</style>\n",
       "<table border=\"1\" class=\"dataframe\">\n",
       "  <thead>\n",
       "    <tr style=\"text-align: right;\">\n",
       "      <th></th>\n",
       "      <th>start_date</th>\n",
       "      <th>end_date</th>\n",
       "      <th>latitud</th>\n",
       "      <th>longitud</th>\n",
       "      <th>place_l3</th>\n",
       "      <th>property_type</th>\n",
       "      <th>property_rooms</th>\n",
       "      <th>property_bedrooms</th>\n",
       "      <th>property_surface_total</th>\n",
       "      <th>property_surface_covered</th>\n",
       "      <th>property_price</th>\n",
       "      <th>property_title</th>\n",
       "    </tr>\n",
       "  </thead>\n",
       "  <tbody>\n",
       "    <tr>\n",
       "      <th>0</th>\n",
       "      <td>2021-07-29</td>\n",
       "      <td>2021-09-06 00:00:00.000000000</td>\n",
       "      <td>-34.564800</td>\n",
       "      <td>-58.444631</td>\n",
       "      <td>Belgrano</td>\n",
       "      <td>Departamento</td>\n",
       "      <td>5.0</td>\n",
       "      <td>4.0</td>\n",
       "      <td>279.0</td>\n",
       "      <td>245.0</td>\n",
       "      <td>1000000.0</td>\n",
       "      <td>Espectacular torre en la mejor zona de Belgran...</td>\n",
       "    </tr>\n",
       "    <tr>\n",
       "      <th>1</th>\n",
       "      <td>2021-12-16</td>\n",
       "      <td>2022-02-09 00:00:00.000000000</td>\n",
       "      <td>-34.591359</td>\n",
       "      <td>-58.418809</td>\n",
       "      <td>Palermo</td>\n",
       "      <td>Departamento</td>\n",
       "      <td>2.0</td>\n",
       "      <td>1.0</td>\n",
       "      <td>42.0</td>\n",
       "      <td>42.0</td>\n",
       "      <td>89900.0</td>\n",
       "      <td>VENTA 2 AMBIENTES RECICLADO - PALERMO</td>\n",
       "    </tr>\n",
       "    <tr>\n",
       "      <th>2</th>\n",
       "      <td>2021-06-19</td>\n",
       "      <td>2021-09-01 15:14:13.531306906</td>\n",
       "      <td>-34.602632</td>\n",
       "      <td>-58.428399</td>\n",
       "      <td>Almagro</td>\n",
       "      <td>Departamento</td>\n",
       "      <td>2.0</td>\n",
       "      <td>1.0</td>\n",
       "      <td>46.0</td>\n",
       "      <td>42.0</td>\n",
       "      <td>119900.0</td>\n",
       "      <td>2 ambientes al frente con balcón. A estrenar.</td>\n",
       "    </tr>\n",
       "    <tr>\n",
       "      <th>3</th>\n",
       "      <td>2021-12-16</td>\n",
       "      <td>2022-02-09 00:00:00.000000000</td>\n",
       "      <td>-34.564290</td>\n",
       "      <td>-58.439272</td>\n",
       "      <td>Palermo</td>\n",
       "      <td>Departamento</td>\n",
       "      <td>3.0</td>\n",
       "      <td>2.0</td>\n",
       "      <td>69.0</td>\n",
       "      <td>58.0</td>\n",
       "      <td>175000.0</td>\n",
       "      <td>DEPARTAMENTO 3 Ambientes Palermo-Balcón C/Parr...</td>\n",
       "    </tr>\n",
       "    <tr>\n",
       "      <th>4</th>\n",
       "      <td>2021-12-16</td>\n",
       "      <td>2022-02-09 00:00:00.000000000</td>\n",
       "      <td>-34.630517</td>\n",
       "      <td>-58.377143</td>\n",
       "      <td>Barracas</td>\n",
       "      <td>Departamento</td>\n",
       "      <td>1.0</td>\n",
       "      <td>1.0</td>\n",
       "      <td>45.0</td>\n",
       "      <td>41.0</td>\n",
       "      <td>120000.0</td>\n",
       "      <td>Venta-Barracas-Mono divisible- MOCA</td>\n",
       "    </tr>\n",
       "  </tbody>\n",
       "</table>\n",
       "</div>"
      ],
      "text/plain": [
       "   start_date                       end_date    latitud   longitud  place_l3  \\\n",
       "0  2021-07-29  2021-09-06 00:00:00.000000000 -34.564800 -58.444631  Belgrano   \n",
       "1  2021-12-16  2022-02-09 00:00:00.000000000 -34.591359 -58.418809   Palermo   \n",
       "2  2021-06-19  2021-09-01 15:14:13.531306906 -34.602632 -58.428399   Almagro   \n",
       "3  2021-12-16  2022-02-09 00:00:00.000000000 -34.564290 -58.439272   Palermo   \n",
       "4  2021-12-16  2022-02-09 00:00:00.000000000 -34.630517 -58.377143  Barracas   \n",
       "\n",
       "  property_type  property_rooms  property_bedrooms  property_surface_total  \\\n",
       "0  Departamento             5.0                4.0                   279.0   \n",
       "1  Departamento             2.0                1.0                    42.0   \n",
       "2  Departamento             2.0                1.0                    46.0   \n",
       "3  Departamento             3.0                2.0                    69.0   \n",
       "4  Departamento             1.0                1.0                    45.0   \n",
       "\n",
       "   property_surface_covered  property_price  \\\n",
       "0                     245.0       1000000.0   \n",
       "1                      42.0         89900.0   \n",
       "2                      42.0        119900.0   \n",
       "3                      58.0        175000.0   \n",
       "4                      41.0        120000.0   \n",
       "\n",
       "                                      property_title  \n",
       "0  Espectacular torre en la mejor zona de Belgran...  \n",
       "1              VENTA 2 AMBIENTES RECICLADO - PALERMO  \n",
       "2      2 ambientes al frente con balcón. A estrenar.  \n",
       "3  DEPARTAMENTO 3 Ambientes Palermo-Balcón C/Parr...  \n",
       "4                Venta-Barracas-Mono divisible- MOCA  "
      ]
     },
     "execution_count": 2,
     "metadata": {},
     "output_type": "execute_result"
    }
   ],
   "source": [
    "# Dataset Train preprocesado\n",
    "train_ds = pd.read_csv('datasets/tp1-train.csv')\n",
    "train_ds = train_ds.drop(['Unnamed: 0'], axis=1)\n",
    "train_ds.head()"
   ]
  },
  {
   "cell_type": "code",
   "execution_count": 3,
   "metadata": {
    "collapsed": false,
    "jupyter": {
     "outputs_hidden": false
    },
    "pycharm": {
     "name": "#%%\n"
    }
   },
   "outputs": [
    {
     "data": {
      "text/html": [
       "<div>\n",
       "<style scoped>\n",
       "    .dataframe tbody tr th:only-of-type {\n",
       "        vertical-align: middle;\n",
       "    }\n",
       "\n",
       "    .dataframe tbody tr th {\n",
       "        vertical-align: top;\n",
       "    }\n",
       "\n",
       "    .dataframe thead th {\n",
       "        text-align: right;\n",
       "    }\n",
       "</style>\n",
       "<table border=\"1\" class=\"dataframe\">\n",
       "  <thead>\n",
       "    <tr style=\"text-align: right;\">\n",
       "      <th></th>\n",
       "      <th>latitud</th>\n",
       "      <th>longitud</th>\n",
       "      <th>place_l3</th>\n",
       "      <th>property_type</th>\n",
       "      <th>property_rooms</th>\n",
       "      <th>property_bedrooms</th>\n",
       "      <th>property_surface_total</th>\n",
       "      <th>property_surface_covered</th>\n",
       "      <th>property_price</th>\n",
       "      <th>property_title</th>\n",
       "    </tr>\n",
       "  </thead>\n",
       "  <tbody>\n",
       "    <tr>\n",
       "      <th>0</th>\n",
       "      <td>-34.589649</td>\n",
       "      <td>-58.434926</td>\n",
       "      <td>Palermo</td>\n",
       "      <td>Casa</td>\n",
       "      <td>4.0</td>\n",
       "      <td>3.0</td>\n",
       "      <td>140.0</td>\n",
       "      <td>140.0</td>\n",
       "      <td>530000.0</td>\n",
       "      <td>Casa - Palermo</td>\n",
       "    </tr>\n",
       "    <tr>\n",
       "      <th>1</th>\n",
       "      <td>-34.598508</td>\n",
       "      <td>-58.443084</td>\n",
       "      <td>Villa Crespo</td>\n",
       "      <td>Departamento</td>\n",
       "      <td>1.0</td>\n",
       "      <td>1.0</td>\n",
       "      <td>33.0</td>\n",
       "      <td>30.0</td>\n",
       "      <td>78000.0</td>\n",
       "      <td>Monoambiente Departamento a Estrenar - Villa C...</td>\n",
       "    </tr>\n",
       "    <tr>\n",
       "      <th>2</th>\n",
       "      <td>-34.582098</td>\n",
       "      <td>-58.448859</td>\n",
       "      <td>Palermo</td>\n",
       "      <td>Departamento</td>\n",
       "      <td>1.0</td>\n",
       "      <td>1.0</td>\n",
       "      <td>35.0</td>\n",
       "      <td>30.0</td>\n",
       "      <td>87100.0</td>\n",
       "      <td>Venta - Newbery Jorge  3445 3º I Jardin</td>\n",
       "    </tr>\n",
       "    <tr>\n",
       "      <th>3</th>\n",
       "      <td>-34.569662</td>\n",
       "      <td>-58.487762</td>\n",
       "      <td>Villa Urquiza</td>\n",
       "      <td>Departamento</td>\n",
       "      <td>3.0</td>\n",
       "      <td>2.0</td>\n",
       "      <td>80.0</td>\n",
       "      <td>68.0</td>\n",
       "      <td>250000.0</td>\n",
       "      <td>Departamento - Villa Urquiza</td>\n",
       "    </tr>\n",
       "    <tr>\n",
       "      <th>4</th>\n",
       "      <td>-34.598582</td>\n",
       "      <td>-58.376689</td>\n",
       "      <td>San Nicolás</td>\n",
       "      <td>Departamento</td>\n",
       "      <td>2.0</td>\n",
       "      <td>1.0</td>\n",
       "      <td>37.0</td>\n",
       "      <td>37.0</td>\n",
       "      <td>79000.0</td>\n",
       "      <td>Venta de departamento  estilo frances de 2 amb...</td>\n",
       "    </tr>\n",
       "    <tr>\n",
       "      <th>...</th>\n",
       "      <td>...</td>\n",
       "      <td>...</td>\n",
       "      <td>...</td>\n",
       "      <td>...</td>\n",
       "      <td>...</td>\n",
       "      <td>...</td>\n",
       "      <td>...</td>\n",
       "      <td>...</td>\n",
       "      <td>...</td>\n",
       "      <td>...</td>\n",
       "    </tr>\n",
       "    <tr>\n",
       "      <th>16271</th>\n",
       "      <td>-34.652357</td>\n",
       "      <td>-58.385489</td>\n",
       "      <td>Barracas</td>\n",
       "      <td>Casa</td>\n",
       "      <td>5.0</td>\n",
       "      <td>4.0</td>\n",
       "      <td>223.0</td>\n",
       "      <td>223.0</td>\n",
       "      <td>295000.0</td>\n",
       "      <td>CASA EN LOTE DE 10X27 MTS 223 M2 CUB - RIO CUA...</td>\n",
       "    </tr>\n",
       "    <tr>\n",
       "      <th>16272</th>\n",
       "      <td>-34.653920</td>\n",
       "      <td>-58.410842</td>\n",
       "      <td>Pompeya</td>\n",
       "      <td>Casa</td>\n",
       "      <td>4.0</td>\n",
       "      <td>2.0</td>\n",
       "      <td>257.0</td>\n",
       "      <td>130.0</td>\n",
       "      <td>180000.0</td>\n",
       "      <td>VENTA-POMPEYA-CASA-2PLANTAS-DIST TECNOLOGICO</td>\n",
       "    </tr>\n",
       "    <tr>\n",
       "      <th>16273</th>\n",
       "      <td>-34.593420</td>\n",
       "      <td>-58.421077</td>\n",
       "      <td>Palermo</td>\n",
       "      <td>Departamento</td>\n",
       "      <td>3.0</td>\n",
       "      <td>2.0</td>\n",
       "      <td>91.0</td>\n",
       "      <td>71.0</td>\n",
       "      <td>348000.0</td>\n",
       "      <td>Excelente oportunidad, Hermoso 3 Ambientes, nu...</td>\n",
       "    </tr>\n",
       "    <tr>\n",
       "      <th>16274</th>\n",
       "      <td>-34.593404</td>\n",
       "      <td>-58.402309</td>\n",
       "      <td>Barrio Norte</td>\n",
       "      <td>Departamento</td>\n",
       "      <td>2.0</td>\n",
       "      <td>1.0</td>\n",
       "      <td>45.0</td>\n",
       "      <td>45.0</td>\n",
       "      <td>133000.0</td>\n",
       "      <td>Departamento - Barrio Norte</td>\n",
       "    </tr>\n",
       "    <tr>\n",
       "      <th>16275</th>\n",
       "      <td>-34.603144</td>\n",
       "      <td>-58.428451</td>\n",
       "      <td>Almagro</td>\n",
       "      <td>Departamento</td>\n",
       "      <td>4.0</td>\n",
       "      <td>3.0</td>\n",
       "      <td>99.0</td>\n",
       "      <td>70.0</td>\n",
       "      <td>183000.0</td>\n",
       "      <td>Departamento 4 Amb con PATIO Almagro</td>\n",
       "    </tr>\n",
       "  </tbody>\n",
       "</table>\n",
       "<p>16276 rows × 10 columns</p>\n",
       "</div>"
      ],
      "text/plain": [
       "         latitud   longitud       place_l3 property_type  property_rooms  \\\n",
       "0     -34.589649 -58.434926        Palermo          Casa             4.0   \n",
       "1     -34.598508 -58.443084   Villa Crespo  Departamento             1.0   \n",
       "2     -34.582098 -58.448859        Palermo  Departamento             1.0   \n",
       "3     -34.569662 -58.487762  Villa Urquiza  Departamento             3.0   \n",
       "4     -34.598582 -58.376689    San Nicolás  Departamento             2.0   \n",
       "...          ...        ...            ...           ...             ...   \n",
       "16271 -34.652357 -58.385489       Barracas          Casa             5.0   \n",
       "16272 -34.653920 -58.410842        Pompeya          Casa             4.0   \n",
       "16273 -34.593420 -58.421077        Palermo  Departamento             3.0   \n",
       "16274 -34.593404 -58.402309   Barrio Norte  Departamento             2.0   \n",
       "16275 -34.603144 -58.428451        Almagro  Departamento             4.0   \n",
       "\n",
       "       property_bedrooms  property_surface_total  property_surface_covered  \\\n",
       "0                    3.0                   140.0                     140.0   \n",
       "1                    1.0                    33.0                      30.0   \n",
       "2                    1.0                    35.0                      30.0   \n",
       "3                    2.0                    80.0                      68.0   \n",
       "4                    1.0                    37.0                      37.0   \n",
       "...                  ...                     ...                       ...   \n",
       "16271                4.0                   223.0                     223.0   \n",
       "16272                2.0                   257.0                     130.0   \n",
       "16273                2.0                    91.0                      71.0   \n",
       "16274                1.0                    45.0                      45.0   \n",
       "16275                3.0                    99.0                      70.0   \n",
       "\n",
       "       property_price                                     property_title  \n",
       "0            530000.0                                     Casa - Palermo  \n",
       "1             78000.0  Monoambiente Departamento a Estrenar - Villa C...  \n",
       "2             87100.0            Venta - Newbery Jorge  3445 3º I Jardin  \n",
       "3            250000.0                       Departamento - Villa Urquiza  \n",
       "4             79000.0  Venta de departamento  estilo frances de 2 amb...  \n",
       "...               ...                                                ...  \n",
       "16271        295000.0  CASA EN LOTE DE 10X27 MTS 223 M2 CUB - RIO CUA...  \n",
       "16272        180000.0       VENTA-POMPEYA-CASA-2PLANTAS-DIST TECNOLOGICO  \n",
       "16273        348000.0  Excelente oportunidad, Hermoso 3 Ambientes, nu...  \n",
       "16274        133000.0                        Departamento - Barrio Norte  \n",
       "16275        183000.0               Departamento 4 Amb con PATIO Almagro  \n",
       "\n",
       "[16276 rows x 10 columns]"
      ]
     },
     "execution_count": 3,
     "metadata": {},
     "output_type": "execute_result"
    }
   ],
   "source": [
    "# Dataset Test preprocesado\n",
    "test_ds = pd.read_csv('datasets/tp1-test.csv')\n",
    "test_ds = test_ds.drop(['Unnamed: 0'], axis=1)\n",
    "test_ds"
   ]
  },
  {
   "cell_type": "markdown",
   "metadata": {
    "pycharm": {
     "name": "#%% md\n"
    }
   },
   "source": [
    "## Procesamiento del lenguaje natural"
   ]
  },
  {
   "cell_type": "markdown",
   "metadata": {
    "pycharm": {
     "name": "#%% md\n"
    }
   },
   "source": [
    "### Ampliación del dataset"
   ]
  },
  {
   "cell_type": "markdown",
   "metadata": {
    "pycharm": {
     "name": "#%% md\n"
    }
   },
   "source": [
    "Este dataset incluye descripciones de las propiedades del otro dataset. Veremos como podemos extraer información de estas descripciones."
   ]
  },
  {
   "cell_type": "code",
   "execution_count": 4,
   "metadata": {
    "collapsed": false,
    "jupyter": {
     "outputs_hidden": false
    },
    "pycharm": {
     "name": "#%%\n"
    }
   },
   "outputs": [],
   "source": [
    "descriptions_dataset = pd.read_csv('datasets/properati_argentina_2021_decrip.csv')"
   ]
  },
  {
   "cell_type": "code",
   "execution_count": 5,
   "metadata": {
    "collapsed": false,
    "jupyter": {
     "outputs_hidden": false
    },
    "pycharm": {
     "name": "#%%\n"
    }
   },
   "outputs": [
    {
     "data": {
      "text/html": [
       "<div>\n",
       "<style scoped>\n",
       "    .dataframe tbody tr th:only-of-type {\n",
       "        vertical-align: middle;\n",
       "    }\n",
       "\n",
       "    .dataframe tbody tr th {\n",
       "        vertical-align: top;\n",
       "    }\n",
       "\n",
       "    .dataframe thead th {\n",
       "        text-align: right;\n",
       "    }\n",
       "</style>\n",
       "<table border=\"1\" class=\"dataframe\">\n",
       "  <thead>\n",
       "    <tr style=\"text-align: right;\">\n",
       "      <th></th>\n",
       "      <th>id</th>\n",
       "      <th>property_description</th>\n",
       "    </tr>\n",
       "  </thead>\n",
       "  <tbody>\n",
       "    <tr>\n",
       "      <th>0</th>\n",
       "      <td>BZCeiGkJr1WBUi6pKJQwJQ==</td>\n",
       "      <td>Corredor Responsable: MARIA ALEJANDRA GENOVEVA...</td>\n",
       "    </tr>\n",
       "    <tr>\n",
       "      <th>1</th>\n",
       "      <td>zuHOGgUE0UB71W7m/YCLoA==</td>\n",
       "      <td>¡HERMOSO PH TIPO CASA DE 2 AMBIENTES!&lt;br&gt;APTO ...</td>\n",
       "    </tr>\n",
       "    <tr>\n",
       "      <th>2</th>\n",
       "      <td>TUL813tXchVBlHUsfaA6DA==</td>\n",
       "      <td>Excelente PH en Núñez 4 amb!!!! Oportunidad !!...</td>\n",
       "    </tr>\n",
       "    <tr>\n",
       "      <th>3</th>\n",
       "      <td>gn55JPmcjftBV/at1a7fPg==</td>\n",
       "      <td>UNICO PH DE 4 DORMITORIOS EN IMPECABLE ESTADO,...</td>\n",
       "    </tr>\n",
       "    <tr>\n",
       "      <th>4</th>\n",
       "      <td>qg4m3QHcuo1+wMmyp7kx3Q==</td>\n",
       "      <td>Ph 2 Amb. Villa Crespo exclusivo uso profesion...</td>\n",
       "    </tr>\n",
       "    <tr>\n",
       "      <th>...</th>\n",
       "      <td>...</td>\n",
       "      <td>...</td>\n",
       "    </tr>\n",
       "    <tr>\n",
       "      <th>460149</th>\n",
       "      <td>MbQ4rqEzjp9Jfc3Sywb/YQ==</td>\n",
       "      <td>Corredor Responsable: Hector Garaygorta / Cris...</td>\n",
       "    </tr>\n",
       "    <tr>\n",
       "      <th>460150</th>\n",
       "      <td>fbuG1ohYC623nxLYPQPBvw==</td>\n",
       "      <td>Corredor Responsable: MARIA DEL ROSARIO NEME -...</td>\n",
       "    </tr>\n",
       "    <tr>\n",
       "      <th>460151</th>\n",
       "      <td>Ry5hMwctFXD7rLoUpzduxQ==</td>\n",
       "      <td>En cumplimiento de las leyes provinciales vige...</td>\n",
       "    </tr>\n",
       "    <tr>\n",
       "      <th>460152</th>\n",
       "      <td>xH37f+l+VOP8Vj0T3g+r6g==</td>\n",
       "      <td>En cumplimiento de las leyes provinciales vige...</td>\n",
       "    </tr>\n",
       "    <tr>\n",
       "      <th>460153</th>\n",
       "      <td>7XOOIQjoDg0MPUoy9HLzng==</td>\n",
       "      <td>CASA EN VENTA EN BARILOCHE – Lomas del Cauquén...</td>\n",
       "    </tr>\n",
       "  </tbody>\n",
       "</table>\n",
       "<p>460154 rows × 2 columns</p>\n",
       "</div>"
      ],
      "text/plain": [
       "                              id  \\\n",
       "0       BZCeiGkJr1WBUi6pKJQwJQ==   \n",
       "1       zuHOGgUE0UB71W7m/YCLoA==   \n",
       "2       TUL813tXchVBlHUsfaA6DA==   \n",
       "3       gn55JPmcjftBV/at1a7fPg==   \n",
       "4       qg4m3QHcuo1+wMmyp7kx3Q==   \n",
       "...                          ...   \n",
       "460149  MbQ4rqEzjp9Jfc3Sywb/YQ==   \n",
       "460150  fbuG1ohYC623nxLYPQPBvw==   \n",
       "460151  Ry5hMwctFXD7rLoUpzduxQ==   \n",
       "460152  xH37f+l+VOP8Vj0T3g+r6g==   \n",
       "460153  7XOOIQjoDg0MPUoy9HLzng==   \n",
       "\n",
       "                                     property_description  \n",
       "0       Corredor Responsable: MARIA ALEJANDRA GENOVEVA...  \n",
       "1       ¡HERMOSO PH TIPO CASA DE 2 AMBIENTES!<br>APTO ...  \n",
       "2       Excelente PH en Núñez 4 amb!!!! Oportunidad !!...  \n",
       "3       UNICO PH DE 4 DORMITORIOS EN IMPECABLE ESTADO,...  \n",
       "4       Ph 2 Amb. Villa Crespo exclusivo uso profesion...  \n",
       "...                                                   ...  \n",
       "460149  Corredor Responsable: Hector Garaygorta / Cris...  \n",
       "460150  Corredor Responsable: MARIA DEL ROSARIO NEME -...  \n",
       "460151  En cumplimiento de las leyes provinciales vige...  \n",
       "460152  En cumplimiento de las leyes provinciales vige...  \n",
       "460153  CASA EN VENTA EN BARILOCHE – Lomas del Cauquén...  \n",
       "\n",
       "[460154 rows x 2 columns]"
      ]
     },
     "execution_count": 5,
     "metadata": {},
     "output_type": "execute_result"
    }
   ],
   "source": [
    "descriptions_dataset"
   ]
  },
  {
   "cell_type": "code",
   "execution_count": 6,
   "metadata": {},
   "outputs": [
    {
     "data": {
      "text/html": [
       "<div>\n",
       "<style scoped>\n",
       "    .dataframe tbody tr th:only-of-type {\n",
       "        vertical-align: middle;\n",
       "    }\n",
       "\n",
       "    .dataframe tbody tr th {\n",
       "        vertical-align: top;\n",
       "    }\n",
       "\n",
       "    .dataframe thead th {\n",
       "        text-align: right;\n",
       "    }\n",
       "</style>\n",
       "<table border=\"1\" class=\"dataframe\">\n",
       "  <thead>\n",
       "    <tr style=\"text-align: right;\">\n",
       "      <th></th>\n",
       "      <th>id</th>\n",
       "      <th>start_date</th>\n",
       "      <th>end_date</th>\n",
       "      <th>latitud</th>\n",
       "      <th>longitud</th>\n",
       "      <th>place_l3</th>\n",
       "      <th>property_type</th>\n",
       "      <th>property_rooms</th>\n",
       "      <th>property_bedrooms</th>\n",
       "      <th>property_surface_total</th>\n",
       "      <th>property_surface_covered</th>\n",
       "      <th>property_price</th>\n",
       "      <th>property_title</th>\n",
       "    </tr>\n",
       "  </thead>\n",
       "  <tbody>\n",
       "    <tr>\n",
       "      <th>0</th>\n",
       "      <td>AkvIZkI7XvbCQ/Z7zZ7lXw==</td>\n",
       "      <td>2021-07-29</td>\n",
       "      <td>2021-09-06 00:00:00.000000000</td>\n",
       "      <td>-34.564800</td>\n",
       "      <td>-58.444631</td>\n",
       "      <td>Belgrano</td>\n",
       "      <td>Departamento</td>\n",
       "      <td>5.0</td>\n",
       "      <td>4.0</td>\n",
       "      <td>279.0</td>\n",
       "      <td>245.0</td>\n",
       "      <td>1000000.0</td>\n",
       "      <td>Espectacular torre en la mejor zona de Belgran...</td>\n",
       "    </tr>\n",
       "    <tr>\n",
       "      <th>1</th>\n",
       "      <td>fPYqaGC1CO4tGa5Lfbsfxw==</td>\n",
       "      <td>2021-12-16</td>\n",
       "      <td>2022-02-09 00:00:00.000000000</td>\n",
       "      <td>-34.591359</td>\n",
       "      <td>-58.418809</td>\n",
       "      <td>Palermo</td>\n",
       "      <td>Departamento</td>\n",
       "      <td>2.0</td>\n",
       "      <td>1.0</td>\n",
       "      <td>42.0</td>\n",
       "      <td>42.0</td>\n",
       "      <td>89900.0</td>\n",
       "      <td>VENTA 2 AMBIENTES RECICLADO - PALERMO</td>\n",
       "    </tr>\n",
       "    <tr>\n",
       "      <th>2</th>\n",
       "      <td>iEf87GrVMz/FhIPsQTns4w==</td>\n",
       "      <td>2021-06-19</td>\n",
       "      <td>2021-09-01 15:14:13.531306906</td>\n",
       "      <td>-34.602632</td>\n",
       "      <td>-58.428399</td>\n",
       "      <td>Almagro</td>\n",
       "      <td>Departamento</td>\n",
       "      <td>2.0</td>\n",
       "      <td>1.0</td>\n",
       "      <td>46.0</td>\n",
       "      <td>42.0</td>\n",
       "      <td>119900.0</td>\n",
       "      <td>2 ambientes al frente con balcón. A estrenar.</td>\n",
       "    </tr>\n",
       "    <tr>\n",
       "      <th>3</th>\n",
       "      <td>po58pOgih96xIX9iBLCejA==</td>\n",
       "      <td>2021-12-16</td>\n",
       "      <td>2022-02-09 00:00:00.000000000</td>\n",
       "      <td>-34.564290</td>\n",
       "      <td>-58.439272</td>\n",
       "      <td>Palermo</td>\n",
       "      <td>Departamento</td>\n",
       "      <td>3.0</td>\n",
       "      <td>2.0</td>\n",
       "      <td>69.0</td>\n",
       "      <td>58.0</td>\n",
       "      <td>175000.0</td>\n",
       "      <td>DEPARTAMENTO 3 Ambientes Palermo-Balcón C/Parr...</td>\n",
       "    </tr>\n",
       "    <tr>\n",
       "      <th>4</th>\n",
       "      <td>GNPH2InKGIZ3mGgnJGK9HQ==</td>\n",
       "      <td>2021-12-16</td>\n",
       "      <td>2022-02-09 00:00:00.000000000</td>\n",
       "      <td>-34.630517</td>\n",
       "      <td>-58.377143</td>\n",
       "      <td>Barracas</td>\n",
       "      <td>Departamento</td>\n",
       "      <td>1.0</td>\n",
       "      <td>1.0</td>\n",
       "      <td>45.0</td>\n",
       "      <td>41.0</td>\n",
       "      <td>120000.0</td>\n",
       "      <td>Venta-Barracas-Mono divisible- MOCA</td>\n",
       "    </tr>\n",
       "  </tbody>\n",
       "</table>\n",
       "</div>"
      ],
      "text/plain": [
       "                         id  start_date                       end_date  \\\n",
       "0  AkvIZkI7XvbCQ/Z7zZ7lXw==  2021-07-29  2021-09-06 00:00:00.000000000   \n",
       "1  fPYqaGC1CO4tGa5Lfbsfxw==  2021-12-16  2022-02-09 00:00:00.000000000   \n",
       "2  iEf87GrVMz/FhIPsQTns4w==  2021-06-19  2021-09-01 15:14:13.531306906   \n",
       "3  po58pOgih96xIX9iBLCejA==  2021-12-16  2022-02-09 00:00:00.000000000   \n",
       "4  GNPH2InKGIZ3mGgnJGK9HQ==  2021-12-16  2022-02-09 00:00:00.000000000   \n",
       "\n",
       "     latitud   longitud  place_l3 property_type  property_rooms  \\\n",
       "0 -34.564800 -58.444631  Belgrano  Departamento             5.0   \n",
       "1 -34.591359 -58.418809   Palermo  Departamento             2.0   \n",
       "2 -34.602632 -58.428399   Almagro  Departamento             2.0   \n",
       "3 -34.564290 -58.439272   Palermo  Departamento             3.0   \n",
       "4 -34.630517 -58.377143  Barracas  Departamento             1.0   \n",
       "\n",
       "   property_bedrooms  property_surface_total  property_surface_covered  \\\n",
       "0                4.0                   279.0                     245.0   \n",
       "1                1.0                    42.0                      42.0   \n",
       "2                1.0                    46.0                      42.0   \n",
       "3                2.0                    69.0                      58.0   \n",
       "4                1.0                    45.0                      41.0   \n",
       "\n",
       "   property_price                                     property_title  \n",
       "0       1000000.0  Espectacular torre en la mejor zona de Belgran...  \n",
       "1         89900.0              VENTA 2 AMBIENTES RECICLADO - PALERMO  \n",
       "2        119900.0      2 ambientes al frente con balcón. A estrenar.  \n",
       "3        175000.0  DEPARTAMENTO 3 Ambientes Palermo-Balcón C/Parr...  \n",
       "4        120000.0                Venta-Barracas-Mono divisible- MOCA  "
      ]
     },
     "execution_count": 6,
     "metadata": {},
     "output_type": "execute_result"
    }
   ],
   "source": [
    "# Dataset Train con ID preprocesado\n",
    "train_ds_id = pd.read_csv('datasets/tp1-train_id.csv')\n",
    "train_ds_id = train_ds_id.drop(['Unnamed: 0'], axis=1)\n",
    "train_ds_id.head()"
   ]
  },
  {
   "cell_type": "code",
   "execution_count": 7,
   "metadata": {},
   "outputs": [
    {
     "data": {
      "text/html": [
       "<div>\n",
       "<style scoped>\n",
       "    .dataframe tbody tr th:only-of-type {\n",
       "        vertical-align: middle;\n",
       "    }\n",
       "\n",
       "    .dataframe tbody tr th {\n",
       "        vertical-align: top;\n",
       "    }\n",
       "\n",
       "    .dataframe thead th {\n",
       "        text-align: right;\n",
       "    }\n",
       "</style>\n",
       "<table border=\"1\" class=\"dataframe\">\n",
       "  <thead>\n",
       "    <tr style=\"text-align: right;\">\n",
       "      <th></th>\n",
       "      <th>id</th>\n",
       "      <th>start_date</th>\n",
       "      <th>end_date</th>\n",
       "      <th>latitud</th>\n",
       "      <th>longitud</th>\n",
       "      <th>place_l3</th>\n",
       "      <th>property_type</th>\n",
       "      <th>property_rooms</th>\n",
       "      <th>property_bedrooms</th>\n",
       "      <th>property_surface_total</th>\n",
       "      <th>property_surface_covered</th>\n",
       "      <th>property_price</th>\n",
       "      <th>property_title</th>\n",
       "    </tr>\n",
       "  </thead>\n",
       "  <tbody>\n",
       "    <tr>\n",
       "      <th>0</th>\n",
       "      <td>alZlUcnGhQjicsCUrLelUg==</td>\n",
       "      <td>NaN</td>\n",
       "      <td>NaN</td>\n",
       "      <td>-34.589649</td>\n",
       "      <td>-58.434926</td>\n",
       "      <td>Palermo</td>\n",
       "      <td>Casa</td>\n",
       "      <td>4.0</td>\n",
       "      <td>3.0</td>\n",
       "      <td>140.0</td>\n",
       "      <td>140.0</td>\n",
       "      <td>530000.0</td>\n",
       "      <td>Casa - Palermo</td>\n",
       "    </tr>\n",
       "    <tr>\n",
       "      <th>1</th>\n",
       "      <td>MizJ7379YN8pr1oUXkuoJQ==</td>\n",
       "      <td>NaN</td>\n",
       "      <td>NaN</td>\n",
       "      <td>-34.598508</td>\n",
       "      <td>-58.443084</td>\n",
       "      <td>Villa Crespo</td>\n",
       "      <td>Departamento</td>\n",
       "      <td>1.0</td>\n",
       "      <td>1.0</td>\n",
       "      <td>33.0</td>\n",
       "      <td>30.0</td>\n",
       "      <td>78000.0</td>\n",
       "      <td>Monoambiente Departamento a Estrenar - Villa C...</td>\n",
       "    </tr>\n",
       "    <tr>\n",
       "      <th>2</th>\n",
       "      <td>WjEJRWaB6ZSmhsePTNh9Cg==</td>\n",
       "      <td>NaN</td>\n",
       "      <td>NaN</td>\n",
       "      <td>-34.582098</td>\n",
       "      <td>-58.448859</td>\n",
       "      <td>Palermo</td>\n",
       "      <td>Departamento</td>\n",
       "      <td>1.0</td>\n",
       "      <td>1.0</td>\n",
       "      <td>35.0</td>\n",
       "      <td>30.0</td>\n",
       "      <td>87100.0</td>\n",
       "      <td>Venta - Newbery Jorge  3445 3º I Jardin</td>\n",
       "    </tr>\n",
       "    <tr>\n",
       "      <th>3</th>\n",
       "      <td>zTFHwNW12MiipUveEst26g==</td>\n",
       "      <td>NaN</td>\n",
       "      <td>NaN</td>\n",
       "      <td>-34.569662</td>\n",
       "      <td>-58.487762</td>\n",
       "      <td>Villa Urquiza</td>\n",
       "      <td>Departamento</td>\n",
       "      <td>3.0</td>\n",
       "      <td>2.0</td>\n",
       "      <td>80.0</td>\n",
       "      <td>68.0</td>\n",
       "      <td>250000.0</td>\n",
       "      <td>Departamento - Villa Urquiza</td>\n",
       "    </tr>\n",
       "    <tr>\n",
       "      <th>4</th>\n",
       "      <td>UajHnX8NrKB2DNhHfsNi5Q==</td>\n",
       "      <td>NaN</td>\n",
       "      <td>NaN</td>\n",
       "      <td>-34.598582</td>\n",
       "      <td>-58.376689</td>\n",
       "      <td>San Nicolás</td>\n",
       "      <td>Departamento</td>\n",
       "      <td>2.0</td>\n",
       "      <td>1.0</td>\n",
       "      <td>37.0</td>\n",
       "      <td>37.0</td>\n",
       "      <td>79000.0</td>\n",
       "      <td>Venta de departamento  estilo frances de 2 amb...</td>\n",
       "    </tr>\n",
       "  </tbody>\n",
       "</table>\n",
       "</div>"
      ],
      "text/plain": [
       "                         id  start_date  end_date    latitud   longitud  \\\n",
       "0  alZlUcnGhQjicsCUrLelUg==         NaN       NaN -34.589649 -58.434926   \n",
       "1  MizJ7379YN8pr1oUXkuoJQ==         NaN       NaN -34.598508 -58.443084   \n",
       "2  WjEJRWaB6ZSmhsePTNh9Cg==         NaN       NaN -34.582098 -58.448859   \n",
       "3  zTFHwNW12MiipUveEst26g==         NaN       NaN -34.569662 -58.487762   \n",
       "4  UajHnX8NrKB2DNhHfsNi5Q==         NaN       NaN -34.598582 -58.376689   \n",
       "\n",
       "        place_l3 property_type  property_rooms  property_bedrooms  \\\n",
       "0        Palermo          Casa             4.0                3.0   \n",
       "1   Villa Crespo  Departamento             1.0                1.0   \n",
       "2        Palermo  Departamento             1.0                1.0   \n",
       "3  Villa Urquiza  Departamento             3.0                2.0   \n",
       "4    San Nicolás  Departamento             2.0                1.0   \n",
       "\n",
       "   property_surface_total  property_surface_covered  property_price  \\\n",
       "0                   140.0                     140.0        530000.0   \n",
       "1                    33.0                      30.0         78000.0   \n",
       "2                    35.0                      30.0         87100.0   \n",
       "3                    80.0                      68.0        250000.0   \n",
       "4                    37.0                      37.0         79000.0   \n",
       "\n",
       "                                      property_title  \n",
       "0                                     Casa - Palermo  \n",
       "1  Monoambiente Departamento a Estrenar - Villa C...  \n",
       "2            Venta - Newbery Jorge  3445 3º I Jardin  \n",
       "3                       Departamento - Villa Urquiza  \n",
       "4  Venta de departamento  estilo frances de 2 amb...  "
      ]
     },
     "execution_count": 7,
     "metadata": {},
     "output_type": "execute_result"
    }
   ],
   "source": [
    "# Dataset Test con ID preprocesado\n",
    "test_ds_id = pd.read_csv('datasets/tp1-test_id.csv')\n",
    "test_ds_id = test_ds_id.drop(['Unnamed: 0'], axis=1)\n",
    "test_ds_id.head()"
   ]
  },
  {
   "cell_type": "code",
   "execution_count": 8,
   "metadata": {},
   "outputs": [],
   "source": [
    "delta_id_desc_props = pd.merge(left=descriptions_dataset, right=train_ds_id, left_on=\"id\", right_on=\"id\", how =\"inner\")"
   ]
  },
  {
   "cell_type": "code",
   "execution_count": 9,
   "metadata": {},
   "outputs": [
    {
     "data": {
      "text/html": [
       "<div>\n",
       "<style scoped>\n",
       "    .dataframe tbody tr th:only-of-type {\n",
       "        vertical-align: middle;\n",
       "    }\n",
       "\n",
       "    .dataframe tbody tr th {\n",
       "        vertical-align: top;\n",
       "    }\n",
       "\n",
       "    .dataframe thead th {\n",
       "        text-align: right;\n",
       "    }\n",
       "</style>\n",
       "<table border=\"1\" class=\"dataframe\">\n",
       "  <thead>\n",
       "    <tr style=\"text-align: right;\">\n",
       "      <th></th>\n",
       "      <th>id</th>\n",
       "      <th>property_description</th>\n",
       "      <th>start_date</th>\n",
       "      <th>end_date</th>\n",
       "      <th>latitud</th>\n",
       "      <th>longitud</th>\n",
       "      <th>place_l3</th>\n",
       "      <th>property_type</th>\n",
       "      <th>property_rooms</th>\n",
       "      <th>property_bedrooms</th>\n",
       "      <th>property_surface_total</th>\n",
       "      <th>property_surface_covered</th>\n",
       "      <th>property_price</th>\n",
       "      <th>property_title</th>\n",
       "    </tr>\n",
       "  </thead>\n",
       "  <tbody>\n",
       "    <tr>\n",
       "      <th>0</th>\n",
       "      <td>BZCeiGkJr1WBUi6pKJQwJQ==</td>\n",
       "      <td>Corredor Responsable: MARIA ALEJANDRA GENOVEVA...</td>\n",
       "      <td>2021-05-02</td>\n",
       "      <td>2021-05-12 00:00:00.000000000</td>\n",
       "      <td>-34.629039</td>\n",
       "      <td>-58.423125</td>\n",
       "      <td>Boedo</td>\n",
       "      <td>PH</td>\n",
       "      <td>3.0</td>\n",
       "      <td>2.0</td>\n",
       "      <td>54.0</td>\n",
       "      <td>54.0</td>\n",
       "      <td>77000.0</td>\n",
       "      <td>Oportunidad PH 3 Ambientes en Boedo</td>\n",
       "    </tr>\n",
       "    <tr>\n",
       "      <th>1</th>\n",
       "      <td>TUL813tXchVBlHUsfaA6DA==</td>\n",
       "      <td>Excelente PH en Núñez 4 amb!!!! Oportunidad !!...</td>\n",
       "      <td>2021-05-02</td>\n",
       "      <td>2021-06-05 00:00:00.000000000</td>\n",
       "      <td>-34.552689</td>\n",
       "      <td>-58.472921</td>\n",
       "      <td>Nuñez</td>\n",
       "      <td>PH</td>\n",
       "      <td>4.0</td>\n",
       "      <td>3.0</td>\n",
       "      <td>154.0</td>\n",
       "      <td>93.0</td>\n",
       "      <td>260000.0</td>\n",
       "      <td>PH - Nuñez</td>\n",
       "    </tr>\n",
       "    <tr>\n",
       "      <th>2</th>\n",
       "      <td>gn55JPmcjftBV/at1a7fPg==</td>\n",
       "      <td>UNICO PH DE 4 DORMITORIOS EN IMPECABLE ESTADO,...</td>\n",
       "      <td>2021-05-02</td>\n",
       "      <td>2021-05-13 00:00:00.000000000</td>\n",
       "      <td>-34.557705</td>\n",
       "      <td>-58.471938</td>\n",
       "      <td>Coghlan</td>\n",
       "      <td>PH</td>\n",
       "      <td>5.0</td>\n",
       "      <td>4.0</td>\n",
       "      <td>145.0</td>\n",
       "      <td>110.0</td>\n",
       "      <td>279000.0</td>\n",
       "      <td>UNICO PH LUMINOSO, TOTALM. RECICLADO- Coghlan ...</td>\n",
       "    </tr>\n",
       "    <tr>\n",
       "      <th>3</th>\n",
       "      <td>+9uGr8tPEUkKnpjOef+gUw==</td>\n",
       "      <td>SE VENDE EXCELENTE PH de 2 CÓMODOS AMBIENTES M...</td>\n",
       "      <td>2021-05-02</td>\n",
       "      <td>2021-05-04 00:00:00.000000000</td>\n",
       "      <td>-34.634328</td>\n",
       "      <td>-58.489813</td>\n",
       "      <td>Floresta</td>\n",
       "      <td>PH</td>\n",
       "      <td>2.0</td>\n",
       "      <td>1.0</td>\n",
       "      <td>58.0</td>\n",
       "      <td>47.0</td>\n",
       "      <td>97500.0</td>\n",
       "      <td>OLMOS 52: impecable PH de 2amb. más patio, apt...</td>\n",
       "    </tr>\n",
       "    <tr>\n",
       "      <th>4</th>\n",
       "      <td>uH5H+RfQM87Qtrb13+T4hA==</td>\n",
       "      <td>Venta PH 4 ambientes Paternal&lt;br&gt;&lt;br&gt;Cálido,  ...</td>\n",
       "      <td>2021-05-02</td>\n",
       "      <td>2021-06-05 00:00:00.000000000</td>\n",
       "      <td>-34.603158</td>\n",
       "      <td>-58.475271</td>\n",
       "      <td>Paternal</td>\n",
       "      <td>PH</td>\n",
       "      <td>4.0</td>\n",
       "      <td>2.0</td>\n",
       "      <td>127.0</td>\n",
       "      <td>89.0</td>\n",
       "      <td>145000.0</td>\n",
       "      <td>PH - Paternal</td>\n",
       "    </tr>\n",
       "    <tr>\n",
       "      <th>...</th>\n",
       "      <td>...</td>\n",
       "      <td>...</td>\n",
       "      <td>...</td>\n",
       "      <td>...</td>\n",
       "      <td>...</td>\n",
       "      <td>...</td>\n",
       "      <td>...</td>\n",
       "      <td>...</td>\n",
       "      <td>...</td>\n",
       "      <td>...</td>\n",
       "      <td>...</td>\n",
       "      <td>...</td>\n",
       "      <td>...</td>\n",
       "      <td>...</td>\n",
       "    </tr>\n",
       "    <tr>\n",
       "      <th>69688</th>\n",
       "      <td>5L/7wLP2/8GjJAtomb3MkQ==</td>\n",
       "      <td>Corredor Responsable: Martin Macagno - CUCICBA...</td>\n",
       "      <td>2021-09-29</td>\n",
       "      <td>2021-09-30 00:00:00.000000000</td>\n",
       "      <td>-34.642441</td>\n",
       "      <td>-58.474000</td>\n",
       "      <td>Parque Avellaneda</td>\n",
       "      <td>Departamento</td>\n",
       "      <td>3.0</td>\n",
       "      <td>2.0</td>\n",
       "      <td>68.0</td>\n",
       "      <td>64.0</td>\n",
       "      <td>109900.0</td>\n",
       "      <td>PH 3 AMBIENTES AMPLIO Y LUMINOSO SIN EXPENSAS</td>\n",
       "    </tr>\n",
       "    <tr>\n",
       "      <th>69689</th>\n",
       "      <td>8EZIPq3Vb+y+XH7mUgT0cw==</td>\n",
       "      <td>Corredor Responsable: Martin Macagno - CUCICBA...</td>\n",
       "      <td>2021-09-29</td>\n",
       "      <td>2021-09-30 00:00:00.000000000</td>\n",
       "      <td>-34.642441</td>\n",
       "      <td>-58.474000</td>\n",
       "      <td>Parque Avellaneda</td>\n",
       "      <td>PH</td>\n",
       "      <td>3.0</td>\n",
       "      <td>2.0</td>\n",
       "      <td>68.0</td>\n",
       "      <td>64.0</td>\n",
       "      <td>109900.0</td>\n",
       "      <td>PH 3 AMBIENTES AMPLIO Y LUMINOSO SIN EXPENSAS</td>\n",
       "    </tr>\n",
       "    <tr>\n",
       "      <th>69690</th>\n",
       "      <td>KfWSMnexlkmkhAXueyCVDA==</td>\n",
       "      <td>RETASADO &lt;br&gt;Pareja 3235 edificio doble frente...</td>\n",
       "      <td>2021-09-29</td>\n",
       "      <td>2022-03-09 00:00:00.000000000</td>\n",
       "      <td>-34.592628</td>\n",
       "      <td>-58.503425</td>\n",
       "      <td>Villa Pueyrredón</td>\n",
       "      <td>Departamento</td>\n",
       "      <td>5.0</td>\n",
       "      <td>4.0</td>\n",
       "      <td>156.0</td>\n",
       "      <td>127.0</td>\n",
       "      <td>379000.0</td>\n",
       "      <td>Departamento excelente edificio - Villa Pueyrr...</td>\n",
       "    </tr>\n",
       "    <tr>\n",
       "      <th>69691</th>\n",
       "      <td>z6IALPHlnIdXzLsoM2bKJQ==</td>\n",
       "      <td>*** AV. JUAN B JUSTO entre SÁNCHEZ y TRELLES *...</td>\n",
       "      <td>2021-09-29</td>\n",
       "      <td>2022-03-09 00:00:00.000000000</td>\n",
       "      <td>-34.608320</td>\n",
       "      <td>-58.464460</td>\n",
       "      <td>Villa General Mitre</td>\n",
       "      <td>Departamento</td>\n",
       "      <td>5.0</td>\n",
       "      <td>4.0</td>\n",
       "      <td>150.0</td>\n",
       "      <td>150.0</td>\n",
       "      <td>550000.0</td>\n",
       "      <td>Departamento - Villa Gral.Mitre</td>\n",
       "    </tr>\n",
       "    <tr>\n",
       "      <th>69692</th>\n",
       "      <td>CEIEq9ETG7kEzS0S5Usa6Q==</td>\n",
       "      <td>Corredor Responsable: María Eugenia Blanco CUC...</td>\n",
       "      <td>2021-09-29</td>\n",
       "      <td>2021-09-30 00:00:00.000000000</td>\n",
       "      <td>-34.613534</td>\n",
       "      <td>-58.465739</td>\n",
       "      <td>Villa General Mitre</td>\n",
       "      <td>Departamento</td>\n",
       "      <td>4.0</td>\n",
       "      <td>3.0</td>\n",
       "      <td>129.0</td>\n",
       "      <td>120.0</td>\n",
       "      <td>269000.0</td>\n",
       "      <td>VENTA 4 AMB C/ DEP, Balcón Gran Vista  VILLA M...</td>\n",
       "    </tr>\n",
       "  </tbody>\n",
       "</table>\n",
       "<p>69693 rows × 14 columns</p>\n",
       "</div>"
      ],
      "text/plain": [
       "                             id  \\\n",
       "0      BZCeiGkJr1WBUi6pKJQwJQ==   \n",
       "1      TUL813tXchVBlHUsfaA6DA==   \n",
       "2      gn55JPmcjftBV/at1a7fPg==   \n",
       "3      +9uGr8tPEUkKnpjOef+gUw==   \n",
       "4      uH5H+RfQM87Qtrb13+T4hA==   \n",
       "...                         ...   \n",
       "69688  5L/7wLP2/8GjJAtomb3MkQ==   \n",
       "69689  8EZIPq3Vb+y+XH7mUgT0cw==   \n",
       "69690  KfWSMnexlkmkhAXueyCVDA==   \n",
       "69691  z6IALPHlnIdXzLsoM2bKJQ==   \n",
       "69692  CEIEq9ETG7kEzS0S5Usa6Q==   \n",
       "\n",
       "                                    property_description  start_date  \\\n",
       "0      Corredor Responsable: MARIA ALEJANDRA GENOVEVA...  2021-05-02   \n",
       "1      Excelente PH en Núñez 4 amb!!!! Oportunidad !!...  2021-05-02   \n",
       "2      UNICO PH DE 4 DORMITORIOS EN IMPECABLE ESTADO,...  2021-05-02   \n",
       "3      SE VENDE EXCELENTE PH de 2 CÓMODOS AMBIENTES M...  2021-05-02   \n",
       "4      Venta PH 4 ambientes Paternal<br><br>Cálido,  ...  2021-05-02   \n",
       "...                                                  ...         ...   \n",
       "69688  Corredor Responsable: Martin Macagno - CUCICBA...  2021-09-29   \n",
       "69689  Corredor Responsable: Martin Macagno - CUCICBA...  2021-09-29   \n",
       "69690  RETASADO <br>Pareja 3235 edificio doble frente...  2021-09-29   \n",
       "69691  *** AV. JUAN B JUSTO entre SÁNCHEZ y TRELLES *...  2021-09-29   \n",
       "69692  Corredor Responsable: María Eugenia Blanco CUC...  2021-09-29   \n",
       "\n",
       "                            end_date    latitud   longitud  \\\n",
       "0      2021-05-12 00:00:00.000000000 -34.629039 -58.423125   \n",
       "1      2021-06-05 00:00:00.000000000 -34.552689 -58.472921   \n",
       "2      2021-05-13 00:00:00.000000000 -34.557705 -58.471938   \n",
       "3      2021-05-04 00:00:00.000000000 -34.634328 -58.489813   \n",
       "4      2021-06-05 00:00:00.000000000 -34.603158 -58.475271   \n",
       "...                              ...        ...        ...   \n",
       "69688  2021-09-30 00:00:00.000000000 -34.642441 -58.474000   \n",
       "69689  2021-09-30 00:00:00.000000000 -34.642441 -58.474000   \n",
       "69690  2022-03-09 00:00:00.000000000 -34.592628 -58.503425   \n",
       "69691  2022-03-09 00:00:00.000000000 -34.608320 -58.464460   \n",
       "69692  2021-09-30 00:00:00.000000000 -34.613534 -58.465739   \n",
       "\n",
       "                  place_l3 property_type  property_rooms  property_bedrooms  \\\n",
       "0                    Boedo            PH             3.0                2.0   \n",
       "1                    Nuñez            PH             4.0                3.0   \n",
       "2                  Coghlan            PH             5.0                4.0   \n",
       "3                 Floresta            PH             2.0                1.0   \n",
       "4                 Paternal            PH             4.0                2.0   \n",
       "...                    ...           ...             ...                ...   \n",
       "69688    Parque Avellaneda  Departamento             3.0                2.0   \n",
       "69689    Parque Avellaneda            PH             3.0                2.0   \n",
       "69690     Villa Pueyrredón  Departamento             5.0                4.0   \n",
       "69691  Villa General Mitre  Departamento             5.0                4.0   \n",
       "69692  Villa General Mitre  Departamento             4.0                3.0   \n",
       "\n",
       "       property_surface_total  property_surface_covered  property_price  \\\n",
       "0                        54.0                      54.0         77000.0   \n",
       "1                       154.0                      93.0        260000.0   \n",
       "2                       145.0                     110.0        279000.0   \n",
       "3                        58.0                      47.0         97500.0   \n",
       "4                       127.0                      89.0        145000.0   \n",
       "...                       ...                       ...             ...   \n",
       "69688                    68.0                      64.0        109900.0   \n",
       "69689                    68.0                      64.0        109900.0   \n",
       "69690                   156.0                     127.0        379000.0   \n",
       "69691                   150.0                     150.0        550000.0   \n",
       "69692                   129.0                     120.0        269000.0   \n",
       "\n",
       "                                          property_title  \n",
       "0                    Oportunidad PH 3 Ambientes en Boedo  \n",
       "1                                             PH - Nuñez  \n",
       "2      UNICO PH LUMINOSO, TOTALM. RECICLADO- Coghlan ...  \n",
       "3      OLMOS 52: impecable PH de 2amb. más patio, apt...  \n",
       "4                                          PH - Paternal  \n",
       "...                                                  ...  \n",
       "69688      PH 3 AMBIENTES AMPLIO Y LUMINOSO SIN EXPENSAS  \n",
       "69689      PH 3 AMBIENTES AMPLIO Y LUMINOSO SIN EXPENSAS  \n",
       "69690  Departamento excelente edificio - Villa Pueyrr...  \n",
       "69691                    Departamento - Villa Gral.Mitre  \n",
       "69692  VENTA 4 AMB C/ DEP, Balcón Gran Vista  VILLA M...  \n",
       "\n",
       "[69693 rows x 14 columns]"
      ]
     },
     "execution_count": 9,
     "metadata": {},
     "output_type": "execute_result"
    }
   ],
   "source": [
    "delta_id_desc_props"
   ]
  },
  {
   "cell_type": "markdown",
   "metadata": {
    "pycharm": {
     "name": "#%% md\n"
    }
   },
   "source": [
    "#### Tecnica Minqing Hu y Bing Liu"
   ]
  },
  {
   "cell_type": "markdown",
   "metadata": {
    "pycharm": {
     "name": "#%% md\n"
    }
   },
   "source": [
    "Una forma de analizar el sentimiento de un de un texto es considerando su sentimiento como la suma de los sentimientos de cada una de las palabras que lo forman.\n",
    "\n",
    "Para el analisis de sentimiento nos guiamos del analisis realizado en esta pagina: https://www.cienciadedatos.net/documentos/py25-text-mining-python.html\n",
    "\n",
    "Utilizamos algunas funciones de tokenizacion y limpieza de ahi con alguna sutil modificacion para nuestro caso de uso en particular."
   ]
  },
  {
   "cell_type": "code",
   "execution_count": 10,
   "metadata": {
    "collapsed": false,
    "jupyter": {
     "outputs_hidden": false
    },
    "pycharm": {
     "name": "#%%\n"
    }
   },
   "outputs": [],
   "source": [
    "def limpiar_tokenizar(texto):\n",
    "    '''\n",
    "    Esta función limpia y tokeniza el texto en palabras individuales.\n",
    "    El orden en el que se va limpiando el texto no es arbitrario.\n",
    "    El listado de signos de puntuación se ha obtenido de: print(string.punctuation)\n",
    "    y re.escape(string.punctuation)\n",
    "    '''\n",
    "    \n",
    "    # Se convierte todo el texto a minúsculas\n",
    "    nuevo_texto = str(texto).lower()\n",
    "    # Eliminación de páginas web (palabras que empiezan por \"http\")\n",
    "    nuevo_texto = re.sub('http\\S+', ' ', nuevo_texto)\n",
    "    # Eliminación de signos de puntuación\n",
    "    regex = '[\\\\!\\\\¡\\\\\"\\\\#\\\\$\\\\%\\\\&\\\\\\'\\\\(\\\\)\\\\*\\\\+\\\\,\\\\-\\\\.\\\\/\\\\:\\\\;\\\\<\\\\=\\\\>\\\\?\\\\@\\\\[\\\\\\\\\\\\]\\\\^_\\\\`\\\\{\\\\|\\\\}\\\\~]'\n",
    "    nuevo_texto = re.sub(regex , ' ', nuevo_texto)\n",
    "    # Eliminación de números\n",
    "    nuevo_texto = re.sub(\"\\d+\", ' ', nuevo_texto)\n",
    "    # Eliminación de espacios en blanco múltiples\n",
    "    nuevo_texto = re.sub(\"\\\\s+\", ' ', nuevo_texto)\n",
    "    # Tokenización por palabras individuales\n",
    "    nuevo_texto = nuevo_texto.split(sep = ' ')\n",
    "    # Eliminación de tokens con una longitud < 2\n",
    "    nuevo_texto = [token for token in nuevo_texto if len(token) > 1]\n",
    "    \n",
    "    return(nuevo_texto)"
   ]
  },
  {
   "cell_type": "code",
   "execution_count": 11,
   "metadata": {
    "collapsed": false,
    "jupyter": {
     "outputs_hidden": false
    },
    "pycharm": {
     "name": "#%%\n"
    }
   },
   "outputs": [
    {
     "data": {
      "text/html": [
       "<div>\n",
       "<style scoped>\n",
       "    .dataframe tbody tr th:only-of-type {\n",
       "        vertical-align: middle;\n",
       "    }\n",
       "\n",
       "    .dataframe tbody tr th {\n",
       "        vertical-align: top;\n",
       "    }\n",
       "\n",
       "    .dataframe thead th {\n",
       "        text-align: right;\n",
       "    }\n",
       "</style>\n",
       "<table border=\"1\" class=\"dataframe\">\n",
       "  <thead>\n",
       "    <tr style=\"text-align: right;\">\n",
       "      <th></th>\n",
       "      <th>texto_tokenizado</th>\n",
       "    </tr>\n",
       "  </thead>\n",
       "  <tbody>\n",
       "    <tr>\n",
       "      <th>0</th>\n",
       "      <td>[corredor, responsable, maria, alejandra, geno...</td>\n",
       "    </tr>\n",
       "    <tr>\n",
       "      <th>1</th>\n",
       "      <td>[excelente, ph, en, núñez, amb, oportunidad, t...</td>\n",
       "    </tr>\n",
       "    <tr>\n",
       "      <th>2</th>\n",
       "      <td>[unico, ph, de, dormitorios, en, impecable, es...</td>\n",
       "    </tr>\n",
       "    <tr>\n",
       "      <th>3</th>\n",
       "      <td>[se, vende, excelente, ph, de, cómodos, ambien...</td>\n",
       "    </tr>\n",
       "    <tr>\n",
       "      <th>4</th>\n",
       "      <td>[venta, ph, ambientes, paternal, br, br, cálid...</td>\n",
       "    </tr>\n",
       "  </tbody>\n",
       "</table>\n",
       "</div>"
      ],
      "text/plain": [
       "                                    texto_tokenizado\n",
       "0  [corredor, responsable, maria, alejandra, geno...\n",
       "1  [excelente, ph, en, núñez, amb, oportunidad, t...\n",
       "2  [unico, ph, de, dormitorios, en, impecable, es...\n",
       "3  [se, vende, excelente, ph, de, cómodos, ambien...\n",
       "4  [venta, ph, ambientes, paternal, br, br, cálid..."
      ]
     },
     "execution_count": 11,
     "metadata": {},
     "output_type": "execute_result"
    }
   ],
   "source": [
    "# se aplica la función de limpieza y tokenización a cada descripcion\n",
    "\n",
    "delta_id_desc_props['texto_tokenizado'] = delta_id_desc_props['property_description'].apply(limpiar_tokenizar)\n",
    "delta_id_desc_props[['texto_tokenizado']].head()"
   ]
  },
  {
   "cell_type": "code",
   "execution_count": 12,
   "metadata": {
    "collapsed": false,
    "jupyter": {
     "outputs_hidden": false
    },
    "pycharm": {
     "name": "#%%\n"
    }
   },
   "outputs": [
    {
     "data": {
      "text/html": [
       "<div>\n",
       "<style scoped>\n",
       "    .dataframe tbody tr th:only-of-type {\n",
       "        vertical-align: middle;\n",
       "    }\n",
       "\n",
       "    .dataframe tbody tr th {\n",
       "        vertical-align: top;\n",
       "    }\n",
       "\n",
       "    .dataframe thead th {\n",
       "        text-align: right;\n",
       "    }\n",
       "</style>\n",
       "<table border=\"1\" class=\"dataframe\">\n",
       "  <thead>\n",
       "    <tr style=\"text-align: right;\">\n",
       "      <th></th>\n",
       "      <th>id</th>\n",
       "      <th>start_date</th>\n",
       "      <th>end_date</th>\n",
       "      <th>latitud</th>\n",
       "      <th>longitud</th>\n",
       "      <th>place_l3</th>\n",
       "      <th>property_type</th>\n",
       "      <th>property_rooms</th>\n",
       "      <th>property_bedrooms</th>\n",
       "      <th>property_surface_total</th>\n",
       "      <th>property_surface_covered</th>\n",
       "      <th>property_price</th>\n",
       "      <th>property_title</th>\n",
       "      <th>token</th>\n",
       "    </tr>\n",
       "  </thead>\n",
       "  <tbody>\n",
       "    <tr>\n",
       "      <th>0</th>\n",
       "      <td>BZCeiGkJr1WBUi6pKJQwJQ==</td>\n",
       "      <td>2021-05-02</td>\n",
       "      <td>2021-05-12 00:00:00.000000000</td>\n",
       "      <td>-34.629039</td>\n",
       "      <td>-58.423125</td>\n",
       "      <td>Boedo</td>\n",
       "      <td>PH</td>\n",
       "      <td>3.0</td>\n",
       "      <td>2.0</td>\n",
       "      <td>54.0</td>\n",
       "      <td>54.0</td>\n",
       "      <td>77000.0</td>\n",
       "      <td>Oportunidad PH 3 Ambientes en Boedo</td>\n",
       "      <td>corredor</td>\n",
       "    </tr>\n",
       "    <tr>\n",
       "      <th>0</th>\n",
       "      <td>BZCeiGkJr1WBUi6pKJQwJQ==</td>\n",
       "      <td>2021-05-02</td>\n",
       "      <td>2021-05-12 00:00:00.000000000</td>\n",
       "      <td>-34.629039</td>\n",
       "      <td>-58.423125</td>\n",
       "      <td>Boedo</td>\n",
       "      <td>PH</td>\n",
       "      <td>3.0</td>\n",
       "      <td>2.0</td>\n",
       "      <td>54.0</td>\n",
       "      <td>54.0</td>\n",
       "      <td>77000.0</td>\n",
       "      <td>Oportunidad PH 3 Ambientes en Boedo</td>\n",
       "      <td>responsable</td>\n",
       "    </tr>\n",
       "    <tr>\n",
       "      <th>0</th>\n",
       "      <td>BZCeiGkJr1WBUi6pKJQwJQ==</td>\n",
       "      <td>2021-05-02</td>\n",
       "      <td>2021-05-12 00:00:00.000000000</td>\n",
       "      <td>-34.629039</td>\n",
       "      <td>-58.423125</td>\n",
       "      <td>Boedo</td>\n",
       "      <td>PH</td>\n",
       "      <td>3.0</td>\n",
       "      <td>2.0</td>\n",
       "      <td>54.0</td>\n",
       "      <td>54.0</td>\n",
       "      <td>77000.0</td>\n",
       "      <td>Oportunidad PH 3 Ambientes en Boedo</td>\n",
       "      <td>maria</td>\n",
       "    </tr>\n",
       "    <tr>\n",
       "      <th>0</th>\n",
       "      <td>BZCeiGkJr1WBUi6pKJQwJQ==</td>\n",
       "      <td>2021-05-02</td>\n",
       "      <td>2021-05-12 00:00:00.000000000</td>\n",
       "      <td>-34.629039</td>\n",
       "      <td>-58.423125</td>\n",
       "      <td>Boedo</td>\n",
       "      <td>PH</td>\n",
       "      <td>3.0</td>\n",
       "      <td>2.0</td>\n",
       "      <td>54.0</td>\n",
       "      <td>54.0</td>\n",
       "      <td>77000.0</td>\n",
       "      <td>Oportunidad PH 3 Ambientes en Boedo</td>\n",
       "      <td>alejandra</td>\n",
       "    </tr>\n",
       "    <tr>\n",
       "      <th>0</th>\n",
       "      <td>BZCeiGkJr1WBUi6pKJQwJQ==</td>\n",
       "      <td>2021-05-02</td>\n",
       "      <td>2021-05-12 00:00:00.000000000</td>\n",
       "      <td>-34.629039</td>\n",
       "      <td>-58.423125</td>\n",
       "      <td>Boedo</td>\n",
       "      <td>PH</td>\n",
       "      <td>3.0</td>\n",
       "      <td>2.0</td>\n",
       "      <td>54.0</td>\n",
       "      <td>54.0</td>\n",
       "      <td>77000.0</td>\n",
       "      <td>Oportunidad PH 3 Ambientes en Boedo</td>\n",
       "      <td>genoveva</td>\n",
       "    </tr>\n",
       "  </tbody>\n",
       "</table>\n",
       "</div>"
      ],
      "text/plain": [
       "                         id  start_date                       end_date  \\\n",
       "0  BZCeiGkJr1WBUi6pKJQwJQ==  2021-05-02  2021-05-12 00:00:00.000000000   \n",
       "0  BZCeiGkJr1WBUi6pKJQwJQ==  2021-05-02  2021-05-12 00:00:00.000000000   \n",
       "0  BZCeiGkJr1WBUi6pKJQwJQ==  2021-05-02  2021-05-12 00:00:00.000000000   \n",
       "0  BZCeiGkJr1WBUi6pKJQwJQ==  2021-05-02  2021-05-12 00:00:00.000000000   \n",
       "0  BZCeiGkJr1WBUi6pKJQwJQ==  2021-05-02  2021-05-12 00:00:00.000000000   \n",
       "\n",
       "     latitud   longitud place_l3 property_type  property_rooms  \\\n",
       "0 -34.629039 -58.423125    Boedo            PH             3.0   \n",
       "0 -34.629039 -58.423125    Boedo            PH             3.0   \n",
       "0 -34.629039 -58.423125    Boedo            PH             3.0   \n",
       "0 -34.629039 -58.423125    Boedo            PH             3.0   \n",
       "0 -34.629039 -58.423125    Boedo            PH             3.0   \n",
       "\n",
       "   property_bedrooms  property_surface_total  property_surface_covered  \\\n",
       "0                2.0                    54.0                      54.0   \n",
       "0                2.0                    54.0                      54.0   \n",
       "0                2.0                    54.0                      54.0   \n",
       "0                2.0                    54.0                      54.0   \n",
       "0                2.0                    54.0                      54.0   \n",
       "\n",
       "   property_price                       property_title        token  \n",
       "0         77000.0  Oportunidad PH 3 Ambientes en Boedo     corredor  \n",
       "0         77000.0  Oportunidad PH 3 Ambientes en Boedo  responsable  \n",
       "0         77000.0  Oportunidad PH 3 Ambientes en Boedo        maria  \n",
       "0         77000.0  Oportunidad PH 3 Ambientes en Boedo    alejandra  \n",
       "0         77000.0  Oportunidad PH 3 Ambientes en Boedo     genoveva  "
      ]
     },
     "execution_count": 12,
     "metadata": {},
     "output_type": "execute_result"
    }
   ],
   "source": [
    "# unnest de la columna texto_tokenizado\n",
    "\n",
    "descriptions_tidy = delta_id_desc_props.explode(column='texto_tokenizado')\n",
    "descriptions_tidy = descriptions_tidy.drop(columns='property_description')\n",
    "descriptions_tidy = descriptions_tidy.rename(columns={'texto_tokenizado':'token'})\n",
    "descriptions_tidy.head()"
   ]
  },
  {
   "cell_type": "markdown",
   "metadata": {
    "pycharm": {
     "name": "#%% md\n"
    }
   },
   "source": [
    "Notamos que las preposiciones no son relevantes para entender que atributo podria ser mejor para expandir el datast, asi que decidimos agregarlas como stopwords.\n",
    "\n",
    "Tampoco van a variar mucho el analisis de sentimiento realizado en este trabajo."
   ]
  },
  {
   "cell_type": "code",
   "execution_count": 13,
   "metadata": {
    "collapsed": false,
    "jupyter": {
     "outputs_hidden": false
    },
    "pycharm": {
     "is_executing": true,
     "name": "#%%\n"
    }
   },
   "outputs": [],
   "source": [
    "## listado de stopwords\n",
    "\n",
    "preposiciones = [\"a\", \"ante\", \"bajo\", \"(cabe)\", \"con\", \"contra\", \"de\", \"desde\", \"durante\", \"en\", \"entre\", \"hacia\", \"hasta\", \"mediante\", \"para\", \"por\", \"según\", \"sin\", \"sobre\", \"tras\", \"vía\"]\n",
    "\n",
    "stop_words = []\n",
    "\n",
    "stop_words += preposiciones\n",
    "\n",
    "# filtrado para excluir stopwords\n",
    "descriptions_tidy = descriptions_tidy[~(descriptions_tidy[\"token\"].isin(stop_words))]"
   ]
  },
  {
   "cell_type": "markdown",
   "metadata": {
    "pycharm": {
     "name": "#%% md\n"
    }
   },
   "source": [
    "Agregamos un lexicon en español de esta pagina: https://github.com/jboscomendoza/lexicos-nrc-afinn"
   ]
  },
  {
   "cell_type": "code",
   "execution_count": 14,
   "metadata": {
    "collapsed": false,
    "jupyter": {
     "outputs_hidden": false
    },
    "pycharm": {
     "name": "#%%\n"
    }
   },
   "outputs": [
    {
     "data": {
      "text/html": [
       "<div>\n",
       "<style scoped>\n",
       "    .dataframe tbody tr th:only-of-type {\n",
       "        vertical-align: middle;\n",
       "    }\n",
       "\n",
       "    .dataframe tbody tr th {\n",
       "        vertical-align: top;\n",
       "    }\n",
       "\n",
       "    .dataframe thead th {\n",
       "        text-align: right;\n",
       "    }\n",
       "</style>\n",
       "<table border=\"1\" class=\"dataframe\">\n",
       "  <thead>\n",
       "    <tr style=\"text-align: right;\">\n",
       "      <th></th>\n",
       "      <th>palabra</th>\n",
       "      <th>sentimiento</th>\n",
       "      <th>word</th>\n",
       "    </tr>\n",
       "  </thead>\n",
       "  <tbody>\n",
       "    <tr>\n",
       "      <th>0</th>\n",
       "      <td>ciegamente</td>\n",
       "      <td>negativo</td>\n",
       "      <td>blindly</td>\n",
       "    </tr>\n",
       "    <tr>\n",
       "      <th>1</th>\n",
       "      <td>ciegamente</td>\n",
       "      <td>tristeza</td>\n",
       "      <td>blindly</td>\n",
       "    </tr>\n",
       "    <tr>\n",
       "      <th>2</th>\n",
       "      <td>a distancia</td>\n",
       "      <td>negativo</td>\n",
       "      <td>aloof</td>\n",
       "    </tr>\n",
       "    <tr>\n",
       "      <th>3</th>\n",
       "      <td>a hurtadillas</td>\n",
       "      <td>sorpresa</td>\n",
       "      <td>stealthily</td>\n",
       "    </tr>\n",
       "    <tr>\n",
       "      <th>4</th>\n",
       "      <td>a la deriva</td>\n",
       "      <td>anticipación</td>\n",
       "      <td>adrift</td>\n",
       "    </tr>\n",
       "    <tr>\n",
       "      <th>...</th>\n",
       "      <td>...</td>\n",
       "      <td>...</td>\n",
       "      <td>...</td>\n",
       "    </tr>\n",
       "    <tr>\n",
       "      <th>15302</th>\n",
       "      <td>zumbido</td>\n",
       "      <td>anticipación</td>\n",
       "      <td>buzz</td>\n",
       "    </tr>\n",
       "    <tr>\n",
       "      <th>15303</th>\n",
       "      <td>zumbido</td>\n",
       "      <td>miedo</td>\n",
       "      <td>buzz</td>\n",
       "    </tr>\n",
       "    <tr>\n",
       "      <th>15304</th>\n",
       "      <td>zumbido</td>\n",
       "      <td>positivo</td>\n",
       "      <td>buzz</td>\n",
       "    </tr>\n",
       "    <tr>\n",
       "      <th>15305</th>\n",
       "      <td>zumbido</td>\n",
       "      <td>negativo</td>\n",
       "      <td>drone</td>\n",
       "    </tr>\n",
       "    <tr>\n",
       "      <th>15306</th>\n",
       "      <td>zurcidura</td>\n",
       "      <td>positivo</td>\n",
       "      <td>mending</td>\n",
       "    </tr>\n",
       "  </tbody>\n",
       "</table>\n",
       "<p>15307 rows × 3 columns</p>\n",
       "</div>"
      ],
      "text/plain": [
       "             palabra   sentimiento        word\n",
       "0         ciegamente      negativo     blindly\n",
       "1         ciegamente      tristeza     blindly\n",
       "2        a distancia      negativo       aloof\n",
       "3      a hurtadillas      sorpresa  stealthily\n",
       "4        a la deriva  anticipación      adrift\n",
       "...              ...           ...         ...\n",
       "15302        zumbido  anticipación        buzz\n",
       "15303        zumbido         miedo        buzz\n",
       "15304        zumbido      positivo        buzz\n",
       "15305        zumbido      negativo       drone\n",
       "15306      zurcidura      positivo     mending\n",
       "\n",
       "[15307 rows x 3 columns]"
      ]
     },
     "execution_count": 14,
     "metadata": {},
     "output_type": "execute_result"
    }
   ],
   "source": [
    "# lexicon sentimientos\n",
    "lexicon = pd.read_csv('datasets/lexico_nrc.csv')\n",
    "lexicon"
   ]
  },
  {
   "cell_type": "code",
   "execution_count": 15,
   "metadata": {
    "collapsed": false,
    "jupyter": {
     "outputs_hidden": false
    },
    "pycharm": {
     "name": "#%%\n"
    }
   },
   "outputs": [],
   "source": [
    "def mappear_valores_sentimiento(s):\n",
    "    # 1 Positivo\n",
    "    # 0 Neutro\n",
    "    # -1 Negativo\n",
    "    sentimiento_numerico = 0\n",
    "    if str(s) in ['negativo', 'tristeza', 'miedo', 'enfado', 'tristeza', 'asco']:\n",
    "        sentimiento_numerico = -1\n",
    "    if str(s) in ['sorpresa', 'positivo', 'confianza', 'alegría']:\n",
    "        sentimiento_numerico = 1\n",
    "    if str(s) in ['anticipación']:\n",
    "        sentimiento_numerico = 0\n",
    "        \n",
    "    return sentimiento_numerico\n",
    "    "
   ]
  },
  {
   "cell_type": "code",
   "execution_count": 16,
   "metadata": {
    "collapsed": false,
    "jupyter": {
     "outputs_hidden": false
    },
    "pycharm": {
     "name": "#%%\n"
    }
   },
   "outputs": [
    {
     "data": {
      "text/html": [
       "<div>\n",
       "<style scoped>\n",
       "    .dataframe tbody tr th:only-of-type {\n",
       "        vertical-align: middle;\n",
       "    }\n",
       "\n",
       "    .dataframe tbody tr th {\n",
       "        vertical-align: top;\n",
       "    }\n",
       "\n",
       "    .dataframe thead th {\n",
       "        text-align: right;\n",
       "    }\n",
       "</style>\n",
       "<table border=\"1\" class=\"dataframe\">\n",
       "  <thead>\n",
       "    <tr style=\"text-align: right;\">\n",
       "      <th></th>\n",
       "      <th>sentimiento</th>\n",
       "    </tr>\n",
       "  </thead>\n",
       "  <tbody>\n",
       "    <tr>\n",
       "      <th>0</th>\n",
       "      <td>-1</td>\n",
       "    </tr>\n",
       "    <tr>\n",
       "      <th>1</th>\n",
       "      <td>-1</td>\n",
       "    </tr>\n",
       "    <tr>\n",
       "      <th>2</th>\n",
       "      <td>-1</td>\n",
       "    </tr>\n",
       "    <tr>\n",
       "      <th>3</th>\n",
       "      <td>1</td>\n",
       "    </tr>\n",
       "    <tr>\n",
       "      <th>4</th>\n",
       "      <td>0</td>\n",
       "    </tr>\n",
       "  </tbody>\n",
       "</table>\n",
       "</div>"
      ],
      "text/plain": [
       "   sentimiento\n",
       "0           -1\n",
       "1           -1\n",
       "2           -1\n",
       "3            1\n",
       "4            0"
      ]
     },
     "execution_count": 16,
     "metadata": {},
     "output_type": "execute_result"
    }
   ],
   "source": [
    "lexicon['sentimiento'] = lexicon['sentimiento'].apply(lambda x: mappear_valores_sentimiento(x))\n",
    "lexicon[['sentimiento']].head()"
   ]
  },
  {
   "cell_type": "code",
   "execution_count": 17,
   "metadata": {
    "collapsed": false,
    "jupyter": {
     "outputs_hidden": false
    },
    "pycharm": {
     "name": "#%%\n"
    }
   },
   "outputs": [
    {
     "data": {
      "text/html": [
       "<div>\n",
       "<style scoped>\n",
       "    .dataframe tbody tr th:only-of-type {\n",
       "        vertical-align: middle;\n",
       "    }\n",
       "\n",
       "    .dataframe tbody tr th {\n",
       "        vertical-align: top;\n",
       "    }\n",
       "\n",
       "    .dataframe thead th {\n",
       "        text-align: right;\n",
       "    }\n",
       "</style>\n",
       "<table border=\"1\" class=\"dataframe\">\n",
       "  <thead>\n",
       "    <tr style=\"text-align: right;\">\n",
       "      <th></th>\n",
       "      <th>id</th>\n",
       "      <th>start_date</th>\n",
       "      <th>end_date</th>\n",
       "      <th>latitud</th>\n",
       "      <th>longitud</th>\n",
       "      <th>place_l3</th>\n",
       "      <th>property_type</th>\n",
       "      <th>property_rooms</th>\n",
       "      <th>property_bedrooms</th>\n",
       "      <th>property_surface_total</th>\n",
       "      <th>property_surface_covered</th>\n",
       "      <th>property_price</th>\n",
       "      <th>property_title</th>\n",
       "      <th>token</th>\n",
       "    </tr>\n",
       "  </thead>\n",
       "  <tbody>\n",
       "    <tr>\n",
       "      <th>0</th>\n",
       "      <td>BZCeiGkJr1WBUi6pKJQwJQ==</td>\n",
       "      <td>2021-05-02</td>\n",
       "      <td>2021-05-12 00:00:00.000000000</td>\n",
       "      <td>-34.629039</td>\n",
       "      <td>-58.423125</td>\n",
       "      <td>Boedo</td>\n",
       "      <td>PH</td>\n",
       "      <td>3.0</td>\n",
       "      <td>2.0</td>\n",
       "      <td>54.0</td>\n",
       "      <td>54.0</td>\n",
       "      <td>77000.0</td>\n",
       "      <td>Oportunidad PH 3 Ambientes en Boedo</td>\n",
       "      <td>corredor</td>\n",
       "    </tr>\n",
       "    <tr>\n",
       "      <th>0</th>\n",
       "      <td>BZCeiGkJr1WBUi6pKJQwJQ==</td>\n",
       "      <td>2021-05-02</td>\n",
       "      <td>2021-05-12 00:00:00.000000000</td>\n",
       "      <td>-34.629039</td>\n",
       "      <td>-58.423125</td>\n",
       "      <td>Boedo</td>\n",
       "      <td>PH</td>\n",
       "      <td>3.0</td>\n",
       "      <td>2.0</td>\n",
       "      <td>54.0</td>\n",
       "      <td>54.0</td>\n",
       "      <td>77000.0</td>\n",
       "      <td>Oportunidad PH 3 Ambientes en Boedo</td>\n",
       "      <td>maria</td>\n",
       "    </tr>\n",
       "    <tr>\n",
       "      <th>0</th>\n",
       "      <td>BZCeiGkJr1WBUi6pKJQwJQ==</td>\n",
       "      <td>2021-05-02</td>\n",
       "      <td>2021-05-12 00:00:00.000000000</td>\n",
       "      <td>-34.629039</td>\n",
       "      <td>-58.423125</td>\n",
       "      <td>Boedo</td>\n",
       "      <td>PH</td>\n",
       "      <td>3.0</td>\n",
       "      <td>2.0</td>\n",
       "      <td>54.0</td>\n",
       "      <td>54.0</td>\n",
       "      <td>77000.0</td>\n",
       "      <td>Oportunidad PH 3 Ambientes en Boedo</td>\n",
       "      <td>alejandra</td>\n",
       "    </tr>\n",
       "    <tr>\n",
       "      <th>0</th>\n",
       "      <td>BZCeiGkJr1WBUi6pKJQwJQ==</td>\n",
       "      <td>2021-05-02</td>\n",
       "      <td>2021-05-12 00:00:00.000000000</td>\n",
       "      <td>-34.629039</td>\n",
       "      <td>-58.423125</td>\n",
       "      <td>Boedo</td>\n",
       "      <td>PH</td>\n",
       "      <td>3.0</td>\n",
       "      <td>2.0</td>\n",
       "      <td>54.0</td>\n",
       "      <td>54.0</td>\n",
       "      <td>77000.0</td>\n",
       "      <td>Oportunidad PH 3 Ambientes en Boedo</td>\n",
       "      <td>genoveva</td>\n",
       "    </tr>\n",
       "    <tr>\n",
       "      <th>0</th>\n",
       "      <td>BZCeiGkJr1WBUi6pKJQwJQ==</td>\n",
       "      <td>2021-05-02</td>\n",
       "      <td>2021-05-12 00:00:00.000000000</td>\n",
       "      <td>-34.629039</td>\n",
       "      <td>-58.423125</td>\n",
       "      <td>Boedo</td>\n",
       "      <td>PH</td>\n",
       "      <td>3.0</td>\n",
       "      <td>2.0</td>\n",
       "      <td>54.0</td>\n",
       "      <td>54.0</td>\n",
       "      <td>77000.0</td>\n",
       "      <td>Oportunidad PH 3 Ambientes en Boedo</td>\n",
       "      <td>bohn</td>\n",
       "    </tr>\n",
       "  </tbody>\n",
       "</table>\n",
       "</div>"
      ],
      "text/plain": [
       "                         id  start_date                       end_date  \\\n",
       "0  BZCeiGkJr1WBUi6pKJQwJQ==  2021-05-02  2021-05-12 00:00:00.000000000   \n",
       "0  BZCeiGkJr1WBUi6pKJQwJQ==  2021-05-02  2021-05-12 00:00:00.000000000   \n",
       "0  BZCeiGkJr1WBUi6pKJQwJQ==  2021-05-02  2021-05-12 00:00:00.000000000   \n",
       "0  BZCeiGkJr1WBUi6pKJQwJQ==  2021-05-02  2021-05-12 00:00:00.000000000   \n",
       "0  BZCeiGkJr1WBUi6pKJQwJQ==  2021-05-02  2021-05-12 00:00:00.000000000   \n",
       "\n",
       "     latitud   longitud place_l3 property_type  property_rooms  \\\n",
       "0 -34.629039 -58.423125    Boedo            PH             3.0   \n",
       "0 -34.629039 -58.423125    Boedo            PH             3.0   \n",
       "0 -34.629039 -58.423125    Boedo            PH             3.0   \n",
       "0 -34.629039 -58.423125    Boedo            PH             3.0   \n",
       "0 -34.629039 -58.423125    Boedo            PH             3.0   \n",
       "\n",
       "   property_bedrooms  property_surface_total  property_surface_covered  \\\n",
       "0                2.0                    54.0                      54.0   \n",
       "0                2.0                    54.0                      54.0   \n",
       "0                2.0                    54.0                      54.0   \n",
       "0                2.0                    54.0                      54.0   \n",
       "0                2.0                    54.0                      54.0   \n",
       "\n",
       "   property_price                       property_title      token  \n",
       "0         77000.0  Oportunidad PH 3 Ambientes en Boedo   corredor  \n",
       "0         77000.0  Oportunidad PH 3 Ambientes en Boedo      maria  \n",
       "0         77000.0  Oportunidad PH 3 Ambientes en Boedo  alejandra  \n",
       "0         77000.0  Oportunidad PH 3 Ambientes en Boedo   genoveva  \n",
       "0         77000.0  Oportunidad PH 3 Ambientes en Boedo       bohn  "
      ]
     },
     "execution_count": 17,
     "metadata": {},
     "output_type": "execute_result"
    }
   ],
   "source": [
    "descriptions_tidy[~descriptions_tidy.token.isin(lexicon.palabra)].head()"
   ]
  },
  {
   "cell_type": "code",
   "execution_count": 18,
   "metadata": {
    "collapsed": false,
    "jupyter": {
     "outputs_hidden": false
    },
    "pycharm": {
     "name": "#%%\n"
    }
   },
   "outputs": [
    {
     "data": {
      "text/html": [
       "<div>\n",
       "<style scoped>\n",
       "    .dataframe tbody tr th:only-of-type {\n",
       "        vertical-align: middle;\n",
       "    }\n",
       "\n",
       "    .dataframe tbody tr th {\n",
       "        vertical-align: top;\n",
       "    }\n",
       "\n",
       "    .dataframe thead th {\n",
       "        text-align: right;\n",
       "    }\n",
       "</style>\n",
       "<table border=\"1\" class=\"dataframe\">\n",
       "  <thead>\n",
       "    <tr style=\"text-align: right;\">\n",
       "      <th></th>\n",
       "      <th>palabra</th>\n",
       "      <th>sentimiento</th>\n",
       "      <th>word</th>\n",
       "    </tr>\n",
       "  </thead>\n",
       "  <tbody>\n",
       "    <tr>\n",
       "      <th>0</th>\n",
       "      <td>ciegamente</td>\n",
       "      <td>-1</td>\n",
       "      <td>blindly</td>\n",
       "    </tr>\n",
       "    <tr>\n",
       "      <th>1</th>\n",
       "      <td>ciegamente</td>\n",
       "      <td>-1</td>\n",
       "      <td>blindly</td>\n",
       "    </tr>\n",
       "    <tr>\n",
       "      <th>2</th>\n",
       "      <td>a distancia</td>\n",
       "      <td>-1</td>\n",
       "      <td>aloof</td>\n",
       "    </tr>\n",
       "    <tr>\n",
       "      <th>3</th>\n",
       "      <td>a hurtadillas</td>\n",
       "      <td>1</td>\n",
       "      <td>stealthily</td>\n",
       "    </tr>\n",
       "    <tr>\n",
       "      <th>4</th>\n",
       "      <td>a la deriva</td>\n",
       "      <td>0</td>\n",
       "      <td>adrift</td>\n",
       "    </tr>\n",
       "  </tbody>\n",
       "</table>\n",
       "</div>"
      ],
      "text/plain": [
       "         palabra  sentimiento        word\n",
       "0     ciegamente           -1     blindly\n",
       "1     ciegamente           -1     blindly\n",
       "2    a distancia           -1       aloof\n",
       "3  a hurtadillas            1  stealthily\n",
       "4    a la deriva            0      adrift"
      ]
     },
     "execution_count": 18,
     "metadata": {},
     "output_type": "execute_result"
    }
   ],
   "source": [
    "lexicon[~lexicon.palabra.isin(descriptions_tidy.token)].head()"
   ]
  },
  {
   "cell_type": "code",
   "execution_count": 19,
   "metadata": {
    "collapsed": false,
    "jupyter": {
     "outputs_hidden": false
    },
    "pycharm": {
     "name": "#%%\n"
    }
   },
   "outputs": [
    {
     "data": {
      "text/html": [
       "<div>\n",
       "<style scoped>\n",
       "    .dataframe tbody tr th:only-of-type {\n",
       "        vertical-align: middle;\n",
       "    }\n",
       "\n",
       "    .dataframe tbody tr th {\n",
       "        vertical-align: top;\n",
       "    }\n",
       "\n",
       "    .dataframe thead th {\n",
       "        text-align: right;\n",
       "    }\n",
       "</style>\n",
       "<table border=\"1\" class=\"dataframe\">\n",
       "  <thead>\n",
       "    <tr style=\"text-align: right;\">\n",
       "      <th></th>\n",
       "      <th>id</th>\n",
       "      <th>start_date</th>\n",
       "      <th>end_date</th>\n",
       "      <th>latitud</th>\n",
       "      <th>longitud</th>\n",
       "      <th>place_l3</th>\n",
       "      <th>property_type</th>\n",
       "      <th>property_rooms</th>\n",
       "      <th>property_bedrooms</th>\n",
       "      <th>property_surface_total</th>\n",
       "      <th>property_surface_covered</th>\n",
       "      <th>property_price</th>\n",
       "      <th>property_title</th>\n",
       "      <th>token</th>\n",
       "      <th>sentimiento</th>\n",
       "    </tr>\n",
       "  </thead>\n",
       "  <tbody>\n",
       "    <tr>\n",
       "      <th>0</th>\n",
       "      <td>BZCeiGkJr1WBUi6pKJQwJQ==</td>\n",
       "      <td>2021-05-02</td>\n",
       "      <td>2021-05-12 00:00:00.000000000</td>\n",
       "      <td>-34.629039</td>\n",
       "      <td>-58.423125</td>\n",
       "      <td>Boedo</td>\n",
       "      <td>PH</td>\n",
       "      <td>3.0</td>\n",
       "      <td>2.0</td>\n",
       "      <td>54.0</td>\n",
       "      <td>54.0</td>\n",
       "      <td>77000.0</td>\n",
       "      <td>Oportunidad PH 3 Ambientes en Boedo</td>\n",
       "      <td>responsable</td>\n",
       "      <td>1</td>\n",
       "    </tr>\n",
       "    <tr>\n",
       "      <th>1</th>\n",
       "      <td>BZCeiGkJr1WBUi6pKJQwJQ==</td>\n",
       "      <td>2021-05-02</td>\n",
       "      <td>2021-05-12 00:00:00.000000000</td>\n",
       "      <td>-34.629039</td>\n",
       "      <td>-58.423125</td>\n",
       "      <td>Boedo</td>\n",
       "      <td>PH</td>\n",
       "      <td>3.0</td>\n",
       "      <td>2.0</td>\n",
       "      <td>54.0</td>\n",
       "      <td>54.0</td>\n",
       "      <td>77000.0</td>\n",
       "      <td>Oportunidad PH 3 Ambientes en Boedo</td>\n",
       "      <td>responsable</td>\n",
       "      <td>1</td>\n",
       "    </tr>\n",
       "    <tr>\n",
       "      <th>2</th>\n",
       "      <td>BZCeiGkJr1WBUi6pKJQwJQ==</td>\n",
       "      <td>2021-05-02</td>\n",
       "      <td>2021-05-12 00:00:00.000000000</td>\n",
       "      <td>-34.629039</td>\n",
       "      <td>-58.423125</td>\n",
       "      <td>Boedo</td>\n",
       "      <td>PH</td>\n",
       "      <td>3.0</td>\n",
       "      <td>2.0</td>\n",
       "      <td>54.0</td>\n",
       "      <td>54.0</td>\n",
       "      <td>77000.0</td>\n",
       "      <td>Oportunidad PH 3 Ambientes en Boedo</td>\n",
       "      <td>responsable</td>\n",
       "      <td>1</td>\n",
       "    </tr>\n",
       "    <tr>\n",
       "      <th>3</th>\n",
       "      <td>ns8QWxBXYIdnEccdiu3qog==</td>\n",
       "      <td>2021-05-02</td>\n",
       "      <td>2021-05-12 00:00:00.000000000</td>\n",
       "      <td>-34.551132</td>\n",
       "      <td>-58.474379</td>\n",
       "      <td>Saavedra</td>\n",
       "      <td>Casa</td>\n",
       "      <td>4.0</td>\n",
       "      <td>3.0</td>\n",
       "      <td>195.0</td>\n",
       "      <td>195.0</td>\n",
       "      <td>470000.0</td>\n",
       "      <td>VENTA CASA TRIPLEX 4 AMB SAAVEDRA  C/COCHERA</td>\n",
       "      <td>responsable</td>\n",
       "      <td>1</td>\n",
       "    </tr>\n",
       "    <tr>\n",
       "      <th>4</th>\n",
       "      <td>ns8QWxBXYIdnEccdiu3qog==</td>\n",
       "      <td>2021-05-02</td>\n",
       "      <td>2021-05-12 00:00:00.000000000</td>\n",
       "      <td>-34.551132</td>\n",
       "      <td>-58.474379</td>\n",
       "      <td>Saavedra</td>\n",
       "      <td>Casa</td>\n",
       "      <td>4.0</td>\n",
       "      <td>3.0</td>\n",
       "      <td>195.0</td>\n",
       "      <td>195.0</td>\n",
       "      <td>470000.0</td>\n",
       "      <td>VENTA CASA TRIPLEX 4 AMB SAAVEDRA  C/COCHERA</td>\n",
       "      <td>responsable</td>\n",
       "      <td>1</td>\n",
       "    </tr>\n",
       "    <tr>\n",
       "      <th>...</th>\n",
       "      <td>...</td>\n",
       "      <td>...</td>\n",
       "      <td>...</td>\n",
       "      <td>...</td>\n",
       "      <td>...</td>\n",
       "      <td>...</td>\n",
       "      <td>...</td>\n",
       "      <td>...</td>\n",
       "      <td>...</td>\n",
       "      <td>...</td>\n",
       "      <td>...</td>\n",
       "      <td>...</td>\n",
       "      <td>...</td>\n",
       "      <td>...</td>\n",
       "      <td>...</td>\n",
       "    </tr>\n",
       "    <tr>\n",
       "      <th>3345394</th>\n",
       "      <td>PXo/GO5I1U9YYzkzkXLGNw==</td>\n",
       "      <td>2021-12-16</td>\n",
       "      <td>2022-02-09 00:00:00.000000000</td>\n",
       "      <td>-34.608323</td>\n",
       "      <td>-58.508828</td>\n",
       "      <td>Villa del Parque</td>\n",
       "      <td>Departamento</td>\n",
       "      <td>4.0</td>\n",
       "      <td>3.0</td>\n",
       "      <td>120.0</td>\n",
       "      <td>105.0</td>\n",
       "      <td>285000.0</td>\n",
       "      <td>S /Piso 4amb dep/ coch/ Bau/ se escucha oferta...</td>\n",
       "      <td>deservicio</td>\n",
       "      <td>-1</td>\n",
       "    </tr>\n",
       "    <tr>\n",
       "      <th>3345395</th>\n",
       "      <td>PXo/GO5I1U9YYzkzkXLGNw==</td>\n",
       "      <td>2021-12-16</td>\n",
       "      <td>2022-02-09 00:00:00.000000000</td>\n",
       "      <td>-34.608323</td>\n",
       "      <td>-58.508828</td>\n",
       "      <td>Villa del Parque</td>\n",
       "      <td>Departamento</td>\n",
       "      <td>4.0</td>\n",
       "      <td>3.0</td>\n",
       "      <td>120.0</td>\n",
       "      <td>105.0</td>\n",
       "      <td>285000.0</td>\n",
       "      <td>S /Piso 4amb dep/ coch/ Bau/ se escucha oferta...</td>\n",
       "      <td>deservicio</td>\n",
       "      <td>-1</td>\n",
       "    </tr>\n",
       "    <tr>\n",
       "      <th>3345396</th>\n",
       "      <td>PXo/GO5I1U9YYzkzkXLGNw==</td>\n",
       "      <td>2021-12-16</td>\n",
       "      <td>2022-02-09 00:00:00.000000000</td>\n",
       "      <td>-34.608323</td>\n",
       "      <td>-58.508828</td>\n",
       "      <td>Villa del Parque</td>\n",
       "      <td>Departamento</td>\n",
       "      <td>4.0</td>\n",
       "      <td>3.0</td>\n",
       "      <td>120.0</td>\n",
       "      <td>105.0</td>\n",
       "      <td>285000.0</td>\n",
       "      <td>S /Piso 4amb dep/ coch/ Bau/ se escucha oferta...</td>\n",
       "      <td>deservicio</td>\n",
       "      <td>-1</td>\n",
       "    </tr>\n",
       "    <tr>\n",
       "      <th>3345397</th>\n",
       "      <td>PXo/GO5I1U9YYzkzkXLGNw==</td>\n",
       "      <td>2021-12-16</td>\n",
       "      <td>2022-02-09 00:00:00.000000000</td>\n",
       "      <td>-34.608323</td>\n",
       "      <td>-58.508828</td>\n",
       "      <td>Villa del Parque</td>\n",
       "      <td>Departamento</td>\n",
       "      <td>4.0</td>\n",
       "      <td>3.0</td>\n",
       "      <td>120.0</td>\n",
       "      <td>105.0</td>\n",
       "      <td>285000.0</td>\n",
       "      <td>S /Piso 4amb dep/ coch/ Bau/ se escucha oferta...</td>\n",
       "      <td>deservicio</td>\n",
       "      <td>-1</td>\n",
       "    </tr>\n",
       "    <tr>\n",
       "      <th>3345398</th>\n",
       "      <td>IfWo3Tzsr2wDA994p/0CvQ==</td>\n",
       "      <td>2021-09-29</td>\n",
       "      <td>2022-01-27 00:00:00.000000000</td>\n",
       "      <td>-34.595807</td>\n",
       "      <td>-58.443408</td>\n",
       "      <td>Villa Crespo</td>\n",
       "      <td>Departamento</td>\n",
       "      <td>4.0</td>\n",
       "      <td>3.0</td>\n",
       "      <td>67.0</td>\n",
       "      <td>67.0</td>\n",
       "      <td>149900.0</td>\n",
       "      <td>Departamento - Villa Crespo</td>\n",
       "      <td>localizar</td>\n",
       "      <td>0</td>\n",
       "    </tr>\n",
       "  </tbody>\n",
       "</table>\n",
       "<p>3345399 rows × 15 columns</p>\n",
       "</div>"
      ],
      "text/plain": [
       "                               id  start_date                       end_date  \\\n",
       "0        BZCeiGkJr1WBUi6pKJQwJQ==  2021-05-02  2021-05-12 00:00:00.000000000   \n",
       "1        BZCeiGkJr1WBUi6pKJQwJQ==  2021-05-02  2021-05-12 00:00:00.000000000   \n",
       "2        BZCeiGkJr1WBUi6pKJQwJQ==  2021-05-02  2021-05-12 00:00:00.000000000   \n",
       "3        ns8QWxBXYIdnEccdiu3qog==  2021-05-02  2021-05-12 00:00:00.000000000   \n",
       "4        ns8QWxBXYIdnEccdiu3qog==  2021-05-02  2021-05-12 00:00:00.000000000   \n",
       "...                           ...         ...                            ...   \n",
       "3345394  PXo/GO5I1U9YYzkzkXLGNw==  2021-12-16  2022-02-09 00:00:00.000000000   \n",
       "3345395  PXo/GO5I1U9YYzkzkXLGNw==  2021-12-16  2022-02-09 00:00:00.000000000   \n",
       "3345396  PXo/GO5I1U9YYzkzkXLGNw==  2021-12-16  2022-02-09 00:00:00.000000000   \n",
       "3345397  PXo/GO5I1U9YYzkzkXLGNw==  2021-12-16  2022-02-09 00:00:00.000000000   \n",
       "3345398  IfWo3Tzsr2wDA994p/0CvQ==  2021-09-29  2022-01-27 00:00:00.000000000   \n",
       "\n",
       "           latitud   longitud          place_l3 property_type  property_rooms  \\\n",
       "0       -34.629039 -58.423125             Boedo            PH             3.0   \n",
       "1       -34.629039 -58.423125             Boedo            PH             3.0   \n",
       "2       -34.629039 -58.423125             Boedo            PH             3.0   \n",
       "3       -34.551132 -58.474379          Saavedra          Casa             4.0   \n",
       "4       -34.551132 -58.474379          Saavedra          Casa             4.0   \n",
       "...            ...        ...               ...           ...             ...   \n",
       "3345394 -34.608323 -58.508828  Villa del Parque  Departamento             4.0   \n",
       "3345395 -34.608323 -58.508828  Villa del Parque  Departamento             4.0   \n",
       "3345396 -34.608323 -58.508828  Villa del Parque  Departamento             4.0   \n",
       "3345397 -34.608323 -58.508828  Villa del Parque  Departamento             4.0   \n",
       "3345398 -34.595807 -58.443408      Villa Crespo  Departamento             4.0   \n",
       "\n",
       "         property_bedrooms  property_surface_total  property_surface_covered  \\\n",
       "0                      2.0                    54.0                      54.0   \n",
       "1                      2.0                    54.0                      54.0   \n",
       "2                      2.0                    54.0                      54.0   \n",
       "3                      3.0                   195.0                     195.0   \n",
       "4                      3.0                   195.0                     195.0   \n",
       "...                    ...                     ...                       ...   \n",
       "3345394                3.0                   120.0                     105.0   \n",
       "3345395                3.0                   120.0                     105.0   \n",
       "3345396                3.0                   120.0                     105.0   \n",
       "3345397                3.0                   120.0                     105.0   \n",
       "3345398                3.0                    67.0                      67.0   \n",
       "\n",
       "         property_price                                     property_title  \\\n",
       "0               77000.0                Oportunidad PH 3 Ambientes en Boedo   \n",
       "1               77000.0                Oportunidad PH 3 Ambientes en Boedo   \n",
       "2               77000.0                Oportunidad PH 3 Ambientes en Boedo   \n",
       "3              470000.0       VENTA CASA TRIPLEX 4 AMB SAAVEDRA  C/COCHERA   \n",
       "4              470000.0       VENTA CASA TRIPLEX 4 AMB SAAVEDRA  C/COCHERA   \n",
       "...                 ...                                                ...   \n",
       "3345394        285000.0  S /Piso 4amb dep/ coch/ Bau/ se escucha oferta...   \n",
       "3345395        285000.0  S /Piso 4amb dep/ coch/ Bau/ se escucha oferta...   \n",
       "3345396        285000.0  S /Piso 4amb dep/ coch/ Bau/ se escucha oferta...   \n",
       "3345397        285000.0  S /Piso 4amb dep/ coch/ Bau/ se escucha oferta...   \n",
       "3345398        149900.0                        Departamento - Villa Crespo   \n",
       "\n",
       "               token  sentimiento  \n",
       "0        responsable            1  \n",
       "1        responsable            1  \n",
       "2        responsable            1  \n",
       "3        responsable            1  \n",
       "4        responsable            1  \n",
       "...              ...          ...  \n",
       "3345394   deservicio           -1  \n",
       "3345395   deservicio           -1  \n",
       "3345396   deservicio           -1  \n",
       "3345397   deservicio           -1  \n",
       "3345398    localizar            0  \n",
       "\n",
       "[3345399 rows x 15 columns]"
      ]
     },
     "execution_count": 19,
     "metadata": {},
     "output_type": "execute_result"
    }
   ],
   "source": [
    "# sentimiento promedio de cada descripcion\n",
    "descripcion_sentimientos = pd.merge(\n",
    "                            left     = descriptions_tidy,\n",
    "                            right    = lexicon,\n",
    "                            left_on  = \"token\", \n",
    "                            right_on = \"palabra\",\n",
    "                            how      = \"inner\"\n",
    "                      )\n",
    "\n",
    "descripcion_sentimientos = descripcion_sentimientos.drop(columns = [\"palabra\", \"word\"])\n",
    "descripcion_sentimientos"
   ]
  },
  {
   "cell_type": "code",
   "execution_count": 21,
   "metadata": {
    "collapsed": false,
    "jupyter": {
     "outputs_hidden": false
    },
    "pycharm": {
     "name": "#%%\n"
    }
   },
   "outputs": [],
   "source": [
    "propiedades_sentimientos = descripcion_sentimientos[[\"id\", \"token\", \"sentimiento\"]] \\\n",
    "                      .groupby([\"id\"])\\\n",
    "                      .sum().reset_index()"
   ]
  },
  {
   "cell_type": "code",
   "execution_count": 22,
   "metadata": {},
   "outputs": [
    {
     "data": {
      "text/html": [
       "<div>\n",
       "<style scoped>\n",
       "    .dataframe tbody tr th:only-of-type {\n",
       "        vertical-align: middle;\n",
       "    }\n",
       "\n",
       "    .dataframe tbody tr th {\n",
       "        vertical-align: top;\n",
       "    }\n",
       "\n",
       "    .dataframe thead th {\n",
       "        text-align: right;\n",
       "    }\n",
       "</style>\n",
       "<table border=\"1\" class=\"dataframe\">\n",
       "  <thead>\n",
       "    <tr style=\"text-align: right;\">\n",
       "      <th></th>\n",
       "      <th>id</th>\n",
       "      <th>sentimiento</th>\n",
       "    </tr>\n",
       "  </thead>\n",
       "  <tbody>\n",
       "    <tr>\n",
       "      <th>0</th>\n",
       "      <td>+++LrfX9dl/rsnbNTgVaSw==</td>\n",
       "      <td>24</td>\n",
       "    </tr>\n",
       "    <tr>\n",
       "      <th>1</th>\n",
       "      <td>++170jViMoXTsnGwVScNsA==</td>\n",
       "      <td>5</td>\n",
       "    </tr>\n",
       "    <tr>\n",
       "      <th>2</th>\n",
       "      <td>++20Jf3Ha2Epz88cJxEmJw==</td>\n",
       "      <td>10</td>\n",
       "    </tr>\n",
       "    <tr>\n",
       "      <th>3</th>\n",
       "      <td>++2AcJNn9KYBeuOard+DZw==</td>\n",
       "      <td>18</td>\n",
       "    </tr>\n",
       "    <tr>\n",
       "      <th>4</th>\n",
       "      <td>++5o0X5nwMy3BtfAvsFAaA==</td>\n",
       "      <td>-2</td>\n",
       "    </tr>\n",
       "    <tr>\n",
       "      <th>...</th>\n",
       "      <td>...</td>\n",
       "      <td>...</td>\n",
       "    </tr>\n",
       "    <tr>\n",
       "      <th>69133</th>\n",
       "      <td>zzifKawPn7V8Z63LI9+K9Q==</td>\n",
       "      <td>16</td>\n",
       "    </tr>\n",
       "    <tr>\n",
       "      <th>69134</th>\n",
       "      <td>zziqoG25k9M8rIgzpKwFwg==</td>\n",
       "      <td>29</td>\n",
       "    </tr>\n",
       "    <tr>\n",
       "      <th>69135</th>\n",
       "      <td>zzjbYucw7Rj0OtPfDWrsuA==</td>\n",
       "      <td>15</td>\n",
       "    </tr>\n",
       "    <tr>\n",
       "      <th>69136</th>\n",
       "      <td>zzkHuJd+M8QH9JSoKm9e0A==</td>\n",
       "      <td>19</td>\n",
       "    </tr>\n",
       "    <tr>\n",
       "      <th>69137</th>\n",
       "      <td>zzrpS8TqDA6px1h/DuQdmw==</td>\n",
       "      <td>20</td>\n",
       "    </tr>\n",
       "  </tbody>\n",
       "</table>\n",
       "<p>69138 rows × 2 columns</p>\n",
       "</div>"
      ],
      "text/plain": [
       "                             id  sentimiento\n",
       "0      +++LrfX9dl/rsnbNTgVaSw==           24\n",
       "1      ++170jViMoXTsnGwVScNsA==            5\n",
       "2      ++20Jf3Ha2Epz88cJxEmJw==           10\n",
       "3      ++2AcJNn9KYBeuOard+DZw==           18\n",
       "4      ++5o0X5nwMy3BtfAvsFAaA==           -2\n",
       "...                         ...          ...\n",
       "69133  zzifKawPn7V8Z63LI9+K9Q==           16\n",
       "69134  zziqoG25k9M8rIgzpKwFwg==           29\n",
       "69135  zzjbYucw7Rj0OtPfDWrsuA==           15\n",
       "69136  zzkHuJd+M8QH9JSoKm9e0A==           19\n",
       "69137  zzrpS8TqDA6px1h/DuQdmw==           20\n",
       "\n",
       "[69138 rows x 2 columns]"
      ]
     },
     "execution_count": 22,
     "metadata": {},
     "output_type": "execute_result"
    }
   ],
   "source": [
    "propiedades_sentimientos"
   ]
  },
  {
   "cell_type": "code",
   "execution_count": 23,
   "metadata": {
    "collapsed": false,
    "jupyter": {
     "outputs_hidden": false
    },
    "pycharm": {
     "name": "#%%\n"
    }
   },
   "outputs": [
    {
     "data": {
      "text/plain": [
       "216"
      ]
     },
     "execution_count": 23,
     "metadata": {},
     "output_type": "execute_result"
    }
   ],
   "source": [
    "propiedades_sentimientos.sentimiento.max()"
   ]
  },
  {
   "cell_type": "code",
   "execution_count": 57,
   "metadata": {
    "collapsed": false,
    "jupyter": {
     "outputs_hidden": false
    },
    "pycharm": {
     "name": "#%%\n"
    }
   },
   "outputs": [],
   "source": [
    "top5_positivas = propiedades_sentimientos[propiedades_sentimientos['sentimiento'] > 183].head(5)"
   ]
  },
  {
   "cell_type": "code",
   "execution_count": 59,
   "metadata": {},
   "outputs": [
    {
     "data": {
      "text/html": [
       "<div>\n",
       "<style scoped>\n",
       "    .dataframe tbody tr th:only-of-type {\n",
       "        vertical-align: middle;\n",
       "    }\n",
       "\n",
       "    .dataframe tbody tr th {\n",
       "        vertical-align: top;\n",
       "    }\n",
       "\n",
       "    .dataframe thead th {\n",
       "        text-align: right;\n",
       "    }\n",
       "</style>\n",
       "<table border=\"1\" class=\"dataframe\">\n",
       "  <thead>\n",
       "    <tr style=\"text-align: right;\">\n",
       "      <th></th>\n",
       "      <th>id</th>\n",
       "      <th>sentimiento</th>\n",
       "    </tr>\n",
       "  </thead>\n",
       "  <tbody>\n",
       "    <tr>\n",
       "      <th>11085</th>\n",
       "      <td>8HZPdHHB8QMCi2U/iJkYmw==</td>\n",
       "      <td>185</td>\n",
       "    </tr>\n",
       "    <tr>\n",
       "      <th>20651</th>\n",
       "      <td>HApisqgDT/EcQsf/Z9pwSA==</td>\n",
       "      <td>185</td>\n",
       "    </tr>\n",
       "    <tr>\n",
       "      <th>27462</th>\n",
       "      <td>NX8OeQx/kxiBz8ehRtMggw==</td>\n",
       "      <td>185</td>\n",
       "    </tr>\n",
       "    <tr>\n",
       "      <th>28846</th>\n",
       "      <td>Ordgp/sLvmhD+RwAtErcvw==</td>\n",
       "      <td>185</td>\n",
       "    </tr>\n",
       "    <tr>\n",
       "      <th>36224</th>\n",
       "      <td>Vi4Kbdne9us6XT3kpmSmgw==</td>\n",
       "      <td>185</td>\n",
       "    </tr>\n",
       "    <tr>\n",
       "      <th>49161</th>\n",
       "      <td>hWcrJ6XkTCTGVo80jBvI1g==</td>\n",
       "      <td>185</td>\n",
       "    </tr>\n",
       "    <tr>\n",
       "      <th>64035</th>\n",
       "      <td>vJRa8QKk0d9i9L4Rk6Bvng==</td>\n",
       "      <td>216</td>\n",
       "    </tr>\n",
       "  </tbody>\n",
       "</table>\n",
       "</div>"
      ],
      "text/plain": [
       "                             id  sentimiento\n",
       "11085  8HZPdHHB8QMCi2U/iJkYmw==          185\n",
       "20651  HApisqgDT/EcQsf/Z9pwSA==          185\n",
       "27462  NX8OeQx/kxiBz8ehRtMggw==          185\n",
       "28846  Ordgp/sLvmhD+RwAtErcvw==          185\n",
       "36224  Vi4Kbdne9us6XT3kpmSmgw==          185\n",
       "49161  hWcrJ6XkTCTGVo80jBvI1g==          185\n",
       "64035  vJRa8QKk0d9i9L4Rk6Bvng==          216"
      ]
     },
     "execution_count": 59,
     "metadata": {},
     "output_type": "execute_result"
    }
   ],
   "source": [
    "top5_positivas"
   ]
  },
  {
   "cell_type": "code",
   "execution_count": 60,
   "metadata": {
    "collapsed": false,
    "jupyter": {
     "outputs_hidden": false
    },
    "pycharm": {
     "name": "#%%\n"
    }
   },
   "outputs": [
    {
     "data": {
      "text/plain": [
       "135535    Corredor Responsable: RMX 1 SAS - Lucas Norman...\n",
       "291232    Corredor Responsable: Martin Macagno - CUCICBA...\n",
       "442859    Corredor Responsable: RMX 1 SAS - Lucas Norman...\n",
       "442883    Corredor Responsable: RMX 1 SAS - Lucas Norman...\n",
       "442886    Corredor Responsable: RMX 1 SAS - Lucas Norman...\n",
       "442903    Corredor Responsable: RMX 1 SAS - Lucas Norman...\n",
       "451718    Corredor Responsable: RMX 1 SAS - Lucas Norman...\n",
       "Name: property_description, dtype: object"
      ]
     },
     "execution_count": 60,
     "metadata": {},
     "output_type": "execute_result"
    }
   ],
   "source": [
    "descriptions_dataset[descriptions_dataset.id.isin(top5_positivas.id)].property_description"
   ]
  },
  {
   "cell_type": "code",
   "execution_count": 26,
   "metadata": {
    "collapsed": false,
    "jupyter": {
     "outputs_hidden": false
    },
    "pycharm": {
     "name": "#%%\n"
    }
   },
   "outputs": [
    {
     "data": {
      "text/plain": [
       "-37"
      ]
     },
     "execution_count": 26,
     "metadata": {},
     "output_type": "execute_result"
    }
   ],
   "source": [
    "propiedades_sentimientos.sentimiento.min()"
   ]
  },
  {
   "cell_type": "code",
   "execution_count": 68,
   "metadata": {
    "collapsed": false,
    "jupyter": {
     "outputs_hidden": false
    },
    "pycharm": {
     "name": "#%%\n"
    }
   },
   "outputs": [],
   "source": [
    "top5_negativas = propiedades_sentimientos[propiedades_sentimientos['sentimiento'] < -20].head(5)"
   ]
  },
  {
   "cell_type": "code",
   "execution_count": 69,
   "metadata": {
    "collapsed": false,
    "jupyter": {
     "outputs_hidden": false
    },
    "pycharm": {
     "name": "#%%\n"
    }
   },
   "outputs": [
    {
     "data": {
      "text/plain": [
       "73572     <br>Casa en lote propio de 8,66 m x 11,5 Orien...\n",
       "104195    Corredor Responsable: JUAN FRANCISCO CARATTINO...\n",
       "208313    Emprendimiento Araoz 1937  \"En La Vereda del S...\n",
       "378052    Araoz 1937   \"EN LA VEREDA DEL SOL\"<br><br>\\t\\...\n",
       "400729    Corredor Responsable: Patricia Maria Sodor - C...\n",
       "Name: property_description, dtype: object"
      ]
     },
     "execution_count": 69,
     "metadata": {},
     "output_type": "execute_result"
    }
   ],
   "source": [
    "descriptions_dataset[descriptions_dataset.id.isin(top5_negativas.id)].property_description"
   ]
  },
  {
   "cell_type": "code",
   "execution_count": 30,
   "metadata": {
    "collapsed": false,
    "jupyter": {
     "outputs_hidden": false
    },
    "pycharm": {
     "name": "#%%\n"
    }
   },
   "outputs": [],
   "source": [
    "## A partir de tener el top10, evaluar si esos atributos nos sirven para expandir el dataset\n",
    "## Pensar en hacer un score con la completitud de la descripcion de cada propiedad -> property_desc_score"
   ]
  },
  {
   "cell_type": "markdown",
   "metadata": {
    "jupyter": {
     "outputs_hidden": false
    },
    "pycharm": {
     "name": "#%%\n"
    }
   },
   "source": [
    "Como es claro, la gente que publica la venta de una propiedad va a tratar de expresar la mejor publicacion y descripcion posible. Es por eso que tenemos una tasa altisima de positividad. No buscamos hacer un analisis real de a"
   ]
  },
  {
   "cell_type": "code",
   "execution_count": 31,
   "metadata": {
    "collapsed": false,
    "jupyter": {
     "outputs_hidden": false
    },
    "pycharm": {
     "name": "#%%\n"
    }
   },
   "outputs": [
    {
     "name": "stdout",
     "output_type": "stream",
     "text": [
      "Positivos: 64.68\n",
      "Neutros  : 9.49\n",
      "Negativos: 25.83\n",
      " \n"
     ]
    }
   ],
   "source": [
    "def perfil_sentimientos(df):\n",
    "    print(f\"Positivos: {round(100 * np.mean(df.sentimiento > 0), 2)}\")\n",
    "    print(f\"Neutros  : {round(100 * np.mean(df.sentimiento == 0), 2)}\")\n",
    "    print(f\"Negativos: {round(100 * np.mean(df.sentimiento < 0), 2)}\")\n",
    "    print(\" \")\n",
    "\n",
    "perfil_sentimientos(descripcion_sentimientos)"
   ]
  },
  {
   "cell_type": "markdown",
   "metadata": {
    "pycharm": {
     "name": "#%% md\n"
    }
   },
   "source": [
    "#### Tecnica Regex"
   ]
  },
  {
   "cell_type": "markdown",
   "metadata": {
    "pycharm": {
     "name": "#%% md\n"
    }
   },
   "source": [
    "Revisamos las siguientes paginas para entender cuales son los ammenities mas buscados en CABA, y en Argentina en general.\n",
    "\n",
    "https://www.iprofesional.com/negocios/371702-cuales-son-los-amenities-mas-exoticos-de-edificios-en-argentina\n",
    "\n",
    "https://www.baenegocios.com/sociedad/Ranking-de-amenities-los-servicios-que-mas-pesan-al-comprar-una-propiedad-20220119-0068.html\n",
    "\n",
    "https://www.forbesargentina.com/negocios/amenities-servicios-mas-demandados-argentinos-comprar-una-propiedad-n11901\n",
    "\n",
    "Dichos ammenities parecen hacer que la propiedad cotice entre un 15% y un 20% más que el precio de venta.\n",
    "\n",
    "Sacando un promedio y haciendo un top-5 ranking, podemos notar que los mas relevantes son:\n",
    "\n",
    "- Garage/Estacionamiento\n",
    "- Pileta\n",
    "- Jardin/Espacio al aire libre\n",
    "- Parrilla\n",
    "- SUM (Gimnasio/Spa/Sauna)\n",
    "\n",
    "Al buscar estos datos, podriamos tratar de entender si el precio resulta mayor, contra una propiedad de similares caracteristicas pero sin estos ammenities y a partir de eso, entender que % varía del precio de venta original."
   ]
  },
  {
   "cell_type": "code",
   "execution_count": 32,
   "metadata": {
    "collapsed": false,
    "jupyter": {
     "outputs_hidden": false
    },
    "pycharm": {
     "name": "#%%\n"
    }
   },
   "outputs": [],
   "source": [
    "garage_sin_espacio = re.compile(r\"[^\\s]+garage|garaje|estacionamiento|parking\")\n",
    "garage_con_espacio = re.compile(r\"[^\\s]+ garage|garaje|estacionamiento|parking\")"
   ]
  },
  {
   "cell_type": "code",
   "execution_count": 33,
   "metadata": {
    "collapsed": false,
    "jupyter": {
     "outputs_hidden": false
    },
    "pycharm": {
     "name": "#%%\n"
    }
   },
   "outputs": [
    {
     "name": "stdout",
     "output_type": "stream",
     "text": [
      "{'garage': 65719}\n"
     ]
    }
   ],
   "source": [
    "frecuencia_garage = {'garage': 0}\n",
    "for desc in descriptions_dataset.property_description:\n",
    "    if (len(re.findall(garage_sin_espacio, str(desc).lower())) > 0):\n",
    "        frecuencia_garage['garage'] += 1\n",
    "    if (len(re.findall(garage_con_espacio, str(desc).lower())) > 0):\n",
    "        frecuencia_garage['garage'] += 1\n",
    "print(frecuencia_garage)"
   ]
  },
  {
   "cell_type": "code",
   "execution_count": 34,
   "metadata": {
    "collapsed": false,
    "jupyter": {
     "outputs_hidden": false
    },
    "pycharm": {
     "name": "#%%\n"
    }
   },
   "outputs": [],
   "source": [
    "pileta_sin_espacio = re.compile(r\"[^\\s]+pileta\")\n",
    "pileta_con_espacio = re.compile(r\"[^\\s]+ pileta\")"
   ]
  },
  {
   "cell_type": "code",
   "execution_count": 35,
   "metadata": {
    "collapsed": false,
    "jupyter": {
     "outputs_hidden": false
    },
    "pycharm": {
     "name": "#%%\n"
    }
   },
   "outputs": [
    {
     "name": "stdout",
     "output_type": "stream",
     "text": [
      "{'pileta': 81058}\n"
     ]
    }
   ],
   "source": [
    "frecuencia_pileta= {'pileta': 0}\n",
    "for desc in descriptions_dataset.property_description:\n",
    "    if (len(re.findall(pileta_sin_espacio, str(desc).lower())) > 0):\n",
    "        frecuencia_pileta['pileta'] += 1\n",
    "    if (len(re.findall(pileta_con_espacio, str(desc).lower())) > 0):\n",
    "        frecuencia_pileta['pileta'] += 1\n",
    "print(frecuencia_pileta)"
   ]
  },
  {
   "cell_type": "code",
   "execution_count": 36,
   "metadata": {
    "collapsed": false,
    "jupyter": {
     "outputs_hidden": false
    },
    "pycharm": {
     "name": "#%%\n"
    }
   },
   "outputs": [],
   "source": [
    "jardin_sin_espacio = re.compile(r\"[^\\s]+jardin|espacio verde\")\n",
    "jardin_con_espacio = re.compile(r\"[^\\s]+ jardin|espacio verde\")"
   ]
  },
  {
   "cell_type": "code",
   "execution_count": 37,
   "metadata": {
    "collapsed": false,
    "jupyter": {
     "outputs_hidden": false
    },
    "pycharm": {
     "name": "#%%\n"
    }
   },
   "outputs": [
    {
     "name": "stdout",
     "output_type": "stream",
     "text": [
      "{'jardin': 33055}\n"
     ]
    }
   ],
   "source": [
    "frecuencia_jardin = {'jardin': 0}\n",
    "for desc in descriptions_dataset.property_description:\n",
    "    if (len(re.findall(jardin_sin_espacio, str(desc).lower())) > 0):\n",
    "        frecuencia_jardin['jardin'] += 1\n",
    "    if (len(re.findall(jardin_con_espacio, str(desc).lower())) > 0):\n",
    "        frecuencia_jardin['jardin'] += 1\n",
    "print(frecuencia_jardin)"
   ]
  },
  {
   "cell_type": "code",
   "execution_count": 38,
   "metadata": {
    "collapsed": false,
    "jupyter": {
     "outputs_hidden": false
    },
    "pycharm": {
     "name": "#%%\n"
    }
   },
   "outputs": [],
   "source": [
    "parrilla_sin_espacio = re.compile(r\"[^\\s]+parrilla|bbq\")\n",
    "parrilla_con_espacio = re.compile(r\"[^\\s]+ parrilla|bbq\")"
   ]
  },
  {
   "cell_type": "code",
   "execution_count": 39,
   "metadata": {
    "collapsed": false,
    "jupyter": {
     "outputs_hidden": false
    },
    "pycharm": {
     "name": "#%%\n"
    }
   },
   "outputs": [
    {
     "name": "stdout",
     "output_type": "stream",
     "text": [
      "{'parrilla': 119147}\n"
     ]
    }
   ],
   "source": [
    "frecuencia_parrilla = {'parrilla': 0}\n",
    "for desc in descriptions_dataset.property_description:\n",
    "    if (len(re.findall(parrilla_sin_espacio, str(desc).lower())) > 0):\n",
    "        frecuencia_parrilla['parrilla'] += 1\n",
    "    if (len(re.findall(parrilla_con_espacio, str(desc).lower())) > 0):\n",
    "        frecuencia_parrilla['parrilla'] += 1\n",
    "print(frecuencia_parrilla)"
   ]
  },
  {
   "cell_type": "code",
   "execution_count": 40,
   "metadata": {
    "collapsed": false,
    "jupyter": {
     "outputs_hidden": false
    },
    "pycharm": {
     "name": "#%%\n"
    }
   },
   "outputs": [],
   "source": [
    "zoom_sin_espacio = re.compile(r\"[^\\s]+zoom|sum|gimansio|spa\")\n",
    "zoom_con_espacio = re.compile(r\"[^\\s]+ zoom|sum|gimansio|spa\")"
   ]
  },
  {
   "cell_type": "code",
   "execution_count": 41,
   "metadata": {
    "collapsed": false,
    "jupyter": {
     "outputs_hidden": false
    },
    "pycharm": {
     "name": "#%%\n"
    }
   },
   "outputs": [
    {
     "name": "stdout",
     "output_type": "stream",
     "text": [
      "{'sum': 337200}\n"
     ]
    }
   ],
   "source": [
    "frecuencia_zoom = {'sum': 0}\n",
    "for desc in descriptions_dataset.property_description:\n",
    "    if (len(re.findall(zoom_sin_espacio, str(desc).lower())) > 0):\n",
    "        frecuencia_zoom['sum'] += 1\n",
    "    if (len(re.findall(zoom_con_espacio, str(desc).lower())) > 0):\n",
    "        frecuencia_zoom['sum'] += 1\n",
    "print(frecuencia_zoom)"
   ]
  },
  {
   "cell_type": "markdown",
   "metadata": {
    "pycharm": {
     "name": "#%% md\n"
    }
   },
   "source": [
    "Notamos que muchas obervaciones tenian el dato de si contaban o no con balcon asi que decidimos agregarlo al analisis para poder ver si encontramos una correlacion que nos de mas informacion con lo que respecta al balcon y a la superifice total versus la superificie cubierta y el precio de venta de cada vivienda."
   ]
  },
  {
   "cell_type": "code",
   "execution_count": 42,
   "metadata": {
    "collapsed": false,
    "jupyter": {
     "outputs_hidden": false
    },
    "pycharm": {
     "name": "#%%\n"
    }
   },
   "outputs": [],
   "source": [
    "balcon_sin_espacio = re.compile(r\"[^\\s]+balcon\")\n",
    "balcon_con_espacio = re.compile(r\"[^\\s]+ balcon\")"
   ]
  },
  {
   "cell_type": "code",
   "execution_count": 43,
   "metadata": {
    "collapsed": false,
    "jupyter": {
     "outputs_hidden": false
    },
    "pycharm": {
     "name": "#%%\n"
    }
   },
   "outputs": [
    {
     "name": "stdout",
     "output_type": "stream",
     "text": [
      "{'balcon': 46510}\n"
     ]
    }
   ],
   "source": [
    "frecuencia_balcon= {'balcon': 0}\n",
    "for desc in descriptions_dataset.property_description:\n",
    "    if (len(re.findall(balcon_sin_espacio, str(desc).lower())) > 0):\n",
    "        frecuencia_balcon['balcon'] += 1\n",
    "    if (len(re.findall(balcon_con_espacio, str(desc).lower())) > 0):\n",
    "        frecuencia_balcon['balcon'] += 1\n",
    "print(frecuencia_balcon)"
   ]
  },
  {
   "cell_type": "markdown",
   "metadata": {
    "pycharm": {
     "name": "#%% md\n"
    }
   },
   "source": [
    "Otro factor interesante que podriamos analizar es a que tipo de vivienda pertenece cada ammenity. Y si donde encontramos una ammenity en particular, encontramos consecuentemente otra. Por ejemplo, una casa con jardin y parrila y/o pileta.\n",
    "De esta manera podriamos tratar de determinar el costo de cada ammenity o como afecta al precio."
   ]
  },
  {
   "cell_type": "markdown",
   "metadata": {
    "pycharm": {
     "name": "#%% md\n"
    }
   },
   "source": [
    "#### Tecnica Open Information Extraction"
   ]
  },
  {
   "cell_type": "markdown",
   "metadata": {
    "pycharm": {
     "name": "#%% md\n"
    }
   },
   "source": [
    "#### Modelos"
   ]
  },
  {
   "cell_type": "markdown",
   "metadata": {
    "pycharm": {
     "name": "#%% md\n"
    }
   },
   "source": [
    "## Redes Neuronales"
   ]
  },
  {
   "cell_type": "markdown",
   "metadata": {
    "pycharm": {
     "name": "#%% md\n"
    }
   },
   "source": [
    "### Regresión"
   ]
  },
  {
   "cell_type": "markdown",
   "metadata": {
    "pycharm": {
     "name": "#%% md\n"
    }
   },
   "source": [
    "### Regresión"
   ]
  },
  {
   "cell_type": "markdown",
   "metadata": {
    "pycharm": {
     "name": "#%% md\n"
    }
   },
   "source": [
    "### Clasificación"
   ]
  },
  {
   "cell_type": "markdown",
   "metadata": {
    "pycharm": {
     "name": "#%% md\n"
    }
   },
   "source": [
    "#### Construcción del target"
   ]
  },
  {
   "cell_type": "markdown",
   "metadata": {
    "pycharm": {
     "name": "#%% md\n"
    }
   },
   "source": [
    "#### Modelo"
   ]
  },
  {
   "cell_type": "markdown",
   "metadata": {
    "jp-MarkdownHeadingCollapsed": true,
    "pycharm": {
     "name": "#%% md\n"
    },
    "tags": []
   },
   "source": [
    "## Ensambles de modelos"
   ]
  },
  {
   "cell_type": "markdown",
   "metadata": {
    "pycharm": {
     "name": "#%% md\n"
    }
   },
   "source": [
    "### Ensamble 1"
   ]
  },
  {
   "cell_type": "markdown",
   "metadata": {
    "pycharm": {
     "name": "#%% md\n"
    }
   },
   "source": [
    "### Ensamble 2"
   ]
  },
  {
   "cell_type": "markdown",
   "metadata": {
    "jp-MarkdownHeadingCollapsed": true,
    "pycharm": {
     "name": "#%% md\n"
    },
    "tags": []
   },
   "source": [
    "## Conclusiones"
   ]
  }
 ],
 "metadata": {
  "kernelspec": {
   "display_name": "Python 3 (ipykernel)",
   "language": "python",
   "name": "python3"
  },
  "language_info": {
   "codemirror_mode": {
    "name": "ipython",
    "version": 3
   },
   "file_extension": ".py",
   "mimetype": "text/x-python",
   "name": "python",
   "nbconvert_exporter": "python",
   "pygments_lexer": "ipython3",
   "version": "3.10.4"
  }
 },
 "nbformat": 4,
 "nbformat_minor": 4
}

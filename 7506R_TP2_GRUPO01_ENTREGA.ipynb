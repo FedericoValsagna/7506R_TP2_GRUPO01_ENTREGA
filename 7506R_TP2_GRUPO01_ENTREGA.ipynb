{
 "cells": [
  {
   "cell_type": "markdown",
   "metadata": {
    "pycharm": {
     "name": "#%% md\n"
    }
   },
   "source": [
    "# 7506 - Trabajo Práctico 2"
   ]
  },
  {
   "cell_type": "markdown",
   "metadata": {
    "pycharm": {
     "name": "#%% md\n"
    }
   },
   "source": [
    "---"
   ]
  },
  {
   "cell_type": "markdown",
   "metadata": {
    "pycharm": {
     "name": "#%% md\n"
    }
   },
   "source": [
    "## Introducción"
   ]
  },
  {
   "cell_type": "markdown",
   "metadata": {
    "pycharm": {
     "name": "#%% md\n"
    }
   },
   "source": [
    "### Librerías"
   ]
  },
  {
   "cell_type": "code",
   "execution_count": 1,
   "metadata": {
    "collapsed": false,
    "jupyter": {
     "outputs_hidden": false
    },
    "pycharm": {
     "name": "#%%\n"
    }
   },
   "outputs": [],
   "source": [
    "import pandas as pd\n",
    "import numpy as np\n",
    "import re\n",
    "from sklearn.model_selection import train_test_split\n",
    "from sklearn.preprocessing import StandardScaler\n",
    "import tensorflow as tf\n",
    "from tensorflow import keras\n",
    "import keras_tuner as kt"
   ]
  },
  {
   "cell_type": "code",
   "execution_count": 2,
   "metadata": {
    "collapsed": false,
    "jupyter": {
     "outputs_hidden": false
    },
    "pycharm": {
     "name": "#%%\n"
    }
   },
   "outputs": [
    {
     "data": {
      "text/html": [
       "<div>\n",
       "<style scoped>\n",
       "    .dataframe tbody tr th:only-of-type {\n",
       "        vertical-align: middle;\n",
       "    }\n",
       "\n",
       "    .dataframe tbody tr th {\n",
       "        vertical-align: top;\n",
       "    }\n",
       "\n",
       "    .dataframe thead th {\n",
       "        text-align: right;\n",
       "    }\n",
       "</style>\n",
       "<table border=\"1\" class=\"dataframe\">\n",
       "  <thead>\n",
       "    <tr style=\"text-align: right;\">\n",
       "      <th></th>\n",
       "      <th>start_date</th>\n",
       "      <th>end_date</th>\n",
       "      <th>latitud</th>\n",
       "      <th>longitud</th>\n",
       "      <th>place_l3</th>\n",
       "      <th>property_type</th>\n",
       "      <th>property_rooms</th>\n",
       "      <th>property_bedrooms</th>\n",
       "      <th>property_surface_total</th>\n",
       "      <th>property_surface_covered</th>\n",
       "      <th>property_price</th>\n",
       "      <th>property_title</th>\n",
       "    </tr>\n",
       "  </thead>\n",
       "  <tbody>\n",
       "    <tr>\n",
       "      <th>0</th>\n",
       "      <td>2021-03-31</td>\n",
       "      <td>2021-05-01 00:00:00.000000000</td>\n",
       "      <td>-34.635768</td>\n",
       "      <td>-58.494408</td>\n",
       "      <td>Floresta</td>\n",
       "      <td>PH</td>\n",
       "      <td>2.0</td>\n",
       "      <td>1.0</td>\n",
       "      <td>58.0</td>\n",
       "      <td>56.0</td>\n",
       "      <td>107000.0</td>\n",
       "      <td>VENTA PH FLORESTA DOS AMBIENTES APTO PROFESIONAL</td>\n",
       "    </tr>\n",
       "    <tr>\n",
       "      <th>1</th>\n",
       "      <td>2021-08-25</td>\n",
       "      <td>2021-11-07 07:43:19.924328415</td>\n",
       "      <td>-34.569809</td>\n",
       "      <td>-58.447177</td>\n",
       "      <td>Colegiales</td>\n",
       "      <td>Departamento</td>\n",
       "      <td>4.0</td>\n",
       "      <td>3.0</td>\n",
       "      <td>91.0</td>\n",
       "      <td>80.0</td>\n",
       "      <td>270000.0</td>\n",
       "      <td>Departamento venta 4 ambientes cochera baulera...</td>\n",
       "    </tr>\n",
       "    <tr>\n",
       "      <th>2</th>\n",
       "      <td>2021-08-26</td>\n",
       "      <td>2021-10-14 00:00:00.000000000</td>\n",
       "      <td>-34.623384</td>\n",
       "      <td>-58.436355</td>\n",
       "      <td>Caballito</td>\n",
       "      <td>Departamento</td>\n",
       "      <td>4.0</td>\n",
       "      <td>3.0</td>\n",
       "      <td>80.0</td>\n",
       "      <td>75.0</td>\n",
       "      <td>170000.0</td>\n",
       "      <td>Departamento - Caballito</td>\n",
       "    </tr>\n",
       "    <tr>\n",
       "      <th>3</th>\n",
       "      <td>2021-05-28</td>\n",
       "      <td>2021-06-03 00:00:00.000000000</td>\n",
       "      <td>-34.590503</td>\n",
       "      <td>-58.408862</td>\n",
       "      <td>Palermo</td>\n",
       "      <td>Departamento</td>\n",
       "      <td>4.0</td>\n",
       "      <td>3.0</td>\n",
       "      <td>67.0</td>\n",
       "      <td>67.0</td>\n",
       "      <td>212000.0</td>\n",
       "      <td>Departamento - Palermo</td>\n",
       "    </tr>\n",
       "    <tr>\n",
       "      <th>4</th>\n",
       "      <td>2021-09-08</td>\n",
       "      <td>2021-09-26 00:00:00.000000000</td>\n",
       "      <td>-34.628205</td>\n",
       "      <td>-58.374628</td>\n",
       "      <td>Barracas</td>\n",
       "      <td>Departamento</td>\n",
       "      <td>3.0</td>\n",
       "      <td>2.0</td>\n",
       "      <td>52.0</td>\n",
       "      <td>52.0</td>\n",
       "      <td>115200.0</td>\n",
       "      <td>VENTA DEPARTAMENTO DE 3 AMBIENTES  en SAN TELMO</td>\n",
       "    </tr>\n",
       "  </tbody>\n",
       "</table>\n",
       "</div>"
      ],
      "text/plain": [
       "   start_date                       end_date    latitud   longitud  \\\n",
       "0  2021-03-31  2021-05-01 00:00:00.000000000 -34.635768 -58.494408   \n",
       "1  2021-08-25  2021-11-07 07:43:19.924328415 -34.569809 -58.447177   \n",
       "2  2021-08-26  2021-10-14 00:00:00.000000000 -34.623384 -58.436355   \n",
       "3  2021-05-28  2021-06-03 00:00:00.000000000 -34.590503 -58.408862   \n",
       "4  2021-09-08  2021-09-26 00:00:00.000000000 -34.628205 -58.374628   \n",
       "\n",
       "     place_l3 property_type  property_rooms  property_bedrooms  \\\n",
       "0    Floresta            PH             2.0                1.0   \n",
       "1  Colegiales  Departamento             4.0                3.0   \n",
       "2   Caballito  Departamento             4.0                3.0   \n",
       "3     Palermo  Departamento             4.0                3.0   \n",
       "4    Barracas  Departamento             3.0                2.0   \n",
       "\n",
       "   property_surface_total  property_surface_covered  property_price  \\\n",
       "0                    58.0                      56.0        107000.0   \n",
       "1                    91.0                      80.0        270000.0   \n",
       "2                    80.0                      75.0        170000.0   \n",
       "3                    67.0                      67.0        212000.0   \n",
       "4                    52.0                      52.0        115200.0   \n",
       "\n",
       "                                      property_title  \n",
       "0   VENTA PH FLORESTA DOS AMBIENTES APTO PROFESIONAL  \n",
       "1  Departamento venta 4 ambientes cochera baulera...  \n",
       "2                           Departamento - Caballito  \n",
       "3                             Departamento - Palermo  \n",
       "4    VENTA DEPARTAMENTO DE 3 AMBIENTES  en SAN TELMO  "
      ]
     },
     "execution_count": 2,
     "metadata": {},
     "output_type": "execute_result"
    }
   ],
   "source": [
    "# Dataset Train preprocesado\n",
    "train_ds = pd.read_csv('datasets/tp1-train.csv')\n",
    "train_ds = train_ds.drop(['Unnamed: 0'], axis=1)\n",
    "train_ds.head()"
   ]
  },
  {
   "cell_type": "code",
   "execution_count": 3,
   "metadata": {
    "collapsed": false,
    "jupyter": {
     "outputs_hidden": false
    },
    "pycharm": {
     "name": "#%%\n"
    }
   },
   "outputs": [
    {
     "data": {
      "text/html": [
       "<div>\n",
       "<style scoped>\n",
       "    .dataframe tbody tr th:only-of-type {\n",
       "        vertical-align: middle;\n",
       "    }\n",
       "\n",
       "    .dataframe tbody tr th {\n",
       "        vertical-align: top;\n",
       "    }\n",
       "\n",
       "    .dataframe thead th {\n",
       "        text-align: right;\n",
       "    }\n",
       "</style>\n",
       "<table border=\"1\" class=\"dataframe\">\n",
       "  <thead>\n",
       "    <tr style=\"text-align: right;\">\n",
       "      <th></th>\n",
       "      <th>latitud</th>\n",
       "      <th>longitud</th>\n",
       "      <th>place_l3</th>\n",
       "      <th>property_type</th>\n",
       "      <th>property_rooms</th>\n",
       "      <th>property_bedrooms</th>\n",
       "      <th>property_surface_total</th>\n",
       "      <th>property_surface_covered</th>\n",
       "      <th>property_price</th>\n",
       "      <th>property_title</th>\n",
       "    </tr>\n",
       "  </thead>\n",
       "  <tbody>\n",
       "    <tr>\n",
       "      <th>0</th>\n",
       "      <td>-34.626705</td>\n",
       "      <td>-58.385174</td>\n",
       "      <td>San Cristobal</td>\n",
       "      <td>Departamento</td>\n",
       "      <td>4.0</td>\n",
       "      <td>3.0</td>\n",
       "      <td>75.0</td>\n",
       "      <td>71.0</td>\n",
       "      <td>75000.0</td>\n",
       "      <td>VENTA DPTO 3 AMB C/DEPENDENCIA - CONSTITUCION</td>\n",
       "    </tr>\n",
       "    <tr>\n",
       "      <th>1</th>\n",
       "      <td>-34.557145</td>\n",
       "      <td>-58.466550</td>\n",
       "      <td>Nuñez</td>\n",
       "      <td>Departamento</td>\n",
       "      <td>1.0</td>\n",
       "      <td>1.0</td>\n",
       "      <td>40.0</td>\n",
       "      <td>40.0</td>\n",
       "      <td>76000.0</td>\n",
       "      <td>Venta en pozo monoambiente amplio en Nuñez</td>\n",
       "    </tr>\n",
       "    <tr>\n",
       "      <th>2</th>\n",
       "      <td>-34.603738</td>\n",
       "      <td>-58.398443</td>\n",
       "      <td>Balvanera</td>\n",
       "      <td>Departamento</td>\n",
       "      <td>3.0</td>\n",
       "      <td>2.0</td>\n",
       "      <td>81.0</td>\n",
       "      <td>70.0</td>\n",
       "      <td>115000.0</td>\n",
       "      <td>Departamento - Balvanera - 3 ambientes - Depen...</td>\n",
       "    </tr>\n",
       "    <tr>\n",
       "      <th>3</th>\n",
       "      <td>-34.614708</td>\n",
       "      <td>-58.418004</td>\n",
       "      <td>Almagro</td>\n",
       "      <td>Departamento</td>\n",
       "      <td>3.0</td>\n",
       "      <td>2.0</td>\n",
       "      <td>51.0</td>\n",
       "      <td>42.0</td>\n",
       "      <td>110000.0</td>\n",
       "      <td>VENTA TRES AMBIENTES ALMAGRO</td>\n",
       "    </tr>\n",
       "    <tr>\n",
       "      <th>4</th>\n",
       "      <td>-34.567463</td>\n",
       "      <td>-58.449964</td>\n",
       "      <td>Belgrano</td>\n",
       "      <td>Departamento</td>\n",
       "      <td>2.0</td>\n",
       "      <td>1.0</td>\n",
       "      <td>55.0</td>\n",
       "      <td>40.0</td>\n",
       "      <td>99000.0</td>\n",
       "      <td>Departamento venta</td>\n",
       "    </tr>\n",
       "    <tr>\n",
       "      <th>...</th>\n",
       "      <td>...</td>\n",
       "      <td>...</td>\n",
       "      <td>...</td>\n",
       "      <td>...</td>\n",
       "      <td>...</td>\n",
       "      <td>...</td>\n",
       "      <td>...</td>\n",
       "      <td>...</td>\n",
       "      <td>...</td>\n",
       "      <td>...</td>\n",
       "    </tr>\n",
       "    <tr>\n",
       "      <th>10624</th>\n",
       "      <td>-34.561818</td>\n",
       "      <td>-58.467789</td>\n",
       "      <td>Belgrano</td>\n",
       "      <td>Departamento</td>\n",
       "      <td>3.0</td>\n",
       "      <td>2.0</td>\n",
       "      <td>76.0</td>\n",
       "      <td>70.0</td>\n",
       "      <td>217000.0</td>\n",
       "      <td>Exc S/Piso 3 amb c/2 bcones Gr Vta Panor Coc c...</td>\n",
       "    </tr>\n",
       "    <tr>\n",
       "      <th>10625</th>\n",
       "      <td>-34.610377</td>\n",
       "      <td>-58.447886</td>\n",
       "      <td>Caballito</td>\n",
       "      <td>Departamento</td>\n",
       "      <td>2.0</td>\n",
       "      <td>1.0</td>\n",
       "      <td>48.0</td>\n",
       "      <td>41.0</td>\n",
       "      <td>110000.0</td>\n",
       "      <td>Departamento - Caballito Norte</td>\n",
       "    </tr>\n",
       "    <tr>\n",
       "      <th>10626</th>\n",
       "      <td>-34.615916</td>\n",
       "      <td>-58.418322</td>\n",
       "      <td>Almagro</td>\n",
       "      <td>PH</td>\n",
       "      <td>4.0</td>\n",
       "      <td>3.0</td>\n",
       "      <td>100.0</td>\n",
       "      <td>100.0</td>\n",
       "      <td>177000.0</td>\n",
       "      <td>PH - Almagro</td>\n",
       "    </tr>\n",
       "    <tr>\n",
       "      <th>10627</th>\n",
       "      <td>-34.587055</td>\n",
       "      <td>-58.405742</td>\n",
       "      <td>Recoleta</td>\n",
       "      <td>Departamento</td>\n",
       "      <td>2.0</td>\n",
       "      <td>1.0</td>\n",
       "      <td>35.0</td>\n",
       "      <td>35.0</td>\n",
       "      <td>85000.0</td>\n",
       "      <td>French 3000</td>\n",
       "    </tr>\n",
       "    <tr>\n",
       "      <th>10628</th>\n",
       "      <td>-34.562337</td>\n",
       "      <td>-58.468009</td>\n",
       "      <td>Belgrano</td>\n",
       "      <td>Departamento</td>\n",
       "      <td>1.0</td>\n",
       "      <td>1.0</td>\n",
       "      <td>36.0</td>\n",
       "      <td>30.0</td>\n",
       "      <td>91700.0</td>\n",
       "      <td>VENTA+MONOAMBIENTE+POZO+PALERMO+FINANCIA+</td>\n",
       "    </tr>\n",
       "  </tbody>\n",
       "</table>\n",
       "<p>10629 rows × 10 columns</p>\n",
       "</div>"
      ],
      "text/plain": [
       "         latitud   longitud       place_l3 property_type  property_rooms  \\\n",
       "0     -34.626705 -58.385174  San Cristobal  Departamento             4.0   \n",
       "1     -34.557145 -58.466550          Nuñez  Departamento             1.0   \n",
       "2     -34.603738 -58.398443      Balvanera  Departamento             3.0   \n",
       "3     -34.614708 -58.418004        Almagro  Departamento             3.0   \n",
       "4     -34.567463 -58.449964       Belgrano  Departamento             2.0   \n",
       "...          ...        ...            ...           ...             ...   \n",
       "10624 -34.561818 -58.467789       Belgrano  Departamento             3.0   \n",
       "10625 -34.610377 -58.447886      Caballito  Departamento             2.0   \n",
       "10626 -34.615916 -58.418322        Almagro            PH             4.0   \n",
       "10627 -34.587055 -58.405742       Recoleta  Departamento             2.0   \n",
       "10628 -34.562337 -58.468009       Belgrano  Departamento             1.0   \n",
       "\n",
       "       property_bedrooms  property_surface_total  property_surface_covered  \\\n",
       "0                    3.0                    75.0                      71.0   \n",
       "1                    1.0                    40.0                      40.0   \n",
       "2                    2.0                    81.0                      70.0   \n",
       "3                    2.0                    51.0                      42.0   \n",
       "4                    1.0                    55.0                      40.0   \n",
       "...                  ...                     ...                       ...   \n",
       "10624                2.0                    76.0                      70.0   \n",
       "10625                1.0                    48.0                      41.0   \n",
       "10626                3.0                   100.0                     100.0   \n",
       "10627                1.0                    35.0                      35.0   \n",
       "10628                1.0                    36.0                      30.0   \n",
       "\n",
       "       property_price                                     property_title  \n",
       "0             75000.0      VENTA DPTO 3 AMB C/DEPENDENCIA - CONSTITUCION  \n",
       "1             76000.0         Venta en pozo monoambiente amplio en Nuñez  \n",
       "2            115000.0  Departamento - Balvanera - 3 ambientes - Depen...  \n",
       "3            110000.0                       VENTA TRES AMBIENTES ALMAGRO  \n",
       "4             99000.0                                 Departamento venta  \n",
       "...               ...                                                ...  \n",
       "10624        217000.0  Exc S/Piso 3 amb c/2 bcones Gr Vta Panor Coc c...  \n",
       "10625        110000.0                     Departamento - Caballito Norte  \n",
       "10626        177000.0                                       PH - Almagro  \n",
       "10627         85000.0                                        French 3000  \n",
       "10628         91700.0          VENTA+MONOAMBIENTE+POZO+PALERMO+FINANCIA+  \n",
       "\n",
       "[10629 rows x 10 columns]"
      ]
     },
     "execution_count": 3,
     "metadata": {},
     "output_type": "execute_result"
    }
   ],
   "source": [
    "# Dataset Test preprocesado\n",
    "test_ds = pd.read_csv('datasets/tp1-test.csv')\n",
    "test_ds = test_ds.drop(['Unnamed: 0'], axis=1)\n",
    "test_ds"
   ]
  },
  {
   "cell_type": "markdown",
   "metadata": {
    "pycharm": {
     "name": "#%% md\n"
    },
    "tags": []
   },
   "source": [
    "## Procesamiento del lenguaje natural"
   ]
  },
  {
   "cell_type": "markdown",
   "metadata": {
    "pycharm": {
     "name": "#%% md\n"
    },
    "tags": []
   },
   "source": [
    "### Ampliación del dataset"
   ]
  },
  {
   "cell_type": "markdown",
   "metadata": {},
   "source": [
    "Este dataset incluye descripciones de las propiedades del otro dataset. Veremos como podemos extraer información de estas descripciones."
   ]
  },
  {
   "cell_type": "code",
   "execution_count": 4,
   "metadata": {},
   "outputs": [],
   "source": [
    "descriptions_dataset = pd.read_csv('datasets/properati_argentina_2021_decrip.csv')"
   ]
  },
  {
   "cell_type": "code",
   "execution_count": 5,
   "metadata": {},
   "outputs": [
    {
     "data": {
      "text/html": [
       "<div>\n",
       "<style scoped>\n",
       "    .dataframe tbody tr th:only-of-type {\n",
       "        vertical-align: middle;\n",
       "    }\n",
       "\n",
       "    .dataframe tbody tr th {\n",
       "        vertical-align: top;\n",
       "    }\n",
       "\n",
       "    .dataframe thead th {\n",
       "        text-align: right;\n",
       "    }\n",
       "</style>\n",
       "<table border=\"1\" class=\"dataframe\">\n",
       "  <thead>\n",
       "    <tr style=\"text-align: right;\">\n",
       "      <th></th>\n",
       "      <th>id</th>\n",
       "      <th>property_description</th>\n",
       "    </tr>\n",
       "  </thead>\n",
       "  <tbody>\n",
       "    <tr>\n",
       "      <th>0</th>\n",
       "      <td>BZCeiGkJr1WBUi6pKJQwJQ==</td>\n",
       "      <td>Corredor Responsable: MARIA ALEJANDRA GENOVEVA...</td>\n",
       "    </tr>\n",
       "    <tr>\n",
       "      <th>1</th>\n",
       "      <td>zuHOGgUE0UB71W7m/YCLoA==</td>\n",
       "      <td>¡HERMOSO PH TIPO CASA DE 2 AMBIENTES!&lt;br&gt;APTO ...</td>\n",
       "    </tr>\n",
       "    <tr>\n",
       "      <th>2</th>\n",
       "      <td>TUL813tXchVBlHUsfaA6DA==</td>\n",
       "      <td>Excelente PH en Núñez 4 amb!!!! Oportunidad !!...</td>\n",
       "    </tr>\n",
       "    <tr>\n",
       "      <th>3</th>\n",
       "      <td>gn55JPmcjftBV/at1a7fPg==</td>\n",
       "      <td>UNICO PH DE 4 DORMITORIOS EN IMPECABLE ESTADO,...</td>\n",
       "    </tr>\n",
       "    <tr>\n",
       "      <th>4</th>\n",
       "      <td>qg4m3QHcuo1+wMmyp7kx3Q==</td>\n",
       "      <td>Ph 2 Amb. Villa Crespo exclusivo uso profesion...</td>\n",
       "    </tr>\n",
       "    <tr>\n",
       "      <th>...</th>\n",
       "      <td>...</td>\n",
       "      <td>...</td>\n",
       "    </tr>\n",
       "    <tr>\n",
       "      <th>460149</th>\n",
       "      <td>MbQ4rqEzjp9Jfc3Sywb/YQ==</td>\n",
       "      <td>Corredor Responsable: Hector Garaygorta / Cris...</td>\n",
       "    </tr>\n",
       "    <tr>\n",
       "      <th>460150</th>\n",
       "      <td>fbuG1ohYC623nxLYPQPBvw==</td>\n",
       "      <td>Corredor Responsable: MARIA DEL ROSARIO NEME -...</td>\n",
       "    </tr>\n",
       "    <tr>\n",
       "      <th>460151</th>\n",
       "      <td>Ry5hMwctFXD7rLoUpzduxQ==</td>\n",
       "      <td>En cumplimiento de las leyes provinciales vige...</td>\n",
       "    </tr>\n",
       "    <tr>\n",
       "      <th>460152</th>\n",
       "      <td>xH37f+l+VOP8Vj0T3g+r6g==</td>\n",
       "      <td>En cumplimiento de las leyes provinciales vige...</td>\n",
       "    </tr>\n",
       "    <tr>\n",
       "      <th>460153</th>\n",
       "      <td>7XOOIQjoDg0MPUoy9HLzng==</td>\n",
       "      <td>CASA EN VENTA EN BARILOCHE – Lomas del Cauquén...</td>\n",
       "    </tr>\n",
       "  </tbody>\n",
       "</table>\n",
       "<p>460154 rows × 2 columns</p>\n",
       "</div>"
      ],
      "text/plain": [
       "                              id  \\\n",
       "0       BZCeiGkJr1WBUi6pKJQwJQ==   \n",
       "1       zuHOGgUE0UB71W7m/YCLoA==   \n",
       "2       TUL813tXchVBlHUsfaA6DA==   \n",
       "3       gn55JPmcjftBV/at1a7fPg==   \n",
       "4       qg4m3QHcuo1+wMmyp7kx3Q==   \n",
       "...                          ...   \n",
       "460149  MbQ4rqEzjp9Jfc3Sywb/YQ==   \n",
       "460150  fbuG1ohYC623nxLYPQPBvw==   \n",
       "460151  Ry5hMwctFXD7rLoUpzduxQ==   \n",
       "460152  xH37f+l+VOP8Vj0T3g+r6g==   \n",
       "460153  7XOOIQjoDg0MPUoy9HLzng==   \n",
       "\n",
       "                                     property_description  \n",
       "0       Corredor Responsable: MARIA ALEJANDRA GENOVEVA...  \n",
       "1       ¡HERMOSO PH TIPO CASA DE 2 AMBIENTES!<br>APTO ...  \n",
       "2       Excelente PH en Núñez 4 amb!!!! Oportunidad !!...  \n",
       "3       UNICO PH DE 4 DORMITORIOS EN IMPECABLE ESTADO,...  \n",
       "4       Ph 2 Amb. Villa Crespo exclusivo uso profesion...  \n",
       "...                                                   ...  \n",
       "460149  Corredor Responsable: Hector Garaygorta / Cris...  \n",
       "460150  Corredor Responsable: MARIA DEL ROSARIO NEME -...  \n",
       "460151  En cumplimiento de las leyes provinciales vige...  \n",
       "460152  En cumplimiento de las leyes provinciales vige...  \n",
       "460153  CASA EN VENTA EN BARILOCHE – Lomas del Cauquén...  \n",
       "\n",
       "[460154 rows x 2 columns]"
      ]
     },
     "execution_count": 5,
     "metadata": {},
     "output_type": "execute_result"
    }
   ],
   "source": [
    "descriptions_dataset"
   ]
  },
  {
   "cell_type": "markdown",
   "metadata": {
    "jp-MarkdownHeadingCollapsed": true,
    "tags": []
   },
   "source": [
    "#### Tecnica Minqing Hu y Bing Liu"
   ]
  },
  {
   "cell_type": "markdown",
   "metadata": {
    "jp-MarkdownHeadingCollapsed": true,
    "tags": []
   },
   "source": [
    "#### Tecnica Regex"
   ]
  },
  {
   "cell_type": "markdown",
   "metadata": {},
   "source": [
    "Revisamos las siguientes paginas para entender cuales son los ammenities mas buscados en CABA, y en Argentina en general.\n",
    "\n",
    "https://www.iprofesional.com/negocios/371702-cuales-son-los-amenities-mas-exoticos-de-edificios-en-argentina\n",
    "\n",
    "https://www.baenegocios.com/sociedad/Ranking-de-amenities-los-servicios-que-mas-pesan-al-comprar-una-propiedad-20220119-0068.html\n",
    "\n",
    "https://www.forbesargentina.com/negocios/amenities-servicios-mas-demandados-argentinos-comprar-una-propiedad-n11901\n",
    "\n",
    "Dichos ammenities parecen hacer que la propiedad cotice entre un 15% y un 20% más que el precio de venta.\n",
    "\n",
    "Sacando un promedio y haciendo un top-5 ranking, podemos notar que los mas relevantes son:\n",
    "\n",
    "- Garage/Estacionamiento\n",
    "- Pileta\n",
    "- Jardin/Espacio al aire libre\n",
    "- Parrilla\n",
    "- SUM (Gimnasio/Spa/Sauna)\n",
    "\n",
    "Al buscar estos datos, podriamos tratar de entender si el precio resulta mayor, contra una propiedad de similares caracteristicas pero sin estos ammenities y a partir de eso, entender que % varía del precio de venta original."
   ]
  },
  {
   "cell_type": "code",
   "execution_count": 6,
   "metadata": {},
   "outputs": [],
   "source": [
    "garage_sin_espacio = re.compile(r\"[^\\s]+garage|garaje|estacionamiento|parking\")\n",
    "garage_con_espacio = re.compile(r\"[^\\s]+ garage|garaje|estacionamiento|parking\")"
   ]
  },
  {
   "cell_type": "code",
   "execution_count": 7,
   "metadata": {},
   "outputs": [
    {
     "name": "stdout",
     "output_type": "stream",
     "text": [
      "{'garage': 65719}\n"
     ]
    }
   ],
   "source": [
    "frecuencia_garage = {'garage': 0}\n",
    "for desc in descriptions_dataset.property_description:\n",
    "    if (len(re.findall(garage_sin_espacio, str(desc).lower())) > 0):\n",
    "        frecuencia_garage['garage'] += 1\n",
    "    if (len(re.findall(garage_con_espacio, str(desc).lower())) > 0):\n",
    "        frecuencia_garage['garage'] += 1\n",
    "print(frecuencia_garage)"
   ]
  },
  {
   "cell_type": "code",
   "execution_count": 8,
   "metadata": {},
   "outputs": [],
   "source": [
    "pileta_sin_espacio = re.compile(r\"[^\\s]+pileta\")\n",
    "pileta_con_espacio = re.compile(r\"[^\\s]+ pileta\")"
   ]
  },
  {
   "cell_type": "code",
   "execution_count": 9,
   "metadata": {},
   "outputs": [
    {
     "name": "stdout",
     "output_type": "stream",
     "text": [
      "{'pileta': 81058}\n"
     ]
    }
   ],
   "source": [
    "frecuencia_pileta= {'pileta': 0}\n",
    "for desc in descriptions_dataset.property_description:\n",
    "    if (len(re.findall(pileta_sin_espacio, str(desc).lower())) > 0):\n",
    "        frecuencia_pileta['pileta'] += 1\n",
    "    if (len(re.findall(pileta_con_espacio, str(desc).lower())) > 0):\n",
    "        frecuencia_pileta['pileta'] += 1\n",
    "print(frecuencia_pileta)"
   ]
  },
  {
   "cell_type": "code",
   "execution_count": 10,
   "metadata": {},
   "outputs": [],
   "source": [
    "jardin_sin_espacio = re.compile(r\"[^\\s]+jardin|espacio verde\")\n",
    "jardin_con_espacio = re.compile(r\"[^\\s]+ jardin|espacio verde\")"
   ]
  },
  {
   "cell_type": "code",
   "execution_count": 11,
   "metadata": {},
   "outputs": [
    {
     "name": "stdout",
     "output_type": "stream",
     "text": [
      "{'jardin': 33055}\n"
     ]
    }
   ],
   "source": [
    "frecuencia_jardin = {'jardin': 0}\n",
    "for desc in descriptions_dataset.property_description:\n",
    "    if (len(re.findall(jardin_sin_espacio, str(desc).lower())) > 0):\n",
    "        frecuencia_jardin['jardin'] += 1\n",
    "    if (len(re.findall(jardin_con_espacio, str(desc).lower())) > 0):\n",
    "        frecuencia_jardin['jardin'] += 1\n",
    "print(frecuencia_jardin)"
   ]
  },
  {
   "cell_type": "code",
   "execution_count": 12,
   "metadata": {},
   "outputs": [],
   "source": [
    "parrilla_sin_espacio = re.compile(r\"[^\\s]+parrilla|bbq\")\n",
    "parrilla_con_espacio = re.compile(r\"[^\\s]+ parrilla|bbq\")"
   ]
  },
  {
   "cell_type": "code",
   "execution_count": 13,
   "metadata": {},
   "outputs": [
    {
     "name": "stdout",
     "output_type": "stream",
     "text": [
      "{'parrilla': 119147}\n"
     ]
    }
   ],
   "source": [
    "frecuencia_parrilla = {'parrilla': 0}\n",
    "for desc in descriptions_dataset.property_description:\n",
    "    if (len(re.findall(parrilla_sin_espacio, str(desc).lower())) > 0):\n",
    "        frecuencia_parrilla['parrilla'] += 1\n",
    "    if (len(re.findall(parrilla_con_espacio, str(desc).lower())) > 0):\n",
    "        frecuencia_parrilla['parrilla'] += 1\n",
    "print(frecuencia_parrilla)"
   ]
  },
  {
   "cell_type": "code",
   "execution_count": 14,
   "metadata": {},
   "outputs": [],
   "source": [
    "zoom_sin_espacio = re.compile(r\"[^\\s]+zoom|sum|gimansio|spa\")\n",
    "zoom_con_espacio = re.compile(r\"[^\\s]+ zoom|sum|gimansio|spa\")"
   ]
  },
  {
   "cell_type": "code",
   "execution_count": 15,
   "metadata": {},
   "outputs": [
    {
     "name": "stdout",
     "output_type": "stream",
     "text": [
      "{'sum': 337200}\n"
     ]
    }
   ],
   "source": [
    "frecuencia_zoom = {'sum': 0}\n",
    "for desc in descriptions_dataset.property_description:\n",
    "    if (len(re.findall(zoom_sin_espacio, str(desc).lower())) > 0):\n",
    "        frecuencia_zoom['sum'] += 1\n",
    "    if (len(re.findall(zoom_con_espacio, str(desc).lower())) > 0):\n",
    "        frecuencia_zoom['sum'] += 1\n",
    "print(frecuencia_zoom)"
   ]
  },
  {
   "cell_type": "markdown",
   "metadata": {},
   "source": [
    "Notamos que muchas obervaciones tenian el dato de si contaban o no con balcon asi que decidimos agregarlo al analisis para poder ver si encontramos una correlacion que nos de mas informacion con lo que respecta al balcon y a la superifice total versus la superificie cubierta y el precio de venta de cada vivienda."
   ]
  },
  {
   "cell_type": "code",
   "execution_count": 16,
   "metadata": {},
   "outputs": [],
   "source": [
    "balcon_sin_espacio = re.compile(r\"[^\\s]+balcon\")\n",
    "balcon_con_espacio = re.compile(r\"[^\\s]+ balcon\")"
   ]
  },
  {
   "cell_type": "code",
   "execution_count": 17,
   "metadata": {},
   "outputs": [
    {
     "name": "stdout",
     "output_type": "stream",
     "text": [
      "{'balcon': 46510}\n"
     ]
    }
   ],
   "source": [
    "frecuencia_balcon= {'balcon': 0}\n",
    "for desc in descriptions_dataset.property_description:\n",
    "    if (len(re.findall(balcon_sin_espacio, str(desc).lower())) > 0):\n",
    "        frecuencia_balcon['balcon'] += 1\n",
    "    if (len(re.findall(balcon_con_espacio, str(desc).lower())) > 0):\n",
    "        frecuencia_balcon['balcon'] += 1\n",
    "print(frecuencia_balcon)"
   ]
  },
  {
   "cell_type": "markdown",
   "metadata": {},
   "source": [
    "Otro factor interesante que podriamos analizar es a que tipo de vivienda pertenece cada ammenity. Y si donde encontramos una ammenity en particular, encontramos consecuentemente otra. Por ejemplo, una casa con jardin y parrila y/o pileta.\n",
    "De esta manera podriamos tratar de determinar el costo de cada ammenity o como afecta al precio."
   ]
  },
  {
   "cell_type": "markdown",
   "metadata": {
    "jp-MarkdownHeadingCollapsed": true,
    "tags": []
   },
   "source": [
    "#### Tecnica Open Information Extraction"
   ]
  },
  {
   "cell_type": "markdown",
   "metadata": {
    "jp-MarkdownHeadingCollapsed": true,
    "pycharm": {
     "name": "#%% md\n"
    },
    "tags": []
   },
   "source": [
    "#### Modelos"
   ]
  },
  {
   "cell_type": "markdown",
   "metadata": {
    "pycharm": {
     "name": "#%% md\n"
    },
    "tags": []
   },
   "source": [
    "## Redes Neuronales"
   ]
  },
  {
   "cell_type": "markdown",
   "metadata": {
    "pycharm": {
     "name": "#%% md\n"
    }
   },
   "source": [
    "### Regresión"
   ]
  },
  {
   "cell_type": "markdown",
   "metadata": {
    "pycharm": {
     "name": "#%% md\n"
    }
   },
   "source": [
    "### Clasificación"
   ]
  },
  {
   "cell_type": "markdown",
   "metadata": {
    "pycharm": {
     "name": "#%% md\n"
    }
   },
   "source": [
    "#### Construcción del target"
   ]
  },
  {
   "cell_type": "markdown",
   "metadata": {
    "pycharm": {
     "name": "#%% md\n"
    }
   },
   "source": [
    "#### Modelo"
   ]
  },
  {
   "cell_type": "markdown",
   "metadata": {
    "jp-MarkdownHeadingCollapsed": true,
    "pycharm": {
     "name": "#%% md\n"
    },
    "tags": []
   },
   "source": [
    "## Ensambles de modelos"
   ]
  },
  {
   "cell_type": "markdown",
   "metadata": {
    "pycharm": {
     "name": "#%% md\n"
    }
   },
   "source": [
    "### Ensamble 1"
   ]
  },
  {
   "cell_type": "markdown",
   "metadata": {
    "pycharm": {
     "name": "#%% md\n"
    }
   },
   "source": [
    "### Ensamble 2"
   ]
  },
  {
   "cell_type": "markdown",
   "metadata": {
    "jp-MarkdownHeadingCollapsed": true,
    "pycharm": {
     "name": "#%% md\n"
    },
    "tags": []
   },
   "source": [
    "## Conclusiones"
   ]
  }
 ],
 "metadata": {
  "kernelspec": {
   "display_name": "Python 3 (ipykernel)",
   "language": "python",
   "name": "python3"
  },
  "language_info": {
   "codemirror_mode": {
    "name": "ipython",
    "version": 3
   },
   "file_extension": ".py",
   "mimetype": "text/x-python",
   "name": "python",
   "nbconvert_exporter": "python",
   "pygments_lexer": "ipython3",
   "version": "3.10.4"
  }
 },
 "nbformat": 4,
 "nbformat_minor": 4
}

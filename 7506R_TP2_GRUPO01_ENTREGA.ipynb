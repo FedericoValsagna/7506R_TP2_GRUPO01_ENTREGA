{
 "cells": [
  {
   "cell_type": "markdown",
   "metadata": {
    "pycharm": {
     "name": "#%% md\n"
    }
   },
   "source": [
    "# 7506 - Trabajo Práctico 2"
   ]
  },
  {
   "cell_type": "markdown",
   "metadata": {
    "pycharm": {
     "name": "#%% md\n"
    }
   },
   "source": [
    "---"
   ]
  },
  {
   "cell_type": "markdown",
   "metadata": {
    "pycharm": {
     "name": "#%% md\n"
    }
   },
   "source": [
    "## Introducción"
   ]
  },
  {
   "cell_type": "markdown",
   "metadata": {
    "pycharm": {
     "name": "#%% md\n"
    }
   },
   "source": [
    "### Librerías"
   ]
  },
  {
   "cell_type": "code",
   "execution_count": 1,
   "metadata": {
    "collapsed": false,
    "jupyter": {
     "outputs_hidden": false
    },
    "pycharm": {
     "name": "#%%\n"
    }
   },
   "outputs": [],
   "source": [
    "import pandas as pd\n",
    "import numpy as np\n",
    "import re\n",
    "from sklearn.model_selection import train_test_split\n",
    "from sklearn.preprocessing import StandardScaler\n",
    "import tensorflow as tf\n",
    "from tensorflow import keras\n",
    "import keras_tuner as kt\n",
    "import matplotlib.pyplot as plt\n",
    "from matplotlib import style"
   ]
  },
  {
   "cell_type": "code",
   "execution_count": 2,
   "metadata": {
    "collapsed": false,
    "jupyter": {
     "outputs_hidden": false
    },
    "pycharm": {
     "name": "#%%\n"
    }
   },
   "outputs": [
    {
     "data": {
      "text/html": [
       "<div>\n",
       "<style scoped>\n",
       "    .dataframe tbody tr th:only-of-type {\n",
       "        vertical-align: middle;\n",
       "    }\n",
       "\n",
       "    .dataframe tbody tr th {\n",
       "        vertical-align: top;\n",
       "    }\n",
       "\n",
       "    .dataframe thead th {\n",
       "        text-align: right;\n",
       "    }\n",
       "</style>\n",
       "<table border=\"1\" class=\"dataframe\">\n",
       "  <thead>\n",
       "    <tr style=\"text-align: right;\">\n",
       "      <th></th>\n",
       "      <th>start_date</th>\n",
       "      <th>end_date</th>\n",
       "      <th>latitud</th>\n",
       "      <th>longitud</th>\n",
       "      <th>place_l3</th>\n",
       "      <th>property_type</th>\n",
       "      <th>property_rooms</th>\n",
       "      <th>property_bedrooms</th>\n",
       "      <th>property_surface_total</th>\n",
       "      <th>property_surface_covered</th>\n",
       "      <th>property_price</th>\n",
       "      <th>property_title</th>\n",
       "    </tr>\n",
       "  </thead>\n",
       "  <tbody>\n",
       "    <tr>\n",
       "      <th>0</th>\n",
       "      <td>2021-09-17</td>\n",
       "      <td>2021-11-03 00:00:00.000000000</td>\n",
       "      <td>-34.644207</td>\n",
       "      <td>-58.498511</td>\n",
       "      <td>Mataderos</td>\n",
       "      <td>PH</td>\n",
       "      <td>3.0</td>\n",
       "      <td>2.0</td>\n",
       "      <td>73.0</td>\n",
       "      <td>73.0</td>\n",
       "      <td>135000.0</td>\n",
       "      <td>Excelente Ph 3 amb.- Venta-Barrio Naon</td>\n",
       "    </tr>\n",
       "    <tr>\n",
       "      <th>1</th>\n",
       "      <td>2021-11-04</td>\n",
       "      <td>2021-11-12 00:00:00.000000000</td>\n",
       "      <td>-34.617285</td>\n",
       "      <td>-58.396332</td>\n",
       "      <td>Balvanera</td>\n",
       "      <td>Departamento</td>\n",
       "      <td>1.0</td>\n",
       "      <td>1.0</td>\n",
       "      <td>43.0</td>\n",
       "      <td>43.0</td>\n",
       "      <td>59800.0</td>\n",
       "      <td>Departamento - Balvanera</td>\n",
       "    </tr>\n",
       "    <tr>\n",
       "      <th>2</th>\n",
       "      <td>2021-06-24</td>\n",
       "      <td>2021-10-28 00:00:00.000000000</td>\n",
       "      <td>-34.587229</td>\n",
       "      <td>-58.420653</td>\n",
       "      <td>Palermo</td>\n",
       "      <td>Departamento</td>\n",
       "      <td>4.0</td>\n",
       "      <td>3.0</td>\n",
       "      <td>118.0</td>\n",
       "      <td>118.0</td>\n",
       "      <td>229000.0</td>\n",
       "      <td>OPORTUNIDAD IMPECABLE  SEMIPISO DE 118 m2 EN P...</td>\n",
       "    </tr>\n",
       "    <tr>\n",
       "      <th>3</th>\n",
       "      <td>2021-11-23</td>\n",
       "      <td>2021-12-03 00:00:00.000000000</td>\n",
       "      <td>-34.621213</td>\n",
       "      <td>-58.432909</td>\n",
       "      <td>Caballito</td>\n",
       "      <td>Departamento</td>\n",
       "      <td>4.0</td>\n",
       "      <td>3.0</td>\n",
       "      <td>113.0</td>\n",
       "      <td>107.0</td>\n",
       "      <td>320000.0</td>\n",
       "      <td>Departamento - Caballito - Venta - 4 Ambientes...</td>\n",
       "    </tr>\n",
       "    <tr>\n",
       "      <th>4</th>\n",
       "      <td>2021-06-22</td>\n",
       "      <td>2022-07-17 00:00:00.000000000</td>\n",
       "      <td>-34.562502</td>\n",
       "      <td>-58.453964</td>\n",
       "      <td>Belgrano</td>\n",
       "      <td>Departamento</td>\n",
       "      <td>1.0</td>\n",
       "      <td>1.0</td>\n",
       "      <td>24.0</td>\n",
       "      <td>24.0</td>\n",
       "      <td>60000.0</td>\n",
       "      <td>Departamento - Belgrano Barrancas</td>\n",
       "    </tr>\n",
       "  </tbody>\n",
       "</table>\n",
       "</div>"
      ],
      "text/plain": [
       "   start_date                       end_date    latitud   longitud   place_l3  \\\n",
       "0  2021-09-17  2021-11-03 00:00:00.000000000 -34.644207 -58.498511  Mataderos   \n",
       "1  2021-11-04  2021-11-12 00:00:00.000000000 -34.617285 -58.396332  Balvanera   \n",
       "2  2021-06-24  2021-10-28 00:00:00.000000000 -34.587229 -58.420653    Palermo   \n",
       "3  2021-11-23  2021-12-03 00:00:00.000000000 -34.621213 -58.432909  Caballito   \n",
       "4  2021-06-22  2022-07-17 00:00:00.000000000 -34.562502 -58.453964   Belgrano   \n",
       "\n",
       "  property_type  property_rooms  property_bedrooms  property_surface_total  \\\n",
       "0            PH             3.0                2.0                    73.0   \n",
       "1  Departamento             1.0                1.0                    43.0   \n",
       "2  Departamento             4.0                3.0                   118.0   \n",
       "3  Departamento             4.0                3.0                   113.0   \n",
       "4  Departamento             1.0                1.0                    24.0   \n",
       "\n",
       "   property_surface_covered  property_price  \\\n",
       "0                      73.0        135000.0   \n",
       "1                      43.0         59800.0   \n",
       "2                     118.0        229000.0   \n",
       "3                     107.0        320000.0   \n",
       "4                      24.0         60000.0   \n",
       "\n",
       "                                      property_title  \n",
       "0             Excelente Ph 3 amb.- Venta-Barrio Naon  \n",
       "1                           Departamento - Balvanera  \n",
       "2  OPORTUNIDAD IMPECABLE  SEMIPISO DE 118 m2 EN P...  \n",
       "3  Departamento - Caballito - Venta - 4 Ambientes...  \n",
       "4                  Departamento - Belgrano Barrancas  "
      ]
     },
     "execution_count": 2,
     "metadata": {},
     "output_type": "execute_result"
    }
   ],
   "source": [
    "# Dataset Train preprocesado\n",
    "train_ds = pd.read_csv('datasets/tp1-train.csv')\n",
    "train_ds = train_ds.drop(['Unnamed: 0'], axis=1)\n",
    "train_ds.head()"
   ]
  },
  {
   "cell_type": "code",
   "execution_count": 3,
   "metadata": {
    "collapsed": false,
    "jupyter": {
     "outputs_hidden": false
    },
    "pycharm": {
     "name": "#%%\n"
    }
   },
   "outputs": [
    {
     "data": {
      "text/html": [
       "<div>\n",
       "<style scoped>\n",
       "    .dataframe tbody tr th:only-of-type {\n",
       "        vertical-align: middle;\n",
       "    }\n",
       "\n",
       "    .dataframe tbody tr th {\n",
       "        vertical-align: top;\n",
       "    }\n",
       "\n",
       "    .dataframe thead th {\n",
       "        text-align: right;\n",
       "    }\n",
       "</style>\n",
       "<table border=\"1\" class=\"dataframe\">\n",
       "  <thead>\n",
       "    <tr style=\"text-align: right;\">\n",
       "      <th></th>\n",
       "      <th>latitud</th>\n",
       "      <th>longitud</th>\n",
       "      <th>place_l3</th>\n",
       "      <th>property_type</th>\n",
       "      <th>property_rooms</th>\n",
       "      <th>property_bedrooms</th>\n",
       "      <th>property_surface_total</th>\n",
       "      <th>property_surface_covered</th>\n",
       "      <th>property_price</th>\n",
       "      <th>property_title</th>\n",
       "    </tr>\n",
       "  </thead>\n",
       "  <tbody>\n",
       "    <tr>\n",
       "      <th>0</th>\n",
       "      <td>-34.632666</td>\n",
       "      <td>-58.483515</td>\n",
       "      <td>Floresta</td>\n",
       "      <td>PH</td>\n",
       "      <td>3.0</td>\n",
       "      <td>2.0</td>\n",
       "      <td>78.0</td>\n",
       "      <td>72.0</td>\n",
       "      <td>110000.0</td>\n",
       "      <td>PH 3 Ambientes con patio Floresta Sin Expensas</td>\n",
       "    </tr>\n",
       "    <tr>\n",
       "      <th>1</th>\n",
       "      <td>-34.592577</td>\n",
       "      <td>-58.398797</td>\n",
       "      <td>Barrio Norte</td>\n",
       "      <td>Departamento</td>\n",
       "      <td>2.0</td>\n",
       "      <td>1.0</td>\n",
       "      <td>32.0</td>\n",
       "      <td>27.0</td>\n",
       "      <td>95000.0</td>\n",
       "      <td>U$S 95.000 - 2 amb - Recoleta - Azcuénaga 1400...</td>\n",
       "    </tr>\n",
       "    <tr>\n",
       "      <th>2</th>\n",
       "      <td>-34.626402</td>\n",
       "      <td>-58.456731</td>\n",
       "      <td>Caballito</td>\n",
       "      <td>Departamento</td>\n",
       "      <td>2.0</td>\n",
       "      <td>1.0</td>\n",
       "      <td>40.0</td>\n",
       "      <td>40.0</td>\n",
       "      <td>83000.0</td>\n",
       "      <td>VENTA al frente con balcon - con renta  2AMB</td>\n",
       "    </tr>\n",
       "    <tr>\n",
       "      <th>3</th>\n",
       "      <td>-34.607440</td>\n",
       "      <td>-58.421899</td>\n",
       "      <td>Almagro</td>\n",
       "      <td>Departamento</td>\n",
       "      <td>3.0</td>\n",
       "      <td>2.0</td>\n",
       "      <td>81.0</td>\n",
       "      <td>68.0</td>\n",
       "      <td>165000.0</td>\n",
       "      <td>HERMOSO DEPTO SIN EXP. 3 AMB.RECICLADO, PATIO</td>\n",
       "    </tr>\n",
       "    <tr>\n",
       "      <th>4</th>\n",
       "      <td>-34.585663</td>\n",
       "      <td>-58.415008</td>\n",
       "      <td>Palermo</td>\n",
       "      <td>Departamento</td>\n",
       "      <td>4.0</td>\n",
       "      <td>2.0</td>\n",
       "      <td>75.0</td>\n",
       "      <td>75.0</td>\n",
       "      <td>290000.0</td>\n",
       "      <td>OM BOTÁNICO: Departamento a estrenar en Palermo</td>\n",
       "    </tr>\n",
       "    <tr>\n",
       "      <th>...</th>\n",
       "      <td>...</td>\n",
       "      <td>...</td>\n",
       "      <td>...</td>\n",
       "      <td>...</td>\n",
       "      <td>...</td>\n",
       "      <td>...</td>\n",
       "      <td>...</td>\n",
       "      <td>...</td>\n",
       "      <td>...</td>\n",
       "      <td>...</td>\n",
       "    </tr>\n",
       "    <tr>\n",
       "      <th>16658</th>\n",
       "      <td>-34.611851</td>\n",
       "      <td>-58.383438</td>\n",
       "      <td>Monserrat</td>\n",
       "      <td>Departamento</td>\n",
       "      <td>3.0</td>\n",
       "      <td>2.0</td>\n",
       "      <td>55.0</td>\n",
       "      <td>45.0</td>\n",
       "      <td>72500.0</td>\n",
       "      <td>Depto 3 Ambientes En Venta En Monserrat Con Patio</td>\n",
       "    </tr>\n",
       "    <tr>\n",
       "      <th>16659</th>\n",
       "      <td>-34.562502</td>\n",
       "      <td>-58.453964</td>\n",
       "      <td>Belgrano</td>\n",
       "      <td>Departamento</td>\n",
       "      <td>1.0</td>\n",
       "      <td>1.0</td>\n",
       "      <td>36.0</td>\n",
       "      <td>36.0</td>\n",
       "      <td>130000.0</td>\n",
       "      <td>Departamento - Belgrano</td>\n",
       "    </tr>\n",
       "    <tr>\n",
       "      <th>16660</th>\n",
       "      <td>-34.611979</td>\n",
       "      <td>-58.403334</td>\n",
       "      <td>Balvanera</td>\n",
       "      <td>PH</td>\n",
       "      <td>7.0</td>\n",
       "      <td>5.0</td>\n",
       "      <td>364.0</td>\n",
       "      <td>233.0</td>\n",
       "      <td>355000.0</td>\n",
       "      <td>Balvanera PH , Excelente Unidad de 2 plantas c...</td>\n",
       "    </tr>\n",
       "    <tr>\n",
       "      <th>16661</th>\n",
       "      <td>-34.578861</td>\n",
       "      <td>-58.484033</td>\n",
       "      <td>Villa Urquiza</td>\n",
       "      <td>Departamento</td>\n",
       "      <td>1.0</td>\n",
       "      <td>1.0</td>\n",
       "      <td>38.0</td>\n",
       "      <td>34.0</td>\n",
       "      <td>125000.0</td>\n",
       "      <td>MONOAMBIENTE | BAUNESS 2000</td>\n",
       "    </tr>\n",
       "    <tr>\n",
       "      <th>16662</th>\n",
       "      <td>-34.629900</td>\n",
       "      <td>-58.435900</td>\n",
       "      <td>Caballito</td>\n",
       "      <td>Departamento</td>\n",
       "      <td>1.0</td>\n",
       "      <td>1.0</td>\n",
       "      <td>27.0</td>\n",
       "      <td>27.0</td>\n",
       "      <td>52200.0</td>\n",
       "      <td>VENTA POZO DEPARTAMENTO 1 AMBIENTE CABALLITO</td>\n",
       "    </tr>\n",
       "  </tbody>\n",
       "</table>\n",
       "<p>16663 rows × 10 columns</p>\n",
       "</div>"
      ],
      "text/plain": [
       "         latitud   longitud       place_l3 property_type  property_rooms  \\\n",
       "0     -34.632666 -58.483515       Floresta            PH             3.0   \n",
       "1     -34.592577 -58.398797   Barrio Norte  Departamento             2.0   \n",
       "2     -34.626402 -58.456731      Caballito  Departamento             2.0   \n",
       "3     -34.607440 -58.421899        Almagro  Departamento             3.0   \n",
       "4     -34.585663 -58.415008        Palermo  Departamento             4.0   \n",
       "...          ...        ...            ...           ...             ...   \n",
       "16658 -34.611851 -58.383438      Monserrat  Departamento             3.0   \n",
       "16659 -34.562502 -58.453964       Belgrano  Departamento             1.0   \n",
       "16660 -34.611979 -58.403334      Balvanera            PH             7.0   \n",
       "16661 -34.578861 -58.484033  Villa Urquiza  Departamento             1.0   \n",
       "16662 -34.629900 -58.435900      Caballito  Departamento             1.0   \n",
       "\n",
       "       property_bedrooms  property_surface_total  property_surface_covered  \\\n",
       "0                    2.0                    78.0                      72.0   \n",
       "1                    1.0                    32.0                      27.0   \n",
       "2                    1.0                    40.0                      40.0   \n",
       "3                    2.0                    81.0                      68.0   \n",
       "4                    2.0                    75.0                      75.0   \n",
       "...                  ...                     ...                       ...   \n",
       "16658                2.0                    55.0                      45.0   \n",
       "16659                1.0                    36.0                      36.0   \n",
       "16660                5.0                   364.0                     233.0   \n",
       "16661                1.0                    38.0                      34.0   \n",
       "16662                1.0                    27.0                      27.0   \n",
       "\n",
       "       property_price                                     property_title  \n",
       "0            110000.0     PH 3 Ambientes con patio Floresta Sin Expensas  \n",
       "1             95000.0  U$S 95.000 - 2 amb - Recoleta - Azcuénaga 1400...  \n",
       "2             83000.0       VENTA al frente con balcon - con renta  2AMB  \n",
       "3            165000.0      HERMOSO DEPTO SIN EXP. 3 AMB.RECICLADO, PATIO  \n",
       "4            290000.0    OM BOTÁNICO: Departamento a estrenar en Palermo  \n",
       "...               ...                                                ...  \n",
       "16658         72500.0  Depto 3 Ambientes En Venta En Monserrat Con Patio  \n",
       "16659        130000.0                            Departamento - Belgrano  \n",
       "16660        355000.0  Balvanera PH , Excelente Unidad de 2 plantas c...  \n",
       "16661        125000.0                        MONOAMBIENTE | BAUNESS 2000  \n",
       "16662         52200.0       VENTA POZO DEPARTAMENTO 1 AMBIENTE CABALLITO  \n",
       "\n",
       "[16663 rows x 10 columns]"
      ]
     },
     "execution_count": 3,
     "metadata": {},
     "output_type": "execute_result"
    }
   ],
   "source": [
    "# Dataset Test preprocesado\n",
    "test_ds = pd.read_csv('datasets/tp1-test.csv')\n",
    "test_ds = test_ds.drop(['Unnamed: 0'], axis=1)\n",
    "test_ds"
   ]
  },
  {
   "cell_type": "markdown",
   "metadata": {
    "pycharm": {
     "name": "#%% md\n"
    },
    "tags": []
   },
   "source": [
    "## Procesamiento del lenguaje natural"
   ]
  },
  {
   "cell_type": "markdown",
   "metadata": {
    "pycharm": {
     "name": "#%% md\n"
    },
    "tags": []
   },
   "source": [
    "### Ampliación del dataset"
   ]
  },
  {
   "cell_type": "markdown",
   "metadata": {},
   "source": [
    "Este dataset incluye descripciones de las propiedades del otro dataset. Veremos como podemos extraer información de estas descripciones."
   ]
  },
  {
   "cell_type": "code",
   "execution_count": 4,
   "metadata": {},
   "outputs": [],
   "source": [
    "descriptions_dataset = pd.read_csv('datasets/properati_argentina_2021_decrip.csv')"
   ]
  },
  {
   "cell_type": "code",
   "execution_count": 5,
   "metadata": {},
   "outputs": [
    {
     "data": {
      "text/html": [
       "<div>\n",
       "<style scoped>\n",
       "    .dataframe tbody tr th:only-of-type {\n",
       "        vertical-align: middle;\n",
       "    }\n",
       "\n",
       "    .dataframe tbody tr th {\n",
       "        vertical-align: top;\n",
       "    }\n",
       "\n",
       "    .dataframe thead th {\n",
       "        text-align: right;\n",
       "    }\n",
       "</style>\n",
       "<table border=\"1\" class=\"dataframe\">\n",
       "  <thead>\n",
       "    <tr style=\"text-align: right;\">\n",
       "      <th></th>\n",
       "      <th>id</th>\n",
       "      <th>property_description</th>\n",
       "    </tr>\n",
       "  </thead>\n",
       "  <tbody>\n",
       "    <tr>\n",
       "      <th>0</th>\n",
       "      <td>BZCeiGkJr1WBUi6pKJQwJQ==</td>\n",
       "      <td>Corredor Responsable: MARIA ALEJANDRA GENOVEVA...</td>\n",
       "    </tr>\n",
       "    <tr>\n",
       "      <th>1</th>\n",
       "      <td>zuHOGgUE0UB71W7m/YCLoA==</td>\n",
       "      <td>¡HERMOSO PH TIPO CASA DE 2 AMBIENTES!&lt;br&gt;APTO ...</td>\n",
       "    </tr>\n",
       "    <tr>\n",
       "      <th>2</th>\n",
       "      <td>TUL813tXchVBlHUsfaA6DA==</td>\n",
       "      <td>Excelente PH en Núñez 4 amb!!!! Oportunidad !!...</td>\n",
       "    </tr>\n",
       "    <tr>\n",
       "      <th>3</th>\n",
       "      <td>gn55JPmcjftBV/at1a7fPg==</td>\n",
       "      <td>UNICO PH DE 4 DORMITORIOS EN IMPECABLE ESTADO,...</td>\n",
       "    </tr>\n",
       "    <tr>\n",
       "      <th>4</th>\n",
       "      <td>qg4m3QHcuo1+wMmyp7kx3Q==</td>\n",
       "      <td>Ph 2 Amb. Villa Crespo exclusivo uso profesion...</td>\n",
       "    </tr>\n",
       "    <tr>\n",
       "      <th>...</th>\n",
       "      <td>...</td>\n",
       "      <td>...</td>\n",
       "    </tr>\n",
       "    <tr>\n",
       "      <th>460149</th>\n",
       "      <td>MbQ4rqEzjp9Jfc3Sywb/YQ==</td>\n",
       "      <td>Corredor Responsable: Hector Garaygorta / Cris...</td>\n",
       "    </tr>\n",
       "    <tr>\n",
       "      <th>460150</th>\n",
       "      <td>fbuG1ohYC623nxLYPQPBvw==</td>\n",
       "      <td>Corredor Responsable: MARIA DEL ROSARIO NEME -...</td>\n",
       "    </tr>\n",
       "    <tr>\n",
       "      <th>460151</th>\n",
       "      <td>Ry5hMwctFXD7rLoUpzduxQ==</td>\n",
       "      <td>En cumplimiento de las leyes provinciales vige...</td>\n",
       "    </tr>\n",
       "    <tr>\n",
       "      <th>460152</th>\n",
       "      <td>xH37f+l+VOP8Vj0T3g+r6g==</td>\n",
       "      <td>En cumplimiento de las leyes provinciales vige...</td>\n",
       "    </tr>\n",
       "    <tr>\n",
       "      <th>460153</th>\n",
       "      <td>7XOOIQjoDg0MPUoy9HLzng==</td>\n",
       "      <td>CASA EN VENTA EN BARILOCHE – Lomas del Cauquén...</td>\n",
       "    </tr>\n",
       "  </tbody>\n",
       "</table>\n",
       "<p>460154 rows × 2 columns</p>\n",
       "</div>"
      ],
      "text/plain": [
       "                              id  \\\n",
       "0       BZCeiGkJr1WBUi6pKJQwJQ==   \n",
       "1       zuHOGgUE0UB71W7m/YCLoA==   \n",
       "2       TUL813tXchVBlHUsfaA6DA==   \n",
       "3       gn55JPmcjftBV/at1a7fPg==   \n",
       "4       qg4m3QHcuo1+wMmyp7kx3Q==   \n",
       "...                          ...   \n",
       "460149  MbQ4rqEzjp9Jfc3Sywb/YQ==   \n",
       "460150  fbuG1ohYC623nxLYPQPBvw==   \n",
       "460151  Ry5hMwctFXD7rLoUpzduxQ==   \n",
       "460152  xH37f+l+VOP8Vj0T3g+r6g==   \n",
       "460153  7XOOIQjoDg0MPUoy9HLzng==   \n",
       "\n",
       "                                     property_description  \n",
       "0       Corredor Responsable: MARIA ALEJANDRA GENOVEVA...  \n",
       "1       ¡HERMOSO PH TIPO CASA DE 2 AMBIENTES!<br>APTO ...  \n",
       "2       Excelente PH en Núñez 4 amb!!!! Oportunidad !!...  \n",
       "3       UNICO PH DE 4 DORMITORIOS EN IMPECABLE ESTADO,...  \n",
       "4       Ph 2 Amb. Villa Crespo exclusivo uso profesion...  \n",
       "...                                                   ...  \n",
       "460149  Corredor Responsable: Hector Garaygorta / Cris...  \n",
       "460150  Corredor Responsable: MARIA DEL ROSARIO NEME -...  \n",
       "460151  En cumplimiento de las leyes provinciales vige...  \n",
       "460152  En cumplimiento de las leyes provinciales vige...  \n",
       "460153  CASA EN VENTA EN BARILOCHE – Lomas del Cauquén...  \n",
       "\n",
       "[460154 rows x 2 columns]"
      ]
     },
     "execution_count": 5,
     "metadata": {},
     "output_type": "execute_result"
    }
   ],
   "source": [
    "descriptions_dataset"
   ]
  },
  {
   "cell_type": "markdown",
   "metadata": {
    "tags": []
   },
   "source": [
    "#### Tecnica Minqing Hu y Bing Liu"
   ]
  },
  {
   "cell_type": "markdown",
   "metadata": {},
   "source": [
    "Una forma de analizar el sentimiento de un de un texto es considerando su sentimiento como la suma de los sentimientos de cada una de las palabras que lo forman.\n",
    "\n",
    "Para el analisis de sentimiento nos guiamos del analisis realizado en esta pagina: https://www.cienciadedatos.net/documentos/py25-text-mining-python.html\n",
    "\n",
    "Utilizamos algunas funciones de tokenizacion y limpieza de ahi con alguna sutil modificacion para nuestro caso de uso en particular."
   ]
  },
  {
   "cell_type": "code",
   "execution_count": 6,
   "metadata": {},
   "outputs": [],
   "source": [
    "def limpiar_tokenizar(texto):\n",
    "    '''\n",
    "    Esta función limpia y tokeniza el texto en palabras individuales.\n",
    "    El orden en el que se va limpiando el texto no es arbitrario.\n",
    "    El listado de signos de puntuación se ha obtenido de: print(string.punctuation)\n",
    "    y re.escape(string.punctuation)\n",
    "    '''\n",
    "    \n",
    "    # Se convierte todo el texto a minúsculas\n",
    "    nuevo_texto = str(texto).lower()\n",
    "    # Eliminación de páginas web (palabras que empiezan por \"http\")\n",
    "    nuevo_texto = re.sub('http\\S+', ' ', nuevo_texto)\n",
    "    # Eliminación de signos de puntuación\n",
    "    regex = '[\\\\!\\\\¡\\\\\"\\\\#\\\\$\\\\%\\\\&\\\\\\'\\\\(\\\\)\\\\*\\\\+\\\\,\\\\-\\\\.\\\\/\\\\:\\\\;\\\\<\\\\=\\\\>\\\\?\\\\@\\\\[\\\\\\\\\\\\]\\\\^_\\\\`\\\\{\\\\|\\\\}\\\\~]'\n",
    "    nuevo_texto = re.sub(regex , ' ', nuevo_texto)\n",
    "    # Eliminación de números\n",
    "    nuevo_texto = re.sub(\"\\d+\", ' ', nuevo_texto)\n",
    "    # Eliminación de espacios en blanco múltiples\n",
    "    nuevo_texto = re.sub(\"\\\\s+\", ' ', nuevo_texto)\n",
    "    # Tokenización por palabras individuales\n",
    "    nuevo_texto = nuevo_texto.split(sep = ' ')\n",
    "    # Eliminación de tokens con una longitud < 2\n",
    "    nuevo_texto = [token for token in nuevo_texto if len(token) > 1]\n",
    "    \n",
    "    return(nuevo_texto)"
   ]
  },
  {
   "cell_type": "code",
   "execution_count": 7,
   "metadata": {},
   "outputs": [
    {
     "data": {
      "text/html": [
       "<div>\n",
       "<style scoped>\n",
       "    .dataframe tbody tr th:only-of-type {\n",
       "        vertical-align: middle;\n",
       "    }\n",
       "\n",
       "    .dataframe tbody tr th {\n",
       "        vertical-align: top;\n",
       "    }\n",
       "\n",
       "    .dataframe thead th {\n",
       "        text-align: right;\n",
       "    }\n",
       "</style>\n",
       "<table border=\"1\" class=\"dataframe\">\n",
       "  <thead>\n",
       "    <tr style=\"text-align: right;\">\n",
       "      <th></th>\n",
       "      <th>texto_tokenizado</th>\n",
       "    </tr>\n",
       "  </thead>\n",
       "  <tbody>\n",
       "    <tr>\n",
       "      <th>0</th>\n",
       "      <td>[corredor, responsable, maria, alejandra, geno...</td>\n",
       "    </tr>\n",
       "    <tr>\n",
       "      <th>1</th>\n",
       "      <td>[hermoso, ph, tipo, casa, de, ambientes, br, a...</td>\n",
       "    </tr>\n",
       "    <tr>\n",
       "      <th>2</th>\n",
       "      <td>[excelente, ph, en, núñez, amb, oportunidad, t...</td>\n",
       "    </tr>\n",
       "    <tr>\n",
       "      <th>3</th>\n",
       "      <td>[unico, ph, de, dormitorios, en, impecable, es...</td>\n",
       "    </tr>\n",
       "    <tr>\n",
       "      <th>4</th>\n",
       "      <td>[ph, amb, villa, crespo, exclusivo, uso, profe...</td>\n",
       "    </tr>\n",
       "  </tbody>\n",
       "</table>\n",
       "</div>"
      ],
      "text/plain": [
       "                                    texto_tokenizado\n",
       "0  [corredor, responsable, maria, alejandra, geno...\n",
       "1  [hermoso, ph, tipo, casa, de, ambientes, br, a...\n",
       "2  [excelente, ph, en, núñez, amb, oportunidad, t...\n",
       "3  [unico, ph, de, dormitorios, en, impecable, es...\n",
       "4  [ph, amb, villa, crespo, exclusivo, uso, profe..."
      ]
     },
     "execution_count": 7,
     "metadata": {},
     "output_type": "execute_result"
    }
   ],
   "source": [
    "# se aplica la función de limpieza y tokenización a cada descripcion\n",
    "\n",
    "descriptions_dataset['texto_tokenizado'] = descriptions_dataset['property_description'].apply(lambda x: limpiar_tokenizar(x))\n",
    "descriptions_dataset[['texto_tokenizado']].head()"
   ]
  },
  {
   "cell_type": "code",
   "execution_count": 8,
   "metadata": {},
   "outputs": [
    {
     "data": {
      "text/html": [
       "<div>\n",
       "<style scoped>\n",
       "    .dataframe tbody tr th:only-of-type {\n",
       "        vertical-align: middle;\n",
       "    }\n",
       "\n",
       "    .dataframe tbody tr th {\n",
       "        vertical-align: top;\n",
       "    }\n",
       "\n",
       "    .dataframe thead th {\n",
       "        text-align: right;\n",
       "    }\n",
       "</style>\n",
       "<table border=\"1\" class=\"dataframe\">\n",
       "  <thead>\n",
       "    <tr style=\"text-align: right;\">\n",
       "      <th></th>\n",
       "      <th>id</th>\n",
       "      <th>token</th>\n",
       "    </tr>\n",
       "  </thead>\n",
       "  <tbody>\n",
       "    <tr>\n",
       "      <th>0</th>\n",
       "      <td>BZCeiGkJr1WBUi6pKJQwJQ==</td>\n",
       "      <td>corredor</td>\n",
       "    </tr>\n",
       "    <tr>\n",
       "      <th>0</th>\n",
       "      <td>BZCeiGkJr1WBUi6pKJQwJQ==</td>\n",
       "      <td>responsable</td>\n",
       "    </tr>\n",
       "    <tr>\n",
       "      <th>0</th>\n",
       "      <td>BZCeiGkJr1WBUi6pKJQwJQ==</td>\n",
       "      <td>maria</td>\n",
       "    </tr>\n",
       "  </tbody>\n",
       "</table>\n",
       "</div>"
      ],
      "text/plain": [
       "                         id        token\n",
       "0  BZCeiGkJr1WBUi6pKJQwJQ==     corredor\n",
       "0  BZCeiGkJr1WBUi6pKJQwJQ==  responsable\n",
       "0  BZCeiGkJr1WBUi6pKJQwJQ==        maria"
      ]
     },
     "execution_count": 8,
     "metadata": {},
     "output_type": "execute_result"
    }
   ],
   "source": [
    "# unnest de la columna texto_tokenizado\n",
    "\n",
    "descriptions_tidy = descriptions_dataset.explode(column='texto_tokenizado')\n",
    "descriptions_tidy = descriptions_tidy.drop(columns='property_description')\n",
    "descriptions_tidy = descriptions_tidy.rename(columns={'texto_tokenizado':'token'})\n",
    "descriptions_tidy.head(3)"
   ]
  },
  {
   "cell_type": "markdown",
   "metadata": {},
   "source": [
    "Notamos que las preposiciones no son relevantes para entender que atributo podria ser mejor para expandir el datast, asi que decidimos agregarlas como stopwords.\n",
    "\n",
    "Tampoco van a variar mucho el analisis de sentimiento realizado en este trabajo."
   ]
  },
  {
   "cell_type": "code",
   "execution_count": 9,
   "metadata": {},
   "outputs": [],
   "source": [
    "## listado de stopwords\n",
    "\n",
    "preposiciones = [\"a\", \"ante\", \"bajo\", \"(cabe)\", \"con\", \"contra\", \"de\", \"desde\", \"durante\", \"en\", \"entre\", \"hacia\", \"hasta\", \"mediante\", \"para\", \"por\", \"según\", \"sin\", \"sobre\", \"tras\", \"vía\"]\n",
    "\n",
    "stop_words = []\n",
    "\n",
    "stop_words += preposiciones\n",
    "\n",
    "# filtrado para excluir stopwords\n",
    "descriptions_tidy = descriptions_tidy[~(descriptions_tidy[\"token\"].isin(stop_words))]"
   ]
  },
  {
   "cell_type": "markdown",
   "metadata": {},
   "source": [
    "Agregamos un lexicon en español de esta pagina: https://github.com/jboscomendoza/lexicos-nrc-afinn"
   ]
  },
  {
   "cell_type": "code",
   "execution_count": 10,
   "metadata": {},
   "outputs": [
    {
     "data": {
      "text/html": [
       "<div>\n",
       "<style scoped>\n",
       "    .dataframe tbody tr th:only-of-type {\n",
       "        vertical-align: middle;\n",
       "    }\n",
       "\n",
       "    .dataframe tbody tr th {\n",
       "        vertical-align: top;\n",
       "    }\n",
       "\n",
       "    .dataframe thead th {\n",
       "        text-align: right;\n",
       "    }\n",
       "</style>\n",
       "<table border=\"1\" class=\"dataframe\">\n",
       "  <thead>\n",
       "    <tr style=\"text-align: right;\">\n",
       "      <th></th>\n",
       "      <th>palabra</th>\n",
       "      <th>sentimiento</th>\n",
       "      <th>word</th>\n",
       "    </tr>\n",
       "  </thead>\n",
       "  <tbody>\n",
       "    <tr>\n",
       "      <th>0</th>\n",
       "      <td>ciegamente</td>\n",
       "      <td>negativo</td>\n",
       "      <td>blindly</td>\n",
       "    </tr>\n",
       "    <tr>\n",
       "      <th>1</th>\n",
       "      <td>ciegamente</td>\n",
       "      <td>tristeza</td>\n",
       "      <td>blindly</td>\n",
       "    </tr>\n",
       "    <tr>\n",
       "      <th>2</th>\n",
       "      <td>a distancia</td>\n",
       "      <td>negativo</td>\n",
       "      <td>aloof</td>\n",
       "    </tr>\n",
       "    <tr>\n",
       "      <th>3</th>\n",
       "      <td>a hurtadillas</td>\n",
       "      <td>sorpresa</td>\n",
       "      <td>stealthily</td>\n",
       "    </tr>\n",
       "    <tr>\n",
       "      <th>4</th>\n",
       "      <td>a la deriva</td>\n",
       "      <td>anticipación</td>\n",
       "      <td>adrift</td>\n",
       "    </tr>\n",
       "    <tr>\n",
       "      <th>...</th>\n",
       "      <td>...</td>\n",
       "      <td>...</td>\n",
       "      <td>...</td>\n",
       "    </tr>\n",
       "    <tr>\n",
       "      <th>15302</th>\n",
       "      <td>zumbido</td>\n",
       "      <td>anticipación</td>\n",
       "      <td>buzz</td>\n",
       "    </tr>\n",
       "    <tr>\n",
       "      <th>15303</th>\n",
       "      <td>zumbido</td>\n",
       "      <td>miedo</td>\n",
       "      <td>buzz</td>\n",
       "    </tr>\n",
       "    <tr>\n",
       "      <th>15304</th>\n",
       "      <td>zumbido</td>\n",
       "      <td>positivo</td>\n",
       "      <td>buzz</td>\n",
       "    </tr>\n",
       "    <tr>\n",
       "      <th>15305</th>\n",
       "      <td>zumbido</td>\n",
       "      <td>negativo</td>\n",
       "      <td>drone</td>\n",
       "    </tr>\n",
       "    <tr>\n",
       "      <th>15306</th>\n",
       "      <td>zurcidura</td>\n",
       "      <td>positivo</td>\n",
       "      <td>mending</td>\n",
       "    </tr>\n",
       "  </tbody>\n",
       "</table>\n",
       "<p>15307 rows × 3 columns</p>\n",
       "</div>"
      ],
      "text/plain": [
       "             palabra   sentimiento        word\n",
       "0         ciegamente      negativo     blindly\n",
       "1         ciegamente      tristeza     blindly\n",
       "2        a distancia      negativo       aloof\n",
       "3      a hurtadillas      sorpresa  stealthily\n",
       "4        a la deriva  anticipación      adrift\n",
       "...              ...           ...         ...\n",
       "15302        zumbido  anticipación        buzz\n",
       "15303        zumbido         miedo        buzz\n",
       "15304        zumbido      positivo        buzz\n",
       "15305        zumbido      negativo       drone\n",
       "15306      zurcidura      positivo     mending\n",
       "\n",
       "[15307 rows x 3 columns]"
      ]
     },
     "execution_count": 10,
     "metadata": {},
     "output_type": "execute_result"
    }
   ],
   "source": [
    "# lexicon sentimientos\n",
    "lexicon = pd.read_csv('lexico_nrc.csv')\n",
    "lexicon"
   ]
  },
  {
   "cell_type": "code",
   "execution_count": 11,
   "metadata": {},
   "outputs": [],
   "source": [
    "def mappear_valores_sentimiento(s):\n",
    "    # 1 Positivo\n",
    "    # 0 Neutro\n",
    "    # -1 Negativo\n",
    "    sentimiento_numerico = 0\n",
    "    if str(s) in ['negativo', 'tristeza', 'miedo', 'enfado', 'tristeza', 'asco']:\n",
    "        sentimiento_numerico = -1\n",
    "    if str(s) in ['sorpresa', 'positivo', 'confianza', 'alegría']:\n",
    "        sentimiento_numerico = 1\n",
    "    if str(s) in ['anticipación']:\n",
    "        sentimiento_numerico = 0\n",
    "        \n",
    "    return sentimiento_numerico\n",
    "    "
   ]
  },
  {
   "cell_type": "code",
   "execution_count": 12,
   "metadata": {},
   "outputs": [
    {
     "data": {
      "text/html": [
       "<div>\n",
       "<style scoped>\n",
       "    .dataframe tbody tr th:only-of-type {\n",
       "        vertical-align: middle;\n",
       "    }\n",
       "\n",
       "    .dataframe tbody tr th {\n",
       "        vertical-align: top;\n",
       "    }\n",
       "\n",
       "    .dataframe thead th {\n",
       "        text-align: right;\n",
       "    }\n",
       "</style>\n",
       "<table border=\"1\" class=\"dataframe\">\n",
       "  <thead>\n",
       "    <tr style=\"text-align: right;\">\n",
       "      <th></th>\n",
       "      <th>sentimiento</th>\n",
       "    </tr>\n",
       "  </thead>\n",
       "  <tbody>\n",
       "    <tr>\n",
       "      <th>0</th>\n",
       "      <td>-1</td>\n",
       "    </tr>\n",
       "    <tr>\n",
       "      <th>1</th>\n",
       "      <td>-1</td>\n",
       "    </tr>\n",
       "    <tr>\n",
       "      <th>2</th>\n",
       "      <td>-1</td>\n",
       "    </tr>\n",
       "    <tr>\n",
       "      <th>3</th>\n",
       "      <td>1</td>\n",
       "    </tr>\n",
       "    <tr>\n",
       "      <th>4</th>\n",
       "      <td>0</td>\n",
       "    </tr>\n",
       "  </tbody>\n",
       "</table>\n",
       "</div>"
      ],
      "text/plain": [
       "   sentimiento\n",
       "0           -1\n",
       "1           -1\n",
       "2           -1\n",
       "3            1\n",
       "4            0"
      ]
     },
     "execution_count": 12,
     "metadata": {},
     "output_type": "execute_result"
    }
   ],
   "source": [
    "lexicon['sentimiento'] = lexicon['sentimiento'].apply(lambda x: mappear_valores_sentimiento(x))\n",
    "lexicon[['sentimiento']].head()"
   ]
  },
  {
   "cell_type": "code",
   "execution_count": 35,
   "metadata": {},
   "outputs": [
    {
     "data": {
      "text/html": [
       "<div>\n",
       "<style scoped>\n",
       "    .dataframe tbody tr th:only-of-type {\n",
       "        vertical-align: middle;\n",
       "    }\n",
       "\n",
       "    .dataframe tbody tr th {\n",
       "        vertical-align: top;\n",
       "    }\n",
       "\n",
       "    .dataframe thead th {\n",
       "        text-align: right;\n",
       "    }\n",
       "</style>\n",
       "<table border=\"1\" class=\"dataframe\">\n",
       "  <thead>\n",
       "    <tr style=\"text-align: right;\">\n",
       "      <th></th>\n",
       "      <th>id</th>\n",
       "      <th>token</th>\n",
       "    </tr>\n",
       "  </thead>\n",
       "  <tbody>\n",
       "    <tr>\n",
       "      <th>0</th>\n",
       "      <td>BZCeiGkJr1WBUi6pKJQwJQ==</td>\n",
       "      <td>corredor</td>\n",
       "    </tr>\n",
       "    <tr>\n",
       "      <th>0</th>\n",
       "      <td>BZCeiGkJr1WBUi6pKJQwJQ==</td>\n",
       "      <td>maria</td>\n",
       "    </tr>\n",
       "    <tr>\n",
       "      <th>0</th>\n",
       "      <td>BZCeiGkJr1WBUi6pKJQwJQ==</td>\n",
       "      <td>alejandra</td>\n",
       "    </tr>\n",
       "    <tr>\n",
       "      <th>0</th>\n",
       "      <td>BZCeiGkJr1WBUi6pKJQwJQ==</td>\n",
       "      <td>genoveva</td>\n",
       "    </tr>\n",
       "    <tr>\n",
       "      <th>0</th>\n",
       "      <td>BZCeiGkJr1WBUi6pKJQwJQ==</td>\n",
       "      <td>bohn</td>\n",
       "    </tr>\n",
       "  </tbody>\n",
       "</table>\n",
       "</div>"
      ],
      "text/plain": [
       "                         id      token\n",
       "0  BZCeiGkJr1WBUi6pKJQwJQ==   corredor\n",
       "0  BZCeiGkJr1WBUi6pKJQwJQ==      maria\n",
       "0  BZCeiGkJr1WBUi6pKJQwJQ==  alejandra\n",
       "0  BZCeiGkJr1WBUi6pKJQwJQ==   genoveva\n",
       "0  BZCeiGkJr1WBUi6pKJQwJQ==       bohn"
      ]
     },
     "execution_count": 13,
     "metadata": {},
     "output_type": "execute_result"
    }
   ],
   "source": [
    "descriptions_tidy[~descriptions_tidy.token.isin(lexicon.palabra)].head()"
   ]
  },
  {
   "cell_type": "code",
   "execution_count": 36,
   "metadata": {},
   "outputs": [
    {
     "data": {
      "text/html": [
       "<div>\n",
       "<style scoped>\n",
       "    .dataframe tbody tr th:only-of-type {\n",
       "        vertical-align: middle;\n",
       "    }\n",
       "\n",
       "    .dataframe tbody tr th {\n",
       "        vertical-align: top;\n",
       "    }\n",
       "\n",
       "    .dataframe thead th {\n",
       "        text-align: right;\n",
       "    }\n",
       "</style>\n",
       "<table border=\"1\" class=\"dataframe\">\n",
       "  <thead>\n",
       "    <tr style=\"text-align: right;\">\n",
       "      <th></th>\n",
       "      <th>palabra</th>\n",
       "      <th>sentimiento</th>\n",
       "      <th>word</th>\n",
       "    </tr>\n",
       "  </thead>\n",
       "  <tbody>\n",
       "    <tr>\n",
       "      <th>0</th>\n",
       "      <td>ciegamente</td>\n",
       "      <td>-1</td>\n",
       "      <td>blindly</td>\n",
       "    </tr>\n",
       "    <tr>\n",
       "      <th>1</th>\n",
       "      <td>ciegamente</td>\n",
       "      <td>-1</td>\n",
       "      <td>blindly</td>\n",
       "    </tr>\n",
       "    <tr>\n",
       "      <th>2</th>\n",
       "      <td>a distancia</td>\n",
       "      <td>-1</td>\n",
       "      <td>aloof</td>\n",
       "    </tr>\n",
       "    <tr>\n",
       "      <th>3</th>\n",
       "      <td>a hurtadillas</td>\n",
       "      <td>1</td>\n",
       "      <td>stealthily</td>\n",
       "    </tr>\n",
       "    <tr>\n",
       "      <th>4</th>\n",
       "      <td>a la deriva</td>\n",
       "      <td>0</td>\n",
       "      <td>adrift</td>\n",
       "    </tr>\n",
       "  </tbody>\n",
       "</table>\n",
       "</div>"
      ],
      "text/plain": [
       "         palabra  sentimiento        word\n",
       "0     ciegamente           -1     blindly\n",
       "1     ciegamente           -1     blindly\n",
       "2    a distancia           -1       aloof\n",
       "3  a hurtadillas            1  stealthily\n",
       "4    a la deriva            0      adrift"
      ]
     },
     "execution_count": 14,
     "metadata": {},
     "output_type": "execute_result"
    }
   ],
   "source": [
    "lexicon[~lexicon.palabra.isin(descriptions_tidy.token)].head()"
   ]
  },
  {
   "cell_type": "code",
   "execution_count": 32,
   "metadata": {},
   "outputs": [
    {
     "data": {
      "text/html": [
       "<div>\n",
       "<style scoped>\n",
       "    .dataframe tbody tr th:only-of-type {\n",
       "        vertical-align: middle;\n",
       "    }\n",
       "\n",
       "    .dataframe tbody tr th {\n",
       "        vertical-align: top;\n",
       "    }\n",
       "\n",
       "    .dataframe thead th {\n",
       "        text-align: right;\n",
       "    }\n",
       "</style>\n",
       "<table border=\"1\" class=\"dataframe\">\n",
       "  <thead>\n",
       "    <tr style=\"text-align: right;\">\n",
       "      <th></th>\n",
       "      <th>id</th>\n",
       "      <th>token</th>\n",
       "      <th>sentimiento</th>\n",
       "    </tr>\n",
       "  </thead>\n",
       "  <tbody>\n",
       "    <tr>\n",
       "      <th>0</th>\n",
       "      <td>BZCeiGkJr1WBUi6pKJQwJQ==</td>\n",
       "      <td>responsable</td>\n",
       "      <td>1</td>\n",
       "    </tr>\n",
       "    <tr>\n",
       "      <th>1</th>\n",
       "      <td>BZCeiGkJr1WBUi6pKJQwJQ==</td>\n",
       "      <td>responsable</td>\n",
       "      <td>1</td>\n",
       "    </tr>\n",
       "    <tr>\n",
       "      <th>2</th>\n",
       "      <td>BZCeiGkJr1WBUi6pKJQwJQ==</td>\n",
       "      <td>responsable</td>\n",
       "      <td>1</td>\n",
       "    </tr>\n",
       "    <tr>\n",
       "      <th>3</th>\n",
       "      <td>xYlWDFS4uIVIT3eMeZEs9w==</td>\n",
       "      <td>responsable</td>\n",
       "      <td>1</td>\n",
       "    </tr>\n",
       "    <tr>\n",
       "      <th>4</th>\n",
       "      <td>xYlWDFS4uIVIT3eMeZEs9w==</td>\n",
       "      <td>responsable</td>\n",
       "      <td>1</td>\n",
       "    </tr>\n",
       "    <tr>\n",
       "      <th>...</th>\n",
       "      <td>...</td>\n",
       "      <td>...</td>\n",
       "      <td>...</td>\n",
       "    </tr>\n",
       "    <tr>\n",
       "      <th>17186156</th>\n",
       "      <td>EEU4SLi5FwFwIrDbEdM2lw==</td>\n",
       "      <td>débil</td>\n",
       "      <td>-1</td>\n",
       "    </tr>\n",
       "    <tr>\n",
       "      <th>17186157</th>\n",
       "      <td>EEU4SLi5FwFwIrDbEdM2lw==</td>\n",
       "      <td>débil</td>\n",
       "      <td>-1</td>\n",
       "    </tr>\n",
       "    <tr>\n",
       "      <th>17186158</th>\n",
       "      <td>EEU4SLi5FwFwIrDbEdM2lw==</td>\n",
       "      <td>débil</td>\n",
       "      <td>-1</td>\n",
       "    </tr>\n",
       "    <tr>\n",
       "      <th>17186159</th>\n",
       "      <td>EEU4SLi5FwFwIrDbEdM2lw==</td>\n",
       "      <td>débil</td>\n",
       "      <td>-1</td>\n",
       "    </tr>\n",
       "    <tr>\n",
       "      <th>17186160</th>\n",
       "      <td>EEU4SLi5FwFwIrDbEdM2lw==</td>\n",
       "      <td>débil</td>\n",
       "      <td>-1</td>\n",
       "    </tr>\n",
       "  </tbody>\n",
       "</table>\n",
       "<p>17186161 rows × 3 columns</p>\n",
       "</div>"
      ],
      "text/plain": [
       "                                id        token  sentimiento\n",
       "0         BZCeiGkJr1WBUi6pKJQwJQ==  responsable            1\n",
       "1         BZCeiGkJr1WBUi6pKJQwJQ==  responsable            1\n",
       "2         BZCeiGkJr1WBUi6pKJQwJQ==  responsable            1\n",
       "3         xYlWDFS4uIVIT3eMeZEs9w==  responsable            1\n",
       "4         xYlWDFS4uIVIT3eMeZEs9w==  responsable            1\n",
       "...                            ...          ...          ...\n",
       "17186156  EEU4SLi5FwFwIrDbEdM2lw==        débil           -1\n",
       "17186157  EEU4SLi5FwFwIrDbEdM2lw==        débil           -1\n",
       "17186158  EEU4SLi5FwFwIrDbEdM2lw==        débil           -1\n",
       "17186159  EEU4SLi5FwFwIrDbEdM2lw==        débil           -1\n",
       "17186160  EEU4SLi5FwFwIrDbEdM2lw==        débil           -1\n",
       "\n",
       "[17186161 rows x 3 columns]"
      ]
     },
     "execution_count": 32,
     "metadata": {},
     "output_type": "execute_result"
    }
   ],
   "source": [
    "# sentimiento promedio de cada descripcion\n",
    "descripcion_sentimientos = pd.merge(\n",
    "                            left     = descriptions_tidy,\n",
    "                            right    = lexicon,\n",
    "                            left_on  = \"token\", \n",
    "                            right_on = \"palabra\",\n",
    "                            how      = \"inner\"\n",
    "                      )\n",
    "\n",
    "descripcion_sentimientos = descripcion_sentimientos.drop(columns = [\"palabra\", \"word\"])\n",
    "descripcion_sentimientos"
   ]
  },
  {
   "cell_type": "code",
   "execution_count": 34,
   "metadata": {},
   "outputs": [],
   "source": [
    "#Necesito que aca aparezca tambein el token, no se en que moemento lo pierdo"
   ]
  },
  {
   "cell_type": "code",
   "execution_count": 33,
   "metadata": {},
   "outputs": [
    {
     "data": {
      "text/html": [
       "<div>\n",
       "<style scoped>\n",
       "    .dataframe tbody tr th:only-of-type {\n",
       "        vertical-align: middle;\n",
       "    }\n",
       "\n",
       "    .dataframe tbody tr th {\n",
       "        vertical-align: top;\n",
       "    }\n",
       "\n",
       "    .dataframe thead th {\n",
       "        text-align: right;\n",
       "    }\n",
       "</style>\n",
       "<table border=\"1\" class=\"dataframe\">\n",
       "  <thead>\n",
       "    <tr style=\"text-align: right;\">\n",
       "      <th></th>\n",
       "      <th>id</th>\n",
       "      <th>sentimiento</th>\n",
       "    </tr>\n",
       "  </thead>\n",
       "  <tbody>\n",
       "    <tr>\n",
       "      <th>0</th>\n",
       "      <td>+++LrfX9dl/rsnbNTgVaSw==</td>\n",
       "      <td>24</td>\n",
       "    </tr>\n",
       "    <tr>\n",
       "      <th>1</th>\n",
       "      <td>+++do60YqD8lHYx2VYGDqQ==</td>\n",
       "      <td>1</td>\n",
       "    </tr>\n",
       "    <tr>\n",
       "      <th>2</th>\n",
       "      <td>+++wa5fxPpZiosDy8gUAAw==</td>\n",
       "      <td>2</td>\n",
       "    </tr>\n",
       "    <tr>\n",
       "      <th>3</th>\n",
       "      <td>+++z1sn9bNyplgPCYXZlyw==</td>\n",
       "      <td>7</td>\n",
       "    </tr>\n",
       "    <tr>\n",
       "      <th>4</th>\n",
       "      <td>++/5cFjr0gDqo7tRQJ+crA==</td>\n",
       "      <td>10</td>\n",
       "    </tr>\n",
       "  </tbody>\n",
       "</table>\n",
       "</div>"
      ],
      "text/plain": [
       "                         id  sentimiento\n",
       "0  +++LrfX9dl/rsnbNTgVaSw==           24\n",
       "1  +++do60YqD8lHYx2VYGDqQ==            1\n",
       "2  +++wa5fxPpZiosDy8gUAAw==            2\n",
       "3  +++z1sn9bNyplgPCYXZlyw==            7\n",
       "4  ++/5cFjr0gDqo7tRQJ+crA==           10"
      ]
     },
     "execution_count": 33,
     "metadata": {},
     "output_type": "execute_result"
    }
   ],
   "source": [
    "# suma de los sentimientos de las palabras\n",
    "descripcion_sentimientos = descripcion_sentimientos[[\"id\", \"token\", \"sentimiento\"]] \\\n",
    "                      .groupby([\"id\"])\\\n",
    "                      .sum().reset_index()\n",
    "descripcion_sentimientos.head()"
   ]
  },
  {
   "cell_type": "code",
   "execution_count": 19,
   "metadata": {},
   "outputs": [
    {
     "data": {
      "text/plain": [
       "273"
      ]
     },
     "execution_count": 18,
     "metadata": {},
     "output_type": "execute_result"
    }
   ],
   "source": [
    "descripcion_sentimientos.sentimiento.max()"
   ]
  },
  {
   "cell_type": "code",
   "execution_count": 20,
   "metadata": {},
   "outputs": [],
   "source": [
    "top10_positivas = descripcion_sentimientos[descripcion_sentimientos['sentimiento'] > 248]"
   ]
  },
  {
   "cell_type": "code",
   "execution_count": 21,
   "metadata": {},
   "outputs": [
    {
     "data": {
      "text/html": [
       "<div>\n",
       "<style scoped>\n",
       "    .dataframe tbody tr th:only-of-type {\n",
       "        vertical-align: middle;\n",
       "    }\n",
       "\n",
       "    .dataframe tbody tr th {\n",
       "        vertical-align: top;\n",
       "    }\n",
       "\n",
       "    .dataframe thead th {\n",
       "        text-align: right;\n",
       "    }\n",
       "</style>\n",
       "<table border=\"1\" class=\"dataframe\">\n",
       "  <thead>\n",
       "    <tr style=\"text-align: right;\">\n",
       "      <th></th>\n",
       "      <th>id</th>\n",
       "      <th>sentimiento</th>\n",
       "    </tr>\n",
       "  </thead>\n",
       "  <tbody>\n",
       "    <tr>\n",
       "      <th>45781</th>\n",
       "      <td>4SE4j0/K7KZhkrrkAue+kg==</td>\n",
       "      <td>250</td>\n",
       "    </tr>\n",
       "    <tr>\n",
       "      <th>62240</th>\n",
       "      <td>6o7JTmJGu63NKKRrjfNhKQ==</td>\n",
       "      <td>249</td>\n",
       "    </tr>\n",
       "    <tr>\n",
       "      <th>67145</th>\n",
       "      <td>7TYyxaZGxMGIwWjxFl6UPg==</td>\n",
       "      <td>269</td>\n",
       "    </tr>\n",
       "    <tr>\n",
       "      <th>151969</th>\n",
       "      <td>JTLEkkzVf4Q3FDkUkQ7KdQ==</td>\n",
       "      <td>270</td>\n",
       "    </tr>\n",
       "    <tr>\n",
       "      <th>252779</th>\n",
       "      <td>XmIyOYHVUVPOeW9CeCqaQA==</td>\n",
       "      <td>259</td>\n",
       "    </tr>\n",
       "    <tr>\n",
       "      <th>313800</th>\n",
       "      <td>gNTZsMEMRicWrbSpZt6Crw==</td>\n",
       "      <td>273</td>\n",
       "    </tr>\n",
       "    <tr>\n",
       "      <th>353040</th>\n",
       "      <td>ltGVQ+iC/gvez0qA5vcq+Q==</td>\n",
       "      <td>263</td>\n",
       "    </tr>\n",
       "    <tr>\n",
       "      <th>420985</th>\n",
       "      <td>vW5ymnsy1JQATsHiyldIRw==</td>\n",
       "      <td>270</td>\n",
       "    </tr>\n",
       "    <tr>\n",
       "      <th>421558</th>\n",
       "      <td>vbX/XP0EGuuxp93ncSDCUw==</td>\n",
       "      <td>270</td>\n",
       "    </tr>\n",
       "    <tr>\n",
       "      <th>441963</th>\n",
       "      <td>yUR6LZhegkZPE8Ug6IvGtA==</td>\n",
       "      <td>269</td>\n",
       "    </tr>\n",
       "  </tbody>\n",
       "</table>\n",
       "</div>"
      ],
      "text/plain": [
       "                              id  sentimiento\n",
       "45781   4SE4j0/K7KZhkrrkAue+kg==          250\n",
       "62240   6o7JTmJGu63NKKRrjfNhKQ==          249\n",
       "67145   7TYyxaZGxMGIwWjxFl6UPg==          269\n",
       "151969  JTLEkkzVf4Q3FDkUkQ7KdQ==          270\n",
       "252779  XmIyOYHVUVPOeW9CeCqaQA==          259\n",
       "313800  gNTZsMEMRicWrbSpZt6Crw==          273\n",
       "353040  ltGVQ+iC/gvez0qA5vcq+Q==          263\n",
       "420985  vW5ymnsy1JQATsHiyldIRw==          270\n",
       "421558  vbX/XP0EGuuxp93ncSDCUw==          270\n",
       "441963  yUR6LZhegkZPE8Ug6IvGtA==          269"
      ]
     },
     "execution_count": 20,
     "metadata": {},
     "output_type": "execute_result"
    }
   ],
   "source": [
    "top10_positivas"
   ]
  },
  {
   "cell_type": "code",
   "execution_count": 22,
   "metadata": {},
   "outputs": [
    {
     "data": {
      "text/plain": [
       "-71"
      ]
     },
     "execution_count": 21,
     "metadata": {},
     "output_type": "execute_result"
    }
   ],
   "source": [
    "descripcion_sentimientos.sentimiento.min()"
   ]
  },
  {
   "cell_type": "code",
   "execution_count": 23,
   "metadata": {},
   "outputs": [],
   "source": [
    "top10_negativas = descripcion_sentimientos[descripcion_sentimientos['sentimiento'] < -33]"
   ]
  },
  {
   "cell_type": "code",
   "execution_count": 24,
   "metadata": {},
   "outputs": [
    {
     "data": {
      "text/html": [
       "<div>\n",
       "<style scoped>\n",
       "    .dataframe tbody tr th:only-of-type {\n",
       "        vertical-align: middle;\n",
       "    }\n",
       "\n",
       "    .dataframe tbody tr th {\n",
       "        vertical-align: top;\n",
       "    }\n",
       "\n",
       "    .dataframe thead th {\n",
       "        text-align: right;\n",
       "    }\n",
       "</style>\n",
       "<table border=\"1\" class=\"dataframe\">\n",
       "  <thead>\n",
       "    <tr style=\"text-align: right;\">\n",
       "      <th></th>\n",
       "      <th>id</th>\n",
       "      <th>sentimiento</th>\n",
       "    </tr>\n",
       "  </thead>\n",
       "  <tbody>\n",
       "    <tr>\n",
       "      <th>126395</th>\n",
       "      <td>FsPNBpsU5aZxA08udVoiIA==</td>\n",
       "      <td>-36</td>\n",
       "    </tr>\n",
       "    <tr>\n",
       "      <th>147415</th>\n",
       "      <td>IqKM9INZW8TiRUrE/xheag==</td>\n",
       "      <td>-66</td>\n",
       "    </tr>\n",
       "    <tr>\n",
       "      <th>159262</th>\n",
       "      <td>KWFIk6SR8JFrfLNsfJcoPg==</td>\n",
       "      <td>-37</td>\n",
       "    </tr>\n",
       "    <tr>\n",
       "      <th>163689</th>\n",
       "      <td>L7DlI4si9C2ReSvIrpvYcQ==</td>\n",
       "      <td>-41</td>\n",
       "    </tr>\n",
       "    <tr>\n",
       "      <th>206906</th>\n",
       "      <td>RHcIDs6WjjS4uBrkGeU5cg==</td>\n",
       "      <td>-36</td>\n",
       "    </tr>\n",
       "    <tr>\n",
       "      <th>277546</th>\n",
       "      <td>bGAQx+XUF4OSorK756F3/w==</td>\n",
       "      <td>-37</td>\n",
       "    </tr>\n",
       "    <tr>\n",
       "      <th>301966</th>\n",
       "      <td>einXHVwJjVdtb13FfVDbKg==</td>\n",
       "      <td>-36</td>\n",
       "    </tr>\n",
       "    <tr>\n",
       "      <th>360458</th>\n",
       "      <td>mw87rZC3q6OgJaW6ibEk5g==</td>\n",
       "      <td>-71</td>\n",
       "    </tr>\n",
       "    <tr>\n",
       "      <th>418091</th>\n",
       "      <td>v4uubF5e+ZaWzKiz0D1UpA==</td>\n",
       "      <td>-62</td>\n",
       "    </tr>\n",
       "  </tbody>\n",
       "</table>\n",
       "</div>"
      ],
      "text/plain": [
       "                              id  sentimiento\n",
       "126395  FsPNBpsU5aZxA08udVoiIA==          -36\n",
       "147415  IqKM9INZW8TiRUrE/xheag==          -66\n",
       "159262  KWFIk6SR8JFrfLNsfJcoPg==          -37\n",
       "163689  L7DlI4si9C2ReSvIrpvYcQ==          -41\n",
       "206906  RHcIDs6WjjS4uBrkGeU5cg==          -36\n",
       "277546  bGAQx+XUF4OSorK756F3/w==          -37\n",
       "301966  einXHVwJjVdtb13FfVDbKg==          -36\n",
       "360458  mw87rZC3q6OgJaW6ibEk5g==          -71\n",
       "418091  v4uubF5e+ZaWzKiz0D1UpA==          -62"
      ]
     },
     "execution_count": 23,
     "metadata": {},
     "output_type": "execute_result"
    }
   ],
   "source": [
    "top10_negativas"
   ]
  },
  {
   "cell_type": "code",
   "execution_count": null,
   "metadata": {},
   "outputs": [],
   "source": [
    "## A partir de tener el top10, evaluar si esos atributos nos sirven para expandir el dataset\n",
    "## Pensar en hacer un score con la completitud de la descripcion de cada propiedad -> property_desc_score"
   ]
  },
  {
   "cell_type": "code",
   "execution_count": null,
   "metadata": {},
   "outputs": [],
   "source": [
    "Como es claro, la gente que publica la venta de una propiedad va a tratar de expresar la mejor publicacion y descripcion posible. Es por eso que tenemos una tasa altisima de positividad. No buscamos hacer un analisis real de a"
   ]
  },
  {
   "cell_type": "code",
   "execution_count": 25,
   "metadata": {},
   "outputs": [
    {
     "name": "stdout",
     "output_type": "stream",
     "text": [
      "Positivos: 89.67\n",
      "Neutros  : 2.55\n",
      "Negativos: 7.78\n",
      " \n"
     ]
    }
   ],
   "source": [
    "def perfil_sentimientos(df):\n",
    "    print(f\"Positivos: {round(100 * np.mean(df.sentimiento > 0), 2)}\")\n",
    "    print(f\"Neutros  : {round(100 * np.mean(df.sentimiento == 0), 2)}\")\n",
    "    print(f\"Negativos: {round(100 * np.mean(df.sentimiento < 0), 2)}\")\n",
    "    print(\" \")\n",
    "\n",
    "perfil_sentimientos(descripcion_sentimientos)"
   ]
  },
  {
   "cell_type": "markdown",
   "metadata": {
    "jp-MarkdownHeadingCollapsed": true,
    "tags": []
   },
   "source": [
    "#### Tecnica Regex"
   ]
  },
  {
   "cell_type": "markdown",
   "metadata": {},
   "source": [
    "Revisamos las siguientes paginas para entender cuales son los ammenities mas buscados en CABA, y en Argentina en general.\n",
    "\n",
    "https://www.iprofesional.com/negocios/371702-cuales-son-los-amenities-mas-exoticos-de-edificios-en-argentina\n",
    "\n",
    "https://www.baenegocios.com/sociedad/Ranking-de-amenities-los-servicios-que-mas-pesan-al-comprar-una-propiedad-20220119-0068.html\n",
    "\n",
    "https://www.forbesargentina.com/negocios/amenities-servicios-mas-demandados-argentinos-comprar-una-propiedad-n11901\n",
    "\n",
    "Dichos ammenities parecen hacer que la propiedad cotice entre un 15% y un 20% más que el precio de venta.\n",
    "\n",
    "Sacando un promedio y haciendo un top-5 ranking, podemos notar que los mas relevantes son:\n",
    "\n",
    "- Garage/Estacionamiento\n",
    "- Pileta\n",
    "- Jardin/Espacio al aire libre\n",
    "- Parrilla\n",
    "- SUM (Gimnasio/Spa/Sauna)\n",
    "\n",
    "Al buscar estos datos, podriamos tratar de entender si el precio resulta mayor, contra una propiedad de similares caracteristicas pero sin estos ammenities y a partir de eso, entender que % varía del precio de venta original."
   ]
  },
  {
   "cell_type": "code",
   "execution_count": 26,
   "metadata": {},
   "outputs": [],
   "source": [
    "garage_sin_espacio = re.compile(r\"[^\\s]+garage|garaje|estacionamiento|parking\")\n",
    "garage_con_espacio = re.compile(r\"[^\\s]+ garage|garaje|estacionamiento|parking\")"
   ]
  },
  {
   "cell_type": "code",
   "execution_count": 27,
   "metadata": {},
   "outputs": [
    {
     "ename": "KeyboardInterrupt",
     "evalue": "",
     "output_type": "error",
     "traceback": [
      "\u001b[0;31m---------------------------------------------------------------------------\u001b[0m",
      "\u001b[0;31mKeyboardInterrupt\u001b[0m                         Traceback (most recent call last)",
      "Input \u001b[0;32mIn [26]\u001b[0m, in \u001b[0;36m<cell line: 2>\u001b[0;34m()\u001b[0m\n\u001b[1;32m      1\u001b[0m frecuencia_garage \u001b[38;5;241m=\u001b[39m {\u001b[38;5;124m'\u001b[39m\u001b[38;5;124mgarage\u001b[39m\u001b[38;5;124m'\u001b[39m: \u001b[38;5;241m0\u001b[39m}\n\u001b[1;32m      2\u001b[0m \u001b[38;5;28;01mfor\u001b[39;00m desc \u001b[38;5;129;01min\u001b[39;00m descriptions_dataset\u001b[38;5;241m.\u001b[39mproperty_description:\n\u001b[0;32m----> 3\u001b[0m     \u001b[38;5;28;01mif\u001b[39;00m (\u001b[38;5;28mlen\u001b[39m(\u001b[43mre\u001b[49m\u001b[38;5;241;43m.\u001b[39;49m\u001b[43mfindall\u001b[49m\u001b[43m(\u001b[49m\u001b[43mgarage_sin_espacio\u001b[49m\u001b[43m,\u001b[49m\u001b[43m \u001b[49m\u001b[38;5;28;43mstr\u001b[39;49m\u001b[43m(\u001b[49m\u001b[43mdesc\u001b[49m\u001b[43m)\u001b[49m\u001b[38;5;241;43m.\u001b[39;49m\u001b[43mlower\u001b[49m\u001b[43m(\u001b[49m\u001b[43m)\u001b[49m\u001b[43m)\u001b[49m) \u001b[38;5;241m>\u001b[39m \u001b[38;5;241m0\u001b[39m):\n\u001b[1;32m      4\u001b[0m         frecuencia_garage[\u001b[38;5;124m'\u001b[39m\u001b[38;5;124mgarage\u001b[39m\u001b[38;5;124m'\u001b[39m] \u001b[38;5;241m+\u001b[39m\u001b[38;5;241m=\u001b[39m \u001b[38;5;241m1\u001b[39m\n\u001b[1;32m      5\u001b[0m     \u001b[38;5;28;01mif\u001b[39;00m (\u001b[38;5;28mlen\u001b[39m(re\u001b[38;5;241m.\u001b[39mfindall(garage_con_espacio, \u001b[38;5;28mstr\u001b[39m(desc)\u001b[38;5;241m.\u001b[39mlower())) \u001b[38;5;241m>\u001b[39m \u001b[38;5;241m0\u001b[39m):\n",
      "File \u001b[0;32m/Library/Frameworks/Python.framework/Versions/3.10/lib/python3.10/re.py:240\u001b[0m, in \u001b[0;36mfindall\u001b[0;34m(pattern, string, flags)\u001b[0m\n\u001b[1;32m    232\u001b[0m \u001b[38;5;28;01mdef\u001b[39;00m \u001b[38;5;21mfindall\u001b[39m(pattern, string, flags\u001b[38;5;241m=\u001b[39m\u001b[38;5;241m0\u001b[39m):\n\u001b[1;32m    233\u001b[0m     \u001b[38;5;124;03m\"\"\"Return a list of all non-overlapping matches in the string.\u001b[39;00m\n\u001b[1;32m    234\u001b[0m \n\u001b[1;32m    235\u001b[0m \u001b[38;5;124;03m    If one or more capturing groups are present in the pattern, return\u001b[39;00m\n\u001b[0;32m   (...)\u001b[0m\n\u001b[1;32m    238\u001b[0m \n\u001b[1;32m    239\u001b[0m \u001b[38;5;124;03m    Empty matches are included in the result.\"\"\"\u001b[39;00m\n\u001b[0;32m--> 240\u001b[0m     \u001b[38;5;28;01mreturn\u001b[39;00m \u001b[43m_compile\u001b[49m\u001b[43m(\u001b[49m\u001b[43mpattern\u001b[49m\u001b[43m,\u001b[49m\u001b[43m \u001b[49m\u001b[43mflags\u001b[49m\u001b[43m)\u001b[49m\u001b[38;5;241;43m.\u001b[39;49m\u001b[43mfindall\u001b[49m\u001b[43m(\u001b[49m\u001b[43mstring\u001b[49m\u001b[43m)\u001b[49m\n",
      "\u001b[0;31mKeyboardInterrupt\u001b[0m: "
     ]
    }
   ],
   "source": [
    "frecuencia_garage = {'garage': 0}\n",
    "for desc in descriptions_dataset.property_description:\n",
    "    if (len(re.findall(garage_sin_espacio, str(desc).lower())) > 0):\n",
    "        frecuencia_garage['garage'] += 1\n",
    "    if (len(re.findall(garage_con_espacio, str(desc).lower())) > 0):\n",
    "        frecuencia_garage['garage'] += 1\n",
    "print(frecuencia_garage)"
   ]
  },
  {
   "cell_type": "code",
   "execution_count": 28,
   "metadata": {},
   "outputs": [],
   "source": [
    "pileta_sin_espacio = re.compile(r\"[^\\s]+pileta\")\n",
    "pileta_con_espacio = re.compile(r\"[^\\s]+ pileta\")"
   ]
  },
  {
   "cell_type": "code",
   "execution_count": 29,
   "metadata": {},
   "outputs": [],
   "source": [
    "frecuencia_pileta= {'pileta': 0}\n",
    "for desc in descriptions_dataset.property_description:\n",
    "    if (len(re.findall(pileta_sin_espacio, str(desc).lower())) > 0):\n",
    "        frecuencia_pileta['pileta'] += 1\n",
    "    if (len(re.findall(pileta_con_espacio, str(desc).lower())) > 0):\n",
    "        frecuencia_pileta['pileta'] += 1\n",
    "print(frecuencia_pileta)"
   ]
  },
  {
   "cell_type": "code",
   "execution_count": 30,
   "metadata": {},
   "outputs": [],
   "source": [
    "jardin_sin_espacio = re.compile(r\"[^\\s]+jardin|espacio verde\")\n",
    "jardin_con_espacio = re.compile(r\"[^\\s]+ jardin|espacio verde\")"
   ]
  },
  {
   "cell_type": "code",
   "execution_count": 31,
   "metadata": {},
   "outputs": [],
   "source": [
    "frecuencia_jardin = {'jardin': 0}\n",
    "for desc in descriptions_dataset.property_description:\n",
    "    if (len(re.findall(jardin_sin_espacio, str(desc).lower())) > 0):\n",
    "        frecuencia_jardin['jardin'] += 1\n",
    "    if (len(re.findall(jardin_con_espacio, str(desc).lower())) > 0):\n",
    "        frecuencia_jardin['jardin'] += 1\n",
    "print(frecuencia_jardin)"
   ]
  },
  {
   "cell_type": "code",
   "execution_count": null,
   "metadata": {},
   "outputs": [],
   "source": [
    "parrilla_sin_espacio = re.compile(r\"[^\\s]+parrilla|bbq\")\n",
    "parrilla_con_espacio = re.compile(r\"[^\\s]+ parrilla|bbq\")"
   ]
  },
  {
   "cell_type": "code",
   "execution_count": null,
   "metadata": {},
   "outputs": [],
   "source": [
    "frecuencia_parrilla = {'parrilla': 0}\n",
    "for desc in descriptions_dataset.property_description:\n",
    "    if (len(re.findall(parrilla_sin_espacio, str(desc).lower())) > 0):\n",
    "        frecuencia_parrilla['parrilla'] += 1\n",
    "    if (len(re.findall(parrilla_con_espacio, str(desc).lower())) > 0):\n",
    "        frecuencia_parrilla['parrilla'] += 1\n",
    "print(frecuencia_parrilla)"
   ]
  },
  {
   "cell_type": "code",
   "execution_count": null,
   "metadata": {},
   "outputs": [],
   "source": [
    "zoom_sin_espacio = re.compile(r\"[^\\s]+zoom|sum|gimansio|spa\")\n",
    "zoom_con_espacio = re.compile(r\"[^\\s]+ zoom|sum|gimansio|spa\")"
   ]
  },
  {
   "cell_type": "code",
   "execution_count": null,
   "metadata": {},
   "outputs": [],
   "source": [
    "frecuencia_zoom = {'sum': 0}\n",
    "for desc in descriptions_dataset.property_description:\n",
    "    if (len(re.findall(zoom_sin_espacio, str(desc).lower())) > 0):\n",
    "        frecuencia_zoom['sum'] += 1\n",
    "    if (len(re.findall(zoom_con_espacio, str(desc).lower())) > 0):\n",
    "        frecuencia_zoom['sum'] += 1\n",
    "print(frecuencia_zoom)"
   ]
  },
  {
   "cell_type": "markdown",
   "metadata": {},
   "source": [
    "Notamos que muchas obervaciones tenian el dato de si contaban o no con balcon asi que decidimos agregarlo al analisis para poder ver si encontramos una correlacion que nos de mas informacion con lo que respecta al balcon y a la superifice total versus la superificie cubierta y el precio de venta de cada vivienda."
   ]
  },
  {
   "cell_type": "code",
   "execution_count": null,
   "metadata": {},
   "outputs": [],
   "source": [
    "balcon_sin_espacio = re.compile(r\"[^\\s]+balcon\")\n",
    "balcon_con_espacio = re.compile(r\"[^\\s]+ balcon\")"
   ]
  },
  {
   "cell_type": "code",
   "execution_count": null,
   "metadata": {},
   "outputs": [],
   "source": [
    "frecuencia_balcon= {'balcon': 0}\n",
    "for desc in descriptions_dataset.property_description:\n",
    "    if (len(re.findall(balcon_sin_espacio, str(desc).lower())) > 0):\n",
    "        frecuencia_balcon['balcon'] += 1\n",
    "    if (len(re.findall(balcon_con_espacio, str(desc).lower())) > 0):\n",
    "        frecuencia_balcon['balcon'] += 1\n",
    "print(frecuencia_balcon)"
   ]
  },
  {
   "cell_type": "markdown",
   "metadata": {},
   "source": [
    "Otro factor interesante que podriamos analizar es a que tipo de vivienda pertenece cada ammenity. Y si donde encontramos una ammenity en particular, encontramos consecuentemente otra. Por ejemplo, una casa con jardin y parrila y/o pileta.\n",
    "De esta manera podriamos tratar de determinar el costo de cada ammenity o como afecta al precio."
   ]
  },
  {
   "cell_type": "markdown",
   "metadata": {
    "jp-MarkdownHeadingCollapsed": true,
    "tags": []
   },
   "source": [
    "#### Tecnica Open Information Extraction"
   ]
  },
  {
   "cell_type": "markdown",
   "metadata": {
    "jp-MarkdownHeadingCollapsed": true,
    "pycharm": {
     "name": "#%% md\n"
    },
    "tags": []
   },
   "source": [
    "#### Modelos"
   ]
  },
  {
   "cell_type": "markdown",
   "metadata": {
    "pycharm": {
     "name": "#%% md\n"
    },
    "tags": []
   },
   "source": [
    "## Redes Neuronales"
   ]
  },
  {
   "cell_type": "markdown",
   "metadata": {
    "pycharm": {
     "name": "#%% md\n"
    }
   },
   "source": [
    "### Regresión"
   ]
  },
  {
   "cell_type": "markdown",
   "metadata": {
    "pycharm": {
     "name": "#%% md\n"
    }
   },
   "source": [
    "### Clasificación"
   ]
  },
  {
   "cell_type": "markdown",
   "metadata": {
    "pycharm": {
     "name": "#%% md\n"
    }
   },
   "source": [
    "#### Construcción del target"
   ]
  },
  {
   "cell_type": "markdown",
   "metadata": {
    "pycharm": {
     "name": "#%% md\n"
    }
   },
   "source": [
    "#### Modelo"
   ]
  },
  {
   "cell_type": "markdown",
   "metadata": {
    "jp-MarkdownHeadingCollapsed": true,
    "pycharm": {
     "name": "#%% md\n"
    },
    "tags": []
   },
   "source": [
    "## Ensambles de modelos"
   ]
  },
  {
   "cell_type": "markdown",
   "metadata": {
    "pycharm": {
     "name": "#%% md\n"
    }
   },
   "source": [
    "### Ensamble 1"
   ]
  },
  {
   "cell_type": "markdown",
   "metadata": {
    "pycharm": {
     "name": "#%% md\n"
    }
   },
   "source": [
    "### Ensamble 2"
   ]
  },
  {
   "cell_type": "markdown",
   "metadata": {
    "jp-MarkdownHeadingCollapsed": true,
    "pycharm": {
     "name": "#%% md\n"
    },
    "tags": []
   },
   "source": [
    "## Conclusiones"
   ]
  }
 ],
 "metadata": {
  "kernelspec": {
   "display_name": "Python 3 (ipykernel)",
   "language": "python",
   "name": "python3"
  },
  "language_info": {
   "codemirror_mode": {
    "name": "ipython",
    "version": 3
   },
   "file_extension": ".py",
   "mimetype": "text/x-python",
   "name": "python",
   "nbconvert_exporter": "python",
   "pygments_lexer": "ipython3",
   "version": "3.10.4"
  }
 },
 "nbformat": 4,
 "nbformat_minor": 4
}

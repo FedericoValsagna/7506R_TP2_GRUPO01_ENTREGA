{
 "cells": [
  {
   "cell_type": "markdown",
   "source": [
    "# 7506 - Trabajo Práctico 2"
   ],
   "metadata": {
    "collapsed": false,
    "pycharm": {
     "name": "#%% md\n"
    }
   },
   "outputs": []
  },
  {
   "cell_type": "markdown",
   "source": [
    "---"
   ],
   "metadata": {
    "collapsed": false,
    "pycharm": {
     "name": "#%% md\n"
    }
   }
  },
  {
   "cell_type": "markdown",
   "source": [
    "## Introducción"
   ],
   "metadata": {
    "collapsed": false,
    "pycharm": {
     "name": "#%% md\n"
    }
   }
  },
  {
   "cell_type": "markdown",
   "source": [
    "### Librerías"
   ],
   "metadata": {
    "collapsed": false,
    "pycharm": {
     "name": "#%% md\n"
    }
   }
  },
  {
   "cell_type": "code",
   "execution_count": 1,
   "outputs": [],
   "source": [
    "import pandas as pd\n",
    "import numpy as np"
   ],
   "metadata": {
    "collapsed": false,
    "pycharm": {
     "name": "#%%\n"
    }
   }
  },
  {
   "cell_type": "markdown",
   "source": [
    "#### Descripción de las columnas\n",
    "- type - Tipo de aviso (Propiedad, Desarrollo/Proyecto).\n",
    "- country - País en el que está publicado el aviso (Argentina, Uruguay, Colombia, Ecuador, Perú)\n",
    "- id - Identificador del aviso. No es único: si el aviso es actualizado por la inmobiliaria (nueva versión del aviso) se crea un nuevo registro con la misma id pero distintas fechas: de alta y de baja.\n",
    "- start_date - Fecha de alta del aviso.\n",
    "- end_date - Fecha de baja del aviso.\n",
    "- created_on - Fecha de alta de la primera versión del aviso.\n",
    "- place - Campos referidos a la ubicación de la propiedad o del desarrollo.\n",
    "\n",
    "   - lat - Latitud.\n",
    "\n",
    "   - lon - Longitud.\n",
    "\n",
    "   - l1 - Nivel administrativo 1: país.\n",
    "\n",
    "   - l2 - Nivel administrativo 2: usualmente provincia.\n",
    "\n",
    "   - l3 - Nivel administrativo 3: usualmente ciudad.\n",
    "\n",
    "   - l4 - Nivel administrativo 4: usualmente barrio.\n",
    "- property - Campos relativos a la propiedad (vacío si el aviso es de un desarrollo/proyecto).\n",
    "\n",
    "   - operation - Tipo de operación (Venta, Alquiler).\n",
    "\n",
    "   - type - Tipo de propiedad (Casa, Departamento, PH).\n",
    "\n",
    "   - rooms - Cantidad de ambientes (útil en Argentina).\n",
    "\n",
    "   - bedrooms - Cantidad de dormitorios (útil en el resto de los países).\n",
    "\n",
    "   - bathrooms - Cantidad de baños.\n",
    "\n",
    "   - surface_total - Superficie total en m².\n",
    "\n",
    "   - surface_covered - Superficie cubierta en m².\n",
    "\n",
    "   - price - Precio publicado en el anuncio.\n",
    "\n",
    "   - currency - Moneda del precio publicado.\n",
    "\n",
    "   - price_period - Periodo del precio (Diario, Semanal, Mensual)\n",
    "\n",
    "   - title - Título del anuncio.\n",
    "\n",
    "   - description - Descripción del anuncio.\n",
    "- development - Campos relativos al desarrollo inmobiliario (vacío si el aviso es de una propiedad).\n",
    "- status - Estado del desarrollo (Terminado, En construcción, ...)\n",
    "- name - Nombre del desarrollo.\n",
    "- short_description - Descripción corta del anuncio.\n",
    "- description - Descripción del anuncio.\n"
   ],
   "metadata": {
    "collapsed": false,
    "pycharm": {
     "name": "#%% md\n"
    }
   }
  },
  {
   "cell_type": "code",
   "execution_count": 4,
   "outputs": [
    {
     "data": {
      "text/plain": "                         id  start_date    end_date  created_on    latitud  \\\n0  XZq2dFGxBiboHY3Bo/tqlw==  2021-09-09  2022-01-27  2021-09-09 -38.957632   \n1  8afoK+yMH/rnnlYiktwgNA==  2021-09-09  2021-10-23  2021-09-09 -34.888878   \n2  iVaG5rBB47dd1Ya4BMXREA==  2021-09-09  2022-03-09  2021-09-09 -32.488717   \n3  QE1QVMWKAHWkd0qT0FtPWA==  2021-09-09  2022-01-27  2021-09-09 -34.900165   \n4  tJ5lSk7IysG/71OGhacNZA==  2021-09-09  2022-01-27  2021-09-09 -38.954528   \n\n    longitud    place_l2 place_l3 place_l4 place_l5  place_l6 operation  \\\n0 -68.105443     Neuquén      NaN      NaN      NaN       NaN     Venta   \n1 -56.092368  Montevideo      NaN      NaN      NaN       NaN     Venta   \n2 -58.257499  Entre Ríos      NaN      NaN      NaN       NaN     Venta   \n3 -54.808453   Maldonado      NaN      NaN      NaN       NaN     Venta   \n4 -68.041862     Neuquén      NaN      NaN      NaN       NaN     Venta   \n\n  property_type  property_rooms  property_bedrooms  property_surface_total  \\\n0          Casa             6.0                NaN                     NaN   \n1          Casa             4.0                3.0                   193.0   \n2          Casa             NaN                NaN                   110.0   \n3          Casa             NaN                3.0                     NaN   \n4            PH             3.0                2.0                     NaN   \n\n   property_surface_covered  property_price property_currency  \\\n0                     206.0             NaN               NaN   \n1                     193.0        390000.0               USD   \n2                      45.0         47000.0               USD   \n3                     180.0        400000.0               USD   \n4                      98.0        102000.0               USD   \n\n       property_title  \n0      Casa - Capital  \n1       Casa - Malvín  \n2      Casa - Uruguay  \n3    Casa - El Chorro  \n4  PH - Villa Farrell  ",
      "text/html": "<div>\n<style scoped>\n    .dataframe tbody tr th:only-of-type {\n        vertical-align: middle;\n    }\n\n    .dataframe tbody tr th {\n        vertical-align: top;\n    }\n\n    .dataframe thead th {\n        text-align: right;\n    }\n</style>\n<table border=\"1\" class=\"dataframe\">\n  <thead>\n    <tr style=\"text-align: right;\">\n      <th></th>\n      <th>id</th>\n      <th>start_date</th>\n      <th>end_date</th>\n      <th>created_on</th>\n      <th>latitud</th>\n      <th>longitud</th>\n      <th>place_l2</th>\n      <th>place_l3</th>\n      <th>place_l4</th>\n      <th>place_l5</th>\n      <th>place_l6</th>\n      <th>operation</th>\n      <th>property_type</th>\n      <th>property_rooms</th>\n      <th>property_bedrooms</th>\n      <th>property_surface_total</th>\n      <th>property_surface_covered</th>\n      <th>property_price</th>\n      <th>property_currency</th>\n      <th>property_title</th>\n    </tr>\n  </thead>\n  <tbody>\n    <tr>\n      <th>0</th>\n      <td>XZq2dFGxBiboHY3Bo/tqlw==</td>\n      <td>2021-09-09</td>\n      <td>2022-01-27</td>\n      <td>2021-09-09</td>\n      <td>-38.957632</td>\n      <td>-68.105443</td>\n      <td>Neuquén</td>\n      <td>NaN</td>\n      <td>NaN</td>\n      <td>NaN</td>\n      <td>NaN</td>\n      <td>Venta</td>\n      <td>Casa</td>\n      <td>6.0</td>\n      <td>NaN</td>\n      <td>NaN</td>\n      <td>206.0</td>\n      <td>NaN</td>\n      <td>NaN</td>\n      <td>Casa - Capital</td>\n    </tr>\n    <tr>\n      <th>1</th>\n      <td>8afoK+yMH/rnnlYiktwgNA==</td>\n      <td>2021-09-09</td>\n      <td>2021-10-23</td>\n      <td>2021-09-09</td>\n      <td>-34.888878</td>\n      <td>-56.092368</td>\n      <td>Montevideo</td>\n      <td>NaN</td>\n      <td>NaN</td>\n      <td>NaN</td>\n      <td>NaN</td>\n      <td>Venta</td>\n      <td>Casa</td>\n      <td>4.0</td>\n      <td>3.0</td>\n      <td>193.0</td>\n      <td>193.0</td>\n      <td>390000.0</td>\n      <td>USD</td>\n      <td>Casa - Malvín</td>\n    </tr>\n    <tr>\n      <th>2</th>\n      <td>iVaG5rBB47dd1Ya4BMXREA==</td>\n      <td>2021-09-09</td>\n      <td>2022-03-09</td>\n      <td>2021-09-09</td>\n      <td>-32.488717</td>\n      <td>-58.257499</td>\n      <td>Entre Ríos</td>\n      <td>NaN</td>\n      <td>NaN</td>\n      <td>NaN</td>\n      <td>NaN</td>\n      <td>Venta</td>\n      <td>Casa</td>\n      <td>NaN</td>\n      <td>NaN</td>\n      <td>110.0</td>\n      <td>45.0</td>\n      <td>47000.0</td>\n      <td>USD</td>\n      <td>Casa - Uruguay</td>\n    </tr>\n    <tr>\n      <th>3</th>\n      <td>QE1QVMWKAHWkd0qT0FtPWA==</td>\n      <td>2021-09-09</td>\n      <td>2022-01-27</td>\n      <td>2021-09-09</td>\n      <td>-34.900165</td>\n      <td>-54.808453</td>\n      <td>Maldonado</td>\n      <td>NaN</td>\n      <td>NaN</td>\n      <td>NaN</td>\n      <td>NaN</td>\n      <td>Venta</td>\n      <td>Casa</td>\n      <td>NaN</td>\n      <td>3.0</td>\n      <td>NaN</td>\n      <td>180.0</td>\n      <td>400000.0</td>\n      <td>USD</td>\n      <td>Casa - El Chorro</td>\n    </tr>\n    <tr>\n      <th>4</th>\n      <td>tJ5lSk7IysG/71OGhacNZA==</td>\n      <td>2021-09-09</td>\n      <td>2022-01-27</td>\n      <td>2021-09-09</td>\n      <td>-38.954528</td>\n      <td>-68.041862</td>\n      <td>Neuquén</td>\n      <td>NaN</td>\n      <td>NaN</td>\n      <td>NaN</td>\n      <td>NaN</td>\n      <td>Venta</td>\n      <td>PH</td>\n      <td>3.0</td>\n      <td>2.0</td>\n      <td>NaN</td>\n      <td>98.0</td>\n      <td>102000.0</td>\n      <td>USD</td>\n      <td>PH - Villa Farrell</td>\n    </tr>\n  </tbody>\n</table>\n</div>"
     },
     "execution_count": 3,
     "metadata": {},
     "output_type": "execute_result"
    },
    {
     "data": {
      "text/plain": "                         id  start_date    end_date  created_on    latitud  \\\n0  XZq2dFGxBiboHY3Bo/tqlw==  2021-09-09  2022-01-27  2021-09-09 -38.957632   \n1  8afoK+yMH/rnnlYiktwgNA==  2021-09-09  2021-10-23  2021-09-09 -34.888878   \n2  iVaG5rBB47dd1Ya4BMXREA==  2021-09-09  2022-03-09  2021-09-09 -32.488717   \n3  QE1QVMWKAHWkd0qT0FtPWA==  2021-09-09  2022-01-27  2021-09-09 -34.900165   \n4  tJ5lSk7IysG/71OGhacNZA==  2021-09-09  2022-01-27  2021-09-09 -38.954528   \n\n    longitud    place_l2 place_l3 place_l4 place_l5  place_l6 operation  \\\n0 -68.105443     Neuquén      NaN      NaN      NaN       NaN     Venta   \n1 -56.092368  Montevideo      NaN      NaN      NaN       NaN     Venta   \n2 -58.257499  Entre Ríos      NaN      NaN      NaN       NaN     Venta   \n3 -54.808453   Maldonado      NaN      NaN      NaN       NaN     Venta   \n4 -68.041862     Neuquén      NaN      NaN      NaN       NaN     Venta   \n\n  property_type  property_rooms  property_bedrooms  property_surface_total  \\\n0          Casa             6.0                NaN                     NaN   \n1          Casa             4.0                3.0                   193.0   \n2          Casa             NaN                NaN                   110.0   \n3          Casa             NaN                3.0                     NaN   \n4            PH             3.0                2.0                     NaN   \n\n   property_surface_covered  property_price property_currency  \\\n0                     206.0             NaN               NaN   \n1                     193.0        390000.0               USD   \n2                      45.0         47000.0               USD   \n3                     180.0        400000.0               USD   \n4                      98.0        102000.0               USD   \n\n       property_title  \n0      Casa - Capital  \n1       Casa - Malvín  \n2      Casa - Uruguay  \n3    Casa - El Chorro  \n4  PH - Villa Farrell  ",
      "text/html": "<div>\n<style scoped>\n    .dataframe tbody tr th:only-of-type {\n        vertical-align: middle;\n    }\n\n    .dataframe tbody tr th {\n        vertical-align: top;\n    }\n\n    .dataframe thead th {\n        text-align: right;\n    }\n</style>\n<table border=\"1\" class=\"dataframe\">\n  <thead>\n    <tr style=\"text-align: right;\">\n      <th></th>\n      <th>id</th>\n      <th>start_date</th>\n      <th>end_date</th>\n      <th>created_on</th>\n      <th>latitud</th>\n      <th>longitud</th>\n      <th>place_l2</th>\n      <th>place_l3</th>\n      <th>place_l4</th>\n      <th>place_l5</th>\n      <th>place_l6</th>\n      <th>operation</th>\n      <th>property_type</th>\n      <th>property_rooms</th>\n      <th>property_bedrooms</th>\n      <th>property_surface_total</th>\n      <th>property_surface_covered</th>\n      <th>property_price</th>\n      <th>property_currency</th>\n      <th>property_title</th>\n    </tr>\n  </thead>\n  <tbody>\n    <tr>\n      <th>0</th>\n      <td>XZq2dFGxBiboHY3Bo/tqlw==</td>\n      <td>2021-09-09</td>\n      <td>2022-01-27</td>\n      <td>2021-09-09</td>\n      <td>-38.957632</td>\n      <td>-68.105443</td>\n      <td>Neuquén</td>\n      <td>NaN</td>\n      <td>NaN</td>\n      <td>NaN</td>\n      <td>NaN</td>\n      <td>Venta</td>\n      <td>Casa</td>\n      <td>6.0</td>\n      <td>NaN</td>\n      <td>NaN</td>\n      <td>206.0</td>\n      <td>NaN</td>\n      <td>NaN</td>\n      <td>Casa - Capital</td>\n    </tr>\n    <tr>\n      <th>1</th>\n      <td>8afoK+yMH/rnnlYiktwgNA==</td>\n      <td>2021-09-09</td>\n      <td>2021-10-23</td>\n      <td>2021-09-09</td>\n      <td>-34.888878</td>\n      <td>-56.092368</td>\n      <td>Montevideo</td>\n      <td>NaN</td>\n      <td>NaN</td>\n      <td>NaN</td>\n      <td>NaN</td>\n      <td>Venta</td>\n      <td>Casa</td>\n      <td>4.0</td>\n      <td>3.0</td>\n      <td>193.0</td>\n      <td>193.0</td>\n      <td>390000.0</td>\n      <td>USD</td>\n      <td>Casa - Malvín</td>\n    </tr>\n    <tr>\n      <th>2</th>\n      <td>iVaG5rBB47dd1Ya4BMXREA==</td>\n      <td>2021-09-09</td>\n      <td>2022-03-09</td>\n      <td>2021-09-09</td>\n      <td>-32.488717</td>\n      <td>-58.257499</td>\n      <td>Entre Ríos</td>\n      <td>NaN</td>\n      <td>NaN</td>\n      <td>NaN</td>\n      <td>NaN</td>\n      <td>Venta</td>\n      <td>Casa</td>\n      <td>NaN</td>\n      <td>NaN</td>\n      <td>110.0</td>\n      <td>45.0</td>\n      <td>47000.0</td>\n      <td>USD</td>\n      <td>Casa - Uruguay</td>\n    </tr>\n    <tr>\n      <th>3</th>\n      <td>QE1QVMWKAHWkd0qT0FtPWA==</td>\n      <td>2021-09-09</td>\n      <td>2022-01-27</td>\n      <td>2021-09-09</td>\n      <td>-34.900165</td>\n      <td>-54.808453</td>\n      <td>Maldonado</td>\n      <td>NaN</td>\n      <td>NaN</td>\n      <td>NaN</td>\n      <td>NaN</td>\n      <td>Venta</td>\n      <td>Casa</td>\n      <td>NaN</td>\n      <td>3.0</td>\n      <td>NaN</td>\n      <td>180.0</td>\n      <td>400000.0</td>\n      <td>USD</td>\n      <td>Casa - El Chorro</td>\n    </tr>\n    <tr>\n      <th>4</th>\n      <td>tJ5lSk7IysG/71OGhacNZA==</td>\n      <td>2021-09-09</td>\n      <td>2022-01-27</td>\n      <td>2021-09-09</td>\n      <td>-38.954528</td>\n      <td>-68.041862</td>\n      <td>Neuquén</td>\n      <td>NaN</td>\n      <td>NaN</td>\n      <td>NaN</td>\n      <td>NaN</td>\n      <td>Venta</td>\n      <td>PH</td>\n      <td>3.0</td>\n      <td>2.0</td>\n      <td>NaN</td>\n      <td>98.0</td>\n      <td>102000.0</td>\n      <td>USD</td>\n      <td>PH - Villa Farrell</td>\n    </tr>\n  </tbody>\n</table>\n</div>"
     },
     "execution_count": 4,
     "metadata": {},
     "output_type": "execute_result"
    }
   ],
   "source": [
    "properties_dataset = pd.read_csv('datasets/properati_argentina_2021.csv')\n",
    "properties_dataset.head()"
   ],
   "metadata": {
    "collapsed": false,
    "pycharm": {
     "name": "#%%\n"
    }
   }
  },
  {
   "cell_type": "code",
   "execution_count": 5,
   "outputs": [
    {
     "data": {
      "text/plain": "                         id                               property_description\n0  BZCeiGkJr1WBUi6pKJQwJQ==  Corredor Responsable: MARIA ALEJANDRA GENOVEVA...\n1  zuHOGgUE0UB71W7m/YCLoA==  ¡HERMOSO PH TIPO CASA DE 2 AMBIENTES!<br>APTO ...\n2  TUL813tXchVBlHUsfaA6DA==  Excelente PH en Núñez 4 amb!!!! Oportunidad !!...\n3  gn55JPmcjftBV/at1a7fPg==  UNICO PH DE 4 DORMITORIOS EN IMPECABLE ESTADO,...\n4  qg4m3QHcuo1+wMmyp7kx3Q==  Ph 2 Amb. Villa Crespo exclusivo uso profesion...",
      "text/html": "<div>\n<style scoped>\n    .dataframe tbody tr th:only-of-type {\n        vertical-align: middle;\n    }\n\n    .dataframe tbody tr th {\n        vertical-align: top;\n    }\n\n    .dataframe thead th {\n        text-align: right;\n    }\n</style>\n<table border=\"1\" class=\"dataframe\">\n  <thead>\n    <tr style=\"text-align: right;\">\n      <th></th>\n      <th>id</th>\n      <th>property_description</th>\n    </tr>\n  </thead>\n  <tbody>\n    <tr>\n      <th>0</th>\n      <td>BZCeiGkJr1WBUi6pKJQwJQ==</td>\n      <td>Corredor Responsable: MARIA ALEJANDRA GENOVEVA...</td>\n    </tr>\n    <tr>\n      <th>1</th>\n      <td>zuHOGgUE0UB71W7m/YCLoA==</td>\n      <td>¡HERMOSO PH TIPO CASA DE 2 AMBIENTES!&lt;br&gt;APTO ...</td>\n    </tr>\n    <tr>\n      <th>2</th>\n      <td>TUL813tXchVBlHUsfaA6DA==</td>\n      <td>Excelente PH en Núñez 4 amb!!!! Oportunidad !!...</td>\n    </tr>\n    <tr>\n      <th>3</th>\n      <td>gn55JPmcjftBV/at1a7fPg==</td>\n      <td>UNICO PH DE 4 DORMITORIOS EN IMPECABLE ESTADO,...</td>\n    </tr>\n    <tr>\n      <th>4</th>\n      <td>qg4m3QHcuo1+wMmyp7kx3Q==</td>\n      <td>Ph 2 Amb. Villa Crespo exclusivo uso profesion...</td>\n    </tr>\n  </tbody>\n</table>\n</div>"
     },
     "execution_count": 5,
     "metadata": {},
     "output_type": "execute_result"
    }
   ],
   "source": [
    "descriptions_dataset = pd.read_csv('datasets/properati_argentina_2021_decrip.csv')\n",
    "descriptions_dataset.head()"
   ],
   "metadata": {
    "collapsed": false,
    "pycharm": {
     "name": "#%%\n"
    }
   }
  },
  {
   "cell_type": "markdown",
   "source": [
    "Este dataset incluye descripciones de las propiedades del otro dataset. Veremos como podemos extraer información de estas descripciones."
   ],
   "metadata": {
    "collapsed": false,
    "pycharm": {
     "name": "#%% md\n"
    }
   }
  },
  {
   "cell_type": "markdown",
   "source": [
    "## Procesamiento del lenguaje natural"
   ],
   "metadata": {
    "collapsed": false,
    "pycharm": {
     "name": "#%% md\n"
    }
   }
  },
  {
   "cell_type": "markdown",
   "source": [
    "### Ampliación del dataset"
   ],
   "metadata": {
    "collapsed": false,
    "pycharm": {
     "name": "#%% md\n"
    }
   }
  },
  {
   "cell_type": "markdown",
   "source": [
    "### Modelos"
   ],
   "metadata": {
    "collapsed": false,
    "pycharm": {
     "name": "#%% md\n"
    }
   }
  },
  {
   "cell_type": "markdown",
   "source": [
    "## Redes Neuronales"
   ],
   "metadata": {
    "collapsed": false,
    "pycharm": {
     "name": "#%% md\n"
    }
   }
  },
  {
   "cell_type": "markdown",
   "source": [
    "### Regresión"
   ],
   "metadata": {
    "collapsed": false,
    "pycharm": {
     "name": "#%% md\n"
    }
   }
  },
  {
   "cell_type": "markdown",
   "source": [
    "### Clasificación"
   ],
   "metadata": {
    "collapsed": false,
    "pycharm": {
     "name": "#%% md\n"
    }
   }
  },
  {
   "cell_type": "markdown",
   "source": [
    "#### Construcción del target"
   ],
   "metadata": {
    "collapsed": false,
    "pycharm": {
     "name": "#%% md\n"
    }
   }
  },
  {
   "cell_type": "markdown",
   "source": [
    "#### Modelo"
   ],
   "metadata": {
    "collapsed": false,
    "pycharm": {
     "name": "#%% md\n"
    }
   }
  },
  {
   "cell_type": "markdown",
   "source": [
    "## Ensambles de modelos"
   ],
   "metadata": {
    "collapsed": false,
    "pycharm": {
     "name": "#%% md\n"
    }
   }
  },
  {
   "cell_type": "markdown",
   "source": [
    "### Ensamble 1"
   ],
   "metadata": {
    "collapsed": false,
    "pycharm": {
     "name": "#%% md\n"
    }
   }
  },
  {
   "cell_type": "markdown",
   "source": [
    "### Ensamble 2"
   ],
   "metadata": {
    "collapsed": false,
    "pycharm": {
     "name": "#%% md\n"
    }
   }
  },
  {
   "cell_type": "markdown",
   "source": [
    "## Conclusiones"
   ],
   "metadata": {
    "collapsed": false,
    "pycharm": {
     "name": "#%% md\n"
    }
   }
  }
 ],
 "metadata": {
  "kernelspec": {
   "display_name": "Python 3",
   "language": "python",
   "name": "python3"
  },
  "language_info": {
   "codemirror_mode": {
    "name": "ipython",
    "version": 2
   },
   "file_extension": ".py",
   "mimetype": "text/x-python",
   "name": "python",
   "nbconvert_exporter": "python",
   "pygments_lexer": "ipython2",
   "version": "2.7.6"
  }
 },
 "nbformat": 4,
 "nbformat_minor": 0
}
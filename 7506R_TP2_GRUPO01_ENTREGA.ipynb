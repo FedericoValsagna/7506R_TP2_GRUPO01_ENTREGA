{
 "cells": [
  {
   "cell_type": "markdown",
   "metadata": {
    "pycharm": {
     "name": "#%% md\n"
    }
   },
   "source": [
    "# 7506 - Trabajo Práctico 2"
   ]
  },
  {
   "cell_type": "markdown",
   "metadata": {
    "pycharm": {
     "name": "#%% md\n"
    }
   },
   "source": [
    "---"
   ]
  },
  {
   "cell_type": "markdown",
   "metadata": {
    "pycharm": {
     "name": "#%% md\n"
    }
   },
   "source": [
    "## Introducción"
   ]
  },
  {
   "cell_type": "markdown",
   "metadata": {
    "pycharm": {
     "name": "#%% md\n"
    }
   },
   "source": [
    "### Librerías"
   ]
  },
  {
   "cell_type": "code",
   "execution_count": 1,
   "metadata": {
    "collapsed": false,
    "jupyter": {
     "outputs_hidden": false
    },
    "pycharm": {
     "name": "#%%\n"
    }
   },
   "outputs": [
    {
     "name": "stderr",
     "output_type": "stream",
     "text": [
      "2022-11-24 17:52:04.120263: I tensorflow/core/platform/cpu_feature_guard.cc:193] This TensorFlow binary is optimized with oneAPI Deep Neural Network Library (oneDNN) to use the following CPU instructions in performance-critical operations:  AVX2 FMA\n",
      "To enable them in other operations, rebuild TensorFlow with the appropriate compiler flags.\n",
      "2022-11-24 17:52:04.374483: W tensorflow/stream_executor/platform/default/dso_loader.cc:64] Could not load dynamic library 'libcudart.so.11.0'; dlerror: libcudart.so.11.0: cannot open shared object file: No such file or directory\n",
      "2022-11-24 17:52:04.374501: I tensorflow/stream_executor/cuda/cudart_stub.cc:29] Ignore above cudart dlerror if you do not have a GPU set up on your machine.\n",
      "2022-11-24 17:52:04.410617: E tensorflow/stream_executor/cuda/cuda_blas.cc:2981] Unable to register cuBLAS factory: Attempting to register factory for plugin cuBLAS when one has already been registered\n",
      "2022-11-24 17:52:05.100261: W tensorflow/stream_executor/platform/default/dso_loader.cc:64] Could not load dynamic library 'libnvinfer.so.7'; dlerror: libnvinfer.so.7: cannot open shared object file: No such file or directory\n",
      "2022-11-24 17:52:05.100336: W tensorflow/stream_executor/platform/default/dso_loader.cc:64] Could not load dynamic library 'libnvinfer_plugin.so.7'; dlerror: libnvinfer_plugin.so.7: cannot open shared object file: No such file or directory\n",
      "2022-11-24 17:52:05.100344: W tensorflow/compiler/tf2tensorrt/utils/py_utils.cc:38] TF-TRT Warning: Cannot dlopen some TensorRT libraries. If you would like to use Nvidia GPU with TensorRT, please make sure the missing libraries mentioned above are installed properly.\n"
     ]
    }
   ],
   "source": [
    "import pandas as pd\n",
    "import numpy as np\n",
    "import re\n",
    "from sklearn.model_selection import train_test_split\n",
    "from sklearn.preprocessing import StandardScaler\n",
    "import tensorflow as tf\n",
    "from tensorflow import keras\n",
    "import keras_tuner as kt\n",
    "import matplotlib.pyplot as plt\n",
    "from matplotlib import style"
   ]
  },
  {
   "cell_type": "code",
   "execution_count": 2,
   "metadata": {
    "collapsed": false,
    "jupyter": {
     "outputs_hidden": false
    },
    "pycharm": {
     "name": "#%%\n"
    }
   },
   "outputs": [
    {
     "data": {
      "text/html": [
       "<div>\n",
       "<style scoped>\n",
       "    .dataframe tbody tr th:only-of-type {\n",
       "        vertical-align: middle;\n",
       "    }\n",
       "\n",
       "    .dataframe tbody tr th {\n",
       "        vertical-align: top;\n",
       "    }\n",
       "\n",
       "    .dataframe thead th {\n",
       "        text-align: right;\n",
       "    }\n",
       "</style>\n",
       "<table border=\"1\" class=\"dataframe\">\n",
       "  <thead>\n",
       "    <tr style=\"text-align: right;\">\n",
       "      <th></th>\n",
       "      <th>start_date</th>\n",
       "      <th>end_date</th>\n",
       "      <th>latitud</th>\n",
       "      <th>longitud</th>\n",
       "      <th>place_l3</th>\n",
       "      <th>property_type</th>\n",
       "      <th>property_rooms</th>\n",
       "      <th>property_bedrooms</th>\n",
       "      <th>property_surface_total</th>\n",
       "      <th>property_surface_covered</th>\n",
       "      <th>property_price</th>\n",
       "      <th>property_title</th>\n",
       "    </tr>\n",
       "  </thead>\n",
       "  <tbody>\n",
       "    <tr>\n",
       "      <th>0</th>\n",
       "      <td>2021-07-29</td>\n",
       "      <td>2021-09-06 00:00:00.000000000</td>\n",
       "      <td>-34.564800</td>\n",
       "      <td>-58.444631</td>\n",
       "      <td>Belgrano</td>\n",
       "      <td>Departamento</td>\n",
       "      <td>5.0</td>\n",
       "      <td>4.0</td>\n",
       "      <td>279.0</td>\n",
       "      <td>245.0</td>\n",
       "      <td>1000000.0</td>\n",
       "      <td>Espectacular torre en la mejor zona de Belgran...</td>\n",
       "    </tr>\n",
       "    <tr>\n",
       "      <th>1</th>\n",
       "      <td>2021-12-16</td>\n",
       "      <td>2022-02-09 00:00:00.000000000</td>\n",
       "      <td>-34.591359</td>\n",
       "      <td>-58.418809</td>\n",
       "      <td>Palermo</td>\n",
       "      <td>Departamento</td>\n",
       "      <td>2.0</td>\n",
       "      <td>1.0</td>\n",
       "      <td>42.0</td>\n",
       "      <td>42.0</td>\n",
       "      <td>89900.0</td>\n",
       "      <td>VENTA 2 AMBIENTES RECICLADO - PALERMO</td>\n",
       "    </tr>\n",
       "    <tr>\n",
       "      <th>2</th>\n",
       "      <td>2021-06-19</td>\n",
       "      <td>2021-09-01 15:14:13.531306906</td>\n",
       "      <td>-34.602632</td>\n",
       "      <td>-58.428399</td>\n",
       "      <td>Almagro</td>\n",
       "      <td>Departamento</td>\n",
       "      <td>2.0</td>\n",
       "      <td>1.0</td>\n",
       "      <td>46.0</td>\n",
       "      <td>42.0</td>\n",
       "      <td>119900.0</td>\n",
       "      <td>2 ambientes al frente con balcón. A estrenar.</td>\n",
       "    </tr>\n",
       "    <tr>\n",
       "      <th>3</th>\n",
       "      <td>2021-12-16</td>\n",
       "      <td>2022-02-09 00:00:00.000000000</td>\n",
       "      <td>-34.564290</td>\n",
       "      <td>-58.439272</td>\n",
       "      <td>Palermo</td>\n",
       "      <td>Departamento</td>\n",
       "      <td>3.0</td>\n",
       "      <td>2.0</td>\n",
       "      <td>69.0</td>\n",
       "      <td>58.0</td>\n",
       "      <td>175000.0</td>\n",
       "      <td>DEPARTAMENTO 3 Ambientes Palermo-Balcón C/Parr...</td>\n",
       "    </tr>\n",
       "    <tr>\n",
       "      <th>4</th>\n",
       "      <td>2021-12-16</td>\n",
       "      <td>2022-02-09 00:00:00.000000000</td>\n",
       "      <td>-34.630517</td>\n",
       "      <td>-58.377143</td>\n",
       "      <td>Barracas</td>\n",
       "      <td>Departamento</td>\n",
       "      <td>1.0</td>\n",
       "      <td>1.0</td>\n",
       "      <td>45.0</td>\n",
       "      <td>41.0</td>\n",
       "      <td>120000.0</td>\n",
       "      <td>Venta-Barracas-Mono divisible- MOCA</td>\n",
       "    </tr>\n",
       "  </tbody>\n",
       "</table>\n",
       "</div>"
      ],
      "text/plain": [
       "   start_date                       end_date    latitud   longitud  place_l3  \\\n",
       "0  2021-07-29  2021-09-06 00:00:00.000000000 -34.564800 -58.444631  Belgrano   \n",
       "1  2021-12-16  2022-02-09 00:00:00.000000000 -34.591359 -58.418809   Palermo   \n",
       "2  2021-06-19  2021-09-01 15:14:13.531306906 -34.602632 -58.428399   Almagro   \n",
       "3  2021-12-16  2022-02-09 00:00:00.000000000 -34.564290 -58.439272   Palermo   \n",
       "4  2021-12-16  2022-02-09 00:00:00.000000000 -34.630517 -58.377143  Barracas   \n",
       "\n",
       "  property_type  property_rooms  property_bedrooms  property_surface_total  \\\n",
       "0  Departamento             5.0                4.0                   279.0   \n",
       "1  Departamento             2.0                1.0                    42.0   \n",
       "2  Departamento             2.0                1.0                    46.0   \n",
       "3  Departamento             3.0                2.0                    69.0   \n",
       "4  Departamento             1.0                1.0                    45.0   \n",
       "\n",
       "   property_surface_covered  property_price  \\\n",
       "0                     245.0       1000000.0   \n",
       "1                      42.0         89900.0   \n",
       "2                      42.0        119900.0   \n",
       "3                      58.0        175000.0   \n",
       "4                      41.0        120000.0   \n",
       "\n",
       "                                      property_title  \n",
       "0  Espectacular torre en la mejor zona de Belgran...  \n",
       "1              VENTA 2 AMBIENTES RECICLADO - PALERMO  \n",
       "2      2 ambientes al frente con balcón. A estrenar.  \n",
       "3  DEPARTAMENTO 3 Ambientes Palermo-Balcón C/Parr...  \n",
       "4                Venta-Barracas-Mono divisible- MOCA  "
      ]
     },
     "execution_count": 2,
     "metadata": {},
     "output_type": "execute_result"
    }
   ],
   "source": [
    "# Dataset Train preprocesado\n",
    "train_ds = pd.read_csv('datasets/tp1-train.csv')\n",
    "train_ds = train_ds.drop(['Unnamed: 0'], axis=1)\n",
    "train_ds.head()"
   ]
  },
  {
   "cell_type": "code",
   "execution_count": 3,
   "metadata": {
    "collapsed": false,
    "jupyter": {
     "outputs_hidden": false
    },
    "pycharm": {
     "name": "#%%\n"
    }
   },
   "outputs": [
    {
     "data": {
      "text/html": [
       "<div>\n",
       "<style scoped>\n",
       "    .dataframe tbody tr th:only-of-type {\n",
       "        vertical-align: middle;\n",
       "    }\n",
       "\n",
       "    .dataframe tbody tr th {\n",
       "        vertical-align: top;\n",
       "    }\n",
       "\n",
       "    .dataframe thead th {\n",
       "        text-align: right;\n",
       "    }\n",
       "</style>\n",
       "<table border=\"1\" class=\"dataframe\">\n",
       "  <thead>\n",
       "    <tr style=\"text-align: right;\">\n",
       "      <th></th>\n",
       "      <th>latitud</th>\n",
       "      <th>longitud</th>\n",
       "      <th>place_l3</th>\n",
       "      <th>property_type</th>\n",
       "      <th>property_rooms</th>\n",
       "      <th>property_bedrooms</th>\n",
       "      <th>property_surface_total</th>\n",
       "      <th>property_surface_covered</th>\n",
       "      <th>property_price</th>\n",
       "      <th>property_title</th>\n",
       "    </tr>\n",
       "  </thead>\n",
       "  <tbody>\n",
       "    <tr>\n",
       "      <th>0</th>\n",
       "      <td>-34.589649</td>\n",
       "      <td>-58.434926</td>\n",
       "      <td>Palermo</td>\n",
       "      <td>Casa</td>\n",
       "      <td>4.0</td>\n",
       "      <td>3.0</td>\n",
       "      <td>140.0</td>\n",
       "      <td>140.0</td>\n",
       "      <td>530000.0</td>\n",
       "      <td>Casa - Palermo</td>\n",
       "    </tr>\n",
       "    <tr>\n",
       "      <th>1</th>\n",
       "      <td>-34.598508</td>\n",
       "      <td>-58.443084</td>\n",
       "      <td>Villa Crespo</td>\n",
       "      <td>Departamento</td>\n",
       "      <td>1.0</td>\n",
       "      <td>1.0</td>\n",
       "      <td>33.0</td>\n",
       "      <td>30.0</td>\n",
       "      <td>78000.0</td>\n",
       "      <td>Monoambiente Departamento a Estrenar - Villa C...</td>\n",
       "    </tr>\n",
       "    <tr>\n",
       "      <th>2</th>\n",
       "      <td>-34.582098</td>\n",
       "      <td>-58.448859</td>\n",
       "      <td>Palermo</td>\n",
       "      <td>Departamento</td>\n",
       "      <td>1.0</td>\n",
       "      <td>1.0</td>\n",
       "      <td>35.0</td>\n",
       "      <td>30.0</td>\n",
       "      <td>87100.0</td>\n",
       "      <td>Venta - Newbery Jorge  3445 3º I Jardin</td>\n",
       "    </tr>\n",
       "    <tr>\n",
       "      <th>3</th>\n",
       "      <td>-34.569662</td>\n",
       "      <td>-58.487762</td>\n",
       "      <td>Villa Urquiza</td>\n",
       "      <td>Departamento</td>\n",
       "      <td>3.0</td>\n",
       "      <td>2.0</td>\n",
       "      <td>80.0</td>\n",
       "      <td>68.0</td>\n",
       "      <td>250000.0</td>\n",
       "      <td>Departamento - Villa Urquiza</td>\n",
       "    </tr>\n",
       "    <tr>\n",
       "      <th>4</th>\n",
       "      <td>-34.598582</td>\n",
       "      <td>-58.376689</td>\n",
       "      <td>San Nicolás</td>\n",
       "      <td>Departamento</td>\n",
       "      <td>2.0</td>\n",
       "      <td>1.0</td>\n",
       "      <td>37.0</td>\n",
       "      <td>37.0</td>\n",
       "      <td>79000.0</td>\n",
       "      <td>Venta de departamento  estilo frances de 2 amb...</td>\n",
       "    </tr>\n",
       "    <tr>\n",
       "      <th>...</th>\n",
       "      <td>...</td>\n",
       "      <td>...</td>\n",
       "      <td>...</td>\n",
       "      <td>...</td>\n",
       "      <td>...</td>\n",
       "      <td>...</td>\n",
       "      <td>...</td>\n",
       "      <td>...</td>\n",
       "      <td>...</td>\n",
       "      <td>...</td>\n",
       "    </tr>\n",
       "    <tr>\n",
       "      <th>16271</th>\n",
       "      <td>-34.652357</td>\n",
       "      <td>-58.385489</td>\n",
       "      <td>Barracas</td>\n",
       "      <td>Casa</td>\n",
       "      <td>5.0</td>\n",
       "      <td>4.0</td>\n",
       "      <td>223.0</td>\n",
       "      <td>223.0</td>\n",
       "      <td>295000.0</td>\n",
       "      <td>CASA EN LOTE DE 10X27 MTS 223 M2 CUB - RIO CUA...</td>\n",
       "    </tr>\n",
       "    <tr>\n",
       "      <th>16272</th>\n",
       "      <td>-34.653920</td>\n",
       "      <td>-58.410842</td>\n",
       "      <td>Pompeya</td>\n",
       "      <td>Casa</td>\n",
       "      <td>4.0</td>\n",
       "      <td>2.0</td>\n",
       "      <td>257.0</td>\n",
       "      <td>130.0</td>\n",
       "      <td>180000.0</td>\n",
       "      <td>VENTA-POMPEYA-CASA-2PLANTAS-DIST TECNOLOGICO</td>\n",
       "    </tr>\n",
       "    <tr>\n",
       "      <th>16273</th>\n",
       "      <td>-34.593420</td>\n",
       "      <td>-58.421077</td>\n",
       "      <td>Palermo</td>\n",
       "      <td>Departamento</td>\n",
       "      <td>3.0</td>\n",
       "      <td>2.0</td>\n",
       "      <td>91.0</td>\n",
       "      <td>71.0</td>\n",
       "      <td>348000.0</td>\n",
       "      <td>Excelente oportunidad, Hermoso 3 Ambientes, nu...</td>\n",
       "    </tr>\n",
       "    <tr>\n",
       "      <th>16274</th>\n",
       "      <td>-34.593404</td>\n",
       "      <td>-58.402309</td>\n",
       "      <td>Barrio Norte</td>\n",
       "      <td>Departamento</td>\n",
       "      <td>2.0</td>\n",
       "      <td>1.0</td>\n",
       "      <td>45.0</td>\n",
       "      <td>45.0</td>\n",
       "      <td>133000.0</td>\n",
       "      <td>Departamento - Barrio Norte</td>\n",
       "    </tr>\n",
       "    <tr>\n",
       "      <th>16275</th>\n",
       "      <td>-34.603144</td>\n",
       "      <td>-58.428451</td>\n",
       "      <td>Almagro</td>\n",
       "      <td>Departamento</td>\n",
       "      <td>4.0</td>\n",
       "      <td>3.0</td>\n",
       "      <td>99.0</td>\n",
       "      <td>70.0</td>\n",
       "      <td>183000.0</td>\n",
       "      <td>Departamento 4 Amb con PATIO Almagro</td>\n",
       "    </tr>\n",
       "  </tbody>\n",
       "</table>\n",
       "<p>16276 rows × 10 columns</p>\n",
       "</div>"
      ],
      "text/plain": [
       "         latitud   longitud       place_l3 property_type  property_rooms  \\\n",
       "0     -34.589649 -58.434926        Palermo          Casa             4.0   \n",
       "1     -34.598508 -58.443084   Villa Crespo  Departamento             1.0   \n",
       "2     -34.582098 -58.448859        Palermo  Departamento             1.0   \n",
       "3     -34.569662 -58.487762  Villa Urquiza  Departamento             3.0   \n",
       "4     -34.598582 -58.376689    San Nicolás  Departamento             2.0   \n",
       "...          ...        ...            ...           ...             ...   \n",
       "16271 -34.652357 -58.385489       Barracas          Casa             5.0   \n",
       "16272 -34.653920 -58.410842        Pompeya          Casa             4.0   \n",
       "16273 -34.593420 -58.421077        Palermo  Departamento             3.0   \n",
       "16274 -34.593404 -58.402309   Barrio Norte  Departamento             2.0   \n",
       "16275 -34.603144 -58.428451        Almagro  Departamento             4.0   \n",
       "\n",
       "       property_bedrooms  property_surface_total  property_surface_covered  \\\n",
       "0                    3.0                   140.0                     140.0   \n",
       "1                    1.0                    33.0                      30.0   \n",
       "2                    1.0                    35.0                      30.0   \n",
       "3                    2.0                    80.0                      68.0   \n",
       "4                    1.0                    37.0                      37.0   \n",
       "...                  ...                     ...                       ...   \n",
       "16271                4.0                   223.0                     223.0   \n",
       "16272                2.0                   257.0                     130.0   \n",
       "16273                2.0                    91.0                      71.0   \n",
       "16274                1.0                    45.0                      45.0   \n",
       "16275                3.0                    99.0                      70.0   \n",
       "\n",
       "       property_price                                     property_title  \n",
       "0            530000.0                                     Casa - Palermo  \n",
       "1             78000.0  Monoambiente Departamento a Estrenar - Villa C...  \n",
       "2             87100.0            Venta - Newbery Jorge  3445 3º I Jardin  \n",
       "3            250000.0                       Departamento - Villa Urquiza  \n",
       "4             79000.0  Venta de departamento  estilo frances de 2 amb...  \n",
       "...               ...                                                ...  \n",
       "16271        295000.0  CASA EN LOTE DE 10X27 MTS 223 M2 CUB - RIO CUA...  \n",
       "16272        180000.0       VENTA-POMPEYA-CASA-2PLANTAS-DIST TECNOLOGICO  \n",
       "16273        348000.0  Excelente oportunidad, Hermoso 3 Ambientes, nu...  \n",
       "16274        133000.0                        Departamento - Barrio Norte  \n",
       "16275        183000.0               Departamento 4 Amb con PATIO Almagro  \n",
       "\n",
       "[16276 rows x 10 columns]"
      ]
     },
     "execution_count": 3,
     "metadata": {},
     "output_type": "execute_result"
    }
   ],
   "source": [
    "# Dataset Test preprocesado\n",
    "test_ds = pd.read_csv('datasets/tp1-test.csv')\n",
    "test_ds = test_ds.drop(['Unnamed: 0'], axis=1)\n",
    "test_ds"
   ]
  },
  {
   "cell_type": "markdown",
   "metadata": {
    "pycharm": {
     "name": "#%% md\n"
    }
   },
   "source": [
    "## Procesamiento del lenguaje natural"
   ]
  },
  {
   "cell_type": "markdown",
   "metadata": {
    "pycharm": {
     "name": "#%% md\n"
    }
   },
   "source": [
    "### Ampliación del dataset"
   ]
  },
  {
   "cell_type": "markdown",
   "metadata": {
    "pycharm": {
     "name": "#%% md\n"
    }
   },
   "source": [
    "Este dataset incluye descripciones de las propiedades del otro dataset. Veremos como podemos extraer información de estas descripciones."
   ]
  },
  {
   "cell_type": "code",
   "execution_count": 4,
   "metadata": {
    "collapsed": false,
    "jupyter": {
     "outputs_hidden": false
    },
    "pycharm": {
     "name": "#%%\n"
    }
   },
   "outputs": [],
   "source": [
    "descriptions_dataset = pd.read_csv('datasets/properati_argentina_2021_decrip.csv')"
   ]
  },
  {
   "cell_type": "code",
   "execution_count": 5,
   "metadata": {
    "collapsed": false,
    "jupyter": {
     "outputs_hidden": false
    },
    "pycharm": {
     "name": "#%%\n"
    }
   },
   "outputs": [
    {
     "data": {
      "text/html": [
       "<div>\n",
       "<style scoped>\n",
       "    .dataframe tbody tr th:only-of-type {\n",
       "        vertical-align: middle;\n",
       "    }\n",
       "\n",
       "    .dataframe tbody tr th {\n",
       "        vertical-align: top;\n",
       "    }\n",
       "\n",
       "    .dataframe thead th {\n",
       "        text-align: right;\n",
       "    }\n",
       "</style>\n",
       "<table border=\"1\" class=\"dataframe\">\n",
       "  <thead>\n",
       "    <tr style=\"text-align: right;\">\n",
       "      <th></th>\n",
       "      <th>id</th>\n",
       "      <th>property_description</th>\n",
       "    </tr>\n",
       "  </thead>\n",
       "  <tbody>\n",
       "    <tr>\n",
       "      <th>0</th>\n",
       "      <td>BZCeiGkJr1WBUi6pKJQwJQ==</td>\n",
       "      <td>Corredor Responsable: MARIA ALEJANDRA GENOVEVA...</td>\n",
       "    </tr>\n",
       "    <tr>\n",
       "      <th>1</th>\n",
       "      <td>zuHOGgUE0UB71W7m/YCLoA==</td>\n",
       "      <td>¡HERMOSO PH TIPO CASA DE 2 AMBIENTES!&lt;br&gt;APTO ...</td>\n",
       "    </tr>\n",
       "    <tr>\n",
       "      <th>2</th>\n",
       "      <td>TUL813tXchVBlHUsfaA6DA==</td>\n",
       "      <td>Excelente PH en Núñez 4 amb!!!! Oportunidad !!...</td>\n",
       "    </tr>\n",
       "    <tr>\n",
       "      <th>3</th>\n",
       "      <td>gn55JPmcjftBV/at1a7fPg==</td>\n",
       "      <td>UNICO PH DE 4 DORMITORIOS EN IMPECABLE ESTADO,...</td>\n",
       "    </tr>\n",
       "    <tr>\n",
       "      <th>4</th>\n",
       "      <td>qg4m3QHcuo1+wMmyp7kx3Q==</td>\n",
       "      <td>Ph 2 Amb. Villa Crespo exclusivo uso profesion...</td>\n",
       "    </tr>\n",
       "    <tr>\n",
       "      <th>...</th>\n",
       "      <td>...</td>\n",
       "      <td>...</td>\n",
       "    </tr>\n",
       "    <tr>\n",
       "      <th>460149</th>\n",
       "      <td>MbQ4rqEzjp9Jfc3Sywb/YQ==</td>\n",
       "      <td>Corredor Responsable: Hector Garaygorta / Cris...</td>\n",
       "    </tr>\n",
       "    <tr>\n",
       "      <th>460150</th>\n",
       "      <td>fbuG1ohYC623nxLYPQPBvw==</td>\n",
       "      <td>Corredor Responsable: MARIA DEL ROSARIO NEME -...</td>\n",
       "    </tr>\n",
       "    <tr>\n",
       "      <th>460151</th>\n",
       "      <td>Ry5hMwctFXD7rLoUpzduxQ==</td>\n",
       "      <td>En cumplimiento de las leyes provinciales vige...</td>\n",
       "    </tr>\n",
       "    <tr>\n",
       "      <th>460152</th>\n",
       "      <td>xH37f+l+VOP8Vj0T3g+r6g==</td>\n",
       "      <td>En cumplimiento de las leyes provinciales vige...</td>\n",
       "    </tr>\n",
       "    <tr>\n",
       "      <th>460153</th>\n",
       "      <td>7XOOIQjoDg0MPUoy9HLzng==</td>\n",
       "      <td>CASA EN VENTA EN BARILOCHE – Lomas del Cauquén...</td>\n",
       "    </tr>\n",
       "  </tbody>\n",
       "</table>\n",
       "<p>460154 rows × 2 columns</p>\n",
       "</div>"
      ],
      "text/plain": [
       "                              id  \\\n",
       "0       BZCeiGkJr1WBUi6pKJQwJQ==   \n",
       "1       zuHOGgUE0UB71W7m/YCLoA==   \n",
       "2       TUL813tXchVBlHUsfaA6DA==   \n",
       "3       gn55JPmcjftBV/at1a7fPg==   \n",
       "4       qg4m3QHcuo1+wMmyp7kx3Q==   \n",
       "...                          ...   \n",
       "460149  MbQ4rqEzjp9Jfc3Sywb/YQ==   \n",
       "460150  fbuG1ohYC623nxLYPQPBvw==   \n",
       "460151  Ry5hMwctFXD7rLoUpzduxQ==   \n",
       "460152  xH37f+l+VOP8Vj0T3g+r6g==   \n",
       "460153  7XOOIQjoDg0MPUoy9HLzng==   \n",
       "\n",
       "                                     property_description  \n",
       "0       Corredor Responsable: MARIA ALEJANDRA GENOVEVA...  \n",
       "1       ¡HERMOSO PH TIPO CASA DE 2 AMBIENTES!<br>APTO ...  \n",
       "2       Excelente PH en Núñez 4 amb!!!! Oportunidad !!...  \n",
       "3       UNICO PH DE 4 DORMITORIOS EN IMPECABLE ESTADO,...  \n",
       "4       Ph 2 Amb. Villa Crespo exclusivo uso profesion...  \n",
       "...                                                   ...  \n",
       "460149  Corredor Responsable: Hector Garaygorta / Cris...  \n",
       "460150  Corredor Responsable: MARIA DEL ROSARIO NEME -...  \n",
       "460151  En cumplimiento de las leyes provinciales vige...  \n",
       "460152  En cumplimiento de las leyes provinciales vige...  \n",
       "460153  CASA EN VENTA EN BARILOCHE – Lomas del Cauquén...  \n",
       "\n",
       "[460154 rows x 2 columns]"
      ]
     },
     "execution_count": 5,
     "metadata": {},
     "output_type": "execute_result"
    }
   ],
   "source": [
    "descriptions_dataset"
   ]
  },
  {
   "cell_type": "markdown",
   "metadata": {
    "pycharm": {
     "name": "#%% md\n"
    }
   },
   "source": [
    "#### Tecnica Minqing Hu y Bing Liu"
   ]
  },
  {
   "cell_type": "markdown",
   "metadata": {
    "pycharm": {
     "name": "#%% md\n"
    }
   },
   "source": [
    "Una forma de analizar el sentimiento de un de un texto es considerando su sentimiento como la suma de los sentimientos de cada una de las palabras que lo forman.\n",
    "\n",
    "Para el analisis de sentimiento nos guiamos del analisis realizado en esta pagina: https://www.cienciadedatos.net/documentos/py25-text-mining-python.html\n",
    "\n",
    "Utilizamos algunas funciones de tokenizacion y limpieza de ahi con alguna sutil modificacion para nuestro caso de uso en particular."
   ]
  },
  {
   "cell_type": "code",
   "execution_count": 6,
   "metadata": {
    "collapsed": false,
    "jupyter": {
     "outputs_hidden": false
    },
    "pycharm": {
     "name": "#%%\n"
    }
   },
   "outputs": [],
   "source": [
    "def limpiar_tokenizar(texto):\n",
    "    '''\n",
    "    Esta función limpia y tokeniza el texto en palabras individuales.\n",
    "    El orden en el que se va limpiando el texto no es arbitrario.\n",
    "    El listado de signos de puntuación se ha obtenido de: print(string.punctuation)\n",
    "    y re.escape(string.punctuation)\n",
    "    '''\n",
    "    \n",
    "    # Se convierte todo el texto a minúsculas\n",
    "    nuevo_texto = str(texto).lower()\n",
    "    # Eliminación de páginas web (palabras que empiezan por \"http\")\n",
    "    nuevo_texto = re.sub('http\\S+', ' ', nuevo_texto)\n",
    "    # Eliminación de signos de puntuación\n",
    "    regex = '[\\\\!\\\\¡\\\\\"\\\\#\\\\$\\\\%\\\\&\\\\\\'\\\\(\\\\)\\\\*\\\\+\\\\,\\\\-\\\\.\\\\/\\\\:\\\\;\\\\<\\\\=\\\\>\\\\?\\\\@\\\\[\\\\\\\\\\\\]\\\\^_\\\\`\\\\{\\\\|\\\\}\\\\~]'\n",
    "    nuevo_texto = re.sub(regex , ' ', nuevo_texto)\n",
    "    # Eliminación de números\n",
    "    nuevo_texto = re.sub(\"\\d+\", ' ', nuevo_texto)\n",
    "    # Eliminación de espacios en blanco múltiples\n",
    "    nuevo_texto = re.sub(\"\\\\s+\", ' ', nuevo_texto)\n",
    "    # Tokenización por palabras individuales\n",
    "    nuevo_texto = nuevo_texto.split(sep = ' ')\n",
    "    # Eliminación de tokens con una longitud < 2\n",
    "    nuevo_texto = [token for token in nuevo_texto if len(token) > 1]\n",
    "    \n",
    "    return(nuevo_texto)"
   ]
  },
  {
   "cell_type": "code",
   "execution_count": 7,
   "metadata": {
    "collapsed": false,
    "jupyter": {
     "outputs_hidden": false
    },
    "pycharm": {
     "name": "#%%\n"
    }
   },
   "outputs": [
    {
     "data": {
      "text/html": [
       "<div>\n",
       "<style scoped>\n",
       "    .dataframe tbody tr th:only-of-type {\n",
       "        vertical-align: middle;\n",
       "    }\n",
       "\n",
       "    .dataframe tbody tr th {\n",
       "        vertical-align: top;\n",
       "    }\n",
       "\n",
       "    .dataframe thead th {\n",
       "        text-align: right;\n",
       "    }\n",
       "</style>\n",
       "<table border=\"1\" class=\"dataframe\">\n",
       "  <thead>\n",
       "    <tr style=\"text-align: right;\">\n",
       "      <th></th>\n",
       "      <th>texto_tokenizado</th>\n",
       "    </tr>\n",
       "  </thead>\n",
       "  <tbody>\n",
       "    <tr>\n",
       "      <th>0</th>\n",
       "      <td>[corredor, responsable, maria, alejandra, geno...</td>\n",
       "    </tr>\n",
       "    <tr>\n",
       "      <th>1</th>\n",
       "      <td>[hermoso, ph, tipo, casa, de, ambientes, br, a...</td>\n",
       "    </tr>\n",
       "    <tr>\n",
       "      <th>2</th>\n",
       "      <td>[excelente, ph, en, núñez, amb, oportunidad, t...</td>\n",
       "    </tr>\n",
       "    <tr>\n",
       "      <th>3</th>\n",
       "      <td>[unico, ph, de, dormitorios, en, impecable, es...</td>\n",
       "    </tr>\n",
       "    <tr>\n",
       "      <th>4</th>\n",
       "      <td>[ph, amb, villa, crespo, exclusivo, uso, profe...</td>\n",
       "    </tr>\n",
       "  </tbody>\n",
       "</table>\n",
       "</div>"
      ],
      "text/plain": [
       "                                    texto_tokenizado\n",
       "0  [corredor, responsable, maria, alejandra, geno...\n",
       "1  [hermoso, ph, tipo, casa, de, ambientes, br, a...\n",
       "2  [excelente, ph, en, núñez, amb, oportunidad, t...\n",
       "3  [unico, ph, de, dormitorios, en, impecable, es...\n",
       "4  [ph, amb, villa, crespo, exclusivo, uso, profe..."
      ]
     },
     "execution_count": 7,
     "metadata": {},
     "output_type": "execute_result"
    }
   ],
   "source": [
    "# se aplica la función de limpieza y tokenización a cada descripcion\n",
    "\n",
    "descriptions_dataset['texto_tokenizado'] = descriptions_dataset['property_description'].apply(limpiar_tokenizar)\n",
    "descriptions_dataset[['texto_tokenizado']].head()"
   ]
  },
  {
   "cell_type": "code",
   "execution_count": 8,
   "metadata": {
    "collapsed": false,
    "jupyter": {
     "outputs_hidden": false
    },
    "pycharm": {
     "name": "#%%\n"
    }
   },
   "outputs": [
    {
     "data": {
      "text/html": [
       "<div>\n",
       "<style scoped>\n",
       "    .dataframe tbody tr th:only-of-type {\n",
       "        vertical-align: middle;\n",
       "    }\n",
       "\n",
       "    .dataframe tbody tr th {\n",
       "        vertical-align: top;\n",
       "    }\n",
       "\n",
       "    .dataframe thead th {\n",
       "        text-align: right;\n",
       "    }\n",
       "</style>\n",
       "<table border=\"1\" class=\"dataframe\">\n",
       "  <thead>\n",
       "    <tr style=\"text-align: right;\">\n",
       "      <th></th>\n",
       "      <th>id</th>\n",
       "      <th>token</th>\n",
       "    </tr>\n",
       "  </thead>\n",
       "  <tbody>\n",
       "    <tr>\n",
       "      <th>0</th>\n",
       "      <td>BZCeiGkJr1WBUi6pKJQwJQ==</td>\n",
       "      <td>corredor</td>\n",
       "    </tr>\n",
       "    <tr>\n",
       "      <th>0</th>\n",
       "      <td>BZCeiGkJr1WBUi6pKJQwJQ==</td>\n",
       "      <td>responsable</td>\n",
       "    </tr>\n",
       "    <tr>\n",
       "      <th>0</th>\n",
       "      <td>BZCeiGkJr1WBUi6pKJQwJQ==</td>\n",
       "      <td>maria</td>\n",
       "    </tr>\n",
       "  </tbody>\n",
       "</table>\n",
       "</div>"
      ],
      "text/plain": [
       "                         id        token\n",
       "0  BZCeiGkJr1WBUi6pKJQwJQ==     corredor\n",
       "0  BZCeiGkJr1WBUi6pKJQwJQ==  responsable\n",
       "0  BZCeiGkJr1WBUi6pKJQwJQ==        maria"
      ]
     },
     "execution_count": 8,
     "metadata": {},
     "output_type": "execute_result"
    }
   ],
   "source": [
    "# unnest de la columna texto_tokenizado\n",
    "\n",
    "descriptions_tidy = descriptions_dataset.explode(column='texto_tokenizado')\n",
    "descriptions_tidy = descriptions_tidy.drop(columns='property_description')\n",
    "descriptions_tidy = descriptions_tidy.rename(columns={'texto_tokenizado':'token'})\n",
    "descriptions_tidy.head(3)"
   ]
  },
  {
   "cell_type": "markdown",
   "metadata": {
    "pycharm": {
     "name": "#%% md\n"
    }
   },
   "source": [
    "Notamos que las preposiciones no son relevantes para entender que atributo podria ser mejor para expandir el datast, asi que decidimos agregarlas como stopwords.\n",
    "\n",
    "Tampoco van a variar mucho el analisis de sentimiento realizado en este trabajo."
   ]
  },
  {
   "cell_type": "code",
   "execution_count": 9,
   "metadata": {
    "collapsed": false,
    "jupyter": {
     "outputs_hidden": false
    },
    "pycharm": {
     "is_executing": true,
     "name": "#%%\n"
    }
   },
   "outputs": [],
   "source": [
    "## listado de stopwords\n",
    "\n",
    "preposiciones = [\"a\", \"ante\", \"bajo\", \"(cabe)\", \"con\", \"contra\", \"de\", \"desde\", \"durante\", \"en\", \"entre\", \"hacia\", \"hasta\", \"mediante\", \"para\", \"por\", \"según\", \"sin\", \"sobre\", \"tras\", \"vía\"]\n",
    "\n",
    "stop_words = []\n",
    "\n",
    "stop_words += preposiciones\n",
    "\n",
    "# filtrado para excluir stopwords\n",
    "descriptions_tidy = descriptions_tidy[~(descriptions_tidy[\"token\"].isin(stop_words))]"
   ]
  },
  {
   "cell_type": "markdown",
   "metadata": {
    "pycharm": {
     "name": "#%% md\n"
    }
   },
   "source": [
    "Agregamos un lexicon en español de esta pagina: https://github.com/jboscomendoza/lexicos-nrc-afinn"
   ]
  },
  {
   "cell_type": "code",
   "execution_count": 10,
   "metadata": {
    "collapsed": false,
    "jupyter": {
     "outputs_hidden": false
    },
    "pycharm": {
     "name": "#%%\n"
    }
   },
   "outputs": [
    {
     "data": {
      "text/html": [
       "<div>\n",
       "<style scoped>\n",
       "    .dataframe tbody tr th:only-of-type {\n",
       "        vertical-align: middle;\n",
       "    }\n",
       "\n",
       "    .dataframe tbody tr th {\n",
       "        vertical-align: top;\n",
       "    }\n",
       "\n",
       "    .dataframe thead th {\n",
       "        text-align: right;\n",
       "    }\n",
       "</style>\n",
       "<table border=\"1\" class=\"dataframe\">\n",
       "  <thead>\n",
       "    <tr style=\"text-align: right;\">\n",
       "      <th></th>\n",
       "      <th>palabra</th>\n",
       "      <th>sentimiento</th>\n",
       "      <th>word</th>\n",
       "    </tr>\n",
       "  </thead>\n",
       "  <tbody>\n",
       "    <tr>\n",
       "      <th>0</th>\n",
       "      <td>ciegamente</td>\n",
       "      <td>negativo</td>\n",
       "      <td>blindly</td>\n",
       "    </tr>\n",
       "    <tr>\n",
       "      <th>1</th>\n",
       "      <td>ciegamente</td>\n",
       "      <td>tristeza</td>\n",
       "      <td>blindly</td>\n",
       "    </tr>\n",
       "    <tr>\n",
       "      <th>2</th>\n",
       "      <td>a distancia</td>\n",
       "      <td>negativo</td>\n",
       "      <td>aloof</td>\n",
       "    </tr>\n",
       "    <tr>\n",
       "      <th>3</th>\n",
       "      <td>a hurtadillas</td>\n",
       "      <td>sorpresa</td>\n",
       "      <td>stealthily</td>\n",
       "    </tr>\n",
       "    <tr>\n",
       "      <th>4</th>\n",
       "      <td>a la deriva</td>\n",
       "      <td>anticipación</td>\n",
       "      <td>adrift</td>\n",
       "    </tr>\n",
       "    <tr>\n",
       "      <th>...</th>\n",
       "      <td>...</td>\n",
       "      <td>...</td>\n",
       "      <td>...</td>\n",
       "    </tr>\n",
       "    <tr>\n",
       "      <th>15302</th>\n",
       "      <td>zumbido</td>\n",
       "      <td>anticipación</td>\n",
       "      <td>buzz</td>\n",
       "    </tr>\n",
       "    <tr>\n",
       "      <th>15303</th>\n",
       "      <td>zumbido</td>\n",
       "      <td>miedo</td>\n",
       "      <td>buzz</td>\n",
       "    </tr>\n",
       "    <tr>\n",
       "      <th>15304</th>\n",
       "      <td>zumbido</td>\n",
       "      <td>positivo</td>\n",
       "      <td>buzz</td>\n",
       "    </tr>\n",
       "    <tr>\n",
       "      <th>15305</th>\n",
       "      <td>zumbido</td>\n",
       "      <td>negativo</td>\n",
       "      <td>drone</td>\n",
       "    </tr>\n",
       "    <tr>\n",
       "      <th>15306</th>\n",
       "      <td>zurcidura</td>\n",
       "      <td>positivo</td>\n",
       "      <td>mending</td>\n",
       "    </tr>\n",
       "  </tbody>\n",
       "</table>\n",
       "<p>15307 rows × 3 columns</p>\n",
       "</div>"
      ],
      "text/plain": [
       "             palabra   sentimiento        word\n",
       "0         ciegamente      negativo     blindly\n",
       "1         ciegamente      tristeza     blindly\n",
       "2        a distancia      negativo       aloof\n",
       "3      a hurtadillas      sorpresa  stealthily\n",
       "4        a la deriva  anticipación      adrift\n",
       "...              ...           ...         ...\n",
       "15302        zumbido  anticipación        buzz\n",
       "15303        zumbido         miedo        buzz\n",
       "15304        zumbido      positivo        buzz\n",
       "15305        zumbido      negativo       drone\n",
       "15306      zurcidura      positivo     mending\n",
       "\n",
       "[15307 rows x 3 columns]"
      ]
     },
     "execution_count": 10,
     "metadata": {},
     "output_type": "execute_result"
    }
   ],
   "source": [
    "# lexicon sentimientos\n",
    "lexicon = pd.read_csv('datasets/lexico_nrc.csv')\n",
    "lexicon"
   ]
  },
  {
   "cell_type": "code",
   "execution_count": 11,
   "metadata": {
    "collapsed": false,
    "jupyter": {
     "outputs_hidden": false
    },
    "pycharm": {
     "name": "#%%\n"
    }
   },
   "outputs": [],
   "source": [
    "def mappear_valores_sentimiento(s):\n",
    "    # 1 Positivo\n",
    "    # 0 Neutro\n",
    "    # -1 Negativo\n",
    "    sentimiento_numerico = 0\n",
    "    if str(s) in ['negativo', 'tristeza', 'miedo', 'enfado', 'tristeza', 'asco']:\n",
    "        sentimiento_numerico = -1\n",
    "    if str(s) in ['sorpresa', 'positivo', 'confianza', 'alegría']:\n",
    "        sentimiento_numerico = 1\n",
    "    if str(s) in ['anticipación']:\n",
    "        sentimiento_numerico = 0\n",
    "        \n",
    "    return sentimiento_numerico\n",
    "    "
   ]
  },
  {
   "cell_type": "code",
   "execution_count": 12,
   "metadata": {
    "collapsed": false,
    "jupyter": {
     "outputs_hidden": false
    },
    "pycharm": {
     "name": "#%%\n"
    }
   },
   "outputs": [
    {
     "data": {
      "text/html": [
       "<div>\n",
       "<style scoped>\n",
       "    .dataframe tbody tr th:only-of-type {\n",
       "        vertical-align: middle;\n",
       "    }\n",
       "\n",
       "    .dataframe tbody tr th {\n",
       "        vertical-align: top;\n",
       "    }\n",
       "\n",
       "    .dataframe thead th {\n",
       "        text-align: right;\n",
       "    }\n",
       "</style>\n",
       "<table border=\"1\" class=\"dataframe\">\n",
       "  <thead>\n",
       "    <tr style=\"text-align: right;\">\n",
       "      <th></th>\n",
       "      <th>sentimiento</th>\n",
       "    </tr>\n",
       "  </thead>\n",
       "  <tbody>\n",
       "    <tr>\n",
       "      <th>0</th>\n",
       "      <td>-1</td>\n",
       "    </tr>\n",
       "    <tr>\n",
       "      <th>1</th>\n",
       "      <td>-1</td>\n",
       "    </tr>\n",
       "    <tr>\n",
       "      <th>2</th>\n",
       "      <td>-1</td>\n",
       "    </tr>\n",
       "    <tr>\n",
       "      <th>3</th>\n",
       "      <td>1</td>\n",
       "    </tr>\n",
       "    <tr>\n",
       "      <th>4</th>\n",
       "      <td>0</td>\n",
       "    </tr>\n",
       "  </tbody>\n",
       "</table>\n",
       "</div>"
      ],
      "text/plain": [
       "   sentimiento\n",
       "0           -1\n",
       "1           -1\n",
       "2           -1\n",
       "3            1\n",
       "4            0"
      ]
     },
     "execution_count": 12,
     "metadata": {},
     "output_type": "execute_result"
    }
   ],
   "source": [
    "lexicon['sentimiento'] = lexicon['sentimiento'].apply(lambda x: mappear_valores_sentimiento(x))\n",
    "lexicon[['sentimiento']].head()"
   ]
  },
  {
   "cell_type": "code",
   "execution_count": 13,
   "metadata": {
    "collapsed": false,
    "jupyter": {
     "outputs_hidden": false
    },
    "pycharm": {
     "name": "#%%\n"
    }
   },
   "outputs": [
    {
     "data": {
      "text/html": [
       "<div>\n",
       "<style scoped>\n",
       "    .dataframe tbody tr th:only-of-type {\n",
       "        vertical-align: middle;\n",
       "    }\n",
       "\n",
       "    .dataframe tbody tr th {\n",
       "        vertical-align: top;\n",
       "    }\n",
       "\n",
       "    .dataframe thead th {\n",
       "        text-align: right;\n",
       "    }\n",
       "</style>\n",
       "<table border=\"1\" class=\"dataframe\">\n",
       "  <thead>\n",
       "    <tr style=\"text-align: right;\">\n",
       "      <th></th>\n",
       "      <th>id</th>\n",
       "      <th>token</th>\n",
       "    </tr>\n",
       "  </thead>\n",
       "  <tbody>\n",
       "    <tr>\n",
       "      <th>0</th>\n",
       "      <td>BZCeiGkJr1WBUi6pKJQwJQ==</td>\n",
       "      <td>corredor</td>\n",
       "    </tr>\n",
       "    <tr>\n",
       "      <th>0</th>\n",
       "      <td>BZCeiGkJr1WBUi6pKJQwJQ==</td>\n",
       "      <td>maria</td>\n",
       "    </tr>\n",
       "    <tr>\n",
       "      <th>0</th>\n",
       "      <td>BZCeiGkJr1WBUi6pKJQwJQ==</td>\n",
       "      <td>alejandra</td>\n",
       "    </tr>\n",
       "    <tr>\n",
       "      <th>0</th>\n",
       "      <td>BZCeiGkJr1WBUi6pKJQwJQ==</td>\n",
       "      <td>genoveva</td>\n",
       "    </tr>\n",
       "    <tr>\n",
       "      <th>0</th>\n",
       "      <td>BZCeiGkJr1WBUi6pKJQwJQ==</td>\n",
       "      <td>bohn</td>\n",
       "    </tr>\n",
       "  </tbody>\n",
       "</table>\n",
       "</div>"
      ],
      "text/plain": [
       "                         id      token\n",
       "0  BZCeiGkJr1WBUi6pKJQwJQ==   corredor\n",
       "0  BZCeiGkJr1WBUi6pKJQwJQ==      maria\n",
       "0  BZCeiGkJr1WBUi6pKJQwJQ==  alejandra\n",
       "0  BZCeiGkJr1WBUi6pKJQwJQ==   genoveva\n",
       "0  BZCeiGkJr1WBUi6pKJQwJQ==       bohn"
      ]
     },
     "execution_count": 13,
     "metadata": {},
     "output_type": "execute_result"
    }
   ],
   "source": [
    "descriptions_tidy[~descriptions_tidy.token.isin(lexicon.palabra)].head()"
   ]
  },
  {
   "cell_type": "code",
   "execution_count": 14,
   "metadata": {
    "collapsed": false,
    "jupyter": {
     "outputs_hidden": false
    },
    "pycharm": {
     "name": "#%%\n"
    }
   },
   "outputs": [
    {
     "data": {
      "text/html": [
       "<div>\n",
       "<style scoped>\n",
       "    .dataframe tbody tr th:only-of-type {\n",
       "        vertical-align: middle;\n",
       "    }\n",
       "\n",
       "    .dataframe tbody tr th {\n",
       "        vertical-align: top;\n",
       "    }\n",
       "\n",
       "    .dataframe thead th {\n",
       "        text-align: right;\n",
       "    }\n",
       "</style>\n",
       "<table border=\"1\" class=\"dataframe\">\n",
       "  <thead>\n",
       "    <tr style=\"text-align: right;\">\n",
       "      <th></th>\n",
       "      <th>palabra</th>\n",
       "      <th>sentimiento</th>\n",
       "      <th>word</th>\n",
       "    </tr>\n",
       "  </thead>\n",
       "  <tbody>\n",
       "    <tr>\n",
       "      <th>0</th>\n",
       "      <td>ciegamente</td>\n",
       "      <td>-1</td>\n",
       "      <td>blindly</td>\n",
       "    </tr>\n",
       "    <tr>\n",
       "      <th>1</th>\n",
       "      <td>ciegamente</td>\n",
       "      <td>-1</td>\n",
       "      <td>blindly</td>\n",
       "    </tr>\n",
       "    <tr>\n",
       "      <th>2</th>\n",
       "      <td>a distancia</td>\n",
       "      <td>-1</td>\n",
       "      <td>aloof</td>\n",
       "    </tr>\n",
       "    <tr>\n",
       "      <th>3</th>\n",
       "      <td>a hurtadillas</td>\n",
       "      <td>1</td>\n",
       "      <td>stealthily</td>\n",
       "    </tr>\n",
       "    <tr>\n",
       "      <th>4</th>\n",
       "      <td>a la deriva</td>\n",
       "      <td>0</td>\n",
       "      <td>adrift</td>\n",
       "    </tr>\n",
       "  </tbody>\n",
       "</table>\n",
       "</div>"
      ],
      "text/plain": [
       "         palabra  sentimiento        word\n",
       "0     ciegamente           -1     blindly\n",
       "1     ciegamente           -1     blindly\n",
       "2    a distancia           -1       aloof\n",
       "3  a hurtadillas            1  stealthily\n",
       "4    a la deriva            0      adrift"
      ]
     },
     "execution_count": 14,
     "metadata": {},
     "output_type": "execute_result"
    }
   ],
   "source": [
    "lexicon[~lexicon.palabra.isin(descriptions_tidy.token)].head()"
   ]
  },
  {
   "cell_type": "code",
   "execution_count": 15,
   "metadata": {
    "collapsed": false,
    "jupyter": {
     "outputs_hidden": false
    },
    "pycharm": {
     "name": "#%%\n"
    }
   },
   "outputs": [
    {
     "data": {
      "text/html": [
       "<div>\n",
       "<style scoped>\n",
       "    .dataframe tbody tr th:only-of-type {\n",
       "        vertical-align: middle;\n",
       "    }\n",
       "\n",
       "    .dataframe tbody tr th {\n",
       "        vertical-align: top;\n",
       "    }\n",
       "\n",
       "    .dataframe thead th {\n",
       "        text-align: right;\n",
       "    }\n",
       "</style>\n",
       "<table border=\"1\" class=\"dataframe\">\n",
       "  <thead>\n",
       "    <tr style=\"text-align: right;\">\n",
       "      <th></th>\n",
       "      <th>id</th>\n",
       "      <th>token</th>\n",
       "      <th>sentimiento</th>\n",
       "    </tr>\n",
       "  </thead>\n",
       "  <tbody>\n",
       "    <tr>\n",
       "      <th>0</th>\n",
       "      <td>BZCeiGkJr1WBUi6pKJQwJQ==</td>\n",
       "      <td>responsable</td>\n",
       "      <td>1</td>\n",
       "    </tr>\n",
       "    <tr>\n",
       "      <th>1</th>\n",
       "      <td>BZCeiGkJr1WBUi6pKJQwJQ==</td>\n",
       "      <td>responsable</td>\n",
       "      <td>1</td>\n",
       "    </tr>\n",
       "    <tr>\n",
       "      <th>2</th>\n",
       "      <td>BZCeiGkJr1WBUi6pKJQwJQ==</td>\n",
       "      <td>responsable</td>\n",
       "      <td>1</td>\n",
       "    </tr>\n",
       "    <tr>\n",
       "      <th>3</th>\n",
       "      <td>xYlWDFS4uIVIT3eMeZEs9w==</td>\n",
       "      <td>responsable</td>\n",
       "      <td>1</td>\n",
       "    </tr>\n",
       "    <tr>\n",
       "      <th>4</th>\n",
       "      <td>xYlWDFS4uIVIT3eMeZEs9w==</td>\n",
       "      <td>responsable</td>\n",
       "      <td>1</td>\n",
       "    </tr>\n",
       "    <tr>\n",
       "      <th>...</th>\n",
       "      <td>...</td>\n",
       "      <td>...</td>\n",
       "      <td>...</td>\n",
       "    </tr>\n",
       "    <tr>\n",
       "      <th>17186156</th>\n",
       "      <td>EEU4SLi5FwFwIrDbEdM2lw==</td>\n",
       "      <td>débil</td>\n",
       "      <td>-1</td>\n",
       "    </tr>\n",
       "    <tr>\n",
       "      <th>17186157</th>\n",
       "      <td>EEU4SLi5FwFwIrDbEdM2lw==</td>\n",
       "      <td>débil</td>\n",
       "      <td>-1</td>\n",
       "    </tr>\n",
       "    <tr>\n",
       "      <th>17186158</th>\n",
       "      <td>EEU4SLi5FwFwIrDbEdM2lw==</td>\n",
       "      <td>débil</td>\n",
       "      <td>-1</td>\n",
       "    </tr>\n",
       "    <tr>\n",
       "      <th>17186159</th>\n",
       "      <td>EEU4SLi5FwFwIrDbEdM2lw==</td>\n",
       "      <td>débil</td>\n",
       "      <td>-1</td>\n",
       "    </tr>\n",
       "    <tr>\n",
       "      <th>17186160</th>\n",
       "      <td>EEU4SLi5FwFwIrDbEdM2lw==</td>\n",
       "      <td>débil</td>\n",
       "      <td>-1</td>\n",
       "    </tr>\n",
       "  </tbody>\n",
       "</table>\n",
       "<p>17186161 rows × 3 columns</p>\n",
       "</div>"
      ],
      "text/plain": [
       "                                id        token  sentimiento\n",
       "0         BZCeiGkJr1WBUi6pKJQwJQ==  responsable            1\n",
       "1         BZCeiGkJr1WBUi6pKJQwJQ==  responsable            1\n",
       "2         BZCeiGkJr1WBUi6pKJQwJQ==  responsable            1\n",
       "3         xYlWDFS4uIVIT3eMeZEs9w==  responsable            1\n",
       "4         xYlWDFS4uIVIT3eMeZEs9w==  responsable            1\n",
       "...                            ...          ...          ...\n",
       "17186156  EEU4SLi5FwFwIrDbEdM2lw==        débil           -1\n",
       "17186157  EEU4SLi5FwFwIrDbEdM2lw==        débil           -1\n",
       "17186158  EEU4SLi5FwFwIrDbEdM2lw==        débil           -1\n",
       "17186159  EEU4SLi5FwFwIrDbEdM2lw==        débil           -1\n",
       "17186160  EEU4SLi5FwFwIrDbEdM2lw==        débil           -1\n",
       "\n",
       "[17186161 rows x 3 columns]"
      ]
     },
     "execution_count": 15,
     "metadata": {},
     "output_type": "execute_result"
    }
   ],
   "source": [
    "# sentimiento promedio de cada descripcion\n",
    "descripcion_sentimientos = pd.merge(\n",
    "                            left     = descriptions_tidy,\n",
    "                            right    = lexicon,\n",
    "                            left_on  = \"token\", \n",
    "                            right_on = \"palabra\",\n",
    "                            how      = \"inner\"\n",
    "                      )\n",
    "\n",
    "descripcion_sentimientos = descripcion_sentimientos.drop(columns = [\"palabra\", \"word\"])\n",
    "descripcion_sentimientos"
   ]
  },
  {
   "cell_type": "code",
   "execution_count": 16,
   "metadata": {},
   "outputs": [
    {
     "data": {
      "text/html": [
       "<div>\n",
       "<style scoped>\n",
       "    .dataframe tbody tr th:only-of-type {\n",
       "        vertical-align: middle;\n",
       "    }\n",
       "\n",
       "    .dataframe tbody tr th {\n",
       "        vertical-align: top;\n",
       "    }\n",
       "\n",
       "    .dataframe thead th {\n",
       "        text-align: right;\n",
       "    }\n",
       "</style>\n",
       "<table border=\"1\" class=\"dataframe\">\n",
       "  <thead>\n",
       "    <tr style=\"text-align: right;\">\n",
       "      <th></th>\n",
       "      <th>id</th>\n",
       "      <th>token</th>\n",
       "      <th>sentimiento</th>\n",
       "    </tr>\n",
       "  </thead>\n",
       "  <tbody>\n",
       "    <tr>\n",
       "      <th>0</th>\n",
       "      <td>BZCeiGkJr1WBUi6pKJQwJQ==</td>\n",
       "      <td>responsable</td>\n",
       "      <td>1</td>\n",
       "    </tr>\n",
       "    <tr>\n",
       "      <th>1</th>\n",
       "      <td>BZCeiGkJr1WBUi6pKJQwJQ==</td>\n",
       "      <td>responsable</td>\n",
       "      <td>1</td>\n",
       "    </tr>\n",
       "    <tr>\n",
       "      <th>2</th>\n",
       "      <td>BZCeiGkJr1WBUi6pKJQwJQ==</td>\n",
       "      <td>responsable</td>\n",
       "      <td>1</td>\n",
       "    </tr>\n",
       "    <tr>\n",
       "      <th>3</th>\n",
       "      <td>xYlWDFS4uIVIT3eMeZEs9w==</td>\n",
       "      <td>responsable</td>\n",
       "      <td>1</td>\n",
       "    </tr>\n",
       "    <tr>\n",
       "      <th>4</th>\n",
       "      <td>xYlWDFS4uIVIT3eMeZEs9w==</td>\n",
       "      <td>responsable</td>\n",
       "      <td>1</td>\n",
       "    </tr>\n",
       "    <tr>\n",
       "      <th>...</th>\n",
       "      <td>...</td>\n",
       "      <td>...</td>\n",
       "      <td>...</td>\n",
       "    </tr>\n",
       "    <tr>\n",
       "      <th>17186156</th>\n",
       "      <td>EEU4SLi5FwFwIrDbEdM2lw==</td>\n",
       "      <td>débil</td>\n",
       "      <td>-1</td>\n",
       "    </tr>\n",
       "    <tr>\n",
       "      <th>17186157</th>\n",
       "      <td>EEU4SLi5FwFwIrDbEdM2lw==</td>\n",
       "      <td>débil</td>\n",
       "      <td>-1</td>\n",
       "    </tr>\n",
       "    <tr>\n",
       "      <th>17186158</th>\n",
       "      <td>EEU4SLi5FwFwIrDbEdM2lw==</td>\n",
       "      <td>débil</td>\n",
       "      <td>-1</td>\n",
       "    </tr>\n",
       "    <tr>\n",
       "      <th>17186159</th>\n",
       "      <td>EEU4SLi5FwFwIrDbEdM2lw==</td>\n",
       "      <td>débil</td>\n",
       "      <td>-1</td>\n",
       "    </tr>\n",
       "    <tr>\n",
       "      <th>17186160</th>\n",
       "      <td>EEU4SLi5FwFwIrDbEdM2lw==</td>\n",
       "      <td>débil</td>\n",
       "      <td>-1</td>\n",
       "    </tr>\n",
       "  </tbody>\n",
       "</table>\n",
       "<p>17186161 rows × 3 columns</p>\n",
       "</div>"
      ],
      "text/plain": [
       "                                id        token  sentimiento\n",
       "0         BZCeiGkJr1WBUi6pKJQwJQ==  responsable            1\n",
       "1         BZCeiGkJr1WBUi6pKJQwJQ==  responsable            1\n",
       "2         BZCeiGkJr1WBUi6pKJQwJQ==  responsable            1\n",
       "3         xYlWDFS4uIVIT3eMeZEs9w==  responsable            1\n",
       "4         xYlWDFS4uIVIT3eMeZEs9w==  responsable            1\n",
       "...                            ...          ...          ...\n",
       "17186156  EEU4SLi5FwFwIrDbEdM2lw==        débil           -1\n",
       "17186157  EEU4SLi5FwFwIrDbEdM2lw==        débil           -1\n",
       "17186158  EEU4SLi5FwFwIrDbEdM2lw==        débil           -1\n",
       "17186159  EEU4SLi5FwFwIrDbEdM2lw==        débil           -1\n",
       "17186160  EEU4SLi5FwFwIrDbEdM2lw==        débil           -1\n",
       "\n",
       "[17186161 rows x 3 columns]"
      ]
     },
     "execution_count": 16,
     "metadata": {},
     "output_type": "execute_result"
    }
   ],
   "source": [
    "descripcion_sentimientos"
   ]
  },
  {
   "cell_type": "code",
   "execution_count": 18,
   "metadata": {
    "collapsed": false,
    "jupyter": {
     "outputs_hidden": false
    },
    "pycharm": {
     "name": "#%%\n"
    }
   },
   "outputs": [],
   "source": [
    "propiedades_sentimientos = descripcion_sentimientos[[\"id\", \"token\", \"sentimiento\"]] \\\n",
    "                      .groupby([\"id\"])\\\n",
    "                      .sum().reset_index()"
   ]
  },
  {
   "cell_type": "code",
   "execution_count": 19,
   "metadata": {},
   "outputs": [
    {
     "data": {
      "text/html": [
       "<div>\n",
       "<style scoped>\n",
       "    .dataframe tbody tr th:only-of-type {\n",
       "        vertical-align: middle;\n",
       "    }\n",
       "\n",
       "    .dataframe tbody tr th {\n",
       "        vertical-align: top;\n",
       "    }\n",
       "\n",
       "    .dataframe thead th {\n",
       "        text-align: right;\n",
       "    }\n",
       "</style>\n",
       "<table border=\"1\" class=\"dataframe\">\n",
       "  <thead>\n",
       "    <tr style=\"text-align: right;\">\n",
       "      <th></th>\n",
       "      <th>id</th>\n",
       "      <th>sentimiento</th>\n",
       "    </tr>\n",
       "  </thead>\n",
       "  <tbody>\n",
       "    <tr>\n",
       "      <th>0</th>\n",
       "      <td>+++LrfX9dl/rsnbNTgVaSw==</td>\n",
       "      <td>24</td>\n",
       "    </tr>\n",
       "    <tr>\n",
       "      <th>1</th>\n",
       "      <td>+++do60YqD8lHYx2VYGDqQ==</td>\n",
       "      <td>1</td>\n",
       "    </tr>\n",
       "    <tr>\n",
       "      <th>2</th>\n",
       "      <td>+++wa5fxPpZiosDy8gUAAw==</td>\n",
       "      <td>2</td>\n",
       "    </tr>\n",
       "    <tr>\n",
       "      <th>3</th>\n",
       "      <td>+++z1sn9bNyplgPCYXZlyw==</td>\n",
       "      <td>7</td>\n",
       "    </tr>\n",
       "    <tr>\n",
       "      <th>4</th>\n",
       "      <td>++/5cFjr0gDqo7tRQJ+crA==</td>\n",
       "      <td>10</td>\n",
       "    </tr>\n",
       "    <tr>\n",
       "      <th>...</th>\n",
       "      <td>...</td>\n",
       "      <td>...</td>\n",
       "    </tr>\n",
       "    <tr>\n",
       "      <th>452586</th>\n",
       "      <td>zzxdSRjo9Dmr+YRiF12AKw==</td>\n",
       "      <td>2</td>\n",
       "    </tr>\n",
       "    <tr>\n",
       "      <th>452587</th>\n",
       "      <td>zzxkD9EywKS2qVHckCrB6w==</td>\n",
       "      <td>19</td>\n",
       "    </tr>\n",
       "    <tr>\n",
       "      <th>452588</th>\n",
       "      <td>zzz31+5xq/hpoj0wVg95MQ==</td>\n",
       "      <td>2</td>\n",
       "    </tr>\n",
       "    <tr>\n",
       "      <th>452589</th>\n",
       "      <td>zzz3xbg/jr1o6a3FBduweQ==</td>\n",
       "      <td>-2</td>\n",
       "    </tr>\n",
       "    <tr>\n",
       "      <th>452590</th>\n",
       "      <td>zzzvgl0SUo2/V/pYv55JLg==</td>\n",
       "      <td>-2</td>\n",
       "    </tr>\n",
       "  </tbody>\n",
       "</table>\n",
       "<p>452591 rows × 2 columns</p>\n",
       "</div>"
      ],
      "text/plain": [
       "                              id  sentimiento\n",
       "0       +++LrfX9dl/rsnbNTgVaSw==           24\n",
       "1       +++do60YqD8lHYx2VYGDqQ==            1\n",
       "2       +++wa5fxPpZiosDy8gUAAw==            2\n",
       "3       +++z1sn9bNyplgPCYXZlyw==            7\n",
       "4       ++/5cFjr0gDqo7tRQJ+crA==           10\n",
       "...                          ...          ...\n",
       "452586  zzxdSRjo9Dmr+YRiF12AKw==            2\n",
       "452587  zzxkD9EywKS2qVHckCrB6w==           19\n",
       "452588  zzz31+5xq/hpoj0wVg95MQ==            2\n",
       "452589  zzz3xbg/jr1o6a3FBduweQ==           -2\n",
       "452590  zzzvgl0SUo2/V/pYv55JLg==           -2\n",
       "\n",
       "[452591 rows x 2 columns]"
      ]
     },
     "execution_count": 19,
     "metadata": {},
     "output_type": "execute_result"
    }
   ],
   "source": [
    "propiedades_sentimientos"
   ]
  },
  {
   "cell_type": "code",
   "execution_count": 18,
   "metadata": {
    "collapsed": false,
    "jupyter": {
     "outputs_hidden": false
    },
    "pycharm": {
     "name": "#%%\n"
    }
   },
   "outputs": [
    {
     "data": {
      "text/plain": [
       "273"
      ]
     },
     "execution_count": 18,
     "metadata": {},
     "output_type": "execute_result"
    }
   ],
   "source": [
    "propiedades_sentimientos.sentimiento.max()"
   ]
  },
  {
   "cell_type": "code",
   "execution_count": 24,
   "metadata": {
    "collapsed": false,
    "jupyter": {
     "outputs_hidden": false
    },
    "pycharm": {
     "name": "#%%\n"
    }
   },
   "outputs": [],
   "source": [
    "top10_positivas = propiedades_sentimientos[propiedades_sentimientos['sentimiento'] > 248]"
   ]
  },
  {
   "cell_type": "code",
   "execution_count": 27,
   "metadata": {
    "collapsed": false,
    "jupyter": {
     "outputs_hidden": false
    },
    "pycharm": {
     "name": "#%%\n"
    }
   },
   "outputs": [
    {
     "data": {
      "text/plain": [
       "55559     VENTA Depto 303 módulo 3 - 156 m2 AKOL BARRIO ...\n",
       "112373    VENTA Casa de 282m2 de excelente calidad sobre...\n",
       "123306    VENTA Depto AKOL BARRIO NÁUTICO, Barrio Tres C...\n",
       "249077    VENTA Depto 302 módulo 3 - 129 m2 AKOL BARRIO ...\n",
       "311142    VENTA Casa 4 dorm. 3 baños, 218 m2 - Lote 14 L...\n",
       "311189    Corredor Responsable: Cristian Arnal Ponti - C...\n",
       "312277    VENTA Departamento 305 135m2 Mod3 AKOL BARRIO ...\n",
       "312278    VENTA Departamento 306 Módulo 3 - 172 m2 AKOL ...\n",
       "312279    AKOL PATAGONIA BARRIO NÁUTICO<br>LANZAMIENTO M...\n",
       "391337    CARACTERÍSTICAS: Lote en inmejorable ubicación...\n",
       "Name: property_description, dtype: object"
      ]
     },
     "execution_count": 27,
     "metadata": {},
     "output_type": "execute_result"
    }
   ],
   "source": [
    "descriptions_dataset[descriptions_dataset.id.isin(top10_positivas.id)].property_description"
   ]
  },
  {
   "cell_type": "code",
   "execution_count": 28,
   "metadata": {
    "collapsed": false,
    "jupyter": {
     "outputs_hidden": false
    },
    "pycharm": {
     "name": "#%%\n"
    }
   },
   "outputs": [
    {
     "data": {
      "text/plain": [
       "-71"
      ]
     },
     "execution_count": 28,
     "metadata": {},
     "output_type": "execute_result"
    }
   ],
   "source": [
    "propiedades_sentimientos.sentimiento.min()"
   ]
  },
  {
   "cell_type": "code",
   "execution_count": 29,
   "metadata": {
    "collapsed": false,
    "jupyter": {
     "outputs_hidden": false
    },
    "pycharm": {
     "name": "#%%\n"
    }
   },
   "outputs": [],
   "source": [
    "top10_negativas = propiedades_sentimientos[propiedades_sentimientos['sentimiento'] < -33]"
   ]
  },
  {
   "cell_type": "code",
   "execution_count": 31,
   "metadata": {
    "collapsed": false,
    "jupyter": {
     "outputs_hidden": false
    },
    "pycharm": {
     "name": "#%%\n"
    }
   },
   "outputs": [
    {
     "data": {
      "text/plain": [
       "67053     Superficie Terreno:   \\t7 hectáreas (69.625 me...\n",
       "104195    Corredor Responsable: JUAN FRANCISCO CARATTINO...\n",
       "118082    Propiedad en dos plantas edificada sobre la lí...\n",
       "194147    Propiedad en dos plantas edificada sobre la lí...\n",
       "213430    ESPECTACULAR   E  IMPECABLE !!!!!<br>REFACCION...\n",
       "227431    HERMOSO COMPLEJO DE  18 UNIDADES FUNCIONALES, ...\n",
       "242409    Espectacular casa en Pilar Golf barrio Pevero<...\n",
       "267009    VENTA DE CASA EN LA ARBOLEDA.<br>Terreno de 20...\n",
       "299463    Espectacular casa en Pilar Golf barrio Pevero<...\n",
       "Name: property_description, dtype: object"
      ]
     },
     "execution_count": 31,
     "metadata": {},
     "output_type": "execute_result"
    }
   ],
   "source": [
    "descriptions_dataset[descriptions_dataset.id.isin(top10_negativas.id)].property_description"
   ]
  },
  {
   "cell_type": "code",
   "execution_count": 24,
   "metadata": {
    "collapsed": false,
    "jupyter": {
     "outputs_hidden": false
    },
    "pycharm": {
     "name": "#%%\n"
    }
   },
   "outputs": [],
   "source": [
    "## A partir de tener el top10, evaluar si esos atributos nos sirven para expandir el dataset\n",
    "## Pensar en hacer un score con la completitud de la descripcion de cada propiedad -> property_desc_score"
   ]
  },
  {
   "cell_type": "markdown",
   "metadata": {
    "jupyter": {
     "outputs_hidden": false
    },
    "pycharm": {
     "name": "#%%\n"
    }
   },
   "source": [
    "Como es claro, la gente que publica la venta de una propiedad va a tratar de expresar la mejor publicacion y descripcion posible. Es por eso que tenemos una tasa altisima de positividad. No buscamos hacer un analisis real de a"
   ]
  },
  {
   "cell_type": "code",
   "execution_count": 32,
   "metadata": {
    "collapsed": false,
    "jupyter": {
     "outputs_hidden": false
    },
    "pycharm": {
     "name": "#%%\n"
    }
   },
   "outputs": [
    {
     "name": "stdout",
     "output_type": "stream",
     "text": [
      "Positivos: 64.61\n",
      "Neutros  : 9.64\n",
      "Negativos: 25.75\n",
      " \n"
     ]
    }
   ],
   "source": [
    "def perfil_sentimientos(df):\n",
    "    print(f\"Positivos: {round(100 * np.mean(df.sentimiento > 0), 2)}\")\n",
    "    print(f\"Neutros  : {round(100 * np.mean(df.sentimiento == 0), 2)}\")\n",
    "    print(f\"Negativos: {round(100 * np.mean(df.sentimiento < 0), 2)}\")\n",
    "    print(\" \")\n",
    "\n",
    "perfil_sentimientos(descripcion_sentimientos)"
   ]
  },
  {
   "cell_type": "markdown",
   "metadata": {
    "pycharm": {
     "name": "#%% md\n"
    }
   },
   "source": [
    "#### Tecnica Regex"
   ]
  },
  {
   "cell_type": "markdown",
   "metadata": {
    "pycharm": {
     "name": "#%% md\n"
    }
   },
   "source": [
    "Revisamos las siguientes paginas para entender cuales son los ammenities mas buscados en CABA, y en Argentina en general.\n",
    "\n",
    "https://www.iprofesional.com/negocios/371702-cuales-son-los-amenities-mas-exoticos-de-edificios-en-argentina\n",
    "\n",
    "https://www.baenegocios.com/sociedad/Ranking-de-amenities-los-servicios-que-mas-pesan-al-comprar-una-propiedad-20220119-0068.html\n",
    "\n",
    "https://www.forbesargentina.com/negocios/amenities-servicios-mas-demandados-argentinos-comprar-una-propiedad-n11901\n",
    "\n",
    "Dichos ammenities parecen hacer que la propiedad cotice entre un 15% y un 20% más que el precio de venta.\n",
    "\n",
    "Sacando un promedio y haciendo un top-5 ranking, podemos notar que los mas relevantes son:\n",
    "\n",
    "- Garage/Estacionamiento\n",
    "- Pileta\n",
    "- Jardin/Espacio al aire libre\n",
    "- Parrilla\n",
    "- SUM (Gimnasio/Spa/Sauna)\n",
    "\n",
    "Al buscar estos datos, podriamos tratar de entender si el precio resulta mayor, contra una propiedad de similares caracteristicas pero sin estos ammenities y a partir de eso, entender que % varía del precio de venta original."
   ]
  },
  {
   "cell_type": "code",
   "execution_count": null,
   "metadata": {
    "collapsed": false,
    "jupyter": {
     "outputs_hidden": false
    },
    "pycharm": {
     "name": "#%%\n"
    }
   },
   "outputs": [],
   "source": [
    "garage_sin_espacio = re.compile(r\"[^\\s]+garage|garaje|estacionamiento|parking\")\n",
    "garage_con_espacio = re.compile(r\"[^\\s]+ garage|garaje|estacionamiento|parking\")"
   ]
  },
  {
   "cell_type": "code",
   "execution_count": null,
   "metadata": {
    "collapsed": false,
    "jupyter": {
     "outputs_hidden": false
    },
    "pycharm": {
     "name": "#%%\n"
    }
   },
   "outputs": [],
   "source": [
    "frecuencia_garage = {'garage': 0}\n",
    "for desc in descriptions_dataset.property_description:\n",
    "    if (len(re.findall(garage_sin_espacio, str(desc).lower())) > 0):\n",
    "        frecuencia_garage['garage'] += 1\n",
    "    if (len(re.findall(garage_con_espacio, str(desc).lower())) > 0):\n",
    "        frecuencia_garage['garage'] += 1\n",
    "print(frecuencia_garage)"
   ]
  },
  {
   "cell_type": "code",
   "execution_count": null,
   "metadata": {
    "collapsed": false,
    "jupyter": {
     "outputs_hidden": false
    },
    "pycharm": {
     "name": "#%%\n"
    }
   },
   "outputs": [],
   "source": [
    "pileta_sin_espacio = re.compile(r\"[^\\s]+pileta\")\n",
    "pileta_con_espacio = re.compile(r\"[^\\s]+ pileta\")"
   ]
  },
  {
   "cell_type": "code",
   "execution_count": null,
   "metadata": {
    "collapsed": false,
    "jupyter": {
     "outputs_hidden": false
    },
    "pycharm": {
     "name": "#%%\n"
    }
   },
   "outputs": [],
   "source": [
    "frecuencia_pileta= {'pileta': 0}\n",
    "for desc in descriptions_dataset.property_description:\n",
    "    if (len(re.findall(pileta_sin_espacio, str(desc).lower())) > 0):\n",
    "        frecuencia_pileta['pileta'] += 1\n",
    "    if (len(re.findall(pileta_con_espacio, str(desc).lower())) > 0):\n",
    "        frecuencia_pileta['pileta'] += 1\n",
    "print(frecuencia_pileta)"
   ]
  },
  {
   "cell_type": "code",
   "execution_count": null,
   "metadata": {
    "collapsed": false,
    "jupyter": {
     "outputs_hidden": false
    },
    "pycharm": {
     "name": "#%%\n"
    }
   },
   "outputs": [],
   "source": [
    "jardin_sin_espacio = re.compile(r\"[^\\s]+jardin|espacio verde\")\n",
    "jardin_con_espacio = re.compile(r\"[^\\s]+ jardin|espacio verde\")"
   ]
  },
  {
   "cell_type": "code",
   "execution_count": null,
   "metadata": {
    "collapsed": false,
    "jupyter": {
     "outputs_hidden": false
    },
    "pycharm": {
     "name": "#%%\n"
    }
   },
   "outputs": [],
   "source": [
    "frecuencia_jardin = {'jardin': 0}\n",
    "for desc in descriptions_dataset.property_description:\n",
    "    if (len(re.findall(jardin_sin_espacio, str(desc).lower())) > 0):\n",
    "        frecuencia_jardin['jardin'] += 1\n",
    "    if (len(re.findall(jardin_con_espacio, str(desc).lower())) > 0):\n",
    "        frecuencia_jardin['jardin'] += 1\n",
    "print(frecuencia_jardin)"
   ]
  },
  {
   "cell_type": "code",
   "execution_count": null,
   "metadata": {
    "collapsed": false,
    "jupyter": {
     "outputs_hidden": false
    },
    "pycharm": {
     "name": "#%%\n"
    }
   },
   "outputs": [],
   "source": [
    "parrilla_sin_espacio = re.compile(r\"[^\\s]+parrilla|bbq\")\n",
    "parrilla_con_espacio = re.compile(r\"[^\\s]+ parrilla|bbq\")"
   ]
  },
  {
   "cell_type": "code",
   "execution_count": null,
   "metadata": {
    "collapsed": false,
    "jupyter": {
     "outputs_hidden": false
    },
    "pycharm": {
     "name": "#%%\n"
    }
   },
   "outputs": [],
   "source": [
    "frecuencia_parrilla = {'parrilla': 0}\n",
    "for desc in descriptions_dataset.property_description:\n",
    "    if (len(re.findall(parrilla_sin_espacio, str(desc).lower())) > 0):\n",
    "        frecuencia_parrilla['parrilla'] += 1\n",
    "    if (len(re.findall(parrilla_con_espacio, str(desc).lower())) > 0):\n",
    "        frecuencia_parrilla['parrilla'] += 1\n",
    "print(frecuencia_parrilla)"
   ]
  },
  {
   "cell_type": "code",
   "execution_count": null,
   "metadata": {
    "collapsed": false,
    "jupyter": {
     "outputs_hidden": false
    },
    "pycharm": {
     "name": "#%%\n"
    }
   },
   "outputs": [],
   "source": [
    "zoom_sin_espacio = re.compile(r\"[^\\s]+zoom|sum|gimansio|spa\")\n",
    "zoom_con_espacio = re.compile(r\"[^\\s]+ zoom|sum|gimansio|spa\")"
   ]
  },
  {
   "cell_type": "code",
   "execution_count": null,
   "metadata": {
    "collapsed": false,
    "jupyter": {
     "outputs_hidden": false
    },
    "pycharm": {
     "name": "#%%\n"
    }
   },
   "outputs": [],
   "source": [
    "frecuencia_zoom = {'sum': 0}\n",
    "for desc in descriptions_dataset.property_description:\n",
    "    if (len(re.findall(zoom_sin_espacio, str(desc).lower())) > 0):\n",
    "        frecuencia_zoom['sum'] += 1\n",
    "    if (len(re.findall(zoom_con_espacio, str(desc).lower())) > 0):\n",
    "        frecuencia_zoom['sum'] += 1\n",
    "print(frecuencia_zoom)"
   ]
  },
  {
   "cell_type": "markdown",
   "metadata": {
    "pycharm": {
     "name": "#%% md\n"
    }
   },
   "source": [
    "Notamos que muchas obervaciones tenian el dato de si contaban o no con balcon asi que decidimos agregarlo al analisis para poder ver si encontramos una correlacion que nos de mas informacion con lo que respecta al balcon y a la superifice total versus la superificie cubierta y el precio de venta de cada vivienda."
   ]
  },
  {
   "cell_type": "code",
   "execution_count": null,
   "metadata": {
    "collapsed": false,
    "jupyter": {
     "outputs_hidden": false
    },
    "pycharm": {
     "name": "#%%\n"
    }
   },
   "outputs": [],
   "source": [
    "balcon_sin_espacio = re.compile(r\"[^\\s]+balcon\")\n",
    "balcon_con_espacio = re.compile(r\"[^\\s]+ balcon\")"
   ]
  },
  {
   "cell_type": "code",
   "execution_count": null,
   "metadata": {
    "collapsed": false,
    "jupyter": {
     "outputs_hidden": false
    },
    "pycharm": {
     "name": "#%%\n"
    }
   },
   "outputs": [],
   "source": [
    "frecuencia_balcon= {'balcon': 0}\n",
    "for desc in descriptions_dataset.property_description:\n",
    "    if (len(re.findall(balcon_sin_espacio, str(desc).lower())) > 0):\n",
    "        frecuencia_balcon['balcon'] += 1\n",
    "    if (len(re.findall(balcon_con_espacio, str(desc).lower())) > 0):\n",
    "        frecuencia_balcon['balcon'] += 1\n",
    "print(frecuencia_balcon)"
   ]
  },
  {
   "cell_type": "markdown",
   "metadata": {
    "pycharm": {
     "name": "#%% md\n"
    }
   },
   "source": [
    "Otro factor interesante que podriamos analizar es a que tipo de vivienda pertenece cada ammenity. Y si donde encontramos una ammenity en particular, encontramos consecuentemente otra. Por ejemplo, una casa con jardin y parrila y/o pileta.\n",
    "De esta manera podriamos tratar de determinar el costo de cada ammenity o como afecta al precio."
   ]
  },
  {
   "cell_type": "markdown",
   "metadata": {
    "pycharm": {
     "name": "#%% md\n"
    }
   },
   "source": [
    "#### Tecnica Open Information Extraction"
   ]
  },
  {
   "cell_type": "markdown",
   "metadata": {
    "pycharm": {
     "name": "#%% md\n"
    }
   },
   "source": [
    "#### Modelos"
   ]
  },
  {
   "cell_type": "markdown",
   "metadata": {
    "pycharm": {
     "name": "#%% md\n"
    }
   },
   "source": [
    "## Redes Neuronales"
   ]
  },
  {
   "cell_type": "markdown",
   "metadata": {
    "pycharm": {
     "name": "#%% md\n"
    }
   },
   "source": [
    "### Regresión"
   ]
  },
  {
   "cell_type": "markdown",
   "metadata": {
    "pycharm": {
     "name": "#%% md\n"
    }
   },
   "source": [
    "### Regresión"
   ]
  },
  {
   "cell_type": "markdown",
   "metadata": {
    "pycharm": {
     "name": "#%% md\n"
    }
   },
   "source": [
    "### Clasificación"
   ]
  },
  {
   "cell_type": "markdown",
   "metadata": {
    "pycharm": {
     "name": "#%% md\n"
    }
   },
   "source": [
    "#### Construcción del target"
   ]
  },
  {
   "cell_type": "markdown",
   "metadata": {
    "pycharm": {
     "name": "#%% md\n"
    }
   },
   "source": [
    "#### Modelo"
   ]
  },
  {
   "cell_type": "markdown",
   "metadata": {
    "jp-MarkdownHeadingCollapsed": true,
    "pycharm": {
     "name": "#%% md\n"
    },
    "tags": []
   },
   "source": [
    "## Ensambles de modelos"
   ]
  },
  {
   "cell_type": "markdown",
   "metadata": {
    "pycharm": {
     "name": "#%% md\n"
    }
   },
   "source": [
    "### Ensamble 1"
   ]
  },
  {
   "cell_type": "markdown",
   "metadata": {
    "pycharm": {
     "name": "#%% md\n"
    }
   },
   "source": [
    "### Ensamble 2"
   ]
  },
  {
   "cell_type": "markdown",
   "metadata": {
    "jp-MarkdownHeadingCollapsed": true,
    "pycharm": {
     "name": "#%% md\n"
    },
    "tags": []
   },
   "source": [
    "## Conclusiones"
   ]
  }
 ],
 "metadata": {
  "kernelspec": {
   "display_name": "Python 3 (ipykernel)",
   "language": "python",
   "name": "python3"
  },
  "language_info": {
   "codemirror_mode": {
    "name": "ipython",
    "version": 3
   },
   "file_extension": ".py",
   "mimetype": "text/x-python",
   "name": "python",
   "nbconvert_exporter": "python",
   "pygments_lexer": "ipython3",
   "version": "3.9.12"
  }
 },
 "nbformat": 4,
 "nbformat_minor": 4
}

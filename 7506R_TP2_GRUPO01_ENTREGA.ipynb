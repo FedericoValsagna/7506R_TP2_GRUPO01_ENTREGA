{
 "cells": [
  {
   "cell_type": "markdown",
   "metadata": {
    "pycharm": {
     "name": "#%% md\n"
    }
   },
   "source": [
    "# 7506 - Trabajo Práctico 2"
   ]
  },
  {
   "cell_type": "markdown",
   "metadata": {
    "pycharm": {
     "name": "#%% md\n"
    }
   },
   "source": [
    "---"
   ]
  },
  {
   "cell_type": "markdown",
   "metadata": {
    "pycharm": {
     "name": "#%% md\n"
    }
   },
   "source": [
    "## Introducción"
   ]
  },
  {
   "cell_type": "markdown",
   "metadata": {
    "pycharm": {
     "name": "#%% md\n"
    }
   },
   "source": [
    "### Librerías"
   ]
  },
  {
   "cell_type": "code",
   "execution_count": 1,
   "metadata": {
    "collapsed": false,
    "jupyter": {
     "outputs_hidden": false
    },
    "pycharm": {
     "name": "#%%\n"
    }
   },
   "outputs": [],
   "source": [
    "import re\n",
    "\n",
    "import matplotlib.pyplot as plt\n",
    "import numpy as np\n",
    "import pandas as pd\n",
    "import plotly.graph_objects as go\n",
    "import seaborn as sns\n",
    "import sklearn as sk\n",
    "from joblib import load\n",
    "from sklearn.ensemble import RandomForestRegressor, StackingRegressor\n",
    "from sklearn.ensemble import VotingClassifier\n",
    "from sklearn.linear_model import LinearRegression\n",
    "from sklearn.metrics import *\n",
    "from sklearn.metrics import mean_squared_error\n",
    "from sklearn.model_selection import KFold, RandomizedSearchCV\n",
    "from sklearn.model_selection import RepeatedStratifiedKFold\n",
    "from sklearn.model_selection import cross_val_score\n",
    "from sklearn.neighbors import KNeighborsClassifier\n",
    "from sklearn.neighbors import KNeighborsRegressor\n",
    "from sklearn.preprocessing import OneHotEncoder\n",
    "from sklearn.preprocessing import StandardScaler\n",
    "from sklearn.svm import SVC\n",
    "from sklearn.svm import SVR\n",
    "from tensorflow import keras"
   ]
  },
  {
   "cell_type": "markdown",
   "metadata": {
    "pycharm": {
     "name": "#%% md\n"
    }
   },
   "source": [
    "### Carga de datasets"
   ]
  },
  {
   "cell_type": "code",
   "execution_count": 2,
   "metadata": {
    "collapsed": false,
    "jupyter": {
     "outputs_hidden": false
    },
    "pycharm": {
     "name": "#%%\n"
    }
   },
   "outputs": [
    {
     "data": {
      "text/html": [
       "<div>\n",
       "<style scoped>\n",
       "    .dataframe tbody tr th:only-of-type {\n",
       "        vertical-align: middle;\n",
       "    }\n",
       "\n",
       "    .dataframe tbody tr th {\n",
       "        vertical-align: top;\n",
       "    }\n",
       "\n",
       "    .dataframe thead th {\n",
       "        text-align: right;\n",
       "    }\n",
       "</style>\n",
       "<table border=\"1\" class=\"dataframe\">\n",
       "  <thead>\n",
       "    <tr style=\"text-align: right;\">\n",
       "      <th></th>\n",
       "      <th>id</th>\n",
       "      <th>start_date</th>\n",
       "      <th>end_date</th>\n",
       "      <th>latitud</th>\n",
       "      <th>longitud</th>\n",
       "      <th>place_l3</th>\n",
       "      <th>property_type</th>\n",
       "      <th>property_rooms</th>\n",
       "      <th>property_bedrooms</th>\n",
       "      <th>property_surface_total</th>\n",
       "      <th>property_surface_covered</th>\n",
       "      <th>property_price</th>\n",
       "      <th>property_title</th>\n",
       "      <th>pxm2</th>\n",
       "      <th>tipo_precio</th>\n",
       "    </tr>\n",
       "  </thead>\n",
       "  <tbody>\n",
       "    <tr>\n",
       "      <th>0</th>\n",
       "      <td>GaA1Loss98RkxbEZq2wZpQ==</td>\n",
       "      <td>2021-08-30</td>\n",
       "      <td>2022-01-27</td>\n",
       "      <td>-34.551623</td>\n",
       "      <td>-58.491771</td>\n",
       "      <td>Saavedra</td>\n",
       "      <td>Departamento</td>\n",
       "      <td>1.0</td>\n",
       "      <td>1.0</td>\n",
       "      <td>37.0</td>\n",
       "      <td>33.0</td>\n",
       "      <td>90000.0</td>\n",
       "      <td>Departamento - 1 amb divisible-Saavedra</td>\n",
       "      <td>2432.432432</td>\n",
       "      <td>Medio</td>\n",
       "    </tr>\n",
       "    <tr>\n",
       "      <th>1</th>\n",
       "      <td>Tp+fdnNQpNzXUFo7W3q3vA==</td>\n",
       "      <td>2021-01-11</td>\n",
       "      <td>2021-02-11</td>\n",
       "      <td>-34.576289</td>\n",
       "      <td>-58.463635</td>\n",
       "      <td>Villa Ortuzar</td>\n",
       "      <td>PH</td>\n",
       "      <td>3.0</td>\n",
       "      <td>2.0</td>\n",
       "      <td>144.0</td>\n",
       "      <td>144.0</td>\n",
       "      <td>214600.0</td>\n",
       "      <td>Venta PH 3 ambientes patio y gran terraza sin ...</td>\n",
       "      <td>1490.277778</td>\n",
       "      <td>Medio</td>\n",
       "    </tr>\n",
       "    <tr>\n",
       "      <th>2</th>\n",
       "      <td>CR+neBgmAEDSo9LxI0x5iw==</td>\n",
       "      <td>2021-04-12</td>\n",
       "      <td>2021-06-05</td>\n",
       "      <td>-34.600150</td>\n",
       "      <td>-58.378244</td>\n",
       "      <td>San Nicolás</td>\n",
       "      <td>Departamento</td>\n",
       "      <td>2.0</td>\n",
       "      <td>1.0</td>\n",
       "      <td>46.0</td>\n",
       "      <td>41.0</td>\n",
       "      <td>63000.0</td>\n",
       "      <td>Departamento - San Nicolas</td>\n",
       "      <td>1369.565217</td>\n",
       "      <td>Bajo</td>\n",
       "    </tr>\n",
       "    <tr>\n",
       "      <th>3</th>\n",
       "      <td>chtUpatpDQQL247Lt+Np2g==</td>\n",
       "      <td>2021-01-16</td>\n",
       "      <td>9999-12-31</td>\n",
       "      <td>-34.641450</td>\n",
       "      <td>-58.372804</td>\n",
       "      <td>Barracas</td>\n",
       "      <td>Departamento</td>\n",
       "      <td>4.0</td>\n",
       "      <td>3.0</td>\n",
       "      <td>65.0</td>\n",
       "      <td>65.0</td>\n",
       "      <td>102000.0</td>\n",
       "      <td>Departamento - Barracas</td>\n",
       "      <td>1569.230769</td>\n",
       "      <td>Bajo</td>\n",
       "    </tr>\n",
       "    <tr>\n",
       "      <th>4</th>\n",
       "      <td>q6JgVplw0pYiAx/nlX/EVQ==</td>\n",
       "      <td>2021-03-24</td>\n",
       "      <td>2021-06-05</td>\n",
       "      <td>-34.629050</td>\n",
       "      <td>-58.468088</td>\n",
       "      <td>Flores</td>\n",
       "      <td>Casa</td>\n",
       "      <td>5.0</td>\n",
       "      <td>4.0</td>\n",
       "      <td>215.0</td>\n",
       "      <td>155.0</td>\n",
       "      <td>285000.0</td>\n",
       "      <td>Casa - Excelente propiedas en Flores unica por...</td>\n",
       "      <td>1325.581395</td>\n",
       "      <td>Medio</td>\n",
       "    </tr>\n",
       "  </tbody>\n",
       "</table>\n",
       "</div>"
      ],
      "text/plain": [
       "                         id  start_date    end_date    latitud   longitud  \\\n",
       "0  GaA1Loss98RkxbEZq2wZpQ==  2021-08-30  2022-01-27 -34.551623 -58.491771   \n",
       "1  Tp+fdnNQpNzXUFo7W3q3vA==  2021-01-11  2021-02-11 -34.576289 -58.463635   \n",
       "2  CR+neBgmAEDSo9LxI0x5iw==  2021-04-12  2021-06-05 -34.600150 -58.378244   \n",
       "3  chtUpatpDQQL247Lt+Np2g==  2021-01-16  9999-12-31 -34.641450 -58.372804   \n",
       "4  q6JgVplw0pYiAx/nlX/EVQ==  2021-03-24  2021-06-05 -34.629050 -58.468088   \n",
       "\n",
       "        place_l3 property_type  property_rooms  property_bedrooms  \\\n",
       "0       Saavedra  Departamento             1.0                1.0   \n",
       "1  Villa Ortuzar            PH             3.0                2.0   \n",
       "2    San Nicolás  Departamento             2.0                1.0   \n",
       "3       Barracas  Departamento             4.0                3.0   \n",
       "4         Flores          Casa             5.0                4.0   \n",
       "\n",
       "   property_surface_total  property_surface_covered  property_price  \\\n",
       "0                    37.0                      33.0         90000.0   \n",
       "1                   144.0                     144.0        214600.0   \n",
       "2                    46.0                      41.0         63000.0   \n",
       "3                    65.0                      65.0        102000.0   \n",
       "4                   215.0                     155.0        285000.0   \n",
       "\n",
       "                                      property_title         pxm2 tipo_precio  \n",
       "0            Departamento - 1 amb divisible-Saavedra  2432.432432       Medio  \n",
       "1  Venta PH 3 ambientes patio y gran terraza sin ...  1490.277778       Medio  \n",
       "2                         Departamento - San Nicolas  1369.565217        Bajo  \n",
       "3                            Departamento - Barracas  1569.230769        Bajo  \n",
       "4  Casa - Excelente propiedas en Flores unica por...  1325.581395       Medio  "
      ]
     },
     "execution_count": 2,
     "metadata": {},
     "output_type": "execute_result"
    }
   ],
   "source": [
    "# Dataset Train preprocesado\n",
    "ds_train = pd.read_csv('datasets/tp1-train.csv')\n",
    "ds_train.head()"
   ]
  },
  {
   "cell_type": "code",
   "execution_count": 3,
   "metadata": {
    "collapsed": false,
    "jupyter": {
     "outputs_hidden": false
    },
    "pycharm": {
     "name": "#%%\n"
    }
   },
   "outputs": [
    {
     "data": {
      "text/html": [
       "<div>\n",
       "<style scoped>\n",
       "    .dataframe tbody tr th:only-of-type {\n",
       "        vertical-align: middle;\n",
       "    }\n",
       "\n",
       "    .dataframe tbody tr th {\n",
       "        vertical-align: top;\n",
       "    }\n",
       "\n",
       "    .dataframe thead th {\n",
       "        text-align: right;\n",
       "    }\n",
       "</style>\n",
       "<table border=\"1\" class=\"dataframe\">\n",
       "  <thead>\n",
       "    <tr style=\"text-align: right;\">\n",
       "      <th></th>\n",
       "      <th>id</th>\n",
       "      <th>start_date</th>\n",
       "      <th>end_date</th>\n",
       "      <th>latitud</th>\n",
       "      <th>longitud</th>\n",
       "      <th>place_l3</th>\n",
       "      <th>property_type</th>\n",
       "      <th>property_rooms</th>\n",
       "      <th>property_bedrooms</th>\n",
       "      <th>property_surface_total</th>\n",
       "      <th>property_surface_covered</th>\n",
       "      <th>property_price</th>\n",
       "      <th>property_title</th>\n",
       "      <th>pxm2</th>\n",
       "      <th>tipo_precio</th>\n",
       "    </tr>\n",
       "  </thead>\n",
       "  <tbody>\n",
       "    <tr>\n",
       "      <th>0</th>\n",
       "      <td>GrZ64pCxiOhtCZq4KgqxoQ==</td>\n",
       "      <td>2021-05-07</td>\n",
       "      <td>2021-05-08</td>\n",
       "      <td>-34.565080</td>\n",
       "      <td>-58.464190</td>\n",
       "      <td>Belgrano</td>\n",
       "      <td>Departamento</td>\n",
       "      <td>2.0</td>\n",
       "      <td>1.0</td>\n",
       "      <td>48.0</td>\n",
       "      <td>37.0</td>\n",
       "      <td>120000.0</td>\n",
       "      <td>Loft de dos ambientes con balcón y patio!</td>\n",
       "      <td>2500.000000</td>\n",
       "      <td>Medio</td>\n",
       "    </tr>\n",
       "    <tr>\n",
       "      <th>1</th>\n",
       "      <td>OHosCWo/KF1eK/6CmBdUQw==</td>\n",
       "      <td>2021-08-24</td>\n",
       "      <td>2021-08-24</td>\n",
       "      <td>-34.593059</td>\n",
       "      <td>-58.406758</td>\n",
       "      <td>Barrio Norte</td>\n",
       "      <td>Departamento</td>\n",
       "      <td>3.0</td>\n",
       "      <td>2.0</td>\n",
       "      <td>122.0</td>\n",
       "      <td>97.0</td>\n",
       "      <td>295000.0</td>\n",
       "      <td>DEPARTAMENTO 3 AMB C/DEPENDENCIA, PATIO Y COCHERA</td>\n",
       "      <td>2418.032787</td>\n",
       "      <td>Medio</td>\n",
       "    </tr>\n",
       "    <tr>\n",
       "      <th>2</th>\n",
       "      <td>Y8K7ZUBw9NZCyJoQ3p5/ww==</td>\n",
       "      <td>2021-07-21</td>\n",
       "      <td>2021-11-28</td>\n",
       "      <td>-34.563755</td>\n",
       "      <td>-58.439019</td>\n",
       "      <td>Palermo</td>\n",
       "      <td>PH</td>\n",
       "      <td>2.0</td>\n",
       "      <td>1.0</td>\n",
       "      <td>44.0</td>\n",
       "      <td>35.0</td>\n",
       "      <td>95000.0</td>\n",
       "      <td>LACROZE 1700 - PH EN VENTA 2 AMB - A RECICLAR</td>\n",
       "      <td>2159.090909</td>\n",
       "      <td>Alto</td>\n",
       "    </tr>\n",
       "    <tr>\n",
       "      <th>3</th>\n",
       "      <td>/G46ns24536LY6XTnM7F3Q==</td>\n",
       "      <td>2021-02-05</td>\n",
       "      <td>2021-02-05</td>\n",
       "      <td>-34.590534</td>\n",
       "      <td>-58.411562</td>\n",
       "      <td>Palermo</td>\n",
       "      <td>Departamento</td>\n",
       "      <td>3.0</td>\n",
       "      <td>2.0</td>\n",
       "      <td>106.0</td>\n",
       "      <td>93.0</td>\n",
       "      <td>235000.0</td>\n",
       "      <td>Departamento 3 Ambientes con dependencia, baño...</td>\n",
       "      <td>2216.981132</td>\n",
       "      <td>Medio</td>\n",
       "    </tr>\n",
       "    <tr>\n",
       "      <th>4</th>\n",
       "      <td>bjEF6kjPBNijD/SWCGXs1Q==</td>\n",
       "      <td>2021-01-21</td>\n",
       "      <td>2021-03-17</td>\n",
       "      <td>-34.609729</td>\n",
       "      <td>-58.421587</td>\n",
       "      <td>Almagro</td>\n",
       "      <td>Departamento</td>\n",
       "      <td>1.0</td>\n",
       "      <td>1.0</td>\n",
       "      <td>25.0</td>\n",
       "      <td>25.0</td>\n",
       "      <td>50000.0</td>\n",
       "      <td>BME. MITRE Y MEDRANO - Almagro</td>\n",
       "      <td>2000.000000</td>\n",
       "      <td>Medio</td>\n",
       "    </tr>\n",
       "  </tbody>\n",
       "</table>\n",
       "</div>"
      ],
      "text/plain": [
       "                         id  start_date    end_date    latitud   longitud  \\\n",
       "0  GrZ64pCxiOhtCZq4KgqxoQ==  2021-05-07  2021-05-08 -34.565080 -58.464190   \n",
       "1  OHosCWo/KF1eK/6CmBdUQw==  2021-08-24  2021-08-24 -34.593059 -58.406758   \n",
       "2  Y8K7ZUBw9NZCyJoQ3p5/ww==  2021-07-21  2021-11-28 -34.563755 -58.439019   \n",
       "3  /G46ns24536LY6XTnM7F3Q==  2021-02-05  2021-02-05 -34.590534 -58.411562   \n",
       "4  bjEF6kjPBNijD/SWCGXs1Q==  2021-01-21  2021-03-17 -34.609729 -58.421587   \n",
       "\n",
       "       place_l3 property_type  property_rooms  property_bedrooms  \\\n",
       "0      Belgrano  Departamento             2.0                1.0   \n",
       "1  Barrio Norte  Departamento             3.0                2.0   \n",
       "2       Palermo            PH             2.0                1.0   \n",
       "3       Palermo  Departamento             3.0                2.0   \n",
       "4       Almagro  Departamento             1.0                1.0   \n",
       "\n",
       "   property_surface_total  property_surface_covered  property_price  \\\n",
       "0                    48.0                      37.0        120000.0   \n",
       "1                   122.0                      97.0        295000.0   \n",
       "2                    44.0                      35.0         95000.0   \n",
       "3                   106.0                      93.0        235000.0   \n",
       "4                    25.0                      25.0         50000.0   \n",
       "\n",
       "                                      property_title         pxm2 tipo_precio  \n",
       "0          Loft de dos ambientes con balcón y patio!  2500.000000       Medio  \n",
       "1  DEPARTAMENTO 3 AMB C/DEPENDENCIA, PATIO Y COCHERA  2418.032787       Medio  \n",
       "2      LACROZE 1700 - PH EN VENTA 2 AMB - A RECICLAR  2159.090909        Alto  \n",
       "3  Departamento 3 Ambientes con dependencia, baño...  2216.981132       Medio  \n",
       "4                     BME. MITRE Y MEDRANO - Almagro  2000.000000       Medio  "
      ]
     },
     "execution_count": 3,
     "metadata": {},
     "output_type": "execute_result"
    }
   ],
   "source": [
    "# Dataset Test preprocesado\n",
    "ds_test = pd.read_csv('datasets/tp1-test.csv')\n",
    "ds_test.head()"
   ]
  },
  {
   "cell_type": "markdown",
   "metadata": {
    "pycharm": {
     "name": "#%% md\n"
    }
   },
   "source": [
    "## Procesamiento del lenguaje natural"
   ]
  },
  {
   "cell_type": "markdown",
   "metadata": {
    "pycharm": {
     "name": "#%% md\n"
    }
   },
   "source": [
    "### Ampliación del dataset"
   ]
  },
  {
   "cell_type": "markdown",
   "metadata": {
    "pycharm": {
     "name": "#%% md\n"
    }
   },
   "source": [
    "Este dataset incluye descripciones de las propiedades del otro dataset. Veremos como podemos extraer información de estas descripciones."
   ]
  },
  {
   "cell_type": "code",
   "execution_count": 4,
   "metadata": {
    "collapsed": false,
    "jupyter": {
     "outputs_hidden": false
    },
    "pycharm": {
     "name": "#%%\n"
    }
   },
   "outputs": [
    {
     "data": {
      "text/html": [
       "<div>\n",
       "<style scoped>\n",
       "    .dataframe tbody tr th:only-of-type {\n",
       "        vertical-align: middle;\n",
       "    }\n",
       "\n",
       "    .dataframe tbody tr th {\n",
       "        vertical-align: top;\n",
       "    }\n",
       "\n",
       "    .dataframe thead th {\n",
       "        text-align: right;\n",
       "    }\n",
       "</style>\n",
       "<table border=\"1\" class=\"dataframe\">\n",
       "  <thead>\n",
       "    <tr style=\"text-align: right;\">\n",
       "      <th></th>\n",
       "      <th>id</th>\n",
       "      <th>property_description</th>\n",
       "    </tr>\n",
       "  </thead>\n",
       "  <tbody>\n",
       "    <tr>\n",
       "      <th>0</th>\n",
       "      <td>BZCeiGkJr1WBUi6pKJQwJQ==</td>\n",
       "      <td>Corredor Responsable: MARIA ALEJANDRA GENOVEVA...</td>\n",
       "    </tr>\n",
       "    <tr>\n",
       "      <th>1</th>\n",
       "      <td>zuHOGgUE0UB71W7m/YCLoA==</td>\n",
       "      <td>¡HERMOSO PH TIPO CASA DE 2 AMBIENTES!&lt;br&gt;APTO ...</td>\n",
       "    </tr>\n",
       "    <tr>\n",
       "      <th>2</th>\n",
       "      <td>TUL813tXchVBlHUsfaA6DA==</td>\n",
       "      <td>Excelente PH en Núñez 4 amb!!!! Oportunidad !!...</td>\n",
       "    </tr>\n",
       "    <tr>\n",
       "      <th>3</th>\n",
       "      <td>gn55JPmcjftBV/at1a7fPg==</td>\n",
       "      <td>UNICO PH DE 4 DORMITORIOS EN IMPECABLE ESTADO,...</td>\n",
       "    </tr>\n",
       "    <tr>\n",
       "      <th>4</th>\n",
       "      <td>qg4m3QHcuo1+wMmyp7kx3Q==</td>\n",
       "      <td>Ph 2 Amb. Villa Crespo exclusivo uso profesion...</td>\n",
       "    </tr>\n",
       "  </tbody>\n",
       "</table>\n",
       "</div>"
      ],
      "text/plain": [
       "                         id                               property_description\n",
       "0  BZCeiGkJr1WBUi6pKJQwJQ==  Corredor Responsable: MARIA ALEJANDRA GENOVEVA...\n",
       "1  zuHOGgUE0UB71W7m/YCLoA==  ¡HERMOSO PH TIPO CASA DE 2 AMBIENTES!<br>APTO ...\n",
       "2  TUL813tXchVBlHUsfaA6DA==  Excelente PH en Núñez 4 amb!!!! Oportunidad !!...\n",
       "3  gn55JPmcjftBV/at1a7fPg==  UNICO PH DE 4 DORMITORIOS EN IMPECABLE ESTADO,...\n",
       "4  qg4m3QHcuo1+wMmyp7kx3Q==  Ph 2 Amb. Villa Crespo exclusivo uso profesion..."
      ]
     },
     "execution_count": 4,
     "metadata": {},
     "output_type": "execute_result"
    }
   ],
   "source": [
    "descriptions_dataset = pd.read_csv('datasets/properati_argentina_2021_decrip.csv')\n",
    "descriptions_dataset.head()"
   ]
  },
  {
   "cell_type": "markdown",
   "metadata": {
    "pycharm": {
     "name": "#%% md\n"
    }
   },
   "source": [
    "Tomaremos las descripciones correspondientes a los datasets de train y test"
   ]
  },
  {
   "cell_type": "code",
   "execution_count": 5,
   "metadata": {
    "collapsed": false,
    "jupyter": {
     "outputs_hidden": false
    },
    "pycharm": {
     "name": "#%%\n"
    }
   },
   "outputs": [
    {
     "data": {
      "text/plain": [
       "((69715, 2), (10648, 2))"
      ]
     },
     "execution_count": 5,
     "metadata": {},
     "output_type": "execute_result"
    }
   ],
   "source": [
    "descriptions_train = descriptions_dataset[descriptions_dataset.id.isin(ds_train.id)].copy()\n",
    "descriptions_test = descriptions_dataset[descriptions_dataset.id.isin(ds_test.id)].copy()\n",
    "descriptions_train.shape, descriptions_test.shape"
   ]
  },
  {
   "cell_type": "markdown",
   "metadata": {
    "pycharm": {
     "name": "#%% md\n"
    }
   },
   "source": [
    "#### Análisis de sentimientos - Tecnica Minqing Hu y Bing Liu"
   ]
  },
  {
   "cell_type": "markdown",
   "metadata": {
    "pycharm": {
     "name": "#%% md\n"
    }
   },
   "source": [
    "Una forma de analizar el sentimiento de un de un texto es considerando su sentimiento como la suma de los sentimientos de cada una de las palabras que lo forman.\n",
    "\n",
    "Para el analisis de sentimiento nos guiamos del analisis realizado en esta pagina: https://www.cienciadedatos.net/documentos/py25-text-mining-python.html\n",
    "\n",
    "Utilizamos algunas funciones de tokenizacion y limpieza de ahi con alguna sutil modificacion para nuestro caso de uso en particular."
   ]
  },
  {
   "cell_type": "code",
   "execution_count": 6,
   "metadata": {
    "collapsed": false,
    "jupyter": {
     "outputs_hidden": false
    },
    "pycharm": {
     "name": "#%%\n"
    }
   },
   "outputs": [],
   "source": [
    "def limpiar_tokenizar(texto):\n",
    "    '''\n",
    "    Esta función limpia y tokeniza el texto en palabras individuales.\n",
    "    El orden en el que se va limpiando el texto no es arbitrario.\n",
    "    El listado de signos de puntuación se ha obtenido de: print(string.punctuation)\n",
    "    y re.escape(string.punctuation)\n",
    "    '''\n",
    "\n",
    "    # Se convierte todo el texto a minúsculas\n",
    "    nuevo_texto = str(texto).lower()\n",
    "    # Eliminación de páginas web (palabras que empiezan por \"http\")\n",
    "    nuevo_texto = re.sub('http\\S+', ' ', nuevo_texto)\n",
    "    # Eliminación de signos de puntuación\n",
    "    regex = '[\\\\!\\\\¡\\\\\"\\\\#\\\\$\\\\%\\\\&\\\\\\'\\\\(\\\\)\\\\*\\\\+\\\\,\\\\-\\\\.\\\\/\\\\:\\\\;\\\\<\\\\=\\\\>\\\\?\\\\@\\\\[\\\\\\\\\\\\]\\\\^_\\\\`\\\\{\\\\|\\\\}\\\\~]'\n",
    "    nuevo_texto = re.sub(regex, ' ', nuevo_texto)\n",
    "    # Eliminación de números\n",
    "    nuevo_texto = re.sub(\"\\d+\", ' ', nuevo_texto)\n",
    "    # Eliminación de espacios en blanco múltiples\n",
    "    nuevo_texto = re.sub(\"\\\\s+\", ' ', nuevo_texto)\n",
    "    # Tokenización por palabras individuales\n",
    "    nuevo_texto = nuevo_texto.split(sep=' ')\n",
    "    # Eliminación de tokens con una longitud < 2\n",
    "    nuevo_texto = [token for token in nuevo_texto if len(token) > 1]\n",
    "\n",
    "    return (nuevo_texto)"
   ]
  },
  {
   "cell_type": "code",
   "execution_count": 7,
   "metadata": {
    "collapsed": false,
    "jupyter": {
     "outputs_hidden": false
    },
    "pycharm": {
     "name": "#%%\n"
    }
   },
   "outputs": [
    {
     "data": {
      "text/html": [
       "<div>\n",
       "<style scoped>\n",
       "    .dataframe tbody tr th:only-of-type {\n",
       "        vertical-align: middle;\n",
       "    }\n",
       "\n",
       "    .dataframe tbody tr th {\n",
       "        vertical-align: top;\n",
       "    }\n",
       "\n",
       "    .dataframe thead th {\n",
       "        text-align: right;\n",
       "    }\n",
       "</style>\n",
       "<table border=\"1\" class=\"dataframe\">\n",
       "  <thead>\n",
       "    <tr style=\"text-align: right;\">\n",
       "      <th></th>\n",
       "      <th>id</th>\n",
       "      <th>property_description</th>\n",
       "    </tr>\n",
       "  </thead>\n",
       "  <tbody>\n",
       "    <tr>\n",
       "      <th>0</th>\n",
       "      <td>BZCeiGkJr1WBUi6pKJQwJQ==</td>\n",
       "      <td>[corredor, responsable, maria, alejandra, geno...</td>\n",
       "    </tr>\n",
       "    <tr>\n",
       "      <th>3</th>\n",
       "      <td>gn55JPmcjftBV/at1a7fPg==</td>\n",
       "      <td>[unico, ph, de, dormitorios, en, impecable, es...</td>\n",
       "    </tr>\n",
       "    <tr>\n",
       "      <th>11</th>\n",
       "      <td>uH5H+RfQM87Qtrb13+T4hA==</td>\n",
       "      <td>[venta, ph, ambientes, paternal, br, br, cálid...</td>\n",
       "    </tr>\n",
       "    <tr>\n",
       "      <th>13</th>\n",
       "      <td>47t2G764+Gk5EkoUiVc7Qg==</td>\n",
       "      <td>[ph, al, frente, super, luminoso, br, baño, co...</td>\n",
       "    </tr>\n",
       "    <tr>\n",
       "      <th>15</th>\n",
       "      <td>lRVjhy5UZA9SOOLnfLJ6jA==</td>\n",
       "      <td>[permuta, ventan, ph, de, ambientes, nuevo, as...</td>\n",
       "    </tr>\n",
       "  </tbody>\n",
       "</table>\n",
       "</div>"
      ],
      "text/plain": [
       "                          id  \\\n",
       "0   BZCeiGkJr1WBUi6pKJQwJQ==   \n",
       "3   gn55JPmcjftBV/at1a7fPg==   \n",
       "11  uH5H+RfQM87Qtrb13+T4hA==   \n",
       "13  47t2G764+Gk5EkoUiVc7Qg==   \n",
       "15  lRVjhy5UZA9SOOLnfLJ6jA==   \n",
       "\n",
       "                                 property_description  \n",
       "0   [corredor, responsable, maria, alejandra, geno...  \n",
       "3   [unico, ph, de, dormitorios, en, impecable, es...  \n",
       "11  [venta, ph, ambientes, paternal, br, br, cálid...  \n",
       "13  [ph, al, frente, super, luminoso, br, baño, co...  \n",
       "15  [permuta, ventan, ph, de, ambientes, nuevo, as...  "
      ]
     },
     "execution_count": 7,
     "metadata": {},
     "output_type": "execute_result"
    }
   ],
   "source": [
    "# se aplica la función de limpieza a train y test y tokenización a cada descripcion\n",
    "\n",
    "tokenized_train = pd.concat(\n",
    "    [descriptions_train.id, descriptions_train['property_description'].apply(limpiar_tokenizar)], axis=1)\n",
    "tokenized_test = pd.concat([descriptions_test.id, descriptions_test['property_description'].apply(limpiar_tokenizar)],\n",
    "                           axis=1)\n",
    "tokenized_train.head()"
   ]
  },
  {
   "cell_type": "markdown",
   "metadata": {
    "pycharm": {
     "name": "#%% md\n"
    }
   },
   "source": [
    "Separamos los tokens según ids tanto en train como en test."
   ]
  },
  {
   "cell_type": "code",
   "execution_count": 8,
   "metadata": {
    "collapsed": false,
    "jupyter": {
     "outputs_hidden": false
    },
    "pycharm": {
     "name": "#%%\n"
    }
   },
   "outputs": [
    {
     "data": {
      "text/html": [
       "<div>\n",
       "<style scoped>\n",
       "    .dataframe tbody tr th:only-of-type {\n",
       "        vertical-align: middle;\n",
       "    }\n",
       "\n",
       "    .dataframe tbody tr th {\n",
       "        vertical-align: top;\n",
       "    }\n",
       "\n",
       "    .dataframe thead th {\n",
       "        text-align: right;\n",
       "    }\n",
       "</style>\n",
       "<table border=\"1\" class=\"dataframe\">\n",
       "  <thead>\n",
       "    <tr style=\"text-align: right;\">\n",
       "      <th></th>\n",
       "      <th>id</th>\n",
       "      <th>token</th>\n",
       "    </tr>\n",
       "  </thead>\n",
       "  <tbody>\n",
       "    <tr>\n",
       "      <th>0</th>\n",
       "      <td>BZCeiGkJr1WBUi6pKJQwJQ==</td>\n",
       "      <td>corredor</td>\n",
       "    </tr>\n",
       "    <tr>\n",
       "      <th>1</th>\n",
       "      <td>BZCeiGkJr1WBUi6pKJQwJQ==</td>\n",
       "      <td>responsable</td>\n",
       "    </tr>\n",
       "    <tr>\n",
       "      <th>2</th>\n",
       "      <td>BZCeiGkJr1WBUi6pKJQwJQ==</td>\n",
       "      <td>maria</td>\n",
       "    </tr>\n",
       "    <tr>\n",
       "      <th>3</th>\n",
       "      <td>BZCeiGkJr1WBUi6pKJQwJQ==</td>\n",
       "      <td>alejandra</td>\n",
       "    </tr>\n",
       "    <tr>\n",
       "      <th>4</th>\n",
       "      <td>BZCeiGkJr1WBUi6pKJQwJQ==</td>\n",
       "      <td>genoveva</td>\n",
       "    </tr>\n",
       "  </tbody>\n",
       "</table>\n",
       "</div>"
      ],
      "text/plain": [
       "                         id        token\n",
       "0  BZCeiGkJr1WBUi6pKJQwJQ==     corredor\n",
       "1  BZCeiGkJr1WBUi6pKJQwJQ==  responsable\n",
       "2  BZCeiGkJr1WBUi6pKJQwJQ==        maria\n",
       "3  BZCeiGkJr1WBUi6pKJQwJQ==    alejandra\n",
       "4  BZCeiGkJr1WBUi6pKJQwJQ==     genoveva"
      ]
     },
     "execution_count": 8,
     "metadata": {},
     "output_type": "execute_result"
    }
   ],
   "source": [
    "tokens_train = tokenized_train.explode(column='property_description')\n",
    "tokens_train = tokens_train.rename(columns={'property_description': 'token'})\n",
    "tokens_train.reset_index(inplace=True, drop=True)\n",
    "tokens_train.head()"
   ]
  },
  {
   "cell_type": "code",
   "execution_count": 9,
   "metadata": {
    "collapsed": false,
    "jupyter": {
     "outputs_hidden": false
    },
    "pycharm": {
     "name": "#%%\n"
    }
   },
   "outputs": [],
   "source": [
    "# Replicamos en test.\n",
    "tokens_test = tokenized_test.explode(column='property_description')\n",
    "tokens_test = tokens_test.rename(columns={'property_description': 'token'})\n",
    "tokens_test.reset_index(inplace=True, drop=True)"
   ]
  },
  {
   "cell_type": "code",
   "execution_count": 10,
   "metadata": {
    "collapsed": false,
    "jupyter": {
     "outputs_hidden": false
    },
    "pycharm": {
     "name": "#%%\n"
    }
   },
   "outputs": [
    {
     "data": {
      "text/plain": [
       "((13008054, 2), (1969939, 2))"
      ]
     },
     "execution_count": 10,
     "metadata": {},
     "output_type": "execute_result"
    }
   ],
   "source": [
    "tokens_train.shape, tokens_test.shape"
   ]
  },
  {
   "cell_type": "markdown",
   "metadata": {
    "pycharm": {
     "name": "#%% md\n"
    }
   },
   "source": [
    "Vemos que tenemos 11 millones de palabras en train y 3 millones en test"
   ]
  },
  {
   "cell_type": "markdown",
   "metadata": {
    "pycharm": {
     "name": "#%% md\n"
    }
   },
   "source": [
    "Notamos que las preposiciones no son relevantes para entender que atributo podria ser mejor para expandir el datast, asi que decidimos agregarlas como stopwords.\n",
    "\n",
    "Tampoco van a variar mucho el analisis de sentimiento realizado en este trabajo."
   ]
  },
  {
   "cell_type": "code",
   "execution_count": 11,
   "metadata": {
    "collapsed": false,
    "jupyter": {
     "outputs_hidden": false
    },
    "pycharm": {
     "name": "#%%\n"
    }
   },
   "outputs": [],
   "source": [
    "## listado de stopwords\n",
    "\n",
    "preposiciones = [\"a\", \"ante\", \"bajo\", \"cabe\", \"con\", \"contra\", \"de\", \"desde\", \"durante\", \"en\", \"entre\", \"hacia\",\n",
    "                 \"hasta\", \"mediante\", \"para\", \"por\", \"según\", \"sin\", \"sobre\", \"tras\", \"vía\"]\n",
    "\n",
    "stop_words = []\n",
    "\n",
    "stop_words += preposiciones\n",
    "\n",
    "# filtrado para excluir stopwords\n",
    "tokens_train = tokens_train[~(tokens_train[\"token\"].isin(stop_words))]\n",
    "\n",
    "tokens_test = tokens_test[~(tokens_test[\"token\"].isin(stop_words))]"
   ]
  },
  {
   "cell_type": "markdown",
   "metadata": {
    "pycharm": {
     "name": "#%% md\n"
    }
   },
   "source": [
    "Agregamos un lexicon en español de esta pagina: https://github.com/jboscomendoza/lexicos-nrc-afinn"
   ]
  },
  {
   "cell_type": "code",
   "execution_count": 12,
   "metadata": {
    "collapsed": false,
    "jupyter": {
     "outputs_hidden": false
    },
    "pycharm": {
     "name": "#%%\n"
    }
   },
   "outputs": [
    {
     "data": {
      "text/html": [
       "<div>\n",
       "<style scoped>\n",
       "    .dataframe tbody tr th:only-of-type {\n",
       "        vertical-align: middle;\n",
       "    }\n",
       "\n",
       "    .dataframe tbody tr th {\n",
       "        vertical-align: top;\n",
       "    }\n",
       "\n",
       "    .dataframe thead th {\n",
       "        text-align: right;\n",
       "    }\n",
       "</style>\n",
       "<table border=\"1\" class=\"dataframe\">\n",
       "  <thead>\n",
       "    <tr style=\"text-align: right;\">\n",
       "      <th></th>\n",
       "      <th>palabra</th>\n",
       "      <th>sentimiento</th>\n",
       "      <th>word</th>\n",
       "    </tr>\n",
       "  </thead>\n",
       "  <tbody>\n",
       "    <tr>\n",
       "      <th>0</th>\n",
       "      <td>ciegamente</td>\n",
       "      <td>negativo</td>\n",
       "      <td>blindly</td>\n",
       "    </tr>\n",
       "    <tr>\n",
       "      <th>1</th>\n",
       "      <td>ciegamente</td>\n",
       "      <td>tristeza</td>\n",
       "      <td>blindly</td>\n",
       "    </tr>\n",
       "    <tr>\n",
       "      <th>2</th>\n",
       "      <td>a distancia</td>\n",
       "      <td>negativo</td>\n",
       "      <td>aloof</td>\n",
       "    </tr>\n",
       "    <tr>\n",
       "      <th>3</th>\n",
       "      <td>a hurtadillas</td>\n",
       "      <td>sorpresa</td>\n",
       "      <td>stealthily</td>\n",
       "    </tr>\n",
       "    <tr>\n",
       "      <th>4</th>\n",
       "      <td>a la deriva</td>\n",
       "      <td>anticipación</td>\n",
       "      <td>adrift</td>\n",
       "    </tr>\n",
       "    <tr>\n",
       "      <th>...</th>\n",
       "      <td>...</td>\n",
       "      <td>...</td>\n",
       "      <td>...</td>\n",
       "    </tr>\n",
       "    <tr>\n",
       "      <th>15302</th>\n",
       "      <td>zumbido</td>\n",
       "      <td>anticipación</td>\n",
       "      <td>buzz</td>\n",
       "    </tr>\n",
       "    <tr>\n",
       "      <th>15303</th>\n",
       "      <td>zumbido</td>\n",
       "      <td>miedo</td>\n",
       "      <td>buzz</td>\n",
       "    </tr>\n",
       "    <tr>\n",
       "      <th>15304</th>\n",
       "      <td>zumbido</td>\n",
       "      <td>positivo</td>\n",
       "      <td>buzz</td>\n",
       "    </tr>\n",
       "    <tr>\n",
       "      <th>15305</th>\n",
       "      <td>zumbido</td>\n",
       "      <td>negativo</td>\n",
       "      <td>drone</td>\n",
       "    </tr>\n",
       "    <tr>\n",
       "      <th>15306</th>\n",
       "      <td>zurcidura</td>\n",
       "      <td>positivo</td>\n",
       "      <td>mending</td>\n",
       "    </tr>\n",
       "  </tbody>\n",
       "</table>\n",
       "<p>15307 rows × 3 columns</p>\n",
       "</div>"
      ],
      "text/plain": [
       "             palabra   sentimiento        word\n",
       "0         ciegamente      negativo     blindly\n",
       "1         ciegamente      tristeza     blindly\n",
       "2        a distancia      negativo       aloof\n",
       "3      a hurtadillas      sorpresa  stealthily\n",
       "4        a la deriva  anticipación      adrift\n",
       "...              ...           ...         ...\n",
       "15302        zumbido  anticipación        buzz\n",
       "15303        zumbido         miedo        buzz\n",
       "15304        zumbido      positivo        buzz\n",
       "15305        zumbido      negativo       drone\n",
       "15306      zurcidura      positivo     mending\n",
       "\n",
       "[15307 rows x 3 columns]"
      ]
     },
     "execution_count": 12,
     "metadata": {},
     "output_type": "execute_result"
    }
   ],
   "source": [
    "# lexicon sentimientos\n",
    "lexicon = pd.read_csv('datasets/lexico_nrc.csv')\n",
    "lexicon"
   ]
  },
  {
   "cell_type": "code",
   "execution_count": 13,
   "metadata": {
    "collapsed": false,
    "jupyter": {
     "outputs_hidden": false
    },
    "pycharm": {
     "name": "#%%\n"
    }
   },
   "outputs": [],
   "source": [
    "def mappear_valores_sentimiento(s):\n",
    "    # 1 Positivo\n",
    "    # 0 Neutro\n",
    "    # -1 Negativo\n",
    "    sentimiento_numerico = 0\n",
    "    if str(s) in ['negativo', 'tristeza', 'miedo', 'enfado', 'tristeza', 'asco']:\n",
    "        sentimiento_numerico = -1\n",
    "    if str(s) in ['sorpresa', 'positivo', 'confianza', 'alegría']:\n",
    "        sentimiento_numerico = 1\n",
    "    if str(s) in ['anticipación']:\n",
    "        sentimiento_numerico = 0\n",
    "\n",
    "    return sentimiento_numerico\n"
   ]
  },
  {
   "cell_type": "code",
   "execution_count": 14,
   "metadata": {
    "collapsed": false,
    "jupyter": {
     "outputs_hidden": false
    },
    "pycharm": {
     "name": "#%%\n"
    }
   },
   "outputs": [
    {
     "data": {
      "text/html": [
       "<div>\n",
       "<style scoped>\n",
       "    .dataframe tbody tr th:only-of-type {\n",
       "        vertical-align: middle;\n",
       "    }\n",
       "\n",
       "    .dataframe tbody tr th {\n",
       "        vertical-align: top;\n",
       "    }\n",
       "\n",
       "    .dataframe thead th {\n",
       "        text-align: right;\n",
       "    }\n",
       "</style>\n",
       "<table border=\"1\" class=\"dataframe\">\n",
       "  <thead>\n",
       "    <tr style=\"text-align: right;\">\n",
       "      <th></th>\n",
       "      <th>sentimiento</th>\n",
       "    </tr>\n",
       "  </thead>\n",
       "  <tbody>\n",
       "    <tr>\n",
       "      <th>0</th>\n",
       "      <td>-1</td>\n",
       "    </tr>\n",
       "    <tr>\n",
       "      <th>1</th>\n",
       "      <td>-1</td>\n",
       "    </tr>\n",
       "    <tr>\n",
       "      <th>2</th>\n",
       "      <td>-1</td>\n",
       "    </tr>\n",
       "    <tr>\n",
       "      <th>3</th>\n",
       "      <td>1</td>\n",
       "    </tr>\n",
       "    <tr>\n",
       "      <th>4</th>\n",
       "      <td>0</td>\n",
       "    </tr>\n",
       "  </tbody>\n",
       "</table>\n",
       "</div>"
      ],
      "text/plain": [
       "   sentimiento\n",
       "0           -1\n",
       "1           -1\n",
       "2           -1\n",
       "3            1\n",
       "4            0"
      ]
     },
     "execution_count": 14,
     "metadata": {},
     "output_type": "execute_result"
    }
   ],
   "source": [
    "lexicon['sentimiento'] = lexicon['sentimiento'].apply(lambda x: mappear_valores_sentimiento(x))\n",
    "lexicon[['sentimiento']].head()"
   ]
  },
  {
   "cell_type": "code",
   "execution_count": 15,
   "metadata": {
    "collapsed": false,
    "jupyter": {
     "outputs_hidden": false
    },
    "pycharm": {
     "name": "#%%\n"
    }
   },
   "outputs": [
    {
     "data": {
      "text/plain": [
       "((1519675, 2), (229226, 2))"
      ]
     },
     "execution_count": 15,
     "metadata": {},
     "output_type": "execute_result"
    }
   ],
   "source": [
    "tokens_train[tokens_train.token.isin(lexicon.palabra)].shape, tokens_test[tokens_test.token.isin(lexicon.palabra)].shape"
   ]
  },
  {
   "cell_type": "code",
   "execution_count": 16,
   "metadata": {
    "collapsed": false,
    "jupyter": {
     "outputs_hidden": false
    },
    "pycharm": {
     "name": "#%%\n"
    }
   },
   "outputs": [
    {
     "data": {
      "text/html": [
       "<div>\n",
       "<style scoped>\n",
       "    .dataframe tbody tr th:only-of-type {\n",
       "        vertical-align: middle;\n",
       "    }\n",
       "\n",
       "    .dataframe tbody tr th {\n",
       "        vertical-align: top;\n",
       "    }\n",
       "\n",
       "    .dataframe thead th {\n",
       "        text-align: right;\n",
       "    }\n",
       "</style>\n",
       "<table border=\"1\" class=\"dataframe\">\n",
       "  <thead>\n",
       "    <tr style=\"text-align: right;\">\n",
       "      <th></th>\n",
       "      <th>palabra</th>\n",
       "      <th>sentimiento</th>\n",
       "      <th>word</th>\n",
       "    </tr>\n",
       "  </thead>\n",
       "  <tbody>\n",
       "    <tr>\n",
       "      <th>0</th>\n",
       "      <td>ciegamente</td>\n",
       "      <td>-1</td>\n",
       "      <td>blindly</td>\n",
       "    </tr>\n",
       "    <tr>\n",
       "      <th>1</th>\n",
       "      <td>ciegamente</td>\n",
       "      <td>-1</td>\n",
       "      <td>blindly</td>\n",
       "    </tr>\n",
       "    <tr>\n",
       "      <th>2</th>\n",
       "      <td>a distancia</td>\n",
       "      <td>-1</td>\n",
       "      <td>aloof</td>\n",
       "    </tr>\n",
       "    <tr>\n",
       "      <th>3</th>\n",
       "      <td>a hurtadillas</td>\n",
       "      <td>1</td>\n",
       "      <td>stealthily</td>\n",
       "    </tr>\n",
       "    <tr>\n",
       "      <th>4</th>\n",
       "      <td>a la deriva</td>\n",
       "      <td>0</td>\n",
       "      <td>adrift</td>\n",
       "    </tr>\n",
       "    <tr>\n",
       "      <th>...</th>\n",
       "      <td>...</td>\n",
       "      <td>...</td>\n",
       "      <td>...</td>\n",
       "    </tr>\n",
       "    <tr>\n",
       "      <th>15302</th>\n",
       "      <td>zumbido</td>\n",
       "      <td>0</td>\n",
       "      <td>buzz</td>\n",
       "    </tr>\n",
       "    <tr>\n",
       "      <th>15303</th>\n",
       "      <td>zumbido</td>\n",
       "      <td>-1</td>\n",
       "      <td>buzz</td>\n",
       "    </tr>\n",
       "    <tr>\n",
       "      <th>15304</th>\n",
       "      <td>zumbido</td>\n",
       "      <td>1</td>\n",
       "      <td>buzz</td>\n",
       "    </tr>\n",
       "    <tr>\n",
       "      <th>15305</th>\n",
       "      <td>zumbido</td>\n",
       "      <td>-1</td>\n",
       "      <td>drone</td>\n",
       "    </tr>\n",
       "    <tr>\n",
       "      <th>15306</th>\n",
       "      <td>zurcidura</td>\n",
       "      <td>1</td>\n",
       "      <td>mending</td>\n",
       "    </tr>\n",
       "  </tbody>\n",
       "</table>\n",
       "<p>15307 rows × 3 columns</p>\n",
       "</div>"
      ],
      "text/plain": [
       "             palabra  sentimiento        word\n",
       "0         ciegamente           -1     blindly\n",
       "1         ciegamente           -1     blindly\n",
       "2        a distancia           -1       aloof\n",
       "3      a hurtadillas            1  stealthily\n",
       "4        a la deriva            0      adrift\n",
       "...              ...          ...         ...\n",
       "15302        zumbido            0        buzz\n",
       "15303        zumbido           -1        buzz\n",
       "15304        zumbido            1        buzz\n",
       "15305        zumbido           -1       drone\n",
       "15306      zurcidura            1     mending\n",
       "\n",
       "[15307 rows x 3 columns]"
      ]
     },
     "execution_count": 16,
     "metadata": {},
     "output_type": "execute_result"
    }
   ],
   "source": [
    "lexicon"
   ]
  },
  {
   "cell_type": "markdown",
   "metadata": {
    "pycharm": {
     "name": "#%% md\n"
    }
   },
   "source": [
    "Tenemos un millon y medio de coincidencias con el lexicón en train. Usaremos estos sentimientos para puntuar las propiedades"
   ]
  },
  {
   "cell_type": "code",
   "execution_count": 17,
   "metadata": {
    "collapsed": false,
    "jupyter": {
     "outputs_hidden": false
    },
    "pycharm": {
     "name": "#%%\n"
    }
   },
   "outputs": [
    {
     "data": {
      "text/html": [
       "<div>\n",
       "<style scoped>\n",
       "    .dataframe tbody tr th:only-of-type {\n",
       "        vertical-align: middle;\n",
       "    }\n",
       "\n",
       "    .dataframe tbody tr th {\n",
       "        vertical-align: top;\n",
       "    }\n",
       "\n",
       "    .dataframe thead th {\n",
       "        text-align: right;\n",
       "    }\n",
       "</style>\n",
       "<table border=\"1\" class=\"dataframe\">\n",
       "  <thead>\n",
       "    <tr style=\"text-align: right;\">\n",
       "      <th></th>\n",
       "      <th>id</th>\n",
       "      <th>token</th>\n",
       "      <th>sentimiento</th>\n",
       "    </tr>\n",
       "  </thead>\n",
       "  <tbody>\n",
       "    <tr>\n",
       "      <th>0</th>\n",
       "      <td>BZCeiGkJr1WBUi6pKJQwJQ==</td>\n",
       "      <td>responsable</td>\n",
       "      <td>1</td>\n",
       "    </tr>\n",
       "    <tr>\n",
       "      <th>1</th>\n",
       "      <td>BZCeiGkJr1WBUi6pKJQwJQ==</td>\n",
       "      <td>responsable</td>\n",
       "      <td>1</td>\n",
       "    </tr>\n",
       "    <tr>\n",
       "      <th>2</th>\n",
       "      <td>BZCeiGkJr1WBUi6pKJQwJQ==</td>\n",
       "      <td>responsable</td>\n",
       "      <td>1</td>\n",
       "    </tr>\n",
       "    <tr>\n",
       "      <th>3</th>\n",
       "      <td>eMMPT/INpeI16EUBN74N3Q==</td>\n",
       "      <td>responsable</td>\n",
       "      <td>1</td>\n",
       "    </tr>\n",
       "    <tr>\n",
       "      <th>4</th>\n",
       "      <td>eMMPT/INpeI16EUBN74N3Q==</td>\n",
       "      <td>responsable</td>\n",
       "      <td>1</td>\n",
       "    </tr>\n",
       "  </tbody>\n",
       "</table>\n",
       "</div>"
      ],
      "text/plain": [
       "                         id        token  sentimiento\n",
       "0  BZCeiGkJr1WBUi6pKJQwJQ==  responsable            1\n",
       "1  BZCeiGkJr1WBUi6pKJQwJQ==  responsable            1\n",
       "2  BZCeiGkJr1WBUi6pKJQwJQ==  responsable            1\n",
       "3  eMMPT/INpeI16EUBN74N3Q==  responsable            1\n",
       "4  eMMPT/INpeI16EUBN74N3Q==  responsable            1"
      ]
     },
     "execution_count": 17,
     "metadata": {},
     "output_type": "execute_result"
    }
   ],
   "source": [
    "# sentimiento promedio de cada descripcion\n",
    "tokens_sentimientos_train = pd.merge(\n",
    "    left=tokens_train,\n",
    "    right=lexicon,\n",
    "    left_on=\"token\",\n",
    "    right_on=\"palabra\",\n",
    "    how=\"inner\"\n",
    ")\n",
    "tokens_sentimientos_train = tokens_sentimientos_train.drop(columns=[\"palabra\", \"word\"])\n",
    "\n",
    "tokens_sentimientos_test = pd.merge(\n",
    "    left=tokens_test,\n",
    "    right=lexicon,\n",
    "    left_on=\"token\",\n",
    "    right_on=\"palabra\",\n",
    "    how=\"inner\"\n",
    ")\n",
    "tokens_sentimientos_test = tokens_sentimientos_test.drop(columns=[\"palabra\", \"word\"])\n",
    "\n",
    "tokens_sentimientos_train.head()"
   ]
  },
  {
   "cell_type": "markdown",
   "metadata": {
    "pycharm": {
     "name": "#%% md\n"
    }
   },
   "source": [
    "Ahora calcularemos el puntaje para cada propiedad como la suma de los sentimientos."
   ]
  },
  {
   "cell_type": "code",
   "execution_count": 18,
   "metadata": {
    "collapsed": false,
    "jupyter": {
     "outputs_hidden": false
    },
    "pycharm": {
     "name": "#%%\n"
    }
   },
   "outputs": [],
   "source": [
    "score_train = tokens_sentimientos_train[[\"id\", \"token\", \"sentimiento\"]].groupby([\"id\"]).sum().reset_index()\n",
    "\n",
    "score_test = tokens_sentimientos_test[[\"id\", \"token\", \"sentimiento\"]].groupby([\"id\"]).sum().reset_index()"
   ]
  },
  {
   "cell_type": "code",
   "execution_count": 19,
   "metadata": {
    "collapsed": false,
    "jupyter": {
     "outputs_hidden": false
    },
    "pycharm": {
     "name": "#%%\n"
    }
   },
   "outputs": [
    {
     "data": {
      "text/html": [
       "<div>\n",
       "<style scoped>\n",
       "    .dataframe tbody tr th:only-of-type {\n",
       "        vertical-align: middle;\n",
       "    }\n",
       "\n",
       "    .dataframe tbody tr th {\n",
       "        vertical-align: top;\n",
       "    }\n",
       "\n",
       "    .dataframe thead th {\n",
       "        text-align: right;\n",
       "    }\n",
       "</style>\n",
       "<table border=\"1\" class=\"dataframe\">\n",
       "  <thead>\n",
       "    <tr style=\"text-align: right;\">\n",
       "      <th></th>\n",
       "      <th>id</th>\n",
       "      <th>sentimiento</th>\n",
       "    </tr>\n",
       "  </thead>\n",
       "  <tbody>\n",
       "    <tr>\n",
       "      <th>0</th>\n",
       "      <td>+++LrfX9dl/rsnbNTgVaSw==</td>\n",
       "      <td>24</td>\n",
       "    </tr>\n",
       "    <tr>\n",
       "      <th>1</th>\n",
       "      <td>++20Jf3Ha2Epz88cJxEmJw==</td>\n",
       "      <td>10</td>\n",
       "    </tr>\n",
       "    <tr>\n",
       "      <th>2</th>\n",
       "      <td>++2AcJNn9KYBeuOard+DZw==</td>\n",
       "      <td>18</td>\n",
       "    </tr>\n",
       "    <tr>\n",
       "      <th>3</th>\n",
       "      <td>++5o0X5nwMy3BtfAvsFAaA==</td>\n",
       "      <td>-2</td>\n",
       "    </tr>\n",
       "    <tr>\n",
       "      <th>4</th>\n",
       "      <td>++A4JS7xH+YdAXktJ3bHlg==</td>\n",
       "      <td>28</td>\n",
       "    </tr>\n",
       "    <tr>\n",
       "      <th>...</th>\n",
       "      <td>...</td>\n",
       "      <td>...</td>\n",
       "    </tr>\n",
       "    <tr>\n",
       "      <th>69137</th>\n",
       "      <td>zzbbKVUtPLels9Algy3FRw==</td>\n",
       "      <td>4</td>\n",
       "    </tr>\n",
       "    <tr>\n",
       "      <th>69138</th>\n",
       "      <td>zzifKawPn7V8Z63LI9+K9Q==</td>\n",
       "      <td>16</td>\n",
       "    </tr>\n",
       "    <tr>\n",
       "      <th>69139</th>\n",
       "      <td>zziqoG25k9M8rIgzpKwFwg==</td>\n",
       "      <td>29</td>\n",
       "    </tr>\n",
       "    <tr>\n",
       "      <th>69140</th>\n",
       "      <td>zzrpS8TqDA6px1h/DuQdmw==</td>\n",
       "      <td>20</td>\n",
       "    </tr>\n",
       "    <tr>\n",
       "      <th>69141</th>\n",
       "      <td>zzxdSRjo9Dmr+YRiF12AKw==</td>\n",
       "      <td>2</td>\n",
       "    </tr>\n",
       "  </tbody>\n",
       "</table>\n",
       "<p>69142 rows × 2 columns</p>\n",
       "</div>"
      ],
      "text/plain": [
       "                             id  sentimiento\n",
       "0      +++LrfX9dl/rsnbNTgVaSw==           24\n",
       "1      ++20Jf3Ha2Epz88cJxEmJw==           10\n",
       "2      ++2AcJNn9KYBeuOard+DZw==           18\n",
       "3      ++5o0X5nwMy3BtfAvsFAaA==           -2\n",
       "4      ++A4JS7xH+YdAXktJ3bHlg==           28\n",
       "...                         ...          ...\n",
       "69137  zzbbKVUtPLels9Algy3FRw==            4\n",
       "69138  zzifKawPn7V8Z63LI9+K9Q==           16\n",
       "69139  zziqoG25k9M8rIgzpKwFwg==           29\n",
       "69140  zzrpS8TqDA6px1h/DuQdmw==           20\n",
       "69141  zzxdSRjo9Dmr+YRiF12AKw==            2\n",
       "\n",
       "[69142 rows x 2 columns]"
      ]
     },
     "execution_count": 19,
     "metadata": {},
     "output_type": "execute_result"
    }
   ],
   "source": [
    "score_train"
   ]
  },
  {
   "cell_type": "code",
   "execution_count": 20,
   "metadata": {
    "collapsed": false,
    "jupyter": {
     "outputs_hidden": false
    },
    "pycharm": {
     "name": "#%%\n"
    }
   },
   "outputs": [
    {
     "data": {
      "text/plain": [
       "216"
      ]
     },
     "execution_count": 20,
     "metadata": {},
     "output_type": "execute_result"
    }
   ],
   "source": [
    "score_train.sentimiento.max()"
   ]
  },
  {
   "cell_type": "markdown",
   "metadata": {
    "pycharm": {
     "name": "#%% md\n"
    }
   },
   "source": [
    "La mejor propiedad tiene un puntaje de 216. Analizaremos un poco las descripciones de las mejores y peores."
   ]
  },
  {
   "cell_type": "code",
   "execution_count": 21,
   "metadata": {
    "collapsed": false,
    "jupyter": {
     "outputs_hidden": false
    },
    "pycharm": {
     "name": "#%%\n"
    }
   },
   "outputs": [
    {
     "data": {
      "text/html": [
       "<div>\n",
       "<style scoped>\n",
       "    .dataframe tbody tr th:only-of-type {\n",
       "        vertical-align: middle;\n",
       "    }\n",
       "\n",
       "    .dataframe tbody tr th {\n",
       "        vertical-align: top;\n",
       "    }\n",
       "\n",
       "    .dataframe thead th {\n",
       "        text-align: right;\n",
       "    }\n",
       "</style>\n",
       "<table border=\"1\" class=\"dataframe\">\n",
       "  <thead>\n",
       "    <tr style=\"text-align: right;\">\n",
       "      <th></th>\n",
       "      <th>id</th>\n",
       "      <th>sentimiento</th>\n",
       "    </tr>\n",
       "  </thead>\n",
       "  <tbody>\n",
       "    <tr>\n",
       "      <th>64018</th>\n",
       "      <td>vJRa8QKk0d9i9L4Rk6Bvng==</td>\n",
       "      <td>216</td>\n",
       "    </tr>\n",
       "    <tr>\n",
       "      <th>27404</th>\n",
       "      <td>NX8OeQx/kxiBz8ehRtMggw==</td>\n",
       "      <td>185</td>\n",
       "    </tr>\n",
       "    <tr>\n",
       "      <th>28810</th>\n",
       "      <td>Ordgp/sLvmhD+RwAtErcvw==</td>\n",
       "      <td>185</td>\n",
       "    </tr>\n",
       "    <tr>\n",
       "      <th>49104</th>\n",
       "      <td>hWcrJ6XkTCTGVo80jBvI1g==</td>\n",
       "      <td>185</td>\n",
       "    </tr>\n",
       "    <tr>\n",
       "      <th>20561</th>\n",
       "      <td>HApisqgDT/EcQsf/Z9pwSA==</td>\n",
       "      <td>185</td>\n",
       "    </tr>\n",
       "  </tbody>\n",
       "</table>\n",
       "</div>"
      ],
      "text/plain": [
       "                             id  sentimiento\n",
       "64018  vJRa8QKk0d9i9L4Rk6Bvng==          216\n",
       "27404  NX8OeQx/kxiBz8ehRtMggw==          185\n",
       "28810  Ordgp/sLvmhD+RwAtErcvw==          185\n",
       "49104  hWcrJ6XkTCTGVo80jBvI1g==          185\n",
       "20561  HApisqgDT/EcQsf/Z9pwSA==          185"
      ]
     },
     "execution_count": 21,
     "metadata": {},
     "output_type": "execute_result"
    }
   ],
   "source": [
    "top5_positivas = score_train.sort_values(by='sentimiento', ascending=False).head(5)\n",
    "top5_positivas"
   ]
  },
  {
   "cell_type": "code",
   "execution_count": 22,
   "metadata": {
    "collapsed": false,
    "jupyter": {
     "outputs_hidden": false
    },
    "pycharm": {
     "name": "#%%\n"
    }
   },
   "outputs": [
    {
     "data": {
      "text/plain": [
       "432928    Ubicación piso 9 al frente.<br><br>Amplio y lu...\n",
       "182346    Hermoso departamento tipo Loft de dos Ambiente...\n",
       "191949    Corredor Responsable: María Eugenia Blanco CUC...\n",
       "330753    Corredor Responsable: Gustavo Guastello - C.U....\n",
       "137409    MALABIA Y SANTA FE<br>48.78m2 TOTALES.<br><br>...\n",
       "Name: property_description, dtype: object"
      ]
     },
     "execution_count": 22,
     "metadata": {},
     "output_type": "execute_result"
    }
   ],
   "source": [
    "descriptions_train.property_description.iloc[top5_positivas.index]"
   ]
  },
  {
   "cell_type": "code",
   "execution_count": 23,
   "metadata": {
    "collapsed": false,
    "jupyter": {
     "outputs_hidden": false
    },
    "pycharm": {
     "name": "#%%\n"
    }
   },
   "outputs": [
    {
     "data": {
      "text/plain": [
       "-37"
      ]
     },
     "execution_count": 23,
     "metadata": {},
     "output_type": "execute_result"
    }
   ],
   "source": [
    "score_train.sentimiento.min()"
   ]
  },
  {
   "cell_type": "code",
   "execution_count": 24,
   "metadata": {
    "collapsed": false,
    "jupyter": {
     "outputs_hidden": false
    },
    "pycharm": {
     "name": "#%%\n"
    }
   },
   "outputs": [
    {
     "data": {
      "text/html": [
       "<div>\n",
       "<style scoped>\n",
       "    .dataframe tbody tr th:only-of-type {\n",
       "        vertical-align: middle;\n",
       "    }\n",
       "\n",
       "    .dataframe tbody tr th {\n",
       "        vertical-align: top;\n",
       "    }\n",
       "\n",
       "    .dataframe thead th {\n",
       "        text-align: right;\n",
       "    }\n",
       "</style>\n",
       "<table border=\"1\" class=\"dataframe\">\n",
       "  <thead>\n",
       "    <tr style=\"text-align: right;\">\n",
       "      <th></th>\n",
       "      <th>id</th>\n",
       "      <th>sentimiento</th>\n",
       "    </tr>\n",
       "  </thead>\n",
       "  <tbody>\n",
       "    <tr>\n",
       "      <th>24240</th>\n",
       "      <td>KWFIk6SR8JFrfLNsfJcoPg==</td>\n",
       "      <td>-37</td>\n",
       "    </tr>\n",
       "    <tr>\n",
       "      <th>67484</th>\n",
       "      <td>yTzDOa/iBUD6x1xW0p+8jQ==</td>\n",
       "      <td>-24</td>\n",
       "    </tr>\n",
       "    <tr>\n",
       "      <th>67054</th>\n",
       "      <td>y6+EaqbgQiNEm0O9xuj5qA==</td>\n",
       "      <td>-23</td>\n",
       "    </tr>\n",
       "    <tr>\n",
       "      <th>62615</th>\n",
       "      <td>u/IcqZ+M9BeXX58mOBAsXw==</td>\n",
       "      <td>-23</td>\n",
       "    </tr>\n",
       "    <tr>\n",
       "      <th>67571</th>\n",
       "      <td>yZ1q8SipMwHAKNK0xa1ApQ==</td>\n",
       "      <td>-22</td>\n",
       "    </tr>\n",
       "  </tbody>\n",
       "</table>\n",
       "</div>"
      ],
      "text/plain": [
       "                             id  sentimiento\n",
       "24240  KWFIk6SR8JFrfLNsfJcoPg==          -37\n",
       "67484  yTzDOa/iBUD6x1xW0p+8jQ==          -24\n",
       "67054  y6+EaqbgQiNEm0O9xuj5qA==          -23\n",
       "62615  u/IcqZ+M9BeXX58mOBAsXw==          -23\n",
       "67571  yZ1q8SipMwHAKNK0xa1ApQ==          -22"
      ]
     },
     "execution_count": 24,
     "metadata": {},
     "output_type": "execute_result"
    }
   ],
   "source": [
    "top5_negativas = score_train.sort_values(by='sentimiento').head(5)\n",
    "top5_negativas"
   ]
  },
  {
   "cell_type": "code",
   "execution_count": 25,
   "metadata": {
    "collapsed": false,
    "jupyter": {
     "outputs_hidden": false
    },
    "pycharm": {
     "name": "#%%\n"
    }
   },
   "outputs": [
    {
     "data": {
      "text/plain": [
       "161869    PH EN VENTA DE 4 AMBIENTES CON PATIO Y TERRAZA...\n",
       "448955    Corredor Responsable: Gustavo Guastello CUCICB...\n",
       "447362    Corredor Responsable: Brian Ezequiel Roldán CP...\n",
       "424224    Corredor Responsable: Veronica Grela Reina - C...\n",
       "449321    Corredor Responsable: Marcelo Trujillo CUCICBA...\n",
       "Name: property_description, dtype: object"
      ]
     },
     "execution_count": 25,
     "metadata": {},
     "output_type": "execute_result"
    }
   ],
   "source": [
    "descriptions_train.iloc[top5_negativas.index].property_description"
   ]
  },
  {
   "cell_type": "markdown",
   "metadata": {
    "pycharm": {
     "name": "#%% md\n"
    }
   },
   "source": [
    "descriptions_test.head()Como es claro, la gente que publica la venta de una propiedad va a tratar de expresar la mejor publicacion y descripcion posible. Es por eso que tenemos una tasa altisima de positividad. No buscamos hacer un analisis tan profundo de las descripciones sino crear un puntaje relativamente estandarizado para poder usar la descripción como feature."
   ]
  },
  {
   "cell_type": "code",
   "execution_count": 26,
   "metadata": {
    "collapsed": false,
    "jupyter": {
     "outputs_hidden": false
    },
    "pycharm": {
     "name": "#%%\n"
    }
   },
   "outputs": [
    {
     "name": "stdout",
     "output_type": "stream",
     "text": [
      "Train: \n",
      "Positivos: 93.61\n",
      "Neutros  : 1.57\n",
      "Negativos: 4.82\n",
      "\n",
      "Test: \n",
      "Positivos: 93.22\n",
      "Neutros  : 1.75\n",
      "Negativos: 5.03\n"
     ]
    }
   ],
   "source": [
    "def perfil_sentimientos(title, df):\n",
    "    print(title)\n",
    "    print(f\"Positivos: {round(100 * np.mean(df.sentimiento > 0), 2)}\")\n",
    "    print(f\"Neutros  : {round(100 * np.mean(df.sentimiento == 0), 2)}\")\n",
    "    print(f\"Negativos: {round(100 * np.mean(df.sentimiento < 0), 2)}\")\n",
    "\n",
    "\n",
    "perfil_sentimientos(\"Train: \", score_train)\n",
    "print()\n",
    "perfil_sentimientos(\"Test: \", score_test)"
   ]
  },
  {
   "cell_type": "markdown",
   "metadata": {
    "pycharm": {
     "name": "#%% md\n"
    }
   },
   "source": [
    "Finalmente, agregaremos nuestro puntaje como columnas nuevas del dataset."
   ]
  },
  {
   "cell_type": "code",
   "execution_count": 27,
   "metadata": {
    "collapsed": false,
    "jupyter": {
     "outputs_hidden": false
    },
    "pycharm": {
     "name": "#%%\n"
    }
   },
   "outputs": [
    {
     "data": {
      "text/html": [
       "<div>\n",
       "<style scoped>\n",
       "    .dataframe tbody tr th:only-of-type {\n",
       "        vertical-align: middle;\n",
       "    }\n",
       "\n",
       "    .dataframe tbody tr th {\n",
       "        vertical-align: top;\n",
       "    }\n",
       "\n",
       "    .dataframe thead th {\n",
       "        text-align: right;\n",
       "    }\n",
       "</style>\n",
       "<table border=\"1\" class=\"dataframe\">\n",
       "  <thead>\n",
       "    <tr style=\"text-align: right;\">\n",
       "      <th></th>\n",
       "      <th>id</th>\n",
       "      <th>start_date</th>\n",
       "      <th>end_date</th>\n",
       "      <th>latitud</th>\n",
       "      <th>longitud</th>\n",
       "      <th>place_l3</th>\n",
       "      <th>property_type</th>\n",
       "      <th>property_rooms</th>\n",
       "      <th>property_bedrooms</th>\n",
       "      <th>property_surface_total</th>\n",
       "      <th>property_surface_covered</th>\n",
       "      <th>property_price</th>\n",
       "      <th>property_title</th>\n",
       "      <th>pxm2</th>\n",
       "      <th>tipo_precio</th>\n",
       "    </tr>\n",
       "  </thead>\n",
       "  <tbody>\n",
       "    <tr>\n",
       "      <th>0</th>\n",
       "      <td>GrZ64pCxiOhtCZq4KgqxoQ==</td>\n",
       "      <td>2021-05-07</td>\n",
       "      <td>2021-05-08</td>\n",
       "      <td>-34.565080</td>\n",
       "      <td>-58.464190</td>\n",
       "      <td>Belgrano</td>\n",
       "      <td>Departamento</td>\n",
       "      <td>2.0</td>\n",
       "      <td>1.0</td>\n",
       "      <td>48.0</td>\n",
       "      <td>37.0</td>\n",
       "      <td>120000.0</td>\n",
       "      <td>Loft de dos ambientes con balcón y patio!</td>\n",
       "      <td>2500.000000</td>\n",
       "      <td>Medio</td>\n",
       "    </tr>\n",
       "    <tr>\n",
       "      <th>1</th>\n",
       "      <td>OHosCWo/KF1eK/6CmBdUQw==</td>\n",
       "      <td>2021-08-24</td>\n",
       "      <td>2021-08-24</td>\n",
       "      <td>-34.593059</td>\n",
       "      <td>-58.406758</td>\n",
       "      <td>Barrio Norte</td>\n",
       "      <td>Departamento</td>\n",
       "      <td>3.0</td>\n",
       "      <td>2.0</td>\n",
       "      <td>122.0</td>\n",
       "      <td>97.0</td>\n",
       "      <td>295000.0</td>\n",
       "      <td>DEPARTAMENTO 3 AMB C/DEPENDENCIA, PATIO Y COCHERA</td>\n",
       "      <td>2418.032787</td>\n",
       "      <td>Medio</td>\n",
       "    </tr>\n",
       "    <tr>\n",
       "      <th>2</th>\n",
       "      <td>Y8K7ZUBw9NZCyJoQ3p5/ww==</td>\n",
       "      <td>2021-07-21</td>\n",
       "      <td>2021-11-28</td>\n",
       "      <td>-34.563755</td>\n",
       "      <td>-58.439019</td>\n",
       "      <td>Palermo</td>\n",
       "      <td>PH</td>\n",
       "      <td>2.0</td>\n",
       "      <td>1.0</td>\n",
       "      <td>44.0</td>\n",
       "      <td>35.0</td>\n",
       "      <td>95000.0</td>\n",
       "      <td>LACROZE 1700 - PH EN VENTA 2 AMB - A RECICLAR</td>\n",
       "      <td>2159.090909</td>\n",
       "      <td>Alto</td>\n",
       "    </tr>\n",
       "    <tr>\n",
       "      <th>3</th>\n",
       "      <td>/G46ns24536LY6XTnM7F3Q==</td>\n",
       "      <td>2021-02-05</td>\n",
       "      <td>2021-02-05</td>\n",
       "      <td>-34.590534</td>\n",
       "      <td>-58.411562</td>\n",
       "      <td>Palermo</td>\n",
       "      <td>Departamento</td>\n",
       "      <td>3.0</td>\n",
       "      <td>2.0</td>\n",
       "      <td>106.0</td>\n",
       "      <td>93.0</td>\n",
       "      <td>235000.0</td>\n",
       "      <td>Departamento 3 Ambientes con dependencia, baño...</td>\n",
       "      <td>2216.981132</td>\n",
       "      <td>Medio</td>\n",
       "    </tr>\n",
       "    <tr>\n",
       "      <th>4</th>\n",
       "      <td>bjEF6kjPBNijD/SWCGXs1Q==</td>\n",
       "      <td>2021-01-21</td>\n",
       "      <td>2021-03-17</td>\n",
       "      <td>-34.609729</td>\n",
       "      <td>-58.421587</td>\n",
       "      <td>Almagro</td>\n",
       "      <td>Departamento</td>\n",
       "      <td>1.0</td>\n",
       "      <td>1.0</td>\n",
       "      <td>25.0</td>\n",
       "      <td>25.0</td>\n",
       "      <td>50000.0</td>\n",
       "      <td>BME. MITRE Y MEDRANO - Almagro</td>\n",
       "      <td>2000.000000</td>\n",
       "      <td>Medio</td>\n",
       "    </tr>\n",
       "    <tr>\n",
       "      <th>...</th>\n",
       "      <td>...</td>\n",
       "      <td>...</td>\n",
       "      <td>...</td>\n",
       "      <td>...</td>\n",
       "      <td>...</td>\n",
       "      <td>...</td>\n",
       "      <td>...</td>\n",
       "      <td>...</td>\n",
       "      <td>...</td>\n",
       "      <td>...</td>\n",
       "      <td>...</td>\n",
       "      <td>...</td>\n",
       "      <td>...</td>\n",
       "      <td>...</td>\n",
       "      <td>...</td>\n",
       "    </tr>\n",
       "    <tr>\n",
       "      <th>10643</th>\n",
       "      <td>EbpZ5Tl0YDy0iRaybU3wFg==</td>\n",
       "      <td>2021-02-11</td>\n",
       "      <td>2021-04-05</td>\n",
       "      <td>-34.595230</td>\n",
       "      <td>-58.409301</td>\n",
       "      <td>Recoleta</td>\n",
       "      <td>Departamento</td>\n",
       "      <td>3.0</td>\n",
       "      <td>2.0</td>\n",
       "      <td>73.0</td>\n",
       "      <td>73.0</td>\n",
       "      <td>149000.0</td>\n",
       "      <td>3 AMBIENTES C/DEPENDENCIA · AGÜERO AL 1200 · R...</td>\n",
       "      <td>2041.095890</td>\n",
       "      <td>Medio</td>\n",
       "    </tr>\n",
       "    <tr>\n",
       "      <th>10644</th>\n",
       "      <td>eovjcfaKV44yRtidCOWjqg==</td>\n",
       "      <td>2021-01-22</td>\n",
       "      <td>2021-06-30</td>\n",
       "      <td>-34.581910</td>\n",
       "      <td>-58.449381</td>\n",
       "      <td>Palermo</td>\n",
       "      <td>Departamento</td>\n",
       "      <td>2.0</td>\n",
       "      <td>1.0</td>\n",
       "      <td>54.0</td>\n",
       "      <td>50.0</td>\n",
       "      <td>139797.0</td>\n",
       "      <td>Venta - Maure 3552 4º N Jardin</td>\n",
       "      <td>2588.833333</td>\n",
       "      <td>Medio</td>\n",
       "    </tr>\n",
       "    <tr>\n",
       "      <th>10645</th>\n",
       "      <td>WkBPu8yo/qD8xtp4m2Xtow==</td>\n",
       "      <td>2021-12-16</td>\n",
       "      <td>2022-02-09</td>\n",
       "      <td>-34.573555</td>\n",
       "      <td>-58.440367</td>\n",
       "      <td>Palermo</td>\n",
       "      <td>Departamento</td>\n",
       "      <td>1.0</td>\n",
       "      <td>1.0</td>\n",
       "      <td>26.0</td>\n",
       "      <td>26.0</td>\n",
       "      <td>54000.0</td>\n",
       "      <td>MONOAMBIENTE VENTA PALERMO BAJAS EXP</td>\n",
       "      <td>2076.923077</td>\n",
       "      <td>Medio</td>\n",
       "    </tr>\n",
       "    <tr>\n",
       "      <th>10646</th>\n",
       "      <td>DQrbC5hmTRl079aLUroCxA==</td>\n",
       "      <td>2021-10-02</td>\n",
       "      <td>2021-10-07</td>\n",
       "      <td>-34.624851</td>\n",
       "      <td>-58.434546</td>\n",
       "      <td>Caballito</td>\n",
       "      <td>Departamento</td>\n",
       "      <td>4.0</td>\n",
       "      <td>3.0</td>\n",
       "      <td>111.0</td>\n",
       "      <td>76.0</td>\n",
       "      <td>255000.0</td>\n",
       "      <td>VENTA DEPARTAMENTO  CABALLITO  4 AMBIENTES PATIOS</td>\n",
       "      <td>2297.297297</td>\n",
       "      <td>Medio</td>\n",
       "    </tr>\n",
       "    <tr>\n",
       "      <th>10647</th>\n",
       "      <td>h1pNdd1hR0S8uxPWQ3D5rA==</td>\n",
       "      <td>2021-01-07</td>\n",
       "      <td>2021-02-11</td>\n",
       "      <td>-34.568641</td>\n",
       "      <td>-58.446713</td>\n",
       "      <td>Palermo</td>\n",
       "      <td>Departamento</td>\n",
       "      <td>2.0</td>\n",
       "      <td>1.0</td>\n",
       "      <td>37.0</td>\n",
       "      <td>35.0</td>\n",
       "      <td>90000.0</td>\n",
       "      <td>Departamento - Palermo</td>\n",
       "      <td>2432.432432</td>\n",
       "      <td>Medio</td>\n",
       "    </tr>\n",
       "  </tbody>\n",
       "</table>\n",
       "<p>10648 rows × 15 columns</p>\n",
       "</div>"
      ],
      "text/plain": [
       "                             id  start_date    end_date    latitud   longitud  \\\n",
       "0      GrZ64pCxiOhtCZq4KgqxoQ==  2021-05-07  2021-05-08 -34.565080 -58.464190   \n",
       "1      OHosCWo/KF1eK/6CmBdUQw==  2021-08-24  2021-08-24 -34.593059 -58.406758   \n",
       "2      Y8K7ZUBw9NZCyJoQ3p5/ww==  2021-07-21  2021-11-28 -34.563755 -58.439019   \n",
       "3      /G46ns24536LY6XTnM7F3Q==  2021-02-05  2021-02-05 -34.590534 -58.411562   \n",
       "4      bjEF6kjPBNijD/SWCGXs1Q==  2021-01-21  2021-03-17 -34.609729 -58.421587   \n",
       "...                         ...         ...         ...        ...        ...   \n",
       "10643  EbpZ5Tl0YDy0iRaybU3wFg==  2021-02-11  2021-04-05 -34.595230 -58.409301   \n",
       "10644  eovjcfaKV44yRtidCOWjqg==  2021-01-22  2021-06-30 -34.581910 -58.449381   \n",
       "10645  WkBPu8yo/qD8xtp4m2Xtow==  2021-12-16  2022-02-09 -34.573555 -58.440367   \n",
       "10646  DQrbC5hmTRl079aLUroCxA==  2021-10-02  2021-10-07 -34.624851 -58.434546   \n",
       "10647  h1pNdd1hR0S8uxPWQ3D5rA==  2021-01-07  2021-02-11 -34.568641 -58.446713   \n",
       "\n",
       "           place_l3 property_type  property_rooms  property_bedrooms  \\\n",
       "0          Belgrano  Departamento             2.0                1.0   \n",
       "1      Barrio Norte  Departamento             3.0                2.0   \n",
       "2           Palermo            PH             2.0                1.0   \n",
       "3           Palermo  Departamento             3.0                2.0   \n",
       "4           Almagro  Departamento             1.0                1.0   \n",
       "...             ...           ...             ...                ...   \n",
       "10643      Recoleta  Departamento             3.0                2.0   \n",
       "10644       Palermo  Departamento             2.0                1.0   \n",
       "10645       Palermo  Departamento             1.0                1.0   \n",
       "10646     Caballito  Departamento             4.0                3.0   \n",
       "10647       Palermo  Departamento             2.0                1.0   \n",
       "\n",
       "       property_surface_total  property_surface_covered  property_price  \\\n",
       "0                        48.0                      37.0        120000.0   \n",
       "1                       122.0                      97.0        295000.0   \n",
       "2                        44.0                      35.0         95000.0   \n",
       "3                       106.0                      93.0        235000.0   \n",
       "4                        25.0                      25.0         50000.0   \n",
       "...                       ...                       ...             ...   \n",
       "10643                    73.0                      73.0        149000.0   \n",
       "10644                    54.0                      50.0        139797.0   \n",
       "10645                    26.0                      26.0         54000.0   \n",
       "10646                   111.0                      76.0        255000.0   \n",
       "10647                    37.0                      35.0         90000.0   \n",
       "\n",
       "                                          property_title         pxm2  \\\n",
       "0              Loft de dos ambientes con balcón y patio!  2500.000000   \n",
       "1      DEPARTAMENTO 3 AMB C/DEPENDENCIA, PATIO Y COCHERA  2418.032787   \n",
       "2          LACROZE 1700 - PH EN VENTA 2 AMB - A RECICLAR  2159.090909   \n",
       "3      Departamento 3 Ambientes con dependencia, baño...  2216.981132   \n",
       "4                         BME. MITRE Y MEDRANO - Almagro  2000.000000   \n",
       "...                                                  ...          ...   \n",
       "10643  3 AMBIENTES C/DEPENDENCIA · AGÜERO AL 1200 · R...  2041.095890   \n",
       "10644                     Venta - Maure 3552 4º N Jardin  2588.833333   \n",
       "10645               MONOAMBIENTE VENTA PALERMO BAJAS EXP  2076.923077   \n",
       "10646  VENTA DEPARTAMENTO  CABALLITO  4 AMBIENTES PATIOS  2297.297297   \n",
       "10647                             Departamento - Palermo  2432.432432   \n",
       "\n",
       "      tipo_precio  \n",
       "0           Medio  \n",
       "1           Medio  \n",
       "2            Alto  \n",
       "3           Medio  \n",
       "4           Medio  \n",
       "...           ...  \n",
       "10643       Medio  \n",
       "10644       Medio  \n",
       "10645       Medio  \n",
       "10646       Medio  \n",
       "10647       Medio  \n",
       "\n",
       "[10648 rows x 15 columns]"
      ]
     },
     "execution_count": 27,
     "metadata": {},
     "output_type": "execute_result"
    }
   ],
   "source": [
    "ds_test"
   ]
  },
  {
   "cell_type": "code",
   "execution_count": 28,
   "metadata": {
    "collapsed": false,
    "jupyter": {
     "outputs_hidden": false
    },
    "pycharm": {
     "name": "#%%\n"
    }
   },
   "outputs": [],
   "source": [
    "ds_train = pd.merge(ds_train, score_train, on='id')\n",
    "ds_train.rename(columns={'sentimiento': 'score_sentimientos'}, inplace=True)\n",
    "ds_test = pd.merge(ds_test, score_test, on='id')\n",
    "ds_test.rename(columns={'sentimiento': 'score_sentimientos'}, inplace=True)"
   ]
  },
  {
   "cell_type": "code",
   "execution_count": 29,
   "metadata": {
    "collapsed": false,
    "jupyter": {
     "outputs_hidden": false
    },
    "pycharm": {
     "name": "#%%\n"
    }
   },
   "outputs": [
    {
     "data": {
      "text/html": [
       "<div>\n",
       "<style scoped>\n",
       "    .dataframe tbody tr th:only-of-type {\n",
       "        vertical-align: middle;\n",
       "    }\n",
       "\n",
       "    .dataframe tbody tr th {\n",
       "        vertical-align: top;\n",
       "    }\n",
       "\n",
       "    .dataframe thead th {\n",
       "        text-align: right;\n",
       "    }\n",
       "</style>\n",
       "<table border=\"1\" class=\"dataframe\">\n",
       "  <thead>\n",
       "    <tr style=\"text-align: right;\">\n",
       "      <th></th>\n",
       "      <th>id</th>\n",
       "      <th>start_date</th>\n",
       "      <th>end_date</th>\n",
       "      <th>latitud</th>\n",
       "      <th>longitud</th>\n",
       "      <th>place_l3</th>\n",
       "      <th>property_type</th>\n",
       "      <th>property_rooms</th>\n",
       "      <th>property_bedrooms</th>\n",
       "      <th>property_surface_total</th>\n",
       "      <th>property_surface_covered</th>\n",
       "      <th>property_price</th>\n",
       "      <th>property_title</th>\n",
       "      <th>pxm2</th>\n",
       "      <th>tipo_precio</th>\n",
       "      <th>score_sentimientos</th>\n",
       "    </tr>\n",
       "  </thead>\n",
       "  <tbody>\n",
       "    <tr>\n",
       "      <th>0</th>\n",
       "      <td>GaA1Loss98RkxbEZq2wZpQ==</td>\n",
       "      <td>2021-08-30</td>\n",
       "      <td>2022-01-27</td>\n",
       "      <td>-34.551623</td>\n",
       "      <td>-58.491771</td>\n",
       "      <td>Saavedra</td>\n",
       "      <td>Departamento</td>\n",
       "      <td>1.0</td>\n",
       "      <td>1.0</td>\n",
       "      <td>37.0</td>\n",
       "      <td>33.0</td>\n",
       "      <td>90000.0</td>\n",
       "      <td>Departamento - 1 amb divisible-Saavedra</td>\n",
       "      <td>2432.432432</td>\n",
       "      <td>Medio</td>\n",
       "      <td>5</td>\n",
       "    </tr>\n",
       "    <tr>\n",
       "      <th>1</th>\n",
       "      <td>Tp+fdnNQpNzXUFo7W3q3vA==</td>\n",
       "      <td>2021-01-11</td>\n",
       "      <td>2021-02-11</td>\n",
       "      <td>-34.576289</td>\n",
       "      <td>-58.463635</td>\n",
       "      <td>Villa Ortuzar</td>\n",
       "      <td>PH</td>\n",
       "      <td>3.0</td>\n",
       "      <td>2.0</td>\n",
       "      <td>144.0</td>\n",
       "      <td>144.0</td>\n",
       "      <td>214600.0</td>\n",
       "      <td>Venta PH 3 ambientes patio y gran terraza sin ...</td>\n",
       "      <td>1490.277778</td>\n",
       "      <td>Medio</td>\n",
       "      <td>35</td>\n",
       "    </tr>\n",
       "    <tr>\n",
       "      <th>2</th>\n",
       "      <td>CR+neBgmAEDSo9LxI0x5iw==</td>\n",
       "      <td>2021-04-12</td>\n",
       "      <td>2021-06-05</td>\n",
       "      <td>-34.600150</td>\n",
       "      <td>-58.378244</td>\n",
       "      <td>San Nicolás</td>\n",
       "      <td>Departamento</td>\n",
       "      <td>2.0</td>\n",
       "      <td>1.0</td>\n",
       "      <td>46.0</td>\n",
       "      <td>41.0</td>\n",
       "      <td>63000.0</td>\n",
       "      <td>Departamento - San Nicolas</td>\n",
       "      <td>1369.565217</td>\n",
       "      <td>Bajo</td>\n",
       "      <td>17</td>\n",
       "    </tr>\n",
       "    <tr>\n",
       "      <th>3</th>\n",
       "      <td>chtUpatpDQQL247Lt+Np2g==</td>\n",
       "      <td>2021-01-16</td>\n",
       "      <td>9999-12-31</td>\n",
       "      <td>-34.641450</td>\n",
       "      <td>-58.372804</td>\n",
       "      <td>Barracas</td>\n",
       "      <td>Departamento</td>\n",
       "      <td>4.0</td>\n",
       "      <td>3.0</td>\n",
       "      <td>65.0</td>\n",
       "      <td>65.0</td>\n",
       "      <td>102000.0</td>\n",
       "      <td>Departamento - Barracas</td>\n",
       "      <td>1569.230769</td>\n",
       "      <td>Bajo</td>\n",
       "      <td>9</td>\n",
       "    </tr>\n",
       "    <tr>\n",
       "      <th>4</th>\n",
       "      <td>q6JgVplw0pYiAx/nlX/EVQ==</td>\n",
       "      <td>2021-03-24</td>\n",
       "      <td>2021-06-05</td>\n",
       "      <td>-34.629050</td>\n",
       "      <td>-58.468088</td>\n",
       "      <td>Flores</td>\n",
       "      <td>Casa</td>\n",
       "      <td>5.0</td>\n",
       "      <td>4.0</td>\n",
       "      <td>215.0</td>\n",
       "      <td>155.0</td>\n",
       "      <td>285000.0</td>\n",
       "      <td>Casa - Excelente propiedas en Flores unica por...</td>\n",
       "      <td>1325.581395</td>\n",
       "      <td>Medio</td>\n",
       "      <td>33</td>\n",
       "    </tr>\n",
       "  </tbody>\n",
       "</table>\n",
       "</div>"
      ],
      "text/plain": [
       "                         id  start_date    end_date    latitud   longitud  \\\n",
       "0  GaA1Loss98RkxbEZq2wZpQ==  2021-08-30  2022-01-27 -34.551623 -58.491771   \n",
       "1  Tp+fdnNQpNzXUFo7W3q3vA==  2021-01-11  2021-02-11 -34.576289 -58.463635   \n",
       "2  CR+neBgmAEDSo9LxI0x5iw==  2021-04-12  2021-06-05 -34.600150 -58.378244   \n",
       "3  chtUpatpDQQL247Lt+Np2g==  2021-01-16  9999-12-31 -34.641450 -58.372804   \n",
       "4  q6JgVplw0pYiAx/nlX/EVQ==  2021-03-24  2021-06-05 -34.629050 -58.468088   \n",
       "\n",
       "        place_l3 property_type  property_rooms  property_bedrooms  \\\n",
       "0       Saavedra  Departamento             1.0                1.0   \n",
       "1  Villa Ortuzar            PH             3.0                2.0   \n",
       "2    San Nicolás  Departamento             2.0                1.0   \n",
       "3       Barracas  Departamento             4.0                3.0   \n",
       "4         Flores          Casa             5.0                4.0   \n",
       "\n",
       "   property_surface_total  property_surface_covered  property_price  \\\n",
       "0                    37.0                      33.0         90000.0   \n",
       "1                   144.0                     144.0        214600.0   \n",
       "2                    46.0                      41.0         63000.0   \n",
       "3                    65.0                      65.0        102000.0   \n",
       "4                   215.0                     155.0        285000.0   \n",
       "\n",
       "                                      property_title         pxm2 tipo_precio  \\\n",
       "0            Departamento - 1 amb divisible-Saavedra  2432.432432       Medio   \n",
       "1  Venta PH 3 ambientes patio y gran terraza sin ...  1490.277778       Medio   \n",
       "2                         Departamento - San Nicolas  1369.565217        Bajo   \n",
       "3                            Departamento - Barracas  1569.230769        Bajo   \n",
       "4  Casa - Excelente propiedas en Flores unica por...  1325.581395       Medio   \n",
       "\n",
       "   score_sentimientos  \n",
       "0                   5  \n",
       "1                  35  \n",
       "2                  17  \n",
       "3                   9  \n",
       "4                  33  "
      ]
     },
     "execution_count": 29,
     "metadata": {},
     "output_type": "execute_result"
    }
   ],
   "source": [
    "ds_train.head()"
   ]
  },
  {
   "cell_type": "markdown",
   "metadata": {
    "pycharm": {
     "name": "#%% md\n"
    }
   },
   "source": [
    "#### Tecnica Regex"
   ]
  },
  {
   "cell_type": "markdown",
   "metadata": {
    "pycharm": {
     "name": "#%% md\n"
    }
   },
   "source": [
    "Revisamos las siguientes paginas para entender cuales son los ammenities mas buscados en CABA, y en Argentina en general.\n",
    "\n",
    "https://www.iprofesional.com/negocios/371702-cuales-son-los-amenities-mas-exoticos-de-edificios-en-argentina\n",
    "\n",
    "https://www.baenegocios.com/sociedad/Ranking-de-amenities-los-servicios-que-mas-pesan-al-comprar-una-propiedad-20220119-0068.html\n",
    "\n",
    "https://www.forbesargentina.com/negocios/amenities-servicios-mas-demandados-argentinos-comprar-una-propiedad-n11901\n",
    "\n",
    "Dichos ammenities parecen hacer que la propiedad cotice entre un 15% y un 20% más que el precio de venta.\n",
    "\n",
    "Sacando un promedio y haciendo un top-5 ranking, podemos notar que los mas relevantes son:\n",
    "\n",
    "- Garage/Estacionamiento\n",
    "- Pileta\n",
    "- Jardin/Espacio al aire libre\n",
    "- Parrilla\n",
    "- SUM (Gimnasio/Spa/Sauna)\n",
    "\n",
    "Al buscar estos datos, podriamos tratar de entender si el precio resulta mayor, contra una propiedad de similares caracteristicas pero sin estos ammenities y a partir de eso, entender que % varía del precio de venta original."
   ]
  },
  {
   "cell_type": "code",
   "execution_count": 30,
   "metadata": {
    "collapsed": false,
    "jupyter": {
     "outputs_hidden": false
    },
    "pycharm": {
     "name": "#%%\n"
    }
   },
   "outputs": [],
   "source": [
    "def calculate_freq(feature, regex):\n",
    "    freq = descriptions_train.property_description.str.contains(regex, regex=True).sum()\n",
    "    print(\n",
    "        f\"Los anuncios de propiedades que tienen la feature {feature} son: {freq} y representan el {freq * 100 // len(descriptions_train)}% de los datos\")"
   ]
  },
  {
   "cell_type": "markdown",
   "metadata": {
    "pycharm": {
     "name": "#%% md\n"
    }
   },
   "source": [
    "##### Amenities"
   ]
  },
  {
   "cell_type": "code",
   "execution_count": 31,
   "metadata": {
    "collapsed": false,
    "jupyter": {
     "outputs_hidden": false
    },
    "pycharm": {
     "name": "#%%\n"
    }
   },
   "outputs": [
    {
     "name": "stdout",
     "output_type": "stream",
     "text": [
      "Los anuncios de propiedades que tienen la feature Garage son: 1476 y representan el 2% de los datos\n"
     ]
    }
   ],
   "source": [
    "garage = re.compile(r\"\\s*garage|garaje|estacionamiento|parking\")\n",
    "calculate_freq(\"Garage\", garage)"
   ]
  },
  {
   "cell_type": "code",
   "execution_count": 32,
   "metadata": {
    "collapsed": false,
    "jupyter": {
     "outputs_hidden": false
    },
    "pycharm": {
     "name": "#%%\n"
    }
   },
   "outputs": [
    {
     "name": "stdout",
     "output_type": "stream",
     "text": [
      "Los anuncios de propiedades que tienen la feature Pileta son: 4618 y representan el 6% de los datos\n"
     ]
    }
   ],
   "source": [
    "pileta = re.compile(r\"\\s*pileta\")\n",
    "calculate_freq(\"Pileta\", pileta)"
   ]
  },
  {
   "cell_type": "code",
   "execution_count": 33,
   "metadata": {
    "collapsed": false,
    "jupyter": {
     "outputs_hidden": false
    },
    "pycharm": {
     "name": "#%%\n"
    }
   },
   "outputs": [
    {
     "name": "stdout",
     "output_type": "stream",
     "text": [
      "Los anuncios de propiedades que tienen la feature Jardín son: 1455 y representan el 2% de los datos\n"
     ]
    }
   ],
   "source": [
    "jardin = re.compile(r\"\\s*jardin|espacio verde\")\n",
    "calculate_freq(\"Jardín\", jardin)"
   ]
  },
  {
   "cell_type": "code",
   "execution_count": 34,
   "metadata": {
    "collapsed": false,
    "jupyter": {
     "outputs_hidden": false
    },
    "pycharm": {
     "name": "#%%\n"
    }
   },
   "outputs": [
    {
     "name": "stdout",
     "output_type": "stream",
     "text": [
      "Los anuncios de propiedades que tienen la feature Parrilla son: 12823 y representan el 18% de los datos\n"
     ]
    }
   ],
   "source": [
    "parrilla = re.compile(r\"\\s*parrilla|bbq\")\n",
    "calculate_freq(\"Parrilla\", parrilla)"
   ]
  },
  {
   "cell_type": "code",
   "execution_count": 35,
   "metadata": {
    "collapsed": false,
    "jupyter": {
     "outputs_hidden": false
    },
    "pycharm": {
     "name": "#%%\n"
    }
   },
   "outputs": [
    {
     "name": "stdout",
     "output_type": "stream",
     "text": [
      "Los anuncios de propiedades que tienen la feature SUM son: 26309 y representan el 37% de los datos\n"
     ]
    }
   ],
   "source": [
    "sum = re.compile(r\"\\s*zoom|sum|gimansio|spa\")\n",
    "calculate_freq(\"SUM\", sum)"
   ]
  },
  {
   "cell_type": "code",
   "execution_count": 36,
   "metadata": {
    "collapsed": false,
    "jupyter": {
     "outputs_hidden": false
    },
    "pycharm": {
     "name": "#%%\n"
    }
   },
   "outputs": [
    {
     "name": "stdout",
     "output_type": "stream",
     "text": [
      "Los anuncios de propiedades que tienen la feature Balcón son: 32860 y representan el 47% de los datos\n"
     ]
    }
   ],
   "source": [
    "balcon = re.compile(r\"\\s*balcon|balcón\")\n",
    "calculate_freq(\"Balcón\", balcon)"
   ]
  },
  {
   "cell_type": "markdown",
   "metadata": {
    "pycharm": {
     "name": "#%% md\n"
    }
   },
   "source": [
    "Otro aspecto interesante que dejamos fuera del análisis es a que tipo de vivienda pertenece cada ammenity. Y si donde encontramos una amenity en particular, encontramos consecuentemente otra. Por ejemplo, una casa con jardin y parrila y/o pileta. De esta manera podriamos tratar de determinar el costo de cada ammenity o como afecta al precio."
   ]
  },
  {
   "cell_type": "markdown",
   "metadata": {
    "pycharm": {
     "name": "#%% md\n"
    }
   },
   "source": [
    "Por último, construiremos columnas booleanas para los mejores features y las agregaremos a nuestros datasets. Usaremos parrilla, sum, balcón y pileta."
   ]
  },
  {
   "cell_type": "code",
   "execution_count": 37,
   "metadata": {
    "collapsed": false,
    "jupyter": {
     "outputs_hidden": false
    },
    "pycharm": {
     "name": "#%%\n"
    }
   },
   "outputs": [
    {
     "data": {
      "text/html": [
       "<div>\n",
       "<style scoped>\n",
       "    .dataframe tbody tr th:only-of-type {\n",
       "        vertical-align: middle;\n",
       "    }\n",
       "\n",
       "    .dataframe tbody tr th {\n",
       "        vertical-align: top;\n",
       "    }\n",
       "\n",
       "    .dataframe thead th {\n",
       "        text-align: right;\n",
       "    }\n",
       "</style>\n",
       "<table border=\"1\" class=\"dataframe\">\n",
       "  <thead>\n",
       "    <tr style=\"text-align: right;\">\n",
       "      <th></th>\n",
       "      <th>id</th>\n",
       "      <th>pileta</th>\n",
       "      <th>parrilla</th>\n",
       "      <th>balcon</th>\n",
       "      <th>sum</th>\n",
       "    </tr>\n",
       "  </thead>\n",
       "  <tbody>\n",
       "    <tr>\n",
       "      <th>0</th>\n",
       "      <td>BZCeiGkJr1WBUi6pKJQwJQ==</td>\n",
       "      <td>False</td>\n",
       "      <td>False</td>\n",
       "      <td>False</td>\n",
       "      <td>False</td>\n",
       "    </tr>\n",
       "    <tr>\n",
       "      <th>3</th>\n",
       "      <td>gn55JPmcjftBV/at1a7fPg==</td>\n",
       "      <td>False</td>\n",
       "      <td>False</td>\n",
       "      <td>False</td>\n",
       "      <td>False</td>\n",
       "    </tr>\n",
       "    <tr>\n",
       "      <th>11</th>\n",
       "      <td>uH5H+RfQM87Qtrb13+T4hA==</td>\n",
       "      <td>False</td>\n",
       "      <td>False</td>\n",
       "      <td>False</td>\n",
       "      <td>False</td>\n",
       "    </tr>\n",
       "    <tr>\n",
       "      <th>13</th>\n",
       "      <td>47t2G764+Gk5EkoUiVc7Qg==</td>\n",
       "      <td>False</td>\n",
       "      <td>False</td>\n",
       "      <td>False</td>\n",
       "      <td>False</td>\n",
       "    </tr>\n",
       "    <tr>\n",
       "      <th>15</th>\n",
       "      <td>lRVjhy5UZA9SOOLnfLJ6jA==</td>\n",
       "      <td>False</td>\n",
       "      <td>False</td>\n",
       "      <td>False</td>\n",
       "      <td>False</td>\n",
       "    </tr>\n",
       "  </tbody>\n",
       "</table>\n",
       "</div>"
      ],
      "text/plain": [
       "                          id  pileta  parrilla  balcon    sum\n",
       "0   BZCeiGkJr1WBUi6pKJQwJQ==   False     False   False  False\n",
       "3   gn55JPmcjftBV/at1a7fPg==   False     False   False  False\n",
       "11  uH5H+RfQM87Qtrb13+T4hA==   False     False   False  False\n",
       "13  47t2G764+Gk5EkoUiVc7Qg==   False     False   False  False\n",
       "15  lRVjhy5UZA9SOOLnfLJ6jA==   False     False   False  False"
      ]
     },
     "execution_count": 37,
     "metadata": {},
     "output_type": "execute_result"
    }
   ],
   "source": [
    "amenities_train = pd.DataFrame({\n",
    "    'id': descriptions_train.id,\n",
    "    'pileta': descriptions_train.property_description.str.contains(pileta, regex=True),\n",
    "    'parrilla': descriptions_train.property_description.str.contains(parrilla, regex=True),\n",
    "    'balcon': descriptions_train.property_description.str.contains(balcon, regex=True),\n",
    "    'sum': descriptions_train.property_description.str.contains(sum, regex=True)\n",
    "})\n",
    "amenities_train.head()"
   ]
  },
  {
   "cell_type": "code",
   "execution_count": 38,
   "metadata": {
    "collapsed": false,
    "jupyter": {
     "outputs_hidden": false
    },
    "pycharm": {
     "name": "#%%\n"
    }
   },
   "outputs": [
    {
     "data": {
      "text/html": [
       "<div>\n",
       "<style scoped>\n",
       "    .dataframe tbody tr th:only-of-type {\n",
       "        vertical-align: middle;\n",
       "    }\n",
       "\n",
       "    .dataframe tbody tr th {\n",
       "        vertical-align: top;\n",
       "    }\n",
       "\n",
       "    .dataframe thead th {\n",
       "        text-align: right;\n",
       "    }\n",
       "</style>\n",
       "<table border=\"1\" class=\"dataframe\">\n",
       "  <thead>\n",
       "    <tr style=\"text-align: right;\">\n",
       "      <th></th>\n",
       "      <th>id</th>\n",
       "      <th>pileta</th>\n",
       "      <th>parrilla</th>\n",
       "      <th>balcon</th>\n",
       "      <th>sum</th>\n",
       "    </tr>\n",
       "  </thead>\n",
       "  <tbody>\n",
       "    <tr>\n",
       "      <th>2</th>\n",
       "      <td>TUL813tXchVBlHUsfaA6DA==</td>\n",
       "      <td>False</td>\n",
       "      <td>True</td>\n",
       "      <td>True</td>\n",
       "      <td>False</td>\n",
       "    </tr>\n",
       "    <tr>\n",
       "      <th>151</th>\n",
       "      <td>ns8QWxBXYIdnEccdiu3qog==</td>\n",
       "      <td>False</td>\n",
       "      <td>False</td>\n",
       "      <td>False</td>\n",
       "      <td>False</td>\n",
       "    </tr>\n",
       "    <tr>\n",
       "      <th>208</th>\n",
       "      <td>boCXaj+OYbucoJeinbtaOg==</td>\n",
       "      <td>False</td>\n",
       "      <td>False</td>\n",
       "      <td>True</td>\n",
       "      <td>True</td>\n",
       "    </tr>\n",
       "    <tr>\n",
       "      <th>239</th>\n",
       "      <td>MAewqGlr+bEVCoz1BmrrVA==</td>\n",
       "      <td>False</td>\n",
       "      <td>False</td>\n",
       "      <td>True</td>\n",
       "      <td>True</td>\n",
       "    </tr>\n",
       "    <tr>\n",
       "      <th>241</th>\n",
       "      <td>kIh1t01TEOIAa0g1Wkd4kQ==</td>\n",
       "      <td>False</td>\n",
       "      <td>False</td>\n",
       "      <td>False</td>\n",
       "      <td>False</td>\n",
       "    </tr>\n",
       "  </tbody>\n",
       "</table>\n",
       "</div>"
      ],
      "text/plain": [
       "                           id  pileta  parrilla  balcon    sum\n",
       "2    TUL813tXchVBlHUsfaA6DA==   False      True    True  False\n",
       "151  ns8QWxBXYIdnEccdiu3qog==   False     False   False  False\n",
       "208  boCXaj+OYbucoJeinbtaOg==   False     False    True   True\n",
       "239  MAewqGlr+bEVCoz1BmrrVA==   False     False    True   True\n",
       "241  kIh1t01TEOIAa0g1Wkd4kQ==   False     False   False  False"
      ]
     },
     "execution_count": 38,
     "metadata": {},
     "output_type": "execute_result"
    }
   ],
   "source": [
    "# Replicamos lo mismo en test\n",
    "amenities_test = pd.DataFrame({\n",
    "    'id': descriptions_test.id,\n",
    "    'pileta': descriptions_test.property_description.str.contains(pileta, regex=True),\n",
    "    'parrilla': descriptions_test.property_description.str.contains(parrilla, regex=True),\n",
    "    'balcon': descriptions_test.property_description.str.contains(balcon, regex=True),\n",
    "    'sum': descriptions_test.property_description.str.contains(sum, regex=True)\n",
    "})\n",
    "amenities_test.head()"
   ]
  },
  {
   "cell_type": "code",
   "execution_count": 39,
   "metadata": {
    "collapsed": false,
    "jupyter": {
     "outputs_hidden": false
    },
    "pycharm": {
     "name": "#%%\n"
    }
   },
   "outputs": [
    {
     "data": {
      "text/html": [
       "<div>\n",
       "<style scoped>\n",
       "    .dataframe tbody tr th:only-of-type {\n",
       "        vertical-align: middle;\n",
       "    }\n",
       "\n",
       "    .dataframe tbody tr th {\n",
       "        vertical-align: top;\n",
       "    }\n",
       "\n",
       "    .dataframe thead th {\n",
       "        text-align: right;\n",
       "    }\n",
       "</style>\n",
       "<table border=\"1\" class=\"dataframe\">\n",
       "  <thead>\n",
       "    <tr style=\"text-align: right;\">\n",
       "      <th></th>\n",
       "      <th>id</th>\n",
       "      <th>start_date</th>\n",
       "      <th>end_date</th>\n",
       "      <th>latitud</th>\n",
       "      <th>longitud</th>\n",
       "      <th>place_l3</th>\n",
       "      <th>property_type</th>\n",
       "      <th>property_rooms</th>\n",
       "      <th>property_bedrooms</th>\n",
       "      <th>property_surface_total</th>\n",
       "      <th>property_surface_covered</th>\n",
       "      <th>property_price</th>\n",
       "      <th>property_title</th>\n",
       "      <th>pxm2</th>\n",
       "      <th>tipo_precio</th>\n",
       "      <th>score_sentimientos</th>\n",
       "    </tr>\n",
       "  </thead>\n",
       "  <tbody>\n",
       "    <tr>\n",
       "      <th>0</th>\n",
       "      <td>GrZ64pCxiOhtCZq4KgqxoQ==</td>\n",
       "      <td>2021-05-07</td>\n",
       "      <td>2021-05-08</td>\n",
       "      <td>-34.565080</td>\n",
       "      <td>-58.464190</td>\n",
       "      <td>Belgrano</td>\n",
       "      <td>Departamento</td>\n",
       "      <td>2.0</td>\n",
       "      <td>1.0</td>\n",
       "      <td>48.0</td>\n",
       "      <td>37.0</td>\n",
       "      <td>120000.0</td>\n",
       "      <td>Loft de dos ambientes con balcón y patio!</td>\n",
       "      <td>2500.000000</td>\n",
       "      <td>Medio</td>\n",
       "      <td>11</td>\n",
       "    </tr>\n",
       "    <tr>\n",
       "      <th>1</th>\n",
       "      <td>OHosCWo/KF1eK/6CmBdUQw==</td>\n",
       "      <td>2021-08-24</td>\n",
       "      <td>2021-08-24</td>\n",
       "      <td>-34.593059</td>\n",
       "      <td>-58.406758</td>\n",
       "      <td>Barrio Norte</td>\n",
       "      <td>Departamento</td>\n",
       "      <td>3.0</td>\n",
       "      <td>2.0</td>\n",
       "      <td>122.0</td>\n",
       "      <td>97.0</td>\n",
       "      <td>295000.0</td>\n",
       "      <td>DEPARTAMENTO 3 AMB C/DEPENDENCIA, PATIO Y COCHERA</td>\n",
       "      <td>2418.032787</td>\n",
       "      <td>Medio</td>\n",
       "      <td>26</td>\n",
       "    </tr>\n",
       "    <tr>\n",
       "      <th>2</th>\n",
       "      <td>Y8K7ZUBw9NZCyJoQ3p5/ww==</td>\n",
       "      <td>2021-07-21</td>\n",
       "      <td>2021-11-28</td>\n",
       "      <td>-34.563755</td>\n",
       "      <td>-58.439019</td>\n",
       "      <td>Palermo</td>\n",
       "      <td>PH</td>\n",
       "      <td>2.0</td>\n",
       "      <td>1.0</td>\n",
       "      <td>44.0</td>\n",
       "      <td>35.0</td>\n",
       "      <td>95000.0</td>\n",
       "      <td>LACROZE 1700 - PH EN VENTA 2 AMB - A RECICLAR</td>\n",
       "      <td>2159.090909</td>\n",
       "      <td>Alto</td>\n",
       "      <td>22</td>\n",
       "    </tr>\n",
       "    <tr>\n",
       "      <th>3</th>\n",
       "      <td>/G46ns24536LY6XTnM7F3Q==</td>\n",
       "      <td>2021-02-05</td>\n",
       "      <td>2021-02-05</td>\n",
       "      <td>-34.590534</td>\n",
       "      <td>-58.411562</td>\n",
       "      <td>Palermo</td>\n",
       "      <td>Departamento</td>\n",
       "      <td>3.0</td>\n",
       "      <td>2.0</td>\n",
       "      <td>106.0</td>\n",
       "      <td>93.0</td>\n",
       "      <td>235000.0</td>\n",
       "      <td>Departamento 3 Ambientes con dependencia, baño...</td>\n",
       "      <td>2216.981132</td>\n",
       "      <td>Medio</td>\n",
       "      <td>17</td>\n",
       "    </tr>\n",
       "    <tr>\n",
       "      <th>4</th>\n",
       "      <td>bjEF6kjPBNijD/SWCGXs1Q==</td>\n",
       "      <td>2021-01-21</td>\n",
       "      <td>2021-03-17</td>\n",
       "      <td>-34.609729</td>\n",
       "      <td>-58.421587</td>\n",
       "      <td>Almagro</td>\n",
       "      <td>Departamento</td>\n",
       "      <td>1.0</td>\n",
       "      <td>1.0</td>\n",
       "      <td>25.0</td>\n",
       "      <td>25.0</td>\n",
       "      <td>50000.0</td>\n",
       "      <td>BME. MITRE Y MEDRANO - Almagro</td>\n",
       "      <td>2000.000000</td>\n",
       "      <td>Medio</td>\n",
       "      <td>5</td>\n",
       "    </tr>\n",
       "    <tr>\n",
       "      <th>...</th>\n",
       "      <td>...</td>\n",
       "      <td>...</td>\n",
       "      <td>...</td>\n",
       "      <td>...</td>\n",
       "      <td>...</td>\n",
       "      <td>...</td>\n",
       "      <td>...</td>\n",
       "      <td>...</td>\n",
       "      <td>...</td>\n",
       "      <td>...</td>\n",
       "      <td>...</td>\n",
       "      <td>...</td>\n",
       "      <td>...</td>\n",
       "      <td>...</td>\n",
       "      <td>...</td>\n",
       "      <td>...</td>\n",
       "    </tr>\n",
       "    <tr>\n",
       "      <th>10553</th>\n",
       "      <td>EbpZ5Tl0YDy0iRaybU3wFg==</td>\n",
       "      <td>2021-02-11</td>\n",
       "      <td>2021-04-05</td>\n",
       "      <td>-34.595230</td>\n",
       "      <td>-58.409301</td>\n",
       "      <td>Recoleta</td>\n",
       "      <td>Departamento</td>\n",
       "      <td>3.0</td>\n",
       "      <td>2.0</td>\n",
       "      <td>73.0</td>\n",
       "      <td>73.0</td>\n",
       "      <td>149000.0</td>\n",
       "      <td>3 AMBIENTES C/DEPENDENCIA · AGÜERO AL 1200 · R...</td>\n",
       "      <td>2041.095890</td>\n",
       "      <td>Medio</td>\n",
       "      <td>30</td>\n",
       "    </tr>\n",
       "    <tr>\n",
       "      <th>10554</th>\n",
       "      <td>eovjcfaKV44yRtidCOWjqg==</td>\n",
       "      <td>2021-01-22</td>\n",
       "      <td>2021-06-30</td>\n",
       "      <td>-34.581910</td>\n",
       "      <td>-58.449381</td>\n",
       "      <td>Palermo</td>\n",
       "      <td>Departamento</td>\n",
       "      <td>2.0</td>\n",
       "      <td>1.0</td>\n",
       "      <td>54.0</td>\n",
       "      <td>50.0</td>\n",
       "      <td>139797.0</td>\n",
       "      <td>Venta - Maure 3552 4º N Jardin</td>\n",
       "      <td>2588.833333</td>\n",
       "      <td>Medio</td>\n",
       "      <td>0</td>\n",
       "    </tr>\n",
       "    <tr>\n",
       "      <th>10555</th>\n",
       "      <td>WkBPu8yo/qD8xtp4m2Xtow==</td>\n",
       "      <td>2021-12-16</td>\n",
       "      <td>2022-02-09</td>\n",
       "      <td>-34.573555</td>\n",
       "      <td>-58.440367</td>\n",
       "      <td>Palermo</td>\n",
       "      <td>Departamento</td>\n",
       "      <td>1.0</td>\n",
       "      <td>1.0</td>\n",
       "      <td>26.0</td>\n",
       "      <td>26.0</td>\n",
       "      <td>54000.0</td>\n",
       "      <td>MONOAMBIENTE VENTA PALERMO BAJAS EXP</td>\n",
       "      <td>2076.923077</td>\n",
       "      <td>Medio</td>\n",
       "      <td>37</td>\n",
       "    </tr>\n",
       "    <tr>\n",
       "      <th>10556</th>\n",
       "      <td>DQrbC5hmTRl079aLUroCxA==</td>\n",
       "      <td>2021-10-02</td>\n",
       "      <td>2021-10-07</td>\n",
       "      <td>-34.624851</td>\n",
       "      <td>-58.434546</td>\n",
       "      <td>Caballito</td>\n",
       "      <td>Departamento</td>\n",
       "      <td>4.0</td>\n",
       "      <td>3.0</td>\n",
       "      <td>111.0</td>\n",
       "      <td>76.0</td>\n",
       "      <td>255000.0</td>\n",
       "      <td>VENTA DEPARTAMENTO  CABALLITO  4 AMBIENTES PATIOS</td>\n",
       "      <td>2297.297297</td>\n",
       "      <td>Medio</td>\n",
       "      <td>40</td>\n",
       "    </tr>\n",
       "    <tr>\n",
       "      <th>10557</th>\n",
       "      <td>h1pNdd1hR0S8uxPWQ3D5rA==</td>\n",
       "      <td>2021-01-07</td>\n",
       "      <td>2021-02-11</td>\n",
       "      <td>-34.568641</td>\n",
       "      <td>-58.446713</td>\n",
       "      <td>Palermo</td>\n",
       "      <td>Departamento</td>\n",
       "      <td>2.0</td>\n",
       "      <td>1.0</td>\n",
       "      <td>37.0</td>\n",
       "      <td>35.0</td>\n",
       "      <td>90000.0</td>\n",
       "      <td>Departamento - Palermo</td>\n",
       "      <td>2432.432432</td>\n",
       "      <td>Medio</td>\n",
       "      <td>-2</td>\n",
       "    </tr>\n",
       "  </tbody>\n",
       "</table>\n",
       "<p>10558 rows × 16 columns</p>\n",
       "</div>"
      ],
      "text/plain": [
       "                             id  start_date    end_date    latitud   longitud  \\\n",
       "0      GrZ64pCxiOhtCZq4KgqxoQ==  2021-05-07  2021-05-08 -34.565080 -58.464190   \n",
       "1      OHosCWo/KF1eK/6CmBdUQw==  2021-08-24  2021-08-24 -34.593059 -58.406758   \n",
       "2      Y8K7ZUBw9NZCyJoQ3p5/ww==  2021-07-21  2021-11-28 -34.563755 -58.439019   \n",
       "3      /G46ns24536LY6XTnM7F3Q==  2021-02-05  2021-02-05 -34.590534 -58.411562   \n",
       "4      bjEF6kjPBNijD/SWCGXs1Q==  2021-01-21  2021-03-17 -34.609729 -58.421587   \n",
       "...                         ...         ...         ...        ...        ...   \n",
       "10553  EbpZ5Tl0YDy0iRaybU3wFg==  2021-02-11  2021-04-05 -34.595230 -58.409301   \n",
       "10554  eovjcfaKV44yRtidCOWjqg==  2021-01-22  2021-06-30 -34.581910 -58.449381   \n",
       "10555  WkBPu8yo/qD8xtp4m2Xtow==  2021-12-16  2022-02-09 -34.573555 -58.440367   \n",
       "10556  DQrbC5hmTRl079aLUroCxA==  2021-10-02  2021-10-07 -34.624851 -58.434546   \n",
       "10557  h1pNdd1hR0S8uxPWQ3D5rA==  2021-01-07  2021-02-11 -34.568641 -58.446713   \n",
       "\n",
       "           place_l3 property_type  property_rooms  property_bedrooms  \\\n",
       "0          Belgrano  Departamento             2.0                1.0   \n",
       "1      Barrio Norte  Departamento             3.0                2.0   \n",
       "2           Palermo            PH             2.0                1.0   \n",
       "3           Palermo  Departamento             3.0                2.0   \n",
       "4           Almagro  Departamento             1.0                1.0   \n",
       "...             ...           ...             ...                ...   \n",
       "10553      Recoleta  Departamento             3.0                2.0   \n",
       "10554       Palermo  Departamento             2.0                1.0   \n",
       "10555       Palermo  Departamento             1.0                1.0   \n",
       "10556     Caballito  Departamento             4.0                3.0   \n",
       "10557       Palermo  Departamento             2.0                1.0   \n",
       "\n",
       "       property_surface_total  property_surface_covered  property_price  \\\n",
       "0                        48.0                      37.0        120000.0   \n",
       "1                       122.0                      97.0        295000.0   \n",
       "2                        44.0                      35.0         95000.0   \n",
       "3                       106.0                      93.0        235000.0   \n",
       "4                        25.0                      25.0         50000.0   \n",
       "...                       ...                       ...             ...   \n",
       "10553                    73.0                      73.0        149000.0   \n",
       "10554                    54.0                      50.0        139797.0   \n",
       "10555                    26.0                      26.0         54000.0   \n",
       "10556                   111.0                      76.0        255000.0   \n",
       "10557                    37.0                      35.0         90000.0   \n",
       "\n",
       "                                          property_title         pxm2  \\\n",
       "0              Loft de dos ambientes con balcón y patio!  2500.000000   \n",
       "1      DEPARTAMENTO 3 AMB C/DEPENDENCIA, PATIO Y COCHERA  2418.032787   \n",
       "2          LACROZE 1700 - PH EN VENTA 2 AMB - A RECICLAR  2159.090909   \n",
       "3      Departamento 3 Ambientes con dependencia, baño...  2216.981132   \n",
       "4                         BME. MITRE Y MEDRANO - Almagro  2000.000000   \n",
       "...                                                  ...          ...   \n",
       "10553  3 AMBIENTES C/DEPENDENCIA · AGÜERO AL 1200 · R...  2041.095890   \n",
       "10554                     Venta - Maure 3552 4º N Jardin  2588.833333   \n",
       "10555               MONOAMBIENTE VENTA PALERMO BAJAS EXP  2076.923077   \n",
       "10556  VENTA DEPARTAMENTO  CABALLITO  4 AMBIENTES PATIOS  2297.297297   \n",
       "10557                             Departamento - Palermo  2432.432432   \n",
       "\n",
       "      tipo_precio  score_sentimientos  \n",
       "0           Medio                  11  \n",
       "1           Medio                  26  \n",
       "2            Alto                  22  \n",
       "3           Medio                  17  \n",
       "4           Medio                   5  \n",
       "...           ...                 ...  \n",
       "10553       Medio                  30  \n",
       "10554       Medio                   0  \n",
       "10555       Medio                  37  \n",
       "10556       Medio                  40  \n",
       "10557       Medio                  -2  \n",
       "\n",
       "[10558 rows x 16 columns]"
      ]
     },
     "execution_count": 39,
     "metadata": {},
     "output_type": "execute_result"
    }
   ],
   "source": [
    "ds_test"
   ]
  },
  {
   "cell_type": "code",
   "execution_count": 40,
   "metadata": {
    "collapsed": false,
    "jupyter": {
     "outputs_hidden": false
    },
    "pycharm": {
     "name": "#%%\n"
    }
   },
   "outputs": [
    {
     "data": {
      "text/html": [
       "<div>\n",
       "<style scoped>\n",
       "    .dataframe tbody tr th:only-of-type {\n",
       "        vertical-align: middle;\n",
       "    }\n",
       "\n",
       "    .dataframe tbody tr th {\n",
       "        vertical-align: top;\n",
       "    }\n",
       "\n",
       "    .dataframe thead th {\n",
       "        text-align: right;\n",
       "    }\n",
       "</style>\n",
       "<table border=\"1\" class=\"dataframe\">\n",
       "  <thead>\n",
       "    <tr style=\"text-align: right;\">\n",
       "      <th></th>\n",
       "      <th>id</th>\n",
       "      <th>start_date</th>\n",
       "      <th>end_date</th>\n",
       "      <th>latitud</th>\n",
       "      <th>longitud</th>\n",
       "      <th>place_l3</th>\n",
       "      <th>property_type</th>\n",
       "      <th>property_rooms</th>\n",
       "      <th>property_bedrooms</th>\n",
       "      <th>property_surface_total</th>\n",
       "      <th>property_surface_covered</th>\n",
       "      <th>property_price</th>\n",
       "      <th>property_title</th>\n",
       "      <th>pxm2</th>\n",
       "      <th>tipo_precio</th>\n",
       "      <th>score_sentimientos</th>\n",
       "      <th>pileta</th>\n",
       "      <th>parrilla</th>\n",
       "      <th>balcon</th>\n",
       "      <th>sum</th>\n",
       "    </tr>\n",
       "  </thead>\n",
       "  <tbody>\n",
       "    <tr>\n",
       "      <th>0</th>\n",
       "      <td>GaA1Loss98RkxbEZq2wZpQ==</td>\n",
       "      <td>2021-08-30</td>\n",
       "      <td>2022-01-27</td>\n",
       "      <td>-34.551623</td>\n",
       "      <td>-58.491771</td>\n",
       "      <td>Saavedra</td>\n",
       "      <td>Departamento</td>\n",
       "      <td>1.0</td>\n",
       "      <td>1.0</td>\n",
       "      <td>37.0</td>\n",
       "      <td>33.0</td>\n",
       "      <td>90000.0</td>\n",
       "      <td>Departamento - 1 amb divisible-Saavedra</td>\n",
       "      <td>2432.432432</td>\n",
       "      <td>Medio</td>\n",
       "      <td>5</td>\n",
       "      <td>False</td>\n",
       "      <td>False</td>\n",
       "      <td>False</td>\n",
       "      <td>False</td>\n",
       "    </tr>\n",
       "    <tr>\n",
       "      <th>1</th>\n",
       "      <td>Tp+fdnNQpNzXUFo7W3q3vA==</td>\n",
       "      <td>2021-01-11</td>\n",
       "      <td>2021-02-11</td>\n",
       "      <td>-34.576289</td>\n",
       "      <td>-58.463635</td>\n",
       "      <td>Villa Ortuzar</td>\n",
       "      <td>PH</td>\n",
       "      <td>3.0</td>\n",
       "      <td>2.0</td>\n",
       "      <td>144.0</td>\n",
       "      <td>144.0</td>\n",
       "      <td>214600.0</td>\n",
       "      <td>Venta PH 3 ambientes patio y gran terraza sin ...</td>\n",
       "      <td>1490.277778</td>\n",
       "      <td>Medio</td>\n",
       "      <td>35</td>\n",
       "      <td>False</td>\n",
       "      <td>False</td>\n",
       "      <td>False</td>\n",
       "      <td>True</td>\n",
       "    </tr>\n",
       "    <tr>\n",
       "      <th>2</th>\n",
       "      <td>CR+neBgmAEDSo9LxI0x5iw==</td>\n",
       "      <td>2021-04-12</td>\n",
       "      <td>2021-06-05</td>\n",
       "      <td>-34.600150</td>\n",
       "      <td>-58.378244</td>\n",
       "      <td>San Nicolás</td>\n",
       "      <td>Departamento</td>\n",
       "      <td>2.0</td>\n",
       "      <td>1.0</td>\n",
       "      <td>46.0</td>\n",
       "      <td>41.0</td>\n",
       "      <td>63000.0</td>\n",
       "      <td>Departamento - San Nicolas</td>\n",
       "      <td>1369.565217</td>\n",
       "      <td>Bajo</td>\n",
       "      <td>17</td>\n",
       "      <td>False</td>\n",
       "      <td>False</td>\n",
       "      <td>False</td>\n",
       "      <td>True</td>\n",
       "    </tr>\n",
       "    <tr>\n",
       "      <th>3</th>\n",
       "      <td>chtUpatpDQQL247Lt+Np2g==</td>\n",
       "      <td>2021-01-16</td>\n",
       "      <td>9999-12-31</td>\n",
       "      <td>-34.641450</td>\n",
       "      <td>-58.372804</td>\n",
       "      <td>Barracas</td>\n",
       "      <td>Departamento</td>\n",
       "      <td>4.0</td>\n",
       "      <td>3.0</td>\n",
       "      <td>65.0</td>\n",
       "      <td>65.0</td>\n",
       "      <td>102000.0</td>\n",
       "      <td>Departamento - Barracas</td>\n",
       "      <td>1569.230769</td>\n",
       "      <td>Bajo</td>\n",
       "      <td>9</td>\n",
       "      <td>False</td>\n",
       "      <td>False</td>\n",
       "      <td>True</td>\n",
       "      <td>True</td>\n",
       "    </tr>\n",
       "    <tr>\n",
       "      <th>4</th>\n",
       "      <td>q6JgVplw0pYiAx/nlX/EVQ==</td>\n",
       "      <td>2021-03-24</td>\n",
       "      <td>2021-06-05</td>\n",
       "      <td>-34.629050</td>\n",
       "      <td>-58.468088</td>\n",
       "      <td>Flores</td>\n",
       "      <td>Casa</td>\n",
       "      <td>5.0</td>\n",
       "      <td>4.0</td>\n",
       "      <td>215.0</td>\n",
       "      <td>155.0</td>\n",
       "      <td>285000.0</td>\n",
       "      <td>Casa - Excelente propiedas en Flores unica por...</td>\n",
       "      <td>1325.581395</td>\n",
       "      <td>Medio</td>\n",
       "      <td>33</td>\n",
       "      <td>False</td>\n",
       "      <td>True</td>\n",
       "      <td>False</td>\n",
       "      <td>True</td>\n",
       "    </tr>\n",
       "  </tbody>\n",
       "</table>\n",
       "</div>"
      ],
      "text/plain": [
       "                         id  start_date    end_date    latitud   longitud  \\\n",
       "0  GaA1Loss98RkxbEZq2wZpQ==  2021-08-30  2022-01-27 -34.551623 -58.491771   \n",
       "1  Tp+fdnNQpNzXUFo7W3q3vA==  2021-01-11  2021-02-11 -34.576289 -58.463635   \n",
       "2  CR+neBgmAEDSo9LxI0x5iw==  2021-04-12  2021-06-05 -34.600150 -58.378244   \n",
       "3  chtUpatpDQQL247Lt+Np2g==  2021-01-16  9999-12-31 -34.641450 -58.372804   \n",
       "4  q6JgVplw0pYiAx/nlX/EVQ==  2021-03-24  2021-06-05 -34.629050 -58.468088   \n",
       "\n",
       "        place_l3 property_type  property_rooms  property_bedrooms  \\\n",
       "0       Saavedra  Departamento             1.0                1.0   \n",
       "1  Villa Ortuzar            PH             3.0                2.0   \n",
       "2    San Nicolás  Departamento             2.0                1.0   \n",
       "3       Barracas  Departamento             4.0                3.0   \n",
       "4         Flores          Casa             5.0                4.0   \n",
       "\n",
       "   property_surface_total  property_surface_covered  property_price  \\\n",
       "0                    37.0                      33.0         90000.0   \n",
       "1                   144.0                     144.0        214600.0   \n",
       "2                    46.0                      41.0         63000.0   \n",
       "3                    65.0                      65.0        102000.0   \n",
       "4                   215.0                     155.0        285000.0   \n",
       "\n",
       "                                      property_title         pxm2 tipo_precio  \\\n",
       "0            Departamento - 1 amb divisible-Saavedra  2432.432432       Medio   \n",
       "1  Venta PH 3 ambientes patio y gran terraza sin ...  1490.277778       Medio   \n",
       "2                         Departamento - San Nicolas  1369.565217        Bajo   \n",
       "3                            Departamento - Barracas  1569.230769        Bajo   \n",
       "4  Casa - Excelente propiedas en Flores unica por...  1325.581395       Medio   \n",
       "\n",
       "   score_sentimientos  pileta  parrilla  balcon    sum  \n",
       "0                   5   False     False   False  False  \n",
       "1                  35   False     False   False   True  \n",
       "2                  17   False     False   False   True  \n",
       "3                   9   False     False    True   True  \n",
       "4                  33   False      True   False   True  "
      ]
     },
     "execution_count": 40,
     "metadata": {},
     "output_type": "execute_result"
    }
   ],
   "source": [
    "ds_train = pd.merge(ds_train, amenities_train, on='id')\n",
    "ds_train.head()"
   ]
  },
  {
   "cell_type": "code",
   "execution_count": 41,
   "metadata": {
    "collapsed": false,
    "jupyter": {
     "outputs_hidden": false
    },
    "pycharm": {
     "name": "#%%\n"
    }
   },
   "outputs": [
    {
     "data": {
      "text/html": [
       "<div>\n",
       "<style scoped>\n",
       "    .dataframe tbody tr th:only-of-type {\n",
       "        vertical-align: middle;\n",
       "    }\n",
       "\n",
       "    .dataframe tbody tr th {\n",
       "        vertical-align: top;\n",
       "    }\n",
       "\n",
       "    .dataframe thead th {\n",
       "        text-align: right;\n",
       "    }\n",
       "</style>\n",
       "<table border=\"1\" class=\"dataframe\">\n",
       "  <thead>\n",
       "    <tr style=\"text-align: right;\">\n",
       "      <th></th>\n",
       "      <th>id</th>\n",
       "      <th>start_date</th>\n",
       "      <th>end_date</th>\n",
       "      <th>latitud</th>\n",
       "      <th>longitud</th>\n",
       "      <th>place_l3</th>\n",
       "      <th>property_type</th>\n",
       "      <th>property_rooms</th>\n",
       "      <th>property_bedrooms</th>\n",
       "      <th>property_surface_total</th>\n",
       "      <th>property_surface_covered</th>\n",
       "      <th>property_price</th>\n",
       "      <th>property_title</th>\n",
       "      <th>pxm2</th>\n",
       "      <th>tipo_precio</th>\n",
       "      <th>score_sentimientos</th>\n",
       "      <th>pileta</th>\n",
       "      <th>parrilla</th>\n",
       "      <th>balcon</th>\n",
       "      <th>sum</th>\n",
       "    </tr>\n",
       "  </thead>\n",
       "  <tbody>\n",
       "    <tr>\n",
       "      <th>0</th>\n",
       "      <td>GrZ64pCxiOhtCZq4KgqxoQ==</td>\n",
       "      <td>2021-05-07</td>\n",
       "      <td>2021-05-08</td>\n",
       "      <td>-34.565080</td>\n",
       "      <td>-58.464190</td>\n",
       "      <td>Belgrano</td>\n",
       "      <td>Departamento</td>\n",
       "      <td>2.0</td>\n",
       "      <td>1.0</td>\n",
       "      <td>48.0</td>\n",
       "      <td>37.0</td>\n",
       "      <td>120000.0</td>\n",
       "      <td>Loft de dos ambientes con balcón y patio!</td>\n",
       "      <td>2500.000000</td>\n",
       "      <td>Medio</td>\n",
       "      <td>11</td>\n",
       "      <td>True</td>\n",
       "      <td>True</td>\n",
       "      <td>True</td>\n",
       "      <td>True</td>\n",
       "    </tr>\n",
       "    <tr>\n",
       "      <th>1</th>\n",
       "      <td>OHosCWo/KF1eK/6CmBdUQw==</td>\n",
       "      <td>2021-08-24</td>\n",
       "      <td>2021-08-24</td>\n",
       "      <td>-34.593059</td>\n",
       "      <td>-58.406758</td>\n",
       "      <td>Barrio Norte</td>\n",
       "      <td>Departamento</td>\n",
       "      <td>3.0</td>\n",
       "      <td>2.0</td>\n",
       "      <td>122.0</td>\n",
       "      <td>97.0</td>\n",
       "      <td>295000.0</td>\n",
       "      <td>DEPARTAMENTO 3 AMB C/DEPENDENCIA, PATIO Y COCHERA</td>\n",
       "      <td>2418.032787</td>\n",
       "      <td>Medio</td>\n",
       "      <td>26</td>\n",
       "      <td>False</td>\n",
       "      <td>False</td>\n",
       "      <td>True</td>\n",
       "      <td>True</td>\n",
       "    </tr>\n",
       "    <tr>\n",
       "      <th>2</th>\n",
       "      <td>Y8K7ZUBw9NZCyJoQ3p5/ww==</td>\n",
       "      <td>2021-07-21</td>\n",
       "      <td>2021-11-28</td>\n",
       "      <td>-34.563755</td>\n",
       "      <td>-58.439019</td>\n",
       "      <td>Palermo</td>\n",
       "      <td>PH</td>\n",
       "      <td>2.0</td>\n",
       "      <td>1.0</td>\n",
       "      <td>44.0</td>\n",
       "      <td>35.0</td>\n",
       "      <td>95000.0</td>\n",
       "      <td>LACROZE 1700 - PH EN VENTA 2 AMB - A RECICLAR</td>\n",
       "      <td>2159.090909</td>\n",
       "      <td>Alto</td>\n",
       "      <td>22</td>\n",
       "      <td>False</td>\n",
       "      <td>False</td>\n",
       "      <td>False</td>\n",
       "      <td>False</td>\n",
       "    </tr>\n",
       "    <tr>\n",
       "      <th>3</th>\n",
       "      <td>/G46ns24536LY6XTnM7F3Q==</td>\n",
       "      <td>2021-02-05</td>\n",
       "      <td>2021-02-05</td>\n",
       "      <td>-34.590534</td>\n",
       "      <td>-58.411562</td>\n",
       "      <td>Palermo</td>\n",
       "      <td>Departamento</td>\n",
       "      <td>3.0</td>\n",
       "      <td>2.0</td>\n",
       "      <td>106.0</td>\n",
       "      <td>93.0</td>\n",
       "      <td>235000.0</td>\n",
       "      <td>Departamento 3 Ambientes con dependencia, baño...</td>\n",
       "      <td>2216.981132</td>\n",
       "      <td>Medio</td>\n",
       "      <td>17</td>\n",
       "      <td>False</td>\n",
       "      <td>False</td>\n",
       "      <td>True</td>\n",
       "      <td>True</td>\n",
       "    </tr>\n",
       "    <tr>\n",
       "      <th>4</th>\n",
       "      <td>bjEF6kjPBNijD/SWCGXs1Q==</td>\n",
       "      <td>2021-01-21</td>\n",
       "      <td>2021-03-17</td>\n",
       "      <td>-34.609729</td>\n",
       "      <td>-58.421587</td>\n",
       "      <td>Almagro</td>\n",
       "      <td>Departamento</td>\n",
       "      <td>1.0</td>\n",
       "      <td>1.0</td>\n",
       "      <td>25.0</td>\n",
       "      <td>25.0</td>\n",
       "      <td>50000.0</td>\n",
       "      <td>BME. MITRE Y MEDRANO - Almagro</td>\n",
       "      <td>2000.000000</td>\n",
       "      <td>Medio</td>\n",
       "      <td>5</td>\n",
       "      <td>False</td>\n",
       "      <td>False</td>\n",
       "      <td>False</td>\n",
       "      <td>False</td>\n",
       "    </tr>\n",
       "  </tbody>\n",
       "</table>\n",
       "</div>"
      ],
      "text/plain": [
       "                         id  start_date    end_date    latitud   longitud  \\\n",
       "0  GrZ64pCxiOhtCZq4KgqxoQ==  2021-05-07  2021-05-08 -34.565080 -58.464190   \n",
       "1  OHosCWo/KF1eK/6CmBdUQw==  2021-08-24  2021-08-24 -34.593059 -58.406758   \n",
       "2  Y8K7ZUBw9NZCyJoQ3p5/ww==  2021-07-21  2021-11-28 -34.563755 -58.439019   \n",
       "3  /G46ns24536LY6XTnM7F3Q==  2021-02-05  2021-02-05 -34.590534 -58.411562   \n",
       "4  bjEF6kjPBNijD/SWCGXs1Q==  2021-01-21  2021-03-17 -34.609729 -58.421587   \n",
       "\n",
       "       place_l3 property_type  property_rooms  property_bedrooms  \\\n",
       "0      Belgrano  Departamento             2.0                1.0   \n",
       "1  Barrio Norte  Departamento             3.0                2.0   \n",
       "2       Palermo            PH             2.0                1.0   \n",
       "3       Palermo  Departamento             3.0                2.0   \n",
       "4       Almagro  Departamento             1.0                1.0   \n",
       "\n",
       "   property_surface_total  property_surface_covered  property_price  \\\n",
       "0                    48.0                      37.0        120000.0   \n",
       "1                   122.0                      97.0        295000.0   \n",
       "2                    44.0                      35.0         95000.0   \n",
       "3                   106.0                      93.0        235000.0   \n",
       "4                    25.0                      25.0         50000.0   \n",
       "\n",
       "                                      property_title         pxm2 tipo_precio  \\\n",
       "0          Loft de dos ambientes con balcón y patio!  2500.000000       Medio   \n",
       "1  DEPARTAMENTO 3 AMB C/DEPENDENCIA, PATIO Y COCHERA  2418.032787       Medio   \n",
       "2      LACROZE 1700 - PH EN VENTA 2 AMB - A RECICLAR  2159.090909        Alto   \n",
       "3  Departamento 3 Ambientes con dependencia, baño...  2216.981132       Medio   \n",
       "4                     BME. MITRE Y MEDRANO - Almagro  2000.000000       Medio   \n",
       "\n",
       "   score_sentimientos  pileta  parrilla  balcon    sum  \n",
       "0                  11    True      True    True   True  \n",
       "1                  26   False     False    True   True  \n",
       "2                  22   False     False   False  False  \n",
       "3                  17   False     False    True   True  \n",
       "4                   5   False     False   False  False  "
      ]
     },
     "execution_count": 41,
     "metadata": {},
     "output_type": "execute_result"
    }
   ],
   "source": [
    "ds_test = pd.merge(ds_test, amenities_test, on='id')\n",
    "ds_test.head()"
   ]
  },
  {
   "cell_type": "markdown",
   "metadata": {
    "pycharm": {
     "name": "#%% md\n"
    }
   },
   "source": [
    "##### Expensas"
   ]
  },
  {
   "cell_type": "markdown",
   "metadata": {
    "pycharm": {
     "name": "#%% md\n"
    }
   },
   "source": [
    "Por último, trabajaremos en crear una columna numérica con el valor de las expensas. Evaluaremos primero que porcentaje de valores podemos conseguir con regex"
   ]
  },
  {
   "cell_type": "markdown",
   "metadata": {
    "pycharm": {
     "name": "#%% md\n"
    }
   },
   "source": [
    "Armé varias regex para probar algunas cosas, lo que quería probar:\n",
    "- Conseguir cosas como \"15000 de expensas\", \"expensas: 15000\", \"sin expensas\"\n",
    "\n",
    "Solo contar la aparicion de la paalbra expensas como en los casos anteriores no sirve porque hay mucho \"sin expensas\" y mucho dato falopa\n",
    "Dejo las regex que use:"
   ]
  },
  {
   "cell_type": "code",
   "execution_count": 42,
   "metadata": {
    "collapsed": false,
    "jupyter": {
     "outputs_hidden": false
    },
    "pycharm": {
     "name": "#%%\n"
    }
   },
   "outputs": [
    {
     "data": {
      "text/plain": [
       "re.compile(r'\\s*([0-9.]+)\\s*exp|expensas', re.UNICODE)"
      ]
     },
     "execution_count": 42,
     "metadata": {},
     "output_type": "execute_result"
    }
   ],
   "source": [
    "re.compile(r\"\\s*[0-9.]*\\s*exp|expensas\")\n",
    "re.compile('((?:[a-zA-Z0-9]+\\s*){5}(?:expensas|exp)\\s(?:[a-zA-Z0-9]+\\s){10})')\n",
    "re.compile('((?:[0-9a-zA-Z,.]+\\s*){5}?(?:con|sin|de)\\s*(?:expensas|exp))')\n",
    "re.compile('\\s*([0-9.]+)\\s*exp|expensas')\n",
    "\n",
    "\n",
    "# así se usa para extraer\n",
    "# descriptions_train.property_description.str.extract(sin_expensas)"
   ]
  },
  {
   "cell_type": "markdown",
   "metadata": {
    "pycharm": {
     "name": "#%% md\n"
    }
   },
   "source": [
    "## Modelos"
   ]
  },
  {
   "cell_type": "markdown",
   "metadata": {
    "pycharm": {
     "name": "#%% md\n"
    }
   },
   "source": [
    "#### Selección de features"
   ]
  },
  {
   "cell_type": "markdown",
   "metadata": {
    "pycharm": {
     "name": "#%% md\n"
    }
   },
   "source": [
    "Para entrenar los modelos usaremos nuestro dataset recien generado, descartaremos el id, el título y las fechas. Convertiremos las categóricas en variables numéricas. También dejaremos aparte dos OHE del barrio y el tipo para usar luego."
   ]
  },
  {
   "cell_type": "code",
   "execution_count": 43,
   "metadata": {
    "collapsed": false,
    "jupyter": {
     "outputs_hidden": false
    },
    "pycharm": {
     "name": "#%%\n"
    }
   },
   "outputs": [
    {
     "data": {
      "text/plain": [
       "Index(['id', 'start_date', 'end_date', 'latitud', 'longitud', 'place_l3',\n",
       "       'property_type', 'property_rooms', 'property_bedrooms',\n",
       "       'property_surface_total', 'property_surface_covered', 'property_price',\n",
       "       'property_title', 'pxm2', 'tipo_precio', 'score_sentimientos', 'pileta',\n",
       "       'parrilla', 'balcon', 'sum'],\n",
       "      dtype='object')"
      ]
     },
     "execution_count": 43,
     "metadata": {},
     "output_type": "execute_result"
    }
   ],
   "source": [
    "ds_train.columns"
   ]
  },
  {
   "cell_type": "code",
   "execution_count": 44,
   "metadata": {
    "collapsed": false,
    "jupyter": {
     "outputs_hidden": false
    },
    "pycharm": {
     "name": "#%%\n"
    }
   },
   "outputs": [
    {
     "data": {
      "text/html": [
       "<div>\n",
       "<style scoped>\n",
       "    .dataframe tbody tr th:only-of-type {\n",
       "        vertical-align: middle;\n",
       "    }\n",
       "\n",
       "    .dataframe tbody tr th {\n",
       "        vertical-align: top;\n",
       "    }\n",
       "\n",
       "    .dataframe thead th {\n",
       "        text-align: right;\n",
       "    }\n",
       "</style>\n",
       "<table border=\"1\" class=\"dataframe\">\n",
       "  <thead>\n",
       "    <tr style=\"text-align: right;\">\n",
       "      <th></th>\n",
       "      <th>latitud</th>\n",
       "      <th>longitud</th>\n",
       "      <th>place_l3</th>\n",
       "      <th>property_type</th>\n",
       "      <th>property_rooms</th>\n",
       "      <th>property_bedrooms</th>\n",
       "      <th>property_surface_total</th>\n",
       "      <th>property_surface_covered</th>\n",
       "      <th>property_price</th>\n",
       "      <th>pxm2</th>\n",
       "      <th>tipo_precio</th>\n",
       "      <th>score_sentimientos</th>\n",
       "      <th>pileta</th>\n",
       "      <th>parrilla</th>\n",
       "      <th>balcon</th>\n",
       "      <th>sum</th>\n",
       "    </tr>\n",
       "  </thead>\n",
       "  <tbody>\n",
       "    <tr>\n",
       "      <th>0</th>\n",
       "      <td>-34.551623</td>\n",
       "      <td>-58.491771</td>\n",
       "      <td>0</td>\n",
       "      <td>0</td>\n",
       "      <td>1.0</td>\n",
       "      <td>1.0</td>\n",
       "      <td>37.0</td>\n",
       "      <td>33.0</td>\n",
       "      <td>90000.0</td>\n",
       "      <td>2432.432432</td>\n",
       "      <td>Medio</td>\n",
       "      <td>5</td>\n",
       "      <td>False</td>\n",
       "      <td>False</td>\n",
       "      <td>False</td>\n",
       "      <td>False</td>\n",
       "    </tr>\n",
       "    <tr>\n",
       "      <th>1</th>\n",
       "      <td>-34.576289</td>\n",
       "      <td>-58.463635</td>\n",
       "      <td>1</td>\n",
       "      <td>1</td>\n",
       "      <td>3.0</td>\n",
       "      <td>2.0</td>\n",
       "      <td>144.0</td>\n",
       "      <td>144.0</td>\n",
       "      <td>214600.0</td>\n",
       "      <td>1490.277778</td>\n",
       "      <td>Medio</td>\n",
       "      <td>35</td>\n",
       "      <td>False</td>\n",
       "      <td>False</td>\n",
       "      <td>False</td>\n",
       "      <td>True</td>\n",
       "    </tr>\n",
       "    <tr>\n",
       "      <th>2</th>\n",
       "      <td>-34.600150</td>\n",
       "      <td>-58.378244</td>\n",
       "      <td>2</td>\n",
       "      <td>0</td>\n",
       "      <td>2.0</td>\n",
       "      <td>1.0</td>\n",
       "      <td>46.0</td>\n",
       "      <td>41.0</td>\n",
       "      <td>63000.0</td>\n",
       "      <td>1369.565217</td>\n",
       "      <td>Bajo</td>\n",
       "      <td>17</td>\n",
       "      <td>False</td>\n",
       "      <td>False</td>\n",
       "      <td>False</td>\n",
       "      <td>True</td>\n",
       "    </tr>\n",
       "    <tr>\n",
       "      <th>3</th>\n",
       "      <td>-34.641450</td>\n",
       "      <td>-58.372804</td>\n",
       "      <td>3</td>\n",
       "      <td>0</td>\n",
       "      <td>4.0</td>\n",
       "      <td>3.0</td>\n",
       "      <td>65.0</td>\n",
       "      <td>65.0</td>\n",
       "      <td>102000.0</td>\n",
       "      <td>1569.230769</td>\n",
       "      <td>Bajo</td>\n",
       "      <td>9</td>\n",
       "      <td>False</td>\n",
       "      <td>False</td>\n",
       "      <td>True</td>\n",
       "      <td>True</td>\n",
       "    </tr>\n",
       "    <tr>\n",
       "      <th>4</th>\n",
       "      <td>-34.629050</td>\n",
       "      <td>-58.468088</td>\n",
       "      <td>4</td>\n",
       "      <td>2</td>\n",
       "      <td>5.0</td>\n",
       "      <td>4.0</td>\n",
       "      <td>215.0</td>\n",
       "      <td>155.0</td>\n",
       "      <td>285000.0</td>\n",
       "      <td>1325.581395</td>\n",
       "      <td>Medio</td>\n",
       "      <td>33</td>\n",
       "      <td>False</td>\n",
       "      <td>True</td>\n",
       "      <td>False</td>\n",
       "      <td>True</td>\n",
       "    </tr>\n",
       "    <tr>\n",
       "      <th>...</th>\n",
       "      <td>...</td>\n",
       "      <td>...</td>\n",
       "      <td>...</td>\n",
       "      <td>...</td>\n",
       "      <td>...</td>\n",
       "      <td>...</td>\n",
       "      <td>...</td>\n",
       "      <td>...</td>\n",
       "      <td>...</td>\n",
       "      <td>...</td>\n",
       "      <td>...</td>\n",
       "      <td>...</td>\n",
       "      <td>...</td>\n",
       "      <td>...</td>\n",
       "      <td>...</td>\n",
       "      <td>...</td>\n",
       "    </tr>\n",
       "    <tr>\n",
       "      <th>69137</th>\n",
       "      <td>-34.608522</td>\n",
       "      <td>-58.430410</td>\n",
       "      <td>10</td>\n",
       "      <td>0</td>\n",
       "      <td>4.0</td>\n",
       "      <td>3.0</td>\n",
       "      <td>103.0</td>\n",
       "      <td>94.0</td>\n",
       "      <td>205000.0</td>\n",
       "      <td>1990.291262</td>\n",
       "      <td>Medio</td>\n",
       "      <td>13</td>\n",
       "      <td>False</td>\n",
       "      <td>False</td>\n",
       "      <td>True</td>\n",
       "      <td>False</td>\n",
       "    </tr>\n",
       "    <tr>\n",
       "      <th>69138</th>\n",
       "      <td>-34.625448</td>\n",
       "      <td>-58.524920</td>\n",
       "      <td>45</td>\n",
       "      <td>2</td>\n",
       "      <td>6.0</td>\n",
       "      <td>5.0</td>\n",
       "      <td>300.0</td>\n",
       "      <td>200.0</td>\n",
       "      <td>400000.0</td>\n",
       "      <td>1333.333333</td>\n",
       "      <td>Medio</td>\n",
       "      <td>9</td>\n",
       "      <td>False</td>\n",
       "      <td>False</td>\n",
       "      <td>False</td>\n",
       "      <td>False</td>\n",
       "    </tr>\n",
       "    <tr>\n",
       "      <th>69139</th>\n",
       "      <td>-34.558831</td>\n",
       "      <td>-58.462175</td>\n",
       "      <td>8</td>\n",
       "      <td>0</td>\n",
       "      <td>4.0</td>\n",
       "      <td>3.0</td>\n",
       "      <td>129.0</td>\n",
       "      <td>114.0</td>\n",
       "      <td>289000.0</td>\n",
       "      <td>2240.310078</td>\n",
       "      <td>Medio</td>\n",
       "      <td>54</td>\n",
       "      <td>False</td>\n",
       "      <td>False</td>\n",
       "      <td>True</td>\n",
       "      <td>False</td>\n",
       "    </tr>\n",
       "    <tr>\n",
       "      <th>69140</th>\n",
       "      <td>-34.604841</td>\n",
       "      <td>-58.495192</td>\n",
       "      <td>34</td>\n",
       "      <td>0</td>\n",
       "      <td>3.0</td>\n",
       "      <td>2.0</td>\n",
       "      <td>64.0</td>\n",
       "      <td>46.0</td>\n",
       "      <td>120000.0</td>\n",
       "      <td>1875.000000</td>\n",
       "      <td>Bajo</td>\n",
       "      <td>3</td>\n",
       "      <td>False</td>\n",
       "      <td>False</td>\n",
       "      <td>False</td>\n",
       "      <td>False</td>\n",
       "    </tr>\n",
       "    <tr>\n",
       "      <th>69141</th>\n",
       "      <td>-34.628746</td>\n",
       "      <td>-58.463183</td>\n",
       "      <td>4</td>\n",
       "      <td>2</td>\n",
       "      <td>4.0</td>\n",
       "      <td>3.0</td>\n",
       "      <td>165.0</td>\n",
       "      <td>123.0</td>\n",
       "      <td>229000.0</td>\n",
       "      <td>1387.878788</td>\n",
       "      <td>Medio</td>\n",
       "      <td>44</td>\n",
       "      <td>False</td>\n",
       "      <td>False</td>\n",
       "      <td>False</td>\n",
       "      <td>False</td>\n",
       "    </tr>\n",
       "  </tbody>\n",
       "</table>\n",
       "<p>69142 rows × 16 columns</p>\n",
       "</div>"
      ],
      "text/plain": [
       "         latitud   longitud  place_l3  property_type  property_rooms  \\\n",
       "0     -34.551623 -58.491771         0              0             1.0   \n",
       "1     -34.576289 -58.463635         1              1             3.0   \n",
       "2     -34.600150 -58.378244         2              0             2.0   \n",
       "3     -34.641450 -58.372804         3              0             4.0   \n",
       "4     -34.629050 -58.468088         4              2             5.0   \n",
       "...          ...        ...       ...            ...             ...   \n",
       "69137 -34.608522 -58.430410        10              0             4.0   \n",
       "69138 -34.625448 -58.524920        45              2             6.0   \n",
       "69139 -34.558831 -58.462175         8              0             4.0   \n",
       "69140 -34.604841 -58.495192        34              0             3.0   \n",
       "69141 -34.628746 -58.463183         4              2             4.0   \n",
       "\n",
       "       property_bedrooms  property_surface_total  property_surface_covered  \\\n",
       "0                    1.0                    37.0                      33.0   \n",
       "1                    2.0                   144.0                     144.0   \n",
       "2                    1.0                    46.0                      41.0   \n",
       "3                    3.0                    65.0                      65.0   \n",
       "4                    4.0                   215.0                     155.0   \n",
       "...                  ...                     ...                       ...   \n",
       "69137                3.0                   103.0                      94.0   \n",
       "69138                5.0                   300.0                     200.0   \n",
       "69139                3.0                   129.0                     114.0   \n",
       "69140                2.0                    64.0                      46.0   \n",
       "69141                3.0                   165.0                     123.0   \n",
       "\n",
       "       property_price         pxm2 tipo_precio  score_sentimientos  pileta  \\\n",
       "0             90000.0  2432.432432       Medio                   5   False   \n",
       "1            214600.0  1490.277778       Medio                  35   False   \n",
       "2             63000.0  1369.565217        Bajo                  17   False   \n",
       "3            102000.0  1569.230769        Bajo                   9   False   \n",
       "4            285000.0  1325.581395       Medio                  33   False   \n",
       "...               ...          ...         ...                 ...     ...   \n",
       "69137        205000.0  1990.291262       Medio                  13   False   \n",
       "69138        400000.0  1333.333333       Medio                   9   False   \n",
       "69139        289000.0  2240.310078       Medio                  54   False   \n",
       "69140        120000.0  1875.000000        Bajo                   3   False   \n",
       "69141        229000.0  1387.878788       Medio                  44   False   \n",
       "\n",
       "       parrilla  balcon    sum  \n",
       "0         False   False  False  \n",
       "1         False   False   True  \n",
       "2         False   False   True  \n",
       "3         False    True   True  \n",
       "4          True   False   True  \n",
       "...         ...     ...    ...  \n",
       "69137     False    True  False  \n",
       "69138     False   False  False  \n",
       "69139     False    True  False  \n",
       "69140     False   False  False  \n",
       "69141     False   False  False  \n",
       "\n",
       "[69142 rows x 16 columns]"
      ]
     },
     "execution_count": 44,
     "metadata": {},
     "output_type": "execute_result"
    }
   ],
   "source": [
    "ds_trabajo_train = ds_train.drop(['id', 'property_title', 'start_date', 'end_date'], axis=1)\n",
    "ohe_property_type_train = pd.get_dummies(ds_train['property_type'], prefix='property_type')\n",
    "ohe_place_l3_train = pd.get_dummies(ds_train['place_l3'], prefix='place_l3')\n",
    "ds_trabajo_train['place_l3'] = pd.factorize(ds_train['place_l3'])[0]\n",
    "ds_trabajo_train['property_type'] = pd.factorize(ds_train['property_type'])[0]\n",
    "ds_trabajo_train"
   ]
  },
  {
   "cell_type": "code",
   "execution_count": 45,
   "metadata": {
    "collapsed": false,
    "jupyter": {
     "outputs_hidden": false
    },
    "pycharm": {
     "name": "#%%\n"
    }
   },
   "outputs": [
    {
     "data": {
      "text/html": [
       "<div>\n",
       "<style scoped>\n",
       "    .dataframe tbody tr th:only-of-type {\n",
       "        vertical-align: middle;\n",
       "    }\n",
       "\n",
       "    .dataframe tbody tr th {\n",
       "        vertical-align: top;\n",
       "    }\n",
       "\n",
       "    .dataframe thead th {\n",
       "        text-align: right;\n",
       "    }\n",
       "</style>\n",
       "<table border=\"1\" class=\"dataframe\">\n",
       "  <thead>\n",
       "    <tr style=\"text-align: right;\">\n",
       "      <th></th>\n",
       "      <th>latitud</th>\n",
       "      <th>longitud</th>\n",
       "      <th>place_l3</th>\n",
       "      <th>property_type</th>\n",
       "      <th>property_rooms</th>\n",
       "      <th>property_bedrooms</th>\n",
       "      <th>property_surface_total</th>\n",
       "      <th>property_surface_covered</th>\n",
       "      <th>property_price</th>\n",
       "      <th>pxm2</th>\n",
       "      <th>tipo_precio</th>\n",
       "      <th>score_sentimientos</th>\n",
       "      <th>pileta</th>\n",
       "      <th>parrilla</th>\n",
       "      <th>balcon</th>\n",
       "      <th>sum</th>\n",
       "    </tr>\n",
       "  </thead>\n",
       "  <tbody>\n",
       "    <tr>\n",
       "      <th>0</th>\n",
       "      <td>-34.565080</td>\n",
       "      <td>-58.464190</td>\n",
       "      <td>0</td>\n",
       "      <td>0</td>\n",
       "      <td>2.0</td>\n",
       "      <td>1.0</td>\n",
       "      <td>48.0</td>\n",
       "      <td>37.0</td>\n",
       "      <td>120000.0</td>\n",
       "      <td>2500.000000</td>\n",
       "      <td>Medio</td>\n",
       "      <td>11</td>\n",
       "      <td>True</td>\n",
       "      <td>True</td>\n",
       "      <td>True</td>\n",
       "      <td>True</td>\n",
       "    </tr>\n",
       "    <tr>\n",
       "      <th>1</th>\n",
       "      <td>-34.593059</td>\n",
       "      <td>-58.406758</td>\n",
       "      <td>1</td>\n",
       "      <td>0</td>\n",
       "      <td>3.0</td>\n",
       "      <td>2.0</td>\n",
       "      <td>122.0</td>\n",
       "      <td>97.0</td>\n",
       "      <td>295000.0</td>\n",
       "      <td>2418.032787</td>\n",
       "      <td>Medio</td>\n",
       "      <td>26</td>\n",
       "      <td>False</td>\n",
       "      <td>False</td>\n",
       "      <td>True</td>\n",
       "      <td>True</td>\n",
       "    </tr>\n",
       "    <tr>\n",
       "      <th>2</th>\n",
       "      <td>-34.563755</td>\n",
       "      <td>-58.439019</td>\n",
       "      <td>2</td>\n",
       "      <td>1</td>\n",
       "      <td>2.0</td>\n",
       "      <td>1.0</td>\n",
       "      <td>44.0</td>\n",
       "      <td>35.0</td>\n",
       "      <td>95000.0</td>\n",
       "      <td>2159.090909</td>\n",
       "      <td>Alto</td>\n",
       "      <td>22</td>\n",
       "      <td>False</td>\n",
       "      <td>False</td>\n",
       "      <td>False</td>\n",
       "      <td>False</td>\n",
       "    </tr>\n",
       "    <tr>\n",
       "      <th>3</th>\n",
       "      <td>-34.590534</td>\n",
       "      <td>-58.411562</td>\n",
       "      <td>2</td>\n",
       "      <td>0</td>\n",
       "      <td>3.0</td>\n",
       "      <td>2.0</td>\n",
       "      <td>106.0</td>\n",
       "      <td>93.0</td>\n",
       "      <td>235000.0</td>\n",
       "      <td>2216.981132</td>\n",
       "      <td>Medio</td>\n",
       "      <td>17</td>\n",
       "      <td>False</td>\n",
       "      <td>False</td>\n",
       "      <td>True</td>\n",
       "      <td>True</td>\n",
       "    </tr>\n",
       "    <tr>\n",
       "      <th>4</th>\n",
       "      <td>-34.609729</td>\n",
       "      <td>-58.421587</td>\n",
       "      <td>3</td>\n",
       "      <td>0</td>\n",
       "      <td>1.0</td>\n",
       "      <td>1.0</td>\n",
       "      <td>25.0</td>\n",
       "      <td>25.0</td>\n",
       "      <td>50000.0</td>\n",
       "      <td>2000.000000</td>\n",
       "      <td>Medio</td>\n",
       "      <td>5</td>\n",
       "      <td>False</td>\n",
       "      <td>False</td>\n",
       "      <td>False</td>\n",
       "      <td>False</td>\n",
       "    </tr>\n",
       "    <tr>\n",
       "      <th>...</th>\n",
       "      <td>...</td>\n",
       "      <td>...</td>\n",
       "      <td>...</td>\n",
       "      <td>...</td>\n",
       "      <td>...</td>\n",
       "      <td>...</td>\n",
       "      <td>...</td>\n",
       "      <td>...</td>\n",
       "      <td>...</td>\n",
       "      <td>...</td>\n",
       "      <td>...</td>\n",
       "      <td>...</td>\n",
       "      <td>...</td>\n",
       "      <td>...</td>\n",
       "      <td>...</td>\n",
       "      <td>...</td>\n",
       "    </tr>\n",
       "    <tr>\n",
       "      <th>10553</th>\n",
       "      <td>-34.595230</td>\n",
       "      <td>-58.409301</td>\n",
       "      <td>17</td>\n",
       "      <td>0</td>\n",
       "      <td>3.0</td>\n",
       "      <td>2.0</td>\n",
       "      <td>73.0</td>\n",
       "      <td>73.0</td>\n",
       "      <td>149000.0</td>\n",
       "      <td>2041.095890</td>\n",
       "      <td>Medio</td>\n",
       "      <td>30</td>\n",
       "      <td>False</td>\n",
       "      <td>False</td>\n",
       "      <td>False</td>\n",
       "      <td>False</td>\n",
       "    </tr>\n",
       "    <tr>\n",
       "      <th>10554</th>\n",
       "      <td>-34.581910</td>\n",
       "      <td>-58.449381</td>\n",
       "      <td>2</td>\n",
       "      <td>0</td>\n",
       "      <td>2.0</td>\n",
       "      <td>1.0</td>\n",
       "      <td>54.0</td>\n",
       "      <td>50.0</td>\n",
       "      <td>139797.0</td>\n",
       "      <td>2588.833333</td>\n",
       "      <td>Medio</td>\n",
       "      <td>0</td>\n",
       "      <td>False</td>\n",
       "      <td>False</td>\n",
       "      <td>False</td>\n",
       "      <td>False</td>\n",
       "    </tr>\n",
       "    <tr>\n",
       "      <th>10555</th>\n",
       "      <td>-34.573555</td>\n",
       "      <td>-58.440367</td>\n",
       "      <td>2</td>\n",
       "      <td>0</td>\n",
       "      <td>1.0</td>\n",
       "      <td>1.0</td>\n",
       "      <td>26.0</td>\n",
       "      <td>26.0</td>\n",
       "      <td>54000.0</td>\n",
       "      <td>2076.923077</td>\n",
       "      <td>Medio</td>\n",
       "      <td>37</td>\n",
       "      <td>False</td>\n",
       "      <td>False</td>\n",
       "      <td>False</td>\n",
       "      <td>False</td>\n",
       "    </tr>\n",
       "    <tr>\n",
       "      <th>10556</th>\n",
       "      <td>-34.624851</td>\n",
       "      <td>-58.434546</td>\n",
       "      <td>4</td>\n",
       "      <td>0</td>\n",
       "      <td>4.0</td>\n",
       "      <td>3.0</td>\n",
       "      <td>111.0</td>\n",
       "      <td>76.0</td>\n",
       "      <td>255000.0</td>\n",
       "      <td>2297.297297</td>\n",
       "      <td>Medio</td>\n",
       "      <td>40</td>\n",
       "      <td>False</td>\n",
       "      <td>True</td>\n",
       "      <td>False</td>\n",
       "      <td>True</td>\n",
       "    </tr>\n",
       "    <tr>\n",
       "      <th>10557</th>\n",
       "      <td>-34.568641</td>\n",
       "      <td>-58.446713</td>\n",
       "      <td>2</td>\n",
       "      <td>0</td>\n",
       "      <td>2.0</td>\n",
       "      <td>1.0</td>\n",
       "      <td>37.0</td>\n",
       "      <td>35.0</td>\n",
       "      <td>90000.0</td>\n",
       "      <td>2432.432432</td>\n",
       "      <td>Medio</td>\n",
       "      <td>-2</td>\n",
       "      <td>False</td>\n",
       "      <td>False</td>\n",
       "      <td>True</td>\n",
       "      <td>False</td>\n",
       "    </tr>\n",
       "  </tbody>\n",
       "</table>\n",
       "<p>10558 rows × 16 columns</p>\n",
       "</div>"
      ],
      "text/plain": [
       "         latitud   longitud  place_l3  property_type  property_rooms  \\\n",
       "0     -34.565080 -58.464190         0              0             2.0   \n",
       "1     -34.593059 -58.406758         1              0             3.0   \n",
       "2     -34.563755 -58.439019         2              1             2.0   \n",
       "3     -34.590534 -58.411562         2              0             3.0   \n",
       "4     -34.609729 -58.421587         3              0             1.0   \n",
       "...          ...        ...       ...            ...             ...   \n",
       "10553 -34.595230 -58.409301        17              0             3.0   \n",
       "10554 -34.581910 -58.449381         2              0             2.0   \n",
       "10555 -34.573555 -58.440367         2              0             1.0   \n",
       "10556 -34.624851 -58.434546         4              0             4.0   \n",
       "10557 -34.568641 -58.446713         2              0             2.0   \n",
       "\n",
       "       property_bedrooms  property_surface_total  property_surface_covered  \\\n",
       "0                    1.0                    48.0                      37.0   \n",
       "1                    2.0                   122.0                      97.0   \n",
       "2                    1.0                    44.0                      35.0   \n",
       "3                    2.0                   106.0                      93.0   \n",
       "4                    1.0                    25.0                      25.0   \n",
       "...                  ...                     ...                       ...   \n",
       "10553                2.0                    73.0                      73.0   \n",
       "10554                1.0                    54.0                      50.0   \n",
       "10555                1.0                    26.0                      26.0   \n",
       "10556                3.0                   111.0                      76.0   \n",
       "10557                1.0                    37.0                      35.0   \n",
       "\n",
       "       property_price         pxm2 tipo_precio  score_sentimientos  pileta  \\\n",
       "0            120000.0  2500.000000       Medio                  11    True   \n",
       "1            295000.0  2418.032787       Medio                  26   False   \n",
       "2             95000.0  2159.090909        Alto                  22   False   \n",
       "3            235000.0  2216.981132       Medio                  17   False   \n",
       "4             50000.0  2000.000000       Medio                   5   False   \n",
       "...               ...          ...         ...                 ...     ...   \n",
       "10553        149000.0  2041.095890       Medio                  30   False   \n",
       "10554        139797.0  2588.833333       Medio                   0   False   \n",
       "10555         54000.0  2076.923077       Medio                  37   False   \n",
       "10556        255000.0  2297.297297       Medio                  40   False   \n",
       "10557         90000.0  2432.432432       Medio                  -2   False   \n",
       "\n",
       "       parrilla  balcon    sum  \n",
       "0          True    True   True  \n",
       "1         False    True   True  \n",
       "2         False   False  False  \n",
       "3         False    True   True  \n",
       "4         False   False  False  \n",
       "...         ...     ...    ...  \n",
       "10553     False   False  False  \n",
       "10554     False   False  False  \n",
       "10555     False   False  False  \n",
       "10556      True   False   True  \n",
       "10557     False    True  False  \n",
       "\n",
       "[10558 rows x 16 columns]"
      ]
     },
     "execution_count": 45,
     "metadata": {},
     "output_type": "execute_result"
    }
   ],
   "source": [
    "## Replicamos en test\n",
    "ds_trabajo_test = ds_test.drop(['id', 'property_title', 'start_date', 'end_date'], axis=1)\n",
    "ohe_property_type_test = pd.get_dummies(ds_train['property_type'], prefix='property_type')\n",
    "ohe_place_l3_test = pd.get_dummies(ds_train['place_l3'], prefix='place_l3')\n",
    "ds_trabajo_test['place_l3'] = pd.factorize(ds_test['place_l3'])[0]\n",
    "ds_trabajo_test['property_type'] = pd.factorize(ds_test['property_type'])[0]\n",
    "ds_trabajo_test"
   ]
  },
  {
   "cell_type": "code",
   "execution_count": 46,
   "metadata": {
    "collapsed": false,
    "jupyter": {
     "outputs_hidden": false
    },
    "pycharm": {
     "name": "#%%\n"
    }
   },
   "outputs": [
    {
     "data": {
      "text/plain": [
       "((69142, 16), (10558, 16))"
      ]
     },
     "execution_count": 46,
     "metadata": {},
     "output_type": "execute_result"
    }
   ],
   "source": [
    "ds_trabajo_train.shape, ds_trabajo_test.shape"
   ]
  },
  {
   "cell_type": "markdown",
   "metadata": {
    "pycharm": {
     "name": "#%% md\n"
    }
   },
   "source": [
    "Sacamos la variable target y creamos nuestros datasets de entrenamiento"
   ]
  },
  {
   "cell_type": "code",
   "execution_count": 47,
   "metadata": {
    "collapsed": false,
    "jupyter": {
     "outputs_hidden": false
    },
    "pycharm": {
     "name": "#%%\n"
    }
   },
   "outputs": [
    {
     "data": {
      "text/plain": [
       "['latitud',\n",
       " 'longitud',\n",
       " 'place_l3',\n",
       " 'property_type',\n",
       " 'property_rooms',\n",
       " 'property_bedrooms',\n",
       " 'property_surface_total',\n",
       " 'property_surface_covered',\n",
       " 'score_sentimientos',\n",
       " 'pileta',\n",
       " 'parrilla',\n",
       " 'balcon',\n",
       " 'sum']"
      ]
     },
     "execution_count": 47,
     "metadata": {},
     "output_type": "execute_result"
    }
   ],
   "source": [
    "columnas_predictoras = ds_trabajo_train.columns.to_list()\n",
    "columnas_predictoras.remove('property_price')\n",
    "columnas_predictoras.remove('pxm2')\n",
    "columnas_predictoras.remove('tipo_precio')\n",
    "columnas_predictoras"
   ]
  },
  {
   "cell_type": "code",
   "execution_count": 48,
   "metadata": {
    "collapsed": false,
    "jupyter": {
     "outputs_hidden": false
    },
    "pycharm": {
     "name": "#%%\n"
    }
   },
   "outputs": [],
   "source": [
    "x_train_tp1 = ds_trabajo_train.loc[:, ['latitud',\n",
    "                                       'longitud',\n",
    "                                       'place_l3',\n",
    "                                       'property_type',\n",
    "                                       'property_rooms',\n",
    "                                       'property_bedrooms',\n",
    "                                       'property_surface_total',\n",
    "                                       'property_surface_covered']]\n",
    "x_train = ds_trabajo_train.loc[:, columnas_predictoras]\n",
    "\n",
    "x_test_tp1 = ds_trabajo_test.loc[:, ['latitud',\n",
    "                                     'longitud',\n",
    "                                     'place_l3',\n",
    "                                     'property_type',\n",
    "                                     'property_rooms',\n",
    "                                     'property_bedrooms',\n",
    "                                     'property_surface_total',\n",
    "                                     'property_surface_covered']]\n",
    "x_test = ds_trabajo_test.loc[:, columnas_predictoras]\n",
    "\n",
    "y_train = ds_trabajo_train.property_price\n",
    "y_train_clasificacion = ds_trabajo_train.tipo_precio\n",
    "y_test = ds_trabajo_test.property_price\n",
    "y_test_clasificacion = ds_trabajo_test.tipo_precio"
   ]
  },
  {
   "cell_type": "markdown",
   "metadata": {
    "pycharm": {
     "name": "#%% md\n"
    }
   },
   "source": [
    "Exportamos los dataset de train y test:"
   ]
  },
  {
   "cell_type": "code",
   "execution_count": 49,
   "metadata": {
    "collapsed": false,
    "jupyter": {
     "outputs_hidden": false
    },
    "pycharm": {
     "name": "#%%\n"
    }
   },
   "outputs": [],
   "source": [
    "pd.concat([x_train, y_train], axis=1).to_csv('datasets/train.csv')\n",
    "pd.concat([x_test, y_test], axis=1).to_csv('datasets/test.csv')"
   ]
  },
  {
   "cell_type": "code",
   "execution_count": 50,
   "metadata": {
    "collapsed": false,
    "jupyter": {
     "outputs_hidden": false
    },
    "pycharm": {
     "name": "#%%\n"
    }
   },
   "outputs": [
    {
     "data": {
      "text/html": [
       "<div>\n",
       "<style scoped>\n",
       "    .dataframe tbody tr th:only-of-type {\n",
       "        vertical-align: middle;\n",
       "    }\n",
       "\n",
       "    .dataframe tbody tr th {\n",
       "        vertical-align: top;\n",
       "    }\n",
       "\n",
       "    .dataframe thead th {\n",
       "        text-align: right;\n",
       "    }\n",
       "</style>\n",
       "<table border=\"1\" class=\"dataframe\">\n",
       "  <thead>\n",
       "    <tr style=\"text-align: right;\">\n",
       "      <th></th>\n",
       "      <th>latitud</th>\n",
       "      <th>longitud</th>\n",
       "      <th>place_l3</th>\n",
       "      <th>property_type</th>\n",
       "      <th>property_rooms</th>\n",
       "      <th>property_bedrooms</th>\n",
       "      <th>property_surface_total</th>\n",
       "      <th>property_surface_covered</th>\n",
       "      <th>score_sentimientos</th>\n",
       "      <th>pileta</th>\n",
       "      <th>parrilla</th>\n",
       "      <th>balcon</th>\n",
       "      <th>sum</th>\n",
       "    </tr>\n",
       "  </thead>\n",
       "  <tbody>\n",
       "    <tr>\n",
       "      <th>0</th>\n",
       "      <td>-34.551623</td>\n",
       "      <td>-58.491771</td>\n",
       "      <td>0</td>\n",
       "      <td>0</td>\n",
       "      <td>1.0</td>\n",
       "      <td>1.0</td>\n",
       "      <td>37.0</td>\n",
       "      <td>33.0</td>\n",
       "      <td>5</td>\n",
       "      <td>False</td>\n",
       "      <td>False</td>\n",
       "      <td>False</td>\n",
       "      <td>False</td>\n",
       "    </tr>\n",
       "    <tr>\n",
       "      <th>1</th>\n",
       "      <td>-34.576289</td>\n",
       "      <td>-58.463635</td>\n",
       "      <td>1</td>\n",
       "      <td>1</td>\n",
       "      <td>3.0</td>\n",
       "      <td>2.0</td>\n",
       "      <td>144.0</td>\n",
       "      <td>144.0</td>\n",
       "      <td>35</td>\n",
       "      <td>False</td>\n",
       "      <td>False</td>\n",
       "      <td>False</td>\n",
       "      <td>True</td>\n",
       "    </tr>\n",
       "    <tr>\n",
       "      <th>2</th>\n",
       "      <td>-34.600150</td>\n",
       "      <td>-58.378244</td>\n",
       "      <td>2</td>\n",
       "      <td>0</td>\n",
       "      <td>2.0</td>\n",
       "      <td>1.0</td>\n",
       "      <td>46.0</td>\n",
       "      <td>41.0</td>\n",
       "      <td>17</td>\n",
       "      <td>False</td>\n",
       "      <td>False</td>\n",
       "      <td>False</td>\n",
       "      <td>True</td>\n",
       "    </tr>\n",
       "    <tr>\n",
       "      <th>3</th>\n",
       "      <td>-34.641450</td>\n",
       "      <td>-58.372804</td>\n",
       "      <td>3</td>\n",
       "      <td>0</td>\n",
       "      <td>4.0</td>\n",
       "      <td>3.0</td>\n",
       "      <td>65.0</td>\n",
       "      <td>65.0</td>\n",
       "      <td>9</td>\n",
       "      <td>False</td>\n",
       "      <td>False</td>\n",
       "      <td>True</td>\n",
       "      <td>True</td>\n",
       "    </tr>\n",
       "    <tr>\n",
       "      <th>4</th>\n",
       "      <td>-34.629050</td>\n",
       "      <td>-58.468088</td>\n",
       "      <td>4</td>\n",
       "      <td>2</td>\n",
       "      <td>5.0</td>\n",
       "      <td>4.0</td>\n",
       "      <td>215.0</td>\n",
       "      <td>155.0</td>\n",
       "      <td>33</td>\n",
       "      <td>False</td>\n",
       "      <td>True</td>\n",
       "      <td>False</td>\n",
       "      <td>True</td>\n",
       "    </tr>\n",
       "    <tr>\n",
       "      <th>...</th>\n",
       "      <td>...</td>\n",
       "      <td>...</td>\n",
       "      <td>...</td>\n",
       "      <td>...</td>\n",
       "      <td>...</td>\n",
       "      <td>...</td>\n",
       "      <td>...</td>\n",
       "      <td>...</td>\n",
       "      <td>...</td>\n",
       "      <td>...</td>\n",
       "      <td>...</td>\n",
       "      <td>...</td>\n",
       "      <td>...</td>\n",
       "    </tr>\n",
       "    <tr>\n",
       "      <th>69137</th>\n",
       "      <td>-34.608522</td>\n",
       "      <td>-58.430410</td>\n",
       "      <td>10</td>\n",
       "      <td>0</td>\n",
       "      <td>4.0</td>\n",
       "      <td>3.0</td>\n",
       "      <td>103.0</td>\n",
       "      <td>94.0</td>\n",
       "      <td>13</td>\n",
       "      <td>False</td>\n",
       "      <td>False</td>\n",
       "      <td>True</td>\n",
       "      <td>False</td>\n",
       "    </tr>\n",
       "    <tr>\n",
       "      <th>69138</th>\n",
       "      <td>-34.625448</td>\n",
       "      <td>-58.524920</td>\n",
       "      <td>45</td>\n",
       "      <td>2</td>\n",
       "      <td>6.0</td>\n",
       "      <td>5.0</td>\n",
       "      <td>300.0</td>\n",
       "      <td>200.0</td>\n",
       "      <td>9</td>\n",
       "      <td>False</td>\n",
       "      <td>False</td>\n",
       "      <td>False</td>\n",
       "      <td>False</td>\n",
       "    </tr>\n",
       "    <tr>\n",
       "      <th>69139</th>\n",
       "      <td>-34.558831</td>\n",
       "      <td>-58.462175</td>\n",
       "      <td>8</td>\n",
       "      <td>0</td>\n",
       "      <td>4.0</td>\n",
       "      <td>3.0</td>\n",
       "      <td>129.0</td>\n",
       "      <td>114.0</td>\n",
       "      <td>54</td>\n",
       "      <td>False</td>\n",
       "      <td>False</td>\n",
       "      <td>True</td>\n",
       "      <td>False</td>\n",
       "    </tr>\n",
       "    <tr>\n",
       "      <th>69140</th>\n",
       "      <td>-34.604841</td>\n",
       "      <td>-58.495192</td>\n",
       "      <td>34</td>\n",
       "      <td>0</td>\n",
       "      <td>3.0</td>\n",
       "      <td>2.0</td>\n",
       "      <td>64.0</td>\n",
       "      <td>46.0</td>\n",
       "      <td>3</td>\n",
       "      <td>False</td>\n",
       "      <td>False</td>\n",
       "      <td>False</td>\n",
       "      <td>False</td>\n",
       "    </tr>\n",
       "    <tr>\n",
       "      <th>69141</th>\n",
       "      <td>-34.628746</td>\n",
       "      <td>-58.463183</td>\n",
       "      <td>4</td>\n",
       "      <td>2</td>\n",
       "      <td>4.0</td>\n",
       "      <td>3.0</td>\n",
       "      <td>165.0</td>\n",
       "      <td>123.0</td>\n",
       "      <td>44</td>\n",
       "      <td>False</td>\n",
       "      <td>False</td>\n",
       "      <td>False</td>\n",
       "      <td>False</td>\n",
       "    </tr>\n",
       "  </tbody>\n",
       "</table>\n",
       "<p>69142 rows × 13 columns</p>\n",
       "</div>"
      ],
      "text/plain": [
       "         latitud   longitud  place_l3  property_type  property_rooms  \\\n",
       "0     -34.551623 -58.491771         0              0             1.0   \n",
       "1     -34.576289 -58.463635         1              1             3.0   \n",
       "2     -34.600150 -58.378244         2              0             2.0   \n",
       "3     -34.641450 -58.372804         3              0             4.0   \n",
       "4     -34.629050 -58.468088         4              2             5.0   \n",
       "...          ...        ...       ...            ...             ...   \n",
       "69137 -34.608522 -58.430410        10              0             4.0   \n",
       "69138 -34.625448 -58.524920        45              2             6.0   \n",
       "69139 -34.558831 -58.462175         8              0             4.0   \n",
       "69140 -34.604841 -58.495192        34              0             3.0   \n",
       "69141 -34.628746 -58.463183         4              2             4.0   \n",
       "\n",
       "       property_bedrooms  property_surface_total  property_surface_covered  \\\n",
       "0                    1.0                    37.0                      33.0   \n",
       "1                    2.0                   144.0                     144.0   \n",
       "2                    1.0                    46.0                      41.0   \n",
       "3                    3.0                    65.0                      65.0   \n",
       "4                    4.0                   215.0                     155.0   \n",
       "...                  ...                     ...                       ...   \n",
       "69137                3.0                   103.0                      94.0   \n",
       "69138                5.0                   300.0                     200.0   \n",
       "69139                3.0                   129.0                     114.0   \n",
       "69140                2.0                    64.0                      46.0   \n",
       "69141                3.0                   165.0                     123.0   \n",
       "\n",
       "       score_sentimientos  pileta  parrilla  balcon    sum  \n",
       "0                       5   False     False   False  False  \n",
       "1                      35   False     False   False   True  \n",
       "2                      17   False     False   False   True  \n",
       "3                       9   False     False    True   True  \n",
       "4                      33   False      True   False   True  \n",
       "...                   ...     ...       ...     ...    ...  \n",
       "69137                  13   False     False    True  False  \n",
       "69138                   9   False     False   False  False  \n",
       "69139                  54   False     False    True  False  \n",
       "69140                   3   False     False   False  False  \n",
       "69141                  44   False     False   False  False  \n",
       "\n",
       "[69142 rows x 13 columns]"
      ]
     },
     "execution_count": 50,
     "metadata": {},
     "output_type": "execute_result"
    }
   ],
   "source": [
    "x_train"
   ]
  },
  {
   "cell_type": "markdown",
   "metadata": {
    "pycharm": {
     "name": "#%% md\n"
    }
   },
   "source": [
    "Como todas las features que tenemos están en escalas completamente diferentes y no pueden compararse, normalizaremos el dataset"
   ]
  },
  {
   "cell_type": "code",
   "execution_count": 51,
   "metadata": {
    "collapsed": false,
    "jupyter": {
     "outputs_hidden": false
    },
    "pycharm": {
     "name": "#%%\n"
    }
   },
   "outputs": [],
   "source": [
    "sscaler = StandardScaler()\n",
    "x_train_tp1_transform = sscaler.fit_transform(pd.DataFrame(x_train_tp1))\n",
    "x_test_tp1_transform = sscaler.fit_transform(pd.DataFrame(x_test_tp1))\n",
    "x_train_transform = sscaler.fit_transform(pd.DataFrame(x_train))\n",
    "x_test_transform = sscaler.fit_transform(pd.DataFrame(x_test))"
   ]
  },
  {
   "cell_type": "code",
   "execution_count": 52,
   "metadata": {
    "collapsed": false,
    "jupyter": {
     "outputs_hidden": false
    },
    "pycharm": {
     "name": "#%%\n"
    }
   },
   "outputs": [],
   "source": [
    "# A partir de acá, cada parte se puede ejecutar individualmente."
   ]
  },
  {
   "cell_type": "markdown",
   "metadata": {
    "pycharm": {
     "name": "#%% md\n"
    }
   },
   "source": [
    "#### XGBoost - Regresión"
   ]
  },
  {
   "cell_type": "markdown",
   "metadata": {
    "pycharm": {
     "name": "#%% md\n"
    }
   },
   "source": [
    "best_xgb_tp1 es el arbol que tiene los mejores hiper parametros y estimaodores obtenidos en el TP1."
   ]
  },
  {
   "cell_type": "code",
   "execution_count": 53,
   "metadata": {
    "collapsed": false,
    "jupyter": {
     "outputs_hidden": false
    },
    "pycharm": {
     "name": "#%%\n"
    }
   },
   "outputs": [],
   "source": [
    "def regression_metrics(title, real, predicted):\n",
    "    mse = sk.metrics.mean_squared_error(y_true=real, y_pred=predicted)\n",
    "    rmse = sk.metrics.mean_squared_error(y_true=real, y_pred=predicted, squared=False)\n",
    "    r2 = sk.metrics.r2_score(y_true=real, y_pred=predicted)\n",
    "\n",
    "    print(title)\n",
    "    print(f\"El error (mse) es: {mse}\")\n",
    "    print(f\"El error (rmse) es: {rmse}\")\n",
    "    print(f\"El error (r²) es: {r2}\\n\")"
   ]
  },
  {
   "cell_type": "code",
   "execution_count": 54,
   "metadata": {
    "collapsed": false,
    "jupyter": {
     "outputs_hidden": false
    },
    "pycharm": {
     "name": "#%%\n"
    }
   },
   "outputs": [],
   "source": [
    "best_xgb_tp1 = load('models/XGBoost.joblib')"
   ]
  },
  {
   "cell_type": "markdown",
   "metadata": {
    "pycharm": {
     "name": "#%% md\n"
    }
   },
   "source": [
    "##### Metricas obtenidas con el dataset del TP1."
   ]
  },
  {
   "cell_type": "markdown",
   "metadata": {
    "pycharm": {
     "name": "#%% md\n"
    }
   },
   "source": [
    "Metricas XGBoost optimizado - Train\n",
    "\n",
    "El error (mse) es: 761704416.3937123\n",
    "\n",
    "El error (rmse) es: 27598.993032241455\n",
    "\n",
    "El error (r²) es: 0.9652453545965177\n",
    "\n",
    "---------------------------------------\n",
    "\n",
    "Metricas XGBoost optimizado - Test\n",
    "\n",
    "El error (mse) es: 3287902738.8784523\n",
    "\n",
    "El error (rmse) es: 57340.23664825994\n",
    "\n",
    "El error (r²) es: 0.8477123168506954"
   ]
  },
  {
   "cell_type": "code",
   "execution_count": 55,
   "metadata": {
    "collapsed": false,
    "jupyter": {
     "outputs_hidden": false
    },
    "pycharm": {
     "name": "#%%\n"
    }
   },
   "outputs": [
    {
     "name": "stdout",
     "output_type": "stream",
     "text": [
      "Metricas XGBoost optimizado - Train\n",
      "El error (mse) es: 434248515.17446923\n",
      "El error (rmse) es: 20838.63035745078\n",
      "El error (r²) es: 0.9799330735989964\n",
      "\n",
      "Metricas XGBoost optimizado - Test\n",
      "El error (mse) es: 3103350379.6449485\n",
      "El error (rmse) es: 55707.72280074773\n",
      "El error (r²) es: 0.835644415110878\n",
      "\n"
     ]
    }
   ],
   "source": [
    "best_xgb_tp1.fit(x_train_tp1_transform, y_train)\n",
    "y_pred = best_xgb_tp1.predict(x_train_tp1_transform)\n",
    "y_pred_test = best_xgb_tp1.predict(x_test_tp1_transform)\n",
    "\n",
    "regression_metrics(\"Metricas XGBoost optimizado - Train\", y_train, y_pred)\n",
    "regression_metrics(\"Metricas XGBoost optimizado - Test\", y_test, y_pred_test)"
   ]
  },
  {
   "cell_type": "markdown",
   "metadata": {
    "pycharm": {
     "name": "#%% md\n"
    }
   },
   "source": [
    "Utilizamos esta pagina como soporte para entender mejor que representa cada metrica de error: \n",
    "\n",
    "https://sitiobigdata.com/2018/08/27/machine-learning-metricas-regresion-mse/"
   ]
  },
  {
   "cell_type": "markdown",
   "metadata": {
    "pycharm": {
     "name": "#%% md\n"
    }
   },
   "source": [
    "**Train**\n",
    "\n",
    "Notamos como el modelo con el dataset expandido mejora significativamente.\n",
    "\n",
    "Podemos observar un delta de **MSE** de: 432564299. Esto significa que el error se redujo un 400%. Esto es relevante ya que esta metrica nos dice sobre cuan bueno es realmente el modelo entrenado.\n",
    "\n",
    "Luego, para **RMSE** tenemos un delta de: 9456. Esto significa que el error se redujo un 65%.\n",
    "\n",
    "Finalmente para **R2** obtuvimos un delta de: -0,19. Esto significa que el modelo mejoró un 20%, ya que, mientras mas tengamos un valor mas cercano a uno, tenemos un modelo con un error cercano a cero."
   ]
  },
  {
   "cell_type": "markdown",
   "metadata": {
    "pycharm": {
     "name": "#%% md\n"
    }
   },
   "source": [
    "**Test**\n",
    "\n",
    "Notamos como el modelo con el dataset expandido mejora significativamente.\n",
    "\n",
    "Podemos observar un delta de **MSE** de: -96136560337. Esto significa que el error en test empeoró un 3%. \n",
    "\n",
    "Luego, para **RMSE** tenemos un delta de: -257976,21245748526. Esto significa que el error empeoró un 550%.\n",
    "\n",
    "Finalmente para **R2** obtuvimos un delta de: 0,52. Esto significa que el modelo empeoró un 52%."
   ]
  },
  {
   "cell_type": "markdown",
   "metadata": {
    "pycharm": {
     "name": "#%% md\n"
    }
   },
   "source": [
    "##### Nuevos Hiperparametros optimizados con el nuevo dataset ampliado."
   ]
  },
  {
   "cell_type": "code",
   "execution_count": 56,
   "metadata": {
    "collapsed": false,
    "jupyter": {
     "outputs_hidden": false
    },
    "pycharm": {
     "name": "#%%\n"
    }
   },
   "outputs": [
    {
     "name": "stdout",
     "output_type": "stream",
     "text": [
      "Fitting 5 folds for each of 10 candidates, totalling 50 fits\n",
      "[CV 1/5; 1/10] START alpha=0.049999999999999996, learning_rate=0.03, max_depth=4, min_child_weight=2, n_estimators=100\n"
     ]
    },
    {
     "ename": "KeyboardInterrupt",
     "evalue": "",
     "output_type": "error",
     "traceback": [
      "\u001b[0;31m---------------------------------------------------------------------------\u001b[0m",
      "\u001b[0;31mKeyboardInterrupt\u001b[0m                         Traceback (most recent call last)",
      "Input \u001b[0;32mIn [56]\u001b[0m, in \u001b[0;36m<cell line: 20>\u001b[0;34m()\u001b[0m\n\u001b[1;32m     16\u001b[0m search_regressor \u001b[38;5;241m=\u001b[39m XGBRegressor()\n\u001b[1;32m     18\u001b[0m search \u001b[38;5;241m=\u001b[39m RandomizedSearchCV(search_regressor, params, cv\u001b[38;5;241m=\u001b[39m\u001b[38;5;241m5\u001b[39m, random_state\u001b[38;5;241m=\u001b[39m\u001b[38;5;241m9\u001b[39m, n_iter\u001b[38;5;241m=\u001b[39m\u001b[38;5;241m10\u001b[39m, verbose\u001b[38;5;241m=\u001b[39m\u001b[38;5;241m10000\u001b[39m)\n\u001b[0;32m---> 20\u001b[0m \u001b[43msearch\u001b[49m\u001b[38;5;241;43m.\u001b[39;49m\u001b[43mfit\u001b[49m\u001b[43m(\u001b[49m\u001b[43mx_train_transform\u001b[49m\u001b[43m,\u001b[49m\u001b[43m \u001b[49m\u001b[43my_train\u001b[49m\u001b[43m)\u001b[49m\n",
      "File \u001b[0;32m/Library/Frameworks/Python.framework/Versions/3.10/lib/python3.10/site-packages/sklearn/model_selection/_search.py:875\u001b[0m, in \u001b[0;36mBaseSearchCV.fit\u001b[0;34m(self, X, y, groups, **fit_params)\u001b[0m\n\u001b[1;32m    869\u001b[0m     results \u001b[38;5;241m=\u001b[39m \u001b[38;5;28mself\u001b[39m\u001b[38;5;241m.\u001b[39m_format_results(\n\u001b[1;32m    870\u001b[0m         all_candidate_params, n_splits, all_out, all_more_results\n\u001b[1;32m    871\u001b[0m     )\n\u001b[1;32m    873\u001b[0m     \u001b[38;5;28;01mreturn\u001b[39;00m results\n\u001b[0;32m--> 875\u001b[0m \u001b[38;5;28;43mself\u001b[39;49m\u001b[38;5;241;43m.\u001b[39;49m\u001b[43m_run_search\u001b[49m\u001b[43m(\u001b[49m\u001b[43mevaluate_candidates\u001b[49m\u001b[43m)\u001b[49m\n\u001b[1;32m    877\u001b[0m \u001b[38;5;66;03m# multimetric is determined here because in the case of a callable\u001b[39;00m\n\u001b[1;32m    878\u001b[0m \u001b[38;5;66;03m# self.scoring the return type is only known after calling\u001b[39;00m\n\u001b[1;32m    879\u001b[0m first_test_score \u001b[38;5;241m=\u001b[39m all_out[\u001b[38;5;241m0\u001b[39m][\u001b[38;5;124m\"\u001b[39m\u001b[38;5;124mtest_scores\u001b[39m\u001b[38;5;124m\"\u001b[39m]\n",
      "File \u001b[0;32m/Library/Frameworks/Python.framework/Versions/3.10/lib/python3.10/site-packages/sklearn/model_selection/_search.py:1753\u001b[0m, in \u001b[0;36mRandomizedSearchCV._run_search\u001b[0;34m(self, evaluate_candidates)\u001b[0m\n\u001b[1;32m   1751\u001b[0m \u001b[38;5;28;01mdef\u001b[39;00m \u001b[38;5;21m_run_search\u001b[39m(\u001b[38;5;28mself\u001b[39m, evaluate_candidates):\n\u001b[1;32m   1752\u001b[0m     \u001b[38;5;124;03m\"\"\"Search n_iter candidates from param_distributions\"\"\"\u001b[39;00m\n\u001b[0;32m-> 1753\u001b[0m     \u001b[43mevaluate_candidates\u001b[49m\u001b[43m(\u001b[49m\n\u001b[1;32m   1754\u001b[0m \u001b[43m        \u001b[49m\u001b[43mParameterSampler\u001b[49m\u001b[43m(\u001b[49m\n\u001b[1;32m   1755\u001b[0m \u001b[43m            \u001b[49m\u001b[38;5;28;43mself\u001b[39;49m\u001b[38;5;241;43m.\u001b[39;49m\u001b[43mparam_distributions\u001b[49m\u001b[43m,\u001b[49m\u001b[43m \u001b[49m\u001b[38;5;28;43mself\u001b[39;49m\u001b[38;5;241;43m.\u001b[39;49m\u001b[43mn_iter\u001b[49m\u001b[43m,\u001b[49m\u001b[43m \u001b[49m\u001b[43mrandom_state\u001b[49m\u001b[38;5;241;43m=\u001b[39;49m\u001b[38;5;28;43mself\u001b[39;49m\u001b[38;5;241;43m.\u001b[39;49m\u001b[43mrandom_state\u001b[49m\n\u001b[1;32m   1756\u001b[0m \u001b[43m        \u001b[49m\u001b[43m)\u001b[49m\n\u001b[1;32m   1757\u001b[0m \u001b[43m    \u001b[49m\u001b[43m)\u001b[49m\n",
      "File \u001b[0;32m/Library/Frameworks/Python.framework/Versions/3.10/lib/python3.10/site-packages/sklearn/model_selection/_search.py:822\u001b[0m, in \u001b[0;36mBaseSearchCV.fit.<locals>.evaluate_candidates\u001b[0;34m(candidate_params, cv, more_results)\u001b[0m\n\u001b[1;32m    814\u001b[0m \u001b[38;5;28;01mif\u001b[39;00m \u001b[38;5;28mself\u001b[39m\u001b[38;5;241m.\u001b[39mverbose \u001b[38;5;241m>\u001b[39m \u001b[38;5;241m0\u001b[39m:\n\u001b[1;32m    815\u001b[0m     \u001b[38;5;28mprint\u001b[39m(\n\u001b[1;32m    816\u001b[0m         \u001b[38;5;124m\"\u001b[39m\u001b[38;5;124mFitting \u001b[39m\u001b[38;5;132;01m{0}\u001b[39;00m\u001b[38;5;124m folds for each of \u001b[39m\u001b[38;5;132;01m{1}\u001b[39;00m\u001b[38;5;124m candidates,\u001b[39m\u001b[38;5;124m\"\u001b[39m\n\u001b[1;32m    817\u001b[0m         \u001b[38;5;124m\"\u001b[39m\u001b[38;5;124m totalling \u001b[39m\u001b[38;5;132;01m{2}\u001b[39;00m\u001b[38;5;124m fits\u001b[39m\u001b[38;5;124m\"\u001b[39m\u001b[38;5;241m.\u001b[39mformat(\n\u001b[1;32m    818\u001b[0m             n_splits, n_candidates, n_candidates \u001b[38;5;241m*\u001b[39m n_splits\n\u001b[1;32m    819\u001b[0m         )\n\u001b[1;32m    820\u001b[0m     )\n\u001b[0;32m--> 822\u001b[0m out \u001b[38;5;241m=\u001b[39m \u001b[43mparallel\u001b[49m\u001b[43m(\u001b[49m\n\u001b[1;32m    823\u001b[0m \u001b[43m    \u001b[49m\u001b[43mdelayed\u001b[49m\u001b[43m(\u001b[49m\u001b[43m_fit_and_score\u001b[49m\u001b[43m)\u001b[49m\u001b[43m(\u001b[49m\n\u001b[1;32m    824\u001b[0m \u001b[43m        \u001b[49m\u001b[43mclone\u001b[49m\u001b[43m(\u001b[49m\u001b[43mbase_estimator\u001b[49m\u001b[43m)\u001b[49m\u001b[43m,\u001b[49m\n\u001b[1;32m    825\u001b[0m \u001b[43m        \u001b[49m\u001b[43mX\u001b[49m\u001b[43m,\u001b[49m\n\u001b[1;32m    826\u001b[0m \u001b[43m        \u001b[49m\u001b[43my\u001b[49m\u001b[43m,\u001b[49m\n\u001b[1;32m    827\u001b[0m \u001b[43m        \u001b[49m\u001b[43mtrain\u001b[49m\u001b[38;5;241;43m=\u001b[39;49m\u001b[43mtrain\u001b[49m\u001b[43m,\u001b[49m\n\u001b[1;32m    828\u001b[0m \u001b[43m        \u001b[49m\u001b[43mtest\u001b[49m\u001b[38;5;241;43m=\u001b[39;49m\u001b[43mtest\u001b[49m\u001b[43m,\u001b[49m\n\u001b[1;32m    829\u001b[0m \u001b[43m        \u001b[49m\u001b[43mparameters\u001b[49m\u001b[38;5;241;43m=\u001b[39;49m\u001b[43mparameters\u001b[49m\u001b[43m,\u001b[49m\n\u001b[1;32m    830\u001b[0m \u001b[43m        \u001b[49m\u001b[43msplit_progress\u001b[49m\u001b[38;5;241;43m=\u001b[39;49m\u001b[43m(\u001b[49m\u001b[43msplit_idx\u001b[49m\u001b[43m,\u001b[49m\u001b[43m \u001b[49m\u001b[43mn_splits\u001b[49m\u001b[43m)\u001b[49m\u001b[43m,\u001b[49m\n\u001b[1;32m    831\u001b[0m \u001b[43m        \u001b[49m\u001b[43mcandidate_progress\u001b[49m\u001b[38;5;241;43m=\u001b[39;49m\u001b[43m(\u001b[49m\u001b[43mcand_idx\u001b[49m\u001b[43m,\u001b[49m\u001b[43m \u001b[49m\u001b[43mn_candidates\u001b[49m\u001b[43m)\u001b[49m\u001b[43m,\u001b[49m\n\u001b[1;32m    832\u001b[0m \u001b[43m        \u001b[49m\u001b[38;5;241;43m*\u001b[39;49m\u001b[38;5;241;43m*\u001b[39;49m\u001b[43mfit_and_score_kwargs\u001b[49m\u001b[43m,\u001b[49m\n\u001b[1;32m    833\u001b[0m \u001b[43m    \u001b[49m\u001b[43m)\u001b[49m\n\u001b[1;32m    834\u001b[0m \u001b[43m    \u001b[49m\u001b[38;5;28;43;01mfor\u001b[39;49;00m\u001b[43m \u001b[49m\u001b[43m(\u001b[49m\u001b[43mcand_idx\u001b[49m\u001b[43m,\u001b[49m\u001b[43m \u001b[49m\u001b[43mparameters\u001b[49m\u001b[43m)\u001b[49m\u001b[43m,\u001b[49m\u001b[43m \u001b[49m\u001b[43m(\u001b[49m\u001b[43msplit_idx\u001b[49m\u001b[43m,\u001b[49m\u001b[43m \u001b[49m\u001b[43m(\u001b[49m\u001b[43mtrain\u001b[49m\u001b[43m,\u001b[49m\u001b[43m \u001b[49m\u001b[43mtest\u001b[49m\u001b[43m)\u001b[49m\u001b[43m)\u001b[49m\u001b[43m \u001b[49m\u001b[38;5;129;43;01min\u001b[39;49;00m\u001b[43m \u001b[49m\u001b[43mproduct\u001b[49m\u001b[43m(\u001b[49m\n\u001b[1;32m    835\u001b[0m \u001b[43m        \u001b[49m\u001b[38;5;28;43menumerate\u001b[39;49m\u001b[43m(\u001b[49m\u001b[43mcandidate_params\u001b[49m\u001b[43m)\u001b[49m\u001b[43m,\u001b[49m\u001b[43m \u001b[49m\u001b[38;5;28;43menumerate\u001b[39;49m\u001b[43m(\u001b[49m\u001b[43mcv\u001b[49m\u001b[38;5;241;43m.\u001b[39;49m\u001b[43msplit\u001b[49m\u001b[43m(\u001b[49m\u001b[43mX\u001b[49m\u001b[43m,\u001b[49m\u001b[43m \u001b[49m\u001b[43my\u001b[49m\u001b[43m,\u001b[49m\u001b[43m \u001b[49m\u001b[43mgroups\u001b[49m\u001b[43m)\u001b[49m\u001b[43m)\u001b[49m\n\u001b[1;32m    836\u001b[0m \u001b[43m    \u001b[49m\u001b[43m)\u001b[49m\n\u001b[1;32m    837\u001b[0m \u001b[43m\u001b[49m\u001b[43m)\u001b[49m\n\u001b[1;32m    839\u001b[0m \u001b[38;5;28;01mif\u001b[39;00m \u001b[38;5;28mlen\u001b[39m(out) \u001b[38;5;241m<\u001b[39m \u001b[38;5;241m1\u001b[39m:\n\u001b[1;32m    840\u001b[0m     \u001b[38;5;28;01mraise\u001b[39;00m \u001b[38;5;167;01mValueError\u001b[39;00m(\n\u001b[1;32m    841\u001b[0m         \u001b[38;5;124m\"\u001b[39m\u001b[38;5;124mNo fits were performed. \u001b[39m\u001b[38;5;124m\"\u001b[39m\n\u001b[1;32m    842\u001b[0m         \u001b[38;5;124m\"\u001b[39m\u001b[38;5;124mWas the CV iterator empty? \u001b[39m\u001b[38;5;124m\"\u001b[39m\n\u001b[1;32m    843\u001b[0m         \u001b[38;5;124m\"\u001b[39m\u001b[38;5;124mWere there no candidates?\u001b[39m\u001b[38;5;124m\"\u001b[39m\n\u001b[1;32m    844\u001b[0m     )\n",
      "File \u001b[0;32m/Library/Frameworks/Python.framework/Versions/3.10/lib/python3.10/site-packages/joblib/parallel.py:1085\u001b[0m, in \u001b[0;36mParallel.__call__\u001b[0;34m(self, iterable)\u001b[0m\n\u001b[1;32m   1076\u001b[0m \u001b[38;5;28;01mtry\u001b[39;00m:\n\u001b[1;32m   1077\u001b[0m     \u001b[38;5;66;03m# Only set self._iterating to True if at least a batch\u001b[39;00m\n\u001b[1;32m   1078\u001b[0m     \u001b[38;5;66;03m# was dispatched. In particular this covers the edge\u001b[39;00m\n\u001b[0;32m   (...)\u001b[0m\n\u001b[1;32m   1082\u001b[0m     \u001b[38;5;66;03m# was very quick and its callback already dispatched all the\u001b[39;00m\n\u001b[1;32m   1083\u001b[0m     \u001b[38;5;66;03m# remaining jobs.\u001b[39;00m\n\u001b[1;32m   1084\u001b[0m     \u001b[38;5;28mself\u001b[39m\u001b[38;5;241m.\u001b[39m_iterating \u001b[38;5;241m=\u001b[39m \u001b[38;5;28;01mFalse\u001b[39;00m\n\u001b[0;32m-> 1085\u001b[0m     \u001b[38;5;28;01mif\u001b[39;00m \u001b[38;5;28;43mself\u001b[39;49m\u001b[38;5;241;43m.\u001b[39;49m\u001b[43mdispatch_one_batch\u001b[49m\u001b[43m(\u001b[49m\u001b[43miterator\u001b[49m\u001b[43m)\u001b[49m:\n\u001b[1;32m   1086\u001b[0m         \u001b[38;5;28mself\u001b[39m\u001b[38;5;241m.\u001b[39m_iterating \u001b[38;5;241m=\u001b[39m \u001b[38;5;28mself\u001b[39m\u001b[38;5;241m.\u001b[39m_original_iterator \u001b[38;5;129;01mis\u001b[39;00m \u001b[38;5;129;01mnot\u001b[39;00m \u001b[38;5;28;01mNone\u001b[39;00m\n\u001b[1;32m   1088\u001b[0m     \u001b[38;5;28;01mwhile\u001b[39;00m \u001b[38;5;28mself\u001b[39m\u001b[38;5;241m.\u001b[39mdispatch_one_batch(iterator):\n",
      "File \u001b[0;32m/Library/Frameworks/Python.framework/Versions/3.10/lib/python3.10/site-packages/joblib/parallel.py:901\u001b[0m, in \u001b[0;36mParallel.dispatch_one_batch\u001b[0;34m(self, iterator)\u001b[0m\n\u001b[1;32m    899\u001b[0m     \u001b[38;5;28;01mreturn\u001b[39;00m \u001b[38;5;28;01mFalse\u001b[39;00m\n\u001b[1;32m    900\u001b[0m \u001b[38;5;28;01melse\u001b[39;00m:\n\u001b[0;32m--> 901\u001b[0m     \u001b[38;5;28;43mself\u001b[39;49m\u001b[38;5;241;43m.\u001b[39;49m\u001b[43m_dispatch\u001b[49m\u001b[43m(\u001b[49m\u001b[43mtasks\u001b[49m\u001b[43m)\u001b[49m\n\u001b[1;32m    902\u001b[0m     \u001b[38;5;28;01mreturn\u001b[39;00m \u001b[38;5;28;01mTrue\u001b[39;00m\n",
      "File \u001b[0;32m/Library/Frameworks/Python.framework/Versions/3.10/lib/python3.10/site-packages/joblib/parallel.py:819\u001b[0m, in \u001b[0;36mParallel._dispatch\u001b[0;34m(self, batch)\u001b[0m\n\u001b[1;32m    817\u001b[0m \u001b[38;5;28;01mwith\u001b[39;00m \u001b[38;5;28mself\u001b[39m\u001b[38;5;241m.\u001b[39m_lock:\n\u001b[1;32m    818\u001b[0m     job_idx \u001b[38;5;241m=\u001b[39m \u001b[38;5;28mlen\u001b[39m(\u001b[38;5;28mself\u001b[39m\u001b[38;5;241m.\u001b[39m_jobs)\n\u001b[0;32m--> 819\u001b[0m     job \u001b[38;5;241m=\u001b[39m \u001b[38;5;28;43mself\u001b[39;49m\u001b[38;5;241;43m.\u001b[39;49m\u001b[43m_backend\u001b[49m\u001b[38;5;241;43m.\u001b[39;49m\u001b[43mapply_async\u001b[49m\u001b[43m(\u001b[49m\u001b[43mbatch\u001b[49m\u001b[43m,\u001b[49m\u001b[43m \u001b[49m\u001b[43mcallback\u001b[49m\u001b[38;5;241;43m=\u001b[39;49m\u001b[43mcb\u001b[49m\u001b[43m)\u001b[49m\n\u001b[1;32m    820\u001b[0m     \u001b[38;5;66;03m# A job can complete so quickly than its callback is\u001b[39;00m\n\u001b[1;32m    821\u001b[0m     \u001b[38;5;66;03m# called before we get here, causing self._jobs to\u001b[39;00m\n\u001b[1;32m    822\u001b[0m     \u001b[38;5;66;03m# grow. To ensure correct results ordering, .insert is\u001b[39;00m\n\u001b[1;32m    823\u001b[0m     \u001b[38;5;66;03m# used (rather than .append) in the following line\u001b[39;00m\n\u001b[1;32m    824\u001b[0m     \u001b[38;5;28mself\u001b[39m\u001b[38;5;241m.\u001b[39m_jobs\u001b[38;5;241m.\u001b[39minsert(job_idx, job)\n",
      "File \u001b[0;32m/Library/Frameworks/Python.framework/Versions/3.10/lib/python3.10/site-packages/joblib/_parallel_backends.py:208\u001b[0m, in \u001b[0;36mSequentialBackend.apply_async\u001b[0;34m(self, func, callback)\u001b[0m\n\u001b[1;32m    206\u001b[0m \u001b[38;5;28;01mdef\u001b[39;00m \u001b[38;5;21mapply_async\u001b[39m(\u001b[38;5;28mself\u001b[39m, func, callback\u001b[38;5;241m=\u001b[39m\u001b[38;5;28;01mNone\u001b[39;00m):\n\u001b[1;32m    207\u001b[0m     \u001b[38;5;124;03m\"\"\"Schedule a func to be run\"\"\"\u001b[39;00m\n\u001b[0;32m--> 208\u001b[0m     result \u001b[38;5;241m=\u001b[39m \u001b[43mImmediateResult\u001b[49m\u001b[43m(\u001b[49m\u001b[43mfunc\u001b[49m\u001b[43m)\u001b[49m\n\u001b[1;32m    209\u001b[0m     \u001b[38;5;28;01mif\u001b[39;00m callback:\n\u001b[1;32m    210\u001b[0m         callback(result)\n",
      "File \u001b[0;32m/Library/Frameworks/Python.framework/Versions/3.10/lib/python3.10/site-packages/joblib/_parallel_backends.py:597\u001b[0m, in \u001b[0;36mImmediateResult.__init__\u001b[0;34m(self, batch)\u001b[0m\n\u001b[1;32m    594\u001b[0m \u001b[38;5;28;01mdef\u001b[39;00m \u001b[38;5;21m__init__\u001b[39m(\u001b[38;5;28mself\u001b[39m, batch):\n\u001b[1;32m    595\u001b[0m     \u001b[38;5;66;03m# Don't delay the application, to avoid keeping the input\u001b[39;00m\n\u001b[1;32m    596\u001b[0m     \u001b[38;5;66;03m# arguments in memory\u001b[39;00m\n\u001b[0;32m--> 597\u001b[0m     \u001b[38;5;28mself\u001b[39m\u001b[38;5;241m.\u001b[39mresults \u001b[38;5;241m=\u001b[39m \u001b[43mbatch\u001b[49m\u001b[43m(\u001b[49m\u001b[43m)\u001b[49m\n",
      "File \u001b[0;32m/Library/Frameworks/Python.framework/Versions/3.10/lib/python3.10/site-packages/joblib/parallel.py:288\u001b[0m, in \u001b[0;36mBatchedCalls.__call__\u001b[0;34m(self)\u001b[0m\n\u001b[1;32m    284\u001b[0m \u001b[38;5;28;01mdef\u001b[39;00m \u001b[38;5;21m__call__\u001b[39m(\u001b[38;5;28mself\u001b[39m):\n\u001b[1;32m    285\u001b[0m     \u001b[38;5;66;03m# Set the default nested backend to self._backend but do not set the\u001b[39;00m\n\u001b[1;32m    286\u001b[0m     \u001b[38;5;66;03m# change the default number of processes to -1\u001b[39;00m\n\u001b[1;32m    287\u001b[0m     \u001b[38;5;28;01mwith\u001b[39;00m parallel_backend(\u001b[38;5;28mself\u001b[39m\u001b[38;5;241m.\u001b[39m_backend, n_jobs\u001b[38;5;241m=\u001b[39m\u001b[38;5;28mself\u001b[39m\u001b[38;5;241m.\u001b[39m_n_jobs):\n\u001b[0;32m--> 288\u001b[0m         \u001b[38;5;28;01mreturn\u001b[39;00m [func(\u001b[38;5;241m*\u001b[39margs, \u001b[38;5;241m*\u001b[39m\u001b[38;5;241m*\u001b[39mkwargs)\n\u001b[1;32m    289\u001b[0m                 \u001b[38;5;28;01mfor\u001b[39;00m func, args, kwargs \u001b[38;5;129;01min\u001b[39;00m \u001b[38;5;28mself\u001b[39m\u001b[38;5;241m.\u001b[39mitems]\n",
      "File \u001b[0;32m/Library/Frameworks/Python.framework/Versions/3.10/lib/python3.10/site-packages/joblib/parallel.py:288\u001b[0m, in \u001b[0;36m<listcomp>\u001b[0;34m(.0)\u001b[0m\n\u001b[1;32m    284\u001b[0m \u001b[38;5;28;01mdef\u001b[39;00m \u001b[38;5;21m__call__\u001b[39m(\u001b[38;5;28mself\u001b[39m):\n\u001b[1;32m    285\u001b[0m     \u001b[38;5;66;03m# Set the default nested backend to self._backend but do not set the\u001b[39;00m\n\u001b[1;32m    286\u001b[0m     \u001b[38;5;66;03m# change the default number of processes to -1\u001b[39;00m\n\u001b[1;32m    287\u001b[0m     \u001b[38;5;28;01mwith\u001b[39;00m parallel_backend(\u001b[38;5;28mself\u001b[39m\u001b[38;5;241m.\u001b[39m_backend, n_jobs\u001b[38;5;241m=\u001b[39m\u001b[38;5;28mself\u001b[39m\u001b[38;5;241m.\u001b[39m_n_jobs):\n\u001b[0;32m--> 288\u001b[0m         \u001b[38;5;28;01mreturn\u001b[39;00m [\u001b[43mfunc\u001b[49m\u001b[43m(\u001b[49m\u001b[38;5;241;43m*\u001b[39;49m\u001b[43margs\u001b[49m\u001b[43m,\u001b[49m\u001b[43m \u001b[49m\u001b[38;5;241;43m*\u001b[39;49m\u001b[38;5;241;43m*\u001b[39;49m\u001b[43mkwargs\u001b[49m\u001b[43m)\u001b[49m\n\u001b[1;32m    289\u001b[0m                 \u001b[38;5;28;01mfor\u001b[39;00m func, args, kwargs \u001b[38;5;129;01min\u001b[39;00m \u001b[38;5;28mself\u001b[39m\u001b[38;5;241m.\u001b[39mitems]\n",
      "File \u001b[0;32m/Library/Frameworks/Python.framework/Versions/3.10/lib/python3.10/site-packages/sklearn/utils/fixes.py:117\u001b[0m, in \u001b[0;36m_FuncWrapper.__call__\u001b[0;34m(self, *args, **kwargs)\u001b[0m\n\u001b[1;32m    115\u001b[0m \u001b[38;5;28;01mdef\u001b[39;00m \u001b[38;5;21m__call__\u001b[39m(\u001b[38;5;28mself\u001b[39m, \u001b[38;5;241m*\u001b[39margs, \u001b[38;5;241m*\u001b[39m\u001b[38;5;241m*\u001b[39mkwargs):\n\u001b[1;32m    116\u001b[0m     \u001b[38;5;28;01mwith\u001b[39;00m config_context(\u001b[38;5;241m*\u001b[39m\u001b[38;5;241m*\u001b[39m\u001b[38;5;28mself\u001b[39m\u001b[38;5;241m.\u001b[39mconfig):\n\u001b[0;32m--> 117\u001b[0m         \u001b[38;5;28;01mreturn\u001b[39;00m \u001b[38;5;28;43mself\u001b[39;49m\u001b[38;5;241;43m.\u001b[39;49m\u001b[43mfunction\u001b[49m\u001b[43m(\u001b[49m\u001b[38;5;241;43m*\u001b[39;49m\u001b[43margs\u001b[49m\u001b[43m,\u001b[49m\u001b[43m \u001b[49m\u001b[38;5;241;43m*\u001b[39;49m\u001b[38;5;241;43m*\u001b[39;49m\u001b[43mkwargs\u001b[49m\u001b[43m)\u001b[49m\n",
      "File \u001b[0;32m/Library/Frameworks/Python.framework/Versions/3.10/lib/python3.10/site-packages/sklearn/model_selection/_validation.py:686\u001b[0m, in \u001b[0;36m_fit_and_score\u001b[0;34m(estimator, X, y, scorer, train, test, verbose, parameters, fit_params, return_train_score, return_parameters, return_n_test_samples, return_times, return_estimator, split_progress, candidate_progress, error_score)\u001b[0m\n\u001b[1;32m    684\u001b[0m         estimator\u001b[38;5;241m.\u001b[39mfit(X_train, \u001b[38;5;241m*\u001b[39m\u001b[38;5;241m*\u001b[39mfit_params)\n\u001b[1;32m    685\u001b[0m     \u001b[38;5;28;01melse\u001b[39;00m:\n\u001b[0;32m--> 686\u001b[0m         \u001b[43mestimator\u001b[49m\u001b[38;5;241;43m.\u001b[39;49m\u001b[43mfit\u001b[49m\u001b[43m(\u001b[49m\u001b[43mX_train\u001b[49m\u001b[43m,\u001b[49m\u001b[43m \u001b[49m\u001b[43my_train\u001b[49m\u001b[43m,\u001b[49m\u001b[43m \u001b[49m\u001b[38;5;241;43m*\u001b[39;49m\u001b[38;5;241;43m*\u001b[39;49m\u001b[43mfit_params\u001b[49m\u001b[43m)\u001b[49m\n\u001b[1;32m    688\u001b[0m \u001b[38;5;28;01mexcept\u001b[39;00m \u001b[38;5;167;01mException\u001b[39;00m:\n\u001b[1;32m    689\u001b[0m     \u001b[38;5;66;03m# Note fit time as time until error\u001b[39;00m\n\u001b[1;32m    690\u001b[0m     fit_time \u001b[38;5;241m=\u001b[39m time\u001b[38;5;241m.\u001b[39mtime() \u001b[38;5;241m-\u001b[39m start_time\n",
      "File \u001b[0;32m/Library/Frameworks/Python.framework/Versions/3.10/lib/python3.10/site-packages/xgboost/core.py:620\u001b[0m, in \u001b[0;36mrequire_keyword_args.<locals>.throw_if.<locals>.inner_f\u001b[0;34m(*args, **kwargs)\u001b[0m\n\u001b[1;32m    618\u001b[0m \u001b[38;5;28;01mfor\u001b[39;00m k, arg \u001b[38;5;129;01min\u001b[39;00m \u001b[38;5;28mzip\u001b[39m(sig\u001b[38;5;241m.\u001b[39mparameters, args):\n\u001b[1;32m    619\u001b[0m     kwargs[k] \u001b[38;5;241m=\u001b[39m arg\n\u001b[0;32m--> 620\u001b[0m \u001b[38;5;28;01mreturn\u001b[39;00m \u001b[43mfunc\u001b[49m\u001b[43m(\u001b[49m\u001b[38;5;241;43m*\u001b[39;49m\u001b[38;5;241;43m*\u001b[39;49m\u001b[43mkwargs\u001b[49m\u001b[43m)\u001b[49m\n",
      "File \u001b[0;32m/Library/Frameworks/Python.framework/Versions/3.10/lib/python3.10/site-packages/xgboost/sklearn.py:1051\u001b[0m, in \u001b[0;36mXGBModel.fit\u001b[0;34m(self, X, y, sample_weight, base_margin, eval_set, eval_metric, early_stopping_rounds, verbose, xgb_model, sample_weight_eval_set, base_margin_eval_set, feature_weights, callbacks)\u001b[0m\n\u001b[1;32m   1040\u001b[0m     obj \u001b[38;5;241m=\u001b[39m \u001b[38;5;28;01mNone\u001b[39;00m\n\u001b[1;32m   1042\u001b[0m (\n\u001b[1;32m   1043\u001b[0m     model,\n\u001b[1;32m   1044\u001b[0m     metric,\n\u001b[0;32m   (...)\u001b[0m\n\u001b[1;32m   1049\u001b[0m     xgb_model, eval_metric, params, early_stopping_rounds, callbacks\n\u001b[1;32m   1050\u001b[0m )\n\u001b[0;32m-> 1051\u001b[0m \u001b[38;5;28mself\u001b[39m\u001b[38;5;241m.\u001b[39m_Booster \u001b[38;5;241m=\u001b[39m \u001b[43mtrain\u001b[49m\u001b[43m(\u001b[49m\n\u001b[1;32m   1052\u001b[0m \u001b[43m    \u001b[49m\u001b[43mparams\u001b[49m\u001b[43m,\u001b[49m\n\u001b[1;32m   1053\u001b[0m \u001b[43m    \u001b[49m\u001b[43mtrain_dmatrix\u001b[49m\u001b[43m,\u001b[49m\n\u001b[1;32m   1054\u001b[0m \u001b[43m    \u001b[49m\u001b[38;5;28;43mself\u001b[39;49m\u001b[38;5;241;43m.\u001b[39;49m\u001b[43mget_num_boosting_rounds\u001b[49m\u001b[43m(\u001b[49m\u001b[43m)\u001b[49m\u001b[43m,\u001b[49m\n\u001b[1;32m   1055\u001b[0m \u001b[43m    \u001b[49m\u001b[43mevals\u001b[49m\u001b[38;5;241;43m=\u001b[39;49m\u001b[43mevals\u001b[49m\u001b[43m,\u001b[49m\n\u001b[1;32m   1056\u001b[0m \u001b[43m    \u001b[49m\u001b[43mearly_stopping_rounds\u001b[49m\u001b[38;5;241;43m=\u001b[39;49m\u001b[43mearly_stopping_rounds\u001b[49m\u001b[43m,\u001b[49m\n\u001b[1;32m   1057\u001b[0m \u001b[43m    \u001b[49m\u001b[43mevals_result\u001b[49m\u001b[38;5;241;43m=\u001b[39;49m\u001b[43mevals_result\u001b[49m\u001b[43m,\u001b[49m\n\u001b[1;32m   1058\u001b[0m \u001b[43m    \u001b[49m\u001b[43mobj\u001b[49m\u001b[38;5;241;43m=\u001b[39;49m\u001b[43mobj\u001b[49m\u001b[43m,\u001b[49m\n\u001b[1;32m   1059\u001b[0m \u001b[43m    \u001b[49m\u001b[43mcustom_metric\u001b[49m\u001b[38;5;241;43m=\u001b[39;49m\u001b[43mmetric\u001b[49m\u001b[43m,\u001b[49m\n\u001b[1;32m   1060\u001b[0m \u001b[43m    \u001b[49m\u001b[43mverbose_eval\u001b[49m\u001b[38;5;241;43m=\u001b[39;49m\u001b[43mverbose\u001b[49m\u001b[43m,\u001b[49m\n\u001b[1;32m   1061\u001b[0m \u001b[43m    \u001b[49m\u001b[43mxgb_model\u001b[49m\u001b[38;5;241;43m=\u001b[39;49m\u001b[43mmodel\u001b[49m\u001b[43m,\u001b[49m\n\u001b[1;32m   1062\u001b[0m \u001b[43m    \u001b[49m\u001b[43mcallbacks\u001b[49m\u001b[38;5;241;43m=\u001b[39;49m\u001b[43mcallbacks\u001b[49m\u001b[43m,\u001b[49m\n\u001b[1;32m   1063\u001b[0m \u001b[43m\u001b[49m\u001b[43m)\u001b[49m\n\u001b[1;32m   1065\u001b[0m \u001b[38;5;28mself\u001b[39m\u001b[38;5;241m.\u001b[39m_set_evaluation_result(evals_result)\n\u001b[1;32m   1066\u001b[0m \u001b[38;5;28;01mreturn\u001b[39;00m \u001b[38;5;28mself\u001b[39m\n",
      "File \u001b[0;32m/Library/Frameworks/Python.framework/Versions/3.10/lib/python3.10/site-packages/xgboost/core.py:620\u001b[0m, in \u001b[0;36mrequire_keyword_args.<locals>.throw_if.<locals>.inner_f\u001b[0;34m(*args, **kwargs)\u001b[0m\n\u001b[1;32m    618\u001b[0m \u001b[38;5;28;01mfor\u001b[39;00m k, arg \u001b[38;5;129;01min\u001b[39;00m \u001b[38;5;28mzip\u001b[39m(sig\u001b[38;5;241m.\u001b[39mparameters, args):\n\u001b[1;32m    619\u001b[0m     kwargs[k] \u001b[38;5;241m=\u001b[39m arg\n\u001b[0;32m--> 620\u001b[0m \u001b[38;5;28;01mreturn\u001b[39;00m \u001b[43mfunc\u001b[49m\u001b[43m(\u001b[49m\u001b[38;5;241;43m*\u001b[39;49m\u001b[38;5;241;43m*\u001b[39;49m\u001b[43mkwargs\u001b[49m\u001b[43m)\u001b[49m\n",
      "File \u001b[0;32m/Library/Frameworks/Python.framework/Versions/3.10/lib/python3.10/site-packages/xgboost/training.py:185\u001b[0m, in \u001b[0;36mtrain\u001b[0;34m(params, dtrain, num_boost_round, evals, obj, feval, maximize, early_stopping_rounds, evals_result, verbose_eval, xgb_model, callbacks, custom_metric)\u001b[0m\n\u001b[1;32m    183\u001b[0m \u001b[38;5;28;01mif\u001b[39;00m cb_container\u001b[38;5;241m.\u001b[39mbefore_iteration(bst, i, dtrain, evals):\n\u001b[1;32m    184\u001b[0m     \u001b[38;5;28;01mbreak\u001b[39;00m\n\u001b[0;32m--> 185\u001b[0m \u001b[43mbst\u001b[49m\u001b[38;5;241;43m.\u001b[39;49m\u001b[43mupdate\u001b[49m\u001b[43m(\u001b[49m\u001b[43mdtrain\u001b[49m\u001b[43m,\u001b[49m\u001b[43m \u001b[49m\u001b[43mi\u001b[49m\u001b[43m,\u001b[49m\u001b[43m \u001b[49m\u001b[43mobj\u001b[49m\u001b[43m)\u001b[49m\n\u001b[1;32m    186\u001b[0m \u001b[38;5;28;01mif\u001b[39;00m cb_container\u001b[38;5;241m.\u001b[39mafter_iteration(bst, i, dtrain, evals):\n\u001b[1;32m    187\u001b[0m     \u001b[38;5;28;01mbreak\u001b[39;00m\n",
      "File \u001b[0;32m/Library/Frameworks/Python.framework/Versions/3.10/lib/python3.10/site-packages/xgboost/core.py:1918\u001b[0m, in \u001b[0;36mBooster.update\u001b[0;34m(self, dtrain, iteration, fobj)\u001b[0m\n\u001b[1;32m   1915\u001b[0m \u001b[38;5;28mself\u001b[39m\u001b[38;5;241m.\u001b[39m_validate_dmatrix_features(dtrain)\n\u001b[1;32m   1917\u001b[0m \u001b[38;5;28;01mif\u001b[39;00m fobj \u001b[38;5;129;01mis\u001b[39;00m \u001b[38;5;28;01mNone\u001b[39;00m:\n\u001b[0;32m-> 1918\u001b[0m     _check_call(\u001b[43m_LIB\u001b[49m\u001b[38;5;241;43m.\u001b[39;49m\u001b[43mXGBoosterUpdateOneIter\u001b[49m\u001b[43m(\u001b[49m\u001b[38;5;28;43mself\u001b[39;49m\u001b[38;5;241;43m.\u001b[39;49m\u001b[43mhandle\u001b[49m\u001b[43m,\u001b[49m\n\u001b[1;32m   1919\u001b[0m \u001b[43m                                            \u001b[49m\u001b[43mctypes\u001b[49m\u001b[38;5;241;43m.\u001b[39;49m\u001b[43mc_int\u001b[49m\u001b[43m(\u001b[49m\u001b[43miteration\u001b[49m\u001b[43m)\u001b[49m\u001b[43m,\u001b[49m\n\u001b[1;32m   1920\u001b[0m \u001b[43m                                            \u001b[49m\u001b[43mdtrain\u001b[49m\u001b[38;5;241;43m.\u001b[39;49m\u001b[43mhandle\u001b[49m\u001b[43m)\u001b[49m)\n\u001b[1;32m   1921\u001b[0m \u001b[38;5;28;01melse\u001b[39;00m:\n\u001b[1;32m   1922\u001b[0m     pred \u001b[38;5;241m=\u001b[39m \u001b[38;5;28mself\u001b[39m\u001b[38;5;241m.\u001b[39mpredict(dtrain, output_margin\u001b[38;5;241m=\u001b[39m\u001b[38;5;28;01mTrue\u001b[39;00m, training\u001b[38;5;241m=\u001b[39m\u001b[38;5;28;01mTrue\u001b[39;00m)\n",
      "\u001b[0;31mKeyboardInterrupt\u001b[0m: "
     ]
    }
   ],
   "source": [
    "from xgboost import XGBRegressor\n",
    "\n",
    "#Cantidad de combinaciones que quiero porbar\n",
    "n = 10\n",
    "\n",
    "params = {\n",
    "    \"max_depth\": [3, 12, 4],\n",
    "    \"learning_rate\": [0.02, 0.03, 0.06],\n",
    "    \"min_child_weight\": [2, 12, 2],\n",
    "    \"n_estimators\": [100, 350],\n",
    "    'alpha': np.linspace(0.03, 0.09, n),\n",
    "}\n",
    "\n",
    "kfold = KFold(n_splits=5)\n",
    "\n",
    "search_regressor = XGBRegressor()\n",
    "\n",
    "search = RandomizedSearchCV(search_regressor, params, cv=5, random_state=9, n_iter=10, verbose=10000)\n",
    "\n",
    "search.fit(x_train_transform, y_train)"
   ]
  },
  {
   "cell_type": "code",
   "execution_count": null,
   "metadata": {
    "collapsed": false,
    "jupyter": {
     "outputs_hidden": false
    },
    "pycharm": {
     "name": "#%%\n"
    }
   },
   "outputs": [],
   "source": [
    "# Mejores Hiperparámetros\n",
    "search.best_params_"
   ]
  },
  {
   "cell_type": "code",
   "execution_count": null,
   "metadata": {
    "collapsed": false,
    "jupyter": {
     "outputs_hidden": false
    },
    "pycharm": {
     "name": "#%%\n"
    }
   },
   "outputs": [],
   "source": [
    "# Mejor Metrica\n",
    "search.best_score_"
   ]
  },
  {
   "cell_type": "code",
   "execution_count": null,
   "metadata": {
    "collapsed": false,
    "jupyter": {
     "outputs_hidden": false
    },
    "pycharm": {
     "name": "#%%\n"
    }
   },
   "outputs": [],
   "source": [
    "best_xgb = search.best_estimator_\n",
    "best_xgb.fit(x_train_transform, y_train)\n",
    "y_pred = best_xgb.predict(x_train_transform)\n",
    "y_pred_test = best_xgb.predict(x_test)"
   ]
  },
  {
   "cell_type": "code",
   "execution_count": null,
   "metadata": {
    "collapsed": false,
    "jupyter": {
     "outputs_hidden": false
    },
    "pycharm": {
     "name": "#%%\n"
    }
   },
   "outputs": [],
   "source": [
    "regression_metrics(\"Metricas XGBoost optimizado - Train\", y_train, y_pred)\n",
    "regression_metrics(\"Metricas XGBoost optimizado - Test\", y_test, y_pred_test)"
   ]
  },
  {
   "cell_type": "markdown",
   "metadata": {
    "pycharm": {
     "name": "#%% md\n"
    }
   },
   "source": [
    "**Train**\n",
    "\n",
    "Notamos como el modelo con el dataset sigue teniendo muy buenos resultados para el dataset de Train pero con una leve baja.\n",
    "\n",
    "Con respecto a las metricas obtenidas con el dataset del TP1, podemos observar un delta de **MSE** de: 617388041. Esto significa que el error, en comparacion con las metricas anteriores se incrementó un 287%.\n",
    "\n",
    "Luego, para **RMSE** tenemos un delta de: 12623. Esto significa que el error se redujo un 3%.\n",
    "\n",
    "Finalmente para **R2** obtuvimos un delta de: -0,02. Esto significa que el modelo empeoró un 2%."
   ]
  },
  {
   "cell_type": "markdown",
   "metadata": {
    "pycharm": {
     "name": "#%% md\n"
    }
   },
   "source": [
    "**Test**\n",
    "\n",
    "Notamos como el modelo con el dataset expandido y la busqueda de un nuevo arbol con mejores hiper-parametros, resulto en un pequeño detrimento del dataset de train pero mejoró mucho mas el dataset de test.\n",
    "\n",
    "Con respecto a las metricas obtenidas con el dataset del TP1, podemos observar un delta de **MSE** de: 45032742345. Esto significa que el error en test mejoró un 54%. \n",
    "\n",
    "Luego, para **RMSE** tenemos un delta de: 82096. Esto significa que el error mejoró un 73%.\n",
    "\n",
    "Finalmente para **R2** obtuvimos un delta de: -9795260413860356. Esto significa que el modelo mejoró un 405%."
   ]
  },
  {
   "cell_type": "markdown",
   "metadata": {
    "pycharm": {
     "name": "#%% md\n"
    }
   },
   "source": [
    "----------------------------------------------------\n",
    "\n",
    "Como **conclusion**, notamos que el dataset expandido nos mejora el modelo con el dataset de train un 20% pero para el dataset de test, nos lo empeora un 52%.\n",
    "\n",
    "Cuando hicimos la busqueda de mejores hiper-parametros para el nuevo dataset expandido, logramos balancear estos resultados.\n",
    "\n",
    "Finalmente, haciendo el delta final, el resultado de expandir el dataset nos resulto en una mejora del 18% para el dataset de train y en un 353% de mejora en el dataset de test."
   ]
  },
  {
   "cell_type": "markdown",
   "metadata": {
    "pycharm": {
     "name": "#%% md\n"
    }
   },
   "source": [
    "### Redes Neuronales"
   ]
  },
  {
   "cell_type": "markdown",
   "metadata": {
    "pycharm": {
     "name": "#%% md\n"
    }
   },
   "source": [
    "#### Regresión"
   ]
  },
  {
   "cell_type": "markdown",
   "metadata": {
    "pycharm": {
     "name": "#%% md\n"
    }
   },
   "source": [
    "Usaremos el dataset del tp1 normalizado"
   ]
  },
  {
   "cell_type": "code",
   "execution_count": null,
   "metadata": {
    "collapsed": false,
    "jupyter": {
     "outputs_hidden": false
    },
    "pycharm": {
     "name": "#%%\n"
    }
   },
   "outputs": [],
   "source": [
    "x_train_tp1_transform"
   ]
  },
  {
   "cell_type": "markdown",
   "metadata": {
    "pycharm": {
     "name": "#%% md\n"
    }
   },
   "source": [
    "Predecir el precio de la propiedad y utilizar como métrica de evaluación el error cuadrático medio."
   ]
  },
  {
   "cell_type": "markdown",
   "metadata": {
    "pycharm": {
     "name": "#%% md\n"
    }
   },
   "source": [
    "Vamos a predecir el precio de la propiedad (dolares) en base a la superifice total y cubierta. Ya que como vimos en el trabajo pasado, eran los atributos que mas se correlacionaban con el precio.\n",
    "\n",
    "(Todas columnas tienen que ser numericas para Redes Neuronales)"
   ]
  },
  {
   "cell_type": "code",
   "execution_count": null,
   "metadata": {
    "collapsed": false,
    "jupyter": {
     "outputs_hidden": false
    },
    "pycharm": {
     "name": "#%%\n"
    }
   },
   "outputs": [],
   "source": [
    "def regression_scatter(x, y_true, y_pred):\n",
    "    fig, (ax1, ax2, ax3) = plt.subplots(1, 3, figsize=(15, 5))\n",
    "\n",
    "    fig.suptitle(f\"Precio según {x.name}\")\n",
    "    sns.scatterplot(x=x, y=y_true, ax=ax1)\n",
    "    ax1.set_title(f\"{x.name} vs Precio real\")\n",
    "\n",
    "    sns.scatterplot(x=x, y=y_pred, ax=ax2)\n",
    "    ax2.set_title(f\"{x.name} vs Precio predicho\")\n",
    "\n",
    "    sns.scatterplot(x=x, y=y_true, ax=ax3)\n",
    "    sns.scatterplot(x=x, y=y_pred, ax=ax3)\n",
    "    ax3.set_title(f\"Grafico combinado\");"
   ]
  },
  {
   "cell_type": "markdown",
   "metadata": {
    "pycharm": {
     "name": "#%% md\n"
    }
   },
   "source": [
    "##### Construcción del modelo"
   ]
  },
  {
   "cell_type": "code",
   "execution_count": null,
   "metadata": {
    "collapsed": false,
    "jupyter": {
     "outputs_hidden": false
    },
    "pycharm": {
     "name": "#%%\n"
    }
   },
   "outputs": [],
   "source": [
    "def plot_loss(history):\n",
    "    plt.plot(history.history['loss'], label='loss')\n",
    "    plt.plot(history.history['val_loss'], label='val_loss')\n",
    "    plt.legend()\n",
    "    plt.xlabel('Epoch')\n",
    "    plt.ylabel('Error [MSE]')\n",
    "    plt.grid(True)"
   ]
  },
  {
   "cell_type": "markdown",
   "metadata": {
    "pycharm": {
     "name": "#%% md\n"
    }
   },
   "source": [
    "###### Modelo base"
   ]
  },
  {
   "cell_type": "code",
   "execution_count": null,
   "metadata": {
    "collapsed": false,
    "jupyter": {
     "outputs_hidden": false
    },
    "pycharm": {
     "name": "#%%\n"
    }
   },
   "outputs": [],
   "source": [
    "d_in = x_train_tp1_transform.shape[1]\n",
    "d_out = 1\n",
    "\n",
    "\n",
    "def base_model_builder():\n",
    "    model = keras.Sequential([\n",
    "        keras.layers.Dense(d_in, input_shape=(d_in,), kernel_initializer='normal', activation='relu'),\n",
    "        keras.layers.Dense(d_out, kernel_initializer='normal', activation='relu')])\n",
    "    model.compile(loss='mean_squared_error', optimizer='adam')\n",
    "    print(model.summary())\n",
    "    return model"
   ]
  },
  {
   "cell_type": "code",
   "execution_count": null,
   "metadata": {
    "collapsed": false,
    "jupyter": {
     "outputs_hidden": false
    },
    "pycharm": {
     "name": "#%%\n"
    }
   },
   "outputs": [],
   "source": [
    "base_model = base_model_builder()\n",
    "base_history = base_model.fit(\n",
    "    x_train_tp1_transform,\n",
    "    y_train,\n",
    "    epochs=1000,\n",
    "    batch_size=1000,\n",
    "    validation_split=0.33,\n",
    "    verbose=0,\n",
    ")"
   ]
  },
  {
   "cell_type": "code",
   "execution_count": null,
   "metadata": {
    "collapsed": false,
    "jupyter": {
     "outputs_hidden": false
    },
    "pycharm": {
     "name": "#%%\n"
    }
   },
   "outputs": [],
   "source": [
    "plot_loss(base_history)"
   ]
  },
  {
   "cell_type": "markdown",
   "metadata": {
    "pycharm": {
     "name": "#%% md\n"
    }
   },
   "source": [
    "Evaluamos la predicción inicial para train"
   ]
  },
  {
   "cell_type": "code",
   "execution_count": null,
   "metadata": {
    "collapsed": false,
    "jupyter": {
     "outputs_hidden": false
    },
    "pycharm": {
     "name": "#%%\n"
    }
   },
   "outputs": [],
   "source": [
    "def plot_prices_dist(y_pred, y_pred_test):\n",
    "    precios_train = pd.concat([y_train, pd.DataFrame(y_pred, columns=['predicted'])], axis=1)\n",
    "    precios_test = pd.concat([y_test, pd.DataFrame(y_pred_test, columns=['predicted'])], axis=1)\n",
    "    fig, axs = plt.subplots(1, 3, figsize=(25, 5))\n",
    "\n",
    "    fig.suptitle(\"Distribución de precios reales y predichos\")\n",
    "\n",
    "    axs[0].set_xlabel(\"Precio\")\n",
    "    axs[0].set_ylabel(\"Densidad\")\n",
    "    axs[0].set_title(\"Train\")\n",
    "    sns.kdeplot(precios_train['property_price'], ax=axs[0])\n",
    "    sns.kdeplot(precios_train['predicted'], ax=axs[0])\n",
    "    axs[0].legend(labels=['Real', 'Predicho'])\n",
    "\n",
    "    axs[1].set_xlabel(\"Precio\")\n",
    "    axs[1].set_ylabel(\"Densidad\")\n",
    "    axs[1].set_title(\"Test\")\n",
    "    sns.kdeplot(precios_test['property_price'], ax=axs[1])\n",
    "    sns.kdeplot(precios_test['predicted'], ax=axs[1])\n",
    "    axs[1].legend(labels=['Real', 'Predicho'])\n",
    "\n",
    "    axs[2].set_xlabel(\"Precio Real\")\n",
    "    axs[2].set_ylabel(\"Precio Predicho\")\n",
    "    axs[2].set_title(\"Real vs predicho\")\n",
    "    sns.scatterplot(x=precios_train['property_price'], y=precios_train['predicted'], ax=axs[2])\n",
    "    sns.regplot(x=precios_train['property_price'], y=precios_train['predicted'], scatter=False, ax=axs[2], fit_reg=True,\n",
    "                color='darkgreen', ci=0)\n",
    "    axs[2].legend(labels=['Real', 'Predicho'])"
   ]
  },
  {
   "cell_type": "code",
   "execution_count": null,
   "metadata": {
    "collapsed": false,
    "jupyter": {
     "outputs_hidden": false
    },
    "pycharm": {
     "name": "#%%\n"
    }
   },
   "outputs": [],
   "source": [
    "y_pred_base = base_model.predict(x_train_tp1_transform)\n",
    "y_pred_test_base = base_model.predict(x_test_tp1_transform)"
   ]
  },
  {
   "cell_type": "code",
   "execution_count": null,
   "metadata": {
    "collapsed": false,
    "jupyter": {
     "outputs_hidden": false
    },
    "pycharm": {
     "name": "#%%\n"
    }
   },
   "outputs": [],
   "source": [
    "plot_prices_dist(y_pred_base, y_pred_test_base)\n",
    "regression_metrics(\"Metricas Red Neuronal Base - Train\", y_train, y_pred_base)\n",
    "regression_metrics(\"Metricas Red Neuronal Base - Test\", y_test, y_pred_test_base)"
   ]
  },
  {
   "cell_type": "markdown",
   "metadata": {
    "pycharm": {
     "name": "#%% md\n"
    }
   },
   "source": [
    "Vemos que hay mucha dispersión respecto a los precios reales, probaremos un modelo profundo con una capa intermedia con la mitad de las neuronas de la primera."
   ]
  },
  {
   "cell_type": "markdown",
   "metadata": {
    "pycharm": {
     "name": "#%% md\n"
    }
   },
   "source": [
    "###### Modelo de 3 capas"
   ]
  },
  {
   "cell_type": "code",
   "execution_count": null,
   "metadata": {
    "collapsed": false,
    "jupyter": {
     "outputs_hidden": false
    },
    "pycharm": {
     "name": "#%%\n"
    }
   },
   "outputs": [],
   "source": [
    "def larger_model_builder():\n",
    "    model = keras.Sequential([\n",
    "        keras.layers.Dense(d_in, input_shape=(d_in,), kernel_initializer='normal', activation='relu'),\n",
    "        keras.layers.Dense(int(d_in / 2), kernel_initializer='normal', activation='relu'),\n",
    "        keras.layers.Dense(1, kernel_initializer='normal', activation='relu')\n",
    "    ])\n",
    "    model.compile(loss='mean_squared_error', optimizer='adam')\n",
    "    return model"
   ]
  },
  {
   "cell_type": "code",
   "execution_count": null,
   "metadata": {
    "collapsed": false,
    "jupyter": {
     "outputs_hidden": false
    },
    "pycharm": {
     "name": "#%%\n"
    }
   },
   "outputs": [],
   "source": [
    "larger_model_builder().summary()"
   ]
  },
  {
   "cell_type": "code",
   "execution_count": null,
   "metadata": {
    "collapsed": false,
    "jupyter": {
     "outputs_hidden": false
    },
    "pycharm": {
     "name": "#%%\n"
    }
   },
   "outputs": [],
   "source": [
    "larger_model = larger_model_builder()\n",
    "larger_history = larger_model.fit(\n",
    "    x_train_tp1_transform,\n",
    "    y_train,\n",
    "    epochs=1000,\n",
    "    batch_size=1000,\n",
    "    validation_split=0.33,\n",
    ")"
   ]
  },
  {
   "cell_type": "code",
   "execution_count": null,
   "metadata": {
    "collapsed": false,
    "jupyter": {
     "outputs_hidden": false
    },
    "pycharm": {
     "name": "#%%\n"
    }
   },
   "outputs": [],
   "source": [
    "plot_loss(larger_history)"
   ]
  },
  {
   "cell_type": "code",
   "execution_count": null,
   "metadata": {
    "collapsed": false,
    "jupyter": {
     "outputs_hidden": false
    },
    "pycharm": {
     "name": "#%%\n"
    }
   },
   "outputs": [],
   "source": [
    "y_pred_larger = larger_model.predict(x_train_tp1_transform)\n",
    "y_pred_larger_test = larger_model.predict(x_test_tp1_transform)"
   ]
  },
  {
   "cell_type": "code",
   "execution_count": null,
   "metadata": {
    "collapsed": false,
    "jupyter": {
     "outputs_hidden": false
    },
    "pycharm": {
     "name": "#%%\n"
    }
   },
   "outputs": [],
   "source": [
    "plot_prices_dist(y_pred_larger, y_pred_larger_test)\n",
    "regression_metrics(\"Metricas Red Neuronal Profunda - Train\", y_train, y_pred_larger)\n",
    "regression_metrics(\"Metricas Red Neuronal Profunda - Test\", y_test, y_pred_larger_test)"
   ]
  },
  {
   "cell_type": "markdown",
   "metadata": {
    "pycharm": {
     "name": "#%% md\n"
    }
   },
   "source": [
    "Por último, probaremos un tercer modelo con una capa inical más ancha."
   ]
  },
  {
   "cell_type": "markdown",
   "metadata": {
    "pycharm": {
     "name": "#%% md\n"
    }
   },
   "source": [
    "###### Modelo ancho"
   ]
  },
  {
   "cell_type": "code",
   "execution_count": null,
   "metadata": {
    "collapsed": false,
    "jupyter": {
     "outputs_hidden": false
    },
    "pycharm": {
     "name": "#%%\n"
    }
   },
   "outputs": [],
   "source": [
    "def wider_model_builder():\n",
    "    model = keras.Sequential([\n",
    "        keras.layers.Dense(d_in * 2, input_shape=(d_in,), kernel_initializer='normal', activation='relu'),\n",
    "        keras.layers.Dense(1, kernel_initializer='normal', activation='relu')\n",
    "    ])\n",
    "    model.compile(loss='mean_squared_error', optimizer='adam')\n",
    "    return model"
   ]
  },
  {
   "cell_type": "code",
   "execution_count": null,
   "metadata": {
    "collapsed": false,
    "jupyter": {
     "outputs_hidden": false
    },
    "pycharm": {
     "name": "#%%\n"
    }
   },
   "outputs": [],
   "source": [
    "wider_model_builder().summary()"
   ]
  },
  {
   "cell_type": "code",
   "execution_count": null,
   "metadata": {
    "collapsed": false,
    "jupyter": {
     "outputs_hidden": false
    },
    "pycharm": {
     "name": "#%%\n"
    }
   },
   "outputs": [],
   "source": [
    "wider_model = wider_model_builder()\n",
    "wider_history = wider_model.fit(\n",
    "    x_train_tp1_transform,\n",
    "    y_train,\n",
    "    epochs=1000,\n",
    "    batch_size=1000,\n",
    "    validation_split=0.33,\n",
    ")"
   ]
  },
  {
   "cell_type": "code",
   "execution_count": null,
   "metadata": {
    "collapsed": false,
    "jupyter": {
     "outputs_hidden": false
    },
    "pycharm": {
     "name": "#%%\n"
    }
   },
   "outputs": [],
   "source": [
    "y_pred_wider = wider_model.predict(x_train_tp1_transform)\n",
    "y_pred_wider_test = wider_model.predict(x_test_tp1_transform)"
   ]
  },
  {
   "cell_type": "code",
   "execution_count": null,
   "metadata": {
    "collapsed": false,
    "jupyter": {
     "outputs_hidden": false
    },
    "pycharm": {
     "name": "#%%\n"
    }
   },
   "outputs": [],
   "source": [
    "plot_prices_dist(y_pred_wider, y_pred_wider_test)\n",
    "regression_metrics(\"Metricas Red Neuronal Profunda - Train\", y_train, y_pred_wider)\n",
    "regression_metrics(\"Metricas Red Neuronal Profunda - Test\", y_test, y_pred_wider_test)"
   ]
  },
  {
   "cell_type": "markdown",
   "metadata": {
    "pycharm": {
     "name": "#%% md\n"
    }
   },
   "source": [
    "##### Análisis de métricas"
   ]
  },
  {
   "cell_type": "code",
   "execution_count": null,
   "metadata": {
    "collapsed": false,
    "jupyter": {
     "outputs_hidden": false
    },
    "pycharm": {
     "name": "#%%\n"
    }
   },
   "outputs": [],
   "source": [
    "plot_prices_dist(y_pred_larger, y_pred_larger_test)\n",
    "regression_metrics(\"Metricas Red Neuronal Profunda - Train\", y_train, y_pred_larger)\n",
    "regression_metrics(\"Metricas Red Neuronal Profunda - Test\", y_test, y_pred_larger_test)"
   ]
  },
  {
   "cell_type": "code",
   "execution_count": null,
   "metadata": {
    "collapsed": false,
    "jupyter": {
     "outputs_hidden": false
    },
    "pycharm": {
     "name": "#%%\n"
    }
   },
   "outputs": [],
   "source": [
    "regression_scatter(ds_train.property_surface_covered, y_train, y_pred_larger[:, 0])\n",
    "regression_scatter(ds_train.property_surface_total, y_train, y_pred_larger[:, 0])\n",
    "regression_scatter(ds_train.latitud, y_train, y_pred_larger[:, 0])\n",
    "regression_scatter(ds_train.longitud, y_train, y_pred_larger[:, 0])"
   ]
  },
  {
   "cell_type": "markdown",
   "metadata": {
    "pycharm": {
     "name": "#%% md\n"
    }
   },
   "source": [
    "Podemos ver que las predicciones mejoraron muchísimo y que los precios están cerca de los reales. Sin embargo, falta bastante para llegar a un buen resultado."
   ]
  },
  {
   "cell_type": "markdown",
   "metadata": {
    "pycharm": {
     "name": "#%% md\n"
    }
   },
   "source": [
    "###### Cosas a probar para mejorar el modelo:\n",
    "- Más capas intermedias\n",
    "- Diferentes funciones de activación\n",
    "- Usar otro escalado"
   ]
  },
  {
   "cell_type": "markdown",
   "metadata": {
    "pycharm": {
     "name": "#%% md\n"
    }
   },
   "source": [
    "#### Clasificación"
   ]
  },
  {
   "cell_type": "code",
   "execution_count": null,
   "metadata": {
    "collapsed": false,
    "jupyter": {
     "outputs_hidden": false
    },
    "pycharm": {
     "name": "#%%\n"
    }
   },
   "outputs": [],
   "source": [
    "def predicciones_clasificacion(modelo, x_train, x_test):\n",
    "    # Predicciones Train\n",
    "    output_modelo = modelo.predict(x_train)\n",
    "\n",
    "    predicciones = np.argmax(output_modelo, axis=1).tolist()\n",
    "    valores_esperados = np.argmax(y_train_encoded, axis=1).tolist()\n",
    "    matriz_de_metricas = confusion_matrix(predicciones, valores_esperados)\n",
    "\n",
    "    sns.heatmap(matriz_de_metricas, annot=True, cmap='Blues', fmt='g').set(\n",
    "        title='Predicciones sobre el conjunto de entrenamiento')\n",
    "    plt.xlabel('Valores predichos')\n",
    "    plt.ylabel('Valores reales')\n",
    "    plt.show()\n",
    "    print(classification_report(predicciones, valores_esperados))\n",
    "\n",
    "    # Predicciones Test\n",
    "    output_modelo = modelo.predict(x_test)\n",
    "\n",
    "    predicciones = np.argmax(output_modelo, axis=1).tolist()\n",
    "    valores_esperados = np.argmax(y_test_encoded, axis=1).tolist()\n",
    "    matriz_de_metricas = confusion_matrix(predicciones, valores_esperados)\n",
    "\n",
    "    sns.heatmap(matriz_de_metricas, annot=True, cmap='Blues', fmt='g').set(\n",
    "        title='Predicciones sobre el conjunto de testeo')\n",
    "    plt.xlabel('Valores predichos')\n",
    "    plt.ylabel('Valores reales')\n",
    "    plt.show()\n",
    "    print(classification_report(predicciones, valores_esperados))"
   ]
  },
  {
   "cell_type": "markdown",
   "metadata": {
    "pycharm": {
     "name": "#%% md\n"
    }
   },
   "source": [
    "##### Preparación del dataset"
   ]
  },
  {
   "cell_type": "code",
   "execution_count": null,
   "metadata": {
    "collapsed": false,
    "jupyter": {
     "outputs_hidden": false
    },
    "pycharm": {
     "name": "#%%\n"
    }
   },
   "outputs": [],
   "source": [
    "scaler = StandardScaler()\n",
    "ohe = OneHotEncoder()"
   ]
  },
  {
   "cell_type": "code",
   "execution_count": null,
   "metadata": {
    "collapsed": false,
    "jupyter": {
     "outputs_hidden": false
    },
    "pycharm": {
     "name": "#%%\n"
    }
   },
   "outputs": [],
   "source": [
    "x_train_tp1"
   ]
  },
  {
   "cell_type": "code",
   "execution_count": null,
   "metadata": {
    "collapsed": false,
    "jupyter": {
     "outputs_hidden": false
    },
    "pycharm": {
     "name": "#%%\n"
    }
   },
   "outputs": [],
   "source": [
    "x_train_clasificacion = x_train_tp1.drop(columns=['place_l3', 'property_type'])\n",
    "# x_train_clasificacion = x_train_clasificacion.join(ohe_place_l3_train)\n",
    "x_train_clasificacion = x_train_clasificacion.join(ohe_property_type_train)\n",
    "\n",
    "x_test_clasificacion = x_test_tp1.drop(columns=['place_l3', 'property_type'])\n",
    "# x_test_clasificacion = x_test_clasificacion.join(ohe_place_l3_train)\n",
    "x_test_clasificacion = x_test_clasificacion.join(ohe_property_type_train)\n",
    "x_train_clasificacion"
   ]
  },
  {
   "cell_type": "code",
   "execution_count": null,
   "metadata": {
    "collapsed": false,
    "jupyter": {
     "outputs_hidden": false
    },
    "pycharm": {
     "name": "#%%\n"
    }
   },
   "outputs": [],
   "source": [
    "# Escalamos los datos\n",
    "x_train_clasificacion_scaled = scaler.fit_transform(pd.DataFrame(x_train_clasificacion))\n",
    "x_test_clasificacion_scaled = scaler.fit_transform(pd.DataFrame(x_test_clasificacion))"
   ]
  },
  {
   "cell_type": "code",
   "execution_count": null,
   "metadata": {
    "collapsed": false,
    "jupyter": {
     "outputs_hidden": false
    },
    "pycharm": {
     "name": "#%%\n"
    }
   },
   "outputs": [],
   "source": [
    "# Realizamos el one hot encoder para transformar la variable target en numérica tanto en train como test\n",
    "enc = OneHotEncoder()\n",
    "y_train_encoded = enc.fit_transform(y_train_clasificacion[:, np.newaxis]).toarray()\n",
    "y_test_encoded = enc.transform(y_test_clasificacion[:, np.newaxis]).toarray()"
   ]
  },
  {
   "cell_type": "markdown",
   "metadata": {
    "pycharm": {
     "name": "#%% md\n"
    }
   },
   "source": [
    "##### Modelo"
   ]
  },
  {
   "cell_type": "code",
   "execution_count": null,
   "metadata": {
    "collapsed": false,
    "jupyter": {
     "outputs_hidden": false
    },
    "pycharm": {
     "name": "#%%\n"
    }
   },
   "outputs": [],
   "source": [
    "x_train_clasificacion"
   ]
  },
  {
   "cell_type": "code",
   "execution_count": null,
   "metadata": {
    "collapsed": false,
    "jupyter": {
     "outputs_hidden": false
    },
    "pycharm": {
     "name": "#%%\n"
    }
   },
   "outputs": [],
   "source": [
    "cantidad_de_posibles_respuestas = len(np.unique(y_train_clasificacion))\n",
    "cantidad_de_variables_predictoras = x_train_clasificacion.shape[1]\n",
    "cantidad_de_posibles_respuestas, cantidad_de_variables_predictoras"
   ]
  },
  {
   "cell_type": "markdown",
   "metadata": {
    "pycharm": {
     "name": "#%% md\n"
    }
   },
   "source": [
    "Probamos con un modelo base"
   ]
  },
  {
   "cell_type": "code",
   "execution_count": null,
   "metadata": {
    "collapsed": false,
    "jupyter": {
     "outputs_hidden": false
    },
    "pycharm": {
     "name": "#%%\n"
    }
   },
   "outputs": [],
   "source": [
    "modelo_base = keras.Sequential([\n",
    "    keras.layers.Dense(cantidad_de_posibles_respuestas, input_shape=(cantidad_de_variables_predictoras,),\n",
    "                       activation='softmax')])\n",
    "\n",
    "modelo_base.summary()"
   ]
  },
  {
   "cell_type": "code",
   "execution_count": null,
   "metadata": {
    "collapsed": false,
    "jupyter": {
     "outputs_hidden": false
    },
    "pycharm": {
     "name": "#%%\n"
    }
   },
   "outputs": [],
   "source": [
    "modelo_base.compile(\n",
    "    optimizer=keras.optimizers.Adam(learning_rate=0.001),\n",
    "    # Elegimos la siguiente función ya que se trata de una red neuronal de clasificación\n",
    "    loss='categorical_crossentropy',\n",
    ")\n",
    "cant_epochs = 100\n",
    "\n",
    "modelo_base.fit(x_train_clasificacion_scaled, y_train_encoded, epochs=cant_epochs, batch_size=16, verbose=True,\n",
    "                workers=-1, use_multiprocessing=True)"
   ]
  },
  {
   "cell_type": "code",
   "execution_count": null,
   "metadata": {
    "collapsed": false,
    "jupyter": {
     "outputs_hidden": false
    },
    "pycharm": {
     "name": "#%%\n"
    }
   },
   "outputs": [],
   "source": [
    "predicciones_clasificacion(modelo_base, x_train_clasificacion_scaled, x_test_clasificacion_scaled)"
   ]
  },
  {
   "cell_type": "markdown",
   "metadata": {
    "pycharm": {
     "name": "#%% md\n"
    }
   },
   "source": [
    "Probamos ahora agregando una capa intermeda"
   ]
  },
  {
   "cell_type": "code",
   "execution_count": null,
   "metadata": {
    "collapsed": false,
    "jupyter": {
     "outputs_hidden": false
    },
    "pycharm": {
     "name": "#%%\n"
    }
   },
   "outputs": [],
   "source": [
    "modelo_capa_extra = keras.Sequential([\n",
    "    keras.layers.Dense(cantidad_de_variables_predictoras, input_shape=(cantidad_de_variables_predictoras,),\n",
    "                       activation='relu'),\n",
    "    keras.layers.Dense(cantidad_de_posibles_respuestas, activation='softmax')\n",
    "])\n",
    "\n",
    "modelo_capa_extra.summary()"
   ]
  },
  {
   "cell_type": "code",
   "execution_count": null,
   "metadata": {
    "collapsed": false,
    "jupyter": {
     "outputs_hidden": false
    },
    "pycharm": {
     "name": "#%%\n"
    }
   },
   "outputs": [],
   "source": [
    "modelo_capa_extra.compile(\n",
    "    optimizer=keras.optimizers.Adam(learning_rate=0.001),\n",
    "    loss='categorical_crossentropy',\n",
    ")\n",
    "\n",
    "cant_epochs = 100\n",
    "\n",
    "modelo_capa_extra.fit(x_train_clasificacion_scaled, y_train_encoded, epochs=cant_epochs, batch_size=16, verbose=True,\n",
    "                      workers=-1, use_multiprocessing=True)"
   ]
  },
  {
   "cell_type": "code",
   "execution_count": null,
   "metadata": {
    "collapsed": false,
    "jupyter": {
     "outputs_hidden": false
    },
    "pycharm": {
     "name": "#%%\n"
    }
   },
   "outputs": [],
   "source": [
    "predicciones_clasificacion(modelo_capa_extra, x_train_clasificacion_scaled, x_test_clasificacion_scaled)"
   ]
  },
  {
   "cell_type": "markdown",
   "metadata": {
    "pycharm": {
     "name": "#%% md\n"
    }
   },
   "source": [
    "Optamos por agregar una capa intermedia de 12 neuronas con la función de activación reLU. Luego una capa de 6 neuronas con función tanh. Finalmente una capa de salida de 3 neuronas con la función de activación sigmoidea ya que se trata de un problema de clasificación."
   ]
  },
  {
   "cell_type": "code",
   "execution_count": null,
   "metadata": {
    "collapsed": false,
    "jupyter": {
     "outputs_hidden": false
    },
    "pycharm": {
     "name": "#%%\n"
    }
   },
   "outputs": [],
   "source": [
    "modelo1 = keras.Sequential([\n",
    "    keras.layers.Dense(cantidad_de_variables_predictoras, input_shape=(cantidad_de_variables_predictoras,),\n",
    "                       activation='relu'),\n",
    "    keras.layers.Dense(cantidad_de_variables_predictoras / 2, activation='tanh'),\n",
    "    keras.layers.Dense(cantidad_de_posibles_respuestas, activation='softmax')\n",
    "])\n",
    "\n",
    "modelo1.summary()"
   ]
  },
  {
   "cell_type": "code",
   "execution_count": null,
   "metadata": {
    "collapsed": false,
    "jupyter": {
     "outputs_hidden": false
    },
    "pycharm": {
     "name": "#%%\n"
    }
   },
   "outputs": [],
   "source": [
    "modelo1.compile(\n",
    "    optimizer=keras.optimizers.Adam(learning_rate=0.001),\n",
    "    loss='categorical_crossentropy',\n",
    ")\n",
    "\n",
    "cant_epochs = 100\n",
    "\n",
    "modelo1.fit(x_train_clasificacion_scaled, y_train_encoded, epochs=cant_epochs, batch_size=16, verbose=True, workers=-1,\n",
    "            use_multiprocessing=True)"
   ]
  },
  {
   "cell_type": "markdown",
   "metadata": {
    "pycharm": {
     "name": "#%% md\n"
    }
   },
   "source": [
    "Como optimizador decidimos utilizar Adam con un learning rate lo suficientemente bajo como para no realizar saltos demasiado grandes a la hora de converger."
   ]
  },
  {
   "cell_type": "code",
   "execution_count": null,
   "metadata": {
    "collapsed": false,
    "jupyter": {
     "outputs_hidden": false
    },
    "pycharm": {
     "name": "#%%\n"
    }
   },
   "outputs": [],
   "source": [
    "predicciones_clasificacion(modelo1, x_train_clasificacion_scaled, x_test_clasificacion_scaled)"
   ]
  },
  {
   "cell_type": "markdown",
   "metadata": {
    "pycharm": {
     "name": "#%% md\n"
    }
   },
   "source": [
    "Siguiente modelo"
   ]
  },
  {
   "cell_type": "code",
   "execution_count": null,
   "metadata": {
    "collapsed": false,
    "jupyter": {
     "outputs_hidden": false
    },
    "pycharm": {
     "name": "#%%\n"
    }
   },
   "outputs": [],
   "source": [
    "modelo2 = keras.Sequential([\n",
    "    keras.layers.Dense(cantidad_de_variables_predictoras, input_shape=(cantidad_de_variables_predictoras,),\n",
    "                       activation='relu'),\n",
    "    keras.layers.Dense(cantidad_de_variables_predictoras * 2, activation='tanh'),\n",
    "    keras.layers.Dense(cantidad_de_posibles_respuestas, activation='softmax')\n",
    "])\n",
    "\n",
    "modelo2.summary()"
   ]
  },
  {
   "cell_type": "code",
   "execution_count": null,
   "metadata": {
    "collapsed": false,
    "jupyter": {
     "outputs_hidden": false
    },
    "pycharm": {
     "name": "#%%\n"
    }
   },
   "outputs": [],
   "source": [
    "modelo2.compile(\n",
    "    optimizer=keras.optimizers.Adam(learning_rate=0.001),\n",
    "    loss='categorical_crossentropy',\n",
    ")\n",
    "\n",
    "cant_epochs = 100\n",
    "\n",
    "historia_entrenamiento_modelo = modelo2.fit(x_train_clasificacion_scaled, y_train_encoded, epochs=cant_epochs,\n",
    "                                            batch_size=16, verbose=True, workers=-1, use_multiprocessing=True)"
   ]
  },
  {
   "cell_type": "code",
   "execution_count": null,
   "metadata": {
    "collapsed": false,
    "jupyter": {
     "outputs_hidden": false
    },
    "pycharm": {
     "name": "#%%\n"
    }
   },
   "outputs": [],
   "source": [
    "predicciones_clasificacion(modelo2, x_train_clasificacion_scaled, x_test_clasificacion_scaled)"
   ]
  },
  {
   "cell_type": "markdown",
   "metadata": {
    "pycharm": {
     "name": "#%% md\n"
    }
   },
   "source": [
    "Vemos que ampliar la cantidad de neuronas de la capa intermedia mejora las métricas del modelo"
   ]
  },
  {
   "cell_type": "code",
   "execution_count": null,
   "metadata": {
    "collapsed": false,
    "jupyter": {
     "outputs_hidden": false
    },
    "pycharm": {
     "name": "#%%\n"
    }
   },
   "outputs": [],
   "source": [
    "modelo3 = keras.Sequential([\n",
    "    keras.layers.Dense(cantidad_de_variables_predictoras, input_shape=(cantidad_de_variables_predictoras,),\n",
    "                       activation='relu'),\n",
    "    keras.layers.Dense(cantidad_de_variables_predictoras * 4, activation='tanh'),\n",
    "    keras.layers.Dense(cantidad_de_posibles_respuestas, activation='softmax')\n",
    "])\n",
    "\n",
    "modelo3.summary()"
   ]
  },
  {
   "cell_type": "code",
   "execution_count": null,
   "metadata": {
    "collapsed": false,
    "jupyter": {
     "outputs_hidden": false
    },
    "pycharm": {
     "name": "#%%\n"
    }
   },
   "outputs": [],
   "source": [
    "modelo3.compile(\n",
    "    optimizer=keras.optimizers.Adam(learning_rate=0.001),\n",
    "    loss='categorical_crossentropy',\n",
    ")\n",
    "\n",
    "cant_epochs = 100\n",
    "\n",
    "modelo3.fit(x_train_clasificacion_scaled, y_train_encoded, epochs=cant_epochs, batch_size=16, verbose=True, workers=-1,\n",
    "            use_multiprocessing=True)"
   ]
  },
  {
   "cell_type": "code",
   "execution_count": null,
   "metadata": {
    "collapsed": false,
    "jupyter": {
     "outputs_hidden": false
    },
    "pycharm": {
     "name": "#%%\n"
    }
   },
   "outputs": [],
   "source": [
    "predicciones_clasificacion(modelo3, x_train_clasificacion_scaled, x_test_clasificacion_scaled)"
   ]
  },
  {
   "cell_type": "markdown",
   "metadata": {
    "pycharm": {
     "name": "#%% md\n"
    }
   },
   "source": [
    "No parecerían mejorar las métricas de test, por lo que seguir agregando neuronas a esta capa resultaría en un overfitteo. Veamos de todos modos que pasa si aumentamos la cantidad de la primera capa."
   ]
  },
  {
   "cell_type": "code",
   "execution_count": null,
   "metadata": {
    "collapsed": false,
    "jupyter": {
     "outputs_hidden": false
    },
    "pycharm": {
     "name": "#%%\n"
    }
   },
   "outputs": [],
   "source": [
    "modelo4 = keras.Sequential([\n",
    "    keras.layers.Dense(cantidad_de_variables_predictoras * 2, input_shape=(cantidad_de_variables_predictoras,),\n",
    "                       activation='relu'),\n",
    "    keras.layers.Dense(cantidad_de_variables_predictoras * 2, activation='tanh'),\n",
    "    keras.layers.Dense(cantidad_de_posibles_respuestas, activation='softmax')\n",
    "])\n",
    "\n",
    "modelo4.summary()"
   ]
  },
  {
   "cell_type": "code",
   "execution_count": null,
   "metadata": {
    "collapsed": false,
    "jupyter": {
     "outputs_hidden": false
    },
    "pycharm": {
     "name": "#%%\n"
    }
   },
   "outputs": [],
   "source": [
    "modelo4.compile(\n",
    "    optimizer=keras.optimizers.Adam(learning_rate=0.001),\n",
    "    loss='categorical_crossentropy',\n",
    ")\n",
    "\n",
    "cant_epochs = 100\n",
    "\n",
    "historia_modelo = modelo4.fit(x_train_clasificacion_scaled, y_train_encoded, epochs=cant_epochs, batch_size=16,\n",
    "                              verbose=True, workers=-1, use_multiprocessing=True)"
   ]
  },
  {
   "cell_type": "code",
   "execution_count": null,
   "metadata": {
    "collapsed": false,
    "jupyter": {
     "outputs_hidden": false
    },
    "pycharm": {
     "name": "#%%\n"
    }
   },
   "outputs": [],
   "source": [
    "predicciones_clasificacion(modelo4, x_train_clasificacion_scaled, x_test_clasificacion_scaled)"
   ]
  },
  {
   "cell_type": "markdown",
   "metadata": {
    "pycharm": {
     "name": "#%% md\n"
    }
   },
   "source": [
    "Las métricas no mejoraron, nos quedamos con el modelo anterior. Veamos de todos modos si dicho modelo da mejores resultados con su ultima capa siendo de activación Sigmoid en vez de Softmax."
   ]
  },
  {
   "cell_type": "code",
   "execution_count": null,
   "metadata": {
    "collapsed": false,
    "jupyter": {
     "outputs_hidden": false
    },
    "pycharm": {
     "name": "#%%\n"
    }
   },
   "outputs": [],
   "source": [
    "modelo3_sigmoid = keras.Sequential([\n",
    "    keras.layers.Dense(cantidad_de_variables_predictoras, input_shape=(cantidad_de_variables_predictoras,),\n",
    "                       activation='relu'),\n",
    "    keras.layers.Dense(cantidad_de_variables_predictoras * 2, activation='tanh'),\n",
    "    keras.layers.Dense(cantidad_de_posibles_respuestas, activation='sigmoid')\n",
    "])\n",
    "\n",
    "modelo3_sigmoid.summary()"
   ]
  },
  {
   "cell_type": "code",
   "execution_count": null,
   "metadata": {
    "collapsed": false,
    "jupyter": {
     "outputs_hidden": false
    },
    "pycharm": {
     "name": "#%%\n"
    }
   },
   "outputs": [],
   "source": [
    "modelo3_sigmoid.compile(\n",
    "    optimizer=keras.optimizers.Adam(learning_rate=0.001),\n",
    "    loss='categorical_crossentropy',\n",
    ")\n",
    "\n",
    "cant_epochs = 100\n",
    "\n",
    "modelo3_sigmoid.fit(x_train_clasificacion_scaled, y_train_encoded, epochs=cant_epochs, batch_size=16, verbose=True,\n",
    "                    workers=-1, use_multiprocessing=True)"
   ]
  },
  {
   "cell_type": "code",
   "execution_count": null,
   "metadata": {
    "collapsed": false,
    "jupyter": {
     "outputs_hidden": false
    },
    "pycharm": {
     "name": "#%%\n"
    }
   },
   "outputs": [],
   "source": [
    "predicciones_clasificacion(modelo3_sigmoid, x_train_clasificacion_scaled, x_test_clasificacion_scaled)"
   ]
  },
  {
   "cell_type": "markdown",
   "metadata": {
    "pycharm": {
     "name": "#%% md\n"
    }
   },
   "source": [
    "Vemos que softmax parece dar mejores resultados. Nos quedamos con el anterior modelo como el mejor."
   ]
  },
  {
   "cell_type": "code",
   "execution_count": null,
   "metadata": {
    "collapsed": false,
    "jupyter": {
     "outputs_hidden": false
    },
    "pycharm": {
     "name": "#%%\n"
    }
   },
   "outputs": [],
   "source": [
    "mejor_modelo = modelo2"
   ]
  },
  {
   "cell_type": "markdown",
   "metadata": {
    "pycharm": {
     "name": "#%% md\n"
    }
   },
   "source": [
    "Veamos si el modelo está convergiendo bien al mínimo o si está rebotando en puntos debido a un learning rate demasiado alto"
   ]
  },
  {
   "cell_type": "code",
   "execution_count": null,
   "metadata": {
    "collapsed": false,
    "jupyter": {
     "outputs_hidden": false
    },
    "pycharm": {
     "name": "#%%\n"
    }
   },
   "outputs": [],
   "source": [
    "epochs = range(cant_epochs)\n",
    "plt.plot(epochs, historia_entrenamiento_modelo.history['loss'], color='orange', label='loss')\n",
    "plt.xlabel(\"Epochs\")\n",
    "plt.ylabel(\"Loss\")\n",
    "plt.title(\"Evolución del score de Loss con los Epochs\")\n",
    "plt.legend()"
   ]
  },
  {
   "cell_type": "markdown",
   "metadata": {
    "pycharm": {
     "name": "#%% md\n"
    }
   },
   "source": [
    "Parecería estar llegando al mínimo correctamente"
   ]
  },
  {
   "cell_type": "markdown",
   "metadata": {
    "pycharm": {
     "name": "#%% md\n"
    }
   },
   "source": [
    "#### Metricas finales"
   ]
  },
  {
   "cell_type": "code",
   "execution_count": null,
   "metadata": {
    "collapsed": false,
    "jupyter": {
     "outputs_hidden": false
    },
    "pycharm": {
     "name": "#%%\n"
    }
   },
   "outputs": [],
   "source": [
    "predicciones_clasificacion(mejor_modelo, x_train_clasificacion_scaled, x_test_clasificacion_scaled)"
   ]
  },
  {
   "cell_type": "markdown",
   "metadata": {
    "pycharm": {
     "name": "#%% md\n"
    }
   },
   "source": [
    "Otro factor interesante que podriamos analizar es a que tipo de vivienda pertenece cada ammenity. Y si donde encontramos una ammenity en particular, encontramos consecuentemente otra. Por ejemplo, una casa con jardin y parrila y/o pileta.\n",
    "De esta manera podriamos tratar de determinar el costo de cada ammenity o como afecta al precio."
   ]
  },
  {
   "cell_type": "markdown",
   "metadata": {
    "pycharm": {
     "name": "#%% md\n"
    }
   },
   "source": [
    "## Ensambles de modelos"
   ]
  },
  {
   "cell_type": "markdown",
   "metadata": {
    "pycharm": {
     "name": "#%% md\n"
    }
   },
   "source": [
    "### Ensamble Voting"
   ]
  },
  {
   "cell_type": "markdown",
   "metadata": {
    "pycharm": {
     "name": "#%% md\n"
    }
   },
   "source": [
    "Un modelo de ensamble es un modelo de machine learning que combina las predicciones de multiples modelos.\n",
    "\n",
    "Un ensamble de tipo Voting puede ser utilizado para problemas de clasificacion o problemas de regresion. En el caso de clasificacion, las predicciones de cada label son sumadas y el label con mayoria de votos es el predicho.\n",
    "\n",
    "Hay dos approaches para la votacion de la mayoria en los problemas de clasificacion.\n",
    "\n",
    "1. Hard Voting = Predice la clase con la mayor cantidad de votos de los modelos.\n",
    "2. Soft Voting = Predice la clase con la mayor suma de probabilidad de los modelos.\n",
    "\n",
    "Nosotros haremos un analisis con los 2 approaches y despues de ver las metricas, nos quedaremos con el que mejor se ajuste a nuestro problema."
   ]
  },
  {
   "cell_type": "markdown",
   "metadata": {
    "pycharm": {
     "name": "#%% md\n"
    }
   },
   "source": [
    "##### Hard Voting"
   ]
  },
  {
   "cell_type": "markdown",
   "metadata": {
    "pycharm": {
     "name": "#%% md\n"
    }
   },
   "source": [
    "Para este analisis, vamos a utilizar 5 versiones diferentes del algoritmos de KNN, y cada uno de ellos tendra un numero diferenete de vecinos para hacer las predicciones.\n",
    "\n",
    "La idea es que al combinar los labels de la clase predicha por cada modelo diferente de KNN, hacer que el ensamble pueda obtener una mejor prediccion que cualquier modelo utilizado por separado en promedio."
   ]
  },
  {
   "cell_type": "code",
   "execution_count": null,
   "metadata": {
    "collapsed": false,
    "jupyter": {
     "outputs_hidden": false
    },
    "pycharm": {
     "name": "#%%\n"
    }
   },
   "outputs": [],
   "source": [
    "# obtener un ensamble de modelos\n",
    "def get_knn_voting():\n",
    "    # definir las bases del modelo\n",
    "    models = list()\n",
    "    models.append(('knn1', KNeighborsClassifier(n_neighbors=1)))\n",
    "    models.append(('knn3', KNeighborsClassifier(n_neighbors=3)))\n",
    "    models.append(('knn5', KNeighborsClassifier(n_neighbors=5)))\n",
    "    models.append(('knn7', KNeighborsClassifier(n_neighbors=7)))\n",
    "    models.append(('knn9', KNeighborsClassifier(n_neighbors=9)))\n",
    "    # definir el ensamble de voto\n",
    "    ensemble = VotingClassifier(estimators=models, voting='hard')\n",
    "    return ensemble"
   ]
  },
  {
   "cell_type": "code",
   "execution_count": null,
   "metadata": {
    "collapsed": false,
    "jupyter": {
     "outputs_hidden": false
    },
    "pycharm": {
     "name": "#%%\n"
    }
   },
   "outputs": [],
   "source": [
    "# obtener lista de modelos a evaluar\n",
    "def get_knn_models():\n",
    "    models = dict()\n",
    "    models['knn1'] = KNeighborsClassifier(n_neighbors=1)\n",
    "    models['knn3'] = KNeighborsClassifier(n_neighbors=3)\n",
    "    models['knn5'] = KNeighborsClassifier(n_neighbors=5)\n",
    "    models['knn7'] = KNeighborsClassifier(n_neighbors=7)\n",
    "    models['knn9'] = KNeighborsClassifier(n_neighbors=9)\n",
    "    models['hard_voting'] = get_knn_voting()\n",
    "    return models"
   ]
  },
  {
   "cell_type": "code",
   "execution_count": null,
   "metadata": {
    "collapsed": false,
    "jupyter": {
     "outputs_hidden": false
    },
    "pycharm": {
     "name": "#%%\n"
    }
   },
   "outputs": [],
   "source": [
    "# evaluar un modelo dado usando cross-validation\n",
    "def evaluate_model(model, X, y):\n",
    "    cv = RepeatedStratifiedKFold(n_splits=10, n_repeats=3, random_state=1)\n",
    "    scores = cross_val_score(model, X, y, scoring='accuracy', cv=cv, n_jobs=-1, error_score='raise', verbose=10000)\n",
    "    return scores"
   ]
  },
  {
   "cell_type": "code",
   "execution_count": null,
   "metadata": {
    "collapsed": false,
    "jupyter": {
     "outputs_hidden": false
    },
    "pycharm": {
     "name": "#%%\n"
    }
   },
   "outputs": [],
   "source": [
    "def process_models(models, X, y):\n",
    "    results, names = list(), list()\n",
    "    for name, model in models.items():\n",
    "        scores = evaluate_model(model, X, y)\n",
    "        results.append(scores)\n",
    "        names.append(name)\n",
    "        print('>%s %.3f (%.3f)' % (name, np.mean(scores), np.std(scores)))\n",
    "    return results, names"
   ]
  },
  {
   "cell_type": "markdown",
   "metadata": {
    "pycharm": {
     "name": "#%% md\n"
    }
   },
   "source": [
    "Evaluamos la performance de los distintos KNN"
   ]
  },
  {
   "cell_type": "code",
   "execution_count": null,
   "metadata": {
    "collapsed": false,
    "jupyter": {
     "outputs_hidden": false
    },
    "pycharm": {
     "name": "#%%\n"
    }
   },
   "outputs": [],
   "source": [
    "models = get_knn_models()\n",
    "\n",
    "# evaluate the models and store results\n",
    "results, names = process_models(models, x_train, y_train_clasificacion)\n",
    "\n",
    "# plot model performance for comparison\n",
    "plt.boxplot(results, labels=names, showmeans=True)\n",
    "plt.show()"
   ]
  },
  {
   "cell_type": "code",
   "execution_count": null,
   "metadata": {
    "collapsed": false,
    "jupyter": {
     "outputs_hidden": false
    },
    "pycharm": {
     "name": "#%%\n"
    }
   },
   "outputs": [],
   "source": [
    "# define the base models\n",
    "def set_knn_models(models):\n",
    "    models.append(('knn1', KNeighborsClassifier(n_neighbors=1)))\n",
    "    models.append(('knn3', KNeighborsClassifier(n_neighbors=3)))\n",
    "    models.append(('knn5', KNeighborsClassifier(n_neighbors=5)))\n",
    "    models.append(('knn7', KNeighborsClassifier(n_neighbors=7)))\n",
    "    models.append(('knn9', KNeighborsClassifier(n_neighbors=9)))\n",
    "    return models[:]"
   ]
  },
  {
   "cell_type": "code",
   "execution_count": null,
   "metadata": {
    "collapsed": false,
    "jupyter": {
     "outputs_hidden": false
    },
    "pycharm": {
     "name": "#%%\n"
    }
   },
   "outputs": [],
   "source": [
    "# Si elegimos hard voting\n",
    "\n",
    "# make a prediction with a hard voting ensemble\n",
    "\n",
    "k_models = list()\n",
    "\n",
    "knn_models = set_knn_models(k_models)\n",
    "\n",
    "# define the hard voting ensemble\n",
    "ensemble = VotingClassifier(estimators=knn_models, voting='hard')\n",
    "\n",
    "# fit the model on all available data\n",
    "ensemble.fit(x_train, y_train_clasificacion)\n",
    "\n",
    "# make a prediction for one example\n",
    "pred = ensemble.predict(x_test)\n",
    "accuracy_score(y_test_clasificacion, pred)"
   ]
  },
  {
   "cell_type": "markdown",
   "metadata": {
    "pycharm": {
     "name": "#%% md\n"
    }
   },
   "source": [
    "##### Soft Voting"
   ]
  },
  {
   "cell_type": "code",
   "execution_count": null,
   "metadata": {
    "collapsed": false,
    "jupyter": {
     "outputs_hidden": false
    },
    "pycharm": {
     "name": "#%%\n"
    }
   },
   "outputs": [],
   "source": [
    "# define the base models\n",
    "def set_svm_models(models):\n",
    "    models.append(('svm1', SVC(probability=True, kernel='poly', degree=1)))\n",
    "    models.append(('svm2', SVC(probability=True, kernel='poly', degree=2)))\n",
    "    models.append(('svm3', SVC(probability=True, kernel='poly', degree=3)))\n",
    "    models.append(('svm4', SVC(probability=True, kernel='poly', degree=4)))\n",
    "    models.append(('svm5', SVC(probability=True, kernel='poly', degree=5)))\n",
    "    return models[:]"
   ]
  },
  {
   "cell_type": "code",
   "execution_count": null,
   "metadata": {
    "collapsed": false,
    "jupyter": {
     "outputs_hidden": false
    },
    "pycharm": {
     "name": "#%%\n"
    }
   },
   "outputs": [],
   "source": [
    "# get a voting ensemble of models\n",
    "def get_svm_voting():\n",
    "    # define the base models\n",
    "    models = list()\n",
    "    models.append(('svm1', SVC(probability=True, kernel='poly', degree=1)))\n",
    "    models.append(('svm2', SVC(probability=True, kernel='poly', degree=2)))\n",
    "    models.append(('svm3', SVC(probability=True, kernel='poly', degree=3)))\n",
    "    models.append(('svm4', SVC(probability=True, kernel='poly', degree=4)))\n",
    "    models.append(('svm5', SVC(probability=True, kernel='poly', degree=5)))\n",
    "    # define the voting ensemble\n",
    "    ensemble = VotingClassifier(estimators=models, voting='soft')\n",
    "    return ensemble"
   ]
  },
  {
   "cell_type": "code",
   "execution_count": null,
   "metadata": {
    "collapsed": false,
    "jupyter": {
     "outputs_hidden": false
    },
    "pycharm": {
     "name": "#%%\n"
    }
   },
   "outputs": [],
   "source": [
    "# get a list of models to evaluate\n",
    "def get_svm_models():\n",
    "    models = dict()\n",
    "    models['svm1'] = SVC(probability=True, kernel='poly', degree=1)\n",
    "    models['svm2'] = SVC(probability=True, kernel='poly', degree=2)\n",
    "    models['svm3'] = SVC(probability=True, kernel='poly', degree=3)\n",
    "    models['svm4'] = SVC(probability=True, kernel='poly', degree=4)\n",
    "    models['svm5'] = SVC(probability=True, kernel='poly', degree=5)\n",
    "    models['soft_voting'] = get_svm_voting()\n",
    "    return models"
   ]
  },
  {
   "cell_type": "code",
   "execution_count": null,
   "metadata": {
    "collapsed": false,
    "jupyter": {
     "outputs_hidden": false
    },
    "pycharm": {
     "name": "#%%\n"
    }
   },
   "outputs": [],
   "source": [
    "# compare soft voting ensemble to standalone classifiers\n",
    "# get the models to evaluate\n",
    "svm_models = get_svm_models()\n",
    "\n",
    "# evaluate the models and store results\n",
    "results, names = process_models(svm_models, x_train, y_train_clasificacion)\n",
    "\n",
    "# plot model performance for comparison\n",
    "plt.boxplot(results, labels=names, showmeans=True)\n",
    "plt.show()"
   ]
  },
  {
   "cell_type": "code",
   "execution_count": null,
   "metadata": {
    "collapsed": false,
    "jupyter": {
     "outputs_hidden": false
    },
    "pycharm": {
     "name": "#%%\n"
    }
   },
   "outputs": [],
   "source": [
    "ensemble = VotingClassifier(estimators=svm_models, voting='soft')\n",
    "\n",
    "# fit the model on all available data\n",
    "ensemble.fit(x_train, y_train_clasificacion)\n",
    "\n",
    "# make a prediction for one example\n",
    "pred = ensemble.predict(x_test)\n",
    "accuracy_score(y_test_clasificacion, pred)"
   ]
  },
  {
   "cell_type": "markdown",
   "metadata": {
    "pycharm": {
     "name": "#%% md\n"
    }
   },
   "source": [
    "Despues de hacer los respectivos analisis, notamos que el approach de Vorting Soft resulto ser mas efectivo en accuracy que el Hard. **Soft = 0,82** VS **Hard = 0.79** de accuraccy. Nos quedaremos con el Soft."
   ]
  },
  {
   "cell_type": "markdown",
   "metadata": {
    "pycharm": {
     "name": "#%% md\n"
    }
   },
   "source": [
    "### Ensamble Stacking"
   ]
  },
  {
   "cell_type": "markdown",
   "metadata": {
    "pycharm": {
     "name": "#%% md\n"
    }
   },
   "source": [
    "Vamos a utilizar KNN, SV, Random Forest y Regresion Lineal.\n",
    "\n",
    "Tambien vamos a definir un regresor de Stacking del modulo de Scikit Learn’s, seteando los estimadores base como los modelos base y como estimador finaluna regresion lineal con 5 cross folds."
   ]
  },
  {
   "cell_type": "code",
   "execution_count": null,
   "metadata": {
    "collapsed": false,
    "jupyter": {
     "outputs_hidden": false
    },
    "pycharm": {
     "name": "#%%\n"
    }
   },
   "outputs": [],
   "source": [
    "base_models = [\n",
    "    ('KNN', KNeighborsRegressor()),\n",
    "    ('SVR',SVR()),\n",
    "    ('Random Forest',RandomForestRegressor()),\n",
    "    ('Linear Regression',LinearRegression()),\n",
    "    ]\n",
    "stacked = StackingRegressor(\n",
    "    estimators = base_models,\n",
    "    final_estimator = LinearRegression(),\n",
    "    cv = 5)"
   ]
  },
  {
   "cell_type": "markdown",
   "metadata": {
    "pycharm": {
     "name": "#%% md\n"
    }
   },
   "source": [
    "Luego, vamos a fittear los modelos base y predecir la data de test que ya habiamos previamente separado en train (80%) y test (20%) para asi poder comparar los resultado con el ensamble regresor."
   ]
  },
  {
   "cell_type": "code",
   "execution_count": null,
   "metadata": {
    "collapsed": false,
    "jupyter": {
     "outputs_hidden": false
    },
    "pycharm": {
     "name": "#%%\n"
    }
   },
   "outputs": [],
   "source": [
    "# Entrenamos cada modelo con una validación cruzada\n",
    "def evaluate_model(model, x, y):\n",
    "    cv = KFold(n_splits=5)\n",
    "    scores = cross_val_score(model, x, y, scoring='r2', cv=cv, verbose=1, n_jobs=2, error_score='raise')\n",
    "    return scores"
   ]
  },
  {
   "cell_type": "markdown",
   "metadata": {
    "pycharm": {
     "name": "#%% md\n"
    }
   },
   "source": [
    "Calculamos los puntajes en validación cruzada los modelos"
   ]
  },
  {
   "cell_type": "code",
   "execution_count": null,
   "metadata": {
    "collapsed": false,
    "jupyter": {
     "outputs_hidden": false
    },
    "pycharm": {
     "name": "#%%\n"
    }
   },
   "outputs": [],
   "source": [
    "import time\n",
    "from collections import defaultdict\n",
    "\n",
    "model_scores = defaultdict()\n",
    "\n",
    "for name, model in base_models:\n",
    "    print(\"-------------- {} --------------\".format(name))\n",
    "    start_time = time.time()\n",
    "    model_scores[name] = evaluate_model(model, x_train, y_train)\n",
    "    end_time = time.time()\n",
    "\n",
    "    print(\"Computation Time: {}\".format(end_time - start_time))\n",
    "    print(\"----------------------------------\\n\")\n",
    "\n",
    "print(\"-------Stacked Ensemble-------\")\n",
    "start_time = time.time()\n",
    "model_scores['Stacking'] = evaluate_model(stacked,x_train, y_train)\n",
    "end_time = time.time()\n",
    "print(\"Computation Time: {}\".format(end_time - start_time))\n",
    "print(\"----------------------------------\")"
   ]
  },
  {
   "cell_type": "markdown",
   "metadata": {
    "pycharm": {
     "name": "#%% md\n"
    }
   },
   "source": [
    "El top 3 de los mejores modelos son:\n",
    "\n",
    "    1. KNN\n",
    "    2. Random Forest\n",
    "    3. Ensamble de Stacking\n",
    "\n",
    "Random Forest y el Ensamble estan a la par, mientras que KNN se separa por un muy pequeño porcentaje. El ensamble logra obtener grandes reusltados dada su naturaleza. El ensamble logra optimizar las mejores combincaiones lineales de los modelos permitiendonos obtener una mejor mezcla de diversidad de cada modelo y de cada predicción.\n",
    "La unica contra que parece tener el ensamble es el tiempo computacional que tarda, es por ese motivo, y porque la metrica da levemente mejor, que en este caso, optamos por mencionar que KNN resulta superior."
   ]
  },
  {
   "cell_type": "code",
   "execution_count": null,
   "metadata": {
    "collapsed": false,
    "jupyter": {
     "outputs_hidden": false
    },
    "pycharm": {
     "name": "#%%\n"
    }
   },
   "outputs": [],
   "source": [
    "#Funcion para plotear a performance\n",
    "def plot_results(model_scores, name):\n",
    "\n",
    "    model_names = list(model_scores.keys())\n",
    "    results = [model_scores[model] for model in model_names]\n",
    "    print(model_names)\n",
    "    print(results)\n",
    "    fig = go.Figure()\n",
    "    for model, result in zip(model_names, results):\n",
    "        fig.add_trace(go.Box(\n",
    "            x=[abs(x) for x in result],\n",
    "            name=model,\n",
    "            boxpoints='all',\n",
    "            jitter=0.5,\n",
    "            whiskerwidth=0.2,\n",
    "            marker_size=2,\n",
    "            line_width=1)\n",
    "        )\n",
    "\n",
    "    fig.update_layout(\n",
    "    title='Performance of Different Models Using 5-Fold Cross-Validation',\n",
    "    paper_bgcolor='rgb(243, 243, 243)',\n",
    "    plot_bgcolor='rgb(243, 243, 243)',\n",
    "    xaxis_title='Model',\n",
    "    yaxis_title='Accuracy',\n",
    "    showlegend=False)\n",
    "    fig.show()"
   ]
  },
  {
   "cell_type": "code",
   "execution_count": null,
   "metadata": {
    "collapsed": false,
    "jupyter": {
     "outputs_hidden": false
    },
    "pycharm": {
     "name": "#%%\n"
    }
   },
   "outputs": [],
   "source": [
    "model_scores"
   ]
  },
  {
   "cell_type": "code",
   "execution_count": null,
   "metadata": {
    "collapsed": false,
    "jupyter": {
     "outputs_hidden": false
    },
    "pycharm": {
     "name": "#%%\n"
    }
   },
   "outputs": [],
   "source": [
    "model_names = list(model_scores.keys())\n",
    "results = [[abs(x) for x in model_scores[model]] for model in model_names]\n",
    "print(model_names)\n",
    "print(results)"
   ]
  },
  {
   "cell_type": "markdown",
   "metadata": {
    "pycharm": {
     "name": "#%% md\n"
    }
   },
   "source": [
    "Tomaremos el valor absoluto de todos los puntajes."
   ]
  },
  {
   "cell_type": "code",
   "execution_count": null,
   "metadata": {
    "collapsed": false,
    "jupyter": {
     "outputs_hidden": false
    },
    "pycharm": {
     "name": "#%%\n"
    }
   },
   "outputs": [],
   "source": [
    "model_scores = pd.DataFrame(model_scores)\n",
    "model_scores.describe().T[['mean', 'min', 'max']]"
   ]
  },
  {
   "cell_type": "code",
   "execution_count": null,
   "metadata": {
    "collapsed": false,
    "jupyter": {
     "outputs_hidden": false
    },
    "pycharm": {
     "name": "#%%\n"
    }
   },
   "outputs": [],
   "source": [
    "ax = sns.boxplot(data=model_scores)\n",
    "ax.set_xlabel('Modelo')\n",
    "ax.set_ylabel('R²')"
   ]
  },
  {
   "cell_type": "markdown",
   "metadata": {
    "pycharm": {
     "name": "#%% md\n"
    }
   },
   "source": [
    "## Conclusiones"
   ]
  },
  {
   "cell_type": "markdown",
   "metadata": {
    "pycharm": {
     "name": "#%% md\n"
    }
   },
   "source": [
    "#### Metricas finales"
   ]
  },
  {
   "cell_type": "code",
   "execution_count": null,
   "metadata": {
    "collapsed": false,
    "jupyter": {
     "outputs_hidden": false
    },
    "pycharm": {
     "name": "#%%\n"
    }
   },
   "outputs": [],
   "source": [
    "predicciones_clasificacion(mejor_modelo, x_train_clasificacion_scaled, x_test_clasificacion_scaled)"
   ]
  },
  {
   "cell_type": "markdown",
   "metadata": {
    "pycharm": {
     "name": "#%% md\n"
    }
   },
   "source": [
    "Otro factor interesante que podriamos analizar es a que tipo de vivienda pertenece cada ammenity. Y si donde encontramos una ammenity en particular, encontramos consecuentemente otra. Por ejemplo, una casa con jardin y parrila y/o pileta.\n",
    "De esta manera podriamos tratar de determinar el costo de cada ammenity o como afecta al precio."
   ]
  },
  {
   "cell_type": "markdown",
   "metadata": {
    "pycharm": {
     "name": "#%% md\n"
    }
   },
   "source": [
    "## Conclusiones"
   ]
  },
  {
   "cell_type": "markdown",
   "metadata": {
    "pycharm": {
     "name": "#%% md\n"
    }
   },
   "source": [
    "#### Metricas finales"
   ]
  },
  {
   "cell_type": "code",
   "execution_count": null,
   "metadata": {
    "collapsed": false,
    "jupyter": {
     "outputs_hidden": false
    },
    "pycharm": {
     "name": "#%%\n"
    }
   },
   "outputs": [],
   "source": [
    "predicciones_clasificacion(mejor_modelo, x_train_clasificacion_scaled, x_test_clasificacion_scaled)"
   ]
  },
  {
   "cell_type": "markdown",
   "metadata": {
    "pycharm": {
     "name": "#%% md\n"
    }
   },
   "source": [
    "Otro factor interesante que podriamos analizar es a que tipo de vivienda pertenece cada ammenity. Y si donde encontramos una ammenity en particular, encontramos consecuentemente otra. Por ejemplo, una casa con jardin y parrila y/o pileta.\n",
    "De esta manera podriamos tratar de determinar el costo de cada ammenity o como afecta al precio."
   ]
  },
  {
   "cell_type": "markdown",
   "metadata": {
    "pycharm": {
     "name": "#%% md\n"
    }
   },
   "source": [
    "## Ensambles de modelos"
   ]
  },
  {
   "cell_type": "markdown",
   "metadata": {
    "pycharm": {
     "name": "#%% md\n"
    }
   },
   "source": [
    "### Ensamble Voting"
   ]
  },
  {
   "cell_type": "markdown",
   "metadata": {
    "pycharm": {
     "name": "#%% md\n"
    }
   },
   "source": [
    "Un modelo de ensamble es un modelo de machine learning que combina las predicciones de multiples modelos.\n",
    "\n",
    "Un ensamble de tipo Voting puede ser utilizado para problemas de clasificacion o problemas de regresion. En el caso de clasificacion, las predicciones de cada label son sumadas y el label con mayoria de votos es el predicho.\n",
    "\n",
    "Hay dos approaches para la votacion de la mayoria en los problemas de clasificacion.\n",
    "\n",
    "1. Hard Voting = Predice la clase con la mayor cantidad de votos de los modelos.\n",
    "2. Soft Voting = Predice la clase con la mayor suma de probabilidad de los modelos.\n",
    "\n",
    "Nosotros haremos un analisis con los 2 approaches y despues de ver las metricas, nos quedaremos con el que mejor se ajuste a nuestro problema."
   ]
  },
  {
   "cell_type": "markdown",
   "metadata": {
    "pycharm": {
     "name": "#%% md\n"
    }
   },
   "source": [
    "##### Hard Voting"
   ]
  },
  {
   "cell_type": "markdown",
   "metadata": {
    "pycharm": {
     "name": "#%% md\n"
    }
   },
   "source": [
    "Para este analisis, vamos a utilizar 5 versiones diferentes del algoritmos de KNN, y cada uno de ellos tendra un numero diferenete de vecinos para hacer las predicciones.\n",
    "\n",
    "La idea es que al combinar los labels de la clase predicha por cada modelo diferente de KNN, hacer que el ensamble pueda obtener una mejor prediccion que cualquier modelo utilizado por separado en promedio."
   ]
  },
  {
   "cell_type": "markdown",
   "metadata": {},
   "source": [
    "NUEVO APPROACH:"
   ]
  },
  {
   "cell_type": "code",
   "execution_count": 82,
   "metadata": {},
   "outputs": [
    {
     "name": "stderr",
     "output_type": "stream",
     "text": [
      "/Library/Frameworks/Python.framework/Versions/3.10/lib/python3.10/site-packages/sklearn/base.py:443: UserWarning: X has feature names, but DecisionTreeClassifier was fitted without feature names\n",
      "  warnings.warn(\n"
     ]
    },
    {
     "name": "stdout",
     "output_type": "stream",
     "text": [
      "F1-score of decision tree classifier: 0.0\n",
      "F1-score of support vector machine: 0.0\n",
      "F1-score of naive bayes classifier: 0.0\n"
     ]
    },
    {
     "name": "stderr",
     "output_type": "stream",
     "text": [
      "/Library/Frameworks/Python.framework/Versions/3.10/lib/python3.10/site-packages/sklearn/base.py:443: UserWarning: X has feature names, but LogisticRegression was fitted without feature names\n",
      "  warnings.warn(\n",
      "/Library/Frameworks/Python.framework/Versions/3.10/lib/python3.10/site-packages/sklearn/base.py:443: UserWarning: X has feature names, but GaussianNB was fitted without feature names\n",
      "  warnings.warn(\n"
     ]
    }
   ],
   "source": [
    "from sklearn.tree import DecisionTreeClassifier\n",
    "from sklearn.linear_model import LogisticRegression\n",
    "from sklearn.naive_bayes import GaussianNB\n",
    "from sklearn.metrics import f1_score\n",
    "\n",
    "# making predictions with the decision tree classifier\n",
    "dtc = DecisionTreeClassifier(random_state=42)\n",
    "dtc_model = dtc.fit(x_train, y_train_clasificacion_factorized)\n",
    "y_pred_dtc = dtc_model.predict(x_test)\n",
    "\n",
    "\n",
    "# making predictions with the logistic regression model\n",
    "lr = LogisticRegression()\n",
    "lr_model = lr.fit(x_train, y_train_clasificacion_factorized)\n",
    "y_pred_lr = lr_model.predict(x_test)\n",
    "\n",
    "\n",
    "# making predictions with the naive bayes model\n",
    "gnb = GaussianNB()\n",
    "gnb_model = gnb.fit(x_train, y_train_clasificacion_factorized)\n",
    "y_pred_gnb = gnb_model.predict(x_test)\n",
    "\n",
    "\n",
    "# evaluating the models based on their f-1 scores\n",
    "f1_dtc = f1_score(y_test, y_pred_dtc, average='micro')\n",
    "f1_lr = f1_score(y_test, y_pred_lr, average='micro')\n",
    "f1_gnb = f1_score(y_test, y_pred_gnb, average='micro')\n",
    "\n",
    "# print the f-1 scores\n",
    "print('F1-score of decision tree classifier: {}'.format(np.round(f1_dtc,4)))\n",
    "print('F1-score of support vector machine: {}'.format(np.round(f1_lr,4)))\n",
    "print('F1-score of naive bayes classifier: {}'.format(np.round(f1_gnb,4)))"
   ]
  },
  {
   "cell_type": "code",
   "execution_count": 86,
   "metadata": {},
   "outputs": [
    {
     "name": "stderr",
     "output_type": "stream",
     "text": [
      "/Library/Frameworks/Python.framework/Versions/3.10/lib/python3.10/site-packages/sklearn/linear_model/_logistic.py:444: ConvergenceWarning: lbfgs failed to converge (status=1):\n",
      "STOP: TOTAL NO. of ITERATIONS REACHED LIMIT.\n",
      "\n",
      "Increase the number of iterations (max_iter) or scale the data as shown in:\n",
      "    https://scikit-learn.org/stable/modules/preprocessing.html\n",
      "Please also refer to the documentation for alternative solver options:\n",
      "    https://scikit-learn.org/stable/modules/linear_model.html#logistic-regression\n",
      "  n_iter_i = _check_optimize_result(\n"
     ]
    },
    {
     "name": "stdout",
     "output_type": "stream",
     "text": [
      "F1-score of the hard voting classifier: 0.0\n",
      "F1-score of the soft voting classifier: 0.0\n"
     ]
    },
    {
     "name": "stderr",
     "output_type": "stream",
     "text": [
      "/Library/Frameworks/Python.framework/Versions/3.10/lib/python3.10/site-packages/sklearn/linear_model/_logistic.py:444: ConvergenceWarning: lbfgs failed to converge (status=1):\n",
      "STOP: TOTAL NO. of ITERATIONS REACHED LIMIT.\n",
      "\n",
      "Increase the number of iterations (max_iter) or scale the data as shown in:\n",
      "    https://scikit-learn.org/stable/modules/preprocessing.html\n",
      "Please also refer to the documentation for alternative solver options:\n",
      "    https://scikit-learn.org/stable/modules/linear_model.html#logistic-regression\n",
      "  n_iter_i = _check_optimize_result(\n"
     ]
    }
   ],
   "source": [
    "# import voting classifier\n",
    "from sklearn.ensemble import VotingClassifier\n",
    "\n",
    "# create a voting classifier with hard voting\n",
    "voting_classifier_hard = VotingClassifier(\n",
    "    estimators = [('dtc',DecisionTreeClassifier(random_state=42)),\n",
    "                  ('lr', LogisticRegression()),\n",
    "                  ('gnb', GaussianNB())], \n",
    "    voting='hard')\n",
    "\n",
    "# create a voting classifier with soft voting\n",
    "voting_classifier_soft = VotingClassifier(\n",
    "    estimators = [('dtc',DecisionTreeClassifier(random_state=42)),\n",
    "                  ('lr', LogisticRegression()),\n",
    "                  ('gnb', GaussianNB())], \n",
    "    voting='soft')\n",
    "\n",
    "# make predictions with the hard voting model\n",
    "voting_classifier_hard.fit(x_train, y_train_clasificacion_factorized)\n",
    "y_pred_vch = voting_classifier_hard.predict(x_test)\n",
    "\n",
    "# make predictions with the soft voting model\n",
    "voting_classifier_soft.fit(x_train, y_train_clasificacion_factorized)\n",
    "y_pred_vcs = voting_classifier_soft.predict(x_test)\n",
    "\n",
    "# evaluate both models with the f-1 score\n",
    "f1_vch = f1_score(y_test, y_pred_vch, average='micro')\n",
    "f1_vcs = f1_score(y_test, y_pred_vcs, average='micro')\n",
    "\n",
    "# print the f-1 scores\n",
    "print('F1-score of the hard voting classifier: {}'.format(np.round(f1_vch,4)))\n",
    "print('F1-score of the soft voting classifier: {}'.format(np.round(f1_vcs,4)))"
   ]
  },
  {
   "cell_type": "code",
   "execution_count": null,
   "metadata": {
    "collapsed": false,
    "jupyter": {
     "outputs_hidden": false
    },
    "pycharm": {
     "name": "#%%\n"
    }
   },
   "outputs": [],
   "source": [
    "# obtener un ensamble de modelos\n",
    "def get_knn_voting():\n",
    "    # definir las bases del modelo\n",
    "    models = list()\n",
    "    models.append(('knn1', KNeighborsClassifier(n_neighbors=1)))\n",
    "    models.append(('knn3', KNeighborsClassifier(n_neighbors=3)))\n",
    "    models.append(('knn5', KNeighborsClassifier(n_neighbors=5)))\n",
    "    models.append(('knn7', KNeighborsClassifier(n_neighbors=7)))\n",
    "    models.append(('knn9', KNeighborsClassifier(n_neighbors=9)))\n",
    "    # definir el ensamble de voto\n",
    "    ensemble = VotingClassifier(estimators=models, voting='hard')\n",
    "    return ensemble"
   ]
  },
  {
   "cell_type": "code",
   "execution_count": null,
   "metadata": {
    "collapsed": false,
    "jupyter": {
     "outputs_hidden": false
    },
    "pycharm": {
     "name": "#%%\n"
    }
   },
   "outputs": [],
   "source": [
    "# obtener lista de modelos a evaluar\n",
    "def get_knn_models():\n",
    "    models = dict()\n",
    "    models['knn1'] = KNeighborsClassifier(n_neighbors=1)\n",
    "    models['knn3'] = KNeighborsClassifier(n_neighbors=3)\n",
    "    models['knn5'] = KNeighborsClassifier(n_neighbors=5)\n",
    "    models['knn7'] = KNeighborsClassifier(n_neighbors=7)\n",
    "    models['knn9'] = KNeighborsClassifier(n_neighbors=9)\n",
    "    models['hard_voting'] = get_knn_voting()\n",
    "    return models"
   ]
  },
  {
   "cell_type": "code",
   "execution_count": null,
   "metadata": {
    "collapsed": false,
    "jupyter": {
     "outputs_hidden": false
    },
    "pycharm": {
     "name": "#%%\n"
    }
   },
   "outputs": [],
   "source": [
    "# evaluar un modelo dado usando cross-validation\n",
    "def evaluate_model(model, X, y):\n",
    "    cv = RepeatedStratifiedKFold(n_splits=10, n_repeats=3, random_state=1)\n",
    "    scores = cross_val_score(model, X, y, scoring='accuracy', cv=cv, n_jobs=-1, error_score='raise', verbose=10000)\n",
    "    return scores"
   ]
  },
  {
   "cell_type": "code",
   "execution_count": null,
   "metadata": {
    "collapsed": false,
    "jupyter": {
     "outputs_hidden": false
    },
    "pycharm": {
     "name": "#%%\n"
    }
   },
   "outputs": [],
   "source": [
    "def process_models(models, X, y):\n",
    "    results, names = list(), list()\n",
    "    for name, model in models.items():\n",
    "        scores = evaluate_model(model, X, y)\n",
    "        results.append(scores)\n",
    "        names.append(name)\n",
    "        print('>%s %.3f (%.3f)' % (name, np.mean(scores), np.std(scores)))\n",
    "    return results, names"
   ]
  },
  {
   "cell_type": "markdown",
   "metadata": {
    "pycharm": {
     "name": "#%% md\n"
    }
   },
   "source": [
    "Evaluamos la performance de los distintos KNN"
   ]
  },
  {
   "cell_type": "code",
   "execution_count": null,
   "metadata": {
    "collapsed": false,
    "jupyter": {
     "outputs_hidden": false
    },
    "pycharm": {
     "name": "#%%\n"
    }
   },
   "outputs": [],
   "source": [
    "models = get_knn_models()\n",
    "\n",
    "# evaluate the models and store results\n",
    "results, names = process_models(models, x_train, y_train_clasificacion)\n",
    "\n",
    "# plot model performance for comparison\n",
    "plt.boxplot(results, labels=names, showmeans=True)\n",
    "plt.show()"
   ]
  },
  {
   "cell_type": "code",
   "execution_count": null,
   "metadata": {
    "collapsed": false,
    "jupyter": {
     "outputs_hidden": false
    },
    "pycharm": {
     "name": "#%%\n"
    }
   },
   "outputs": [],
   "source": [
    "# define the base models\n",
    "def set_knn_models(models):\n",
    "    models.append(('knn1', KNeighborsClassifier(n_neighbors=1)))\n",
    "    models.append(('knn3', KNeighborsClassifier(n_neighbors=3)))\n",
    "    models.append(('knn5', KNeighborsClassifier(n_neighbors=5)))\n",
    "    models.append(('knn7', KNeighborsClassifier(n_neighbors=7)))\n",
    "    models.append(('knn9', KNeighborsClassifier(n_neighbors=9)))\n",
    "    return models[:]"
   ]
  },
  {
   "cell_type": "code",
   "execution_count": null,
   "metadata": {
    "collapsed": false,
    "jupyter": {
     "outputs_hidden": false
    },
    "pycharm": {
     "name": "#%%\n"
    }
   },
   "outputs": [],
   "source": [
    "# Si elegimos hard voting\n",
    "\n",
    "# make a prediction with a hard voting ensemble\n",
    "\n",
    "k_models = list()\n",
    "\n",
    "knn_models = set_knn_models(k_models)\n",
    "\n",
    "# define the hard voting ensemble\n",
    "ensemble = VotingClassifier(estimators=knn_models, voting='hard')\n",
    "\n",
    "# fit the model on all available data\n",
    "ensemble.fit(x_train, y_train_clasificacion)\n",
    "\n",
    "# make a prediction for one example\n",
    "pred = ensemble.predict(x_test)\n",
    "accuracy_score(y_test_clasificacion, pred)"
   ]
  },
  {
   "cell_type": "markdown",
   "metadata": {
    "pycharm": {
     "name": "#%% md\n"
    }
   },
   "source": [
    "##### Soft Voting"
   ]
  },
  {
   "cell_type": "code",
   "execution_count": null,
   "metadata": {
    "collapsed": false,
    "jupyter": {
     "outputs_hidden": false
    },
    "pycharm": {
     "name": "#%%\n"
    }
   },
   "outputs": [],
   "source": [
    "# define the base models\n",
    "def set_svm_models(models):\n",
    "    models.append(('svm1', SVC(probability=True, kernel='poly', degree=1)))\n",
    "    models.append(('svm2', SVC(probability=True, kernel='poly', degree=2)))\n",
    "    models.append(('svm3', SVC(probability=True, kernel='poly', degree=3)))\n",
    "    models.append(('svm4', SVC(probability=True, kernel='poly', degree=4)))\n",
    "    models.append(('svm5', SVC(probability=True, kernel='poly', degree=5)))\n",
    "    return models[:]"
   ]
  },
  {
   "cell_type": "code",
   "execution_count": null,
   "metadata": {
    "collapsed": false,
    "jupyter": {
     "outputs_hidden": false
    },
    "pycharm": {
     "name": "#%%\n"
    }
   },
   "outputs": [],
   "source": [
    "# get a voting ensemble of models\n",
    "def get_svm_voting():\n",
    "    # define the base models\n",
    "    models = list()\n",
    "    models.append(('svm1', SVC(probability=True, kernel='poly', degree=1)))\n",
    "    models.append(('svm2', SVC(probability=True, kernel='poly', degree=2)))\n",
    "    models.append(('svm3', SVC(probability=True, kernel='poly', degree=3)))\n",
    "    models.append(('svm4', SVC(probability=True, kernel='poly', degree=4)))\n",
    "    models.append(('svm5', SVC(probability=True, kernel='poly', degree=5)))\n",
    "    # define the voting ensemble\n",
    "    ensemble = VotingClassifier(estimators=models, voting='soft')\n",
    "    return ensemble"
   ]
  },
  {
   "cell_type": "code",
   "execution_count": null,
   "metadata": {
    "collapsed": false,
    "jupyter": {
     "outputs_hidden": false
    },
    "pycharm": {
     "name": "#%%\n"
    }
   },
   "outputs": [],
   "source": [
    "# get a list of models to evaluate\n",
    "def get_svm_models():\n",
    "    models = dict()\n",
    "    models['svm1'] = SVC(probability=True, kernel='poly', degree=1)\n",
    "    models['svm2'] = SVC(probability=True, kernel='poly', degree=2)\n",
    "    models['svm3'] = SVC(probability=True, kernel='poly', degree=3)\n",
    "    models['svm4'] = SVC(probability=True, kernel='poly', degree=4)\n",
    "    models['svm5'] = SVC(probability=True, kernel='poly', degree=5)\n",
    "    models['soft_voting'] = get_svm_voting()\n",
    "    return models"
   ]
  },
  {
   "cell_type": "code",
   "execution_count": null,
   "metadata": {
    "collapsed": false,
    "jupyter": {
     "outputs_hidden": false
    },
    "pycharm": {
     "name": "#%%\n"
    }
   },
   "outputs": [],
   "source": [
    "# compare soft voting ensemble to standalone classifiers\n",
    "# get the models to evaluate\n",
    "svm_models = get_svm_models()\n",
    "\n",
    "# evaluate the models and store results\n",
    "results, names = process_models(svm_models, x_train, y_train_clasificacion)\n",
    "\n",
    "# plot model performance for comparison\n",
    "plt.boxplot(results, labels=names, showmeans=True)\n",
    "plt.show()"
   ]
  },
  {
   "cell_type": "code",
   "execution_count": null,
   "metadata": {
    "collapsed": false,
    "jupyter": {
     "outputs_hidden": false
    },
    "pycharm": {
     "name": "#%%\n"
    }
   },
   "outputs": [],
   "source": [
    "ensemble = VotingClassifier(estimators=svm_models, voting='soft')\n",
    "\n",
    "# fit the model on all available data\n",
    "ensemble.fit(x_train, y_train_clasificacion)\n",
    "\n",
    "# make a prediction for one example\n",
    "pred = ensemble.predict(x_test)\n",
    "accuracy_score(y_test_clasificacion, pred)"
   ]
  },
  {
   "cell_type": "markdown",
   "metadata": {
    "pycharm": {
     "name": "#%% md\n"
    }
   },
   "source": [
    "Despues de hacer los respectivos analisis, notamos que el approach de Vorting Soft resulto ser mas efectivo en accuracy que el Hard. **Soft = 0,82** VS **Hard = 0.79** de accuraccy. Nos quedaremos con el Soft."
   ]
  },
  {
   "cell_type": "markdown",
   "metadata": {
    "pycharm": {
     "name": "#%% md\n"
    }
   },
   "source": [
    "### Ensamble Stacking"
   ]
  },
  {
   "cell_type": "code",
   "execution_count": null,
   "metadata": {
    "collapsed": false,
    "jupyter": {
     "outputs_hidden": false
    },
    "pycharm": {
     "name": "#%%\n"
    }
   },
   "outputs": [],
   "source": [
    "#Funcion para plotear a performance\n",
    "def plot_results(model_scores, name):\n",
    "    model_names = list(model_scores.keys())\n",
    "    results = [model_scores[model] for model in model_names]\n",
    "    print(model_names)\n",
    "    print(results)\n",
    "    fig = go.Figure()\n",
    "    for model, result in zip(model_names, results):\n",
    "        fig.add_trace(go.Box(\n",
    "            y=result,\n",
    "            name=model,\n",
    "            boxpoints='all',\n",
    "            jitter=0.5,\n",
    "            whiskerwidth=0.2,\n",
    "            marker_size=2,\n",
    "            line_width=1)\n",
    "        )\n",
    "\n",
    "    fig.update_layout(\n",
    "        title='Performance of Different Models Using 5-Fold Cross-Validation',\n",
    "        paper_bgcolor='rgb(243, 243, 243)',\n",
    "        plot_bgcolor='rgb(243, 243, 243)',\n",
    "        xaxis_title='Model',\n",
    "        yaxis_title='Accuracy',\n",
    "        showlegend=False)\n",
    "    fig.show()"
   ]
  },
  {
   "cell_type": "markdown",
   "metadata": {
    "pycharm": {
     "name": "#%% md\n"
    }
   },
   "source": [
    "Vamos a utilizar KNN, SV, Random Forest y Regresion Lineal.\n",
    "\n",
    "Tambien vamos a definir un regresor de Stacking del modulo de Scikit Learn’s, seteando los estimadores base como los modelos base y como estimador finaluna regresion lineal con 5 cross folds."
   ]
  },
  {
   "cell_type": "code",
   "execution_count": null,
   "metadata": {
    "collapsed": false,
    "jupyter": {
     "outputs_hidden": false
    },
    "pycharm": {
     "name": "#%%\n"
    }
   },
   "outputs": [],
   "source": [
    "base_models = [\n",
    "    ('KNN', KNeighborsRegressor()),\n",
    "    ('SVR', SVR()),\n",
    "    ('Random Forest', RandomForestRegressor()),\n",
    "    ('Linear Regression', LinearRegression()),\n",
    "]\n",
    "stacked = StackingRegressor(\n",
    "    estimators=base_models,\n",
    "    final_estimator=LinearRegression(),\n",
    "    cv=5)"
   ]
  },
  {
   "cell_type": "markdown",
   "metadata": {
    "pycharm": {
     "name": "#%% md\n"
    }
   },
   "source": [
    "Luego, vamos a fittear los modelos base y predecir la data de test que ya habiamos previamente separado en train (80%) y test (20%) para asi poder comparar los resultado con el ensamble regresor."
   ]
  },
  {
   "cell_type": "code",
   "execution_count": 69,
   "metadata": {
    "collapsed": false,
    "jupyter": {
     "outputs_hidden": false
    },
    "pycharm": {
     "name": "#%%\n"
    }
   },
   "outputs": [
    {
     "data": {
      "text/plain": [
       "array([0, 0, 1, ..., 0, 1, 0])"
      ]
     },
     "execution_count": 69,
     "metadata": {},
     "output_type": "execute_result"
    }
   ],
   "source": [
    "y_train_clasificacion_factorized = pd.factorize(y_train_clasificacion)[0]\n",
    "y_test_clasificacion_factorized = pd.factorize(y_test_clasificacion)[0]\n",
    "y_train_clasificacion_factorized"
   ]
  },
  {
   "cell_type": "code",
   "execution_count": null,
   "metadata": {
    "collapsed": false,
    "jupyter": {
     "outputs_hidden": false
    },
    "pycharm": {
     "is_executing": true,
     "name": "#%%\n"
    }
   },
   "outputs": [],
   "source": [
    "import time\n",
    "from collections import defaultdict\n",
    "\n",
    "#Guarda los scores de cada modelo\n",
    "model_scores = defaultdict()\n",
    "\n",
    "for name, model in base_models:\n",
    "    start_time = time.time()\n",
    "    model.fit(x_train, y_train_clasificacion_factorized)\n",
    "    prediction = model.predict(x_test)\n",
    "    end_time = time.time()\n",
    "\n",
    "    r2 = model.score(x_test, y_test_clasificacion_factorized)\n",
    "    rmse = mean_squared_error(y_test_clasificacion_factorized, prediction, squared=False)\n",
    "    model_scores[name] = r2\n",
    "\n",
    "    print(\"-------{}-------\".format(name))\n",
    "    print(\"Coefficient of determination: {}\".format(r2))\n",
    "    print(\"Root Mean Squared Error: {}\".format(rmse))\n",
    "    print(\"Computation Time: {}\".format(end_time - start_time))\n",
    "    print(\"----------------------------------\\n\")\n",
    "\n",
    "start_time = time.time()\n",
    "stacked.fit(x_train, y_train_clasificacion_factorized)\n",
    "stacked_prediction = stacked.predict(x_test)\n",
    "end_time = time.time()\n",
    "stacked_r2 = stacked.score(x_test, y_test_clasificacion_factorized)\n",
    "model_scores['Stacking'] = stacked_r2\n",
    "stacked_rmse = mean_squared_error(y_test_clasificacion_factorized, stacked_prediction, squared=False)\n",
    "print(\"-------Stacked Ensemble-------\")\n",
    "print(\"Coefficient of determination: {}\".format(stacked_r2))\n",
    "print(\"Root Mean Squared Error: {}\".format(stacked_rmse))\n",
    "print(\"Computation Time: {}\".format(end_time - start_time))\n",
    "print(\"----------------------------------\")"
   ]
  },
  {
   "cell_type": "markdown",
   "metadata": {
    "pycharm": {
     "name": "#%% md\n"
    }
   },
   "source": [
    "El top 3 de los mejores modelos son:\n",
    "\n",
    "    1. KNN\n",
    "    2. Random Forest\n",
    "    3. Ensamble de Stacking\n",
    "\n",
    "Random Forest y el Ensamble estan a la par, mientras que KNN se separa por un muy pequeño porcentaje. El ensamble logra obtener grandes reusltados dada su naturaleza. El ensamble logra optimizar las mejores combincaiones lineales de los modelos permitiendonos obtener una mejor mezcla de diversidad de cada modelo y de cada predicción.\n",
    "La unica contra que parece tener el ensamble es el tiempo computacional que tarda, es por ese motivo, y porque la metrica da levemente mejor, que en este caso, optamos por mencionar que KNN resulta superior."
   ]
  },
  {
   "cell_type": "code",
   "execution_count": null,
   "metadata": {
    "collapsed": false,
    "jupyter": {
     "outputs_hidden": false
    },
    "pycharm": {
     "name": "#%%\n"
    }
   },
   "outputs": [],
   "source": [
    "model_scores"
   ]
  },
  {
   "cell_type": "code",
   "execution_count": null,
   "metadata": {
    "collapsed": false,
    "jupyter": {
     "outputs_hidden": false
    },
    "pycharm": {
     "name": "#%%\n"
    }
   },
   "outputs": [],
   "source": [
    "#Grafico performance\n",
    "plot_results(model_scores, name='stacking_model_cv')"
   ]
  },
  {
   "cell_type": "markdown",
   "metadata": {
    "pycharm": {
     "name": "#%% md\n"
    }
   },
   "source": [
    "## Conclusiones"
   ]
  }
 ],
 "metadata": {
  "kernelspec": {
   "display_name": "Python 3 (ipykernel)",
   "language": "python",
   "name": "python3"
  },
  "language_info": {
   "codemirror_mode": {
    "name": "ipython",
    "version": 3
   },
   "file_extension": ".py",
   "mimetype": "text/x-python",
   "name": "python",
   "nbconvert_exporter": "python",
   "pygments_lexer": "ipython3",
   "version": "3.10.4"
  }
 },
 "nbformat": 4,
 "nbformat_minor": 4
}

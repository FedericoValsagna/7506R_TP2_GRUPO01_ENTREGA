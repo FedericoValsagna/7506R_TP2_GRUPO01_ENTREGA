{
 "cells": [
  {
   "cell_type": "markdown",
   "id": "e42f117c-548e-4c8b-bf64-2d98cda3e35a",
   "metadata": {
    "pycharm": {
     "name": "#%% md\n"
    }
   },
   "source": [
    "Librerias"
   ]
  },
  {
   "cell_type": "code",
   "execution_count": 456,
   "id": "24767aab-d04e-470a-989b-453e44c8edb9",
   "metadata": {
    "pycharm": {
     "name": "#%%\n"
    }
   },
   "outputs": [],
   "source": [
    "import re\n",
    "import warnings\n",
    "\n",
    "import matplotlib.pyplot as plt\n",
    "import numpy as np\n",
    "import pandas as pd\n",
    "import scipy as sc\n",
    "import seaborn as sns\n",
    "import sklearn as sk\n",
    "from pandas.plotting import scatter_matrix\n",
    "from sklearn import tree\n",
    "from sklearn.ensemble import IsolationForest\n",
    "from sklearn.ensemble import RandomForestClassifier\n",
    "from sklearn.metrics import confusion_matrix, classification_report\n",
    "from sklearn.neighbors import LocalOutlierFactor\n",
    "\n",
    "warnings.simplefilter(action='ignore', category=FutureWarning)\n",
    "warnings.simplefilter(action='ignore', category=UserWarning)"
   ]
  },
  {
   "cell_type": "markdown",
   "id": "78727244-82c0-4761-9058-c055c2907128",
   "metadata": {
    "pycharm": {
     "name": "#%% md\n"
    }
   },
   "source": [
    "Lectura Dataset"
   ]
  },
  {
   "cell_type": "code",
   "execution_count": 457,
   "id": "a70650d1-53b0-4da3-bc96-dcfa9d71902b",
   "metadata": {
    "pycharm": {
     "name": "#%%\n"
    }
   },
   "outputs": [],
   "source": [
    "from IPython.display import display, HTML\n",
    "\n",
    "\n",
    "def display_side_by_side(dfs: list, captions: list):\n",
    "    \"\"\"Display tables side by side to save vertical space\n",
    "    Input:\n",
    "        dfs: list of pandas.DataFrame\n",
    "        captions: list of table captions\n",
    "    \"\"\"\n",
    "    output = \"\"\n",
    "    combined = dict(zip(captions, dfs))\n",
    "    for caption, df in combined.items():\n",
    "        output += df.style.set_table_attributes(\"style='display:inline'\").set_caption(caption)._repr_html_()\n",
    "        output += \"\\xa0\\xa0\\xa0\"\n",
    "    display(HTML(output))"
   ]
  },
  {
   "cell_type": "code",
   "execution_count": 458,
   "id": "94a7c31e-feb0-4010-a54d-5a69829119bc",
   "metadata": {
    "pycharm": {
     "name": "#%%\n"
    }
   },
   "outputs": [],
   "source": [
    "complete_dataset = pd.read_csv('datasets/properati_argentina_2021.csv')\n",
    "df = complete_dataset.copy()"
   ]
  },
  {
   "cell_type": "markdown",
   "id": "91f27366-a9da-4153-9c08-9c3de07ef796",
   "metadata": {
    "pycharm": {
     "name": "#%% md\n"
    }
   },
   "source": [
    "### Análisis Exploratorio y Preprocesamiento de Datos"
   ]
  },
  {
   "cell_type": "markdown",
   "id": "de29426e-193c-4c28-bfa0-c2d119e0abfe",
   "metadata": {
    "pycharm": {
     "name": "#%% md\n"
    }
   },
   "source": [
    "Primero, observaremos un poco los datos que tiene el dataset"
   ]
  },
  {
   "cell_type": "markdown",
   "id": "925ce68e-3003-4c28-801c-138f8048420b",
   "metadata": {
    "pycharm": {
     "name": "#%% md\n"
    }
   },
   "source": [
    "**Primeras 5 observaciones**"
   ]
  },
  {
   "cell_type": "code",
   "execution_count": 459,
   "id": "6be03f7b-41a9-4598-a694-53b5972753b7",
   "metadata": {
    "pycharm": {
     "name": "#%%\n"
    }
   },
   "outputs": [
    {
     "data": {
      "text/plain": "                         id  start_date    end_date  created_on    latitud  \\\n0  XZq2dFGxBiboHY3Bo/tqlw==  2021-09-09  2022-01-27  2021-09-09 -38.957632   \n1  8afoK+yMH/rnnlYiktwgNA==  2021-09-09  2021-10-23  2021-09-09 -34.888878   \n2  iVaG5rBB47dd1Ya4BMXREA==  2021-09-09  2022-03-09  2021-09-09 -32.488717   \n3  QE1QVMWKAHWkd0qT0FtPWA==  2021-09-09  2022-01-27  2021-09-09 -34.900165   \n4  tJ5lSk7IysG/71OGhacNZA==  2021-09-09  2022-01-27  2021-09-09 -38.954528   \n\n    longitud    place_l2 place_l3 place_l4 place_l5  place_l6 operation  \\\n0 -68.105443     Neuquén      NaN      NaN      NaN       NaN     Venta   \n1 -56.092368  Montevideo      NaN      NaN      NaN       NaN     Venta   \n2 -58.257499  Entre Ríos      NaN      NaN      NaN       NaN     Venta   \n3 -54.808453   Maldonado      NaN      NaN      NaN       NaN     Venta   \n4 -68.041862     Neuquén      NaN      NaN      NaN       NaN     Venta   \n\n  property_type  property_rooms  property_bedrooms  property_surface_total  \\\n0          Casa             6.0                NaN                     NaN   \n1          Casa             4.0                3.0                   193.0   \n2          Casa             NaN                NaN                   110.0   \n3          Casa             NaN                3.0                     NaN   \n4            PH             3.0                2.0                     NaN   \n\n   property_surface_covered  property_price property_currency  \\\n0                     206.0             NaN               NaN   \n1                     193.0        390000.0               USD   \n2                      45.0         47000.0               USD   \n3                     180.0        400000.0               USD   \n4                      98.0        102000.0               USD   \n\n       property_title  \n0      Casa - Capital  \n1       Casa - Malvín  \n2      Casa - Uruguay  \n3    Casa - El Chorro  \n4  PH - Villa Farrell  ",
      "text/html": "<div>\n<style scoped>\n    .dataframe tbody tr th:only-of-type {\n        vertical-align: middle;\n    }\n\n    .dataframe tbody tr th {\n        vertical-align: top;\n    }\n\n    .dataframe thead th {\n        text-align: right;\n    }\n</style>\n<table border=\"1\" class=\"dataframe\">\n  <thead>\n    <tr style=\"text-align: right;\">\n      <th></th>\n      <th>id</th>\n      <th>start_date</th>\n      <th>end_date</th>\n      <th>created_on</th>\n      <th>latitud</th>\n      <th>longitud</th>\n      <th>place_l2</th>\n      <th>place_l3</th>\n      <th>place_l4</th>\n      <th>place_l5</th>\n      <th>place_l6</th>\n      <th>operation</th>\n      <th>property_type</th>\n      <th>property_rooms</th>\n      <th>property_bedrooms</th>\n      <th>property_surface_total</th>\n      <th>property_surface_covered</th>\n      <th>property_price</th>\n      <th>property_currency</th>\n      <th>property_title</th>\n    </tr>\n  </thead>\n  <tbody>\n    <tr>\n      <th>0</th>\n      <td>XZq2dFGxBiboHY3Bo/tqlw==</td>\n      <td>2021-09-09</td>\n      <td>2022-01-27</td>\n      <td>2021-09-09</td>\n      <td>-38.957632</td>\n      <td>-68.105443</td>\n      <td>Neuquén</td>\n      <td>NaN</td>\n      <td>NaN</td>\n      <td>NaN</td>\n      <td>NaN</td>\n      <td>Venta</td>\n      <td>Casa</td>\n      <td>6.0</td>\n      <td>NaN</td>\n      <td>NaN</td>\n      <td>206.0</td>\n      <td>NaN</td>\n      <td>NaN</td>\n      <td>Casa - Capital</td>\n    </tr>\n    <tr>\n      <th>1</th>\n      <td>8afoK+yMH/rnnlYiktwgNA==</td>\n      <td>2021-09-09</td>\n      <td>2021-10-23</td>\n      <td>2021-09-09</td>\n      <td>-34.888878</td>\n      <td>-56.092368</td>\n      <td>Montevideo</td>\n      <td>NaN</td>\n      <td>NaN</td>\n      <td>NaN</td>\n      <td>NaN</td>\n      <td>Venta</td>\n      <td>Casa</td>\n      <td>4.0</td>\n      <td>3.0</td>\n      <td>193.0</td>\n      <td>193.0</td>\n      <td>390000.0</td>\n      <td>USD</td>\n      <td>Casa - Malvín</td>\n    </tr>\n    <tr>\n      <th>2</th>\n      <td>iVaG5rBB47dd1Ya4BMXREA==</td>\n      <td>2021-09-09</td>\n      <td>2022-03-09</td>\n      <td>2021-09-09</td>\n      <td>-32.488717</td>\n      <td>-58.257499</td>\n      <td>Entre Ríos</td>\n      <td>NaN</td>\n      <td>NaN</td>\n      <td>NaN</td>\n      <td>NaN</td>\n      <td>Venta</td>\n      <td>Casa</td>\n      <td>NaN</td>\n      <td>NaN</td>\n      <td>110.0</td>\n      <td>45.0</td>\n      <td>47000.0</td>\n      <td>USD</td>\n      <td>Casa - Uruguay</td>\n    </tr>\n    <tr>\n      <th>3</th>\n      <td>QE1QVMWKAHWkd0qT0FtPWA==</td>\n      <td>2021-09-09</td>\n      <td>2022-01-27</td>\n      <td>2021-09-09</td>\n      <td>-34.900165</td>\n      <td>-54.808453</td>\n      <td>Maldonado</td>\n      <td>NaN</td>\n      <td>NaN</td>\n      <td>NaN</td>\n      <td>NaN</td>\n      <td>Venta</td>\n      <td>Casa</td>\n      <td>NaN</td>\n      <td>3.0</td>\n      <td>NaN</td>\n      <td>180.0</td>\n      <td>400000.0</td>\n      <td>USD</td>\n      <td>Casa - El Chorro</td>\n    </tr>\n    <tr>\n      <th>4</th>\n      <td>tJ5lSk7IysG/71OGhacNZA==</td>\n      <td>2021-09-09</td>\n      <td>2022-01-27</td>\n      <td>2021-09-09</td>\n      <td>-38.954528</td>\n      <td>-68.041862</td>\n      <td>Neuquén</td>\n      <td>NaN</td>\n      <td>NaN</td>\n      <td>NaN</td>\n      <td>NaN</td>\n      <td>Venta</td>\n      <td>PH</td>\n      <td>3.0</td>\n      <td>2.0</td>\n      <td>NaN</td>\n      <td>98.0</td>\n      <td>102000.0</td>\n      <td>USD</td>\n      <td>PH - Villa Farrell</td>\n    </tr>\n  </tbody>\n</table>\n</div>"
     },
     "execution_count": 459,
     "metadata": {},
     "output_type": "execute_result"
    }
   ],
   "source": [
    "df.head()"
   ]
  },
  {
   "cell_type": "markdown",
   "id": "72084fb5-b993-49c4-ae96-72bbbd4f46e0",
   "metadata": {
    "pycharm": {
     "name": "#%% md\n"
    }
   },
   "source": [
    "**Ultimas 5 observaciones**"
   ]
  },
  {
   "cell_type": "code",
   "execution_count": 460,
   "id": "7ee1fdab-d97e-411d-99e8-77a670d8022b",
   "metadata": {
    "pycharm": {
     "name": "#%%\n"
    }
   },
   "outputs": [
    {
     "data": {
      "text/plain": "                              id  start_date    end_date  created_on  \\\n460149  EWHC/xcODFkeEA0+pPE6Rw==  2021-01-05  2021-01-08  2021-01-05   \n460150  txKUq0LjMaORjJQeeqTOfw==  2021-01-05  2021-11-01  2021-01-05   \n460151  E0zwHT18DX8AxhU22hXgng==  2021-01-05  2021-03-01  2021-01-05   \n460152  Ec4Tvy/WX5f6RgfaJf2FHQ==  2021-01-05  2021-11-28  2021-01-05   \n460153  Y7KBafQ+e5noGh2Pio0xLg==  2021-01-05  9999-12-31  2021-01-05   \n\n          latitud   longitud                  place_l2               place_l3  \\\n460149 -34.599594 -58.588715  Bs.As. G.B.A. Zona Oeste        Tres de Febrero   \n460150 -34.582777 -58.545220  Bs.As. G.B.A. Zona Norte     General San Martín   \n460151        NaN        NaN  Bs.As. G.B.A. Zona Norte     General San Martín   \n460152 -33.226234 -60.331848                  Santa Fe     Villa Constitución   \n460153 -26.827938 -65.220708                   Tucumán  San Miguel de Tucumán   \n\n           place_l4 place_l5  place_l6 operation    property_type  \\\n460149          NaN      NaN       NaN     Venta  Local comercial   \n460150  Villa Lynch      NaN       NaN     Venta  Local comercial   \n460151          NaN      NaN       NaN     Venta  Local comercial   \n460152          NaN      NaN       NaN  Alquiler  Local comercial   \n460153          NaN      NaN       NaN     Venta  Local comercial   \n\n        property_rooms  property_bedrooms  property_surface_total  \\\n460149             NaN                NaN                   113.0   \n460150             NaN                NaN                 11580.0   \n460151             NaN                NaN                   915.0   \n460152             NaN                NaN                     NaN   \n460153             1.0                NaN                   243.0   \n\n        property_surface_covered  property_price property_currency  \\\n460149                     113.0        190000.0               USD   \n460150                   11580.0       3500000.0               USD   \n460151                     915.0        800000.0               USD   \n460152                      15.0             NaN               NaN   \n460153                     133.0        160000.0               USD   \n\n                                           property_title  \n460149   LOCAL COMERCIAL MAS DE 100 MTS. - Ciudad jardín-  \n460150                      Nave Industrial - Villa Lynch  \n460151  importante edificio comercial en tres plantas ...  \n460152                         Local - Villa Constitucion  \n460153                      Local - San Miguel De Tucumán  ",
      "text/html": "<div>\n<style scoped>\n    .dataframe tbody tr th:only-of-type {\n        vertical-align: middle;\n    }\n\n    .dataframe tbody tr th {\n        vertical-align: top;\n    }\n\n    .dataframe thead th {\n        text-align: right;\n    }\n</style>\n<table border=\"1\" class=\"dataframe\">\n  <thead>\n    <tr style=\"text-align: right;\">\n      <th></th>\n      <th>id</th>\n      <th>start_date</th>\n      <th>end_date</th>\n      <th>created_on</th>\n      <th>latitud</th>\n      <th>longitud</th>\n      <th>place_l2</th>\n      <th>place_l3</th>\n      <th>place_l4</th>\n      <th>place_l5</th>\n      <th>place_l6</th>\n      <th>operation</th>\n      <th>property_type</th>\n      <th>property_rooms</th>\n      <th>property_bedrooms</th>\n      <th>property_surface_total</th>\n      <th>property_surface_covered</th>\n      <th>property_price</th>\n      <th>property_currency</th>\n      <th>property_title</th>\n    </tr>\n  </thead>\n  <tbody>\n    <tr>\n      <th>460149</th>\n      <td>EWHC/xcODFkeEA0+pPE6Rw==</td>\n      <td>2021-01-05</td>\n      <td>2021-01-08</td>\n      <td>2021-01-05</td>\n      <td>-34.599594</td>\n      <td>-58.588715</td>\n      <td>Bs.As. G.B.A. Zona Oeste</td>\n      <td>Tres de Febrero</td>\n      <td>NaN</td>\n      <td>NaN</td>\n      <td>NaN</td>\n      <td>Venta</td>\n      <td>Local comercial</td>\n      <td>NaN</td>\n      <td>NaN</td>\n      <td>113.0</td>\n      <td>113.0</td>\n      <td>190000.0</td>\n      <td>USD</td>\n      <td>LOCAL COMERCIAL MAS DE 100 MTS. - Ciudad jardín-</td>\n    </tr>\n    <tr>\n      <th>460150</th>\n      <td>txKUq0LjMaORjJQeeqTOfw==</td>\n      <td>2021-01-05</td>\n      <td>2021-11-01</td>\n      <td>2021-01-05</td>\n      <td>-34.582777</td>\n      <td>-58.545220</td>\n      <td>Bs.As. G.B.A. Zona Norte</td>\n      <td>General San Martín</td>\n      <td>Villa Lynch</td>\n      <td>NaN</td>\n      <td>NaN</td>\n      <td>Venta</td>\n      <td>Local comercial</td>\n      <td>NaN</td>\n      <td>NaN</td>\n      <td>11580.0</td>\n      <td>11580.0</td>\n      <td>3500000.0</td>\n      <td>USD</td>\n      <td>Nave Industrial - Villa Lynch</td>\n    </tr>\n    <tr>\n      <th>460151</th>\n      <td>E0zwHT18DX8AxhU22hXgng==</td>\n      <td>2021-01-05</td>\n      <td>2021-03-01</td>\n      <td>2021-01-05</td>\n      <td>NaN</td>\n      <td>NaN</td>\n      <td>Bs.As. G.B.A. Zona Norte</td>\n      <td>General San Martín</td>\n      <td>NaN</td>\n      <td>NaN</td>\n      <td>NaN</td>\n      <td>Venta</td>\n      <td>Local comercial</td>\n      <td>NaN</td>\n      <td>NaN</td>\n      <td>915.0</td>\n      <td>915.0</td>\n      <td>800000.0</td>\n      <td>USD</td>\n      <td>importante edificio comercial en tres plantas ...</td>\n    </tr>\n    <tr>\n      <th>460152</th>\n      <td>Ec4Tvy/WX5f6RgfaJf2FHQ==</td>\n      <td>2021-01-05</td>\n      <td>2021-11-28</td>\n      <td>2021-01-05</td>\n      <td>-33.226234</td>\n      <td>-60.331848</td>\n      <td>Santa Fe</td>\n      <td>Villa Constitución</td>\n      <td>NaN</td>\n      <td>NaN</td>\n      <td>NaN</td>\n      <td>Alquiler</td>\n      <td>Local comercial</td>\n      <td>NaN</td>\n      <td>NaN</td>\n      <td>NaN</td>\n      <td>15.0</td>\n      <td>NaN</td>\n      <td>NaN</td>\n      <td>Local - Villa Constitucion</td>\n    </tr>\n    <tr>\n      <th>460153</th>\n      <td>Y7KBafQ+e5noGh2Pio0xLg==</td>\n      <td>2021-01-05</td>\n      <td>9999-12-31</td>\n      <td>2021-01-05</td>\n      <td>-26.827938</td>\n      <td>-65.220708</td>\n      <td>Tucumán</td>\n      <td>San Miguel de Tucumán</td>\n      <td>NaN</td>\n      <td>NaN</td>\n      <td>NaN</td>\n      <td>Venta</td>\n      <td>Local comercial</td>\n      <td>1.0</td>\n      <td>NaN</td>\n      <td>243.0</td>\n      <td>133.0</td>\n      <td>160000.0</td>\n      <td>USD</td>\n      <td>Local - San Miguel De Tucumán</td>\n    </tr>\n  </tbody>\n</table>\n</div>"
     },
     "execution_count": 460,
     "metadata": {},
     "output_type": "execute_result"
    }
   ],
   "source": [
    "df.tail()"
   ]
  },
  {
   "cell_type": "markdown",
   "id": "cd2ebe60-495b-44e9-b3e7-0c939c72587a",
   "metadata": {
    "pycharm": {
     "name": "#%% md\n"
    }
   },
   "source": [
    "**Filas y Columnas**"
   ]
  },
  {
   "cell_type": "code",
   "execution_count": 461,
   "id": "a3818d26-27ce-421f-8815-53b2eca66e7a",
   "metadata": {
    "pycharm": {
     "name": "#%%\n"
    }
   },
   "outputs": [
    {
     "name": "stdout",
     "output_type": "stream",
     "text": [
      "El dataset tiene 460154 filas y 20 columnas\n"
     ]
    }
   ],
   "source": [
    "print(f\"El dataset tiene {df.shape[0]} filas y {df.shape[1]} columnas\")"
   ]
  },
  {
   "cell_type": "markdown",
   "id": "f5545aa6-db8d-4acd-81d3-90d16414af02",
   "metadata": {
    "pycharm": {
     "name": "#%% md\n"
    }
   },
   "source": [
    "**Metrica del dataset**"
   ]
  },
  {
   "cell_type": "code",
   "execution_count": 462,
   "id": "90ff446c-4735-430d-8dc0-1e0fb6caac85",
   "metadata": {
    "pycharm": {
     "name": "#%%\n"
    }
   },
   "outputs": [
    {
     "data": {
      "text/plain": "             latitud       longitud  place_l6  property_rooms  \\\ncount  419740.000000  419740.000000       0.0   368498.000000   \nmean      -34.228570     -59.557066       NaN        3.278053   \nstd         3.251509       2.905129       NaN        1.870832   \nmin       -54.832057    -103.219258       NaN        1.000000   \n25%       -34.640132     -58.899343       NaN        2.000000   \n50%       -34.585122     -58.488309       NaN        3.000000   \n75%       -34.423414     -58.404876       NaN        4.000000   \nmax        42.557773     -35.044991       NaN       40.000000   \n\n       property_bedrooms  property_surface_total  property_surface_covered  \\\ncount      344113.000000           397813.000000              4.279160e+05   \nmean            2.297960              420.601250              9.605005e+03   \nstd             1.673985             4026.380748              3.440367e+06   \nmin            -3.000000               -1.000000             -3.000000e+00   \n25%             1.000000               50.000000              4.500000e+01   \n50%             2.000000               90.000000              7.800000e+01   \n75%             3.000000              210.000000              1.700000e+02   \nmax           390.000000           200000.000000              2.147484e+09   \n\n       property_price  \ncount    4.421530e+05  \nmean     3.063273e+05  \nstd      4.899613e+06  \nmin      0.000000e+00  \n25%      4.490000e+04  \n50%      9.800000e+04  \n75%      1.990000e+05  \nmax      1.500000e+09  ",
      "text/html": "<div>\n<style scoped>\n    .dataframe tbody tr th:only-of-type {\n        vertical-align: middle;\n    }\n\n    .dataframe tbody tr th {\n        vertical-align: top;\n    }\n\n    .dataframe thead th {\n        text-align: right;\n    }\n</style>\n<table border=\"1\" class=\"dataframe\">\n  <thead>\n    <tr style=\"text-align: right;\">\n      <th></th>\n      <th>latitud</th>\n      <th>longitud</th>\n      <th>place_l6</th>\n      <th>property_rooms</th>\n      <th>property_bedrooms</th>\n      <th>property_surface_total</th>\n      <th>property_surface_covered</th>\n      <th>property_price</th>\n    </tr>\n  </thead>\n  <tbody>\n    <tr>\n      <th>count</th>\n      <td>419740.000000</td>\n      <td>419740.000000</td>\n      <td>0.0</td>\n      <td>368498.000000</td>\n      <td>344113.000000</td>\n      <td>397813.000000</td>\n      <td>4.279160e+05</td>\n      <td>4.421530e+05</td>\n    </tr>\n    <tr>\n      <th>mean</th>\n      <td>-34.228570</td>\n      <td>-59.557066</td>\n      <td>NaN</td>\n      <td>3.278053</td>\n      <td>2.297960</td>\n      <td>420.601250</td>\n      <td>9.605005e+03</td>\n      <td>3.063273e+05</td>\n    </tr>\n    <tr>\n      <th>std</th>\n      <td>3.251509</td>\n      <td>2.905129</td>\n      <td>NaN</td>\n      <td>1.870832</td>\n      <td>1.673985</td>\n      <td>4026.380748</td>\n      <td>3.440367e+06</td>\n      <td>4.899613e+06</td>\n    </tr>\n    <tr>\n      <th>min</th>\n      <td>-54.832057</td>\n      <td>-103.219258</td>\n      <td>NaN</td>\n      <td>1.000000</td>\n      <td>-3.000000</td>\n      <td>-1.000000</td>\n      <td>-3.000000e+00</td>\n      <td>0.000000e+00</td>\n    </tr>\n    <tr>\n      <th>25%</th>\n      <td>-34.640132</td>\n      <td>-58.899343</td>\n      <td>NaN</td>\n      <td>2.000000</td>\n      <td>1.000000</td>\n      <td>50.000000</td>\n      <td>4.500000e+01</td>\n      <td>4.490000e+04</td>\n    </tr>\n    <tr>\n      <th>50%</th>\n      <td>-34.585122</td>\n      <td>-58.488309</td>\n      <td>NaN</td>\n      <td>3.000000</td>\n      <td>2.000000</td>\n      <td>90.000000</td>\n      <td>7.800000e+01</td>\n      <td>9.800000e+04</td>\n    </tr>\n    <tr>\n      <th>75%</th>\n      <td>-34.423414</td>\n      <td>-58.404876</td>\n      <td>NaN</td>\n      <td>4.000000</td>\n      <td>3.000000</td>\n      <td>210.000000</td>\n      <td>1.700000e+02</td>\n      <td>1.990000e+05</td>\n    </tr>\n    <tr>\n      <th>max</th>\n      <td>42.557773</td>\n      <td>-35.044991</td>\n      <td>NaN</td>\n      <td>40.000000</td>\n      <td>390.000000</td>\n      <td>200000.000000</td>\n      <td>2.147484e+09</td>\n      <td>1.500000e+09</td>\n    </tr>\n  </tbody>\n</table>\n</div>"
     },
     "execution_count": 462,
     "metadata": {},
     "output_type": "execute_result"
    }
   ],
   "source": [
    "df.describe()"
   ]
  },
  {
   "cell_type": "markdown",
   "id": "f1a525cd-2b67-47b8-9f8e-ba0c79a086fe",
   "metadata": {
    "pycharm": {
     "name": "#%% md\n"
    }
   },
   "source": [
    "**Tipos de datos**"
   ]
  },
  {
   "cell_type": "code",
   "execution_count": 463,
   "id": "a5c867f3-4e5c-4070-8437-4eb2a7c93b91",
   "metadata": {
    "pycharm": {
     "name": "#%%\n"
    }
   },
   "outputs": [
    {
     "name": "stdout",
     "output_type": "stream",
     "text": [
      "<class 'pandas.core.frame.DataFrame'>\n",
      "RangeIndex: 460154 entries, 0 to 460153\n",
      "Data columns (total 20 columns):\n",
      " #   Column                    Non-Null Count   Dtype  \n",
      "---  ------                    --------------   -----  \n",
      " 0   id                        460154 non-null  object \n",
      " 1   start_date                460154 non-null  object \n",
      " 2   end_date                  460154 non-null  object \n",
      " 3   created_on                460154 non-null  object \n",
      " 4   latitud                   419740 non-null  float64\n",
      " 5   longitud                  419740 non-null  float64\n",
      " 6   place_l2                  460154 non-null  object \n",
      " 7   place_l3                  437665 non-null  object \n",
      " 8   place_l4                  139020 non-null  object \n",
      " 9   place_l5                  2430 non-null    object \n",
      " 10  place_l6                  0 non-null       float64\n",
      " 11  operation                 460154 non-null  object \n",
      " 12  property_type             460154 non-null  object \n",
      " 13  property_rooms            368498 non-null  float64\n",
      " 14  property_bedrooms         344113 non-null  float64\n",
      " 15  property_surface_total    397813 non-null  float64\n",
      " 16  property_surface_covered  427916 non-null  float64\n",
      " 17  property_price            442153 non-null  float64\n",
      " 18  property_currency         441590 non-null  object \n",
      " 19  property_title            460154 non-null  object \n",
      "dtypes: float64(8), object(12)\n",
      "memory usage: 70.2+ MB\n"
     ]
    }
   ],
   "source": [
    "df.info()"
   ]
  },
  {
   "cell_type": "markdown",
   "id": "6d126626-4b6d-4b39-8c17-c7ffe8ad9ed5",
   "metadata": {
    "jp-MarkdownHeadingCollapsed": true,
    "tags": [],
    "pycharm": {
     "name": "#%% md\n"
    }
   },
   "source": [
    "**Descripción de las columnas**\n",
    "\n",
    "- type - Tipo de aviso (Propiedad, Desarrollo/Proyecto).\n",
    "- country - País en el que está publicado el aviso (Argentina, Uruguay, Colombia, Ecuador, Perú)\n",
    "- id - Identificador del aviso. No es único: si el aviso es actualizado por la inmobiliaria (nueva versión del aviso) se crea un nuevo registro con la misma id pero distintas fechas: de alta y de baja.\n",
    "- start_date - Fecha de alta del aviso.\n",
    "- end_date - Fecha de baja del aviso.\n",
    "- created_on - Fecha de alta de la primera versión del aviso.\n",
    "- place - Campos referidos a la ubicación de la propiedad o del desarrollo.\n",
    "\n",
    "   - lat - Latitud.\n",
    "\n",
    "   - lon - Longitud.\n",
    "\n",
    "   - l1 - Nivel administrativo 1: país.\n",
    "\n",
    "   - l2 - Nivel administrativo 2: usualmente provincia.\n",
    "\n",
    "   - l3 - Nivel administrativo 3: usualmente ciudad.\n",
    "\n",
    "   - l4 - Nivel administrativo 4: usualmente barrio.\n",
    "- property - Campos relativos a la propiedad (vacío si el aviso es de un desarrollo/proyecto).\n",
    "\n",
    "   - operation - Tipo de operación (Venta, Alquiler).\n",
    "\n",
    "   - type - Tipo de propiedad (Casa, Departamento, PH).\n",
    "\n",
    "   - rooms - Cantidad de ambientes (útil en Argentina).\n",
    "\n",
    "   - bedrooms - Cantidad de dormitorios (útil en el resto de los países).\n",
    "\n",
    "   - bathrooms - Cantidad de baños.\n",
    "\n",
    "   - surface_total - Superficie total en m².\n",
    "\n",
    "   - surface_covered - Superficie cubierta en m².\n",
    "\n",
    "   - price - Precio publicado en el anuncio.\n",
    "\n",
    "   - currency - Moneda del precio publicado.\n",
    "\n",
    "   - price_period - Periodo del precio (Diario, Semanal, Mensual)\n",
    "\n",
    "   - title - Título del anuncio.\n",
    "\n",
    "   - description - Descripción del anuncio.\n",
    "- development - Campos relativos al desarrollo inmobiliario (vacío si el aviso es de una propiedad).\n",
    "- status - Estado del desarrollo (Terminado, En construcción, ...)\n",
    "- name - Nombre del desarrollo.\n",
    "- short_description - Descripción corta del anuncio.\n",
    "- description - Descripción del anuncio.\n"
   ]
  },
  {
   "cell_type": "markdown",
   "id": "04d98d08-f3f4-497a-becf-0145b6c7a57d",
   "metadata": {
    "pycharm": {
     "name": "#%% md\n"
    }
   },
   "source": [
    "### Filtrado inicial del Dataset"
   ]
  },
  {
   "cell_type": "code",
   "execution_count": 464,
   "id": "87fb47bb-f4a6-4e39-b592-46c5f9d0a5c7",
   "metadata": {
    "pycharm": {
     "name": "#%%\n"
    }
   },
   "outputs": [
    {
     "data": {
      "text/plain": "           place_l2 place_l3 property_currency property_type operation\n25  Capital Federal      NaN               USD          Casa     Venta\n42  Capital Federal     Boca               USD  Departamento     Venta\n43  Capital Federal     Boca               USD  Departamento     Venta\n49  Capital Federal     Once               USD  Departamento     Venta\n51  Capital Federal    Boedo               USD            PH     Venta",
      "text/html": "<div>\n<style scoped>\n    .dataframe tbody tr th:only-of-type {\n        vertical-align: middle;\n    }\n\n    .dataframe tbody tr th {\n        vertical-align: top;\n    }\n\n    .dataframe thead th {\n        text-align: right;\n    }\n</style>\n<table border=\"1\" class=\"dataframe\">\n  <thead>\n    <tr style=\"text-align: right;\">\n      <th></th>\n      <th>place_l2</th>\n      <th>place_l3</th>\n      <th>property_currency</th>\n      <th>property_type</th>\n      <th>operation</th>\n    </tr>\n  </thead>\n  <tbody>\n    <tr>\n      <th>25</th>\n      <td>Capital Federal</td>\n      <td>NaN</td>\n      <td>USD</td>\n      <td>Casa</td>\n      <td>Venta</td>\n    </tr>\n    <tr>\n      <th>42</th>\n      <td>Capital Federal</td>\n      <td>Boca</td>\n      <td>USD</td>\n      <td>Departamento</td>\n      <td>Venta</td>\n    </tr>\n    <tr>\n      <th>43</th>\n      <td>Capital Federal</td>\n      <td>Boca</td>\n      <td>USD</td>\n      <td>Departamento</td>\n      <td>Venta</td>\n    </tr>\n    <tr>\n      <th>49</th>\n      <td>Capital Federal</td>\n      <td>Once</td>\n      <td>USD</td>\n      <td>Departamento</td>\n      <td>Venta</td>\n    </tr>\n    <tr>\n      <th>51</th>\n      <td>Capital Federal</td>\n      <td>Boedo</td>\n      <td>USD</td>\n      <td>PH</td>\n      <td>Venta</td>\n    </tr>\n  </tbody>\n</table>\n</div>"
     },
     "execution_count": 464,
     "metadata": {},
     "output_type": "execute_result"
    }
   ],
   "source": [
    "df_tipo_vivienda = df[(df.property_type == \"Casa\") | (df.property_type == \"PH\") | (df.property_type == \"Departamento\")]\n",
    "df_por_ubicacion = df_tipo_vivienda[\n",
    "    (df_tipo_vivienda.place_l2 == \"Capital Federal\") | (df_tipo_vivienda.place_l3 == \"Capital Federal\")]\n",
    "df_cotizacion_usd = df_por_ubicacion[df_por_ubicacion.property_currency == \"USD\"]\n",
    "ds_filtrado = df_cotizacion_usd[df_cotizacion_usd.operation == \"Venta\"]\n",
    "\n",
    "ds_filtrado[[\"place_l2\", \"place_l3\", \"property_currency\", \"property_type\", \"operation\"]].head()"
   ]
  },
  {
   "cell_type": "markdown",
   "id": "2af26754-402e-4a28-b7a6-b1db44ec83f1",
   "metadata": {
    "pycharm": {
     "name": "#%% md\n"
    }
   },
   "source": [
    "#### Tipos de variable"
   ]
  },
  {
   "cell_type": "code",
   "execution_count": 465,
   "id": "0670cb13-53d0-4cc1-8116-cb00ce13aedd",
   "metadata": {
    "pycharm": {
     "name": "#%%\n"
    }
   },
   "outputs": [
    {
     "data": {
      "text/plain": "          Categoricas Ordinales   Cuantitativas Discretas  \\\n0          created_on      None            property_rooms   \n1          start_date      None         property_bedrooms   \n2            end_date      None    property_surface_total   \n3            place_l2      None  property_surface_covered   \n4            place_l3      None                      None   \n5            place_l4      None                      None   \n6            place_l5      None                      None   \n7            place_l6      None                      None   \n8           operation      None                      None   \n9       property_type      None                      None   \n10  property_currency      None                      None   \n11     property_title      None                      None   \n\n     Cuantitativas Continuas  \n0             property_rooms  \n1          property_bedrooms  \n2     property_surface_total  \n3   property_surface_covered  \n4                       None  \n5                       None  \n6                       None  \n7                       None  \n8                       None  \n9                       None  \n10                      None  \n11                      None  ",
      "text/html": "<div>\n<style scoped>\n    .dataframe tbody tr th:only-of-type {\n        vertical-align: middle;\n    }\n\n    .dataframe tbody tr th {\n        vertical-align: top;\n    }\n\n    .dataframe thead th {\n        text-align: right;\n    }\n</style>\n<table border=\"1\" class=\"dataframe\">\n  <thead>\n    <tr style=\"text-align: right;\">\n      <th></th>\n      <th>Categoricas</th>\n      <th>Ordinales</th>\n      <th>Cuantitativas Discretas</th>\n      <th>Cuantitativas Continuas</th>\n    </tr>\n  </thead>\n  <tbody>\n    <tr>\n      <th>0</th>\n      <td>created_on</td>\n      <td>None</td>\n      <td>property_rooms</td>\n      <td>property_rooms</td>\n    </tr>\n    <tr>\n      <th>1</th>\n      <td>start_date</td>\n      <td>None</td>\n      <td>property_bedrooms</td>\n      <td>property_bedrooms</td>\n    </tr>\n    <tr>\n      <th>2</th>\n      <td>end_date</td>\n      <td>None</td>\n      <td>property_surface_total</td>\n      <td>property_surface_total</td>\n    </tr>\n    <tr>\n      <th>3</th>\n      <td>place_l2</td>\n      <td>None</td>\n      <td>property_surface_covered</td>\n      <td>property_surface_covered</td>\n    </tr>\n    <tr>\n      <th>4</th>\n      <td>place_l3</td>\n      <td>None</td>\n      <td>None</td>\n      <td>None</td>\n    </tr>\n    <tr>\n      <th>5</th>\n      <td>place_l4</td>\n      <td>None</td>\n      <td>None</td>\n      <td>None</td>\n    </tr>\n    <tr>\n      <th>6</th>\n      <td>place_l5</td>\n      <td>None</td>\n      <td>None</td>\n      <td>None</td>\n    </tr>\n    <tr>\n      <th>7</th>\n      <td>place_l6</td>\n      <td>None</td>\n      <td>None</td>\n      <td>None</td>\n    </tr>\n    <tr>\n      <th>8</th>\n      <td>operation</td>\n      <td>None</td>\n      <td>None</td>\n      <td>None</td>\n    </tr>\n    <tr>\n      <th>9</th>\n      <td>property_type</td>\n      <td>None</td>\n      <td>None</td>\n      <td>None</td>\n    </tr>\n    <tr>\n      <th>10</th>\n      <td>property_currency</td>\n      <td>None</td>\n      <td>None</td>\n      <td>None</td>\n    </tr>\n    <tr>\n      <th>11</th>\n      <td>property_title</td>\n      <td>None</td>\n      <td>None</td>\n      <td>None</td>\n    </tr>\n  </tbody>\n</table>\n</div>"
     },
     "execution_count": 465,
     "metadata": {},
     "output_type": "execute_result"
    }
   ],
   "source": [
    "categoricas = ['created_on', 'start_date', 'end_date', 'place_l2', 'place_l3', 'place_l4', 'place_l5', 'place_l6',\n",
    "               'operation', 'property_type', 'property_currency', 'property_title']\n",
    "cuantitativas_discretas = ['property_rooms', 'property_bedrooms', 'property_surface_total', 'property_surface_covered',\n",
    "                           None, None, None, None, None, None, None, None]\n",
    "cuantitativas_continuas = ['latitud', 'longitud', 'property_price', None, None, None, None, None, None, None, None,\n",
    "                           None]\n",
    "ordinales = [None, None, None, None, None, None, None, None, None, None, None, None]\n",
    "tipos_de_variable = {'Categoricas': categoricas, 'Ordinales': ordinales,\n",
    "                     'Cuantitativas Discretas': cuantitativas_discretas,\n",
    "                     'Cuantitativas Continuas': cuantitativas_discretas}\n",
    "\n",
    "cuantitativas = cuantitativas_discretas + cuantitativas_continuas\n",
    "\n",
    "pd.DataFrame(tipos_de_variable)"
   ]
  },
  {
   "cell_type": "markdown",
   "id": "1468acd6-77f6-4164-9086-4f0c35c59b7d",
   "metadata": {
    "pycharm": {
     "name": "#%% md\n"
    }
   },
   "source": [
    "**Separacion en Train y Test**"
   ]
  },
  {
   "cell_type": "markdown",
   "id": "6cb50fab-e1f2-4dfb-96cd-626f57beb670",
   "metadata": {
    "pycharm": {
     "name": "#%% md\n"
    }
   },
   "source": [
    "Separamos el dataset.\n",
    "\n",
    "Datos de entrenamiento = 80%\n",
    "\n",
    "Datos de Testing = 20%\n",
    "\n",
    "Con el 80% entrenaremos a los modelos y con el 20% testearemos que los modelos estén funcionando como se espera.\n",
    "\n",
    "Realizamos la separación antes de comenzar a trabajar con los datos para que durante la etapa de entrenamiento no se conozcan los mismo ya que luego se usarán para testear y así se podrá predecir de forma adecuada."
   ]
  },
  {
   "cell_type": "code",
   "execution_count": 466,
   "id": "ed96a4e9-2d48-4fc7-8345-793e0fd2aef6",
   "metadata": {
    "pycharm": {
     "name": "#%%\n"
    }
   },
   "outputs": [],
   "source": [
    "from sklearn.model_selection import train_test_split\n",
    "\n",
    "ds_train, ds_test = train_test_split(ds_filtrado, test_size=0.2)"
   ]
  },
  {
   "cell_type": "markdown",
   "source": [
    "#### Variables Cuantitativas: medidas de resumen"
   ],
   "metadata": {
    "collapsed": false,
    "pycharm": {
     "name": "#%% md\n"
    }
   }
  },
  {
   "cell_type": "code",
   "execution_count": null,
   "outputs": [],
   "source": [
    "# Variables Cuantitativas: calcular medidas de resumen: media, mediana, q1, q3, moda\n",
    "cuantitativas_filtradas = list(filter(lambda element: element != None, cuantitativas))\n",
    "description_quantitatives = ds_train[cuantitativas_filtradas].describe()\n",
    "\n",
    "quantitative_mode = ds_train[cuantitativas_filtradas].mode()\n",
    "quantitative_mode.rename(index={0: \"mode\"}, inplace=True)\n",
    "description_quantitatives = description_quantitatives.append(quantitative_mode)\n",
    "\n",
    "description_quantitatives.rename(index={\"25%\": \"quartile 1\", \"50%\": \"median\", \"75%\": \"quartile 3\"}, inplace=True)\n",
    "description_quantitatives"
   ],
   "metadata": {
    "collapsed": false,
    "pycharm": {
     "name": "#%%\n"
    }
   }
  },
  {
   "cell_type": "markdown",
   "source": [
    "#### Variables Cualitativas mostrar cantidad de valores posibles, y frecuencias de cada uno.\n"
   ],
   "metadata": {
    "collapsed": false,
    "pycharm": {
     "name": "#%% md\n"
    }
   }
  },
  {
   "cell_type": "code",
   "execution_count": null,
   "outputs": [],
   "source": [
    "qualitative_dataset = ds_train[categoricas]\n",
    "\n",
    "dfs = list(\n",
    "    pd.DataFrame(qualitative_dataset[column].value_counts().head()) for column in qualitative_dataset.columns.tolist())\n",
    "display_side_by_side(dfs, qualitative_dataset.columns.tolist())"
   ],
   "metadata": {
    "collapsed": false,
    "pycharm": {
     "name": "#%%\n"
    }
   }
  },
  {
   "cell_type": "markdown",
   "source": [
    "#### Análisis gráfico de las distribuciones de las variables"
   ],
   "metadata": {
    "collapsed": false,
    "pycharm": {
     "name": "#%% md\n"
    }
   }
  },
  {
   "cell_type": "markdown",
   "source": [
    "**Distribución de fechas**"
   ],
   "metadata": {
    "collapsed": false,
    "pycharm": {
     "name": "#%% md\n"
    }
   }
  },
  {
   "cell_type": "code",
   "execution_count": null,
   "outputs": [],
   "source": [
    "plt.figure(figsize=(10, 10))\n",
    "plt.hist(ds_train.start_date, bins=25, alpha=0.5, label=\"start_date\")\n",
    "plt.hist(ds_train.end_date, bins=25, alpha=0.5, label=\"end_date\")\n",
    "plt.hist(ds_train.created_on, bins=25, alpha=0.5, label=\"created_on\")\n",
    "plt.xlabel(\"Fecha\", size=14)\n",
    "plt.ylabel(\"Frecuencia\", size=14)\n",
    "plt.title(\"Frecuencia por fecha de los eventos de los anuncios\", size=18)\n",
    "plt.legend(loc='upper right')"
   ],
   "metadata": {
    "collapsed": false,
    "pycharm": {
     "name": "#%%\n"
    }
   }
  },
  {
   "cell_type": "markdown",
   "source": [
    "**Distribución de barrios**"
   ],
   "metadata": {
    "collapsed": false,
    "pycharm": {
     "name": "#%% md\n"
    }
   }
  },
  {
   "cell_type": "code",
   "execution_count": null,
   "outputs": [],
   "source": [
    "top25 = ds_train['place_l3'].value_counts().head(25)"
   ],
   "metadata": {
    "collapsed": false,
    "pycharm": {
     "name": "#%%\n"
    }
   }
  },
  {
   "cell_type": "code",
   "execution_count": null,
   "outputs": [],
   "source": [
    "ds_otros_barrios = ds_train[~ds_train['place_l3'].isin(\n",
    "    top25.index)]  # tomamos solo con las observaciones que no pertenecen al top 25 de barrios\n",
    "frecuencia_otras = ds_otros_barrios.shape[0]\n",
    "otras = pd.Series(data=[frecuencia_otras], index=[\"Otros\"])\n",
    "distribucion_por_barrios = pd.concat([otras, top25])\n",
    "\n",
    "ax = distribucion_por_barrios.plot.bar(alpha=0.5,\n",
    "                                       title=\"Distribución de los barrios con mas propiedades más publicadas\",\n",
    "                                       xlabel=\"Barrios\", ylabel=\"Cantidad de Anuncios\", figsize=(10, 10))"
   ],
   "metadata": {
    "collapsed": false,
    "pycharm": {
     "name": "#%%\n"
    }
   }
  },
  {
   "cell_type": "markdown",
   "source": [
    "**Distribución de tipos de propiedad**"
   ],
   "metadata": {
    "collapsed": false,
    "pycharm": {
     "name": "#%% md\n"
    }
   }
  },
  {
   "cell_type": "code",
   "execution_count": null,
   "outputs": [],
   "source": [
    "colores = [(0, 0, 1), (0, 1, 0), (1, 0, 0)]\n",
    "grf = ds_train['property_type'].value_counts().plot.barh(alpha=0.5, color=colores,\n",
    "                                                         title=\"Cantidad de propiedades por tipo\", ylabel=\"Cantidad\")"
   ],
   "metadata": {
    "collapsed": false,
    "pycharm": {
     "name": "#%%\n"
    }
   }
  },
  {
   "cell_type": "markdown",
   "source": [
    "**Distribución de latitud y longitud**"
   ],
   "metadata": {
    "collapsed": false,
    "pycharm": {
     "name": "#%% md\n"
    }
   }
  },
  {
   "cell_type": "code",
   "execution_count": null,
   "outputs": [],
   "source": [
    "\n",
    "sns.relplot(data=ds_train, x=\"longitud\", y=\"latitud\", hue=\"property_type\").set(title=\"Ubicacion de las propiedades\",\n",
    "                                                                               xlabel='Longitud', ylabel='Latitud')"
   ],
   "metadata": {
    "collapsed": false,
    "pycharm": {
     "name": "#%%\n"
    }
   }
  },
  {
   "cell_type": "markdown",
   "source": [
    "**Distribución de habitaciones y baños**"
   ],
   "metadata": {
    "collapsed": false,
    "pycharm": {
     "name": "#%% md\n"
    }
   }
  },
  {
   "cell_type": "code",
   "execution_count": null,
   "outputs": [],
   "source": [
    "grf = ds_train.property_rooms.plot.box(title=\"Distribucion de la cantidad de habitaciones por propiedad\",\n",
    "                                       ylabel=\"Habitaciones\")"
   ],
   "metadata": {
    "collapsed": false,
    "pycharm": {
     "name": "#%%\n"
    }
   }
  },
  {
   "cell_type": "code",
   "execution_count": null,
   "outputs": [],
   "source": [
    "q1 = ds_train.property_rooms.quantile(q=0.25)\n",
    "q3 = ds_train.property_rooms.quantile(q=0.75)\n",
    "iqr = q3 - q1\n",
    "max = q3 + (iqr * 1.5)\n",
    "\n",
    "property_rooms_filtrado = ds_train[ds_train.property_rooms <= max].property_rooms\n",
    "grf = property_rooms_filtrado.plot.box(title=\"Distribucion de la cantidad de habitaciones por propiedad (Sin outliers)\",\n",
    "                                       ylabel=\"Habitaciones\")"
   ],
   "metadata": {
    "collapsed": false,
    "pycharm": {
     "name": "#%%\n"
    }
   }
  },
  {
   "cell_type": "code",
   "execution_count": null,
   "outputs": [],
   "source": [
    "ds_train.property_bedrooms.plot.box(title=\"Distribucion de la cantidad de baños por propiedad\", ylabel=\"Baños\")\n"
   ],
   "metadata": {
    "collapsed": false,
    "pycharm": {
     "name": "#%%\n"
    }
   }
  },
  {
   "cell_type": "code",
   "execution_count": null,
   "outputs": [],
   "source": [
    "q1 = ds_train.property_rooms.quantile(q=0.25)\n",
    "q3 = ds_train.property_rooms.quantile(q=0.75)\n",
    "iqr = q3 - q1\n",
    "max = q3 + (iqr * 1.5)\n",
    "\n",
    "property_bedrooms_filtrado = ds_train[ds_train.property_bedrooms < max].property_bedrooms\n",
    "grf = property_bedrooms_filtrado.plot.box(title=\"Distribucion de la cantidad de baños por propiedad (Sin outliers)\",\n",
    "                                          xlabel=\" \", ylabel=\"Baños\")"
   ],
   "metadata": {
    "collapsed": false,
    "pycharm": {
     "name": "#%%\n"
    }
   }
  },
  {
   "cell_type": "markdown",
   "source": [
    "**Distribución de precio**"
   ],
   "metadata": {
    "collapsed": false,
    "pycharm": {
     "name": "#%% md\n"
    }
   }
  },
  {
   "cell_type": "code",
   "execution_count": null,
   "outputs": [],
   "source": [
    "print(f\"La mediana del precio es: {ds_train.property_price.median()}\")"
   ],
   "metadata": {
    "collapsed": false,
    "pycharm": {
     "name": "#%%\n"
    }
   }
  },
  {
   "cell_type": "code",
   "execution_count": null,
   "outputs": [],
   "source": [
    "# Tomamos valores alrededor de la mediana\n",
    "property_price_grouped = pd.cut(ds_train.property_price, bins=[0, 75000, 150000, 225000, float(\"inf\")],\n",
    "                                labels=[\"0-75000\", \"75000-150000\", \"150000-225000\", \"225000-Inf\"], include_lowest=True)\n",
    "property_price_grouped.value_counts().plot.barh(alpha=0.5, color=colores,\n",
    "                                                title=\"Distribucion de los precios de las propiedades\",\n",
    "                                                xlabel=\"Rango de precios\", ylabel=\"Frecuencia\")"
   ],
   "metadata": {
    "collapsed": false,
    "pycharm": {
     "name": "#%%\n"
    }
   }
  },
  {
   "cell_type": "markdown",
   "source": [
    "**Distribución de superficie total y cubierta**"
   ],
   "metadata": {
    "collapsed": false,
    "pycharm": {
     "name": "#%% md\n"
    }
   }
  },
  {
   "cell_type": "code",
   "execution_count": null,
   "outputs": [],
   "source": [
    "sns.violinplot(ds_train.property_surface_total.values)"
   ],
   "metadata": {
    "collapsed": false,
    "pycharm": {
     "name": "#%%\n"
    }
   }
  },
  {
   "cell_type": "code",
   "execution_count": null,
   "outputs": [],
   "source": [
    "ds_surface_sin_outliers = ds_train[ds_train.property_surface_total < 600]\n",
    "sns.violinplot(ds_surface_sin_outliers.property_surface_total.values)"
   ],
   "metadata": {
    "collapsed": false,
    "pycharm": {
     "name": "#%%\n"
    }
   }
  },
  {
   "cell_type": "code",
   "execution_count": null,
   "outputs": [],
   "source": [
    "ds_surface_covered_sin_outliers = ds_train[ds_train.property_surface_covered < 600]\n",
    "sns.violinplot(ds_surface_covered_sin_outliers.property_surface_covered.values)"
   ],
   "metadata": {
    "collapsed": false,
    "pycharm": {
     "name": "#%%\n"
    }
   }
  },
  {
   "cell_type": "markdown",
   "source": [
    "#### Correlación entre variables"
   ],
   "metadata": {
    "collapsed": false,
    "pycharm": {
     "name": "#%% md\n"
    }
   }
  },
  {
   "cell_type": "code",
   "execution_count": null,
   "outputs": [],
   "source": [
    "quantitative_dataset = ds_train[cuantitativas_filtradas]\n",
    "ax = scatter_matrix(quantitative_dataset, alpha=0.7, figsize=(15, 15), s=100)"
   ],
   "metadata": {
    "collapsed": false,
    "pycharm": {
     "name": "#%%\n"
    }
   }
  },
  {
   "cell_type": "code",
   "execution_count": null,
   "outputs": [],
   "source": [
    "correlations = quantitative_dataset.corr()\n",
    "correlations"
   ],
   "metadata": {
    "collapsed": false,
    "pycharm": {
     "name": "#%%\n"
    }
   }
  },
  {
   "cell_type": "code",
   "execution_count": null,
   "outputs": [],
   "source": [
    "plt.figure(figsize=(10, 10))\n",
    "ax = sns.heatmap(quantitative_dataset.corr(), annot=True)"
   ],
   "metadata": {
    "collapsed": false,
    "pycharm": {
     "name": "#%%\n"
    }
   }
  },
  {
   "cell_type": "code",
   "execution_count": null,
   "outputs": [],
   "source": [
    "posible_correlations = [('property_rooms', 'property_bedrooms'), ('property_price', 'property_bedrooms'),\n",
    "                        ('property_price', 'property_rooms'), ('property_surface_total', 'property_surface_covered'),\n",
    "                        ('longitud', 'latitud')]\n",
    "for corr in posible_correlations:\n",
    "    print(f\"Entre {corr[0]} y {corr[1]}:{round(correlations.loc[corr[0], corr[1]], 2)}\")"
   ],
   "metadata": {
    "collapsed": false,
    "pycharm": {
     "name": "#%%\n"
    }
   }
  },
  {
   "cell_type": "markdown",
   "source": [
    "### Análisis de valores faltantes"
   ],
   "metadata": {
    "collapsed": false,
    "pycharm": {
     "name": "#%% md\n"
    }
   }
  },
  {
   "cell_type": "markdown",
   "source": [
    "#### Porcentaje de valores faltantes por columna"
   ],
   "metadata": {
    "collapsed": false,
    "pycharm": {
     "name": "#%% md\n"
    }
   }
  },
  {
   "cell_type": "code",
   "execution_count": null,
   "outputs": [],
   "source": [
    "percent_missing = ds_train.isna().sum() * 100 / len(ds_train)\n",
    "plt.figure(figsize=(12, 6))\n",
    "percent_missing.plot.bar(x='index', rot=45)\n",
    "plt.xlabel(\"Columns\")\n",
    "plt.ylabel(\"Percentage Missing\")\n",
    "rows = ds_train.shape[0]\n",
    "print(ds_train.isna().sum() / rows * 100)"
   ],
   "metadata": {
    "collapsed": false,
    "pycharm": {
     "name": "#%%\n"
    }
   }
  },
  {
   "cell_type": "markdown",
   "source": [
    "#### Porcentaje de datos faltantes por fila"
   ],
   "metadata": {
    "collapsed": false,
    "pycharm": {
     "name": "#%% md\n"
    }
   }
  },
  {
   "cell_type": "code",
   "execution_count": null,
   "outputs": [],
   "source": [
    "column_count = ds_train.shape[1]\n",
    "ds_plot = ds_train.T.isna().sum() * 100 / column_count\n",
    "\n",
    "plt.axvline(ds_plot.mean())\n",
    "sns.violinplot(ds_plot.values)"
   ],
   "metadata": {
    "collapsed": false,
    "pycharm": {
     "name": "#%%\n"
    }
   }
  },
  {
   "cell_type": "code",
   "execution_count": null,
   "outputs": [],
   "source": [
    "def plot_missing_by_column(dataset):\n",
    "    percent_missing = dataset.isna().sum() * 100 / len(dataset)\n",
    "    plt.figure(figsize=(12, 6))\n",
    "    percent_missing.plot.bar(x='index', rot=45)\n",
    "    plt.xlabel(\"Columns\")\n",
    "    plt.ylabel(\"Percentage Missing\")\n",
    "    rows = dataset.shape[0]\n",
    "    print(dataset.isna().sum() / rows * 100)"
   ],
   "metadata": {
    "collapsed": false,
    "pycharm": {
     "name": "#%%\n"
    }
   }
  },
  {
   "cell_type": "code",
   "execution_count": null,
   "outputs": [],
   "source": [
    "plot_missing_by_column(ds_train)"
   ],
   "metadata": {
    "collapsed": false,
    "pycharm": {
     "name": "#%%\n"
    }
   }
  },
  {
   "cell_type": "code",
   "execution_count": null,
   "outputs": [],
   "source": [
    "## Train\n",
    "\n",
    "ds_train = ds_train.drop(['created_on', 'place_l2', 'place_l4', 'place_l5', 'place_l6', 'operation', 'property_currency'], axis=1)\n",
    "\n",
    "## Test\n",
    "ds_test = ds_test.drop(['created_on', 'place_l2', 'place_l4', 'place_l5', 'place_l6', 'operation', 'property_currency'], axis=1)"
   ],
   "metadata": {
    "collapsed": false,
    "pycharm": {
     "name": "#%%\n"
    }
   }
  },
  {
   "cell_type": "markdown",
   "source": [
    "### Reparacion de datos faltantes"
   ],
   "metadata": {
    "collapsed": false,
    "pycharm": {
     "name": "#%% md\n"
    }
   }
  },
  {
   "cell_type": "markdown",
   "source": [
    "**Pre Imputacion de latitud y longitud**"
   ],
   "metadata": {
    "collapsed": false,
    "pycharm": {
     "name": "#%% md\n"
    }
   }
  },
  {
   "cell_type": "code",
   "execution_count": null,
   "outputs": [],
   "source": [
    "plot_missing_by_column(ds_train[['latitud']])"
   ],
   "metadata": {
    "collapsed": false,
    "pycharm": {
     "name": "#%%\n"
    }
   }
  },
  {
   "cell_type": "code",
   "execution_count": null,
   "outputs": [],
   "source": [
    "plot_missing_by_column(ds_train[['longitud']])"
   ],
   "metadata": {
    "collapsed": false,
    "pycharm": {
     "name": "#%%\n"
    }
   }
  },
  {
   "cell_type": "code",
   "execution_count": null,
   "outputs": [],
   "source": [
    "ds_train[(ds_train.latitud.isna()) & (~ds_train.longitud.isna())]"
   ],
   "metadata": {
    "collapsed": false,
    "pycharm": {
     "name": "#%%\n"
    }
   }
  },
  {
   "cell_type": "code",
   "execution_count": null,
   "outputs": [],
   "source": [
    "ds_train[(~ds_train.latitud.isna()) & (ds_train.longitud.isna())]\n"
   ],
   "metadata": {
    "collapsed": false,
    "pycharm": {
     "name": "#%%\n"
    }
   }
  },
  {
   "cell_type": "code",
   "execution_count": null,
   "outputs": [],
   "source": [
    "# Train\n",
    "percentage_train = ds_train[ds_train.latitud.isna()]['place_l3'].isna().sum() / len(\n",
    "    ds_train[ds_train.latitud.isna()]['place_l3']) * 100\n",
    "print(f\"Los datos faltantes en la columna place_l3 para train representan el {round(percentage_train, 3)}%\")\n",
    "\n",
    "# Test\n",
    "percentage_test = ds_test[ds_test.latitud.isna()]['place_l3'].isna().sum() / len(\n",
    "    ds_test[ds_test.latitud.isna()]['place_l3']) * 100\n",
    "print(f\"Los datos faltantes en la columna place_l3 para test representan el {round(percentage_test, 3)}%\")"
   ],
   "metadata": {
    "collapsed": false,
    "pycharm": {
     "name": "#%%\n"
    }
   }
  },
  {
   "cell_type": "code",
   "execution_count": null,
   "outputs": [],
   "source": [
    "# Train\n",
    "for barrio in ds_train.place_l3.unique().tolist():\n",
    "    latitud_media = ds_train[ds_train.place_l3 == barrio].latitud.mean()\n",
    "    longitud_media = ds_train[ds_train.place_l3 == barrio].longitud.mean()\n",
    "\n",
    "    ds_train.loc[(ds_train.place_l3 == barrio) & (ds_train.latitud.isna()), ['latitud']] = latitud_media\n",
    "    ds_train.loc[(ds_train.place_l3 == barrio) & (ds_train.longitud.isna()), ['longitud']] = longitud_media\n",
    "\n",
    "# Test\n",
    "for barrio in ds_test.place_l3.unique().tolist():\n",
    "    latitud_media = ds_train[ds_train.place_l3 == barrio].latitud.mean()\n",
    "    longitud_media = ds_train[ds_train.place_l3 == barrio].longitud.mean()\n",
    "\n",
    "    ds_test.loc[(ds_test.place_l3 == barrio) & (ds_test.latitud.isna()), ['latitud']] = latitud_media\n",
    "    ds_test.loc[(ds_test.place_l3 == barrio) & (ds_test.longitud.isna()), ['longitud']] = longitud_media"
   ],
   "metadata": {
    "collapsed": false,
    "pycharm": {
     "name": "#%%\n"
    }
   }
  },
  {
   "cell_type": "code",
   "execution_count": null,
   "outputs": [],
   "source": [
    "ds_train[ds_train.latitud.isna()]"
   ],
   "metadata": {
    "collapsed": false,
    "pycharm": {
     "name": "#%%\n"
    }
   }
  },
  {
   "cell_type": "code",
   "execution_count": null,
   "outputs": [],
   "source": [
    "ds_test[ds_test.latitud.isna()]"
   ],
   "metadata": {
    "collapsed": false,
    "pycharm": {
     "name": "#%%\n"
    }
   }
  },
  {
   "cell_type": "code",
   "execution_count": null,
   "outputs": [],
   "source": [
    "## Train\n",
    "print(\n",
    "    f\"El porcentaje de valores a eliminar train corresponden a un {round((len(ds_train[ds_train.latitud.isna()]) / len(ds_train)), 4)}%\")\n",
    "\n",
    "## Test\n",
    "print(\n",
    "    f\"El porcentaje de valores a eliminar en test corresponden a un {round((len(ds_test[ds_test.latitud.isna()]) / len(ds_test)), 4)}%\")"
   ],
   "metadata": {
    "collapsed": false,
    "pycharm": {
     "name": "#%%\n"
    }
   }
  },
  {
   "cell_type": "code",
   "execution_count": null,
   "outputs": [],
   "source": [
    "## Train\n",
    "\n",
    "ds_train.drop(ds_train[ds_train.latitud.isna()].index, inplace=True)\n",
    "\n",
    "## Test\n",
    "ds_test.drop(ds_test[ds_test.latitud.isna()].index, inplace=True)"
   ],
   "metadata": {
    "collapsed": false,
    "pycharm": {
     "name": "#%%\n"
    }
   }
  },
  {
   "cell_type": "markdown",
   "source": [
    "**Post Imputacion de latitud y longitud**"
   ],
   "metadata": {
    "collapsed": false,
    "pycharm": {
     "name": "#%% md\n"
    }
   }
  },
  {
   "cell_type": "code",
   "execution_count": null,
   "outputs": [],
   "source": [
    "plot_missing_by_column(ds_train[['latitud']])"
   ],
   "metadata": {
    "collapsed": false,
    "pycharm": {
     "name": "#%%\n"
    }
   }
  },
  {
   "cell_type": "code",
   "execution_count": null,
   "outputs": [],
   "source": [
    "plot_missing_by_column(ds_train[['longitud']])"
   ],
   "metadata": {
    "collapsed": false,
    "pycharm": {
     "name": "#%%\n"
    }
   }
  },
  {
   "cell_type": "markdown",
   "source": [
    "**Pre imputación de ambientes**"
   ],
   "metadata": {
    "collapsed": false,
    "pycharm": {
     "name": "#%% md\n"
    }
   }
  },
  {
   "cell_type": "code",
   "execution_count": null,
   "outputs": [],
   "source": [
    "plot_missing_by_column(ds_train[['property_rooms']])"
   ],
   "metadata": {
    "collapsed": false,
    "pycharm": {
     "name": "#%%\n"
    }
   }
  },
  {
   "cell_type": "markdown",
   "source": [
    "**Reparacion de ambientes faltantes en base al titulo de la propiedad**"
   ],
   "metadata": {
    "collapsed": false,
    "pycharm": {
     "name": "#%% md\n"
    }
   }
  },
  {
   "cell_type": "code",
   "execution_count": null,
   "outputs": [],
   "source": [
    "def reparacion_amb_por_titulo_prop(ambientes_faltantes, ds):\n",
    "    print(f\"cantidad inicial de ambientes a reparar: {len(ds[ds['property_rooms'].isna()])}\")\n",
    "    regex = re.compile(r\"(\\d+ \\bambientes?\\b)\")\n",
    "    regex2 = re.compile(r\"(\\d+\\ \\b\\bamb\\b *)\")\n",
    "\n",
    "    a = {}\n",
    "    for titulo in ambientes_faltantes.property_title:\n",
    "        if (len(re.findall(regex, titulo.lower())) > 0):\n",
    "            a[titulo] = re.findall(regex, titulo.lower())\n",
    "        if (len(re.findall(regex2, titulo.lower())) > 0):\n",
    "            a[titulo] = re.findall(regex2, titulo.lower())\n",
    "\n",
    "    for i in ds.index:\n",
    "        if ds.loc[i, 'property_title'] in a:\n",
    "            if len(a[ds.loc[i, 'property_title']]) > 0:\n",
    "                ds.loc[i, 'property_rooms'] = float(\"\".join(a[ds.loc[i, 'property_title']]).split(\" \")[0])\n",
    "            if (\"monoambiente\" or \"un ambiente\" or \"mono\" or \"mono ambiente\") in str(\n",
    "                    ds.loc[i, 'property_title']).lower():\n",
    "                ds.loc[i, 'property_rooms'] = float(1)\n",
    "            if \"dos ambientes\" in str(ds.loc[i, 'property_title']).lower():\n",
    "                ds.loc[i, 'property_rooms'] = float(2)\n",
    "            if \"tres ambientes\" in str(ds.loc[i, 'property_title']).lower():\n",
    "                ds.loc[i, 'property_rooms'] = float(3)\n",
    "            if \"cuatro ambientes\" in str(ds.loc[i, 'property_title']).lower():\n",
    "                ds.loc[i, 'property_rooms'] = float(4)\n",
    "            if \"cinco ambientes\" in str(ds.loc[i, 'property_title']).lower():\n",
    "                ds.loc[i, 'property_rooms'] = float(5)\n",
    "            if \"seis ambientes\" in str(ds.loc[i, 'property_title']).lower():\n",
    "                ds.loc[i, 'property_rooms'] = float(6)\n",
    "\n",
    "    print(f\"cantidad de ambientes faltantes post reparacion: {len(ds[ds['property_rooms'].isna()])}\")"
   ],
   "metadata": {
    "collapsed": false,
    "pycharm": {
     "name": "#%%\n"
    }
   }
  },
  {
   "cell_type": "code",
   "execution_count": null,
   "outputs": [],
   "source": [
    "datos_a_reparar = ds_train[['property_title', 'property_rooms']].reset_index()\n",
    "\n",
    "# Train\n",
    "\n",
    "ambientes_faltantes = datos_a_reparar[datos_a_reparar['property_rooms'].isna()]\n",
    "reparacion_amb_por_titulo_prop(ambientes_faltantes, ds_train)\n",
    "\n",
    "# Test\n",
    "\n",
    "ambientes_faltantes = datos_a_reparar[datos_a_reparar['property_rooms'].isna()]\n",
    "reparacion_amb_por_titulo_prop(ambientes_faltantes, ds_test)"
   ],
   "metadata": {
    "collapsed": false,
    "pycharm": {
     "name": "#%%\n"
    }
   }
  },
  {
   "cell_type": "markdown",
   "source": [
    "**Post Imputacion de ambientes**"
   ],
   "metadata": {
    "collapsed": false,
    "pycharm": {
     "name": "#%% md\n"
    }
   }
  },
  {
   "cell_type": "code",
   "execution_count": null,
   "outputs": [],
   "source": [
    "plot_missing_by_column(ds_train[['property_rooms']])"
   ],
   "metadata": {
    "collapsed": false,
    "pycharm": {
     "name": "#%%\n"
    }
   }
  },
  {
   "cell_type": "code",
   "execution_count": null,
   "outputs": [],
   "source": [
    "# Train\n",
    "ds_train.dropna(axis='index', subset=['property_rooms'], inplace=True)\n",
    "ds_train[ds_train.property_rooms.isna()]\n",
    "\n",
    "# Test\n",
    "ds_test.dropna(axis='index', subset=['property_rooms'], inplace=True)\n",
    "ds_test[ds_test.property_rooms.isna()]"
   ],
   "metadata": {
    "collapsed": false,
    "pycharm": {
     "name": "#%%\n"
    }
   }
  },
  {
   "cell_type": "code",
   "execution_count": null,
   "outputs": [],
   "source": [
    "plot_missing_by_column(ds_train[['property_rooms']])"
   ],
   "metadata": {
    "collapsed": false,
    "pycharm": {
     "name": "#%%\n"
    }
   }
  },
  {
   "cell_type": "markdown",
   "source": [
    "**Pre Imputacion de Habitaciones**"
   ],
   "metadata": {
    "collapsed": false,
    "pycharm": {
     "name": "#%% md\n"
    }
   }
  },
  {
   "cell_type": "code",
   "execution_count": null,
   "outputs": [],
   "source": [
    "plot_missing_by_column(ds_train[['property_bedrooms']])"
   ],
   "metadata": {
    "collapsed": false,
    "pycharm": {
     "name": "#%%\n"
    }
   }
  },
  {
   "cell_type": "markdown",
   "source": [
    "**Reparacion de habitaciones faltantes en base a los ambientes**"
   ],
   "metadata": {
    "collapsed": false,
    "pycharm": {
     "name": "#%% md\n"
    }
   }
  },
  {
   "cell_type": "code",
   "execution_count": null,
   "outputs": [],
   "source": [
    "# Train\n",
    "print(f\"El total de habitaciones en train es: {len(ds_train.property_bedrooms)}\")\n",
    "habitaciones_invalidas = ds_train.loc[(ds_train['property_bedrooms'] > ds_train['property_rooms'])]\n",
    "print(\n",
    "    f\"El total de habitaciones invalidas es: {len(habitaciones_invalidas)}. Constituye al {(len(habitaciones_invalidas) * 100) // len(ds_train.property_bedrooms)}% de los datos del ds\")\n",
    "habitaciones_invalidas\n",
    "\n",
    "# Test\n",
    "print(f\"El total de habitaciones en test es: {len(ds_test.property_bedrooms)}\")\n",
    "habitaciones_invalidas = ds_test.loc[(ds_test['property_bedrooms'] > ds_test['property_rooms'])]\n",
    "print(\n",
    "    f\"El total de habitaciones invalidas es: {len(habitaciones_invalidas)}. Constituye al {(len(habitaciones_invalidas) * 100) // len(ds_test.property_bedrooms)}% de los datos del ds\")\n",
    "habitaciones_invalidas"
   ],
   "metadata": {
    "collapsed": false,
    "pycharm": {
     "name": "#%%\n"
    }
   }
  },
  {
   "cell_type": "code",
   "execution_count": null,
   "outputs": [],
   "source": [
    "# Train\n",
    "habitaciones_con_amb_menos_1_train = ds_train[ds_train.property_rooms == (ds_train.property_bedrooms + 1)]\n",
    "print(\n",
    "    f\"Las habitaciones que son Ambientes - 1 en train son: {len(habitaciones_con_amb_menos_1_train)}. Constituyen al {(len(habitaciones_con_amb_menos_1_train) * 100) // len(ds_train.property_bedrooms)}% de los datos\")\n",
    "\n",
    "# Test\n",
    "habitaciones_con_amb_menos_1_test = ds_test[ds_test.property_rooms == (ds_test.property_bedrooms + 1)]\n",
    "print(f\"Las habitaciones que son Ambientes - 1 en test son: {len(habitaciones_con_amb_menos_1_test)}. Constituyen al {(len(habitaciones_con_amb_menos_1_test) * 100) // len(ds_test.property_bedrooms)}% de los datos\")"
   ],
   "metadata": {
    "collapsed": false,
    "pycharm": {
     "name": "#%%\n"
    }
   }
  },
  {
   "cell_type": "code",
   "execution_count": null,
   "outputs": [],
   "source": [
    "print(f\"Valor inicial de habitaciones faltantes en el ds de train: {ds_train.property_bedrooms.isna().sum()}\")\n",
    "print(f\"Valor inicial de habitaciones faltantes en el ds de test: {ds_test.property_bedrooms.isna().sum()}\")"
   ],
   "metadata": {
    "collapsed": false,
    "pycharm": {
     "name": "#%%\n"
    }
   }
  },
  {
   "cell_type": "code",
   "execution_count": null,
   "outputs": [],
   "source": [
    "habitaciones_faltantes = ds_train[ds_train.property_bedrooms.isna()]\n",
    "for i in habitaciones_faltantes.index:\n",
    "    if ds_train.loc[i, 'property_rooms'] == 1:\n",
    "        ds_train.loc[i, 'property_bedrooms'] = 1\n",
    "    else:\n",
    "        ds_train.loc[i, 'property_bedrooms'] = ds_train.loc[i, 'property_rooms'] - 1\n",
    "ds_train[ds_train.property_bedrooms.isna()]"
   ],
   "metadata": {
    "collapsed": false,
    "pycharm": {
     "name": "#%%\n"
    }
   }
  },
  {
   "cell_type": "code",
   "execution_count": null,
   "outputs": [],
   "source": [
    "habitaciones_faltantes = ds_test[ds_test.property_bedrooms.isna()]\n",
    "for i in habitaciones_faltantes.index:\n",
    "    if ds_test.loc[i, 'property_rooms'] == 1:\n",
    "        ds_test.loc[i, 'property_bedrooms'] = 1\n",
    "    else:\n",
    "        ds_test.loc[i, 'property_bedrooms'] = ds_test.loc[i, 'property_rooms'] - 1\n",
    "ds_test[ds_test.property_bedrooms.isna()]"
   ],
   "metadata": {
    "collapsed": false,
    "pycharm": {
     "name": "#%%\n"
    }
   }
  },
  {
   "cell_type": "markdown",
   "source": [
    "**Post Imputacion de habitaciones**"
   ],
   "metadata": {
    "collapsed": false,
    "pycharm": {
     "name": "#%% md\n"
    }
   }
  },
  {
   "cell_type": "code",
   "execution_count": null,
   "outputs": [],
   "source": [
    "plot_missing_by_column(ds_train[['property_bedrooms']])"
   ],
   "metadata": {
    "collapsed": false,
    "pycharm": {
     "name": "#%%\n"
    }
   }
  },
  {
   "cell_type": "markdown",
   "source": [
    "**Pre Imputación de Superficie total**"
   ],
   "metadata": {
    "collapsed": false,
    "pycharm": {
     "name": "#%% md\n"
    }
   }
  },
  {
   "cell_type": "code",
   "execution_count": null,
   "outputs": [],
   "source": [
    "plot_missing_by_column(ds_train[['property_surface_total']])"
   ],
   "metadata": {
    "collapsed": false,
    "pycharm": {
     "name": "#%%\n"
    }
   }
  },
  {
   "cell_type": "code",
   "execution_count": null,
   "outputs": [],
   "source": [
    "ds_train[ds_train.property_surface_total.isna()][ds_train.property_surface_covered.isna()]"
   ],
   "metadata": {
    "collapsed": false,
    "pycharm": {
     "name": "#%%\n"
    }
   }
  },
  {
   "cell_type": "markdown",
   "source": [
    "**Reparación de datos faltantes en superficie cubierta**"
   ],
   "metadata": {
    "collapsed": false,
    "pycharm": {
     "name": "#%% md\n"
    }
   }
  },
  {
   "cell_type": "code",
   "execution_count": null,
   "outputs": [],
   "source": [
    "# Train\n",
    "ds_train.loc[ds_train.property_surface_total.isna(), 'property_surface_total'] = ds_train.loc[\n",
    "    ds_train.property_surface_total.isna(), 'property_surface_covered']\n",
    "len(ds_train.loc[ds_train.property_surface_total.isna()])\n",
    "\n",
    "# Test\n",
    "ds_test.loc[ds_test.property_surface_total.isna(), 'property_surface_total'] = ds_test.loc[\n",
    "    ds_test.property_surface_total.isna(), 'property_surface_covered']\n",
    "len(ds_test.loc[ds_test.property_surface_total.isna()])"
   ],
   "metadata": {
    "collapsed": false,
    "pycharm": {
     "name": "#%%\n"
    }
   }
  },
  {
   "cell_type": "markdown",
   "source": [
    "**Post Imputación de Superficie total**"
   ],
   "metadata": {
    "collapsed": false,
    "pycharm": {
     "name": "#%% md\n"
    }
   }
  },
  {
   "cell_type": "code",
   "execution_count": null,
   "outputs": [],
   "source": [
    "plot_missing_by_column(ds_train[['property_surface_total']])"
   ],
   "metadata": {
    "collapsed": false,
    "pycharm": {
     "name": "#%%\n"
    }
   }
  },
  {
   "cell_type": "markdown",
   "source": [
    "**Pre Imputación de superficie cubierta**"
   ],
   "metadata": {
    "collapsed": false,
    "pycharm": {
     "name": "#%% md\n"
    }
   }
  },
  {
   "cell_type": "code",
   "execution_count": null,
   "outputs": [],
   "source": [
    "ds_train[ds_train.property_surface_covered.isna()]"
   ],
   "metadata": {
    "collapsed": false,
    "pycharm": {
     "name": "#%%\n"
    }
   }
  },
  {
   "cell_type": "code",
   "execution_count": null,
   "outputs": [],
   "source": [
    "plot_missing_by_column(ds_train[['property_surface_covered']])"
   ],
   "metadata": {
    "collapsed": false,
    "pycharm": {
     "name": "#%%\n"
    }
   }
  },
  {
   "cell_type": "markdown",
   "source": [
    "**Reparación de datos faltantes en Superficie cubierta**"
   ],
   "metadata": {
    "collapsed": false,
    "pycharm": {
     "name": "#%% md\n"
    }
   }
  },
  {
   "cell_type": "code",
   "execution_count": null,
   "outputs": [],
   "source": [
    "ds_train[ds_train.property_surface_covered.isna()].property_type.value_counts()"
   ],
   "metadata": {
    "collapsed": false,
    "pycharm": {
     "name": "#%%\n"
    }
   }
  },
  {
   "cell_type": "code",
   "execution_count": null,
   "outputs": [],
   "source": [
    "# Test\n",
    "ds_test.loc[(ds_test.property_surface_covered.isna()) & (\n",
    "        ds_test.property_type == 'Departamento'), 'property_surface_covered'] = ds_train.loc[\n",
    "    (ds_train.property_surface_covered.isna()) & (\n",
    "            ds_train.property_type == 'Departamento'), 'property_surface_total']\n",
    "\n",
    "len(ds_test.loc[(ds_test.property_surface_covered.isna()) & (ds_test.property_type == 'Departamento')])\n",
    "\n",
    "# Train\n",
    "ds_train.loc[(ds_train.property_surface_covered.isna()) & (\n",
    "        ds_train.property_type == 'Departamento'), 'property_surface_covered'] = ds_train.loc[\n",
    "    (ds_train.property_surface_covered.isna()) & (\n",
    "            ds_train.property_type == 'Departamento'), 'property_surface_total']\n",
    "\n",
    "len(ds_train.loc[(ds_train.property_surface_covered.isna()) & (ds_train.property_type == 'Departamento')])"
   ],
   "metadata": {
    "collapsed": false,
    "pycharm": {
     "name": "#%%\n"
    }
   }
  },
  {
   "cell_type": "code",
   "execution_count": null,
   "outputs": [],
   "source": [
    "print(f\"Registros Train: {ds_train.property_surface_covered.isna().sum()}\")"
   ],
   "metadata": {
    "collapsed": false,
    "pycharm": {
     "name": "#%%\n"
    }
   }
  },
  {
   "cell_type": "code",
   "execution_count": null,
   "outputs": [],
   "source": [
    "print(f\"Registros Test: {ds_test.property_surface_covered.isna().sum()}\")"
   ],
   "metadata": {
    "collapsed": false,
    "pycharm": {
     "name": "#%%\n"
    }
   }
  },
  {
   "cell_type": "code",
   "execution_count": null,
   "outputs": [],
   "source": [
    "# Train\n",
    "ds_train.dropna(axis='index', subset=['property_surface_covered'], inplace=True)\n",
    "ds_train[ds_train.property_surface_covered.isna()]\n",
    "\n",
    "# Test\n",
    "ds_test.dropna(axis='index', subset=['property_surface_covered'], inplace=True)\n",
    "ds_test[ds_test.property_surface_covered.isna()]"
   ],
   "metadata": {
    "collapsed": false,
    "pycharm": {
     "name": "#%%\n"
    }
   }
  },
  {
   "cell_type": "code",
   "execution_count": null,
   "outputs": [],
   "source": [
    "percent_missing = ds_train.isna().sum() * 100 / len(ds_train)\n",
    "plt.figure(figsize=(12, 6))\n",
    "percent_missing.plot.bar(x='index', rot=45)\n",
    "plt.xlabel(\"Columns\")\n",
    "plt.ylabel(\"Percentage Missing\")\n",
    "rows = ds_train.shape[0]\n",
    "print(ds_train.isna().sum() / rows * 100)"
   ],
   "metadata": {
    "collapsed": false,
    "pycharm": {
     "name": "#%%\n"
    }
   }
  },
  {
   "cell_type": "markdown",
   "source": [
    "### Analisis de Valores Atipicos"
   ],
   "metadata": {
    "collapsed": false,
    "pycharm": {
     "name": "#%% md\n"
    }
   }
  },
  {
   "cell_type": "markdown",
   "source": [
    "#### Univariados"
   ],
   "metadata": {
    "collapsed": false,
    "pycharm": {
     "name": "#%% md\n"
    }
   }
  },
  {
   "cell_type": "markdown",
   "source": [
    "**Metodo IQR**"
   ],
   "metadata": {
    "collapsed": false,
    "pycharm": {
     "name": "#%% md\n"
    }
   }
  },
  {
   "cell_type": "code",
   "execution_count": null,
   "outputs": [],
   "source": [
    "def calculate_univariate_iqr(column, dataset):\n",
    "    print(f\"cantidad de datos del ds: {len(dataset)}\")\n",
    "\n",
    "    # 1er cuartil para property_rooms\n",
    "    q1 = column.quantile(0.25)\n",
    "\n",
    "    # 3er cuartil para property_rooms\n",
    "    q3 = column.quantile(0.75)\n",
    "    med = column.median()\n",
    "\n",
    "    # region IQR\n",
    "    iqr = q3 - q1\n",
    "\n",
    "    # Bigotes altos y bajos\n",
    "    limite_superior = q3 + (1.5 * iqr)\n",
    "    limite_inferior = q1 - (1.5 * iqr)\n",
    "\n",
    "    outliers = dataset[(column <= limite_inferior) | (column >= limite_superior)]\n",
    "    print(f\"outliers encontrados para los {column.name}: {len(outliers)}\")\n",
    "    print(f\"hay {len(outliers) * 100 // len(dataset)}% de outliers de {column.name} sobre el ds\")\n",
    "    print(f\"limit sup: {limite_superior}, limite inf: {limite_inferior}\")\n",
    "\n",
    "    outliers_grafico = dataset[(column >= limite_inferior) & (column <= limite_superior)][column.name]\n",
    "\n",
    "    plt.figure(figsize=(5, 5))\n",
    "    plt.boxplot(outliers_grafico)\n",
    "    plt.title(f\"Boxplot de IQR para {column.name}\")\n",
    "    plt.show()"
   ],
   "metadata": {
    "collapsed": false,
    "pycharm": {
     "name": "#%%\n"
    }
   }
  },
  {
   "cell_type": "code",
   "execution_count": null,
   "outputs": [],
   "source": [
    "def boxplot_outliers_edges(series, moderated_outliers=True):\n",
    "    q1 = series.quantile(0.25)\n",
    "    q3 = series.quantile(0.75)\n",
    "    iqr = q3 - q1\n",
    "\n",
    "    if moderated_outliers:\n",
    "        value = 1.5\n",
    "    else:\n",
    "        value = 3\n",
    "\n",
    "    max = q3 + (value * iqr)\n",
    "    min = q1 - (value * iqr)\n",
    "\n",
    "    return min, max\n"
   ],
   "metadata": {
    "collapsed": false,
    "pycharm": {
     "name": "#%%\n"
    }
   }
  },
  {
   "cell_type": "code",
   "execution_count": null,
   "outputs": [],
   "source": [
    "def boxplot_with_outliers(dataset, column_name):\n",
    "    column = dataset[column_name]\n",
    "    moderated_min, moderated_max = boxplot_outliers_edges(column)\n",
    "    severe_min, severe_max = boxplot_outliers_edges(column, moderated_outliers=False)\n",
    "\n",
    "    print(f\"Moderated outliers limits [min: {moderated_min},max: {moderated_max}]\")\n",
    "    print(f\"Severe outliers limits [min: {severe_min},max: {severe_max}]\")\n",
    "\n",
    "    plt.figure(figsize=(5, 10))\n",
    "    column.plot.box()\n",
    "\n",
    "    plt.axhline(moderated_min, label=\"Moderated\")\n",
    "    plt.axhline(moderated_max)\n",
    "    plt.axhline(severe_min, color=\"r\", label=\"Severe\")\n",
    "    plt.axhline(severe_max, color=\"r\")\n",
    "    #plt.legend(bbox_to_anchor =(0.75, 1.15), ncol = 2)\n",
    "    plt.legend(title=\"Limites\")"
   ],
   "metadata": {
    "collapsed": false,
    "pycharm": {
     "name": "#%%\n"
    }
   }
  },
  {
   "cell_type": "markdown",
   "source": [
    "**Ambientes**"
   ],
   "metadata": {
    "collapsed": false,
    "pycharm": {
     "name": "#%% md\n"
    }
   }
  },
  {
   "cell_type": "code",
   "execution_count": null,
   "outputs": [],
   "source": [
    "calculate_univariate_iqr(ds_train.property_rooms, ds_train)"
   ],
   "metadata": {
    "collapsed": false,
    "pycharm": {
     "name": "#%%\n"
    }
   }
  },
  {
   "cell_type": "code",
   "execution_count": null,
   "outputs": [],
   "source": [
    "# Train\n",
    "outlier_inf_rooms_iqr_train = ds_train[ds_train['property_rooms'] < 0]\n",
    "outlier_sup_rooms_iqr_train = ds_train[ds_train['property_rooms'] > 7]\n",
    "\n",
    "print(\n",
    "    f\"Los outliers inf de rooms en train son: {len(outlier_inf_rooms_iqr_train)}. Constituyen al {(len(outlier_inf_rooms_iqr_train) * 100) // len(ds_train.property_rooms)}% de los datos\")\n",
    "print(\n",
    "    f\"Los outliers sup de rooms en train son: {len(outlier_sup_rooms_iqr_train)}. Constituyen al {(len(outlier_sup_rooms_iqr_train) * 100) // len(ds_train.property_rooms)}% de los datos\")\n",
    "\n",
    "# Test\n",
    "outlier_inf_rooms_iqr_test = ds_test[ds_test['property_rooms'] < 0]\n",
    "outlier_sup_rooms_iqr_test = ds_test[ds_test['property_rooms'] > 7]\n",
    "\n",
    "print(\n",
    "    f\"Los outliers inf de rooms en test son: {len(outlier_inf_rooms_iqr_test)}. Constituyen al {(len(outlier_inf_rooms_iqr_test) * 100) // len(ds_test.property_rooms)}% de los datos\")\n",
    "print(\n",
    "    f\"Los outliers sup de rooms en test son: {len(outlier_sup_rooms_iqr_test)}. Constituyen al {(len(outlier_sup_rooms_iqr_test) * 100) // len(ds_test.property_rooms)}% de los datos\")"
   ],
   "metadata": {
    "collapsed": false,
    "pycharm": {
     "name": "#%%\n"
    }
   }
  },
  {
   "cell_type": "code",
   "execution_count": null,
   "outputs": [],
   "source": [
    "sns.boxplot(y=ds_train.property_rooms)\n",
    "plt.show()"
   ],
   "metadata": {
    "collapsed": false,
    "pycharm": {
     "name": "#%%\n"
    }
   }
  },
  {
   "cell_type": "code",
   "execution_count": null,
   "outputs": [],
   "source": [
    "# Train\n",
    "ds_train.drop(outlier_sup_rooms_iqr_train.index, inplace=True)\n",
    "print(f\"Los outliers sup de rooms en train post eliminacion son: {len(ds_train[ds_train['property_rooms'] > 7])}\")\n",
    "\n",
    "# Test\n",
    "ds_test.drop(outlier_sup_rooms_iqr_test.index, inplace=True)\n",
    "print(f\"Los outliers sup de rooms en test post eliminacion son: {len(ds_test[ds_test['property_rooms'] > 7])}\")"
   ],
   "metadata": {
    "collapsed": false,
    "pycharm": {
     "name": "#%%\n"
    }
   }
  },
  {
   "cell_type": "code",
   "execution_count": null,
   "outputs": [],
   "source": [
    "sns.boxplot(y=ds_train.property_rooms)\n",
    "plt.show()"
   ],
   "metadata": {
    "collapsed": false,
    "pycharm": {
     "name": "#%%\n"
    }
   }
  },
  {
   "cell_type": "markdown",
   "source": [
    "**Habitaciones**"
   ],
   "metadata": {
    "collapsed": false,
    "pycharm": {
     "name": "#%% md\n"
    }
   }
  },
  {
   "cell_type": "code",
   "execution_count": null,
   "outputs": [],
   "source": [
    "boxplot_with_outliers(ds_train, 'property_bedrooms')"
   ],
   "metadata": {
    "collapsed": false,
    "pycharm": {
     "name": "#%%\n"
    }
   }
  },
  {
   "cell_type": "code",
   "execution_count": null,
   "outputs": [],
   "source": [
    "calculate_univariate_iqr(ds_train.property_bedrooms, ds_train)"
   ],
   "metadata": {
    "collapsed": false,
    "pycharm": {
     "name": "#%%\n"
    }
   }
  },
  {
   "cell_type": "code",
   "execution_count": null,
   "outputs": [],
   "source": [
    "# Train\n",
    "outlier_inf_bedrooms_iqr_train = ds_train[ds_train['property_bedrooms'] < 0]\n",
    "outlier_sup_bedrooms_iqr_train = ds_train[ds_train['property_bedrooms'] > 6]\n",
    "print(\n",
    "    f\"Los outliers inf de bedrooms son: {len(outlier_inf_bedrooms_iqr_train)}. Constituyen al {(len(outlier_inf_bedrooms_iqr_train) * 100) // len(ds_train.property_bedrooms)}% de los datos\")\n",
    "print(\n",
    "    f\"Los outliers sup de bedrooms son: {len(outlier_sup_bedrooms_iqr_train)}. Constituyen al {(len(outlier_sup_bedrooms_iqr_train) * 100) // len(ds_train.property_bedrooms)}% de los datos\")\n",
    "\n",
    "# Test\n",
    "\n",
    "outlier_inf_bedrooms_iqr_test = ds_test[ds_test['property_bedrooms'] < 0]\n",
    "outlier_sup_bedrooms_iqr_test = ds_test[ds_test['property_bedrooms'] > 6]\n",
    "print(\n",
    "    f\"Los outliers inf de bedrooms son: {len(outlier_inf_bedrooms_iqr_test)}. Constituyen al {(len(outlier_inf_bedrooms_iqr_test) * 100) // len(ds_test.property_bedrooms)}% de los datos\")\n",
    "print(\n",
    "    f\"Los outliers sup de bedrooms son: {len(outlier_sup_bedrooms_iqr_test)}. Constituyen al {(len(outlier_sup_bedrooms_iqr_test) * 100) // len(ds_test.property_bedrooms)}% de los datos\")"
   ],
   "metadata": {
    "collapsed": false,
    "pycharm": {
     "name": "#%%\n"
    }
   }
  },
  {
   "cell_type": "code",
   "execution_count": null,
   "outputs": [],
   "source": [
    "# Train\n",
    "\n",
    "print(f\"fila a eliminar: {ds_train[ds_train['property_bedrooms'] < 0]}\")\n",
    "indice_outlier = outlier_inf_bedrooms_iqr_train.index\n",
    "ds_train.drop(indice_outlier, inplace=True)\n",
    "print(f\"Se han eliminado: {len(indice_outlier)} registros en train\")\n",
    "\n",
    "# Test\n",
    "\n",
    "print(f\"filas a eliminar: {ds_test[ds_test['property_bedrooms'] < 0]}\")\n",
    "indice_outlier = outlier_inf_bedrooms_iqr_test.index\n",
    "ds_test.drop(indice_outlier, inplace=True)\n",
    "print(f\"Se han eliminado: {len(indice_outlier)} registros en test\")"
   ],
   "metadata": {
    "collapsed": false,
    "pycharm": {
     "name": "#%%\n"
    }
   }
  },
  {
   "cell_type": "code",
   "execution_count": null,
   "outputs": [],
   "source": [
    "sns.boxplot(y=ds_train.property_bedrooms)\n",
    "plt.show()"
   ],
   "metadata": {
    "collapsed": false,
    "pycharm": {
     "name": "#%%\n"
    }
   }
  },
  {
   "cell_type": "code",
   "execution_count": null,
   "outputs": [],
   "source": [
    "print(\"Ejemplos: \")\n",
    "len(f\"AMB < HAB = {len(outlier_sup_bedrooms_iqr_train[outlier_sup_bedrooms_iqr_train.property_rooms < outlier_sup_bedrooms_iqr_train.property_rooms])}\")"
   ],
   "metadata": {
    "collapsed": false,
    "pycharm": {
     "name": "#%%\n"
    }
   }
  },
  {
   "cell_type": "code",
   "execution_count": null,
   "outputs": [],
   "source": [
    "# Train\n",
    "\n",
    "indice_outlier_train = outlier_sup_bedrooms_iqr_train.index\n",
    "ds_train.drop(indice_outlier_train, inplace=True)\n",
    "print(f\"Se han eliminado: {len(indice_outlier_train)} registros en train\")\n",
    "\n",
    "# Test\n",
    "\n",
    "indice_outlier_test = outlier_sup_bedrooms_iqr_test.index\n",
    "ds_test.drop(indice_outlier_test, inplace=True)\n",
    "print(f\"Se han eliminado: {len(indice_outlier_test)} registros en test\")"
   ],
   "metadata": {
    "collapsed": false,
    "pycharm": {
     "name": "#%%\n"
    }
   }
  },
  {
   "cell_type": "code",
   "execution_count": null,
   "outputs": [],
   "source": [
    "sns.boxplot(y=ds_train.property_bedrooms)\n",
    "plt.show()"
   ],
   "metadata": {
    "collapsed": false,
    "pycharm": {
     "name": "#%%\n"
    }
   }
  },
  {
   "cell_type": "markdown",
   "source": [
    "**Superficie Total**"
   ],
   "metadata": {
    "collapsed": false,
    "pycharm": {
     "name": "#%% md\n"
    }
   }
  },
  {
   "cell_type": "code",
   "execution_count": null,
   "outputs": [],
   "source": [
    "calculate_univariate_iqr(ds_train.property_surface_total, ds_train)"
   ],
   "metadata": {
    "collapsed": false,
    "pycharm": {
     "name": "#%%\n"
    }
   }
  },
  {
   "cell_type": "code",
   "execution_count": null,
   "outputs": [],
   "source": [
    "# Train\n",
    "\n",
    "indice_outlier_train = ds_train[ds_train.property_surface_total < 18].index\n",
    "ds_train.drop(indice_outlier_train, inplace=True)\n",
    "print(f\"Se han eliminado: {len(indice_outlier_train)} registros en train\")\n",
    "\n",
    "# Test\n",
    "\n",
    "indice_outlier_test = ds_test[ds_test.property_surface_total < 18].index\n",
    "ds_test.drop(indice_outlier_test, inplace=True)\n",
    "print(f\"Se han eliminado: {len(indice_outlier_test)} registros en test\")"
   ],
   "metadata": {
    "collapsed": false,
    "pycharm": {
     "name": "#%%\n"
    }
   }
  },
  {
   "cell_type": "code",
   "execution_count": null,
   "outputs": [],
   "source": [
    "inf, sup = boxplot_outliers_edges(ds_train.property_surface_total, False)\n",
    "print(f\"Nuestro rango intercuartil está comprendido entre: {inf}, {sup}\")"
   ],
   "metadata": {
    "collapsed": false,
    "pycharm": {
     "name": "#%%\n"
    }
   }
  },
  {
   "cell_type": "code",
   "execution_count": null,
   "outputs": [],
   "source": [
    "# Train\n",
    "\n",
    "outlier_inf_total_iqr_train = ds_train[ds_train['property_surface_total'] < -44]\n",
    "outlier_sup_total_iqr_train = ds_train[ds_train['property_surface_total'] > 191]\n",
    "print(\n",
    "    f\"Los outliers inf de sup total en train son: {len(outlier_inf_total_iqr_train)}. Constituyen al {(len(outlier_inf_total_iqr_train) * 100) // len(ds_train.property_surface_total)}% de los datos\")\n",
    "print(\n",
    "    f\"Los outliers sup de sup total en train son: {len(outlier_sup_total_iqr_train)}. Constituyen al {(len(outlier_sup_total_iqr_train) * 100) // len(ds_train.property_surface_total)}% de los datos\")\n",
    "\n",
    "# Test\n",
    "\n",
    "outlier_inf_total_iqr_test = ds_test[ds_test['property_surface_total'] < -44]\n",
    "outlier_sup_total_iqr_test = ds_test[ds_test['property_surface_total'] > 191]\n",
    "print(\n",
    "    f\"Los outliers inf de sup total en test son: {len(outlier_inf_total_iqr_test)}. Constituyen al {(len(outlier_inf_total_iqr_test) * 100) // len(ds_test.property_surface_total)}% de los datos\")\n",
    "print(\n",
    "    f\"Los outliers sup de sup total en test son: {len(outlier_sup_total_iqr_test)}. Constituyen al {(len(outlier_sup_total_iqr_test) * 100) // len(ds_test.property_surface_total)}% de los datos\")"
   ],
   "metadata": {
    "collapsed": false,
    "pycharm": {
     "name": "#%%\n"
    }
   }
  },
  {
   "cell_type": "code",
   "execution_count": null,
   "outputs": [],
   "source": [
    "boxplot_with_outliers(ds_train, ds_train.property_surface_total.name)"
   ],
   "metadata": {
    "collapsed": false,
    "pycharm": {
     "name": "#%%\n"
    }
   }
  },
  {
   "cell_type": "code",
   "execution_count": null,
   "outputs": [],
   "source": [
    "property_surface_grouped = pd.cut(outlier_sup_total_iqr_train.property_surface_total,\n",
    "                                  bins=[0, 272, 500, 750, 1000, float(\"inf\")],\n",
    "                                  labels=[\"0-272\", \"272-500\", \"500-750\", \"750-1000\", \"1000-inf\"], include_lowest=True)\n",
    "print(property_surface_grouped.value_counts())\n",
    "ax = property_surface_grouped.value_counts().plot.barh(alpha=0.5, color=colores,\n",
    "                                                       title=\"Distribucion de los outliers superiores de la superficie total\",\n",
    "                                                       xlabel=\"Rango de superficie\", ylabel=\"Frecuencia\")"
   ],
   "metadata": {
    "collapsed": false,
    "pycharm": {
     "name": "#%%\n"
    }
   }
  },
  {
   "cell_type": "code",
   "execution_count": null,
   "outputs": [],
   "source": [
    "surface_median = ds_train[ds_train.property_type == 'Casa'].property_surface_total.median()\n",
    "print(\n",
    "    f\"Si bien la mediana de la superficite total es {surface_median} y limite superior de outliers severos es 272, consideramos que sigue siendo un valor válido, por lo tanto, descartaremos los valores mayores a 500\")\n",
    "    \n",
    "    \n",
    "    "
   ],
   "metadata": {
    "collapsed": false,
    "pycharm": {
     "name": "#%%\n"
    }
   }
  },
  {
   "cell_type": "code",
   "execution_count": null,
   "outputs": [],
   "source": [
    "# Train\n",
    "\n",
    "outlier_sup_total_500_train = ds_train[ds_train['property_surface_total'] > 500]\n",
    "print(\n",
    "    f\"Los outliers superiores de sup total en train son: {len(ds_train[ds_train['property_surface_total'] > 500])}. Constituyen al {(len(ds_train[ds_train['property_surface_total'] > 500]) * 100) // len(ds_train.property_surface_total)}% de los datos\")\n",
    "\n",
    "# Test\n",
    "\n",
    "outlier_sup_total_500_test = ds_test[ds_test['property_surface_total'] > 500]\n",
    "print(\n",
    "    f\"Los outliers superiores de sup total en test son: {len(ds_test[ds_test['property_surface_total'] > 500])}. Constituyen al {(len(ds_test[ds_test['property_surface_total'] > 500]) * 100) // len(ds_test.property_surface_total)}% de los datos\")\n",
    "\n",
    "\n"
   ],
   "metadata": {
    "collapsed": false,
    "pycharm": {
     "name": "#%%\n"
    }
   }
  },
  {
   "cell_type": "code",
   "execution_count": null,
   "outputs": [],
   "source": [
    "boxplot_with_outliers(ds_train, 'property_surface_total')"
   ],
   "metadata": {
    "collapsed": false,
    "pycharm": {
     "name": "#%%\n"
    }
   }
  },
  {
   "cell_type": "code",
   "execution_count": null,
   "outputs": [],
   "source": [
    "# Train\n",
    "\n",
    "indice_outlier_train = outlier_sup_total_500_train.index\n",
    "ds_train.drop(indice_outlier_train, inplace=True)\n",
    "print(f\"Se han eliminado: {len(indice_outlier_train)} registros en train\")\n",
    "\n",
    "# Test\n",
    "\n",
    "indice_outlier_test = outlier_sup_total_500_test.index\n",
    "ds_test.drop(indice_outlier_test, inplace=True)\n",
    "print(f\"Se han eliminado: {len(indice_outlier_test)} registros en test\")"
   ],
   "metadata": {
    "collapsed": false,
    "pycharm": {
     "name": "#%%\n"
    }
   }
  },
  {
   "cell_type": "code",
   "execution_count": null,
   "outputs": [],
   "source": [
    "sns.boxplot(y=ds_train.property_surface_total)\n",
    "plt.show()"
   ],
   "metadata": {
    "collapsed": false,
    "pycharm": {
     "name": "#%%\n"
    }
   }
  },
  {
   "cell_type": "markdown",
   "source": [
    "**Superficie cubierta**"
   ],
   "metadata": {
    "collapsed": false,
    "pycharm": {
     "name": "#%% md\n"
    }
   }
  },
  {
   "cell_type": "code",
   "execution_count": null,
   "outputs": [],
   "source": [
    "calculate_univariate_iqr(ds_train.property_surface_covered, ds_train)"
   ],
   "metadata": {
    "collapsed": false,
    "pycharm": {
     "name": "#%%\n"
    }
   }
  },
  {
   "cell_type": "code",
   "execution_count": null,
   "outputs": [],
   "source": [
    "# Train\n",
    "\n",
    "outlier_inf_covered_iqr_train = ds_train[ds_train['property_surface_covered'] < 0]\n",
    "outlier_sup_covered_iqr_train = ds_train[ds_train['property_surface_covered'] > 155]\n",
    "print(\n",
    "    f\"Los outliers inf de sup cubierta en train son: {len(outlier_inf_covered_iqr_train)}. Constituyen al {(len(outlier_inf_covered_iqr_train) * 100) // len(ds_train.property_surface_covered)}% de los datos\")\n",
    "print(\n",
    "    f\"Los outliers sup de sup cubierta en train son: {len(outlier_sup_covered_iqr_train)}. Constituyen al {(len(outlier_sup_covered_iqr_train) * 100) // len(ds_train.property_surface_covered)}% de los datos\")\n",
    "\n",
    "# Test\n",
    "\n",
    "outlier_inf_covered_iqr_test = ds_test[ds_test['property_surface_covered'] < 0]\n",
    "outlier_sup_covered_iqr_test = ds_test[ds_test['property_surface_covered'] > 155]\n",
    "print(\n",
    "    f\"Los outliers inf de sup cubierta en test son: {len(outlier_inf_covered_iqr_test)}. Constituyen al {(len(outlier_inf_covered_iqr_test) * 100) // len(ds_test.property_surface_covered)}% de los datos\")\n",
    "print(\n",
    "    f\"Los outliers sup de sup cubierta en test son: {len(outlier_sup_covered_iqr_test)}. Constituyen al {(len(outlier_sup_covered_iqr_test) * 100) // len(ds_test.property_surface_covered)}% de los datos\")"
   ],
   "metadata": {
    "collapsed": false,
    "pycharm": {
     "name": "#%%\n"
    }
   }
  },
  {
   "cell_type": "code",
   "execution_count": null,
   "outputs": [],
   "source": [
    "boxplot_with_outliers(ds_train, 'property_surface_covered')"
   ],
   "metadata": {
    "collapsed": false,
    "pycharm": {
     "name": "#%%\n"
    }
   }
  },
  {
   "cell_type": "code",
   "execution_count": null,
   "outputs": [],
   "source": [
    "boxplot_with_outliers(ds_train[ds_train.property_surface_covered < 750], 'property_surface_covered')"
   ],
   "metadata": {
    "collapsed": false,
    "pycharm": {
     "name": "#%%\n"
    }
   }
  },
  {
   "cell_type": "code",
   "execution_count": null,
   "outputs": [],
   "source": [
    "surface_total_grouped = pd.cut(outlier_sup_total_iqr_train.property_surface_covered,\n",
    "                               bins=[0, 224, 500, 750, 1000, float(\"inf\")],\n",
    "                               labels=[\"0-224\", \"224-500\", \"500-750\", \"750-1000\", \"1000-inf\"], include_lowest=True)\n",
    "print(surface_total_grouped.value_counts())\n",
    "ax = surface_total_grouped.value_counts().plot.barh(alpha=0.5, color=colores,\n",
    "                                                    title=\"Distribucion de los outliers superiores de la superficie cubierta\",\n",
    "                                                    xlabel=\"Rango de superficie\", ylabel=\"Frecuencia\")"
   ],
   "metadata": {
    "collapsed": false,
    "pycharm": {
     "name": "#%%\n"
    }
   }
  },
  {
   "cell_type": "code",
   "execution_count": null,
   "outputs": [],
   "source": [
    "# Train\n",
    "\n",
    "outlier_sup_cubierta_500 = ds_train[ds_train['property_surface_covered'] > 500]\n",
    "indice_outlier_train = outlier_sup_cubierta_500.index\n",
    "ds_train.drop(indice_outlier_train, inplace=True)\n",
    "print(f\"Se han eliminado: {len(indice_outlier_train)} registros en train\")\n",
    "\n",
    "# Test\n",
    "\n",
    "outlier_sup_cubierta_500 = ds_test[ds_test['property_surface_covered'] > 500]\n",
    "indice_outlier_test = outlier_sup_cubierta_500.index\n",
    "ds_test.drop(indice_outlier_test, inplace=True)\n",
    "print(f\"Se han eliminado: {len(indice_outlier_test)} registros en test\")"
   ],
   "metadata": {
    "collapsed": false,
    "pycharm": {
     "name": "#%%\n"
    }
   }
  },
  {
   "cell_type": "code",
   "execution_count": null,
   "outputs": [],
   "source": [
    "sns.boxplot(y=ds_train.property_surface_covered)\n",
    "plt.show()"
   ],
   "metadata": {
    "collapsed": false,
    "pycharm": {
     "name": "#%%\n"
    }
   }
  },
  {
   "cell_type": "markdown",
   "source": [
    "**Latitud y longitud**"
   ],
   "metadata": {
    "collapsed": false,
    "pycharm": {
     "name": "#%% md\n"
    }
   }
  },
  {
   "cell_type": "code",
   "execution_count": null,
   "outputs": [],
   "source": [
    "calculate_univariate_iqr(ds_train.latitud, ds_train)"
   ],
   "metadata": {
    "collapsed": false,
    "pycharm": {
     "name": "#%%\n"
    }
   }
  },
  {
   "cell_type": "code",
   "execution_count": null,
   "outputs": [],
   "source": [
    "calculate_univariate_iqr(ds_train.longitud, ds_train)"
   ],
   "metadata": {
    "collapsed": false,
    "pycharm": {
     "name": "#%%\n"
    }
   }
  },
  {
   "cell_type": "code",
   "execution_count": null,
   "outputs": [],
   "source": [
    "# Train\n",
    "\n",
    "outlier_inf_latitud_iqr_train = ds_train[ds_train['latitud'] < -34]\n",
    "outlier_sup_latitud_iqr_train = ds_train[ds_train['latitud'] > -34]\n",
    "print(\n",
    "    f\"Los outliers inf de latitud en train son: {len(outlier_inf_latitud_iqr_train)}. Constituyen al {(len(outlier_inf_latitud_iqr_train) * 100) // len(ds_train.latitud)}% de los datos\")\n",
    "print(\n",
    "    f\"Los outliers sup de latitud en train son: {len(outlier_sup_latitud_iqr_train)}. Constituyen al {(len(outlier_sup_latitud_iqr_train) * 100) // len(ds_train.latitud)}% de los datos\")\n",
    "\n",
    "# Test\n",
    "\n",
    "outlier_inf_latitud_iqr_test = ds_test[ds_test['latitud'] < -34]\n",
    "outlier_sup_latitud_iqr_test = ds_test[ds_test['latitud'] > -34]\n",
    "print(\n",
    "    f\"Los outliers inf de latitud en test son: {len(outlier_inf_latitud_iqr_test)}. Constituyen al {(len(outlier_inf_latitud_iqr_test) * 100) // len(ds_test.latitud)}% de los datos\")\n",
    "print(\n",
    "    f\"Los outliers sup de latitud en test son: {len(outlier_sup_latitud_iqr_test)}. Constituyen al {(len(outlier_sup_latitud_iqr_test) * 100) // len(ds_test.latitud)}% de los datos\")"
   ],
   "metadata": {
    "collapsed": false,
    "pycharm": {
     "name": "#%%\n"
    }
   }
  },
  {
   "cell_type": "markdown",
   "source": [
    "#### Metodo Z score"
   ],
   "metadata": {
    "collapsed": false,
    "pycharm": {
     "name": "#%% md\n"
    }
   }
  },
  {
   "cell_type": "code",
   "execution_count": null,
   "outputs": [],
   "source": [
    "def calculate_zscore_st(dataset, column):\n",
    "    dataset_copy = dataset.copy()\n",
    "    media = np.mean(column)\n",
    "    std = np.std(column)\n",
    "    dataset_copy[f'z_{column.name}'] = (column - media) / std\n",
    "    return dataset_copy"
   ],
   "metadata": {
    "collapsed": false,
    "pycharm": {
     "name": "#%%\n"
    }
   }
  },
  {
   "cell_type": "markdown",
   "source": [
    "**Ambientes**"
   ],
   "metadata": {
    "collapsed": false,
    "pycharm": {
     "name": "#%% md\n"
    }
   }
  },
  {
   "cell_type": "code",
   "execution_count": null,
   "outputs": [],
   "source": [
    "z_rooms_ds = calculate_zscore_st(ds_train, ds_train.property_rooms)"
   ],
   "metadata": {
    "collapsed": false,
    "pycharm": {
     "name": "#%%\n"
    }
   }
  },
  {
   "cell_type": "code",
   "execution_count": null,
   "outputs": [],
   "source": [
    "# Train\n",
    "\n",
    "print(\n",
    "    f\"Los outliers sup de rooms en train son: {len(z_rooms_ds[z_rooms_ds['z_property_rooms'] > 3])}. Constituyen al {(len(z_rooms_ds[z_rooms_ds['z_property_rooms'] > 3]) * 100) // len(ds_train.property_rooms)}% de los datos\")\n",
    "print(\n",
    "    f\"Los outliers inf de rooms en train son: {len(z_rooms_ds[z_rooms_ds['z_property_rooms'] < -3])}. Constituyen al {(len(z_rooms_ds[z_rooms_ds['z_property_rooms'] < -3]) * 100) // len(ds_train.property_rooms)}% de los datos\")\n",
    "\n",
    "# Test\n",
    "\n",
    "print(\n",
    "    f\"Los outliers sup de rooms en test son: {len(z_rooms_ds[z_rooms_ds['z_property_rooms'] > 3])}. Constituyen al {(len(z_rooms_ds[z_rooms_ds['z_property_rooms'] > 3]) * 100) // len(ds_test.property_rooms)}% de los datos\")\n",
    "print(\n",
    "    f\"Los outliers inf de rooms en test son: {len(z_rooms_ds[z_rooms_ds['z_property_rooms'] < -3])}. Constituyen al {(len(z_rooms_ds[z_rooms_ds['z_property_rooms'] > 3]) * 100) // len(ds_test.property_rooms)}% de los datos\")"
   ],
   "metadata": {
    "collapsed": false,
    "pycharm": {
     "name": "#%%\n"
    }
   }
  },
  {
   "cell_type": "code",
   "execution_count": null,
   "outputs": [],
   "source": [
    "plt.hist(z_rooms_ds.z_property_rooms)\n",
    "plt.title('Histograma Z-Score Rooms')\n",
    "plt.xlabel('Z-Score Rooms')\n",
    "plt.show()"
   ],
   "metadata": {
    "collapsed": false,
    "pycharm": {
     "name": "#%%\n"
    }
   }
  },
  {
   "cell_type": "markdown",
   "source": [
    "**Habitaciones**"
   ],
   "metadata": {
    "collapsed": false,
    "pycharm": {
     "name": "#%% md\n"
    }
   }
  },
  {
   "cell_type": "code",
   "execution_count": null,
   "outputs": [],
   "source": [
    "z_bedrooms_ds = calculate_zscore_st(ds_train, ds_train.property_bedrooms)"
   ],
   "metadata": {
    "collapsed": false,
    "pycharm": {
     "name": "#%%\n"
    }
   }
  },
  {
   "cell_type": "code",
   "execution_count": null,
   "outputs": [],
   "source": [
    "# Train\n",
    "\n",
    "print(\n",
    "    f\"Los outliers sup de bedrooms en train son: {len(z_bedrooms_ds[z_bedrooms_ds['z_property_bedrooms'] > 3])}.Constituyen al {(len(z_bedrooms_ds[z_bedrooms_ds['z_property_bedrooms'] > 3]) * 100) // len(ds_train.property_bedrooms)}% de los datos\")\n",
    "z_bedrooms_ds[z_bedrooms_ds['z_property_bedrooms'] > 3]\n",
    "\n",
    "print(\n",
    "    f\"Los outliers sup de bedrooms en test son: {len(z_bedrooms_ds[z_bedrooms_ds['z_property_bedrooms'] > 3])}.Constituyen al {(len(z_bedrooms_ds[z_bedrooms_ds['z_property_bedrooms'] > 3]) * 100) // len(ds_test.property_bedrooms)}% de los datos\")\n",
    "z_bedrooms_ds[z_bedrooms_ds['z_property_bedrooms'] > 3]"
   ],
   "metadata": {
    "collapsed": false,
    "pycharm": {
     "name": "#%%\n"
    }
   }
  },
  {
   "cell_type": "code",
   "execution_count": null,
   "outputs": [],
   "source": [
    "# Train\n",
    "\n",
    "print(\n",
    "    f\"Los outliers inf de bedrooms en train son: {len(z_bedrooms_ds[z_bedrooms_ds['z_property_bedrooms'] < -3])}.Constituyen al {(len(z_bedrooms_ds[z_bedrooms_ds['z_property_bedrooms'] < -3]) * 100) // len(ds_train.property_bedrooms)}% de los datos\")\n",
    "z_bedrooms_ds[z_bedrooms_ds['z_property_bedrooms'] < -3]\n",
    "\n",
    "# Test\n",
    "\n",
    "print(\n",
    "    f\"Los outliers inf de bedrooms en test son: {len(z_bedrooms_ds[z_bedrooms_ds['z_property_bedrooms'] < -3])}.Constituyen al {(len(z_bedrooms_ds[z_bedrooms_ds['z_property_bedrooms'] < -3]) * 100) // len(ds_test.property_bedrooms)}% de los datos\")\n",
    "z_bedrooms_ds[z_bedrooms_ds['z_property_bedrooms'] < -3]"
   ],
   "metadata": {
    "collapsed": false,
    "pycharm": {
     "name": "#%%\n"
    }
   }
  },
  {
   "cell_type": "code",
   "execution_count": null,
   "outputs": [],
   "source": [
    "plt.hist(z_bedrooms_ds.z_property_bedrooms)\n",
    "plt.title('Histograma Z-Score Bedrooms')\n",
    "plt.xlabel('Z-Score Bedrooms')\n",
    "plt.show()"
   ],
   "metadata": {
    "collapsed": false,
    "pycharm": {
     "name": "#%%\n"
    }
   }
  },
  {
   "cell_type": "markdown",
   "source": [
    "**Superficie Total**"
   ],
   "metadata": {
    "collapsed": false,
    "pycharm": {
     "name": "#%% md\n"
    }
   }
  },
  {
   "cell_type": "code",
   "execution_count": null,
   "outputs": [],
   "source": [
    "z_total_ds = calculate_zscore_st(ds_train, ds_train.property_surface_total)"
   ],
   "metadata": {
    "collapsed": false,
    "pycharm": {
     "name": "#%%\n"
    }
   }
  },
  {
   "cell_type": "code",
   "execution_count": null,
   "outputs": [],
   "source": [
    "# Train\n",
    "\n",
    "print(\n",
    "    f\"Los outliers superiores de sup total en train son: {len(z_total_ds[z_total_ds['z_property_surface_total'] > 3])}. Constituyen al {(len(z_total_ds[z_total_ds['z_property_surface_total'] > 3]) * 100) // len(ds_train.property_surface_total)}% de los datos\")\n",
    "z_total_ds[z_total_ds['z_property_surface_total'] > 3].head()\n",
    "\n",
    "# Test\n",
    "\n",
    "print(\n",
    "    f\"Los outliers superiores de sup total en test son: {len(z_total_ds[z_total_ds['z_property_surface_total'] > 3])}. Constituyen al {(len(z_total_ds[z_total_ds['z_property_surface_total'] > 3]) * 100) // len(ds_test.property_surface_total)}% de los datos\")\n",
    "z_total_ds[z_total_ds['z_property_surface_total'] > 3].head()"
   ],
   "metadata": {
    "collapsed": false,
    "pycharm": {
     "name": "#%%\n"
    }
   }
  },
  {
   "cell_type": "code",
   "execution_count": null,
   "outputs": [],
   "source": [
    "# Train\n",
    "\n",
    "print(\n",
    "    f\"Los outliers inf de sup total en train son: {len(z_total_ds[z_total_ds['z_property_surface_total'] < -3])}. Constituyen al {(len(z_total_ds[z_total_ds['z_property_surface_total'] < -3]) * 100) // len(ds_train.property_surface_total)}% de los datos\")\n",
    "z_total_ds[z_total_ds['z_property_surface_total'] < -3]\n",
    "\n",
    "# Test\n",
    "\n",
    "print(\n",
    "    f\"Los outliers inf de sup total en test son: {len(z_total_ds[z_total_ds['z_property_surface_total'] < -3])}. Constituyen al {(len(z_total_ds[z_total_ds['z_property_surface_total'] < -3]) * 100) // len(ds_test.property_surface_total)}% de los datos\")\n",
    "z_total_ds[z_total_ds['z_property_surface_total'] < -3]"
   ],
   "metadata": {
    "collapsed": false,
    "pycharm": {
     "name": "#%%\n"
    }
   }
  },
  {
   "cell_type": "code",
   "execution_count": null,
   "outputs": [],
   "source": [
    "plt.hist(z_total_ds.z_property_surface_total)\n",
    "plt.title('Histograma Z-Score Surface Total')\n",
    "plt.xlabel('Z-Score Surface Total')\n",
    "plt.show()"
   ],
   "metadata": {
    "collapsed": false,
    "pycharm": {
     "name": "#%%\n"
    }
   }
  },
  {
   "cell_type": "markdown",
   "source": [
    "**Superficie Cubierta**"
   ],
   "metadata": {
    "collapsed": false,
    "pycharm": {
     "name": "#%% md\n"
    }
   }
  },
  {
   "cell_type": "code",
   "execution_count": null,
   "outputs": [],
   "source": [
    "z_covered_ds = calculate_zscore_st(ds_train, ds_train.property_surface_covered)"
   ],
   "metadata": {
    "collapsed": false,
    "pycharm": {
     "name": "#%%\n"
    }
   }
  },
  {
   "cell_type": "code",
   "execution_count": null,
   "outputs": [],
   "source": [
    "# Train\n",
    "\n",
    "print(\n",
    "    f\"Los outliers superiores de sup cubierta en train son: {len(z_covered_ds[z_covered_ds['z_property_surface_covered'] > 3])}. Constituyen al {(len(z_covered_ds[z_covered_ds['z_property_surface_covered'] > 3]) * 100) // len(ds_train.property_surface_covered)}% de los datos\")\n",
    "z_covered_ds[z_covered_ds['z_property_surface_covered'] > 3]\n",
    "\n",
    "# Test\n",
    "\n",
    "print(\n",
    "    f\"Los outliers superiores de sup cubierta en test son: {len(z_covered_ds[z_covered_ds['z_property_surface_covered'] > 3])}. Constituyen al {(len(z_covered_ds[z_covered_ds['z_property_surface_covered'] > 3]) * 100) // len(ds_test.property_surface_covered)}% de los datos\")\n",
    "z_covered_ds[z_covered_ds['z_property_surface_covered'] > 3]"
   ],
   "metadata": {
    "collapsed": false,
    "pycharm": {
     "name": "#%%\n"
    }
   }
  },
  {
   "cell_type": "code",
   "execution_count": null,
   "outputs": [],
   "source": [
    "# Train\n",
    "\n",
    "print(\n",
    "    f\"Los outliers inferiores de sup cubierta en train son: {len(z_covered_ds[z_covered_ds['z_property_surface_covered'] < -3])}. Constituyen al {(len(z_covered_ds[z_covered_ds['z_property_surface_covered'] < -3]) * 100) // len(ds_train.property_surface_covered)}% de los datos\")\n",
    "z_covered_ds[z_covered_ds['z_property_surface_covered'] < -3]\n",
    "\n",
    "# Test\n",
    "\n",
    "print(\n",
    "    f\"Los outliers inferiores de sup cubierta en test son: {len(z_covered_ds[z_covered_ds['z_property_surface_covered'] < -3])}. Constituyen al {(len(z_covered_ds[z_covered_ds['z_property_surface_covered'] < -3]) * 100) // len(ds_test.property_surface_covered)}% de los datos\")\n",
    "z_covered_ds[z_covered_ds['z_property_surface_covered'] < -3]"
   ],
   "metadata": {
    "collapsed": false,
    "pycharm": {
     "name": "#%%\n"
    }
   }
  },
  {
   "cell_type": "code",
   "execution_count": null,
   "outputs": [],
   "source": [
    "plt.hist(z_covered_ds.z_property_surface_covered)\n",
    "plt.title('Histograma Z-Score Surface Covered')\n",
    "plt.xlabel('Z-Score Surface Covered')\n",
    "plt.show()"
   ],
   "metadata": {
    "collapsed": false,
    "pycharm": {
     "name": "#%%\n"
    }
   }
  },
  {
   "cell_type": "markdown",
   "source": [
    "**Latitud y Longitud**"
   ],
   "metadata": {
    "collapsed": false,
    "pycharm": {
     "name": "#%% md\n"
    }
   }
  },
  {
   "cell_type": "code",
   "execution_count": null,
   "outputs": [],
   "source": [
    "z_latitud_ds = calculate_zscore_st(ds_train, ds_train.latitud)"
   ],
   "metadata": {
    "collapsed": false,
    "pycharm": {
     "name": "#%%\n"
    }
   }
  },
  {
   "cell_type": "code",
   "execution_count": null,
   "outputs": [],
   "source": [
    "# Train\n",
    "\n",
    "print(\n",
    "    f\"Los outliers superiores de latitud en train son: {len(z_latitud_ds[z_latitud_ds['z_latitud'] > 3])}. Constituyen al {(len(z_latitud_ds[z_latitud_ds['z_latitud'] > 3]) * 100) // len(ds_train.latitud)}% de los datos\")\n",
    "z_latitud_ds[z_latitud_ds['z_latitud'] > 3]\n",
    "\n",
    "# Test\n",
    "\n",
    "print(\n",
    "    f\"Los outliers superiores de latitud en test son: {len(z_latitud_ds[z_latitud_ds['z_latitud'] > 3])}. Constituyen al {(len(z_latitud_ds[z_latitud_ds['z_latitud'] > 3]) * 100) // len(ds_test.latitud)}% de los datos\")\n",
    "z_latitud_ds[z_latitud_ds['z_latitud'] > 3]"
   ],
   "metadata": {
    "collapsed": false,
    "pycharm": {
     "name": "#%%\n"
    }
   }
  },
  {
   "cell_type": "code",
   "execution_count": null,
   "outputs": [],
   "source": [
    "# Train\n",
    "\n",
    "print(\n",
    "    f\"Los outliers inferiores de latitud en train son: {len(z_latitud_ds[z_latitud_ds['z_latitud'] < -3])}. Constituyen al {(len(z_latitud_ds[z_latitud_ds['z_latitud'] < -3]) * 100) // len(ds_train.latitud)}% de los datos\")\n",
    "z_latitud_ds[z_latitud_ds['z_latitud'] < -3]\n",
    "\n",
    "# Test\n",
    "\n",
    "print(\n",
    "    f\"Los outliers inferiores de latitud en test son: {len(z_latitud_ds[z_latitud_ds['z_latitud'] < -3])}. Constituyen al {(len(z_latitud_ds[z_latitud_ds['z_latitud'] < -3]) * 100) // len(ds_test.latitud)}% de los datos\")\n",
    "z_latitud_ds[z_latitud_ds['z_latitud'] < -3]"
   ],
   "metadata": {
    "collapsed": false,
    "pycharm": {
     "name": "#%%\n"
    }
   }
  },
  {
   "cell_type": "code",
   "execution_count": null,
   "outputs": [],
   "source": [
    "plt.hist(z_latitud_ds.z_latitud)\n",
    "plt.title('Histograma Z-Score Latitud')\n",
    "plt.xlabel('Z-Score Latitud')\n",
    "plt.show()"
   ],
   "metadata": {
    "collapsed": false,
    "pycharm": {
     "name": "#%%\n"
    }
   }
  },
  {
   "cell_type": "code",
   "execution_count": null,
   "outputs": [],
   "source": [
    "z_longitud_ds = calculate_zscore_st(ds_train, ds_train.longitud)\n",
    "z_latitud_ds.head()"
   ],
   "metadata": {
    "collapsed": false,
    "pycharm": {
     "name": "#%%\n"
    }
   }
  },
  {
   "cell_type": "code",
   "execution_count": null,
   "outputs": [],
   "source": [
    "# Train\n",
    "\n",
    "print(\n",
    "    f\"Los outliers superiores de longitud en train son: {len(z_longitud_ds[z_longitud_ds['z_longitud'] > 3])}. Constituyen al {(len(z_longitud_ds[z_longitud_ds['z_longitud'] > 3]) * 100) // len(ds_train.longitud)}% de los datos\")\n",
    "z_longitud_ds[z_longitud_ds['z_longitud'] > 3]\n",
    "\n",
    "# Test\n",
    "\n",
    "print(\n",
    "    f\"Los outliers superiores de longitud en test son: {len(z_longitud_ds[z_longitud_ds['z_longitud'] > 3])}. Constituyen al {(len(z_longitud_ds[z_longitud_ds['z_longitud'] > 3]) * 100) // len(ds_test.longitud)}% de los datos\")\n",
    "z_longitud_ds[z_longitud_ds['z_longitud'] > 3]"
   ],
   "metadata": {
    "collapsed": false,
    "pycharm": {
     "name": "#%%\n"
    }
   }
  },
  {
   "cell_type": "code",
   "execution_count": null,
   "outputs": [],
   "source": [
    "# Train\n",
    "\n",
    "print(\n",
    "    f\"Los outliers inferiores de longitud en train son: {len(z_longitud_ds[z_longitud_ds['z_longitud'] < -3])}. Constituyen al {(len(z_longitud_ds[z_longitud_ds['z_longitud'] < -3]) * 100) // len(ds_train.longitud)}% de los datos\")\n",
    "z_longitud_ds[z_longitud_ds['z_longitud'] < -3]\n",
    "\n",
    "# Test\n",
    "\n",
    "print(\n",
    "    f\"Los outliers inferiores de longitud en test son: {len(z_longitud_ds[z_longitud_ds['z_longitud'] < -3])}. Constituyen al {(len(z_longitud_ds[z_longitud_ds['z_longitud'] < -3]) * 100) // len(ds_test.longitud)}% de los datos\")\n",
    "z_longitud_ds[z_longitud_ds['z_longitud'] < -3]"
   ],
   "metadata": {
    "collapsed": false,
    "pycharm": {
     "name": "#%%\n"
    }
   }
  },
  {
   "cell_type": "code",
   "execution_count": null,
   "outputs": [],
   "source": [
    "plt.hist(z_longitud_ds.z_longitud)\n",
    "plt.title('Histograma Z-Score Longitud')\n",
    "plt.xlabel('Z-Score Longitud')\n",
    "plt.show()"
   ],
   "metadata": {
    "collapsed": false,
    "pycharm": {
     "name": "#%%\n"
    }
   }
  },
  {
   "cell_type": "markdown",
   "source": [
    "**Metodo Z Score modificado**"
   ],
   "metadata": {
    "collapsed": false,
    "pycharm": {
     "name": "#%% md\n"
    }
   }
  },
  {
   "cell_type": "code",
   "execution_count": null,
   "outputs": [],
   "source": [
    "def calculate_modified_zscore_st(dataset, column):\n",
    "    new_df = dataset.copy()\n",
    "    mediana = column.median()\n",
    "    MAD = np.absolute(column - mediana).median()\n",
    "\n",
    "    new_df[f'zm_{column.name}'] = (column - mediana) * 0.6745 / MAD\n",
    "    return new_df"
   ],
   "metadata": {
    "collapsed": false,
    "pycharm": {
     "name": "#%%\n"
    }
   }
  },
  {
   "cell_type": "markdown",
   "source": [
    "**Ambientes**"
   ],
   "metadata": {
    "collapsed": false,
    "pycharm": {
     "name": "#%% md\n"
    }
   }
  },
  {
   "cell_type": "code",
   "execution_count": null,
   "outputs": [],
   "source": [
    "zm_rooms_ds = calculate_modified_zscore_st(ds_train, ds_train.property_rooms)"
   ],
   "metadata": {
    "collapsed": false,
    "pycharm": {
     "name": "#%%\n"
    }
   }
  },
  {
   "cell_type": "code",
   "execution_count": null,
   "outputs": [],
   "source": [
    "# Train\n",
    "\n",
    "print(\n",
    "    f\"Los outliers superiores de rooms en train son: {len(zm_rooms_ds[zm_rooms_ds['zm_property_rooms'] > 3.5])}. Constituyen al {(len(zm_rooms_ds[zm_rooms_ds['zm_property_rooms'] > 3.5]) * 100) // len(ds_train.property_rooms)}% de los datos\")\n",
    "zm_rooms_ds[zm_rooms_ds['zm_property_rooms'] > 3.5]\n",
    "\n",
    "# Test\n",
    "\n",
    "print(\n",
    "    f\"Los outliers superiores de rooms en test son: {len(zm_rooms_ds[zm_rooms_ds['zm_property_rooms'] > 3.5])}. Constituyen al {(len(zm_rooms_ds[zm_rooms_ds['zm_property_rooms'] > 3.5]) * 100) // len(ds_test.property_rooms)}% de los datos\")\n",
    "zm_rooms_ds[zm_rooms_ds['zm_property_rooms'] > 3.5]"
   ],
   "metadata": {
    "collapsed": false,
    "pycharm": {
     "name": "#%%\n"
    }
   }
  },
  {
   "cell_type": "code",
   "execution_count": null,
   "outputs": [],
   "source": [
    "# Train\n",
    "\n",
    "print(\n",
    "    f\"Los outliers inferiores de rooms en train son: {len(zm_rooms_ds[zm_rooms_ds['zm_property_rooms'] < -3.5])}. Constituyen al {(len(zm_rooms_ds[zm_rooms_ds['zm_property_rooms'] < -3.5]) * 100) // len(ds_train.property_rooms)}% de los datos\")\n",
    "zm_rooms_ds[zm_rooms_ds['zm_property_rooms'] < -3.5]\n",
    "\n",
    "# Test\n",
    "\n",
    "\n",
    "print(\n",
    "    f\"Los outliers inferiores de rooms en train son: {len(zm_rooms_ds[zm_rooms_ds['zm_property_rooms'] < -3.5])}. Constituyen al {(len(zm_rooms_ds[zm_rooms_ds['zm_property_rooms'] < -3.5]) * 100) // len(ds_test.property_rooms)}% de los datos\")\n",
    "zm_rooms_ds[zm_rooms_ds['zm_property_rooms'] < -3.5]"
   ],
   "metadata": {
    "collapsed": false,
    "pycharm": {
     "name": "#%%\n"
    }
   }
  },
  {
   "cell_type": "code",
   "execution_count": null,
   "outputs": [],
   "source": [
    "plt.hist(zm_rooms_ds.zm_property_rooms)\n",
    "plt.title('Histograma Z-Score Modificado Rooms')\n",
    "plt.xlabel('ZM-Score Rooms')\n",
    "plt.show()"
   ],
   "metadata": {
    "collapsed": false,
    "pycharm": {
     "name": "#%%\n"
    }
   }
  },
  {
   "cell_type": "markdown",
   "source": [
    "**Habitaciones**"
   ],
   "metadata": {
    "collapsed": false,
    "pycharm": {
     "name": "#%% md\n"
    }
   }
  },
  {
   "cell_type": "code",
   "execution_count": null,
   "outputs": [],
   "source": [
    "zm_bedrooms_ds = calculate_modified_zscore_st(ds_train, ds_train.property_bedrooms)"
   ],
   "metadata": {
    "collapsed": false,
    "pycharm": {
     "name": "#%%\n"
    }
   }
  },
  {
   "cell_type": "code",
   "execution_count": null,
   "outputs": [],
   "source": [
    "# Train\n",
    "\n",
    "print(\n",
    "    f\"Los outliers superiores de bedrooms en train son: {len(zm_bedrooms_ds[zm_bedrooms_ds['zm_property_bedrooms'] > 3.5])}. Constituyen al {(len(zm_bedrooms_ds[zm_bedrooms_ds['zm_property_bedrooms'] > 3.5]) * 100) // len(ds_train.property_bedrooms)}% de los datos\")\n",
    "zm_bedrooms_ds[zm_bedrooms_ds['zm_property_bedrooms'] > 3.5]\n",
    "\n",
    "# Test\n",
    "\n",
    "print(\n",
    "    f\"Los outliers superiores de bedrooms en test son: {len(zm_bedrooms_ds[zm_bedrooms_ds['zm_property_bedrooms'] > 3.5])}. Constituyen al {(len(zm_bedrooms_ds[zm_bedrooms_ds['zm_property_bedrooms'] > 3.5]) * 100) // len(ds_test.property_bedrooms)}% de los datos\")\n",
    "zm_bedrooms_ds[zm_bedrooms_ds['zm_property_bedrooms'] > 3.5]"
   ],
   "metadata": {
    "collapsed": false,
    "pycharm": {
     "name": "#%%\n"
    }
   }
  },
  {
   "cell_type": "code",
   "execution_count": null,
   "outputs": [],
   "source": [
    "# Train\n",
    "\n",
    "print(\n",
    "    f\"Los outliers inferiores de bedrooms en train son: {len(zm_bedrooms_ds[zm_bedrooms_ds['zm_property_bedrooms'] < -3.5])}. Constituyen al {(len(zm_bedrooms_ds[zm_bedrooms_ds['zm_property_bedrooms'] < -3.5]) * 100) // len(ds_train.property_bedrooms)}% de los datos\")\n",
    "zm_bedrooms_ds[zm_bedrooms_ds['zm_property_bedrooms'] < -3.5]\n",
    "\n",
    "# Test\n",
    "\n",
    "print(\n",
    "    f\"Los outliers inferiores de bedrooms en test son: {len(zm_bedrooms_ds[zm_bedrooms_ds['zm_property_bedrooms'] < -3.5])}. Constituyen al {(len(zm_bedrooms_ds[zm_bedrooms_ds['zm_property_bedrooms'] < -3.5]) * 100) // len(ds_test.property_bedrooms)}% de los datos\")\n",
    "zm_bedrooms_ds[zm_bedrooms_ds['zm_property_bedrooms'] < -3.5]"
   ],
   "metadata": {
    "collapsed": false,
    "pycharm": {
     "name": "#%%\n"
    }
   }
  },
  {
   "cell_type": "code",
   "execution_count": null,
   "outputs": [],
   "source": [
    "plt.hist(zm_bedrooms_ds.zm_property_bedrooms)\n",
    "plt.title('Histograma Z-Score Modificado Bedrooms')\n",
    "plt.xlabel('ZM-Score Bedrooms')\n",
    "plt.show()"
   ],
   "metadata": {
    "collapsed": false,
    "pycharm": {
     "name": "#%%\n"
    }
   }
  },
  {
   "cell_type": "markdown",
   "source": [
    "**Superficie Total**"
   ],
   "metadata": {
    "collapsed": false,
    "pycharm": {
     "name": "#%% md\n"
    }
   }
  },
  {
   "cell_type": "code",
   "execution_count": null,
   "outputs": [],
   "source": [
    "zm_total_ds = calculate_modified_zscore_st(ds_train, ds_train.property_surface_total)\n",
    "zm_total_ds.head()"
   ],
   "metadata": {
    "collapsed": false,
    "pycharm": {
     "name": "#%%\n"
    }
   }
  },
  {
   "cell_type": "code",
   "execution_count": null,
   "outputs": [],
   "source": [
    "# Train\n",
    "\n",
    "print(\n",
    "    f\"Los outliers superiores de sup total en train son: {len(zm_total_ds[zm_total_ds['zm_property_surface_total'] > 3.5])}. Constituyen al {(len(zm_total_ds[zm_total_ds['zm_property_surface_total'] > 3.5]) * 100) // len(ds_train.property_surface_total)}% de los datos\")\n",
    "zm_total_ds[zm_total_ds['zm_property_surface_total'] > 3.5]\n",
    "\n",
    "# Test\n",
    "\n",
    "print(\n",
    "    f\"Los outliers superiores de sup total en test son: {len(zm_total_ds[zm_total_ds['zm_property_surface_total'] > 3.5])}. Constituyen al {(len(zm_total_ds[zm_total_ds['zm_property_surface_total'] > 3.5]) * 100) // len(ds_test.property_surface_total)}% de los datos\")\n",
    "zm_total_ds[zm_total_ds['zm_property_surface_total'] > 3.5]"
   ],
   "metadata": {
    "collapsed": false,
    "pycharm": {
     "name": "#%%\n"
    }
   }
  },
  {
   "cell_type": "code",
   "execution_count": null,
   "outputs": [],
   "source": [
    "# Train\n",
    "\n",
    "print(\n",
    "    f\"Los outliers inferiores de sup total en train son: {len(zm_total_ds[zm_total_ds['zm_property_surface_total'] < -3.5])}. Constituyen al {(len(zm_total_ds[zm_total_ds['zm_property_surface_total'] < -3.5]) * 100) // len(ds_train.property_surface_total)}% de los datos\")\n",
    "zm_total_ds[zm_total_ds['zm_property_surface_total'] < -3.5]\n",
    "\n",
    "# Test\n",
    "\n",
    "print(\n",
    "    f\"Los outliers inferiores de sup total en test son: {len(zm_total_ds[zm_total_ds['zm_property_surface_total'] < -3.5])}. Constituyen al {(len(zm_total_ds[zm_total_ds['zm_property_surface_total'] < -3.5]) * 100) // len(ds_test.property_surface_total)}% de los datos\")\n",
    "zm_total_ds[zm_total_ds['zm_property_surface_total'] < -3.5]"
   ],
   "metadata": {
    "collapsed": false,
    "pycharm": {
     "name": "#%%\n"
    }
   }
  },
  {
   "cell_type": "code",
   "execution_count": null,
   "outputs": [],
   "source": [
    "plt.hist(zm_total_ds.zm_property_surface_total)\n",
    "plt.title('Histograma Z-Score Modificado Sup Total')\n",
    "plt.xlabel('ZM-Score Sup Total')\n",
    "plt.show()"
   ],
   "metadata": {
    "collapsed": false,
    "pycharm": {
     "name": "#%%\n"
    }
   }
  },
  {
   "cell_type": "markdown",
   "source": [
    "**Superficie Cubierta**"
   ],
   "metadata": {
    "collapsed": false,
    "pycharm": {
     "name": "#%% md\n"
    }
   }
  },
  {
   "cell_type": "code",
   "execution_count": null,
   "outputs": [],
   "source": [
    "zm_covered_ds = calculate_modified_zscore_st(ds_train, ds_train.property_surface_covered)"
   ],
   "metadata": {
    "collapsed": false,
    "pycharm": {
     "name": "#%%\n"
    }
   }
  },
  {
   "cell_type": "code",
   "execution_count": null,
   "outputs": [],
   "source": [
    "# Train\n",
    "\n",
    "print(\n",
    "    f\"Los outliers superiores de sup cubierta en train son: {(len(zm_covered_ds[zm_covered_ds['zm_property_surface_covered'] > 3.5]) * 100) // len(ds_train.property_surface_covered)}% de los datos\")\n",
    "zm_covered_ds[zm_covered_ds['zm_property_surface_covered'] > 3.5]\n",
    "\n",
    "# Test\n",
    "\n",
    "print(\n",
    "    f\"Los outliers superiores de sup cubierta en test son: {(len(zm_covered_ds[zm_covered_ds['zm_property_surface_covered'] > 3.5]) * 100) // len(ds_test.property_surface_covered)}% de los datos\")\n",
    "zm_covered_ds[zm_covered_ds['zm_property_surface_covered'] > 3.5]"
   ],
   "metadata": {
    "collapsed": false,
    "pycharm": {
     "name": "#%%\n"
    }
   }
  },
  {
   "cell_type": "code",
   "execution_count": null,
   "outputs": [],
   "source": [
    "# Train\n",
    "\n",
    "print(\n",
    "    f\"Los outliers inferiores de sup cubierta en train son: {len(zm_covered_ds[zm_covered_ds['zm_property_surface_covered'] < -3.5])}. Constituyen al {(len(zm_covered_ds[zm_covered_ds['zm_property_surface_covered'] < -3.5]) * 100) // len(ds_train.property_surface_covered)}% de los datos\")\n",
    "zm_covered_ds[zm_covered_ds['zm_property_surface_covered'] < -3.5]\n",
    "\n",
    "# Test\n",
    "\n",
    "print(\n",
    "    f\"Los outliers inferiores de sup cubierta en test son: {len(zm_covered_ds[zm_covered_ds['zm_property_surface_covered'] < -3.5])}. Constituyen al {(len(zm_covered_ds[zm_covered_ds['zm_property_surface_covered'] < -3.5]) * 100) // len(ds_test.property_surface_covered)}% de los datos\")\n",
    "zm_covered_ds[zm_covered_ds['zm_property_surface_covered'] < -3.5]"
   ],
   "metadata": {
    "collapsed": false,
    "pycharm": {
     "name": "#%%\n"
    }
   }
  },
  {
   "cell_type": "code",
   "execution_count": null,
   "outputs": [],
   "source": [
    "plt.hist(zm_covered_ds.zm_property_surface_covered)\n",
    "plt.title('Histograma Z-Score Modificado Sup Cubierta')\n",
    "plt.xlabel('ZM-Score Sup Cubierta')\n",
    "plt.show()"
   ],
   "metadata": {
    "collapsed": false,
    "pycharm": {
     "name": "#%%\n"
    }
   }
  },
  {
   "cell_type": "markdown",
   "source": [
    "**Latitud y longitud**"
   ],
   "metadata": {
    "collapsed": false,
    "pycharm": {
     "name": "#%% md\n"
    }
   }
  },
  {
   "cell_type": "code",
   "execution_count": null,
   "outputs": [],
   "source": [
    "zm_latitud_ds = calculate_modified_zscore_st(ds_train, ds_train.latitud)"
   ],
   "metadata": {
    "collapsed": false,
    "pycharm": {
     "name": "#%%\n"
    }
   }
  },
  {
   "cell_type": "code",
   "execution_count": null,
   "outputs": [],
   "source": [
    "# Train\n",
    "\n",
    "print(\n",
    "    f\"Los outliers superiores de latitud son: {(len(zm_latitud_ds[zm_latitud_ds['zm_latitud'] > 3.5]) * 100) // len(ds_train.latitud)}% de los datos\")\n",
    "zm_latitud_ds[zm_latitud_ds['zm_latitud'] > 3.5]\n",
    "\n",
    "# Test\n",
    "\n",
    "print(\n",
    "    f\"Los outliers superiores de latitud son: {(len(zm_latitud_ds[zm_latitud_ds['zm_latitud'] > 3.5]) * 100) // len(ds_test.latitud)}% de los datos\")\n",
    "zm_latitud_ds[zm_latitud_ds['zm_latitud'] > 3.5]"
   ],
   "metadata": {
    "collapsed": false,
    "pycharm": {
     "name": "#%%\n"
    }
   }
  },
  {
   "cell_type": "code",
   "execution_count": null,
   "outputs": [],
   "source": [
    "# Train\n",
    "\n",
    "print(\n",
    "    f\"Los outliers inferiores de sup cubierta en train son: {len(zm_latitud_ds[zm_latitud_ds['zm_latitud'] < -3.5])}. Constituyen al {(len(zm_latitud_ds[zm_latitud_ds['zm_latitud'] < -3.5]) * 100) // len(ds_train.latitud)}% de los datos\")\n",
    "zm_latitud_ds[zm_latitud_ds['zm_latitud'] < -3.5]\n",
    "\n",
    "# Test\n",
    "\n",
    "print(\n",
    "    f\"Los outliers inferiores de sup cubierta en test son: {len(zm_latitud_ds[zm_latitud_ds['zm_latitud'] < -3.5])}. Constituyen al {(len(zm_latitud_ds[zm_latitud_ds['zm_latitud'] < -3.5]) * 100) // len(ds_test.latitud)}% de los datos\")\n",
    "zm_latitud_ds[zm_latitud_ds['zm_latitud'] < -3.5]"
   ],
   "metadata": {
    "collapsed": false,
    "pycharm": {
     "name": "#%%\n"
    }
   }
  },
  {
   "cell_type": "code",
   "execution_count": null,
   "outputs": [],
   "source": [
    "plt.hist(zm_latitud_ds.zm_latitud)\n",
    "plt.title('Histograma Z-Score Modificado Latitud')\n",
    "plt.xlabel('ZM-Score Latitud')\n",
    "plt.show()"
   ],
   "metadata": {
    "collapsed": false,
    "pycharm": {
     "name": "#%%\n"
    }
   }
  },
  {
   "cell_type": "code",
   "execution_count": null,
   "outputs": [],
   "source": [
    "zm_longitud_ds = calculate_modified_zscore_st(ds_train, ds_train.longitud)"
   ],
   "metadata": {
    "collapsed": false,
    "pycharm": {
     "name": "#%%\n"
    }
   }
  },
  {
   "cell_type": "code",
   "execution_count": null,
   "outputs": [],
   "source": [
    "# Train\n",
    "\n",
    "print(\n",
    "    f\"Los outliers superiores de longitud en train son: {(len(zm_longitud_ds[zm_longitud_ds['zm_longitud'] > 3.5]) * 100) // len(ds_train.longitud)}% de los datos\")\n",
    "zm_longitud_ds[zm_longitud_ds['zm_longitud'] > 3.5]\n",
    "\n",
    "# Test\n",
    "\n",
    "print(\n",
    "    f\"Los outliers superiores de longitud en test son: {(len(zm_longitud_ds[zm_longitud_ds['zm_longitud'] > 3.5]) * 100) // len(ds_test.longitud)}% de los datos\")\n",
    "zm_longitud_ds[zm_longitud_ds['zm_longitud'] > 3.5]"
   ],
   "metadata": {
    "collapsed": false,
    "pycharm": {
     "name": "#%%\n"
    }
   }
  },
  {
   "cell_type": "code",
   "execution_count": null,
   "outputs": [],
   "source": [
    "# Train\n",
    "\n",
    "print(\n",
    "    f\"Los outliers inferiores de longitud en train son: {len(zm_longitud_ds[zm_longitud_ds['zm_longitud'] < -3.5])}. Constituyen al {(len(zm_longitud_ds[zm_longitud_ds['zm_longitud'] < -3.5]) * 100) // len(ds_train.longitud)}% de los datos\")\n",
    "zm_longitud_ds[zm_longitud_ds['zm_longitud'] < -3.5]\n",
    "\n",
    "# Test\n",
    "\n",
    "print(\n",
    "    f\"Los outliers inferiores de longitud en test son: {len(zm_longitud_ds[zm_longitud_ds['zm_longitud'] < -3.5])}. Constituyen al {(len(zm_longitud_ds[zm_longitud_ds['zm_longitud'] < -3.5]) * 100) // len(ds_test.longitud)}% de los datos\")\n",
    "zm_longitud_ds[zm_longitud_ds['zm_longitud'] < -3.5]"
   ],
   "metadata": {
    "collapsed": false,
    "pycharm": {
     "name": "#%%\n"
    }
   }
  },
  {
   "cell_type": "code",
   "execution_count": null,
   "outputs": [],
   "source": [
    "plt.hist(zm_longitud_ds.longitud)\n",
    "plt.title('Histograma Z-Score Modificado Longitud')\n",
    "plt.xlabel('ZM-Score Longitud')\n",
    "plt.show()"
   ],
   "metadata": {
    "collapsed": false,
    "pycharm": {
     "name": "#%%\n"
    }
   }
  },
  {
   "cell_type": "markdown",
   "source": [
    "#### Multivariados"
   ],
   "metadata": {
    "collapsed": false,
    "pycharm": {
     "name": "#%% md\n"
    }
   }
  },
  {
   "cell_type": "markdown",
   "source": [
    "**Clustering - Mahalanobis**"
   ],
   "metadata": {
    "collapsed": false,
    "pycharm": {
     "name": "#%% md\n"
    }
   }
  },
  {
   "cell_type": "code",
   "execution_count": null,
   "outputs": [],
   "source": [
    "def calculate_mahalanobis_distance(dataset, col1, col2):\n",
    "    X = dataset[[f'{col1}', f'{col2}']].copy()\n",
    "    sample_X = X.sample(frac=0.1)\n",
    "\n",
    "    mu = sample_X.mean()\n",
    "    X_diff = X - mu\n",
    "    X_diff = X_diff.values.T\n",
    "\n",
    "    cov = np.cov(sample_X.values.T)\n",
    "    inv_cov = np.linalg.inv(cov)\n",
    "    W = sc.linalg.sqrtm(inv_cov)\n",
    "\n",
    "    Wx = np.matmul(W, X_diff)\n",
    "    X['mahalanobis'] = [np.dot(Wx[:, i], Wx[:, i]) for i in range(Wx.shape[1])]\n",
    "\n",
    "    return X"
   ],
   "metadata": {
    "collapsed": false,
    "pycharm": {
     "name": "#%%\n"
    }
   }
  },
  {
   "cell_type": "code",
   "execution_count": null,
   "outputs": [],
   "source": [
    "def create_scatter_plot(dataset, col1, col2):\n",
    "    #Scatter Plot\n",
    "    plt.scatter(dataset[col1], dataset[col2])\n",
    "    plt.title(f'Dispersograma {col1} vs {col2}')\n",
    "    plt.xlabel(f'{col1}')\n",
    "    plt.ylabel(f'{col2}')\n",
    "    plt.show()"
   ],
   "metadata": {
    "collapsed": false,
    "pycharm": {
     "name": "#%%\n"
    }
   }
  },
  {
   "cell_type": "code",
   "execution_count": null,
   "outputs": [],
   "source": [
    "def create_scattergram(dataset, col1, col2, outlier_limit):\n",
    "    #Grafico scatter\n",
    "    es_outlier = (dataset['mahalanobis'] > outlier_limit)\n",
    "\n",
    "    sns.scatterplot(x=dataset[col1], y=dataset[col2], hue=es_outlier)\n",
    "    plt.legend(bbox_to_anchor=(1.05, 1), loc='upper left', borderaxespad=0, title=\"Outlier\")\n",
    "    plt.title(f'Dispersograma {col1} vs {col2}')\n",
    "    plt.show()"
   ],
   "metadata": {
    "collapsed": false,
    "pycharm": {
     "name": "#%%\n"
    }
   }
  },
  {
   "cell_type": "markdown",
   "source": [
    "**Analisis entre ambientes y habitaciones de valores atipicos**"
   ],
   "metadata": {
    "collapsed": false,
    "pycharm": {
     "name": "#%% md\n"
    }
   }
  },
  {
   "cell_type": "code",
   "execution_count": null,
   "outputs": [],
   "source": [
    "create_scatter_plot(ds_train, 'property_rooms', 'property_bedrooms')"
   ],
   "metadata": {
    "collapsed": false,
    "pycharm": {
     "name": "#%%\n"
    }
   }
  },
  {
   "cell_type": "code",
   "execution_count": null,
   "outputs": [],
   "source": [
    "mahalanobis_rooms_bedrooms_train = calculate_mahalanobis_distance(ds_train, 'property_rooms', 'property_bedrooms')\n",
    "mahalanobis_rooms_bedrooms_test = calculate_mahalanobis_distance(ds_test, 'property_rooms', 'property_bedrooms')\n",
    "\n",
    "mahalanobis_rooms_bedrooms_train.head()"
   ],
   "metadata": {
    "collapsed": false,
    "pycharm": {
     "name": "#%%\n"
    }
   }
  },
  {
   "cell_type": "code",
   "execution_count": null,
   "outputs": [],
   "source": [
    "sns.boxplot(y=mahalanobis_rooms_bedrooms_train.mahalanobis)"
   ],
   "metadata": {
    "collapsed": false,
    "pycharm": {
     "name": "#%%\n"
    }
   }
  },
  {
   "cell_type": "code",
   "execution_count": null,
   "outputs": [],
   "source": [
    "umbral = 35\n",
    "create_scattergram(mahalanobis_rooms_bedrooms_train, 'property_rooms', 'property_bedrooms', umbral)\n",
    "\n",
    "print(\n",
    "    f\"Los outliers para mahalanobis con un umbral de {umbral} son: {len(mahalanobis_rooms_bedrooms_train[mahalanobis_rooms_bedrooms_train['mahalanobis'] > umbral])}. Constituyen el {(len(mahalanobis_rooms_bedrooms_train[mahalanobis_rooms_bedrooms_train['mahalanobis'] > umbral]) * 100) // len(ds_train)}% de los datos\")"
   ],
   "metadata": {
    "collapsed": false,
    "pycharm": {
     "name": "#%%\n"
    }
   }
  },
  {
   "cell_type": "code",
   "execution_count": null,
   "outputs": [],
   "source": [
    "sns.boxplot(y=mahalanobis_rooms_bedrooms_train[mahalanobis_rooms_bedrooms_train['mahalanobis'] < umbral].mahalanobis)"
   ],
   "metadata": {
    "collapsed": false,
    "pycharm": {
     "name": "#%%\n"
    }
   }
  },
  {
   "cell_type": "code",
   "execution_count": null,
   "outputs": [],
   "source": [
    "mahalanobis_rooms_bedrooms_train[mahalanobis_rooms_bedrooms_train['mahalanobis'] > umbral]"
   ],
   "metadata": {
    "collapsed": false,
    "pycharm": {
     "name": "#%%\n"
    }
   }
  },
  {
   "cell_type": "code",
   "execution_count": null,
   "outputs": [],
   "source": [
    "# Train\n",
    "\n",
    "indice_outlier_train = mahalanobis_rooms_bedrooms_train[mahalanobis_rooms_bedrooms_train['mahalanobis'] > umbral].index\n",
    "ds_train.drop(indice_outlier_train, inplace=True)\n",
    "print(f\"Se han eliminado: {len(indice_outlier_train)} registros en train\")\n",
    "\n",
    "# Test\n",
    "\n",
    "indice_outlier_test = mahalanobis_rooms_bedrooms_test[mahalanobis_rooms_bedrooms_test['mahalanobis'] > umbral].index\n",
    "ds_test.drop(indice_outlier_test, inplace=True)\n",
    "print(f\"Se han eliminado: {len(indice_outlier_test)} registros en test\")"
   ],
   "metadata": {
    "collapsed": false,
    "pycharm": {
     "name": "#%%\n"
    }
   }
  },
  {
   "cell_type": "code",
   "execution_count": null,
   "outputs": [],
   "source": [
    "print(f\"Dispersograma sin los outliers mencionados\")\n",
    "create_scattergram(mahalanobis_rooms_bedrooms_test[mahalanobis_rooms_bedrooms_test.mahalanobis < umbral],\n",
    "                   'property_rooms',\n",
    "                   'property_bedrooms', umbral)"
   ],
   "metadata": {
    "collapsed": false,
    "pycharm": {
     "name": "#%%\n"
    }
   }
  },
  {
   "cell_type": "markdown",
   "source": [
    "**Analisis entre superficie total y superificie cubierta de valores atipicos**"
   ],
   "metadata": {
    "collapsed": false,
    "pycharm": {
     "name": "#%% md\n"
    }
   }
  },
  {
   "cell_type": "code",
   "execution_count": null,
   "outputs": [],
   "source": [
    "create_scatter_plot(ds_train, 'property_surface_total', 'property_surface_covered')"
   ],
   "metadata": {
    "collapsed": false,
    "pycharm": {
     "name": "#%%\n"
    }
   }
  },
  {
   "cell_type": "code",
   "execution_count": null,
   "outputs": [],
   "source": [
    "mahalanobis_surfaces_train = calculate_mahalanobis_distance(ds_train, 'property_surface_total',\n",
    "                                                            'property_surface_covered')\n",
    "mahalanobis_surfaces_test = calculate_mahalanobis_distance(ds_test, 'property_surface_total',\n",
    "                                                           'property_surface_covered')\n",
    "\n",
    "mahalanobis_surfaces_train.head()"
   ],
   "metadata": {
    "collapsed": false,
    "pycharm": {
     "name": "#%%\n"
    }
   }
  },
  {
   "cell_type": "code",
   "execution_count": null,
   "outputs": [],
   "source": [
    "sns.boxplot(y=mahalanobis_surfaces_train.mahalanobis)"
   ],
   "metadata": {
    "collapsed": false,
    "pycharm": {
     "name": "#%%\n"
    }
   }
  },
  {
   "cell_type": "code",
   "execution_count": null,
   "outputs": [],
   "source": [
    "mahalanobis_surfaces_train.isna().sum()"
   ],
   "metadata": {
    "collapsed": false,
    "pycharm": {
     "name": "#%%\n"
    }
   }
  },
  {
   "cell_type": "code",
   "execution_count": null,
   "outputs": [],
   "source": [
    "#Defino umbral\n",
    "umbral = 175  # elegimos este umbral de varias pruebas hasta llegar a un grafico de dispersion razonable\n",
    "\n",
    "#Observaciones anómalas\n",
    "mahalanobis_surfaces_train[mahalanobis_surfaces_train['mahalanobis'] > umbral]"
   ],
   "metadata": {
    "collapsed": false,
    "pycharm": {
     "name": "#%%\n"
    }
   }
  },
  {
   "cell_type": "code",
   "execution_count": null,
   "outputs": [],
   "source": [
    "create_scattergram(mahalanobis_surfaces_train, 'property_surface_total', 'property_surface_covered', umbral)"
   ],
   "metadata": {
    "collapsed": false,
    "pycharm": {
     "name": "#%%\n"
    }
   }
  },
  {
   "cell_type": "code",
   "execution_count": null,
   "outputs": [],
   "source": [
    "# Train\n",
    "\n",
    "indice_outlier_train = mahalanobis_surfaces_train[mahalanobis_surfaces_train['mahalanobis'] > umbral].index\n",
    "ds_train.drop(indice_outlier_train, inplace=True)\n",
    "print(f\"Se han eliminado: {len(indice_outlier_train)} registros en train\")\n",
    "\n",
    "# Test\n",
    "\n",
    "indice_outlier_test = mahalanobis_surfaces_test[mahalanobis_surfaces_test['mahalanobis'] > umbral].index\n",
    "ds_test.drop(indice_outlier_test, inplace=True)\n",
    "print(f\"Se han eliminado: {len(indice_outlier_test)} registros en test\")"
   ],
   "metadata": {
    "collapsed": false,
    "pycharm": {
     "name": "#%%\n"
    }
   }
  },
  {
   "cell_type": "code",
   "execution_count": null,
   "outputs": [],
   "source": [
    "print(f\"Dispersograma sin los outliers mencionados\")\n",
    "create_scattergram(mahalanobis_surfaces_train[mahalanobis_surfaces_train.mahalanobis < umbral],\n",
    "                   'property_surface_total',\n",
    "                   'property_surface_covered', umbral)"
   ],
   "metadata": {
    "collapsed": false,
    "pycharm": {
     "name": "#%%\n"
    }
   }
  },
  {
   "cell_type": "markdown",
   "source": [
    "**Analisis entre latitud y logitud de valores atipicos**"
   ],
   "metadata": {
    "collapsed": false,
    "pycharm": {
     "name": "#%% md\n"
    }
   }
  },
  {
   "cell_type": "code",
   "execution_count": null,
   "outputs": [],
   "source": [
    "mahalanobis_lat_long_train = calculate_mahalanobis_distance(ds_train, 'latitud', 'longitud')\n",
    "mahalanobis_lat_long_test = calculate_mahalanobis_distance(ds_test, 'latitud', 'longitud')"
   ],
   "metadata": {
    "collapsed": false,
    "pycharm": {
     "name": "#%%\n"
    }
   }
  },
  {
   "cell_type": "code",
   "execution_count": null,
   "outputs": [],
   "source": [
    "#Defino umbral\n",
    "umbral = 1  # elegimos este umbral de varias pruebas hasta llegar a un grafico de dispersion razonable\n",
    "\n",
    "#Observaciones anómalas\n",
    "print(\n",
    "    f\"El mínimo según el umbral es de: {mahalanobis_lat_long_train[mahalanobis_lat_long_train['mahalanobis'] > umbral]['mahalanobis'].min()}\")\n",
    "mahalanobis_lat_long_train[mahalanobis_lat_long_train['mahalanobis'] > umbral]"
   ],
   "metadata": {
    "collapsed": false,
    "pycharm": {
     "name": "#%%\n"
    }
   }
  },
  {
   "cell_type": "code",
   "execution_count": null,
   "outputs": [],
   "source": [
    "create_scattergram(mahalanobis_lat_long_train, 'latitud', 'longitud', umbral)\n",
    "print(\n",
    "    f\"El grafico muestra {len(mahalanobis_lat_long_train[mahalanobis_lat_long_train['mahalanobis'] > umbral])} outliers\")\n",
    "print(\n",
    "    f\"El mínimo según el umbral es de: {mahalanobis_lat_long_train[mahalanobis_lat_long_train['mahalanobis'] > umbral]['mahalanobis'].min()}\")"
   ],
   "metadata": {
    "collapsed": false,
    "pycharm": {
     "name": "#%%\n"
    }
   }
  },
  {
   "cell_type": "code",
   "execution_count": null,
   "outputs": [],
   "source": [
    "print(\"Dispersograma sin los outliers mencionados\")\n",
    "create_scattergram(mahalanobis_lat_long_train[mahalanobis_lat_long_train.mahalanobis < umbral], 'longitud', 'latitud',\n",
    "                   umbral)"
   ],
   "metadata": {
    "collapsed": false,
    "pycharm": {
     "name": "#%%\n"
    }
   }
  },
  {
   "cell_type": "code",
   "execution_count": null,
   "outputs": [],
   "source": [
    "# Train\n",
    "\n",
    "indice_outlier_train = mahalanobis_lat_long_train[mahalanobis_lat_long_train['mahalanobis'] > umbral].index\n",
    "ds_train.drop(indice_outlier_train, inplace=True)\n",
    "print(f\"Se han eliminado: {len(indice_outlier_train)} registros en train\")\n",
    "\n",
    "# Test\n",
    "\n",
    "\n",
    "indice_outlier_test = mahalanobis_lat_long_test[mahalanobis_lat_long_test['mahalanobis'] > umbral].index\n",
    "ds_test.drop(indice_outlier_test, inplace=True)\n",
    "print(f\"Se han eliminado: {len(indice_outlier_test)} registros en test\")"
   ],
   "metadata": {
    "collapsed": false,
    "pycharm": {
     "name": "#%%\n"
    }
   }
  },
  {
   "cell_type": "code",
   "execution_count": null,
   "outputs": [],
   "source": [
    "ds_train.place_l3.isna().sum()"
   ],
   "metadata": {
    "collapsed": false,
    "pycharm": {
     "name": "#%%\n"
    }
   }
  },
  {
   "cell_type": "code",
   "execution_count": null,
   "outputs": [],
   "source": [
    "ds_train.dropna(subset='place_l3', inplace=True)\n",
    "ds_train.place_l3.isna().sum()"
   ],
   "metadata": {
    "collapsed": false,
    "pycharm": {
     "name": "#%%\n"
    }
   }
  },
  {
   "cell_type": "markdown",
   "source": [
    "**Analisis entre superficie total y precio**"
   ],
   "metadata": {
    "collapsed": false,
    "pycharm": {
     "name": "#%% md\n"
    }
   }
  },
  {
   "cell_type": "code",
   "execution_count": null,
   "outputs": [],
   "source": [
    "mahalanobis_price_surface_train = calculate_mahalanobis_distance(ds_train, 'property_surface_total', 'property_price')\n",
    "mahalanobis_price_surface_test = calculate_mahalanobis_distance(ds_test, 'property_surface_total', 'property_price')\n",
    "\n",
    "mahalanobis_price_surface_train['mahalanobis'].describe()"
   ],
   "metadata": {
    "collapsed": false,
    "pycharm": {
     "name": "#%%\n"
    }
   }
  },
  {
   "cell_type": "code",
   "execution_count": null,
   "outputs": [],
   "source": [
    "umbral = 5\n",
    "create_scattergram(mahalanobis_price_surface_train, 'property_surface_total', 'property_price', umbral)\n",
    "print(\n",
    "    f\"El grafico muestra {len(mahalanobis_price_surface_train[mahalanobis_price_surface_train['mahalanobis'] > umbral])} outliers\")\n",
    "print(\n",
    "    f\"El mínimo según el umbral es de: {mahalanobis_price_surface_train[mahalanobis_price_surface_train['mahalanobis'] > umbral]['mahalanobis'].min()}\")\n",
    "print(\n",
    "    f\"Los outliers representan un {len(mahalanobis_price_surface_train[mahalanobis_price_surface_train['mahalanobis'] > umbral]) * 100 / len(ds_train)}%\")"
   ],
   "metadata": {
    "collapsed": false,
    "pycharm": {
     "name": "#%%\n"
    }
   }
  },
  {
   "cell_type": "code",
   "execution_count": null,
   "outputs": [],
   "source": [
    "sns.boxplot(y=mahalanobis_price_surface_train[mahalanobis_price_surface_train['mahalanobis'] < umbral].mahalanobis)"
   ],
   "metadata": {
    "collapsed": false,
    "pycharm": {
     "name": "#%%\n"
    }
   }
  },
  {
   "cell_type": "code",
   "execution_count": null,
   "outputs": [],
   "source": [
    "create_scattergram(mahalanobis_price_surface_train[mahalanobis_price_surface_train.mahalanobis < 3],\n",
    "                   'property_surface_total',\n",
    "                   'property_price', 3)"
   ],
   "metadata": {
    "collapsed": false,
    "pycharm": {
     "name": "#%%\n"
    }
   }
  },
  {
   "cell_type": "code",
   "execution_count": null,
   "outputs": [],
   "source": [
    "mahalanobis_price_surface_train[\n",
    "    'price_m2'] = mahalanobis_price_surface_train.property_price / mahalanobis_price_surface_train.property_surface_total\n",
    "\n",
    "mahalanobis_price_surface_test[\n",
    "    'price_m2'] = mahalanobis_price_surface_test.property_price / mahalanobis_price_surface_test.property_surface_total"
   ],
   "metadata": {
    "collapsed": false,
    "pycharm": {
     "name": "#%%\n"
    }
   }
  },
  {
   "cell_type": "code",
   "execution_count": null,
   "outputs": [],
   "source": [
    "calculate_univariate_iqr(mahalanobis_price_surface_train['price_m2'], mahalanobis_price_surface_train)\n",
    "calculate_univariate_iqr(mahalanobis_price_surface_test['price_m2'], mahalanobis_price_surface_test)"
   ],
   "metadata": {
    "collapsed": false,
    "pycharm": {
     "name": "#%%\n"
    }
   }
  },
  {
   "cell_type": "code",
   "execution_count": null,
   "outputs": [],
   "source": [
    "limites = boxplot_outliers_edges(mahalanobis_price_surface_train['price_m2'])\n",
    "limite_inf = limites[0]\n",
    "limite_sup = limites[1]\n",
    "outliers_sup_price_m2_train = mahalanobis_price_surface_train[(mahalanobis_price_surface_train.price_m2 > limite_sup)]\n",
    "outliers_inf_price_m2_train = mahalanobis_price_surface_train[(mahalanobis_price_surface_train.price_m2 < limite_inf)]\n",
    "\n",
    "outliers_sup_price_m2_test = mahalanobis_price_surface_test[(mahalanobis_price_surface_test.price_m2 > limite_sup)]\n",
    "outliers_inf_price_m2_test = mahalanobis_price_surface_test[(mahalanobis_price_surface_test.price_m2 < limite_inf)]\n",
    "\n",
    "print(\n",
    "    f\"Hay {len(outliers_sup_price_m2_train)} registros en train por encima del límite superior en train ({len(outliers_sup_price_m2_train) * 100 / len(ds_train)})\")\n",
    "print(\n",
    "    f\"Hay {len(outliers_inf_price_m2_train)} registros en train por debajo del límite inferior en train  ({len(outliers_inf_price_m2_train) * 100 / len(ds_train)})\")\n",
    "\n",
    "print(\n",
    "    f\"Hay {len(outliers_sup_price_m2_test)} registros en train por encima del límite superior en train ({len(outliers_sup_price_m2_test) * 100 / len(ds_train)})%\")\n",
    "print(\n",
    "    f\"Hay {len(outliers_inf_price_m2_test)} registros en train por debajo del límite inferior en train  ({len(outliers_inf_price_m2_test) * 100 / len(ds_train)}%)\")\n",
    "\n",
    "fig, axs = plt.subplots(ncols=2)\n",
    "\n",
    "ds_plot = mahalanobis_price_surface_train[\n",
    "    (mahalanobis_price_surface_train.price_m2 > limite_inf) & (mahalanobis_price_surface_train.price_m2 < limite_sup)]\n",
    "\n",
    "sns.kdeplot(mahalanobis_price_surface_train.price_m2, ax=axs[0])\n",
    "sns.kdeplot(ds_plot.price_m2, ax=axs[1])\n",
    "\n",
    "axs[0].axvline(mahalanobis_price_surface_train.price_m2.mean())\n",
    "axs[1].axvline(ds_plot.price_m2.mean(), color='red')\n",
    "\n",
    "axs[0].set_title(\"Distribución con outliers\")\n",
    "axs[1].set_title(\"Distribución sin outliers\")"
   ],
   "metadata": {
    "collapsed": false,
    "pycharm": {
     "name": "#%%\n"
    }
   }
  },
  {
   "cell_type": "code",
   "execution_count": null,
   "outputs": [],
   "source": [
    "# Train\n",
    "\n",
    "ds_train.drop(outliers_sup_price_m2_train.index, inplace=True)\n",
    "print(f\"Se han eliminado: {len(outliers_sup_price_m2_train)} registros en train\")\n",
    "\n",
    "# Test\n",
    "\n",
    "ds_test.drop(outliers_sup_price_m2_test.index, inplace=True)\n",
    "print(f\"Se han eliminado: {len(outliers_sup_price_m2_test)} registros en test\")"
   ],
   "metadata": {
    "collapsed": false,
    "pycharm": {
     "name": "#%%\n"
    }
   }
  },
  {
   "cell_type": "code",
   "execution_count": null,
   "outputs": [],
   "source": [
    "# Train\n",
    "\n",
    "ds_train.drop(outliers_inf_price_m2_train.index, inplace=True)\n",
    "print(f\"Se han eliminado: {len(outliers_inf_price_m2_train)} registros en train\")\n",
    "\n",
    "# Test\n",
    "\n",
    "ds_test.drop(outliers_inf_price_m2_test.index, inplace=True)\n",
    "print(f\"Se han eliminado: {len(outliers_inf_price_m2_test)} registros en test\")"
   ],
   "metadata": {
    "collapsed": false,
    "pycharm": {
     "name": "#%%\n"
    }
   }
  },
  {
   "cell_type": "markdown",
   "source": [
    "#### LOF"
   ],
   "metadata": {
    "collapsed": false,
    "pycharm": {
     "name": "#%% md\n"
    }
   }
  },
  {
   "cell_type": "code",
   "execution_count": null,
   "outputs": [],
   "source": [
    "def create_scores_based_on_training(dataset, col1, col2):\n",
    "    #Conjunto de entrenamiento\n",
    "    dataset = dataset[~(dataset[f'{col1}'].isna())]  # que hago con los NAN? Para la preddicion necesito sacarlos.\n",
    "    dataset = dataset[~(dataset[f'{col2}'].isna())]\n",
    "\n",
    "    X = dataset[[f'{col1}', f'{col2}']].values\n",
    "\n",
    "    #Creo el clasificador\n",
    "    clf = LocalOutlierFactor(n_neighbors=20)\n",
    "\n",
    "    #Genero prediccion\n",
    "    y_pred = clf.fit_predict(X)\n",
    "\n",
    "    #Guardo los scores\n",
    "    dataset['scores'] = clf.negative_outlier_factor_\n",
    "\n",
    "    return dataset.copy()"
   ],
   "metadata": {
    "collapsed": false,
    "pycharm": {
     "name": "#%%\n"
    }
   }
  },
  {
   "cell_type": "code",
   "execution_count": null,
   "outputs": [],
   "source": [
    "def create_dispersion_diagram(dataset, col1, col2):\n",
    "    new_lof_ds = dataset.copy()\n",
    "    new_lof_ds['target'] = 0\n",
    "    new_col_ds = new_lof_ds\n",
    "    new_col_ds[[f'{col1}', f'{col2}', 'target']]\n",
    "\n",
    "    sns.scatterplot(x=new_col_ds[f'{col1}'], y=new_col_ds[f'{col2}'], hue=new_col_ds['target'])\n",
    "    plt.title(f'Diagrama de Dispersión {col1} vs {col2}')\n",
    "    plt.show()\n",
    "    return new_lof_ds"
   ],
   "metadata": {
    "collapsed": false,
    "pycharm": {
     "name": "#%%\n"
    }
   }
  },
  {
   "cell_type": "code",
   "execution_count": null,
   "outputs": [],
   "source": [
    "def create_lof_graph(dataset, col1, col2):\n",
    "    #Calculo radio para plotear score\n",
    "    radius = (dataset.scores.max() - dataset.scores) / (dataset.scores.max() - dataset.scores.min())\n",
    "\n",
    "    #Grafico LOF\n",
    "    plt.figure(figsize=(10, 10))\n",
    "    plt.title(\"Local Outlier Factor (LOF)\")\n",
    "    plt.scatter(dataset[f'{col1}'].values, dataset[f'{col2}'].values, edgecolor='grey', s=30, label='Datos',\n",
    "                facecolors='none')\n",
    "    plt.scatter(dataset[f'{col1}'].values, dataset[f'{col2}'].values, s=1300 * radius, edgecolors='red',\n",
    "                facecolors='none', label='Outlier scores')\n",
    "    legend = plt.legend(loc='upper left')\n",
    "    legend.legendHandles[0]._sizes = [10]\n",
    "    legend.legendHandles[1]._sizes = [20]\n",
    "    plt.xlabel(f'{col1}')\n",
    "    plt.ylabel(f'{col2}')\n",
    "    plt.show()"
   ],
   "metadata": {
    "collapsed": false,
    "pycharm": {
     "name": "#%%\n"
    }
   }
  },
  {
   "cell_type": "markdown",
   "source": [
    "**Analisis de outliers para ambientes y habitaciones**"
   ],
   "metadata": {
    "collapsed": false,
    "pycharm": {
     "name": "#%% md\n"
    }
   }
  },
  {
   "cell_type": "code",
   "execution_count": null,
   "outputs": [],
   "source": [
    "rooms_bedrooms_lof_df = create_dispersion_diagram(ds_train, 'property_rooms', 'property_bedrooms')"
   ],
   "metadata": {
    "collapsed": false,
    "pycharm": {
     "name": "#%%\n"
    }
   }
  },
  {
   "cell_type": "code",
   "execution_count": null,
   "outputs": [],
   "source": [
    "new_rooms_bedrooms_lof_df = create_scores_based_on_training(rooms_bedrooms_lof_df, 'property_rooms',\n",
    "                                                            'property_bedrooms')\n",
    "new_rooms_bedrooms_lof_df"
   ],
   "metadata": {
    "collapsed": false,
    "pycharm": {
     "name": "#%%\n"
    }
   }
  },
  {
   "cell_type": "code",
   "execution_count": null,
   "outputs": [],
   "source": [
    "create_lof_graph(new_rooms_bedrooms_lof_df, 'property_rooms', 'property_bedrooms')"
   ],
   "metadata": {
    "collapsed": false,
    "pycharm": {
     "name": "#%%\n"
    }
   }
  },
  {
   "cell_type": "markdown",
   "source": [
    "**Analisis de outliers para superficie total y superficie cubierta**"
   ],
   "metadata": {
    "collapsed": false,
    "pycharm": {
     "name": "#%% md\n"
    }
   }
  },
  {
   "cell_type": "code",
   "execution_count": null,
   "outputs": [],
   "source": [
    "total_covered_lof_df = create_dispersion_diagram(ds_train, 'property_surface_total',\n",
    "                                                 'property_surface_covered')"
   ],
   "metadata": {
    "collapsed": false,
    "pycharm": {
     "name": "#%%\n"
    }
   }
  },
  {
   "cell_type": "code",
   "execution_count": null,
   "outputs": [],
   "source": [
    "new_total_covered_lof_df = create_scores_based_on_training(total_covered_lof_df, 'property_surface_total',\n",
    "                                                           'property_surface_covered')\n",
    "new_total_covered_lof_df"
   ],
   "metadata": {
    "collapsed": false,
    "pycharm": {
     "name": "#%%\n"
    }
   }
  },
  {
   "cell_type": "code",
   "execution_count": null,
   "outputs": [],
   "source": [
    "create_lof_graph(new_total_covered_lof_df, 'property_surface_total', 'property_surface_covered')"
   ],
   "metadata": {
    "collapsed": false,
    "pycharm": {
     "name": "#%%\n"
    }
   }
  },
  {
   "cell_type": "markdown",
   "source": [
    "### Reduccion de la Dimensionalidad"
   ],
   "metadata": {
    "collapsed": false,
    "pycharm": {
     "name": "#%% md\n"
    }
   }
  },
  {
   "cell_type": "markdown",
   "source": [
    "#### Analisis PCA"
   ],
   "metadata": {
    "collapsed": false,
    "pycharm": {
     "name": "#%% md\n"
    }
   }
  },
  {
   "cell_type": "code",
   "execution_count": null,
   "outputs": [],
   "source": [
    "from sklearn.preprocessing import StandardScaler\n",
    "\n",
    "ds_reducido = ds_train.drop(\n",
    "    ['id','start_date', 'end_date', 'place_l3', 'property_title', 'property_type', 'property_price'], axis=1)\n",
    "ds_reducido"
   ],
   "metadata": {
    "collapsed": false,
    "pycharm": {
     "name": "#%%\n"
    }
   }
  },
  {
   "cell_type": "code",
   "execution_count": null,
   "outputs": [],
   "source": [
    "ds_reducido_normalizado = pd.DataFrame(StandardScaler().fit_transform(ds_reducido), columns=ds_reducido.columns)\n",
    "ds_reducido_normalizado"
   ],
   "metadata": {
    "collapsed": false,
    "pycharm": {
     "name": "#%%\n"
    }
   }
  },
  {
   "cell_type": "markdown",
   "source": [
    "**Replicamos para test las mismas transformaciones**"
   ],
   "metadata": {
    "collapsed": false,
    "pycharm": {
     "name": "#%% md\n"
    }
   }
  },
  {
   "cell_type": "code",
   "execution_count": null,
   "outputs": [],
   "source": [
    "ds_reducido_test = ds_test.drop(\n",
    "    ['id', 'start_date', 'end_date', 'place_l3', 'property_title', 'property_type', 'property_price'], axis=1)\n",
    "ds_reducido_test"
   ],
   "metadata": {
    "collapsed": false,
    "pycharm": {
     "name": "#%%\n"
    }
   }
  },
  {
   "cell_type": "code",
   "execution_count": null,
   "outputs": [],
   "source": [
    "ds_reducido_test_normalizado = pd.DataFrame(StandardScaler().fit_transform(ds_reducido_test),\n",
    "                                            columns=ds_reducido.columns)\n",
    "ds_reducido_test_normalizado"
   ],
   "metadata": {
    "collapsed": false,
    "pycharm": {
     "name": "#%%\n"
    }
   }
  },
  {
   "cell_type": "code",
   "execution_count": null,
   "outputs": [],
   "source": [
    "plt.figure(figsize=(10, 10))\n",
    "ax = sns.heatmap(ds_reducido_normalizado.corr(), annot=True)"
   ],
   "metadata": {
    "collapsed": false,
    "pycharm": {
     "name": "#%%\n"
    }
   }
  },
  {
   "cell_type": "code",
   "execution_count": null,
   "outputs": [],
   "source": [
    "ds_reducido_normalizado.shape"
   ],
   "metadata": {
    "collapsed": false,
    "pycharm": {
     "name": "#%%\n"
    }
   }
  },
  {
   "cell_type": "code",
   "execution_count": null,
   "outputs": [],
   "source": [
    "from sklearn.decomposition import PCA\n",
    "\n",
    "pca = PCA(n_components=6)\n",
    "superficie_transformada = pca.fit_transform(ds_reducido_normalizado)\n",
    "\n",
    "ds_pca = pd.DataFrame(data=superficie_transformada,\n",
    "                      columns=['cp_1', 'cp_2', 'cp_3', 'cp_4', 'cp_5', 'cp_6'])\n",
    "ds_pca"
   ],
   "metadata": {
    "collapsed": false,
    "pycharm": {
     "name": "#%%\n"
    }
   }
  },
  {
   "cell_type": "code",
   "execution_count": null,
   "outputs": [],
   "source": [
    "varianza_explicada = pca.explained_variance_ratio_\n",
    "for varianza in varianza_explicada:\n",
    "    print(round(varianza, 2))"
   ],
   "metadata": {
    "collapsed": false,
    "pycharm": {
     "name": "#%%\n"
    }
   }
  },
  {
   "cell_type": "code",
   "execution_count": null,
   "outputs": [],
   "source": [
    "varianza_explicada.cumsum()"
   ],
   "metadata": {
    "collapsed": false,
    "pycharm": {
     "name": "#%%\n"
    }
   }
  },
  {
   "cell_type": "code",
   "execution_count": null,
   "outputs": [],
   "source": [
    "varianza_explicada = pca.explained_variance_ratio_\n",
    "list_x = list(range(1, len(varianza_explicada) + 1))\n",
    "\n",
    "plt.figure(figsize=(6, 4))\n",
    "plt.plot(list_x, varianza_explicada, '-o')\n",
    "plt.xlabel(r'Componentes Principales')\n",
    "plt.ylabel('Varianza explicada')\n",
    "plt.show()"
   ],
   "metadata": {
    "collapsed": false,
    "pycharm": {
     "name": "#%%\n"
    }
   }
  },
  {
   "cell_type": "code",
   "execution_count": null,
   "outputs": [],
   "source": [
    "varianza_explicada = pca.explained_variance_ratio_\n",
    "list_x = list(range(1, len(varianza_explicada) + 1))\n",
    "k = np.argmax(varianza_explicada.cumsum() * 100 > 95)\n",
    "\n",
    "plt.figure(figsize=(10, 5))\n",
    "plt.plot(list_x, varianza_explicada.cumsum() * 100, '-o')\n",
    "plt.xlabel(r'Componentes Principales')\n",
    "plt.ylabel('Varianza acumulada')\n",
    "plt.axvline(x=k, color=\"k\", linestyle=\"--\")\n",
    "plt.axhline(y=95, color=\"r\", linestyle=\"--\")\n",
    "plt.show()"
   ],
   "metadata": {
    "collapsed": false,
    "pycharm": {
     "name": "#%%\n"
    }
   }
  },
  {
   "cell_type": "code",
   "execution_count": null,
   "outputs": [],
   "source": [
    "ds_pca.drop(columns=['cp_4', 'cp_5', 'cp_6'], inplace=True)\n",
    "ds_pca.head()"
   ],
   "metadata": {
    "collapsed": false,
    "pycharm": {
     "name": "#%%\n"
    }
   }
  },
  {
   "cell_type": "markdown",
   "source": [
    "### Clasificación"
   ],
   "metadata": {
    "collapsed": false,
    "pycharm": {
     "name": "#%% md\n"
    }
   }
  },
  {
   "cell_type": "markdown",
   "source": [
    "#### Tercera variable (25-50-25 por tipo de propiedad)"
   ],
   "metadata": {
    "collapsed": false,
    "pycharm": {
     "name": "#%% md\n"
    }
   }
  },
  {
   "cell_type": "code",
   "execution_count": null,
   "outputs": [],
   "source": [
    "def precio_metro_cuadrado(dataset):\n",
    "    pxm2 = dataset['property_price'] / dataset['property_surface_total']\n",
    "    sorted_pxm2 = pxm2.sort_values(ascending=True)\n",
    "    return (pxm2, sorted_pxm2)\n",
    "\n",
    "def agregar_variable(dataset, categoria, nombre_categoria, pxm2, sorted_pxm2):\n",
    "    nueva_categoria = pd.DataFrame()\n",
    "    nueva_categoria['pxm2'] = sorted_pxm2\n",
    "    nueva_categoria[nombre_categoria] = categoria\n",
    "    dataset[nombre_categoria] = nueva_categoria[nombre_categoria]\n",
    "    return dataset\n",
    "\n",
    "def separar_25_50_25(dataset):\n",
    "    categoria = []\n",
    "    for i in range(0, len(dataset) // 4):\n",
    "        categoria.append('Bajo')\n",
    "    for i in range(len(dataset) // 4, 3 * len(dataset) // 4):\n",
    "        categoria.append('Medio')\n",
    "    for i in range(3 * len(dataset) // 4, len(dataset)):\n",
    "        categoria.append('Alto')\n",
    "\n",
    "    return categoria\n",
    "\n",
    "(pxm2, sorted_pxm2) = precio_metro_cuadrado(ds_train)\n",
    "ds_train['pxm2'] = pxm2"
   ],
   "metadata": {
    "collapsed": false,
    "pycharm": {
     "name": "#%%\n"
    }
   }
  },
  {
   "cell_type": "markdown",
   "source": [
    "##### Casas"
   ],
   "metadata": {
    "collapsed": false,
    "pycharm": {
     "name": "#%% md\n"
    }
   }
  },
  {
   "cell_type": "code",
   "execution_count": null,
   "outputs": [],
   "source": [
    "casas = ds_train[ds_train.property_type == 'Casa'].copy()\n",
    "dptos = ds_train[ds_train.property_type == 'Departamento'].copy()\n",
    "phs = ds_train[ds_train.property_type == 'PH'].copy()"
   ],
   "metadata": {
    "collapsed": false,
    "pycharm": {
     "name": "#%%\n"
    }
   }
  },
  {
   "cell_type": "code",
   "execution_count": null,
   "outputs": [],
   "source": [
    "(pxm2, sorted_pxm2) = precio_metro_cuadrado(casas)\n",
    "categoria = separar_25_50_25(casas)\n",
    "casas = agregar_variable(casas, categoria, 'tipo_precio', pxm2, sorted_pxm2)"
   ],
   "metadata": {
    "collapsed": false,
    "pycharm": {
     "name": "#%%\n"
    }
   }
  },
  {
   "cell_type": "markdown",
   "source": [
    "##### Departamentos"
   ],
   "metadata": {
    "collapsed": false,
    "pycharm": {
     "name": "#%% md\n"
    }
   }
  },
  {
   "cell_type": "code",
   "execution_count": null,
   "outputs": [],
   "source": [
    "(pxm2, sorted_pxm2) = precio_metro_cuadrado(dptos)\n",
    "categoria = separar_25_50_25(dptos)\n",
    "dptos = agregar_variable(dptos, categoria, 'tipo_precio', pxm2, sorted_pxm2)"
   ],
   "metadata": {
    "collapsed": false,
    "pycharm": {
     "name": "#%%\n"
    }
   }
  },
  {
   "cell_type": "markdown",
   "source": [
    "##### PH"
   ],
   "metadata": {
    "collapsed": false,
    "pycharm": {
     "name": "#%% md\n"
    }
   }
  },
  {
   "cell_type": "code",
   "execution_count": null,
   "outputs": [],
   "source": [
    "(pxm2, sorted_pxm2) = precio_metro_cuadrado(phs)\n",
    "categoria = separar_25_50_25(phs)\n",
    "phs = agregar_variable(phs, categoria, 'tipo_precio', pxm2, sorted_pxm2)"
   ],
   "metadata": {
    "collapsed": false,
    "pycharm": {
     "name": "#%%\n"
    }
   }
  },
  {
   "cell_type": "markdown",
   "source": [
    "##### Union de las 3 al dataset"
   ],
   "metadata": {
    "collapsed": false,
    "pycharm": {
     "name": "#%% md\n"
    }
   }
  },
  {
   "cell_type": "code",
   "execution_count": null,
   "outputs": [],
   "source": [
    "nueva_categoria = pd.concat([casas, dptos, phs])\n",
    "ds_train['tipo_precio'] = nueva_categoria['tipo_precio']"
   ],
   "metadata": {
    "collapsed": false,
    "pycharm": {
     "name": "#%%\n"
    }
   }
  },
  {
   "cell_type": "markdown",
   "source": [
    "#### Construccion de la variable en Test"
   ],
   "metadata": {
    "collapsed": false,
    "pycharm": {
     "name": "#%% md\n"
    }
   }
  },
  {
   "cell_type": "code",
   "execution_count": null,
   "outputs": [],
   "source": [
    "ds_test['pxm2'] = ds_test['property_price'] / ds_test['property_surface_total']"
   ],
   "metadata": {
    "collapsed": false,
    "pycharm": {
     "name": "#%%\n"
    }
   }
  },
  {
   "cell_type": "code",
   "execution_count": null,
   "outputs": [],
   "source": [
    "lista_tipo_precio_test = []\n",
    "for registro in ds_test.itertuples():\n",
    "    #print(registro.Index)\n",
    "    if registro.property_type == 'Casa':\n",
    "        if registro.pxm2 < casas[casas['tipo_precio'] == 'Medio'].pxm2.min():\n",
    "            lista_tipo_precio_test.append('Bajo')\n",
    "        elif registro.pxm2 > casas[casas['tipo_precio'] == 'Medio'].pxm2.max():\n",
    "            lista_tipo_precio_test.append('Alto')\n",
    "        else:\n",
    "            lista_tipo_precio_test.append('Medio')\n",
    "    elif registro.property_type == 'Departamento':\n",
    "        if registro.pxm2 < dptos[dptos['tipo_precio'] == 'Medio'].pxm2.min():\n",
    "            lista_tipo_precio_test.append('Bajo')\n",
    "        elif registro.pxm2 > dptos[dptos['tipo_precio'] == 'Medio'].pxm2.max():\n",
    "            lista_tipo_precio_test.append('Alto')\n",
    "        else:\n",
    "            lista_tipo_precio_test.append('Medio')\n",
    "    elif registro.property_type == 'PH':\n",
    "        if registro.pxm2 < phs[phs['tipo_precio'] == 'Medio'].pxm2.min():\n",
    "            lista_tipo_precio_test.append('Bajo')\n",
    "        elif registro.pxm2 > phs[phs['tipo_precio'] == 'Medio'].pxm2.max():\n",
    "            lista_tipo_precio_test.append('Alto')\n",
    "        else:\n",
    "            lista_tipo_precio_test.append('Medio')\n",
    "\n",
    "\n"
   ],
   "metadata": {
    "collapsed": false,
    "pycharm": {
     "name": "#%%\n"
    }
   }
  },
  {
   "cell_type": "code",
   "execution_count": null,
   "outputs": [],
   "source": [
    "ds_test['tipo_precio'] = pd.Series(data=lista_tipo_precio_test, name='tipo_precio', index=ds_test.index)"
   ],
   "metadata": {
    "collapsed": false,
    "pycharm": {
     "name": "#%%\n"
    }
   }
  },
  {
   "cell_type": "markdown",
   "source": [
    "### Exportamos datasets"
   ],
   "metadata": {
    "collapsed": false,
    "pycharm": {
     "name": "#%% md\n"
    }
   }
  },
  {
   "cell_type": "code",
   "execution_count": null,
   "outputs": [],
   "source": [
    "ds_train.head()"
   ],
   "metadata": {
    "collapsed": false,
    "pycharm": {
     "name": "#%%\n"
    }
   }
  },
  {
   "cell_type": "code",
   "execution_count": null,
   "outputs": [],
   "source": [
    "ds_test.head()"
   ],
   "metadata": {
    "collapsed": false,
    "pycharm": {
     "name": "#%%\n"
    }
   }
  },
  {
   "cell_type": "code",
   "execution_count": null,
   "outputs": [],
   "source": [
    "ds_train.to_csv('datasets/tp1-train.csv', index=False)\n",
    "ds_test.to_csv('datasets/tp1-test.csv', index=False)"
   ],
   "metadata": {
    "collapsed": false,
    "pycharm": {
     "name": "#%%\n"
    }
   }
  },
  {
   "cell_type": "markdown",
   "source": [
    "##### Departamentos"
   ],
   "metadata": {
    "collapsed": false,
    "pycharm": {
     "name": "#%% md\n"
    }
   }
  },
  {
   "cell_type": "code",
   "execution_count": null,
   "outputs": [],
   "source": [
    "(pxm2, sorted_pxm2) = precio_metro_cuadrado(dptos)\n",
    "categoria = separar_25_50_25(dptos)\n",
    "dptos = agregar_variable(dptos, categoria, 'tipo_precio', pxm2, sorted_pxm2)"
   ],
   "metadata": {
    "collapsed": false,
    "pycharm": {
     "name": "#%%\n"
    }
   }
  },
  {
   "cell_type": "markdown",
   "source": [
    "##### PH"
   ],
   "metadata": {
    "collapsed": false,
    "pycharm": {
     "name": "#%% md\n"
    }
   }
  },
  {
   "cell_type": "code",
   "execution_count": null,
   "outputs": [],
   "source": [
    "(pxm2, sorted_pxm2) = precio_metro_cuadrado(phs)\n",
    "categoria = separar_25_50_25(phs)\n",
    "phs = agregar_variable(phs, categoria, 'tipo_precio', pxm2, sorted_pxm2)"
   ],
   "metadata": {
    "collapsed": false,
    "pycharm": {
     "name": "#%%\n"
    }
   }
  },
  {
   "cell_type": "markdown",
   "source": [
    "##### Union de las 3 al dataset"
   ],
   "metadata": {
    "collapsed": false,
    "pycharm": {
     "name": "#%% md\n"
    }
   }
  },
  {
   "cell_type": "code",
   "execution_count": null,
   "outputs": [],
   "source": [
    "nueva_categoria = pd.concat([casas, dptos, phs])\n",
    "ds_train['tipo_precio'] = nueva_categoria['tipo_precio']"
   ],
   "metadata": {
    "collapsed": false,
    "pycharm": {
     "name": "#%%\n"
    }
   }
  },
  {
   "cell_type": "markdown",
   "source": [
    "#### Construccion de la variable en Test"
   ],
   "metadata": {
    "collapsed": false,
    "pycharm": {
     "name": "#%% md\n"
    }
   }
  },
  {
   "cell_type": "code",
   "execution_count": null,
   "outputs": [],
   "source": [
    "ds_test['pxm2'] = ds_test['property_price'] / ds_test['property_surface_total']"
   ],
   "metadata": {
    "collapsed": false,
    "pycharm": {
     "name": "#%%\n"
    }
   }
  },
  {
   "cell_type": "code",
   "execution_count": null,
   "outputs": [],
   "source": [
    "lista_tipo_precio_test = []\n",
    "for registro in ds_test.itertuples():\n",
    "    #print(registro.Index)\n",
    "    if registro.property_type == 'Casa':\n",
    "        if registro.pxm2 < casas[casas['tipo_precio'] == 'Medio'].pxm2.min():\n",
    "            lista_tipo_precio_test.append('Bajo')\n",
    "        elif registro.pxm2 > casas[casas['tipo_precio'] == 'Medio'].pxm2.max():\n",
    "            lista_tipo_precio_test.append('Alto')\n",
    "        else:\n",
    "            lista_tipo_precio_test.append('Medio')\n",
    "    elif registro.property_type == 'Departamento':\n",
    "        if registro.pxm2 < dptos[dptos['tipo_precio'] == 'Medio'].pxm2.min():\n",
    "            lista_tipo_precio_test.append('Bajo')\n",
    "        elif registro.pxm2 > dptos[dptos['tipo_precio'] == 'Medio'].pxm2.max():\n",
    "            lista_tipo_precio_test.append('Alto')\n",
    "        else:\n",
    "            lista_tipo_precio_test.append('Medio')\n",
    "    elif registro.property_type == 'PH':\n",
    "        if registro.pxm2 < phs[phs['tipo_precio'] == 'Medio'].pxm2.min():\n",
    "            lista_tipo_precio_test.append('Bajo')\n",
    "        elif registro.pxm2 > phs[phs['tipo_precio'] == 'Medio'].pxm2.max():\n",
    "            lista_tipo_precio_test.append('Alto')\n",
    "        else:\n",
    "            lista_tipo_precio_test.append('Medio')\n",
    "\n",
    "\n"
   ],
   "metadata": {
    "collapsed": false,
    "pycharm": {
     "name": "#%%\n"
    }
   }
  },
  {
   "cell_type": "code",
   "execution_count": null,
   "outputs": [],
   "source": [
    "ds_test['tipo_precio'] = pd.Series(data=lista_tipo_precio_test, name='tipo_precio', index=ds_test.index)"
   ],
   "metadata": {
    "collapsed": false,
    "pycharm": {
     "name": "#%%\n"
    }
   }
  },
  {
   "cell_type": "markdown",
   "source": [
    "### Exportamos datasets"
   ],
   "metadata": {
    "collapsed": false,
    "pycharm": {
     "name": "#%% md\n"
    }
   }
  },
  {
   "cell_type": "code",
   "execution_count": null,
   "outputs": [],
   "source": [
    "ds_train.head()"
   ],
   "metadata": {
    "collapsed": false,
    "pycharm": {
     "name": "#%%\n"
    }
   }
  },
  {
   "cell_type": "code",
   "execution_count": null,
   "outputs": [],
   "source": [
    "ds_test.head()"
   ],
   "metadata": {
    "collapsed": false,
    "pycharm": {
     "name": "#%%\n"
    }
   }
  },
  {
   "cell_type": "code",
   "execution_count": null,
   "outputs": [],
   "source": [
    "ds_train.to_csv('datasets/tp1-train.csv', index=False)\n",
    "ds_test.to_csv('datasets/tp1-test.csv', index=False)"
   ],
   "metadata": {
    "collapsed": false,
    "pycharm": {
     "name": "#%%\n"
    }
   }
  },
  {
   "cell_type": "markdown",
   "source": [
    "##### Departamentos"
   ],
   "metadata": {
    "collapsed": false,
    "pycharm": {
     "name": "#%% md\n"
    }
   }
  },
  {
   "cell_type": "code",
   "execution_count": null,
   "outputs": [],
   "source": [
    "(pxm2, sorted_pxm2) = precio_metro_cuadrado(dptos)\n",
    "categoria = separar_25_50_25(dptos)\n",
    "dptos = agregar_variable(dptos, categoria, 'tipo_precio', pxm2, sorted_pxm2)"
   ],
   "metadata": {
    "collapsed": false,
    "pycharm": {
     "name": "#%%\n"
    }
   }
  },
  {
   "cell_type": "markdown",
   "source": [
    "##### PH"
   ],
   "metadata": {
    "collapsed": false,
    "pycharm": {
     "name": "#%% md\n"
    }
   }
  },
  {
   "cell_type": "code",
   "execution_count": null,
   "outputs": [],
   "source": [
    "(pxm2, sorted_pxm2) = precio_metro_cuadrado(phs)\n",
    "categoria = separar_25_50_25(phs)\n",
    "phs = agregar_variable(phs, categoria, 'tipo_precio', pxm2, sorted_pxm2)"
   ],
   "metadata": {
    "collapsed": false,
    "pycharm": {
     "name": "#%%\n"
    }
   }
  },
  {
   "cell_type": "markdown",
   "source": [
    "##### Union de las 3 al dataset"
   ],
   "metadata": {
    "collapsed": false,
    "pycharm": {
     "name": "#%% md\n"
    }
   }
  },
  {
   "cell_type": "code",
   "execution_count": null,
   "outputs": [],
   "source": [
    "nueva_categoria = pd.concat([casas, dptos, phs])\n",
    "ds_train['tipo_precio'] = nueva_categoria['tipo_precio']"
   ],
   "metadata": {
    "collapsed": false,
    "pycharm": {
     "name": "#%%\n"
    }
   }
  },
  {
   "cell_type": "markdown",
   "source": [
    "#### Construccion de la variable en Test"
   ],
   "metadata": {
    "collapsed": false,
    "pycharm": {
     "name": "#%% md\n"
    }
   }
  },
  {
   "cell_type": "code",
   "execution_count": null,
   "outputs": [],
   "source": [
    "ds_test['pxm2'] = ds_test['property_price'] / ds_test['property_surface_total']"
   ],
   "metadata": {
    "collapsed": false,
    "pycharm": {
     "name": "#%%\n"
    }
   }
  },
  {
   "cell_type": "code",
   "execution_count": null,
   "outputs": [],
   "source": [
    "lista_tipo_precio_test = []\n",
    "for registro in ds_test.itertuples():\n",
    "    #print(registro.Index)\n",
    "    if registro.property_type == 'Casa':\n",
    "        if registro.pxm2 < casas[casas['tipo_precio'] == 'Medio'].pxm2.min():\n",
    "            lista_tipo_precio_test.append('Bajo')\n",
    "        elif registro.pxm2 > casas[casas['tipo_precio'] == 'Medio'].pxm2.max():\n",
    "            lista_tipo_precio_test.append('Alto')\n",
    "        else:\n",
    "            lista_tipo_precio_test.append('Medio')\n",
    "    elif registro.property_type == 'Departamento':\n",
    "        if registro.pxm2 < dptos[dptos['tipo_precio'] == 'Medio'].pxm2.min():\n",
    "            lista_tipo_precio_test.append('Bajo')\n",
    "        elif registro.pxm2 > dptos[dptos['tipo_precio'] == 'Medio'].pxm2.max():\n",
    "            lista_tipo_precio_test.append('Alto')\n",
    "        else:\n",
    "            lista_tipo_precio_test.append('Medio')\n",
    "    elif registro.property_type == 'PH':\n",
    "        if registro.pxm2 < phs[phs['tipo_precio'] == 'Medio'].pxm2.min():\n",
    "            lista_tipo_precio_test.append('Bajo')\n",
    "        elif registro.pxm2 > phs[phs['tipo_precio'] == 'Medio'].pxm2.max():\n",
    "            lista_tipo_precio_test.append('Alto')\n",
    "        else:\n",
    "            lista_tipo_precio_test.append('Medio')\n",
    "\n",
    "\n"
   ],
   "metadata": {
    "collapsed": false,
    "pycharm": {
     "name": "#%%\n"
    }
   }
  },
  {
   "cell_type": "code",
   "execution_count": null,
   "outputs": [],
   "source": [
    "ds_test['tipo_precio'] = pd.Series(data=lista_tipo_precio_test, name='tipo_precio', index=ds_test.index)"
   ],
   "metadata": {
    "collapsed": false,
    "pycharm": {
     "name": "#%%\n"
    }
   }
  },
  {
   "cell_type": "markdown",
   "source": [
    "### Exportamos datasets"
   ],
   "metadata": {
    "collapsed": false,
    "pycharm": {
     "name": "#%% md\n"
    }
   }
  },
  {
   "cell_type": "code",
   "execution_count": null,
   "outputs": [],
   "source": [
    "ds_train.head()"
   ],
   "metadata": {
    "collapsed": false,
    "pycharm": {
     "name": "#%%\n"
    }
   }
  },
  {
   "cell_type": "code",
   "execution_count": null,
   "outputs": [],
   "source": [
    "ds_test.head()"
   ],
   "metadata": {
    "collapsed": false,
    "pycharm": {
     "name": "#%%\n"
    }
   }
  },
  {
   "cell_type": "code",
   "execution_count": null,
   "outputs": [],
   "source": [
    "ds_train.to_csv('datasets/tp1-train.csv', index=False)\n",
    "ds_test.to_csv('datasets/tp1-test.csv', index=False)"
   ],
   "metadata": {
    "collapsed": false,
    "pycharm": {
     "name": "#%%\n"
    }
   }
  },
  {
   "cell_type": "markdown",
   "id": "36d66c48",
   "metadata": {
    "pycharm": {
     "name": "#%% md\n"
    }
   },
   "source": [
    "##### Departamentos"
   ]
  },
  {
   "cell_type": "code",
   "execution_count": 674,
   "id": "6f3c29a6",
   "metadata": {
    "pycharm": {
     "name": "#%%\n"
    }
   },
   "outputs": [],
   "source": [
    "(pxm2, sorted_pxm2) = precio_metro_cuadrado(dptos)\n",
    "categoria = separar_25_50_25(dptos)\n",
    "dptos = agregar_variable(dptos, categoria, 'tipo_precio', pxm2, sorted_pxm2)"
   ]
  },
  {
   "cell_type": "markdown",
   "id": "6f4a01ac",
   "metadata": {
    "pycharm": {
     "name": "#%% md\n"
    }
   },
   "source": [
    "##### PH"
   ]
  },
  {
   "cell_type": "code",
   "execution_count": 675,
   "id": "789e3a7c",
   "metadata": {
    "pycharm": {
     "name": "#%%\n"
    }
   },
   "outputs": [],
   "source": [
    "(pxm2, sorted_pxm2) = precio_metro_cuadrado(phs)\n",
    "categoria = separar_25_50_25(phs)\n",
    "phs = agregar_variable(phs, categoria, 'tipo_precio', pxm2, sorted_pxm2)"
   ]
  },
  {
   "cell_type": "markdown",
   "id": "93d09655",
   "metadata": {
    "pycharm": {
     "name": "#%% md\n"
    }
   },
   "source": [
    "##### Union de las 3 al dataset"
   ]
  },
  {
   "cell_type": "code",
   "execution_count": 676,
   "id": "70a55da1",
   "metadata": {
    "pycharm": {
     "name": "#%%\n"
    }
   },
   "outputs": [],
   "source": [
    "nueva_categoria = pd.concat([casas, dptos, phs])\n",
    "ds_train['tipo_precio'] = nueva_categoria['tipo_precio']"
   ]
  },
  {
   "cell_type": "markdown",
   "id": "c0faa5c2",
   "metadata": {
    "pycharm": {
     "name": "#%% md\n"
    }
   },
   "source": [
    "#### Construccion de la variable en Test"
   ]
  },
  {
   "cell_type": "code",
   "execution_count": 677,
   "id": "cc8ecac7",
   "metadata": {
    "pycharm": {
     "name": "#%%\n"
    }
   },
   "outputs": [],
   "source": [
    "ds_test['pxm2'] = ds_test['property_price'] / ds_test['property_surface_total']"
   ]
  },
  {
   "cell_type": "code",
   "execution_count": 678,
   "id": "2828836d",
   "metadata": {
    "pycharm": {
     "name": "#%%\n"
    }
   },
   "outputs": [],
   "source": [
    "lista_tipo_precio_test = []\n",
    "for registro in ds_test.itertuples():\n",
    "    #print(registro.Index)\n",
    "    if registro.property_type == 'Casa':\n",
    "        if registro.pxm2 < casas[casas['tipo_precio'] == 'Medio'].pxm2.min():\n",
    "            lista_tipo_precio_test.append('Bajo')\n",
    "        elif registro.pxm2 > casas[casas['tipo_precio'] == 'Medio'].pxm2.max():\n",
    "            lista_tipo_precio_test.append('Alto')\n",
    "        else:\n",
    "            lista_tipo_precio_test.append('Medio')\n",
    "    elif registro.property_type == 'Departamento':\n",
    "        if registro.pxm2 < dptos[dptos['tipo_precio'] == 'Medio'].pxm2.min():\n",
    "            lista_tipo_precio_test.append('Bajo')\n",
    "        elif registro.pxm2 > dptos[dptos['tipo_precio'] == 'Medio'].pxm2.max():\n",
    "            lista_tipo_precio_test.append('Alto')\n",
    "        else:\n",
    "            lista_tipo_precio_test.append('Medio')\n",
    "    elif registro.property_type == 'PH':\n",
    "        if registro.pxm2 < phs[phs['tipo_precio'] == 'Medio'].pxm2.min():\n",
    "            lista_tipo_precio_test.append('Bajo')\n",
    "        elif registro.pxm2 > phs[phs['tipo_precio'] == 'Medio'].pxm2.max():\n",
    "            lista_tipo_precio_test.append('Alto')\n",
    "        else:\n",
    "            lista_tipo_precio_test.append('Medio')\n",
    "\n",
    "\n"
   ]
  },
  {
   "cell_type": "code",
   "execution_count": 679,
   "id": "e88f6af5",
   "metadata": {
    "pycharm": {
     "name": "#%%\n"
    }
   },
   "outputs": [],
   "source": [
    "ds_test['tipo_precio'] = pd.Series(data=lista_tipo_precio_test, name='tipo_precio', index=ds_test.index)"
   ]
  },
  {
   "cell_type": "markdown",
   "id": "cdfd9f63-954c-41bd-952d-6aa42a5f3ed1",
   "metadata": {
    "pycharm": {
     "name": "#%% md\n"
    }
   },
   "source": [
    "### Exportamos datasets"
   ]
  },
  {
   "cell_type": "code",
   "execution_count": 680,
   "outputs": [
    {
     "data": {
      "text/plain": "                              id  start_date    end_date    latitud  \\\n145922  GaA1Loss98RkxbEZq2wZpQ==  2021-08-30  2022-01-27 -34.551623   \n55605   Tp+fdnNQpNzXUFo7W3q3vA==  2021-01-11  2021-02-11 -34.576289   \n391466  CR+neBgmAEDSo9LxI0x5iw==  2021-04-12  2021-06-05 -34.600150   \n362083  chtUpatpDQQL247Lt+Np2g==  2021-01-16  9999-12-31 -34.641450   \n150041  q6JgVplw0pYiAx/nlX/EVQ==  2021-03-24  2021-06-05 -34.629050   \n\n         longitud       place_l3 property_type  property_rooms  \\\n145922 -58.491771       Saavedra  Departamento             1.0   \n55605  -58.463635  Villa Ortuzar            PH             3.0   \n391466 -58.378244    San Nicolás  Departamento             2.0   \n362083 -58.372804       Barracas  Departamento             4.0   \n150041 -58.468088         Flores          Casa             5.0   \n\n        property_bedrooms  property_surface_total  property_surface_covered  \\\n145922                1.0                    37.0                      33.0   \n55605                 2.0                   144.0                     144.0   \n391466                1.0                    46.0                      41.0   \n362083                3.0                    65.0                      65.0   \n150041                4.0                   215.0                     155.0   \n\n        property_price                                     property_title  \\\n145922         90000.0            Departamento - 1 amb divisible-Saavedra   \n55605         214600.0  Venta PH 3 ambientes patio y gran terraza sin ...   \n391466         63000.0                         Departamento - San Nicolas   \n362083        102000.0                            Departamento - Barracas   \n150041        285000.0  Casa - Excelente propiedas en Flores unica por...   \n\n               pxm2 tipo_precio  \n145922  2432.432432       Medio  \n55605   1490.277778       Medio  \n391466  1369.565217        Bajo  \n362083  1569.230769        Bajo  \n150041  1325.581395       Medio  ",
      "text/html": "<div>\n<style scoped>\n    .dataframe tbody tr th:only-of-type {\n        vertical-align: middle;\n    }\n\n    .dataframe tbody tr th {\n        vertical-align: top;\n    }\n\n    .dataframe thead th {\n        text-align: right;\n    }\n</style>\n<table border=\"1\" class=\"dataframe\">\n  <thead>\n    <tr style=\"text-align: right;\">\n      <th></th>\n      <th>id</th>\n      <th>start_date</th>\n      <th>end_date</th>\n      <th>latitud</th>\n      <th>longitud</th>\n      <th>place_l3</th>\n      <th>property_type</th>\n      <th>property_rooms</th>\n      <th>property_bedrooms</th>\n      <th>property_surface_total</th>\n      <th>property_surface_covered</th>\n      <th>property_price</th>\n      <th>property_title</th>\n      <th>pxm2</th>\n      <th>tipo_precio</th>\n    </tr>\n  </thead>\n  <tbody>\n    <tr>\n      <th>145922</th>\n      <td>GaA1Loss98RkxbEZq2wZpQ==</td>\n      <td>2021-08-30</td>\n      <td>2022-01-27</td>\n      <td>-34.551623</td>\n      <td>-58.491771</td>\n      <td>Saavedra</td>\n      <td>Departamento</td>\n      <td>1.0</td>\n      <td>1.0</td>\n      <td>37.0</td>\n      <td>33.0</td>\n      <td>90000.0</td>\n      <td>Departamento - 1 amb divisible-Saavedra</td>\n      <td>2432.432432</td>\n      <td>Medio</td>\n    </tr>\n    <tr>\n      <th>55605</th>\n      <td>Tp+fdnNQpNzXUFo7W3q3vA==</td>\n      <td>2021-01-11</td>\n      <td>2021-02-11</td>\n      <td>-34.576289</td>\n      <td>-58.463635</td>\n      <td>Villa Ortuzar</td>\n      <td>PH</td>\n      <td>3.0</td>\n      <td>2.0</td>\n      <td>144.0</td>\n      <td>144.0</td>\n      <td>214600.0</td>\n      <td>Venta PH 3 ambientes patio y gran terraza sin ...</td>\n      <td>1490.277778</td>\n      <td>Medio</td>\n    </tr>\n    <tr>\n      <th>391466</th>\n      <td>CR+neBgmAEDSo9LxI0x5iw==</td>\n      <td>2021-04-12</td>\n      <td>2021-06-05</td>\n      <td>-34.600150</td>\n      <td>-58.378244</td>\n      <td>San Nicolás</td>\n      <td>Departamento</td>\n      <td>2.0</td>\n      <td>1.0</td>\n      <td>46.0</td>\n      <td>41.0</td>\n      <td>63000.0</td>\n      <td>Departamento - San Nicolas</td>\n      <td>1369.565217</td>\n      <td>Bajo</td>\n    </tr>\n    <tr>\n      <th>362083</th>\n      <td>chtUpatpDQQL247Lt+Np2g==</td>\n      <td>2021-01-16</td>\n      <td>9999-12-31</td>\n      <td>-34.641450</td>\n      <td>-58.372804</td>\n      <td>Barracas</td>\n      <td>Departamento</td>\n      <td>4.0</td>\n      <td>3.0</td>\n      <td>65.0</td>\n      <td>65.0</td>\n      <td>102000.0</td>\n      <td>Departamento - Barracas</td>\n      <td>1569.230769</td>\n      <td>Bajo</td>\n    </tr>\n    <tr>\n      <th>150041</th>\n      <td>q6JgVplw0pYiAx/nlX/EVQ==</td>\n      <td>2021-03-24</td>\n      <td>2021-06-05</td>\n      <td>-34.629050</td>\n      <td>-58.468088</td>\n      <td>Flores</td>\n      <td>Casa</td>\n      <td>5.0</td>\n      <td>4.0</td>\n      <td>215.0</td>\n      <td>155.0</td>\n      <td>285000.0</td>\n      <td>Casa - Excelente propiedas en Flores unica por...</td>\n      <td>1325.581395</td>\n      <td>Medio</td>\n    </tr>\n  </tbody>\n</table>\n</div>"
     },
     "execution_count": 680,
     "metadata": {},
     "output_type": "execute_result"
    }
   ],
   "source": [
    "ds_train.head()"
   ],
   "metadata": {
    "collapsed": false,
    "pycharm": {
     "name": "#%%\n"
    }
   }
  },
  {
   "cell_type": "code",
   "execution_count": 681,
   "outputs": [
    {
     "data": {
      "text/plain": "                              id  start_date    end_date    latitud  \\\n442326  GrZ64pCxiOhtCZq4KgqxoQ==  2021-05-07  2021-05-08 -34.565080   \n373038  OHosCWo/KF1eK/6CmBdUQw==  2021-08-24  2021-08-24 -34.593059   \n334972  Y8K7ZUBw9NZCyJoQ3p5/ww==  2021-07-21  2021-11-28 -34.563755   \n83832   /G46ns24536LY6XTnM7F3Q==  2021-02-05  2021-02-05 -34.590534   \n165039  bjEF6kjPBNijD/SWCGXs1Q==  2021-01-21  2021-03-17 -34.609729   \n\n         longitud      place_l3 property_type  property_rooms  \\\n442326 -58.464190      Belgrano  Departamento             2.0   \n373038 -58.406758  Barrio Norte  Departamento             3.0   \n334972 -58.439019       Palermo            PH             2.0   \n83832  -58.411562       Palermo  Departamento             3.0   \n165039 -58.421587       Almagro  Departamento             1.0   \n\n        property_bedrooms  property_surface_total  property_surface_covered  \\\n442326                1.0                    48.0                      37.0   \n373038                2.0                   122.0                      97.0   \n334972                1.0                    44.0                      35.0   \n83832                 2.0                   106.0                      93.0   \n165039                1.0                    25.0                      25.0   \n\n        property_price                                     property_title  \\\n442326        120000.0          Loft de dos ambientes con balcón y patio!   \n373038        295000.0  DEPARTAMENTO 3 AMB C/DEPENDENCIA, PATIO Y COCHERA   \n334972         95000.0      LACROZE 1700 - PH EN VENTA 2 AMB - A RECICLAR   \n83832         235000.0  Departamento 3 Ambientes con dependencia, baño...   \n165039         50000.0                     BME. MITRE Y MEDRANO - Almagro   \n\n               pxm2 tipo_precio  \n442326  2500.000000       Medio  \n373038  2418.032787       Medio  \n334972  2159.090909        Alto  \n83832   2216.981132       Medio  \n165039  2000.000000       Medio  ",
      "text/html": "<div>\n<style scoped>\n    .dataframe tbody tr th:only-of-type {\n        vertical-align: middle;\n    }\n\n    .dataframe tbody tr th {\n        vertical-align: top;\n    }\n\n    .dataframe thead th {\n        text-align: right;\n    }\n</style>\n<table border=\"1\" class=\"dataframe\">\n  <thead>\n    <tr style=\"text-align: right;\">\n      <th></th>\n      <th>id</th>\n      <th>start_date</th>\n      <th>end_date</th>\n      <th>latitud</th>\n      <th>longitud</th>\n      <th>place_l3</th>\n      <th>property_type</th>\n      <th>property_rooms</th>\n      <th>property_bedrooms</th>\n      <th>property_surface_total</th>\n      <th>property_surface_covered</th>\n      <th>property_price</th>\n      <th>property_title</th>\n      <th>pxm2</th>\n      <th>tipo_precio</th>\n    </tr>\n  </thead>\n  <tbody>\n    <tr>\n      <th>442326</th>\n      <td>GrZ64pCxiOhtCZq4KgqxoQ==</td>\n      <td>2021-05-07</td>\n      <td>2021-05-08</td>\n      <td>-34.565080</td>\n      <td>-58.464190</td>\n      <td>Belgrano</td>\n      <td>Departamento</td>\n      <td>2.0</td>\n      <td>1.0</td>\n      <td>48.0</td>\n      <td>37.0</td>\n      <td>120000.0</td>\n      <td>Loft de dos ambientes con balcón y patio!</td>\n      <td>2500.000000</td>\n      <td>Medio</td>\n    </tr>\n    <tr>\n      <th>373038</th>\n      <td>OHosCWo/KF1eK/6CmBdUQw==</td>\n      <td>2021-08-24</td>\n      <td>2021-08-24</td>\n      <td>-34.593059</td>\n      <td>-58.406758</td>\n      <td>Barrio Norte</td>\n      <td>Departamento</td>\n      <td>3.0</td>\n      <td>2.0</td>\n      <td>122.0</td>\n      <td>97.0</td>\n      <td>295000.0</td>\n      <td>DEPARTAMENTO 3 AMB C/DEPENDENCIA, PATIO Y COCHERA</td>\n      <td>2418.032787</td>\n      <td>Medio</td>\n    </tr>\n    <tr>\n      <th>334972</th>\n      <td>Y8K7ZUBw9NZCyJoQ3p5/ww==</td>\n      <td>2021-07-21</td>\n      <td>2021-11-28</td>\n      <td>-34.563755</td>\n      <td>-58.439019</td>\n      <td>Palermo</td>\n      <td>PH</td>\n      <td>2.0</td>\n      <td>1.0</td>\n      <td>44.0</td>\n      <td>35.0</td>\n      <td>95000.0</td>\n      <td>LACROZE 1700 - PH EN VENTA 2 AMB - A RECICLAR</td>\n      <td>2159.090909</td>\n      <td>Alto</td>\n    </tr>\n    <tr>\n      <th>83832</th>\n      <td>/G46ns24536LY6XTnM7F3Q==</td>\n      <td>2021-02-05</td>\n      <td>2021-02-05</td>\n      <td>-34.590534</td>\n      <td>-58.411562</td>\n      <td>Palermo</td>\n      <td>Departamento</td>\n      <td>3.0</td>\n      <td>2.0</td>\n      <td>106.0</td>\n      <td>93.0</td>\n      <td>235000.0</td>\n      <td>Departamento 3 Ambientes con dependencia, baño...</td>\n      <td>2216.981132</td>\n      <td>Medio</td>\n    </tr>\n    <tr>\n      <th>165039</th>\n      <td>bjEF6kjPBNijD/SWCGXs1Q==</td>\n      <td>2021-01-21</td>\n      <td>2021-03-17</td>\n      <td>-34.609729</td>\n      <td>-58.421587</td>\n      <td>Almagro</td>\n      <td>Departamento</td>\n      <td>1.0</td>\n      <td>1.0</td>\n      <td>25.0</td>\n      <td>25.0</td>\n      <td>50000.0</td>\n      <td>BME. MITRE Y MEDRANO - Almagro</td>\n      <td>2000.000000</td>\n      <td>Medio</td>\n    </tr>\n  </tbody>\n</table>\n</div>"
     },
     "execution_count": 681,
     "metadata": {},
     "output_type": "execute_result"
    }
   ],
   "source": [
    "ds_test.head()"
   ],
   "metadata": {
    "collapsed": false,
    "pycharm": {
     "name": "#%%\n"
    }
   }
  },
  {
   "cell_type": "code",
   "execution_count": 682,
   "id": "9009bdb0-4b80-4513-b6c7-c40beecec226",
   "metadata": {
    "pycharm": {
     "name": "#%%\n"
    }
   },
   "outputs": [],
   "source": [
    "ds_train.to_csv('datasets/tp1-train.csv', index=False)\n",
    "ds_test.to_csv('datasets/tp1-test.csv', index=False)"
   ]
  }
 ],
 "metadata": {
  "kernelspec": {
   "display_name": "Python 3 (ipykernel)",
   "language": "python",
   "name": "python3"
  },
  "language_info": {
   "codemirror_mode": {
    "name": "ipython",
    "version": 3
   },
   "file_extension": ".py",
   "mimetype": "text/x-python",
   "name": "python",
   "nbconvert_exporter": "python",
   "pygments_lexer": "ipython3",
   "version": "3.10.6"
  }
 },
 "nbformat": 4,
 "nbformat_minor": 5
}